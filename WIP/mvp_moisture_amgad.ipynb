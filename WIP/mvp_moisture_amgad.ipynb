{
 "cells": [
  {
   "cell_type": "markdown",
   "metadata": {},
   "source": [
    "# Global Minimial Viable Products (1)\n",
    "This is only for CONUS currently as the potential runoff product is to large to be an asset. \n",
    "\n",
    "Combine:\n",
    "* SMAP available porosity\n",
    "* ERA5-Merit potential runoff\n",
    "* MERIT terrain slope\n",
    "* MERIT upstream contributing area (needs to be less than some threshold)\n",
    "* (ERA5 Moisture values)\n",
    "* USDA soil texture class\n",
    "\n",
    "In to various \"products\"."
   ]
  },
  {
   "cell_type": "code",
   "execution_count": 1,
   "metadata": {},
   "outputs": [
    {
     "data": {
      "text/html": [
       "\n",
       "    <div class=\"bk-root\">\n",
       "        <a href=\"https://bokeh.org\" target=\"_blank\" class=\"bk-logo bk-logo-small bk-logo-notebook\"></a>\n",
       "        <span id=\"1001\">Loading BokehJS ...</span>\n",
       "    </div>"
      ]
     },
     "metadata": {},
     "output_type": "display_data"
    },
    {
     "data": {
      "application/javascript": [
       "\n",
       "(function(root) {\n",
       "  function now() {\n",
       "    return new Date();\n",
       "  }\n",
       "\n",
       "  var force = true;\n",
       "\n",
       "  if (typeof root._bokeh_onload_callbacks === \"undefined\" || force === true) {\n",
       "    root._bokeh_onload_callbacks = [];\n",
       "    root._bokeh_is_loading = undefined;\n",
       "  }\n",
       "\n",
       "  var JS_MIME_TYPE = 'application/javascript';\n",
       "  var HTML_MIME_TYPE = 'text/html';\n",
       "  var EXEC_MIME_TYPE = 'application/vnd.bokehjs_exec.v0+json';\n",
       "  var CLASS_NAME = 'output_bokeh rendered_html';\n",
       "\n",
       "  /**\n",
       "   * Render data to the DOM node\n",
       "   */\n",
       "  function render(props, node) {\n",
       "    var script = document.createElement(\"script\");\n",
       "    node.appendChild(script);\n",
       "  }\n",
       "\n",
       "  /**\n",
       "   * Handle when an output is cleared or removed\n",
       "   */\n",
       "  function handleClearOutput(event, handle) {\n",
       "    var cell = handle.cell;\n",
       "\n",
       "    var id = cell.output_area._bokeh_element_id;\n",
       "    var server_id = cell.output_area._bokeh_server_id;\n",
       "    // Clean up Bokeh references\n",
       "    if (id != null && id in Bokeh.index) {\n",
       "      Bokeh.index[id].model.document.clear();\n",
       "      delete Bokeh.index[id];\n",
       "    }\n",
       "\n",
       "    if (server_id !== undefined) {\n",
       "      // Clean up Bokeh references\n",
       "      var cmd = \"from bokeh.io.state import curstate; print(curstate().uuid_to_server['\" + server_id + \"'].get_sessions()[0].document.roots[0]._id)\";\n",
       "      cell.notebook.kernel.execute(cmd, {\n",
       "        iopub: {\n",
       "          output: function(msg) {\n",
       "            var id = msg.content.text.trim();\n",
       "            if (id in Bokeh.index) {\n",
       "              Bokeh.index[id].model.document.clear();\n",
       "              delete Bokeh.index[id];\n",
       "            }\n",
       "          }\n",
       "        }\n",
       "      });\n",
       "      // Destroy server and session\n",
       "      var cmd = \"import bokeh.io.notebook as ion; ion.destroy_server('\" + server_id + \"')\";\n",
       "      cell.notebook.kernel.execute(cmd);\n",
       "    }\n",
       "  }\n",
       "\n",
       "  /**\n",
       "   * Handle when a new output is added\n",
       "   */\n",
       "  function handleAddOutput(event, handle) {\n",
       "    var output_area = handle.output_area;\n",
       "    var output = handle.output;\n",
       "\n",
       "    // limit handleAddOutput to display_data with EXEC_MIME_TYPE content only\n",
       "    if ((output.output_type != \"display_data\") || (!output.data.hasOwnProperty(EXEC_MIME_TYPE))) {\n",
       "      return\n",
       "    }\n",
       "\n",
       "    var toinsert = output_area.element.find(\".\" + CLASS_NAME.split(' ')[0]);\n",
       "\n",
       "    if (output.metadata[EXEC_MIME_TYPE][\"id\"] !== undefined) {\n",
       "      toinsert[toinsert.length - 1].firstChild.textContent = output.data[JS_MIME_TYPE];\n",
       "      // store reference to embed id on output_area\n",
       "      output_area._bokeh_element_id = output.metadata[EXEC_MIME_TYPE][\"id\"];\n",
       "    }\n",
       "    if (output.metadata[EXEC_MIME_TYPE][\"server_id\"] !== undefined) {\n",
       "      var bk_div = document.createElement(\"div\");\n",
       "      bk_div.innerHTML = output.data[HTML_MIME_TYPE];\n",
       "      var script_attrs = bk_div.children[0].attributes;\n",
       "      for (var i = 0; i < script_attrs.length; i++) {\n",
       "        toinsert[toinsert.length - 1].firstChild.setAttribute(script_attrs[i].name, script_attrs[i].value);\n",
       "      }\n",
       "      // store reference to server id on output_area\n",
       "      output_area._bokeh_server_id = output.metadata[EXEC_MIME_TYPE][\"server_id\"];\n",
       "    }\n",
       "  }\n",
       "\n",
       "  function register_renderer(events, OutputArea) {\n",
       "\n",
       "    function append_mime(data, metadata, element) {\n",
       "      // create a DOM node to render to\n",
       "      var toinsert = this.create_output_subarea(\n",
       "        metadata,\n",
       "        CLASS_NAME,\n",
       "        EXEC_MIME_TYPE\n",
       "      );\n",
       "      this.keyboard_manager.register_events(toinsert);\n",
       "      // Render to node\n",
       "      var props = {data: data, metadata: metadata[EXEC_MIME_TYPE]};\n",
       "      render(props, toinsert[toinsert.length - 1]);\n",
       "      element.append(toinsert);\n",
       "      return toinsert\n",
       "    }\n",
       "\n",
       "    /* Handle when an output is cleared or removed */\n",
       "    events.on('clear_output.CodeCell', handleClearOutput);\n",
       "    events.on('delete.Cell', handleClearOutput);\n",
       "\n",
       "    /* Handle when a new output is added */\n",
       "    events.on('output_added.OutputArea', handleAddOutput);\n",
       "\n",
       "    /**\n",
       "     * Register the mime type and append_mime function with output_area\n",
       "     */\n",
       "    OutputArea.prototype.register_mime_type(EXEC_MIME_TYPE, append_mime, {\n",
       "      /* Is output safe? */\n",
       "      safe: true,\n",
       "      /* Index of renderer in `output_area.display_order` */\n",
       "      index: 0\n",
       "    });\n",
       "  }\n",
       "\n",
       "  // register the mime type if in Jupyter Notebook environment and previously unregistered\n",
       "  if (root.Jupyter !== undefined) {\n",
       "    var events = require('base/js/events');\n",
       "    var OutputArea = require('notebook/js/outputarea').OutputArea;\n",
       "\n",
       "    if (OutputArea.prototype.mime_types().indexOf(EXEC_MIME_TYPE) == -1) {\n",
       "      register_renderer(events, OutputArea);\n",
       "    }\n",
       "  }\n",
       "\n",
       "  \n",
       "  if (typeof (root._bokeh_timeout) === \"undefined\" || force === true) {\n",
       "    root._bokeh_timeout = Date.now() + 5000;\n",
       "    root._bokeh_failed_load = false;\n",
       "  }\n",
       "\n",
       "  var NB_LOAD_WARNING = {'data': {'text/html':\n",
       "     \"<div style='background-color: #fdd'>\\n\"+\n",
       "     \"<p>\\n\"+\n",
       "     \"BokehJS does not appear to have successfully loaded. If loading BokehJS from CDN, this \\n\"+\n",
       "     \"may be due to a slow or bad network connection. Possible fixes:\\n\"+\n",
       "     \"</p>\\n\"+\n",
       "     \"<ul>\\n\"+\n",
       "     \"<li>re-rerun `output_notebook()` to attempt to load from CDN again, or</li>\\n\"+\n",
       "     \"<li>use INLINE resources instead, as so:</li>\\n\"+\n",
       "     \"</ul>\\n\"+\n",
       "     \"<code>\\n\"+\n",
       "     \"from bokeh.resources import INLINE\\n\"+\n",
       "     \"output_notebook(resources=INLINE)\\n\"+\n",
       "     \"</code>\\n\"+\n",
       "     \"</div>\"}};\n",
       "\n",
       "  function display_loaded() {\n",
       "    var el = document.getElementById(\"1001\");\n",
       "    if (el != null) {\n",
       "      el.textContent = \"BokehJS is loading...\";\n",
       "    }\n",
       "    if (root.Bokeh !== undefined) {\n",
       "      if (el != null) {\n",
       "        el.textContent = \"BokehJS \" + root.Bokeh.version + \" successfully loaded.\";\n",
       "      }\n",
       "    } else if (Date.now() < root._bokeh_timeout) {\n",
       "      setTimeout(display_loaded, 100)\n",
       "    }\n",
       "  }\n",
       "\n",
       "\n",
       "  function run_callbacks() {\n",
       "    try {\n",
       "      root._bokeh_onload_callbacks.forEach(function(callback) {\n",
       "        if (callback != null)\n",
       "          callback();\n",
       "      });\n",
       "    } finally {\n",
       "      delete root._bokeh_onload_callbacks\n",
       "    }\n",
       "    console.debug(\"Bokeh: all callbacks have finished\");\n",
       "  }\n",
       "\n",
       "  function load_libs(css_urls, js_urls, callback) {\n",
       "    if (css_urls == null) css_urls = [];\n",
       "    if (js_urls == null) js_urls = [];\n",
       "\n",
       "    root._bokeh_onload_callbacks.push(callback);\n",
       "    if (root._bokeh_is_loading > 0) {\n",
       "      console.debug(\"Bokeh: BokehJS is being loaded, scheduling callback at\", now());\n",
       "      return null;\n",
       "    }\n",
       "    if (js_urls == null || js_urls.length === 0) {\n",
       "      run_callbacks();\n",
       "      return null;\n",
       "    }\n",
       "    console.debug(\"Bokeh: BokehJS not loaded, scheduling load and callback at\", now());\n",
       "    root._bokeh_is_loading = css_urls.length + js_urls.length;\n",
       "\n",
       "    function on_load() {\n",
       "      root._bokeh_is_loading--;\n",
       "      if (root._bokeh_is_loading === 0) {\n",
       "        console.debug(\"Bokeh: all BokehJS libraries/stylesheets loaded\");\n",
       "        run_callbacks()\n",
       "      }\n",
       "    }\n",
       "\n",
       "    function on_error() {\n",
       "      console.error(\"failed to load \" + url);\n",
       "    }\n",
       "\n",
       "    for (var i = 0; i < css_urls.length; i++) {\n",
       "      var url = css_urls[i];\n",
       "      const element = document.createElement(\"link\");\n",
       "      element.onload = on_load;\n",
       "      element.onerror = on_error;\n",
       "      element.rel = \"stylesheet\";\n",
       "      element.type = \"text/css\";\n",
       "      element.href = url;\n",
       "      console.debug(\"Bokeh: injecting link tag for BokehJS stylesheet: \", url);\n",
       "      document.body.appendChild(element);\n",
       "    }\n",
       "\n",
       "    for (var i = 0; i < js_urls.length; i++) {\n",
       "      var url = js_urls[i];\n",
       "      var element = document.createElement('script');\n",
       "      element.onload = on_load;\n",
       "      element.onerror = on_error;\n",
       "      element.async = false;\n",
       "      element.src = url;\n",
       "      console.debug(\"Bokeh: injecting script tag for BokehJS library: \", url);\n",
       "      document.head.appendChild(element);\n",
       "    }\n",
       "  };var element = document.getElementById(\"1001\");\n",
       "  if (element == null) {\n",
       "    console.error(\"Bokeh: ERROR: autoload.js configured with elementid '1001' but no matching script tag was found. \")\n",
       "    return false;\n",
       "  }\n",
       "\n",
       "  function inject_raw_css(css) {\n",
       "    const element = document.createElement(\"style\");\n",
       "    element.appendChild(document.createTextNode(css));\n",
       "    document.body.appendChild(element);\n",
       "  }\n",
       "\n",
       "  \n",
       "  var js_urls = [\"https://cdn.pydata.org/bokeh/release/bokeh-1.4.0.min.js\", \"https://cdn.pydata.org/bokeh/release/bokeh-widgets-1.4.0.min.js\", \"https://cdn.pydata.org/bokeh/release/bokeh-tables-1.4.0.min.js\", \"https://cdn.pydata.org/bokeh/release/bokeh-gl-1.4.0.min.js\"];\n",
       "  var css_urls = [];\n",
       "  \n",
       "\n",
       "  var inline_js = [\n",
       "    function(Bokeh) {\n",
       "      Bokeh.set_log_level(\"info\");\n",
       "    },\n",
       "    function(Bokeh) {\n",
       "    \n",
       "    \n",
       "    }\n",
       "  ];\n",
       "\n",
       "  function run_inline_js() {\n",
       "    \n",
       "    if (root.Bokeh !== undefined || force === true) {\n",
       "      \n",
       "    for (var i = 0; i < inline_js.length; i++) {\n",
       "      inline_js[i].call(root, root.Bokeh);\n",
       "    }\n",
       "    if (force === true) {\n",
       "        display_loaded();\n",
       "      }} else if (Date.now() < root._bokeh_timeout) {\n",
       "      setTimeout(run_inline_js, 100);\n",
       "    } else if (!root._bokeh_failed_load) {\n",
       "      console.log(\"Bokeh: BokehJS failed to load within specified timeout.\");\n",
       "      root._bokeh_failed_load = true;\n",
       "    } else if (force !== true) {\n",
       "      var cell = $(document.getElementById(\"1001\")).parents('.cell').data().cell;\n",
       "      cell.output_area.append_execute_result(NB_LOAD_WARNING)\n",
       "    }\n",
       "\n",
       "  }\n",
       "\n",
       "  if (root._bokeh_is_loading === 0) {\n",
       "    console.debug(\"Bokeh: BokehJS loaded, going straight to plotting\");\n",
       "    run_inline_js();\n",
       "  } else {\n",
       "    load_libs(css_urls, js_urls, function() {\n",
       "      console.debug(\"Bokeh: BokehJS plotting callback run at\", now());\n",
       "      run_inline_js();\n",
       "    });\n",
       "  }\n",
       "}(window));"
      ],
      "application/vnd.bokehjs_load.v0+json": "\n(function(root) {\n  function now() {\n    return new Date();\n  }\n\n  var force = true;\n\n  if (typeof root._bokeh_onload_callbacks === \"undefined\" || force === true) {\n    root._bokeh_onload_callbacks = [];\n    root._bokeh_is_loading = undefined;\n  }\n\n  \n\n  \n  if (typeof (root._bokeh_timeout) === \"undefined\" || force === true) {\n    root._bokeh_timeout = Date.now() + 5000;\n    root._bokeh_failed_load = false;\n  }\n\n  var NB_LOAD_WARNING = {'data': {'text/html':\n     \"<div style='background-color: #fdd'>\\n\"+\n     \"<p>\\n\"+\n     \"BokehJS does not appear to have successfully loaded. If loading BokehJS from CDN, this \\n\"+\n     \"may be due to a slow or bad network connection. Possible fixes:\\n\"+\n     \"</p>\\n\"+\n     \"<ul>\\n\"+\n     \"<li>re-rerun `output_notebook()` to attempt to load from CDN again, or</li>\\n\"+\n     \"<li>use INLINE resources instead, as so:</li>\\n\"+\n     \"</ul>\\n\"+\n     \"<code>\\n\"+\n     \"from bokeh.resources import INLINE\\n\"+\n     \"output_notebook(resources=INLINE)\\n\"+\n     \"</code>\\n\"+\n     \"</div>\"}};\n\n  function display_loaded() {\n    var el = document.getElementById(\"1001\");\n    if (el != null) {\n      el.textContent = \"BokehJS is loading...\";\n    }\n    if (root.Bokeh !== undefined) {\n      if (el != null) {\n        el.textContent = \"BokehJS \" + root.Bokeh.version + \" successfully loaded.\";\n      }\n    } else if (Date.now() < root._bokeh_timeout) {\n      setTimeout(display_loaded, 100)\n    }\n  }\n\n\n  function run_callbacks() {\n    try {\n      root._bokeh_onload_callbacks.forEach(function(callback) {\n        if (callback != null)\n          callback();\n      });\n    } finally {\n      delete root._bokeh_onload_callbacks\n    }\n    console.debug(\"Bokeh: all callbacks have finished\");\n  }\n\n  function load_libs(css_urls, js_urls, callback) {\n    if (css_urls == null) css_urls = [];\n    if (js_urls == null) js_urls = [];\n\n    root._bokeh_onload_callbacks.push(callback);\n    if (root._bokeh_is_loading > 0) {\n      console.debug(\"Bokeh: BokehJS is being loaded, scheduling callback at\", now());\n      return null;\n    }\n    if (js_urls == null || js_urls.length === 0) {\n      run_callbacks();\n      return null;\n    }\n    console.debug(\"Bokeh: BokehJS not loaded, scheduling load and callback at\", now());\n    root._bokeh_is_loading = css_urls.length + js_urls.length;\n\n    function on_load() {\n      root._bokeh_is_loading--;\n      if (root._bokeh_is_loading === 0) {\n        console.debug(\"Bokeh: all BokehJS libraries/stylesheets loaded\");\n        run_callbacks()\n      }\n    }\n\n    function on_error() {\n      console.error(\"failed to load \" + url);\n    }\n\n    for (var i = 0; i < css_urls.length; i++) {\n      var url = css_urls[i];\n      const element = document.createElement(\"link\");\n      element.onload = on_load;\n      element.onerror = on_error;\n      element.rel = \"stylesheet\";\n      element.type = \"text/css\";\n      element.href = url;\n      console.debug(\"Bokeh: injecting link tag for BokehJS stylesheet: \", url);\n      document.body.appendChild(element);\n    }\n\n    for (var i = 0; i < js_urls.length; i++) {\n      var url = js_urls[i];\n      var element = document.createElement('script');\n      element.onload = on_load;\n      element.onerror = on_error;\n      element.async = false;\n      element.src = url;\n      console.debug(\"Bokeh: injecting script tag for BokehJS library: \", url);\n      document.head.appendChild(element);\n    }\n  };var element = document.getElementById(\"1001\");\n  if (element == null) {\n    console.error(\"Bokeh: ERROR: autoload.js configured with elementid '1001' but no matching script tag was found. \")\n    return false;\n  }\n\n  function inject_raw_css(css) {\n    const element = document.createElement(\"style\");\n    element.appendChild(document.createTextNode(css));\n    document.body.appendChild(element);\n  }\n\n  \n  var js_urls = [\"https://cdn.pydata.org/bokeh/release/bokeh-1.4.0.min.js\", \"https://cdn.pydata.org/bokeh/release/bokeh-widgets-1.4.0.min.js\", \"https://cdn.pydata.org/bokeh/release/bokeh-tables-1.4.0.min.js\", \"https://cdn.pydata.org/bokeh/release/bokeh-gl-1.4.0.min.js\"];\n  var css_urls = [];\n  \n\n  var inline_js = [\n    function(Bokeh) {\n      Bokeh.set_log_level(\"info\");\n    },\n    function(Bokeh) {\n    \n    \n    }\n  ];\n\n  function run_inline_js() {\n    \n    if (root.Bokeh !== undefined || force === true) {\n      \n    for (var i = 0; i < inline_js.length; i++) {\n      inline_js[i].call(root, root.Bokeh);\n    }\n    if (force === true) {\n        display_loaded();\n      }} else if (Date.now() < root._bokeh_timeout) {\n      setTimeout(run_inline_js, 100);\n    } else if (!root._bokeh_failed_load) {\n      console.log(\"Bokeh: BokehJS failed to load within specified timeout.\");\n      root._bokeh_failed_load = true;\n    } else if (force !== true) {\n      var cell = $(document.getElementById(\"1001\")).parents('.cell').data().cell;\n      cell.output_area.append_execute_result(NB_LOAD_WARNING)\n    }\n\n  }\n\n  if (root._bokeh_is_loading === 0) {\n    console.debug(\"Bokeh: BokehJS loaded, going straight to plotting\");\n    run_inline_js();\n  } else {\n    load_libs(css_urls, js_urls, function() {\n      console.debug(\"Bokeh: BokehJS plotting callback run at\", now());\n      run_inline_js();\n    });\n  }\n}(window));"
     },
     "metadata": {},
     "output_type": "display_data"
    }
   ],
   "source": [
    "import ee\n",
    "import numpy as np\n",
    "\n",
    "import sys\n",
    "sys.path.insert(1, '../datasets/SMAP-USDA/')  # until we package this\n",
    "import visualize as vis\n",
    "import water_common as common\n",
    "import normalize as norm\n",
    "from statistics import mean\n",
    "import folium\n",
    "from folium import plugins"
   ]
  },
  {
   "cell_type": "code",
   "execution_count": 2,
   "metadata": {},
   "outputs": [],
   "source": [
    "#ee.Authenticate()\n",
    "ee.Initialize()"
   ]
  },
  {
   "cell_type": "code",
   "execution_count": 3,
   "metadata": {},
   "outputs": [],
   "source": [
    "# Some common parameters\n",
    "month_names = [\n",
    "    'Jan', 'Feb', 'Mar', 'Apr', 'May', 'Jun', \n",
    "    'Jul', 'Aug', 'Sep', 'Oct', 'Nov', 'Dec']\n",
    "days_per_month = [\n",
    "    31, 28, 31, 30, 31, 30,\n",
    "    31, 31, 30, 31, 30, 31] \n",
    "seconds_per_month = [ dd* 24*60*60 for dd in days_per_month ]\n",
    "month = 4\n",
    "month_name = month_names[month - 1]\n",
    "\n",
    "bbox = common.bboxes()['conus']"
   ]
  },
  {
   "cell_type": "markdown",
   "metadata": {},
   "source": [
    "# SMAP-USDA Available Porosity\n",
    "More available porosity is better."
   ]
  },
  {
   "cell_type": "code",
   "execution_count": 4,
   "metadata": {},
   "outputs": [],
   "source": [
    "# Get a single example image \n",
    "smap_usda_clim = ee.ImageCollection('users/jamesmcc/smap_usda_climatology')\n",
    "\n",
    "avail_porosity_img = (\n",
    "    smap_usda_clim\n",
    "    .filter(ee.Filter.eq('month', month))\n",
    "    .filter(ee.Filter.eq('band', 'avail_porosity_mm')).first())\n",
    "\n",
    "avail_porosity_img_scaled = norm.img_scale(\n",
    "    avail_porosity_img, area_of_interest=common.bboxes()['conus'])"
   ]
  },
  {
   "cell_type": "code",
   "execution_count": 5,
   "metadata": {},
   "outputs": [],
   "source": [
    "# smap_range = norm.img_range(img, area_of_interest=common.bboxes()['conus'])\n",
    "# smap_range"
   ]
  },
  {
   "cell_type": "code",
   "execution_count": null,
   "metadata": {},
   "outputs": [],
   "source": []
  },
  {
   "cell_type": "code",
   "execution_count": 6,
   "metadata": {},
   "outputs": [],
   "source": [
    "smap_missing = -99999\n",
    "\n",
    "# units: mm\n",
    "avail_porosity_data = np.array(\n",
    "        avail_porosity_img\n",
    "        .sampleRectangle(bbox, ['avail_porosity_mm'], smap_missing)\n",
    "        .get('avail_porosity_mm')\n",
    "        .getInfo())\n",
    "avail_porosity_data_mask = np.ma.masked_values(avail_porosity_data, smap_missing)\n",
    "avail_porosity_data_drop = avail_porosity_data_mask[~avail_porosity_data_mask.mask]\n",
    "\n",
    "# Scaled\n",
    "avail_porosity_scaled_data = np.array(\n",
    "        avail_porosity_img_scaled\n",
    "        .sampleRectangle(bbox, ['avail_porosity_mm'], smap_missing)\n",
    "        .get('avail_porosity_mm')\n",
    "        .getInfo())\n",
    "avail_porosity_scaled_data_mask = np.ma.masked_values(avail_porosity_scaled_data, smap_missing)\n",
    "avail_porosity_scaled_data_drop = avail_porosity_scaled_data_mask[~avail_porosity_scaled_data_mask.mask]"
   ]
  },
  {
   "cell_type": "code",
   "execution_count": 7,
   "metadata": {},
   "outputs": [],
   "source": [
    "#print(avail_porosity_data)\n",
    "#avail_porosity_data_mask\n",
    "#avail_porosity_data_drop"
   ]
  },
  {
   "cell_type": "code",
   "execution_count": 8,
   "metadata": {},
   "outputs": [
    {
     "data": {
      "text/html": [
       "\n",
       "\n",
       "\n",
       "\n",
       "\n",
       "\n",
       "  <div class=\"bk-root\" id=\"8aa316ad-eb9c-4fcb-9f0a-c6df7c58d811\" data-root-id=\"1002\"></div>\n"
      ]
     },
     "metadata": {},
     "output_type": "display_data"
    },
    {
     "data": {
      "application/javascript": [
       "(function(root) {\n",
       "  function embed_document(root) {\n",
       "    \n",
       "  var docs_json = {\"78dd8019-3515-4c4b-82bc-6772952a995c\":{\"roots\":{\"references\":[{\"attributes\":{\"background_fill_color\":{\"value\":\"#fafafa\"},\"below\":[{\"id\":\"1013\",\"type\":\"LinearAxis\"}],\"center\":[{\"id\":\"1017\",\"type\":\"Grid\"},{\"id\":\"1022\",\"type\":\"Grid\"},{\"id\":\"1041\",\"type\":\"Legend\"}],\"left\":[{\"id\":\"1018\",\"type\":\"LinearAxis\"}],\"renderers\":[{\"id\":\"1027\",\"type\":\"GlyphRenderer\"},{\"id\":\"1032\",\"type\":\"GlyphRenderer\"},{\"id\":\"1046\",\"type\":\"GlyphRenderer\"}],\"title\":{\"id\":\"1003\",\"type\":\"Title\"},\"toolbar\":{\"id\":\"1023\",\"type\":\"Toolbar\"},\"x_range\":{\"id\":\"1005\",\"type\":\"DataRange1d\"},\"x_scale\":{\"id\":\"1009\",\"type\":\"LinearScale\"},\"y_range\":{\"id\":\"1007\",\"type\":\"DataRange1d\"},\"y_scale\":{\"id\":\"1011\",\"type\":\"LinearScale\"}},\"id\":\"1002\",\"subtype\":\"Figure\",\"type\":\"Plot\"},{\"attributes\":{},\"id\":\"1035\",\"type\":\"BasicTickFormatter\"},{\"attributes\":{\"axis_label\":\"x\",\"formatter\":{\"id\":\"1035\",\"type\":\"BasicTickFormatter\"},\"ticker\":{\"id\":\"1014\",\"type\":\"BasicTicker\"}},\"id\":\"1013\",\"type\":\"LinearAxis\"},{\"attributes\":{\"callback\":null,\"data\":{\"left\":{\"__ndarray__\":\"AAAAAAAAAAAzMzMzMzMPQDMzMzMzMx9AZmZmZmZmJ0AzMzMzMzMvQAAAAAAAgDNAZmZmZmZmN0DNzMzMzEw7QDMzMzMzMz9AzczMzMyMQUAAAAAAAIBDQDMzMzMzc0VAZmZmZmZmR0CZmZmZmVlJQM3MzMzMTEtAAAAAAABATUAzMzMzMzNPQDMzMzMzk1BAzczMzMyMUUBmZmZmZoZSQAAAAAAAgFNAmZmZmZl5VEAzMzMzM3NVQM3MzMzMbFZAZmZmZmZmV0AAAAAAAGBYQJmZmZmZWVlAMzMzMzNTWkDNzMzMzExbQGZmZmZmRlxAAAAAAABAXUCZmZmZmTleQDMzMzMzM19AZmZmZmYWYEAzMzMzM5NgQAAAAAAAEGFAzczMzMyMYUCZmZmZmQliQGZmZmZmhmJAMzMzMzMDY0AAAAAAAIBjQM3MzMzM/GNAmZmZmZl5ZEBmZmZmZvZkQDMzMzMzc2VAAAAAAADwZUDNzMzMzGxmQJmZmZmZ6WZAZmZmZmZmZ0AzMzMzM+NnQA==\",\"dtype\":\"float64\",\"shape\":[50]},\"right\":{\"__ndarray__\":\"MzMzMzMzD0AzMzMzMzMfQGZmZmZmZidAMzMzMzMzL0AAAAAAAIAzQGZmZmZmZjdAzczMzMxMO0AzMzMzMzM/QM3MzMzMjEFAAAAAAACAQ0AzMzMzM3NFQGZmZmZmZkdAmZmZmZlZSUDNzMzMzExLQAAAAAAAQE1AMzMzMzMzT0AzMzMzM5NQQM3MzMzMjFFAZmZmZmaGUkAAAAAAAIBTQJmZmZmZeVRAMzMzMzNzVUDNzMzMzGxWQGZmZmZmZldAAAAAAABgWECZmZmZmVlZQDMzMzMzU1pAzczMzMxMW0BmZmZmZkZcQAAAAAAAQF1AmZmZmZk5XkAzMzMzMzNfQGZmZmZmFmBAMzMzMzOTYEAAAAAAABBhQM3MzMzMjGFAmZmZmZkJYkBmZmZmZoZiQDMzMzMzA2NAAAAAAACAY0DNzMzMzPxjQJmZmZmZeWRAZmZmZmb2ZEAzMzMzM3NlQAAAAAAA8GVAzczMzMxsZkCZmZmZmelmQGZmZmZmZmdAMzMzMzPjZ0AAAAAAAGBoQA==\",\"dtype\":\"float64\",\"shape\":[50]},\"top\":{\"__ndarray__\":\"H8kSmdFPjT86jNTCNZmXP7O41aei0Jw/zHuX0QYalz9UT5bsmeKBP3ehx6KEXoQ/+Xbh4ubTej9VT5bsmeJxP20UczvN2Hc/mPP4WG/adj8Bd+Hi5tN6P+SxBJSz3XQ/j9lPigDPbT9zLhwKPORwPwqRirFV33M/chRzO83YZz8KkYqxVd9zPwCRirFV32M/OXAQz/fgcj80G0RPvMtvP19PluyZ4mE/cy4cCjzkcD8AkYqxVd9zP+mXW8VE0ms/s9J+dhHcZT/pl1vFRNJrP0A17R0r13g/2rEElLPddD/pl1vFRNJrP4DZT4oAz20/VRtET7zLbz9nFHM7zdhnP4QuHAo85HA/AJGKsVXfYz80G0RPvMtvPwCRirFV32M/lxRzO83YVz+z0n52EdxlP82XW8VE0ms/TU+W7JniYT9nFHM7zdhnP3QbRE+8y08/ZxRzO83YRz9NT5bsmeJhPwCRirFV31M/GlZnAInVaT/g0n52EdxlP2cUczvN2Ec/NBtET7zLLz9nFHM7zdhXPw==\",\"dtype\":\"float64\",\"shape\":[50]}},\"selected\":{\"id\":\"1039\",\"type\":\"Selection\"},\"selection_policy\":{\"id\":\"1040\",\"type\":\"UnionRenderers\"}},\"id\":\"1024\",\"type\":\"ColumnDataSource\"},{\"attributes\":{\"bottom\":{\"value\":0},\"fill_alpha\":{\"value\":0.5},\"fill_color\":{\"value\":\"navy\"},\"left\":{\"field\":\"left\"},\"line_alpha\":{\"value\":0.5},\"line_color\":{\"value\":\"white\"},\"right\":{\"field\":\"right\"},\"top\":{\"field\":\"top\"}},\"id\":\"1025\",\"type\":\"Quad\"},{\"attributes\":{\"source\":{\"id\":\"1024\",\"type\":\"ColumnDataSource\"}},\"id\":\"1028\",\"type\":\"CDSView\"},{\"attributes\":{\"label\":{\"value\":\"CDF\"},\"renderers\":[{\"id\":\"1046\",\"type\":\"GlyphRenderer\"}]},\"id\":\"1057\",\"type\":\"LegendItem\"},{\"attributes\":{\"data_source\":{\"id\":\"1043\",\"type\":\"ColumnDataSource\"},\"glyph\":{\"id\":\"1044\",\"type\":\"Line\"},\"hover_glyph\":null,\"muted_glyph\":null,\"nonselection_glyph\":{\"id\":\"1045\",\"type\":\"Line\"},\"selection_glyph\":null,\"view\":{\"id\":\"1047\",\"type\":\"CDSView\"}},\"id\":\"1046\",\"type\":\"GlyphRenderer\"},{\"attributes\":{},\"id\":\"1037\",\"type\":\"BasicTickFormatter\"},{\"attributes\":{\"data_source\":{\"id\":\"1029\",\"type\":\"ColumnDataSource\"},\"glyph\":{\"id\":\"1030\",\"type\":\"Line\"},\"hover_glyph\":null,\"muted_glyph\":null,\"nonselection_glyph\":{\"id\":\"1031\",\"type\":\"Line\"},\"selection_glyph\":null,\"view\":{\"id\":\"1033\",\"type\":\"CDSView\"}},\"id\":\"1032\",\"type\":\"GlyphRenderer\"},{\"attributes\":{},\"id\":\"1019\",\"type\":\"BasicTicker\"},{\"attributes\":{\"line_alpha\":0.7,\"line_color\":\"orange\",\"line_width\":2,\"x\":{\"field\":\"x\"},\"y\":{\"field\":\"y\"}},\"id\":\"1044\",\"type\":\"Line\"},{\"attributes\":{},\"id\":\"1009\",\"type\":\"LinearScale\"},{\"attributes\":{\"label\":{\"value\":\"PDF\"},\"renderers\":[{\"id\":\"1032\",\"type\":\"GlyphRenderer\"}]},\"id\":\"1042\",\"type\":\"LegendItem\"},{\"attributes\":{},\"id\":\"1068\",\"type\":\"UnionRenderers\"},{\"attributes\":{\"line_alpha\":0.1,\"line_color\":\"#1f77b4\",\"line_width\":4,\"x\":{\"field\":\"x\"},\"y\":{\"field\":\"y\"}},\"id\":\"1031\",\"type\":\"Line\"},{\"attributes\":{\"text\":\"Normal Distribution (\\u03bc=57.91615790754641, \\u03c3=53.47786634685876)\"},\"id\":\"1003\",\"type\":\"Title\"},{\"attributes\":{\"line_alpha\":0.7,\"line_color\":\"#ff8888\",\"line_width\":4,\"x\":{\"field\":\"x\"},\"y\":{\"field\":\"y\"}},\"id\":\"1030\",\"type\":\"Line\"},{\"attributes\":{},\"id\":\"1040\",\"type\":\"UnionRenderers\"},{\"attributes\":{\"background_fill_color\":{\"value\":\"#fefefe\"},\"items\":[{\"id\":\"1042\",\"type\":\"LegendItem\"},{\"id\":\"1057\",\"type\":\"LegendItem\"}],\"location\":\"center_right\"},\"id\":\"1041\",\"type\":\"Legend\"},{\"attributes\":{\"line_alpha\":0.1,\"line_color\":\"#1f77b4\",\"line_width\":2,\"x\":{\"field\":\"x\"},\"y\":{\"field\":\"y\"}},\"id\":\"1045\",\"type\":\"Line\"},{\"attributes\":{\"callback\":null,\"data\":{\"x\":{\"__ndarray__\":\"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\",\"dtype\":\"float64\",\"shape\":[1000]},\"y\":{\"__ndarray__\":\"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\",\"dtype\":\"float64\",\"shape\":[1000]}},\"selected\":{\"id\":\"1067\",\"type\":\"Selection\"},\"selection_policy\":{\"id\":\"1068\",\"type\":\"UnionRenderers\"}},\"id\":\"1043\",\"type\":\"ColumnDataSource\"},{\"attributes\":{\"grid_line_color\":\"white\",\"ticker\":{\"id\":\"1014\",\"type\":\"BasicTicker\"}},\"id\":\"1017\",\"type\":\"Grid\"},{\"attributes\":{},\"id\":\"1039\",\"type\":\"Selection\"},{\"attributes\":{},\"id\":\"1067\",\"type\":\"Selection\"},{\"attributes\":{\"source\":{\"id\":\"1029\",\"type\":\"ColumnDataSource\"}},\"id\":\"1033\",\"type\":\"CDSView\"},{\"attributes\":{\"active_drag\":\"auto\",\"active_inspect\":\"auto\",\"active_multi\":null,\"active_scroll\":\"auto\",\"active_tap\":\"auto\"},\"id\":\"1023\",\"type\":\"Toolbar\"},{\"attributes\":{\"callback\":null,\"start\":0},\"id\":\"1007\",\"type\":\"DataRange1d\"},{\"attributes\":{},\"id\":\"1011\",\"type\":\"LinearScale\"},{\"attributes\":{\"axis_label\":\"Pr(x)\",\"formatter\":{\"id\":\"1037\",\"type\":\"BasicTickFormatter\"},\"ticker\":{\"id\":\"1019\",\"type\":\"BasicTicker\"}},\"id\":\"1018\",\"type\":\"LinearAxis\"},{\"attributes\":{\"callback\":null,\"data\":{\"x\":{\"__ndarray__\":\"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\",\"dtype\":\"float64\",\"shape\":[1000]},\"y\":{\"__ndarray__\":\"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\",\"dtype\":\"float64\",\"shape\":[1000]}},\"selected\":{\"id\":\"1055\",\"type\":\"Selection\"},\"selection_policy\":{\"id\":\"1056\",\"type\":\"UnionRenderers\"}},\"id\":\"1029\",\"type\":\"ColumnDataSource\"},{\"attributes\":{\"source\":{\"id\":\"1043\",\"type\":\"ColumnDataSource\"}},\"id\":\"1047\",\"type\":\"CDSView\"},{\"attributes\":{\"dimension\":1,\"grid_line_color\":\"white\",\"ticker\":{\"id\":\"1019\",\"type\":\"BasicTicker\"}},\"id\":\"1022\",\"type\":\"Grid\"},{\"attributes\":{},\"id\":\"1055\",\"type\":\"Selection\"},{\"attributes\":{\"data_source\":{\"id\":\"1024\",\"type\":\"ColumnDataSource\"},\"glyph\":{\"id\":\"1025\",\"type\":\"Quad\"},\"hover_glyph\":null,\"muted_glyph\":null,\"nonselection_glyph\":{\"id\":\"1026\",\"type\":\"Quad\"},\"selection_glyph\":null,\"view\":{\"id\":\"1028\",\"type\":\"CDSView\"}},\"id\":\"1027\",\"type\":\"GlyphRenderer\"},{\"attributes\":{},\"id\":\"1014\",\"type\":\"BasicTicker\"},{\"attributes\":{},\"id\":\"1056\",\"type\":\"UnionRenderers\"},{\"attributes\":{\"callback\":null},\"id\":\"1005\",\"type\":\"DataRange1d\"},{\"attributes\":{\"bottom\":{\"value\":0},\"fill_alpha\":{\"value\":0.1},\"fill_color\":{\"value\":\"#1f77b4\"},\"left\":{\"field\":\"left\"},\"line_alpha\":{\"value\":0.1},\"line_color\":{\"value\":\"#1f77b4\"},\"right\":{\"field\":\"right\"},\"top\":{\"field\":\"top\"}},\"id\":\"1026\",\"type\":\"Quad\"}],\"root_ids\":[\"1002\"]},\"title\":\"Bokeh Application\",\"version\":\"1.4.0\"}};\n",
       "  var render_items = [{\"docid\":\"78dd8019-3515-4c4b-82bc-6772952a995c\",\"roots\":{\"1002\":\"8aa316ad-eb9c-4fcb-9f0a-c6df7c58d811\"}}];\n",
       "  root.Bokeh.embed.embed_items_notebook(docs_json, render_items);\n",
       "\n",
       "  }\n",
       "  if (root.Bokeh !== undefined) {\n",
       "    embed_document(root);\n",
       "  } else {\n",
       "    var attempts = 0;\n",
       "    var timer = setInterval(function(root) {\n",
       "      if (root.Bokeh !== undefined) {\n",
       "        clearInterval(timer);\n",
       "        embed_document(root);\n",
       "      } else {\n",
       "        attempts++;\n",
       "        if (attempts > 100) {\n",
       "          clearInterval(timer);\n",
       "          console.log(\"Bokeh: ERROR: Unable to run BokehJS code because BokehJS library is missing\");\n",
       "        }\n",
       "      }\n",
       "    }, 10, root)\n",
       "  }\n",
       "})(window);"
      ],
      "application/vnd.bokehjs_exec.v0+json": ""
     },
     "metadata": {
      "application/vnd.bokehjs_exec.v0+json": {
       "id": "1002"
      }
     },
     "output_type": "display_data"
    }
   ],
   "source": [
    "_ = norm.normal_dist_plot(avail_porosity_data_drop)"
   ]
  },
  {
   "cell_type": "code",
   "execution_count": 9,
   "metadata": {},
   "outputs": [
    {
     "data": {
      "text/html": [
       "\n",
       "\n",
       "\n",
       "\n",
       "\n",
       "\n",
       "  <div class=\"bk-root\" id=\"2d200bc3-957b-4b3e-8486-f3d7668aee9d\" data-root-id=\"1135\"></div>\n"
      ]
     },
     "metadata": {},
     "output_type": "display_data"
    },
    {
     "data": {
      "application/javascript": [
       "(function(root) {\n",
       "  function embed_document(root) {\n",
       "    \n",
       "  var docs_json = {\"0f842644-c86f-442e-8ea7-d3f618b31231\":{\"roots\":{\"references\":[{\"attributes\":{\"background_fill_color\":{\"value\":\"#fafafa\"},\"below\":[{\"id\":\"1146\",\"type\":\"LinearAxis\"}],\"center\":[{\"id\":\"1150\",\"type\":\"Grid\"},{\"id\":\"1155\",\"type\":\"Grid\"},{\"id\":\"1174\",\"type\":\"Legend\"}],\"left\":[{\"id\":\"1151\",\"type\":\"LinearAxis\"}],\"renderers\":[{\"id\":\"1160\",\"type\":\"GlyphRenderer\"},{\"id\":\"1165\",\"type\":\"GlyphRenderer\"},{\"id\":\"1179\",\"type\":\"GlyphRenderer\"}],\"title\":{\"id\":\"1136\",\"type\":\"Title\"},\"toolbar\":{\"id\":\"1156\",\"type\":\"Toolbar\"},\"x_range\":{\"id\":\"1138\",\"type\":\"DataRange1d\"},\"x_scale\":{\"id\":\"1142\",\"type\":\"LinearScale\"},\"y_range\":{\"id\":\"1140\",\"type\":\"DataRange1d\"},\"y_scale\":{\"id\":\"1144\",\"type\":\"LinearScale\"}},\"id\":\"1135\",\"subtype\":\"Figure\",\"type\":\"Plot\"},{\"attributes\":{\"data_source\":{\"id\":\"1176\",\"type\":\"ColumnDataSource\"},\"glyph\":{\"id\":\"1177\",\"type\":\"Line\"},\"hover_glyph\":null,\"muted_glyph\":null,\"nonselection_glyph\":{\"id\":\"1178\",\"type\":\"Line\"},\"selection_glyph\":null,\"view\":{\"id\":\"1180\",\"type\":\"CDSView\"}},\"id\":\"1179\",\"type\":\"GlyphRenderer\"},{\"attributes\":{\"grid_line_color\":\"white\",\"ticker\":{\"id\":\"1147\",\"type\":\"BasicTicker\"}},\"id\":\"1150\",\"type\":\"Grid\"},{\"attributes\":{},\"id\":\"1168\",\"type\":\"BasicTickFormatter\"},{\"attributes\":{\"data_source\":{\"id\":\"1162\",\"type\":\"ColumnDataSource\"},\"glyph\":{\"id\":\"1163\",\"type\":\"Line\"},\"hover_glyph\":null,\"muted_glyph\":null,\"nonselection_glyph\":{\"id\":\"1164\",\"type\":\"Line\"},\"selection_glyph\":null,\"view\":{\"id\":\"1166\",\"type\":\"CDSView\"}},\"id\":\"1165\",\"type\":\"GlyphRenderer\"},{\"attributes\":{\"callback\":null,\"start\":0},\"id\":\"1140\",\"type\":\"DataRange1d\"},{\"attributes\":{\"callback\":null},\"id\":\"1138\",\"type\":\"DataRange1d\"},{\"attributes\":{\"source\":{\"id\":\"1162\",\"type\":\"ColumnDataSource\"}},\"id\":\"1166\",\"type\":\"CDSView\"},{\"attributes\":{},\"id\":\"1152\",\"type\":\"BasicTicker\"},{\"attributes\":{},\"id\":\"1172\",\"type\":\"Selection\"},{\"attributes\":{\"axis_label\":\"Pr(x)\",\"formatter\":{\"id\":\"1170\",\"type\":\"BasicTickFormatter\"},\"ticker\":{\"id\":\"1152\",\"type\":\"BasicTicker\"}},\"id\":\"1151\",\"type\":\"LinearAxis\"},{\"attributes\":{\"callback\":null,\"data\":{\"x\":{\"__ndarray__\":\"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\",\"dtype\":\"float64\",\"shape\":[1000]},\"y\":{\"__ndarray__\":\"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\",\"dtype\":\"float64\",\"shape\":[1000]}},\"selected\":{\"id\":\"1188\",\"type\":\"Selection\"},\"selection_policy\":{\"id\":\"1189\",\"type\":\"UnionRenderers\"}},\"id\":\"1162\",\"type\":\"ColumnDataSource\"},{\"attributes\":{\"line_alpha\":0.7,\"line_color\":\"orange\",\"line_width\":2,\"x\":{\"field\":\"x\"},\"y\":{\"field\":\"y\"}},\"id\":\"1177\",\"type\":\"Line\"},{\"attributes\":{\"line_alpha\":0.7,\"line_color\":\"#ff8888\",\"line_width\":4,\"x\":{\"field\":\"x\"},\"y\":{\"field\":\"y\"}},\"id\":\"1163\",\"type\":\"Line\"},{\"attributes\":{},\"id\":\"1173\",\"type\":\"UnionRenderers\"},{\"attributes\":{},\"id\":\"1211\",\"type\":\"Selection\"},{\"attributes\":{},\"id\":\"1144\",\"type\":\"LinearScale\"},{\"attributes\":{\"dimension\":1,\"grid_line_color\":\"white\",\"ticker\":{\"id\":\"1152\",\"type\":\"BasicTicker\"}},\"id\":\"1155\",\"type\":\"Grid\"},{\"attributes\":{\"source\":{\"id\":\"1176\",\"type\":\"ColumnDataSource\"}},\"id\":\"1180\",\"type\":\"CDSView\"},{\"attributes\":{\"bottom\":{\"value\":0},\"fill_alpha\":{\"value\":0.1},\"fill_color\":{\"value\":\"#1f77b4\"},\"left\":{\"field\":\"left\"},\"line_alpha\":{\"value\":0.1},\"line_color\":{\"value\":\"#1f77b4\"},\"right\":{\"field\":\"right\"},\"top\":{\"field\":\"top\"}},\"id\":\"1159\",\"type\":\"Quad\"},{\"attributes\":{},\"id\":\"1188\",\"type\":\"Selection\"},{\"attributes\":{\"callback\":null,\"data\":{\"x\":{\"__ndarray__\":\"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\",\"dtype\":\"float64\",\"shape\":[1000]},\"y\":{\"__ndarray__\":\"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\",\"dtype\":\"float64\",\"shape\":[1000]}},\"selected\":{\"id\":\"1211\",\"type\":\"Selection\"},\"selection_policy\":{\"id\":\"1212\",\"type\":\"UnionRenderers\"}},\"id\":\"1176\",\"type\":\"ColumnDataSource\"},{\"attributes\":{},\"id\":\"1189\",\"type\":\"UnionRenderers\"},{\"attributes\":{\"label\":{\"value\":\"CDF\"},\"renderers\":[{\"id\":\"1179\",\"type\":\"GlyphRenderer\"}]},\"id\":\"1190\",\"type\":\"LegendItem\"},{\"attributes\":{\"line_alpha\":0.1,\"line_color\":\"#1f77b4\",\"line_width\":4,\"x\":{\"field\":\"x\"},\"y\":{\"field\":\"y\"}},\"id\":\"1164\",\"type\":\"Line\"},{\"attributes\":{\"label\":{\"value\":\"PDF\"},\"renderers\":[{\"id\":\"1165\",\"type\":\"GlyphRenderer\"}]},\"id\":\"1175\",\"type\":\"LegendItem\"},{\"attributes\":{\"active_drag\":\"auto\",\"active_inspect\":\"auto\",\"active_multi\":null,\"active_scroll\":\"auto\",\"active_tap\":\"auto\"},\"id\":\"1156\",\"type\":\"Toolbar\"},{\"attributes\":{\"line_alpha\":0.1,\"line_color\":\"#1f77b4\",\"line_width\":2,\"x\":{\"field\":\"x\"},\"y\":{\"field\":\"y\"}},\"id\":\"1178\",\"type\":\"Line\"},{\"attributes\":{},\"id\":\"1212\",\"type\":\"UnionRenderers\"},{\"attributes\":{\"bottom\":{\"value\":0},\"fill_alpha\":{\"value\":0.5},\"fill_color\":{\"value\":\"navy\"},\"left\":{\"field\":\"left\"},\"line_alpha\":{\"value\":0.5},\"line_color\":{\"value\":\"white\"},\"right\":{\"field\":\"right\"},\"top\":{\"field\":\"top\"}},\"id\":\"1158\",\"type\":\"Quad\"},{\"attributes\":{},\"id\":\"1142\",\"type\":\"LinearScale\"},{\"attributes\":{\"data_source\":{\"id\":\"1157\",\"type\":\"ColumnDataSource\"},\"glyph\":{\"id\":\"1158\",\"type\":\"Quad\"},\"hover_glyph\":null,\"muted_glyph\":null,\"nonselection_glyph\":{\"id\":\"1159\",\"type\":\"Quad\"},\"selection_glyph\":null,\"view\":{\"id\":\"1161\",\"type\":\"CDSView\"}},\"id\":\"1160\",\"type\":\"GlyphRenderer\"},{\"attributes\":{},\"id\":\"1170\",\"type\":\"BasicTickFormatter\"},{\"attributes\":{\"axis_label\":\"x\",\"formatter\":{\"id\":\"1168\",\"type\":\"BasicTickFormatter\"},\"ticker\":{\"id\":\"1147\",\"type\":\"BasicTicker\"}},\"id\":\"1146\",\"type\":\"LinearAxis\"},{\"attributes\":{\"source\":{\"id\":\"1157\",\"type\":\"ColumnDataSource\"}},\"id\":\"1161\",\"type\":\"CDSView\"},{\"attributes\":{\"background_fill_color\":{\"value\":\"#fefefe\"},\"items\":[{\"id\":\"1175\",\"type\":\"LegendItem\"},{\"id\":\"1190\",\"type\":\"LegendItem\"}],\"location\":\"center_right\"},\"id\":\"1174\",\"type\":\"Legend\"},{\"attributes\":{},\"id\":\"1147\",\"type\":\"BasicTicker\"},{\"attributes\":{\"callback\":null,\"data\":{\"left\":{\"__ndarray__\":\"AAAAAAAAAAB7FK5H4XqUP3sUrkfheqQ/uB6F61G4rj97FK5H4Xq0P5qZmZmZmbk/uB6F61G4vj/sUbgehevBP3sUrkfhesQ/CtejcD0Kxz+amZmZmZnJPylcj8L1KMw/uB6F61G4zj+kcD0K16PQP+xRuB6F69E/MzMzMzMz0z97FK5H4XrUP8P1KFyPwtU/CtejcD0K1z9SuB6F61HYP5qZmZmZmdk/4XoUrkfh2j8pXI/C9SjcP3E9CtejcN0/uB6F61G43j8AAAAAAADgP6RwPQrXo+A/SOF6FK5H4T/sUbgehevhP4/C9Shcj+I/MzMzMzMz4z/Xo3A9CtfjP3sUrkfheuQ/H4XrUbge5T/D9Shcj8LlP2dmZmZmZuY/CtejcD0K5z+uR+F6FK7nP1K4HoXrUeg/9ihcj8L16D+amZmZmZnpPz4K16NwPeo/4XoUrkfh6j+F61G4HoXrPylcj8L1KOw/zczMzMzM7D9xPQrXo3DtPxWuR+F6FO4/uB6F61G47j9cj8L1KFzvPw==\",\"dtype\":\"float64\",\"shape\":[50]},\"right\":{\"__ndarray__\":\"exSuR+F6lD97FK5H4XqkP7gehetRuK4/exSuR+F6tD+amZmZmZm5P7gehetRuL4/7FG4HoXrwT97FK5H4XrEPwrXo3A9Csc/mpmZmZmZyT8pXI/C9SjMP7gehetRuM4/pHA9Ctej0D/sUbgehevRPzMzMzMzM9M/exSuR+F61D/D9Shcj8LVPwrXo3A9Ctc/UrgehetR2D+amZmZmZnZP+F6FK5H4do/KVyPwvUo3D9xPQrXo3DdP7gehetRuN4/AAAAAAAA4D+kcD0K16PgP0jhehSuR+E/7FG4HoXr4T+PwvUoXI/iPzMzMzMzM+M/16NwPQrX4z97FK5H4XrkPx+F61G4HuU/w/UoXI/C5T9nZmZmZmbmPwrXo3A9Cuc/rkfhehSu5z9SuB6F61HoP/YoXI/C9eg/mpmZmZmZ6T8+CtejcD3qP+F6FK5H4eo/hetRuB6F6z8pXI/C9SjsP83MzMzMzOw/cT0K16Nw7T8VrkfhehTuP7gehetRuO4/XI/C9Shc7z8AAAAAAADwPw==\",\"dtype\":\"float64\",\"shape\":[50]},\"top\":{\"__ndarray__\":\"M0+Zp8xTBkDQ5mfzs/kRQLHL1+Xr8hVATGOmMdOYEUDY/Gx+Nj/7P/wf/A/+B/8/n73R3mhv9D/e/Gx+Nj/rP5SoSFQkKvI/h6HF0GJo8T+mvdHeaG/0PwInf5O/ye8/sNJaaa205j/H7mZ3s7vpPwMZeYw8Ru4/jKhIVCQq4j/qGHmMPEbuPwMZeYw8Rt4/3wpzhbnC7D+84GBwMDjoP+n8bH42P9s/x+5md7O76T/qGHmMPEbuP7XEVGIqMeU/gZpCTaGm4D+lxFRiKjHlP5Ovy9fl6/I/9yZ/k7/J7z/GxFRiKjHlP7DSWmmttOY/vOBgcDA46D+MqEhUJCriP8fuZnezu+k/6hh5jDxG3j/H7mZ3s7vpP/78bH42P9s/jKhIVCQq0j+BmkJNoabgP6XEVGIqMeU/0/xsfjY/2z+MqEhUJCriP+LgYHAwOMg/jKhIVCQqwj/T/Gx+Nj/bP+oYeYw8Rs4/mbZOW6et4z+BmkJNoabgP6qoSFQkKsI/vOBgcDA4qD+MqEhUJCrSPw==\",\"dtype\":\"float64\",\"shape\":[50]}},\"selected\":{\"id\":\"1172\",\"type\":\"Selection\"},\"selection_policy\":{\"id\":\"1173\",\"type\":\"UnionRenderers\"}},\"id\":\"1157\",\"type\":\"ColumnDataSource\"},{\"attributes\":{\"text\":\"Normal Distribution (\\u03bc=0.29700593816340254, \\u03c3=0.2742454685710294)\"},\"id\":\"1136\",\"type\":\"Title\"}],\"root_ids\":[\"1135\"]},\"title\":\"Bokeh Application\",\"version\":\"1.4.0\"}};\n",
       "  var render_items = [{\"docid\":\"0f842644-c86f-442e-8ea7-d3f618b31231\",\"roots\":{\"1135\":\"2d200bc3-957b-4b3e-8486-f3d7668aee9d\"}}];\n",
       "  root.Bokeh.embed.embed_items_notebook(docs_json, render_items);\n",
       "\n",
       "  }\n",
       "  if (root.Bokeh !== undefined) {\n",
       "    embed_document(root);\n",
       "  } else {\n",
       "    var attempts = 0;\n",
       "    var timer = setInterval(function(root) {\n",
       "      if (root.Bokeh !== undefined) {\n",
       "        clearInterval(timer);\n",
       "        embed_document(root);\n",
       "      } else {\n",
       "        attempts++;\n",
       "        if (attempts > 100) {\n",
       "          clearInterval(timer);\n",
       "          console.log(\"Bokeh: ERROR: Unable to run BokehJS code because BokehJS library is missing\");\n",
       "        }\n",
       "      }\n",
       "    }, 10, root)\n",
       "  }\n",
       "})(window);"
      ],
      "application/vnd.bokehjs_exec.v0+json": ""
     },
     "metadata": {
      "application/vnd.bokehjs_exec.v0+json": {
       "id": "1135"
      }
     },
     "output_type": "display_data"
    }
   ],
   "source": [
    "_ = norm.normal_dist_plot(avail_porosity_scaled_data_drop)"
   ]
  },
  {
   "cell_type": "markdown",
   "metadata": {},
   "source": [
    "## ERA5-MERIT Potential Runoff"
   ]
  },
  {
   "cell_type": "code",
   "execution_count": 10,
   "metadata": {},
   "outputs": [
    {
     "name": "stdout",
     "output_type": "stream",
     "text": [
      "[0, 1]\n"
     ]
    }
   ],
   "source": [
    "# Get a single example image \n",
    "pot_runoff_clim = ee.ImageCollection(\n",
    "    'users/jamesmcc/era5_sfc_runoff_conus_climatology')\n",
    "\n",
    "pot_runoff_img = (\n",
    "    pot_runoff_clim\n",
    "    .filter(ee.Filter.eq('month', month)).first())\n",
    "\n",
    "# Mask to a usable range\n",
    "#runoff_mask = pot_runoff_img.lte(.5).And(pot_runoff_img.gte(.01))\n",
    "\n",
    "pot_runoff_img_scaled = norm.img_scale(\n",
    "    pot_runoff_img, \n",
    "    area_of_interest=common.bboxes()['conus'])\n",
    "\n",
    "runoff_range = norm.img_range(pot_runoff_img_scaled, area_of_interest = bbox)\n",
    "print(runoff_range)\n"
   ]
  },
  {
   "cell_type": "code",
   "execution_count": 11,
   "metadata": {},
   "outputs": [],
   "source": [
    "# Do the same for ERA5 moisture, get a single example image \n",
    "pot_moisture_clim = ee.ImageCollection(\n",
    "    'users/amgadellaboudy/era5_vol_soil_moisture_conus_climatology1')\n",
    "\n",
    "pot_moisture_img = (\n",
    "    pot_moisture_clim\n",
    "    .filter(ee.Filter.eq('month', month))\n",
    "    .filter(ee.Filter.eq('variable', 'potential_sfc_moisture_mon_clim_cms')).first())\n",
    "\n",
    "# No masking for moisture values\n",
    "#moisture_mask = pot_moisture_img.lte(.5).And(pot_moisture_img.gte(.01))\n",
    "\n",
    "pot_moisture_img_scaled = norm.img_scale(\n",
    "    pot_moisture_img, \n",
    "    area_of_interest=common.bboxes()['conus'])\n"
   ]
  },
  {
   "cell_type": "code",
   "execution_count": 12,
   "metadata": {},
   "outputs": [],
   "source": [
    "coos_county_parcels = ee.FeatureCollection(\n",
    "    'users/tsongkapa/Coos_county_parcels')\n",
    "douglas_county_parcels = ee.FeatureCollection(\n",
    "    'users/tsongkapa/Douglas_county_parcels')"
   ]
  },
  {
   "cell_type": "code",
   "execution_count": 13,
   "metadata": {},
   "outputs": [],
   "source": [
    "# Image.sampleRectangle: Too many pixels in sample; must be <= 262144. Got 2047606081.\n",
    "# https://gis.stackexchange.com/questions/350771/earth-engine-simplest-way-to-move-from-ee-image-to-array-for-use-in-sklearn/351177#351177\n",
    "# runoff_missing = -99999\n",
    "# pot_runoff_data = np.array(\n",
    "#         pot_runoff_img_scaled\n",
    "#         .sampleRectangle(bbox, ['potential_sfc_runoff_mon_clim_cms'], smap_missing)\n",
    "#         .get('potential_sfc_runoff_mon_clim_cms')\n",
    "#         .getInfo())\n",
    "# pot_runoff_data_mask = np.ma.masked_values(pot_runoff_data, smap_missing)\n",
    "# pot_runoff_data_drop = pot_runoff_data_mask[~pot_runoff_data_mask.mask]"
   ]
  },
  {
   "cell_type": "code",
   "execution_count": 14,
   "metadata": {},
   "outputs": [],
   "source": [
    "# print(pot_runoff_data)"
   ]
  },
  {
   "cell_type": "code",
   "execution_count": 15,
   "metadata": {},
   "outputs": [],
   "source": [
    "# pot_runoff_data_mask\n",
    "# pot_runoff_data_drop"
   ]
  },
  {
   "cell_type": "code",
   "execution_count": 16,
   "metadata": {},
   "outputs": [],
   "source": [
    "# _ = norm.normal_dist_plot(avail_porosity_data_drop)"
   ]
  },
  {
   "cell_type": "markdown",
   "metadata": {},
   "source": [
    "## MERIT Terrain Slope"
   ]
  },
  {
   "cell_type": "code",
   "execution_count": 17,
   "metadata": {},
   "outputs": [],
   "source": [
    "#include slope as a factor in scoring product 1\n",
    "slope_img = ee.Image('users/jamesmcc/merit_slope/merit_terrain_slope')\n",
    "slope_mask = slope_img.lte(6)\n",
    "slope_img_scaled = norm.img_scale(slope_img, area_of_interest=common.bboxes()['conus'])\n",
    "# This dosent really need scaled, just a mask?"
   ]
  },
  {
   "cell_type": "markdown",
   "metadata": {},
   "source": [
    "# Soil Types"
   ]
  },
  {
   "cell_type": "code",
   "execution_count": 18,
   "metadata": {},
   "outputs": [],
   "source": [
    "#incorporate soil types as a factor in scoring land parcels\n",
    "soil_types = ee.Image(\"OpenLandMap/SOL/SOL_TEXTURE-CLASS_USDA-TT_M/v02\")"
   ]
  },
  {
   "cell_type": "code",
   "execution_count": 19,
   "metadata": {},
   "outputs": [],
   "source": [
    "#categorizing soil types and depths based on retaining plant-available water, grouping top soils and bottom soils together\n",
    "top_soils = [5,7,8,10]\n",
    "medium_soils = [2,4,6,9]\n",
    "low_soils = [1,3,11,12]\n",
    "soil_0 = soil_types.expression(\n",
    "        \"(b('b0') == 12) ? 1.0\" +\n",
    "        \": (b('b0') == 11) ? 1.0\" +\n",
    "        \": (b('b0') == 10) ? 1.0\" +\n",
    "        \": (b('b0') == 9) ? 1.0\" +\n",
    "        \": (b('b0') == 8) ? 0.7\" +\n",
    "        \": (b('b0') == 7) ? 0.7\" +\n",
    "        \": (b('b0') == 6) ? 0.7\" +\n",
    "        \": (b('b0') == 5) ? 0.7\" +\n",
    "        \": (b('b0') == 4) ? 0.4\" +\n",
    "        \": (b('b0') == 3) ? 0.4\" +\n",
    "        \": (b('b0') == 2) ? 0.4\" +\n",
    "        \": (b('b0') == 1) ? 0.4\" +\n",
    "        \": 0\")\n",
    "\n",
    "soil_10 = soil_types.expression(\n",
    "        \"(b('b10') == 12) ? 1.0\" +\n",
    "        \": (b('b10') == 11) ? 1.0\" +\n",
    "        \": (b('b10') == 10) ? 1.0\" +\n",
    "        \": (b('b10') == 9) ? 1.0\" +\n",
    "        \": (b('b10') == 8) ? 0.7\" +\n",
    "        \": (b('b10') == 7) ? 0.7\" +\n",
    "        \": (b('b10') == 6) ? 0.7\" +\n",
    "        \": (b('b10') == 5) ? 0.7\" +\n",
    "        \": (b('b10') == 4) ? 0.4\" +\n",
    "        \": (b('b10') == 3) ? 0.4\" +\n",
    "        \": (b('b10') == 2) ? 0.4\" +\n",
    "        \": (b('b10') == 1) ? 0.4\" +\n",
    "        \": 0\")\n",
    "\n",
    "soil_30 = soil_types.expression(\n",
    "        \"(b('b30') == 12) ? 1.0\" +\n",
    "        \": (b('b30') == 11) ? 1.0\" +\n",
    "        \": (b('b30') == 10) ? 1.0\" +\n",
    "        \": (b('b30') == 9) ? 1.0\" +\n",
    "        \": (b('b30') == 8) ? 0.7\" +\n",
    "        \": (b('b30') == 7) ? 0.7\" +\n",
    "        \": (b('b30') == 6) ? 0.7\" +\n",
    "        \": (b('b30') == 5) ? 0.7\" +\n",
    "        \": (b('b30') == 4) ? 0.4\" +\n",
    "        \": (b('b30') == 3) ? 0.4\" +\n",
    "        \": (b('b30') == 2) ? 0.4\" +\n",
    "        \": (b('b30') == 1) ? 0.4\" +\n",
    "        \": 0\")\n",
    "\n",
    "soil_60 = soil_types.expression(\n",
    "        \"(b('b60') == 5) ? 1.0\" +\n",
    "        \": (b('b60') == 7) ? 1.0\" +\n",
    "        \": (b('b60') == 8) ? 1.0\" +\n",
    "        \": (b('b60') == 10) ? 1.0\" +\n",
    "        \": (b('b60') == 2) ? 0.7\" +\n",
    "        \": (b('b60') == 4) ? 0.7\" +\n",
    "        \": (b('b60') == 6) ? 0.7\" +\n",
    "        \": (b('b60') == 9) ? 0.7\" +\n",
    "        \": (b('b60') == 1) ? 0.3\" +\n",
    "        \": (b('b60') == 3) ? 0.3\" +\n",
    "        \": (b('b60') == 11) ? 0.3\" +\n",
    "        \": (b('b60') == 12) ? 0.3\" +\n",
    "        \": 0\")\n",
    "\n",
    "soil_100 = soil_types.expression(\n",
    "        \"(b('b100') == 5) ? 1.0\" +\n",
    "        \": (b('b100') == 7) ? 1.0\" +\n",
    "        \": (b('b100') == 8) ? 1.0\" +\n",
    "        \": (b('b100') == 10) ? 1.0\" +\n",
    "        \": (b('b100') == 2) ? 0.7\" +\n",
    "        \": (b('b100') == 4) ? 0.7\" +\n",
    "        \": (b('b100') == 6) ? 0.7\" +\n",
    "        \": (b('b100') == 9) ? 0.7\" +\n",
    "        \": (b('b100') == 1) ? 0.3\" +\n",
    "        \": (b('b100') == 3) ? 0.3\" +\n",
    "        \": (b('b100') == 11) ? 0.3\" +\n",
    "        \": (b('b100') == 12) ? 0.3\" +\n",
    "        \": 0\")\n",
    "\n",
    "soil_200 = soil_types.expression(\n",
    "        \"(b('b200') == 5) ? 1.0\" +\n",
    "        \": (b('b200') == 7) ? 1.0\" +\n",
    "        \": (b('b200') == 8) ? 1.0\" +\n",
    "        \": (b('b200') == 10) ? 1.0\" +\n",
    "        \": (b('b200') == 2) ? 0.7\" +\n",
    "        \": (b('b200') == 4) ? 0.7\" +\n",
    "        \": (b('b200') == 6) ? 0.7\" +\n",
    "        \": (b('b200') == 9) ? 0.7\" +\n",
    "        \": (b('b200') == 1) ? 0.3\" +\n",
    "        \": (b('b200') == 3) ? 0.3\" +\n",
    "        \": (b('b200') == 11) ? 0.3\" +\n",
    "        \": (b('b200') == 12) ? 0.3\" +\n",
    "        \": 0\")\n",
    "\n",
    "top_soils = soil_0.expression('top_soil + soil_10 + soil_30',\n",
    "                             {'top_soil': soil_0.select('constant'),\n",
    "                             'soil_10': soil_10.select('constant'),\n",
    "                             'soil_30': soil_30.select('constant')})\n",
    "\n",
    "bottom_soils = soil_60.expression('soil_60 + soil_100 + soil_200',\n",
    "                                 {'soil_60': soil_60.select('constant'),\n",
    "                                  'soil_100': soil_100.select('constant'),\n",
    "                                  'soil_200': soil_200.select('constant')})"
   ]
  },
  {
   "cell_type": "code",
   "execution_count": 20,
   "metadata": {},
   "outputs": [],
   "source": [
    "#scaling top soils and bottom soils\n",
    "top_soils_scaled = norm.img_scale(top_soils, area_of_interest=common.bboxes()['conus'])\n",
    "bottom_soils_scaled = norm.img_scale(bottom_soils, area_of_interest=common.bboxes()['conus'])"
   ]
  },
  {
   "cell_type": "code",
   "execution_count": null,
   "metadata": {},
   "outputs": [],
   "source": []
  },
  {
   "cell_type": "markdown",
   "metadata": {},
   "source": [
    "## Product 1\n",
    "Simply give higher scores to places that have both high potential runoff and available porosity (and with low moisture), in only areas with acceptable slopes"
   ]
  },
  {
   "cell_type": "code",
   "execution_count": null,
   "metadata": {},
   "outputs": [],
   "source": []
  },
  {
   "cell_type": "code",
   "execution_count": 21,
   "metadata": {},
   "outputs": [],
   "source": [
    "product_1 = avail_porosity_img_scaled.multiply(pot_runoff_img_scaled).multiply(top_soils_scaled).multiply(bottom_soils_scaled).divide(slope_img_scaled).updateMask(slope_mask)"
   ]
  },
  {
   "cell_type": "code",
   "execution_count": null,
   "metadata": {},
   "outputs": [],
   "source": []
  },
  {
   "cell_type": "code",
   "execution_count": 22,
   "metadata": {},
   "outputs": [
    {
     "data": {
      "text/html": [
       "\n",
       "\n",
       "\n",
       "\n",
       "\n",
       "\n",
       "  <div class=\"bk-root\" id=\"ca138051-6116-445b-9fa9-181f776eac1f\" data-root-id=\"1279\"></div>\n"
      ]
     },
     "metadata": {},
     "output_type": "display_data"
    },
    {
     "data": {
      "application/javascript": [
       "(function(root) {\n",
       "  function embed_document(root) {\n",
       "    \n",
       "  var docs_json = {\"4441deae-83e3-4132-8250-a077821ae825\":{\"roots\":{\"references\":[{\"attributes\":{\"below\":[{\"id\":\"1290\",\"type\":\"LinearAxis\"}],\"center\":[{\"id\":\"1294\",\"type\":\"Grid\"},{\"id\":\"1299\",\"type\":\"Grid\"}],\"left\":[{\"id\":\"1295\",\"type\":\"LinearAxis\"}],\"plot_height\":75,\"plot_width\":500,\"renderers\":[{\"id\":\"1316\",\"type\":\"GlyphRenderer\"}],\"title\":{\"id\":\"1280\",\"type\":\"Title\"},\"toolbar\":{\"id\":\"1306\",\"type\":\"Toolbar\"},\"x_range\":{\"id\":\"1282\",\"type\":\"DataRange1d\"},\"x_scale\":{\"id\":\"1286\",\"type\":\"LinearScale\"},\"y_range\":{\"id\":\"1284\",\"type\":\"DataRange1d\"},\"y_scale\":{\"id\":\"1288\",\"type\":\"LinearScale\"}},\"id\":\"1279\",\"subtype\":\"Figure\",\"type\":\"Plot\"},{\"attributes\":{\"data_source\":{\"id\":\"1313\",\"type\":\"ColumnDataSource\"},\"glyph\":{\"id\":\"1314\",\"type\":\"VBar\"},\"hover_glyph\":null,\"muted_glyph\":null,\"nonselection_glyph\":{\"id\":\"1315\",\"type\":\"VBar\"},\"selection_glyph\":null,\"view\":{\"id\":\"1317\",\"type\":\"CDSView\"}},\"id\":\"1316\",\"type\":\"GlyphRenderer\"},{\"attributes\":{},\"id\":\"1286\",\"type\":\"LinearScale\"},{\"attributes\":{},\"id\":\"1305\",\"type\":\"HelpTool\"},{\"attributes\":{},\"id\":\"1296\",\"type\":\"BasicTicker\"},{\"attributes\":{\"callback\":null},\"id\":\"1284\",\"type\":\"DataRange1d\"},{\"attributes\":{\"bottom\":{\"field\":\"bottom\"},\"fill_alpha\":{\"value\":0.1},\"fill_color\":{\"value\":\"#1f77b4\"},\"line_alpha\":{\"value\":0.1},\"line_color\":{\"value\":\"#1f77b4\"},\"top\":{\"field\":\"top\"},\"width\":{\"value\":152.37463814264817},\"x\":{\"field\":\"x\"}},\"id\":\"1315\",\"type\":\"VBar\"},{\"attributes\":{\"active_drag\":\"auto\",\"active_inspect\":\"auto\",\"active_multi\":null,\"active_scroll\":\"auto\",\"active_tap\":\"auto\",\"tools\":[{\"id\":\"1300\",\"type\":\"PanTool\"},{\"id\":\"1301\",\"type\":\"WheelZoomTool\"},{\"id\":\"1302\",\"type\":\"BoxZoomTool\"},{\"id\":\"1303\",\"type\":\"SaveTool\"},{\"id\":\"1304\",\"type\":\"ResetTool\"},{\"id\":\"1305\",\"type\":\"HelpTool\"}]},\"id\":\"1306\",\"type\":\"Toolbar\"},{\"attributes\":{\"dimension\":1,\"ticker\":{\"id\":\"1296\",\"type\":\"BasicTicker\"}},\"id\":\"1299\",\"type\":\"Grid\"},{\"attributes\":{},\"id\":\"1291\",\"type\":\"BasicTicker\"},{\"attributes\":{\"callback\":null,\"data\":{\"bottom\":[1,1,1,1,1,1,1,1,1,1,1],\"fill_color\":[\"#a50026\",\"#d73027\",\"#f46d43\",\"#fdae61\",\"#fee090\",\"#ffffbf\",\"#e0f3f8\",\"#abd9e9\",\"#74add1\",\"#4575b4\",\"#313695\"],\"line_color\":[\"#a50026\",\"#d73027\",\"#f46d43\",\"#fdae61\",\"#fee090\",\"#ffffbf\",\"#e0f3f8\",\"#abd9e9\",\"#74add1\",\"#4575b4\",\"#313695\"],\"top\":[0,0,0,0,0,0,0,0,0,0,0],\"x\":[76.18731907132408,228.56195721397225,380.9365953566204,533.3112334992686,685.6858716419167,838.0605097845649,990.435147927213,1142.8097860698613,1295.1844242125094,1447.5590623551575,1599.9337004978058]},\"selected\":{\"id\":\"1346\",\"type\":\"Selection\"},\"selection_policy\":{\"id\":\"1347\",\"type\":\"UnionRenderers\"}},\"id\":\"1313\",\"type\":\"ColumnDataSource\"},{\"attributes\":{\"source\":{\"id\":\"1313\",\"type\":\"ColumnDataSource\"}},\"id\":\"1317\",\"type\":\"CDSView\"},{\"attributes\":{\"bottom\":{\"field\":\"bottom\"},\"fill_color\":{\"field\":\"fill_color\"},\"line_color\":{\"field\":\"line_color\"},\"top\":{\"field\":\"top\"},\"width\":{\"value\":152.37463814264817},\"x\":{\"field\":\"x\"}},\"id\":\"1314\",\"type\":\"VBar\"},{\"attributes\":{\"text\":\"Legend Title (-)\"},\"id\":\"1280\",\"type\":\"Title\"},{\"attributes\":{\"formatter\":{\"id\":\"1341\",\"type\":\"BasicTickFormatter\"},\"ticker\":{\"id\":\"1291\",\"type\":\"BasicTicker\"}},\"id\":\"1290\",\"type\":\"LinearAxis\"},{\"attributes\":{\"bottom_units\":\"screen\",\"fill_alpha\":{\"value\":0.5},\"fill_color\":{\"value\":\"lightgrey\"},\"left_units\":\"screen\",\"level\":\"overlay\",\"line_alpha\":{\"value\":1.0},\"line_color\":{\"value\":\"black\"},\"line_dash\":[4,4],\"line_width\":{\"value\":2},\"render_mode\":\"css\",\"right_units\":\"screen\",\"top_units\":\"screen\"},\"id\":\"1345\",\"type\":\"BoxAnnotation\"},{\"attributes\":{\"overlay\":{\"id\":\"1345\",\"type\":\"BoxAnnotation\"}},\"id\":\"1302\",\"type\":\"BoxZoomTool\"},{\"attributes\":{},\"id\":\"1341\",\"type\":\"BasicTickFormatter\"},{\"attributes\":{\"formatter\":{\"id\":\"1343\",\"type\":\"BasicTickFormatter\"},\"ticker\":{\"id\":\"1296\",\"type\":\"BasicTicker\"}},\"id\":\"1295\",\"type\":\"LinearAxis\"},{\"attributes\":{},\"id\":\"1303\",\"type\":\"SaveTool\"},{\"attributes\":{},\"id\":\"1343\",\"type\":\"BasicTickFormatter\"},{\"attributes\":{\"ticker\":{\"id\":\"1291\",\"type\":\"BasicTicker\"}},\"id\":\"1294\",\"type\":\"Grid\"},{\"attributes\":{},\"id\":\"1300\",\"type\":\"PanTool\"},{\"attributes\":{},\"id\":\"1346\",\"type\":\"Selection\"},{\"attributes\":{},\"id\":\"1288\",\"type\":\"LinearScale\"},{\"attributes\":{},\"id\":\"1301\",\"type\":\"WheelZoomTool\"},{\"attributes\":{},\"id\":\"1304\",\"type\":\"ResetTool\"},{\"attributes\":{},\"id\":\"1347\",\"type\":\"UnionRenderers\"},{\"attributes\":{\"callback\":null},\"id\":\"1282\",\"type\":\"DataRange1d\"}],\"root_ids\":[\"1279\"]},\"title\":\"Bokeh Application\",\"version\":\"1.4.0\"}};\n",
       "  var render_items = [{\"docid\":\"4441deae-83e3-4132-8250-a077821ae825\",\"roots\":{\"1279\":\"ca138051-6116-445b-9fa9-181f776eac1f\"}}];\n",
       "  root.Bokeh.embed.embed_items_notebook(docs_json, render_items);\n",
       "\n",
       "  }\n",
       "  if (root.Bokeh !== undefined) {\n",
       "    embed_document(root);\n",
       "  } else {\n",
       "    var attempts = 0;\n",
       "    var timer = setInterval(function(root) {\n",
       "      if (root.Bokeh !== undefined) {\n",
       "        clearInterval(timer);\n",
       "        embed_document(root);\n",
       "      } else {\n",
       "        attempts++;\n",
       "        if (attempts > 100) {\n",
       "          clearInterval(timer);\n",
       "          console.log(\"Bokeh: ERROR: Unable to run BokehJS code because BokehJS library is missing\");\n",
       "        }\n",
       "      }\n",
       "    }, 10, root)\n",
       "  }\n",
       "})(window);"
      ],
      "application/vnd.bokehjs_exec.v0+json": ""
     },
     "metadata": {
      "application/vnd.bokehjs_exec.v0+json": {
       "id": "1279"
      }
     },
     "output_type": "display_data"
    }
   ],
   "source": [
    "#understanding product_1 range\n",
    "\n",
    "product_1_range = norm.img_range(product_1, area_of_interest = bbox)\n",
    "\n",
    "palette_name = 'RdYlBu'\n",
    "palette_len = 11\n",
    "palette = vis.brewer[palette_name][palette_len][::-1]\n",
    "vis.legend(palette=palette, minimum=product_1_range[0], maximum= product_1_range[1])\n",
    "\n",
    "box_corners = bbox.toGeoJSON()['coordinates'][0]\n",
    "center_lon = mean([corner[0] for corner in box_corners])\n",
    "center_lat = mean([corner[1] for corner in box_corners])\n",
    "\n",
    "vis_params = {\n",
    "    'min': product_1_range[0], 'max': product_1_range[1], 'dimensions': 512,\n",
    "    'palette': palette}\n",
    "\n"
   ]
  },
  {
   "cell_type": "code",
   "execution_count": 23,
   "metadata": {},
   "outputs": [],
   "source": [
    "#sum up product_1 scores over douglas and coos county parcels to obtain a parcel score, obtain image, obtain image for bounding box we're interested in\n",
    "\n",
    "parcel_score_douglas = product_1.reduceRegions(collection= douglas_county_parcels, reducer= ee.Reducer.max(), scale = 90)\n",
    "parcel_score_douglas_2 = parcel_score_douglas.reduceToImage(properties = ['max'], reducer = ee.Reducer.firstNonNull())\n",
    "\n",
    "\n"
   ]
  },
  {
   "cell_type": "code",
   "execution_count": 24,
   "metadata": {},
   "outputs": [],
   "source": [
    "parcel_score_coos = product_1.reduceRegions(collection= coos_county_parcels, reducer= ee.Reducer.max(), scale = 90)\n",
    "parcel_score_coos_2 = parcel_score_coos.reduceToImage(properties = ['max'], reducer = ee.Reducer.firstNonNull())\n",
    "\n",
    "bound_box = ee.Feature(ee.Geometry.Polygon([[[-124.1, 43.38], [-124.1, 42.88], [-123.6, 42.88], [-123.6, 43.38]]]))\n",
    "bound_box_img = bound_box.getMapId()['image']"
   ]
  },
  {
   "cell_type": "code",
   "execution_count": 25,
   "metadata": {},
   "outputs": [],
   "source": [
    "#calculate range of parcel score for douglas county\n",
    "#parcel_score_douglas_range = norm.img_range(parcel_score_douglas_2, area_of_interest = bbox)"
   ]
  },
  {
   "cell_type": "code",
   "execution_count": 26,
   "metadata": {},
   "outputs": [
    {
     "data": {
      "text/html": [
       "\n",
       "\n",
       "\n",
       "\n",
       "\n",
       "\n",
       "  <div class=\"bk-root\" id=\"65c2707d-dc6a-4ea4-b2f0-c01e63e4ff3c\" data-root-id=\"1396\"></div>\n"
      ]
     },
     "metadata": {},
     "output_type": "display_data"
    },
    {
     "data": {
      "application/javascript": [
       "(function(root) {\n",
       "  function embed_document(root) {\n",
       "    \n",
       "  var docs_json = {\"78bdf2ec-88fc-42e0-bde5-ba53c3ebdd43\":{\"roots\":{\"references\":[{\"attributes\":{\"below\":[{\"id\":\"1407\",\"type\":\"LinearAxis\"}],\"center\":[{\"id\":\"1411\",\"type\":\"Grid\"},{\"id\":\"1416\",\"type\":\"Grid\"}],\"left\":[{\"id\":\"1412\",\"type\":\"LinearAxis\"}],\"plot_height\":75,\"plot_width\":500,\"renderers\":[{\"id\":\"1433\",\"type\":\"GlyphRenderer\"}],\"title\":{\"id\":\"1397\",\"type\":\"Title\"},\"toolbar\":{\"id\":\"1423\",\"type\":\"Toolbar\"},\"x_range\":{\"id\":\"1399\",\"type\":\"DataRange1d\"},\"x_scale\":{\"id\":\"1403\",\"type\":\"LinearScale\"},\"y_range\":{\"id\":\"1401\",\"type\":\"DataRange1d\"},\"y_scale\":{\"id\":\"1405\",\"type\":\"LinearScale\"}},\"id\":\"1396\",\"subtype\":\"Figure\",\"type\":\"Plot\"},{\"attributes\":{},\"id\":\"1418\",\"type\":\"WheelZoomTool\"},{\"attributes\":{},\"id\":\"1405\",\"type\":\"LinearScale\"},{\"attributes\":{\"active_drag\":\"auto\",\"active_inspect\":\"auto\",\"active_multi\":null,\"active_scroll\":\"auto\",\"active_tap\":\"auto\",\"tools\":[{\"id\":\"1417\",\"type\":\"PanTool\"},{\"id\":\"1418\",\"type\":\"WheelZoomTool\"},{\"id\":\"1419\",\"type\":\"BoxZoomTool\"},{\"id\":\"1420\",\"type\":\"SaveTool\"},{\"id\":\"1421\",\"type\":\"ResetTool\"},{\"id\":\"1422\",\"type\":\"HelpTool\"}]},\"id\":\"1423\",\"type\":\"Toolbar\"},{\"attributes\":{\"data_source\":{\"id\":\"1430\",\"type\":\"ColumnDataSource\"},\"glyph\":{\"id\":\"1431\",\"type\":\"VBar\"},\"hover_glyph\":null,\"muted_glyph\":null,\"nonselection_glyph\":{\"id\":\"1432\",\"type\":\"VBar\"},\"selection_glyph\":null,\"view\":{\"id\":\"1434\",\"type\":\"CDSView\"}},\"id\":\"1433\",\"type\":\"GlyphRenderer\"},{\"attributes\":{},\"id\":\"1420\",\"type\":\"SaveTool\"},{\"attributes\":{\"formatter\":{\"id\":\"1468\",\"type\":\"BasicTickFormatter\"},\"ticker\":{\"id\":\"1413\",\"type\":\"BasicTicker\"}},\"id\":\"1412\",\"type\":\"LinearAxis\"},{\"attributes\":{\"bottom_units\":\"screen\",\"fill_alpha\":{\"value\":0.5},\"fill_color\":{\"value\":\"lightgrey\"},\"left_units\":\"screen\",\"level\":\"overlay\",\"line_alpha\":{\"value\":1.0},\"line_color\":{\"value\":\"black\"},\"line_dash\":[4,4],\"line_width\":{\"value\":2},\"render_mode\":\"css\",\"right_units\":\"screen\",\"top_units\":\"screen\"},\"id\":\"1470\",\"type\":\"BoxAnnotation\"},{\"attributes\":{\"ticker\":{\"id\":\"1408\",\"type\":\"BasicTicker\"}},\"id\":\"1411\",\"type\":\"Grid\"},{\"attributes\":{\"bottom\":{\"field\":\"bottom\"},\"fill_color\":{\"field\":\"fill_color\"},\"line_color\":{\"field\":\"line_color\"},\"top\":{\"field\":\"top\"},\"width\":{\"value\":0.09090909090909091},\"x\":{\"field\":\"x\"}},\"id\":\"1431\",\"type\":\"VBar\"},{\"attributes\":{},\"id\":\"1403\",\"type\":\"LinearScale\"},{\"attributes\":{\"callback\":null},\"id\":\"1401\",\"type\":\"DataRange1d\"},{\"attributes\":{\"overlay\":{\"id\":\"1470\",\"type\":\"BoxAnnotation\"}},\"id\":\"1419\",\"type\":\"BoxZoomTool\"},{\"attributes\":{},\"id\":\"1468\",\"type\":\"BasicTickFormatter\"},{\"attributes\":{\"text\":\"Legend Title (-)\"},\"id\":\"1397\",\"type\":\"Title\"},{\"attributes\":{\"callback\":null,\"data\":{\"bottom\":[1,1,1,1,1,1,1,1,1,1,1],\"fill_color\":[\"#a50026\",\"#d73027\",\"#f46d43\",\"#fdae61\",\"#fee090\",\"#ffffbf\",\"#e0f3f8\",\"#abd9e9\",\"#74add1\",\"#4575b4\",\"#313695\"],\"line_color\":[\"#a50026\",\"#d73027\",\"#f46d43\",\"#fdae61\",\"#fee090\",\"#ffffbf\",\"#e0f3f8\",\"#abd9e9\",\"#74add1\",\"#4575b4\",\"#313695\"],\"top\":[0,0,0,0,0,0,0,0,0,0,0],\"x\":[0.045454545454545456,0.13636363636363635,0.2272727272727273,0.3181818181818182,0.4090909090909091,0.5,0.5909090909090909,0.6818181818181819,0.7727272727272727,0.8636363636363636,0.9545454545454546]},\"selected\":{\"id\":\"1471\",\"type\":\"Selection\"},\"selection_policy\":{\"id\":\"1472\",\"type\":\"UnionRenderers\"}},\"id\":\"1430\",\"type\":\"ColumnDataSource\"},{\"attributes\":{},\"id\":\"1421\",\"type\":\"ResetTool\"},{\"attributes\":{},\"id\":\"1413\",\"type\":\"BasicTicker\"},{\"attributes\":{\"formatter\":{\"id\":\"1466\",\"type\":\"BasicTickFormatter\"},\"ticker\":{\"id\":\"1408\",\"type\":\"BasicTicker\"}},\"id\":\"1407\",\"type\":\"LinearAxis\"},{\"attributes\":{},\"id\":\"1472\",\"type\":\"UnionRenderers\"},{\"attributes\":{},\"id\":\"1471\",\"type\":\"Selection\"},{\"attributes\":{},\"id\":\"1417\",\"type\":\"PanTool\"},{\"attributes\":{},\"id\":\"1466\",\"type\":\"BasicTickFormatter\"},{\"attributes\":{},\"id\":\"1422\",\"type\":\"HelpTool\"},{\"attributes\":{},\"id\":\"1408\",\"type\":\"BasicTicker\"},{\"attributes\":{\"dimension\":1,\"ticker\":{\"id\":\"1413\",\"type\":\"BasicTicker\"}},\"id\":\"1416\",\"type\":\"Grid\"},{\"attributes\":{\"source\":{\"id\":\"1430\",\"type\":\"ColumnDataSource\"}},\"id\":\"1434\",\"type\":\"CDSView\"},{\"attributes\":{\"callback\":null},\"id\":\"1399\",\"type\":\"DataRange1d\"},{\"attributes\":{\"bottom\":{\"field\":\"bottom\"},\"fill_alpha\":{\"value\":0.1},\"fill_color\":{\"value\":\"#1f77b4\"},\"line_alpha\":{\"value\":0.1},\"line_color\":{\"value\":\"#1f77b4\"},\"top\":{\"field\":\"top\"},\"width\":{\"value\":0.09090909090909091},\"x\":{\"field\":\"x\"}},\"id\":\"1432\",\"type\":\"VBar\"}],\"root_ids\":[\"1396\"]},\"title\":\"Bokeh Application\",\"version\":\"1.4.0\"}};\n",
       "  var render_items = [{\"docid\":\"78bdf2ec-88fc-42e0-bde5-ba53c3ebdd43\",\"roots\":{\"1396\":\"65c2707d-dc6a-4ea4-b2f0-c01e63e4ff3c\"}}];\n",
       "  root.Bokeh.embed.embed_items_notebook(docs_json, render_items);\n",
       "\n",
       "  }\n",
       "  if (root.Bokeh !== undefined) {\n",
       "    embed_document(root);\n",
       "  } else {\n",
       "    var attempts = 0;\n",
       "    var timer = setInterval(function(root) {\n",
       "      if (root.Bokeh !== undefined) {\n",
       "        clearInterval(timer);\n",
       "        embed_document(root);\n",
       "      } else {\n",
       "        attempts++;\n",
       "        if (attempts > 100) {\n",
       "          clearInterval(timer);\n",
       "          console.log(\"Bokeh: ERROR: Unable to run BokehJS code because BokehJS library is missing\");\n",
       "        }\n",
       "      }\n",
       "    }, 10, root)\n",
       "  }\n",
       "})(window);"
      ],
      "application/vnd.bokehjs_exec.v0+json": ""
     },
     "metadata": {
      "application/vnd.bokehjs_exec.v0+json": {
       "id": "1396"
      }
     },
     "output_type": "display_data"
    }
   ],
   "source": [
    "#creating the legend for parcel scores\n",
    "\n",
    "palette_name = 'RdYlBu'\n",
    "palette_len = 11\n",
    "palette = vis.brewer[palette_name][palette_len][::-1]\n",
    "vis.legend(palette=palette, minimum =  0, maximum= 1)\n",
    "\n",
    "vis_params_2 = {\n",
    "    'min': 0, 'max': 1,'dimensions': 512,\n",
    "    'palette': palette}\n"
   ]
  },
  {
   "cell_type": "code",
   "execution_count": null,
   "metadata": {},
   "outputs": [],
   "source": []
  },
  {
   "cell_type": "code",
   "execution_count": 27,
   "metadata": {
    "scrolled": true
   },
   "outputs": [
    {
     "data": {
      "text/html": [
       "<div style=\"width:100%;\"><div style=\"position:relative;width:100%;height:0;padding-bottom:60%;\"><span style=\"color:#565656\">Make this Notebook Trusted to load map: File -> Trust Notebook</span><iframe src=\"about:blank\" style=\"position:absolute;width:100%;height:100%;left:0;top:0;border:none !important;\" data-html=%3C%21DOCTYPE%20html%3E%0A%3Chead%3E%20%20%20%20%0A%20%20%20%20%3Cmeta%20http-equiv%3D%22content-type%22%20content%3D%22text/html%3B%20charset%3DUTF-8%22%20/%3E%0A%20%20%20%20%0A%20%20%20%20%20%20%20%20%3Cscript%3E%0A%20%20%20%20%20%20%20%20%20%20%20%20L_NO_TOUCH%20%3D%20false%3B%0A%20%20%20%20%20%20%20%20%20%20%20%20L_DISABLE_3D%20%3D%20false%3B%0A%20%20%20%20%20%20%20%20%3C/script%3E%0A%20%20%20%20%0A%20%20%20%20%3Cstyle%3Ehtml%2C%20body%20%7Bwidth%3A%20100%25%3Bheight%3A%20100%25%3Bmargin%3A%200%3Bpadding%3A%200%3B%7D%3C/style%3E%0A%20%20%20%20%3Cstyle%3E%23map%20%7Bposition%3Aabsolute%3Btop%3A0%3Bbottom%3A0%3Bright%3A0%3Bleft%3A0%3B%7D%3C/style%3E%0A%20%20%20%20%3Cscript%20src%3D%22https%3A//cdn.jsdelivr.net/npm/leaflet%401.6.0/dist/leaflet.js%22%3E%3C/script%3E%0A%20%20%20%20%3Cscript%20src%3D%22https%3A//code.jquery.com/jquery-1.12.4.min.js%22%3E%3C/script%3E%0A%20%20%20%20%3Cscript%20src%3D%22https%3A//maxcdn.bootstrapcdn.com/bootstrap/3.2.0/js/bootstrap.min.js%22%3E%3C/script%3E%0A%20%20%20%20%3Cscript%20src%3D%22https%3A//cdnjs.cloudflare.com/ajax/libs/Leaflet.awesome-markers/2.0.2/leaflet.awesome-markers.js%22%3E%3C/script%3E%0A%20%20%20%20%3Clink%20rel%3D%22stylesheet%22%20href%3D%22https%3A//cdn.jsdelivr.net/npm/leaflet%401.6.0/dist/leaflet.css%22/%3E%0A%20%20%20%20%3Clink%20rel%3D%22stylesheet%22%20href%3D%22https%3A//maxcdn.bootstrapcdn.com/bootstrap/3.2.0/css/bootstrap.min.css%22/%3E%0A%20%20%20%20%3Clink%20rel%3D%22stylesheet%22%20href%3D%22https%3A//maxcdn.bootstrapcdn.com/bootstrap/3.2.0/css/bootstrap-theme.min.css%22/%3E%0A%20%20%20%20%3Clink%20rel%3D%22stylesheet%22%20href%3D%22https%3A//maxcdn.bootstrapcdn.com/font-awesome/4.6.3/css/font-awesome.min.css%22/%3E%0A%20%20%20%20%3Clink%20rel%3D%22stylesheet%22%20href%3D%22https%3A//cdnjs.cloudflare.com/ajax/libs/Leaflet.awesome-markers/2.0.2/leaflet.awesome-markers.css%22/%3E%0A%20%20%20%20%3Clink%20rel%3D%22stylesheet%22%20href%3D%22https%3A//cdn.jsdelivr.net/gh/python-visualization/folium/folium/templates/leaflet.awesome.rotate.min.css%22/%3E%0A%20%20%20%20%0A%20%20%20%20%20%20%20%20%20%20%20%20%3Cmeta%20name%3D%22viewport%22%20content%3D%22width%3Ddevice-width%2C%0A%20%20%20%20%20%20%20%20%20%20%20%20%20%20%20%20initial-scale%3D1.0%2C%20maximum-scale%3D1.0%2C%20user-scalable%3Dno%22%20/%3E%0A%20%20%20%20%20%20%20%20%20%20%20%20%3Cstyle%3E%0A%20%20%20%20%20%20%20%20%20%20%20%20%20%20%20%20%23map_6dafdf8034b14e26ad5cad175cc39c7f%20%7B%0A%20%20%20%20%20%20%20%20%20%20%20%20%20%20%20%20%20%20%20%20position%3A%20relative%3B%0A%20%20%20%20%20%20%20%20%20%20%20%20%20%20%20%20%20%20%20%20width%3A%20100.0%25%3B%0A%20%20%20%20%20%20%20%20%20%20%20%20%20%20%20%20%20%20%20%20height%3A%20500.0px%3B%0A%20%20%20%20%20%20%20%20%20%20%20%20%20%20%20%20%20%20%20%20left%3A%200.0%25%3B%0A%20%20%20%20%20%20%20%20%20%20%20%20%20%20%20%20%20%20%20%20top%3A%200.0%25%3B%0A%20%20%20%20%20%20%20%20%20%20%20%20%20%20%20%20%7D%0A%20%20%20%20%20%20%20%20%20%20%20%20%3C/style%3E%0A%20%20%20%20%20%20%20%20%0A%3C/head%3E%0A%3Cbody%3E%20%20%20%20%0A%20%20%20%20%0A%20%20%20%20%20%20%20%20%20%20%20%20%3Cdiv%20class%3D%22folium-map%22%20id%3D%22map_6dafdf8034b14e26ad5cad175cc39c7f%22%20%3E%3C/div%3E%0A%20%20%20%20%20%20%20%20%0A%3C/body%3E%0A%3Cscript%3E%20%20%20%20%0A%20%20%20%20%0A%20%20%20%20%20%20%20%20%20%20%20%20var%20map_6dafdf8034b14e26ad5cad175cc39c7f%20%3D%20L.map%28%0A%20%20%20%20%20%20%20%20%20%20%20%20%20%20%20%20%22map_6dafdf8034b14e26ad5cad175cc39c7f%22%2C%0A%20%20%20%20%20%20%20%20%20%20%20%20%20%20%20%20%7B%0A%20%20%20%20%20%20%20%20%20%20%20%20%20%20%20%20%20%20%20%20center%3A%20%5B43.25%2C%20-123.5%5D%2C%0A%20%20%20%20%20%20%20%20%20%20%20%20%20%20%20%20%20%20%20%20crs%3A%20L.CRS.EPSG3857%2C%0A%20%20%20%20%20%20%20%20%20%20%20%20%20%20%20%20%20%20%20%20zoom%3A%208%2C%0A%20%20%20%20%20%20%20%20%20%20%20%20%20%20%20%20%20%20%20%20zoomControl%3A%20true%2C%0A%20%20%20%20%20%20%20%20%20%20%20%20%20%20%20%20%20%20%20%20preferCanvas%3A%20false%2C%0A%20%20%20%20%20%20%20%20%20%20%20%20%20%20%20%20%7D%0A%20%20%20%20%20%20%20%20%20%20%20%20%29%3B%0A%0A%20%20%20%20%20%20%20%20%20%20%20%20%0A%0A%20%20%20%20%20%20%20%20%0A%20%20%20%20%0A%20%20%20%20%20%20%20%20%20%20%20%20var%20tile_layer_768b152504b84e45b47105513f6f154e%20%3D%20L.tileLayer%28%0A%20%20%20%20%20%20%20%20%20%20%20%20%20%20%20%20%22https%3A//%7Bs%7D.tile.openstreetmap.org/%7Bz%7D/%7Bx%7D/%7By%7D.png%22%2C%0A%20%20%20%20%20%20%20%20%20%20%20%20%20%20%20%20%7B%22attribution%22%3A%20%22Data%20by%20%5Cu0026copy%3B%20%5Cu003ca%20href%3D%5C%22http%3A//openstreetmap.org%5C%22%5Cu003eOpenStreetMap%5Cu003c/a%5Cu003e%2C%20under%20%5Cu003ca%20href%3D%5C%22http%3A//www.openstreetmap.org/copyright%5C%22%5Cu003eODbL%5Cu003c/a%5Cu003e.%22%2C%20%22detectRetina%22%3A%20false%2C%20%22maxNativeZoom%22%3A%2018%2C%20%22maxZoom%22%3A%2018%2C%20%22minZoom%22%3A%200%2C%20%22noWrap%22%3A%20false%2C%20%22opacity%22%3A%201%2C%20%22subdomains%22%3A%20%22abc%22%2C%20%22tms%22%3A%20false%7D%0A%20%20%20%20%20%20%20%20%20%20%20%20%29.addTo%28map_6dafdf8034b14e26ad5cad175cc39c7f%29%3B%0A%20%20%20%20%20%20%20%20%0A%20%20%20%20%0A%20%20%20%20%20%20%20%20%20%20%20%20var%20tile_layer_0052030756464c4687c904926dd02b7f%20%3D%20L.tileLayer%28%0A%20%20%20%20%20%20%20%20%20%20%20%20%20%20%20%20%22https%3A//earthengine.googleapis.com/v1alpha/projects/earthengine-legacy/maps/5b7b2e5d71dc80cfa7b4006e9e6c7c79-b1ed1accbf35c0d8dc9952ba1a43bd39/tiles/%7Bz%7D/%7Bx%7D/%7By%7D%22%2C%0A%20%20%20%20%20%20%20%20%20%20%20%20%20%20%20%20%7B%22attribution%22%3A%20%22Map%20Data%20%5Cu0026copy%3B%20%5Cu003ca%20href%3D%5C%22https%3A//earthengine.google.com/%5C%22%5Cu003eGoogle%20Earth%20Engine%5Cu003c/a%5Cu003e%22%2C%20%22detectRetina%22%3A%20false%2C%20%22maxNativeZoom%22%3A%2018%2C%20%22maxZoom%22%3A%2018%2C%20%22minZoom%22%3A%200%2C%20%22noWrap%22%3A%20false%2C%20%22opacity%22%3A%201%2C%20%22subdomains%22%3A%20%22abc%22%2C%20%22tms%22%3A%20false%7D%0A%20%20%20%20%20%20%20%20%20%20%20%20%29.addTo%28map_6dafdf8034b14e26ad5cad175cc39c7f%29%3B%0A%20%20%20%20%20%20%20%20%0A%20%20%20%20%0A%20%20%20%20%20%20%20%20%20%20%20%20var%20tile_layer_d261451fa3d04c5f9224bae582cec396%20%3D%20L.tileLayer%28%0A%20%20%20%20%20%20%20%20%20%20%20%20%20%20%20%20%22https%3A//earthengine.googleapis.com/v1alpha/projects/earthengine-legacy/maps/9e54746678a8e10a4ecfc684d3c70ce8-c516ea5215396dd70fdaed783e8b684b/tiles/%7Bz%7D/%7Bx%7D/%7By%7D%22%2C%0A%20%20%20%20%20%20%20%20%20%20%20%20%20%20%20%20%7B%22attribution%22%3A%20%22Map%20Data%20%5Cu0026copy%3B%20%5Cu003ca%20href%3D%5C%22https%3A//earthengine.google.com/%5C%22%5Cu003eGoogle%20Earth%20Engine%5Cu003c/a%5Cu003e%22%2C%20%22detectRetina%22%3A%20false%2C%20%22maxNativeZoom%22%3A%2018%2C%20%22maxZoom%22%3A%2018%2C%20%22minZoom%22%3A%200%2C%20%22noWrap%22%3A%20false%2C%20%22opacity%22%3A%201%2C%20%22subdomains%22%3A%20%22abc%22%2C%20%22tms%22%3A%20false%7D%0A%20%20%20%20%20%20%20%20%20%20%20%20%29.addTo%28map_6dafdf8034b14e26ad5cad175cc39c7f%29%3B%0A%20%20%20%20%20%20%20%20%0A%20%20%20%20%0A%20%20%20%20%20%20%20%20%20%20%20%20var%20tile_layer_94baa3f21a594caa890127da55f6044e%20%3D%20L.tileLayer%28%0A%20%20%20%20%20%20%20%20%20%20%20%20%20%20%20%20%22https%3A//earthengine.googleapis.com/v1alpha/projects/earthengine-legacy/maps/6f7cf72515ef124087fa6cb392af6a2f-86a82385b5d5a3fdf066d29f170a948e/tiles/%7Bz%7D/%7Bx%7D/%7By%7D%22%2C%0A%20%20%20%20%20%20%20%20%20%20%20%20%20%20%20%20%7B%22attribution%22%3A%20%22Map%20Data%20%5Cu0026copy%3B%20%5Cu003ca%20href%3D%5C%22https%3A//earthengine.google.com/%5C%22%5Cu003eGoogle%20Earth%20Engine%5Cu003c/a%5Cu003e%22%2C%20%22detectRetina%22%3A%20false%2C%20%22maxNativeZoom%22%3A%2018%2C%20%22maxZoom%22%3A%2018%2C%20%22minZoom%22%3A%200%2C%20%22noWrap%22%3A%20false%2C%20%22opacity%22%3A%201%2C%20%22subdomains%22%3A%20%22abc%22%2C%20%22tms%22%3A%20false%7D%0A%20%20%20%20%20%20%20%20%20%20%20%20%29.addTo%28map_6dafdf8034b14e26ad5cad175cc39c7f%29%3B%0A%20%20%20%20%20%20%20%20%0A%20%20%20%20%0A%20%20%20%20%20%20%20%20%20%20%20%20var%20tile_layer_fc0f9ed75a5c47e49b93c3aad5ac8810%20%3D%20L.tileLayer%28%0A%20%20%20%20%20%20%20%20%20%20%20%20%20%20%20%20%22https%3A//earthengine.googleapis.com/v1alpha/projects/earthengine-legacy/maps/0e6db6f4d83ddc87897c980b2e0f205f-87174ae84d7544df134eafc5a4b374ac/tiles/%7Bz%7D/%7Bx%7D/%7By%7D%22%2C%0A%20%20%20%20%20%20%20%20%20%20%20%20%20%20%20%20%7B%22attribution%22%3A%20%22Map%20Data%20%5Cu0026copy%3B%20%5Cu003ca%20href%3D%5C%22https%3A//earthengine.google.com/%5C%22%5Cu003eGoogle%20Earth%20Engine%5Cu003c/a%5Cu003e%22%2C%20%22detectRetina%22%3A%20false%2C%20%22maxNativeZoom%22%3A%2018%2C%20%22maxZoom%22%3A%2018%2C%20%22minZoom%22%3A%200%2C%20%22noWrap%22%3A%20false%2C%20%22opacity%22%3A%201%2C%20%22subdomains%22%3A%20%22abc%22%2C%20%22tms%22%3A%20false%7D%0A%20%20%20%20%20%20%20%20%20%20%20%20%29.addTo%28map_6dafdf8034b14e26ad5cad175cc39c7f%29%3B%0A%20%20%20%20%20%20%20%20%0A%20%20%20%20%0A%20%20%20%20%20%20%20%20%20%20%20%20var%20tile_layer_efe096fcd0c6441ba2f46592707b4ca3%20%3D%20L.tileLayer%28%0A%20%20%20%20%20%20%20%20%20%20%20%20%20%20%20%20%22https%3A//earthengine.googleapis.com/v1alpha/projects/earthengine-legacy/maps/43307812530be148a7455d6c875f1621-1ab7cbd523481701d4736f369add8482/tiles/%7Bz%7D/%7Bx%7D/%7By%7D%22%2C%0A%20%20%20%20%20%20%20%20%20%20%20%20%20%20%20%20%7B%22attribution%22%3A%20%22Map%20Data%20%5Cu0026copy%3B%20%5Cu003ca%20href%3D%5C%22https%3A//earthengine.google.com/%5C%22%5Cu003eGoogle%20Earth%20Engine%5Cu003c/a%5Cu003e%22%2C%20%22detectRetina%22%3A%20false%2C%20%22maxNativeZoom%22%3A%2018%2C%20%22maxZoom%22%3A%2018%2C%20%22minZoom%22%3A%200%2C%20%22noWrap%22%3A%20false%2C%20%22opacity%22%3A%201%2C%20%22subdomains%22%3A%20%22abc%22%2C%20%22tms%22%3A%20false%7D%0A%20%20%20%20%20%20%20%20%20%20%20%20%29.addTo%28map_6dafdf8034b14e26ad5cad175cc39c7f%29%3B%0A%20%20%20%20%20%20%20%20%0A%20%20%20%20%0A%20%20%20%20%20%20%20%20%20%20%20%20var%20tile_layer_82b9aa1b2d804895ad60b90910b5831b%20%3D%20L.tileLayer%28%0A%20%20%20%20%20%20%20%20%20%20%20%20%20%20%20%20%22https%3A//earthengine.googleapis.com/v1alpha/projects/earthengine-legacy/maps/c065e1e1f665eea58c91bc3f1d4de240-0746344a8f6a135e4ea4071519e9c7e5/tiles/%7Bz%7D/%7Bx%7D/%7By%7D%22%2C%0A%20%20%20%20%20%20%20%20%20%20%20%20%20%20%20%20%7B%22attribution%22%3A%20%22Map%20Data%20%5Cu0026copy%3B%20%5Cu003ca%20href%3D%5C%22https%3A//earthengine.google.com/%5C%22%5Cu003eGoogle%20Earth%20Engine%5Cu003c/a%5Cu003e%22%2C%20%22detectRetina%22%3A%20false%2C%20%22maxNativeZoom%22%3A%2018%2C%20%22maxZoom%22%3A%2018%2C%20%22minZoom%22%3A%200%2C%20%22noWrap%22%3A%20false%2C%20%22opacity%22%3A%201%2C%20%22subdomains%22%3A%20%22abc%22%2C%20%22tms%22%3A%20false%7D%0A%20%20%20%20%20%20%20%20%20%20%20%20%29.addTo%28map_6dafdf8034b14e26ad5cad175cc39c7f%29%3B%0A%20%20%20%20%20%20%20%20%0A%20%20%20%20%0A%20%20%20%20%20%20%20%20%20%20%20%20var%20layer_control_80b63ed394a4491c9f40c2dfda94ce14%20%3D%20%7B%0A%20%20%20%20%20%20%20%20%20%20%20%20%20%20%20%20base_layers%20%3A%20%7B%0A%20%20%20%20%20%20%20%20%20%20%20%20%20%20%20%20%20%20%20%20%22openstreetmap%22%20%3A%20tile_layer_768b152504b84e45b47105513f6f154e%2C%0A%20%20%20%20%20%20%20%20%20%20%20%20%20%20%20%20%7D%2C%0A%20%20%20%20%20%20%20%20%20%20%20%20%20%20%20%20overlays%20%3A%20%20%7B%0A%20%20%20%20%20%20%20%20%20%20%20%20%20%20%20%20%20%20%20%20%22Parcel%20Score_douglas%22%20%3A%20tile_layer_0052030756464c4687c904926dd02b7f%2C%0A%20%20%20%20%20%20%20%20%20%20%20%20%20%20%20%20%20%20%20%20%22Parcel%20Score_coos%22%20%3A%20tile_layer_d261451fa3d04c5f9224bae582cec396%2C%0A%20%20%20%20%20%20%20%20%20%20%20%20%20%20%20%20%20%20%20%20%22Slopes%22%20%3A%20tile_layer_94baa3f21a594caa890127da55f6044e%2C%0A%20%20%20%20%20%20%20%20%20%20%20%20%20%20%20%20%20%20%20%20%22Douglas_parcels%22%20%3A%20tile_layer_fc0f9ed75a5c47e49b93c3aad5ac8810%2C%0A%20%20%20%20%20%20%20%20%20%20%20%20%20%20%20%20%20%20%20%20%22Bounding_Box%22%20%3A%20tile_layer_efe096fcd0c6441ba2f46592707b4ca3%2C%0A%20%20%20%20%20%20%20%20%20%20%20%20%20%20%20%20%20%20%20%20%22USDA%20Porosity%22%20%3A%20tile_layer_82b9aa1b2d804895ad60b90910b5831b%2C%0A%20%20%20%20%20%20%20%20%20%20%20%20%20%20%20%20%7D%2C%0A%20%20%20%20%20%20%20%20%20%20%20%20%7D%3B%0A%20%20%20%20%20%20%20%20%20%20%20%20L.control.layers%28%0A%20%20%20%20%20%20%20%20%20%20%20%20%20%20%20%20layer_control_80b63ed394a4491c9f40c2dfda94ce14.base_layers%2C%0A%20%20%20%20%20%20%20%20%20%20%20%20%20%20%20%20layer_control_80b63ed394a4491c9f40c2dfda94ce14.overlays%2C%0A%20%20%20%20%20%20%20%20%20%20%20%20%20%20%20%20%7B%22autoZIndex%22%3A%20true%2C%20%22collapsed%22%3A%20true%2C%20%22position%22%3A%20%22topright%22%7D%0A%20%20%20%20%20%20%20%20%20%20%20%20%29.addTo%28map_6dafdf8034b14e26ad5cad175cc39c7f%29%3B%0A%20%20%20%20%20%20%20%20%0A%3C/script%3E onload=\"this.contentDocument.open();this.contentDocument.write(    decodeURIComponent(this.getAttribute('data-html')));this.contentDocument.close();\" allowfullscreen webkitallowfullscreen mozallowfullscreen></iframe></div></div>"
      ],
      "text/plain": [
       "<folium.folium.Map at 0x7fd2e509eed0>"
      ]
     },
     "metadata": {},
     "output_type": "display_data"
    }
   ],
   "source": [
    "#creating the map, visualizing parcel score data for parcels in douglas and coos counties, option to visualize soil texture as well\n",
    "\n",
    "the_map = vis.folium_map(location=[43.25, -123.5], zoom_start=8, height=500)\n",
    "month_names = [\n",
    "    'Jan', 'Feb', 'Mar', 'Apr', 'May', 'Jun', \n",
    "    'Jul', 'Aug', 'Sep', 'Oct', 'Nov', 'Dec']\n",
    "month_name = month_names[month-1]\n",
    "\n",
    "palette_2 = ['black', 'yellow', 'brown', 'green']\n",
    "\n",
    "douglas_img = douglas_county_parcels.getMapId()['image']\n",
    "\n",
    "vis_params_3 = {\n",
    "  'min': 0,\n",
    "  'max': 1.0,\n",
    "  'palette': palette}\n",
    "\n",
    "vis_params_4 = {\n",
    "  'min': 0,\n",
    "  'max': 20.0,\n",
    "  'palette': palette}\n",
    "\n",
    "the_map.add_ee_layer(parcel_score_douglas_2, vis_params_2, name = 'Parcel Score_douglas')\n",
    "the_map.add_ee_layer(parcel_score_coos_2, vis_params_2, name = 'Parcel Score_coos')\n",
    "#the_map.add_ee_layer(top_soils_scaled, vis_params_3, name = 'Top Soils')\n",
    "#the_map.add_ee_layer(bottom_soils_scaled, vis_params_3, name = 'Bottom Soils')\n",
    "the_map.add_ee_layer(slope_img, vis_params_4, name = 'Slopes')\n",
    "#the_map.add_ee_layer(pot_runoff_img_scaled, vis_params_3, name = 'Runoff')\n",
    "#the_map.add_ee_layer(product_1, vis_params_3, name = 'Product_1')\n",
    "#the_map.add_ee_layer(avail_porosity_img_scaled, vis_params_3, name = 'Porosity')\n",
    "the_map.add_ee_layer(douglas_img, {}, name = 'Douglas_parcels')\n",
    "the_map.add_ee_layer(bound_box_img, {}, name = 'Bounding_Box')\n",
    "the_map.add_ee_layer(avail_porosity_img, vis_params_4, name = 'USDA Porosity')\n",
    "\n",
    "vis.folium_display(the_map)\n",
    "\n",
    "\n",
    "#douglas_img = douglas_county_parcels.draw(color = 'green', strokeWidth= 1)\n",
    "#coos_img = coos_county_parcels.draw(color = 'green', strokeWidth= 1)"
   ]
  },
  {
   "cell_type": "code",
   "execution_count": null,
   "metadata": {},
   "outputs": [],
   "source": []
  },
  {
   "cell_type": "code",
   "execution_count": 67,
   "metadata": {},
   "outputs": [],
   "source": [
    "collection_name_d = (\n",
    "    'users/amgadellaboudy/product_1_douglas')\n",
    "product_1_d_asset = ee.data.createAsset(\n",
    "    {'type': 'ImageCollection'}, collection_name_d)\n",
    "description_d= 'Douglas_County_Water_Parcel_Score'\n",
    "\n",
    "collection_name_c = (\n",
    "    'users/amgadellaboudy/product_1_coos')\n",
    "product_1_c_asset = ee.data.createAsset(\n",
    "    {'type': 'ImageCollection'}, collection_name_c)\n",
    "description_c= 'Coos_County_Water_Parcel_Score'\n",
    "oregon_box = [[-124.1, 43.38], [-124.1, 42.88], [-123.6, 42.88], [-123.6, 43.38]]\n",
    "\n",
    "xx_d = ee.batch.Export.image.toAsset(parcel_score_douglas_2, description = description_d, assetId = product_1_d_asset['id'] + '/' + description_d, region=oregon_box, scale = 90 )\n",
    "xx_c = ee.batch.Export.image.toAsset(parcel_score_coos_2, description = description_c, assetId = product_1_c_asset['id'] + '/' + description_c, region= oregon_box, scale = 90)\n",
    "xx_d.start()\n",
    "xx_c.start()"
   ]
  },
  {
   "cell_type": "markdown",
   "metadata": {},
   "source": [
    "## Product 2\n",
    "Ratio of potential_runoff:available_porosity?"
   ]
  },
  {
   "cell_type": "code",
   "execution_count": 13,
   "metadata": {},
   "outputs": [],
   "source": [
    "runoff_pixel_area_m2 = pot_runoff_img.pixelArea()\n",
    "pot_runoff_img_mm = pot_runoff_img.divide(runoff_pixel_area_m2).multiply(seconds_per_month[month-1] * 1000)\n",
    "# pot_runoff_mask = pot_runoff_img_mm.gte(1000)\n",
    "avail_porosity_mask = avail_porosity_img.gte(50)"
   ]
  },
  {
   "cell_type": "code",
   "execution_count": 14,
   "metadata": {},
   "outputs": [
    {
     "data": {
      "text/plain": [
       "[16.847965699571173, 1162.8066667861892]"
      ]
     },
     "execution_count": 14,
     "metadata": {},
     "output_type": "execute_result"
    }
   ],
   "source": [
    "norm.img_range(pot_runoff_img_mm.updateMask(runoff_mask), area_of_interest=bbox)\n",
    "#norm.img_range(pot_runoff_img_mm, area_of_interest=bbox)"
   ]
  },
  {
   "cell_type": "code",
   "execution_count": 15,
   "metadata": {},
   "outputs": [
    {
     "data": {
      "text/plain": [
       "[1147915.625, 1592437.625]"
      ]
     },
     "execution_count": 15,
     "metadata": {},
     "output_type": "execute_result"
    }
   ],
   "source": [
    "norm.img_range(runoff_pixel_area_m2, area_of_interest=bbox)"
   ]
  },
  {
   "cell_type": "code",
   "execution_count": 16,
   "metadata": {},
   "outputs": [
    {
     "data": {
      "text/plain": [
       "[0, 205.34410095214844]"
      ]
     },
     "execution_count": 16,
     "metadata": {},
     "output_type": "execute_result"
    }
   ],
   "source": [
    "norm.img_range(avail_porosity_img, area_of_interest=bbox)"
   ]
  },
  {
   "cell_type": "code",
   "execution_count": null,
   "metadata": {},
   "outputs": [],
   "source": []
  },
  {
   "cell_type": "code",
   "execution_count": 17,
   "metadata": {},
   "outputs": [],
   "source": [
    "product_2_raw = (\n",
    "    pot_runoff_img_mm\n",
    "    .divide(avail_porosity_img)\n",
    "    .updateMask(slope_mask)\n",
    "    .updateMask(avail_porosity_mask)\n",
    "    .updateMask(runoff_mask))\n",
    "product_2_mask = product_2_raw.gte(1)\n",
    "product_2 = product_2_raw.updateMask(product_2_mask)"
   ]
  },
  {
   "cell_type": "code",
   "execution_count": 18,
   "metadata": {},
   "outputs": [
    {
     "data": {
      "text/html": [
       "\n",
       "\n",
       "\n",
       "\n",
       "\n",
       "\n",
       "  <div class=\"bk-root\" id=\"82430d28-8e69-4356-b373-2ee67a10f30d\" data-root-id=\"1396\"></div>\n"
      ]
     },
     "metadata": {},
     "output_type": "display_data"
    },
    {
     "data": {
      "application/javascript": [
       "(function(root) {\n",
       "  function embed_document(root) {\n",
       "    \n",
       "  var docs_json = {\"9c3c99f8-5cb9-4b76-bcee-d8967f9448c4\":{\"roots\":{\"references\":[{\"attributes\":{\"below\":[{\"id\":\"1407\",\"type\":\"LinearAxis\"}],\"center\":[{\"id\":\"1411\",\"type\":\"Grid\"},{\"id\":\"1416\",\"type\":\"Grid\"}],\"left\":[{\"id\":\"1412\",\"type\":\"LinearAxis\"}],\"plot_height\":75,\"plot_width\":500,\"renderers\":[{\"id\":\"1433\",\"type\":\"GlyphRenderer\"}],\"title\":{\"id\":\"1397\",\"type\":\"Title\"},\"toolbar\":{\"id\":\"1423\",\"type\":\"Toolbar\"},\"x_range\":{\"id\":\"1399\",\"type\":\"DataRange1d\"},\"x_scale\":{\"id\":\"1403\",\"type\":\"LinearScale\"},\"y_range\":{\"id\":\"1401\",\"type\":\"DataRange1d\"},\"y_scale\":{\"id\":\"1405\",\"type\":\"LinearScale\"}},\"id\":\"1396\",\"subtype\":\"Figure\",\"type\":\"Plot\"},{\"attributes\":{\"dimension\":1,\"ticker\":{\"id\":\"1413\",\"type\":\"BasicTicker\"}},\"id\":\"1416\",\"type\":\"Grid\"},{\"attributes\":{},\"id\":\"1417\",\"type\":\"PanTool\"},{\"attributes\":{\"ticker\":{\"id\":\"1408\",\"type\":\"BasicTicker\"}},\"id\":\"1411\",\"type\":\"Grid\"},{\"attributes\":{},\"id\":\"1470\",\"type\":\"Selection\"},{\"attributes\":{},\"id\":\"1420\",\"type\":\"SaveTool\"},{\"attributes\":{},\"id\":\"1469\",\"type\":\"BasicTickFormatter\"},{\"attributes\":{\"source\":{\"id\":\"1430\",\"type\":\"ColumnDataSource\"}},\"id\":\"1434\",\"type\":\"CDSView\"},{\"attributes\":{},\"id\":\"1422\",\"type\":\"HelpTool\"},{\"attributes\":{\"bottom\":{\"field\":\"bottom\"},\"fill_color\":{\"field\":\"fill_color\"},\"line_color\":{\"field\":\"line_color\"},\"top\":{\"field\":\"top\"},\"width\":{\"value\":1.8714696683083334},\"x\":{\"field\":\"x\"}},\"id\":\"1431\",\"type\":\"VBar\"},{\"attributes\":{},\"id\":\"1405\",\"type\":\"LinearScale\"},{\"attributes\":{},\"id\":\"1467\",\"type\":\"BasicTickFormatter\"},{\"attributes\":{},\"id\":\"1413\",\"type\":\"BasicTicker\"},{\"attributes\":{},\"id\":\"1403\",\"type\":\"LinearScale\"},{\"attributes\":{\"text\":\"Legend Title (-)\"},\"id\":\"1397\",\"type\":\"Title\"},{\"attributes\":{\"formatter\":{\"id\":\"1467\",\"type\":\"BasicTickFormatter\"},\"ticker\":{\"id\":\"1408\",\"type\":\"BasicTicker\"}},\"id\":\"1407\",\"type\":\"LinearAxis\"},{\"attributes\":{\"callback\":null},\"id\":\"1399\",\"type\":\"DataRange1d\"},{\"attributes\":{},\"id\":\"1471\",\"type\":\"UnionRenderers\"},{\"attributes\":{\"callback\":null,\"data\":{\"bottom\":[1,1,1,1,1,1,1,1,1,1,1],\"fill_color\":[\"#543005\",\"#8c510a\",\"#bf812d\",\"#dfc27d\",\"#f6e8c3\",\"#f5f5f5\",\"#c7eae5\",\"#80cdc1\",\"#35978f\",\"#01665e\",\"#003c30\"],\"line_color\":[\"#543005\",\"#8c510a\",\"#bf812d\",\"#dfc27d\",\"#f6e8c3\",\"#f5f5f5\",\"#c7eae5\",\"#80cdc1\",\"#35978f\",\"#01665e\",\"#003c30\"],\"top\":[0,0,0,0,0,0,0,0,0,0,0],\"x\":[1.935739272689284,3.8072089409976173,5.67867860930595,7.5501482776142845,9.421617945922616,11.293087614230952,13.164557282539285,15.036026950847617,16.90749661915595,18.778966287464286,20.65043595577262]},\"selected\":{\"id\":\"1470\",\"type\":\"Selection\"},\"selection_policy\":{\"id\":\"1471\",\"type\":\"UnionRenderers\"}},\"id\":\"1430\",\"type\":\"ColumnDataSource\"},{\"attributes\":{},\"id\":\"1408\",\"type\":\"BasicTicker\"},{\"attributes\":{},\"id\":\"1418\",\"type\":\"WheelZoomTool\"},{\"attributes\":{\"active_drag\":\"auto\",\"active_inspect\":\"auto\",\"active_multi\":null,\"active_scroll\":\"auto\",\"active_tap\":\"auto\",\"tools\":[{\"id\":\"1417\",\"type\":\"PanTool\"},{\"id\":\"1418\",\"type\":\"WheelZoomTool\"},{\"id\":\"1419\",\"type\":\"BoxZoomTool\"},{\"id\":\"1420\",\"type\":\"SaveTool\"},{\"id\":\"1421\",\"type\":\"ResetTool\"},{\"id\":\"1422\",\"type\":\"HelpTool\"}]},\"id\":\"1423\",\"type\":\"Toolbar\"},{\"attributes\":{\"bottom\":{\"field\":\"bottom\"},\"fill_alpha\":{\"value\":0.1},\"fill_color\":{\"value\":\"#1f77b4\"},\"line_alpha\":{\"value\":0.1},\"line_color\":{\"value\":\"#1f77b4\"},\"top\":{\"field\":\"top\"},\"width\":{\"value\":1.8714696683083334},\"x\":{\"field\":\"x\"}},\"id\":\"1432\",\"type\":\"VBar\"},{\"attributes\":{\"callback\":null},\"id\":\"1401\",\"type\":\"DataRange1d\"},{\"attributes\":{\"bottom_units\":\"screen\",\"fill_alpha\":{\"value\":0.5},\"fill_color\":{\"value\":\"lightgrey\"},\"left_units\":\"screen\",\"level\":\"overlay\",\"line_alpha\":{\"value\":1.0},\"line_color\":{\"value\":\"black\"},\"line_dash\":[4,4],\"line_width\":{\"value\":2},\"render_mode\":\"css\",\"right_units\":\"screen\",\"top_units\":\"screen\"},\"id\":\"1472\",\"type\":\"BoxAnnotation\"},{\"attributes\":{\"overlay\":{\"id\":\"1472\",\"type\":\"BoxAnnotation\"}},\"id\":\"1419\",\"type\":\"BoxZoomTool\"},{\"attributes\":{\"formatter\":{\"id\":\"1469\",\"type\":\"BasicTickFormatter\"},\"ticker\":{\"id\":\"1413\",\"type\":\"BasicTicker\"}},\"id\":\"1412\",\"type\":\"LinearAxis\"},{\"attributes\":{\"data_source\":{\"id\":\"1430\",\"type\":\"ColumnDataSource\"},\"glyph\":{\"id\":\"1431\",\"type\":\"VBar\"},\"hover_glyph\":null,\"muted_glyph\":null,\"nonselection_glyph\":{\"id\":\"1432\",\"type\":\"VBar\"},\"selection_glyph\":null,\"view\":{\"id\":\"1434\",\"type\":\"CDSView\"}},\"id\":\"1433\",\"type\":\"GlyphRenderer\"},{\"attributes\":{},\"id\":\"1421\",\"type\":\"ResetTool\"}],\"root_ids\":[\"1396\"]},\"title\":\"Bokeh Application\",\"version\":\"1.4.0\"}};\n",
       "  var render_items = [{\"docid\":\"9c3c99f8-5cb9-4b76-bcee-d8967f9448c4\",\"roots\":{\"1396\":\"82430d28-8e69-4356-b373-2ee67a10f30d\"}}];\n",
       "  root.Bokeh.embed.embed_items_notebook(docs_json, render_items);\n",
       "\n",
       "  }\n",
       "  if (root.Bokeh !== undefined) {\n",
       "    embed_document(root);\n",
       "  } else {\n",
       "    var attempts = 0;\n",
       "    var timer = setInterval(function(root) {\n",
       "      if (root.Bokeh !== undefined) {\n",
       "        clearInterval(timer);\n",
       "        embed_document(root);\n",
       "      } else {\n",
       "        attempts++;\n",
       "        if (attempts > 100) {\n",
       "          clearInterval(timer);\n",
       "          console.log(\"Bokeh: ERROR: Unable to run BokehJS code because BokehJS library is missing\");\n",
       "        }\n",
       "      }\n",
       "    }, 10, root)\n",
       "  }\n",
       "})(window);"
      ],
      "application/vnd.bokehjs_exec.v0+json": ""
     },
     "metadata": {
      "application/vnd.bokehjs_exec.v0+json": {
       "id": "1396"
      }
     },
     "output_type": "display_data"
    }
   ],
   "source": [
    "product_2_range = norm.img_range(product_2, area_of_interest=bbox)\n",
    "\n",
    "\n",
    "palette_name = 'BrBG'\n",
    "palette_len = 11\n",
    "palette = vis.brewer[palette_name][palette_len][::-1]\n",
    "vis.legend(palette=palette, minimum=product_2_range[0], maximum=product_2_range[1])\n",
    "\n",
    "box_corners = bbox.toGeoJSON()['coordinates'][0]\n",
    "center_lon = mean([corner[0] for corner in box_corners])\n",
    "center_lat = mean([corner[1] for corner in box_corners])\n",
    "\n",
    "vis_params = {\n",
    "    'min': product_2_range[0], 'max': product_2_range[1], 'dimensions': 512,\n",
    "    'palette': palette}"
   ]
  },
  {
   "cell_type": "code",
   "execution_count": 19,
   "metadata": {},
   "outputs": [
    {
     "data": {
      "text/html": [
       "<div style=\"width:100%;\"><div style=\"position:relative;width:100%;height:0;padding-bottom:60%;\"><span style=\"color:#565656\">Make this Notebook Trusted to load map: File -> Trust Notebook</span><iframe src=\"about:blank\" style=\"position:absolute;width:100%;height:100%;left:0;top:0;border:none !important;\" data-html=%3C%21DOCTYPE%20html%3E%0A%3Chead%3E%20%20%20%20%0A%20%20%20%20%3Cmeta%20http-equiv%3D%22content-type%22%20content%3D%22text/html%3B%20charset%3DUTF-8%22%20/%3E%0A%20%20%20%20%0A%20%20%20%20%20%20%20%20%3Cscript%3E%0A%20%20%20%20%20%20%20%20%20%20%20%20L_NO_TOUCH%20%3D%20false%3B%0A%20%20%20%20%20%20%20%20%20%20%20%20L_DISABLE_3D%20%3D%20false%3B%0A%20%20%20%20%20%20%20%20%3C/script%3E%0A%20%20%20%20%0A%20%20%20%20%3Cstyle%3Ehtml%2C%20body%20%7Bwidth%3A%20100%25%3Bheight%3A%20100%25%3Bmargin%3A%200%3Bpadding%3A%200%3B%7D%3C/style%3E%0A%20%20%20%20%3Cstyle%3E%23map%20%7Bposition%3Aabsolute%3Btop%3A0%3Bbottom%3A0%3Bright%3A0%3Bleft%3A0%3B%7D%3C/style%3E%0A%20%20%20%20%3Cscript%20src%3D%22https%3A//cdn.jsdelivr.net/npm/leaflet%401.6.0/dist/leaflet.js%22%3E%3C/script%3E%0A%20%20%20%20%3Cscript%20src%3D%22https%3A//code.jquery.com/jquery-1.12.4.min.js%22%3E%3C/script%3E%0A%20%20%20%20%3Cscript%20src%3D%22https%3A//maxcdn.bootstrapcdn.com/bootstrap/3.2.0/js/bootstrap.min.js%22%3E%3C/script%3E%0A%20%20%20%20%3Cscript%20src%3D%22https%3A//cdnjs.cloudflare.com/ajax/libs/Leaflet.awesome-markers/2.0.2/leaflet.awesome-markers.js%22%3E%3C/script%3E%0A%20%20%20%20%3Clink%20rel%3D%22stylesheet%22%20href%3D%22https%3A//cdn.jsdelivr.net/npm/leaflet%401.6.0/dist/leaflet.css%22/%3E%0A%20%20%20%20%3Clink%20rel%3D%22stylesheet%22%20href%3D%22https%3A//maxcdn.bootstrapcdn.com/bootstrap/3.2.0/css/bootstrap.min.css%22/%3E%0A%20%20%20%20%3Clink%20rel%3D%22stylesheet%22%20href%3D%22https%3A//maxcdn.bootstrapcdn.com/bootstrap/3.2.0/css/bootstrap-theme.min.css%22/%3E%0A%20%20%20%20%3Clink%20rel%3D%22stylesheet%22%20href%3D%22https%3A//maxcdn.bootstrapcdn.com/font-awesome/4.6.3/css/font-awesome.min.css%22/%3E%0A%20%20%20%20%3Clink%20rel%3D%22stylesheet%22%20href%3D%22https%3A//cdnjs.cloudflare.com/ajax/libs/Leaflet.awesome-markers/2.0.2/leaflet.awesome-markers.css%22/%3E%0A%20%20%20%20%3Clink%20rel%3D%22stylesheet%22%20href%3D%22https%3A//cdn.jsdelivr.net/gh/python-visualization/folium/folium/templates/leaflet.awesome.rotate.min.css%22/%3E%0A%20%20%20%20%0A%20%20%20%20%20%20%20%20%20%20%20%20%3Cmeta%20name%3D%22viewport%22%20content%3D%22width%3Ddevice-width%2C%0A%20%20%20%20%20%20%20%20%20%20%20%20%20%20%20%20initial-scale%3D1.0%2C%20maximum-scale%3D1.0%2C%20user-scalable%3Dno%22%20/%3E%0A%20%20%20%20%20%20%20%20%20%20%20%20%3Cstyle%3E%0A%20%20%20%20%20%20%20%20%20%20%20%20%20%20%20%20%23map_d7d519e354e24ac2a11575027ccaac63%20%7B%0A%20%20%20%20%20%20%20%20%20%20%20%20%20%20%20%20%20%20%20%20position%3A%20relative%3B%0A%20%20%20%20%20%20%20%20%20%20%20%20%20%20%20%20%20%20%20%20width%3A%20100.0%25%3B%0A%20%20%20%20%20%20%20%20%20%20%20%20%20%20%20%20%20%20%20%20height%3A%20500.0px%3B%0A%20%20%20%20%20%20%20%20%20%20%20%20%20%20%20%20%20%20%20%20left%3A%200.0%25%3B%0A%20%20%20%20%20%20%20%20%20%20%20%20%20%20%20%20%20%20%20%20top%3A%200.0%25%3B%0A%20%20%20%20%20%20%20%20%20%20%20%20%20%20%20%20%7D%0A%20%20%20%20%20%20%20%20%20%20%20%20%3C/style%3E%0A%20%20%20%20%20%20%20%20%0A%3C/head%3E%0A%3Cbody%3E%20%20%20%20%0A%20%20%20%20%0A%20%20%20%20%20%20%20%20%20%20%20%20%3Cdiv%20class%3D%22folium-map%22%20id%3D%22map_d7d519e354e24ac2a11575027ccaac63%22%20%3E%3C/div%3E%0A%20%20%20%20%20%20%20%20%0A%3C/body%3E%0A%3Cscript%3E%20%20%20%20%0A%20%20%20%20%0A%20%20%20%20%20%20%20%20%20%20%20%20var%20map_d7d519e354e24ac2a11575027ccaac63%20%3D%20L.map%28%0A%20%20%20%20%20%20%20%20%20%20%20%20%20%20%20%20%22map_d7d519e354e24ac2a11575027ccaac63%22%2C%0A%20%20%20%20%20%20%20%20%20%20%20%20%20%20%20%20%7B%0A%20%20%20%20%20%20%20%20%20%20%20%20%20%20%20%20%20%20%20%20center%3A%20%5B37.1%2C%20-95.9%5D%2C%0A%20%20%20%20%20%20%20%20%20%20%20%20%20%20%20%20%20%20%20%20crs%3A%20L.CRS.EPSG3857%2C%0A%20%20%20%20%20%20%20%20%20%20%20%20%20%20%20%20%20%20%20%20zoom%3A%204%2C%0A%20%20%20%20%20%20%20%20%20%20%20%20%20%20%20%20%20%20%20%20zoomControl%3A%20true%2C%0A%20%20%20%20%20%20%20%20%20%20%20%20%20%20%20%20%20%20%20%20preferCanvas%3A%20false%2C%0A%20%20%20%20%20%20%20%20%20%20%20%20%20%20%20%20%7D%0A%20%20%20%20%20%20%20%20%20%20%20%20%29%3B%0A%0A%20%20%20%20%20%20%20%20%20%20%20%20%0A%0A%20%20%20%20%20%20%20%20%0A%20%20%20%20%0A%20%20%20%20%20%20%20%20%20%20%20%20var%20tile_layer_125841498e2a4e75ad462935285c2f1e%20%3D%20L.tileLayer%28%0A%20%20%20%20%20%20%20%20%20%20%20%20%20%20%20%20%22https%3A//%7Bs%7D.tile.openstreetmap.org/%7Bz%7D/%7Bx%7D/%7By%7D.png%22%2C%0A%20%20%20%20%20%20%20%20%20%20%20%20%20%20%20%20%7B%22attribution%22%3A%20%22Data%20by%20%5Cu0026copy%3B%20%5Cu003ca%20href%3D%5C%22http%3A//openstreetmap.org%5C%22%5Cu003eOpenStreetMap%5Cu003c/a%5Cu003e%2C%20under%20%5Cu003ca%20href%3D%5C%22http%3A//www.openstreetmap.org/copyright%5C%22%5Cu003eODbL%5Cu003c/a%5Cu003e.%22%2C%20%22detectRetina%22%3A%20false%2C%20%22maxNativeZoom%22%3A%2018%2C%20%22maxZoom%22%3A%2018%2C%20%22minZoom%22%3A%200%2C%20%22noWrap%22%3A%20false%2C%20%22opacity%22%3A%201%2C%20%22subdomains%22%3A%20%22abc%22%2C%20%22tms%22%3A%20false%7D%0A%20%20%20%20%20%20%20%20%20%20%20%20%29.addTo%28map_d7d519e354e24ac2a11575027ccaac63%29%3B%0A%20%20%20%20%20%20%20%20%0A%20%20%20%20%0A%20%20%20%20%20%20%20%20%20%20%20%20var%20tile_layer_d6bd51fb42b14da090d69a245a5d57fb%20%3D%20L.tileLayer%28%0A%20%20%20%20%20%20%20%20%20%20%20%20%20%20%20%20%22https%3A//earthengine.googleapis.com/v1alpha/projects/earthengine-legacy/maps/184c4ab902853d44fe11ed2368dd1fb4-7e265a6257cb34238349b1e49c26517a/tiles/%7Bz%7D/%7Bx%7D/%7By%7D%22%2C%0A%20%20%20%20%20%20%20%20%20%20%20%20%20%20%20%20%7B%22attribution%22%3A%20%22Map%20Data%20%5Cu0026copy%3B%20%5Cu003ca%20href%3D%5C%22https%3A//earthengine.google.com/%5C%22%5Cu003eGoogle%20Earth%20Engine%5Cu003c/a%5Cu003e%22%2C%20%22detectRetina%22%3A%20false%2C%20%22maxNativeZoom%22%3A%2018%2C%20%22maxZoom%22%3A%2018%2C%20%22minZoom%22%3A%200%2C%20%22noWrap%22%3A%20false%2C%20%22opacity%22%3A%201%2C%20%22subdomains%22%3A%20%22abc%22%2C%20%22tms%22%3A%20false%7D%0A%20%20%20%20%20%20%20%20%20%20%20%20%29.addTo%28map_d7d519e354e24ac2a11575027ccaac63%29%3B%0A%20%20%20%20%20%20%20%20%0A%20%20%20%20%0A%20%20%20%20%20%20%20%20%20%20%20%20var%20layer_control_695930d07101474c8edcc785ccc7e6f1%20%3D%20%7B%0A%20%20%20%20%20%20%20%20%20%20%20%20%20%20%20%20base_layers%20%3A%20%7B%0A%20%20%20%20%20%20%20%20%20%20%20%20%20%20%20%20%20%20%20%20%22openstreetmap%22%20%3A%20tile_layer_125841498e2a4e75ad462935285c2f1e%2C%0A%20%20%20%20%20%20%20%20%20%20%20%20%20%20%20%20%7D%2C%0A%20%20%20%20%20%20%20%20%20%20%20%20%20%20%20%20overlays%20%3A%20%20%7B%0A%20%20%20%20%20%20%20%20%20%20%20%20%20%20%20%20%20%20%20%20%22Product%202%3A%20Jul%22%20%3A%20tile_layer_d6bd51fb42b14da090d69a245a5d57fb%2C%0A%20%20%20%20%20%20%20%20%20%20%20%20%20%20%20%20%7D%2C%0A%20%20%20%20%20%20%20%20%20%20%20%20%7D%3B%0A%20%20%20%20%20%20%20%20%20%20%20%20L.control.layers%28%0A%20%20%20%20%20%20%20%20%20%20%20%20%20%20%20%20layer_control_695930d07101474c8edcc785ccc7e6f1.base_layers%2C%0A%20%20%20%20%20%20%20%20%20%20%20%20%20%20%20%20layer_control_695930d07101474c8edcc785ccc7e6f1.overlays%2C%0A%20%20%20%20%20%20%20%20%20%20%20%20%20%20%20%20%7B%22autoZIndex%22%3A%20true%2C%20%22collapsed%22%3A%20true%2C%20%22position%22%3A%20%22topright%22%7D%0A%20%20%20%20%20%20%20%20%20%20%20%20%29.addTo%28map_d7d519e354e24ac2a11575027ccaac63%29%3B%0A%20%20%20%20%20%20%20%20%0A%3C/script%3E onload=\"this.contentDocument.open();this.contentDocument.write(    decodeURIComponent(this.getAttribute('data-html')));this.contentDocument.close();\" allowfullscreen webkitallowfullscreen mozallowfullscreen></iframe></div></div>"
      ],
      "text/plain": [
       "<folium.folium.Map at 0x7fbad5762850>"
      ]
     },
     "metadata": {},
     "output_type": "display_data"
    }
   ],
   "source": [
    "the_map = vis.folium_map(location=[center_lat, center_lon], zoom_start=4, height=500)\n",
    "the_map.add_ee_layer(product_2, vis_params, 'Product 2: ' + month_name)\n",
    "vis.folium_display(the_map)"
   ]
  },
  {
   "cell_type": "code",
   "execution_count": null,
   "metadata": {},
   "outputs": [],
   "source": []
  }
 ],
 "metadata": {
  "kernelspec": {
   "display_name": "Python 3",
   "language": "python",
   "name": "python3"
  },
  "language_info": {
   "codemirror_mode": {
    "name": "ipython",
    "version": 3
   },
   "file_extension": ".py",
   "mimetype": "text/x-python",
   "name": "python",
   "nbconvert_exporter": "python",
   "pygments_lexer": "ipython3",
   "version": "3.7.6"
  }
 },
 "nbformat": 4,
 "nbformat_minor": 4
}
