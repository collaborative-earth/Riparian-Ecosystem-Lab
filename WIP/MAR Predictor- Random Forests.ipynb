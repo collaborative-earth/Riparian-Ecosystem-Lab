{
 "cells": [
  {
   "cell_type": "code",
   "execution_count": 2,
   "metadata": {},
   "outputs": [],
   "source": [
    "import ee\n",
    "import numpy as np\n",
    "import pandas as pd\n",
    "import geopandas as gpd\n",
    "from earthshot import mon_stats\n",
    "from earthshot import water_viz as vis\n",
    "from earthshot import normalize as norm\n",
    "from statistics import mean\n",
    "\n",
    "from pytorch_tabnet.tab_model import TabNetClassifier\n",
    "from sklearn.preprocessing import LabelEncoder\n",
    "from sklearn.metrics import roc_auc_score"
   ]
  },
  {
   "cell_type": "code",
   "execution_count": 3,
   "metadata": {},
   "outputs": [],
   "source": [
    "ee.Initialize()"
   ]
  },
  {
   "cell_type": "code",
   "execution_count": 4,
   "metadata": {},
   "outputs": [],
   "source": [
    "#Function to convert FeatureCollection into DataFrame\n",
    "def fc2df(fc):\n",
    "    # Convert a FeatureCollection into a pandas DataFrame\n",
    "    # Features is a list of dict with the output\n",
    "    features = fc.getInfo()['features']\n",
    "\n",
    "    dictarr = []\n",
    "\n",
    "    for f in features:\n",
    "        # Store all attributes in a dict\n",
    "        attr = f['properties']\n",
    "        # and treat geometry separately\n",
    "        attr['geometry'] = f['geometry']  # GeoJSON Feature!\n",
    "        # attr['geometrytype'] = f['geometry']['type']\n",
    "        dictarr.append(attr)\n",
    "\n",
    "    df = gpd.GeoDataFrame(dictarr)\n",
    "    # Convert GeoJSON features to shape\n",
    "    df['geometry'] = map(lambda s: np.shape(s), df.geometry)    \n",
    "    return df"
   ]
  },
  {
   "cell_type": "code",
   "execution_count": 5,
   "metadata": {},
   "outputs": [],
   "source": [
    "#Function to convert an image into featurecollection into Dataframe for ML processing\n",
    "def extract_point_values(img_name, pts):\n",
    "    image = img_name\n",
    "\n",
    "    fc_image_red = image.reduceRegions(collection=pts,\n",
    "                                  reducer=ee.Reducer.mean(),\n",
    "                                  scale=30)\n",
    "\n",
    "    # Convert to Pandas Dataframe\n",
    "    df_image_red = fc2df(fc_image_red)\n",
    "\n",
    "\n",
    "    return df_image_red"
   ]
  },
  {
   "cell_type": "code",
   "execution_count": 6,
   "metadata": {},
   "outputs": [],
   "source": [
    "#Import Global MAR Inventory\n",
    "MAR_swales = ee.FeatureCollection('users/amgadellaboudy/Global_MAR_Inventory')"
   ]
  },
  {
   "cell_type": "code",
   "execution_count": 7,
   "metadata": {},
   "outputs": [],
   "source": [
    "#Import variables in (Slope, Porosity, Runoff, Soil Types, Annual Precipitation), restrict to global MAR locations\n",
    "slope_img = ee.Image('users/jamesmcc/merit_slope/merit_terrain_slope').clip(MAR_swales)\n",
    "\n",
    "smap_usda_clim = ee.ImageCollection('users/jamesmcc/smap_usda_climatology')\n",
    "avail_porosity = (smap_usda_clim\n",
    "                  .filter(ee.Filter.eq('band', 'avail_porosity_mm')))\n",
    "avail_porosity_img = avail_porosity.sum()\n",
    "avail_porosity_img= avail_porosity_img.clip(MAR_swales)\n",
    "\n",
    "runoff_clim = ee.ImageCollection(\"ECMWF/ERA5_LAND/MONTHLY\").select('surface_runoff')\n",
    "runoff_clim_m = mon_stats.bands_avgs(['surface_runoff'], runoff_clim)\n",
    "runoff_img = ee.ImageCollection(runoff_clim_m['avgs'].get('surface_runoff')).sum().multiply(720)\n",
    "runoff_img = runoff_img.clip(MAR_swales)\n",
    "\n",
    "precip_clim = ee.Image(\"OpenLandMap/CLM/CLM_PRECIPITATION_SM2RAIN_M/v01\")\n",
    "precip_img = precip_clim.reduce('sum')\n",
    "precip_img = precip_img.clip(MAR_swales)\n",
    "\n",
    "soil_types = ee.Image(\"OpenLandMap/SOL/SOL_TEXTURE-CLASS_USDA-TT_M/v02\")\n",
    "\n",
    "top_soils = soil_types.expression('soil_0 + soil_10 + soil_30',\n",
    "                             {'soil_0': soil_types.select('b0'),\n",
    "                             'soil_10': soil_types.select('b10'),\n",
    "                             'soil_30': soil_types.select('b30')})\n",
    "\n",
    "bottom_soils = soil_types.expression('soil_60 + soil_100 + soil_200',\n",
    "                                 {'soil_60': soil_types.select('b60'),\n",
    "                                  'soil_100': soil_types.select('b100'),\n",
    "                                  'soil_200': soil_types.select('b200')})\n",
    "\n",
    "top_soil_img = top_soils.clip(MAR_swales)\n",
    "bottom_soil_img = bottom_soils.clip(MAR_swales)\n",
    "\n",
    "water_clim = ee.ImageCollection('GLCF/GLS_WATER').select('water')\n",
    "water_img = water_clim.reduce(reducer = ee.Reducer.min())"
   ]
  },
  {
   "cell_type": "code",
   "execution_count": null,
   "metadata": {},
   "outputs": [
    {
     "name": "stderr",
     "output_type": "stream",
     "text": [
      "/opt/anaconda3/lib/python3.7/site-packages/geopandas/geodataframe.py:1321: UserWarning: Geometry column does not contain geometry.\n",
      "  warnings.warn(\"Geometry column does not contain geometry.\")\n"
     ]
    }
   ],
   "source": [
    "#Create dataframes out of each variable, concatenate them to create dataframe for ML\n",
    "\n",
    "df_slope = extract_point_values(slope_img, MAR_swales)\n",
    "df_slope.rename(columns = {'mean' : 'Slope'}, inplace = True)\n",
    "\n",
    "porosity = extract_point_values(avail_porosity_img, MAR_swales)\n",
    "porosity.rename(columns = {'mean' : 'Porosity'}, inplace = True)\n",
    "porosity = porosity['Porosity']\n",
    "\n",
    "runoff = extract_point_values(runoff_img, MAR_swales)\n",
    "runoff.rename(columns = {'mean' : 'Runoff'}, inplace = True)\n",
    "runoff = runoff['Runoff']\n",
    "\n",
    "top_soil = extract_point_values(top_soil_img, MAR_swales)\n",
    "top_soil.rename(columns = {'mean' : 'Top Soils'}, inplace = True)\n",
    "top_soil = top_soil['Top Soils']\n",
    "\n",
    "bottom_soil = extract_point_values(bottom_soil_img, MAR_swales)\n",
    "bottom_soil.rename(columns = {'mean' : 'Bottom Soils'}, inplace = True)\n",
    "bottom_soil = bottom_soil['Bottom Soils']\n",
    "\n",
    "precip = extract_point_values(precip_img, MAR_swales)\n",
    "precip.rename(columns = {'mean' : 'Precip'}, inplace = True)\n",
    "precip = precip['Precip']\n",
    "\n",
    "water = extract_point_values(water_img, MAR_swales)\n",
    "water.rename(columns = {'mean' : 'Water'}, inplace = True)\n",
    "water = water['Water']\n",
    "\n",
    "df_all = pd.concat([df_slope, porosity, runoff, top_soil, bottom_soil, precip, water], axis = 1)\n",
    "\n",
    "df_all.head()"
   ]
  },
  {
   "cell_type": "code",
   "execution_count": null,
   "metadata": {},
   "outputs": [],
   "source": [
    "df_new = df_all[['latitude','longitude','Slope','Porosity','Runoff','Top Soils','Bottom Soils', 'Precip', 'Water','main_mar_t']]\n",
    "dummies_df = pd.get_dummies(df_new['Water'])\n",
    "df_dummies = pd.concat([df_new,dummies_df], axis = 1)\n",
    "df_dummies.drop(labels = [1,4,200,201], axis = 1, inplace = True)\n",
    "df_dummies.dropna(inplace = True)\n",
    "df_dummies.head()"
   ]
  },
  {
   "cell_type": "code",
   "execution_count": null,
   "metadata": {},
   "outputs": [],
   "source": []
  },
  {
   "cell_type": "code",
   "execution_count": null,
   "metadata": {},
   "outputs": [],
   "source": [
    "#Setup Random Forest Classifier model\n",
    "from sklearn.model_selection import train_test_split\n",
    "X = df_dummies.drop('main_mar_t', axis =1)\n",
    "y = df_dummies['main_mar_t']"
   ]
  },
  {
   "cell_type": "code",
   "execution_count": null,
   "metadata": {},
   "outputs": [],
   "source": [
    "X_train, X_test, y_train, y_test = train_test_split(X, y, test_size=0.2)"
   ]
  },
  {
   "cell_type": "code",
   "execution_count": null,
   "metadata": {},
   "outputs": [],
   "source": [
    "from sklearn.ensemble import RandomForestClassifier\n",
    "rfc = RandomForestClassifier(n_estimators=1000)\n",
    "rfc.fit(X_train,y_train)"
   ]
  },
  {
   "cell_type": "code",
   "execution_count": null,
   "metadata": {},
   "outputs": [],
   "source": [
    "#Test model for accuracy\n",
    "rfc_pred = rfc.predict(X_test)"
   ]
  },
  {
   "cell_type": "code",
   "execution_count": null,
   "metadata": {},
   "outputs": [],
   "source": [
    "#Report precision, recall, f1-score results\n",
    "from sklearn.metrics import classification_report, confusion_matrix\n",
    "print(classification_report(y_test,rfc_pred))"
   ]
  },
  {
   "cell_type": "code",
   "execution_count": null,
   "metadata": {},
   "outputs": [],
   "source": []
  },
  {
   "cell_type": "code",
   "execution_count": null,
   "metadata": {},
   "outputs": [],
   "source": []
  },
  {
   "cell_type": "code",
   "execution_count": null,
   "metadata": {},
   "outputs": [],
   "source": []
  },
  {
   "cell_type": "code",
   "execution_count": null,
   "metadata": {},
   "outputs": [],
   "source": []
  },
  {
   "cell_type": "code",
   "execution_count": null,
   "metadata": {},
   "outputs": [],
   "source": []
  },
  {
   "cell_type": "code",
   "execution_count": null,
   "metadata": {},
   "outputs": [],
   "source": []
  },
  {
   "cell_type": "code",
   "execution_count": null,
   "metadata": {},
   "outputs": [],
   "source": []
  },
  {
   "cell_type": "code",
   "execution_count": null,
   "metadata": {},
   "outputs": [],
   "source": []
  },
  {
   "cell_type": "code",
   "execution_count": null,
   "metadata": {},
   "outputs": [],
   "source": []
  },
  {
   "cell_type": "code",
   "execution_count": null,
   "metadata": {},
   "outputs": [],
   "source": []
  },
  {
   "cell_type": "code",
   "execution_count": null,
   "metadata": {},
   "outputs": [],
   "source": []
  },
  {
   "cell_type": "code",
   "execution_count": null,
   "metadata": {},
   "outputs": [],
   "source": []
  },
  {
   "cell_type": "code",
   "execution_count": null,
   "metadata": {},
   "outputs": [],
   "source": []
  },
  {
   "cell_type": "code",
   "execution_count": null,
   "metadata": {},
   "outputs": [],
   "source": []
  },
  {
   "cell_type": "code",
   "execution_count": null,
   "metadata": {},
   "outputs": [],
   "source": []
  },
  {
   "cell_type": "code",
   "execution_count": null,
   "metadata": {},
   "outputs": [],
   "source": []
  },
  {
   "cell_type": "code",
   "execution_count": null,
   "metadata": {},
   "outputs": [],
   "source": []
  },
  {
   "cell_type": "code",
   "execution_count": null,
   "metadata": {},
   "outputs": [],
   "source": []
  },
  {
   "cell_type": "code",
   "execution_count": null,
   "metadata": {},
   "outputs": [],
   "source": []
  },
  {
   "cell_type": "code",
   "execution_count": null,
   "metadata": {},
   "outputs": [],
   "source": []
  },
  {
   "cell_type": "code",
   "execution_count": null,
   "metadata": {},
   "outputs": [],
   "source": []
  },
  {
   "cell_type": "code",
   "execution_count": null,
   "metadata": {},
   "outputs": [],
   "source": []
  },
  {
   "cell_type": "code",
   "execution_count": null,
   "metadata": {},
   "outputs": [],
   "source": []
  }
 ],
 "metadata": {
  "kernelspec": {
   "display_name": "Python 3",
   "language": "python",
   "name": "python3"
  },
  "language_info": {
   "codemirror_mode": {
    "name": "ipython",
    "version": 3
   },
   "file_extension": ".py",
   "mimetype": "text/x-python",
   "name": "python",
   "nbconvert_exporter": "python",
   "pygments_lexer": "ipython3",
   "version": "3.7.6"
  }
 },
 "nbformat": 4,
 "nbformat_minor": 4
}
