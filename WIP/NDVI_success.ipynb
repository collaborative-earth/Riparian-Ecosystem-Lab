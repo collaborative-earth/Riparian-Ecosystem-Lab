{
 "cells": [
  {
   "cell_type": "code",
   "execution_count": 53,
   "metadata": {},
   "outputs": [],
   "source": [
    "import ee\n",
    "import numpy as np\n",
    "import pandas as pd\n",
    "\n",
    "from earthshot import mon_stats\n",
    "from earthshot import water_viz as vis\n",
    "from earthshot import normalize as norm\n",
    "from earthshot import water_common as common\n",
    "from statistics import mean\n",
    "\n",
    "import geemap.eefolium as geemap\n",
    "import folium\n",
    "from folium import plugins\n",
    "\n",
    "import matplotlib.pyplot as plt\n",
    "%matplotlib inline"
   ]
  },
  {
   "cell_type": "code",
   "execution_count": 54,
   "metadata": {},
   "outputs": [],
   "source": [
    "ee.Initialize()"
   ]
  },
  {
   "cell_type": "code",
   "execution_count": 55,
   "metadata": {},
   "outputs": [],
   "source": [
    "def NDVI_func(image):\n",
    "    date_img = image.get('system:time_start')\n",
    "    NDVI = ((image.select('B6')).subtract(image.select('B5'))).divide((image.select('B6')).add(image.select('B5')))\n",
    "    NDVI = NDVI.set({'system:time_start': date_img}).rename('NDVI')\n",
    "    return NDVI"
   ]
  },
  {
   "cell_type": "code",
   "execution_count": 56,
   "metadata": {},
   "outputs": [],
   "source": [
    "Landsat_1 = ee.ImageCollection('LANDSAT/LM01/C01/T1').filterDate('1972-07-23', '1975-01-21').map(NDVI_func)\n",
    "Landsat_2 = ee.ImageCollection('LANDSAT/LM02/C01/T1').filterDate('1975-01-22', '1978-03-04').map(NDVI_func)\n",
    "Landsat_3 = ee.ImageCollection('LANDSAT/LM03/C01/T1').filterDate('1978-03-05', '1982-07-15').map(NDVI_func)\n",
    "Landsat_4 = ee.ImageCollection(\"LANDSAT/LT04/C01/T1_8DAY_NDVI\").filterDate('1982-07-16', '1984-02-29').select('NDVI')\n",
    "Landsat_5 = ee.ImageCollection('LANDSAT/LT05/C01/T1_8DAY_NDVI').filterDate('1984-03-01', '1998-12-31').select('NDVI')\n",
    "Landsat_7 = ee.ImageCollection('LANDSAT/LE07/C01/T1_8DAY_NDVI').filterDate('1999-01-01', '2013-03-31').select('NDVI')\n",
    "Landsat_8 = ee.ImageCollection('LANDSAT/LC08/C01/T1_8DAY_NDVI').filterDate('2013-04-01', '2021-05-31').select('NDVI')"
   ]
  },
  {
   "cell_type": "code",
   "execution_count": 57,
   "metadata": {},
   "outputs": [],
   "source": [
    "NDVI_data = Landsat_1.merge(Landsat_2)\n",
    "NDVI_data = NDVI_data.merge(Landsat_3)\n",
    "NDVI_data = NDVI_data.merge(Landsat_4)\n",
    "NDVI_data = NDVI_data.merge(Landsat_5)\n",
    "NDVI_data = NDVI_data.merge(Landsat_7)\n",
    "NDVI_data = NDVI_data.merge(Landsat_8)"
   ]
  },
  {
   "cell_type": "code",
   "execution_count": null,
   "metadata": {},
   "outputs": [],
   "source": []
  },
  {
   "cell_type": "code",
   "execution_count": 58,
   "metadata": {},
   "outputs": [
    {
     "name": "stdout",
     "output_type": "stream",
     "text": [
      "211\n"
     ]
    }
   ],
   "source": [
    "MAR_projects = ee.FeatureCollection('users/amgadellaboudy/Global_MAR_Inventory')\n",
    "\n",
    "Projects = ['Rooftop Rainwater Harvesting', 'Barriers and Bunds', 'Channel Spreading', 'Ditches and Furrow', \n",
    "            'Excess Irrigation', 'Flooding', 'Sand Storage Dams', 'Trenches', 'Infiltration Ponds and Basins', 'Recharge Dam']\n",
    "\n",
    "\n",
    "MAR_filtered = (MAR_projects.filter('year_opera > 1982').filter('year_opera < 2021')\n",
    "                .filter(ee.Filter.inList('specific_m', Projects)))\n",
    "\n",
    "print(MAR_filtered.aggregate_count('specific_m').getInfo())"
   ]
  },
  {
   "cell_type": "code",
   "execution_count": 59,
   "metadata": {},
   "outputs": [],
   "source": [
    "NDVI_years = ee.ImageCollection('users/amgadellaboudy/EVI_year')\n",
    "NDVI_2020 = (NDVI_data.filter(ee.Filter.date('2020-01-01', '2020-12-31')).reduce(ee.Reducer.mean()))\n",
    "\n",
    "for i in range(1983,2020):\n",
    "    NDVI_image = NDVI_data.filter(ee.Filter.date(('{}-01-01'.format(i)), ('{}-12-31'.format(i)))).reduce(ee.Reducer.mean()) #Take vegetation index for given year, average values into one image\n",
    "    NDVI_diff = (NDVI_2020.subtract(NDVI_image)).set({'Year': i}) #Store NDVI difference into image, set year as property\n",
    "    NDVI_years = NDVI_years.merge(NDVI_diff) #Collect into image collection"
   ]
  },
  {
   "cell_type": "code",
   "execution_count": null,
   "metadata": {},
   "outputs": [],
   "source": []
  },
  {
   "cell_type": "code",
   "execution_count": 60,
   "metadata": {},
   "outputs": [],
   "source": [
    "MAR_1983 = MAR_filtered.filter(ee.Filter.eq('year_opera', 1983))  #Initialize MAR Feature Collection for year 1973\n",
    "NDVI_1983 = NDVI_years.filter(ee.Filter.eq('Year', 1983)).first() #Take image for NDVI diff for 1973\n",
    "NDVI_1983_feat = NDVI_1983.sampleRegions(collection = MAR_1983, properties = ['year_opera'], scale = 60, geometries = True) #Initiate image collection for EVI diff at MAR locations\n",
    " \n",
    "for i in range(1984,2020):\n",
    "    MAR_year = MAR_filtered.filter(ee.Filter.eq('year_opera', i))\n",
    "    NDVI_set = NDVI_years.filter(ee.Filter.eq('Year', i)).first()\n",
    "    NDVI_feat = NDVI_set.sampleRegions(collection = MAR_year, properties = ['year_opera'], scale = 60, geometries = True)\n",
    "    NDVI_1983_feat = NDVI_1983_feat.merge(NDVI_feat)"
   ]
  },
  {
   "cell_type": "code",
   "execution_count": 61,
   "metadata": {},
   "outputs": [],
   "source": [
    "def success(feature):\n",
    "    success_feat = feature.set({'Success': 1})\n",
    "    return success_feat\n",
    "\n",
    "def fail(feature):\n",
    "    fail_feat = feature.set({'Success': 0})\n",
    "    return fail_feat\n",
    "\n",
    "NDVI_success = NDVI_1983_feat.filter(ee.Filter.gt('NDVI_mean', 0)).map(success)\n",
    "NDVI_fail = NDVI_1983_feat.filter(ee.Filter.lte('NDVI_mean', 0)).map(fail)\n",
    "NDVI_data = NDVI_success.merge(NDVI_fail)"
   ]
  },
  {
   "cell_type": "code",
   "execution_count": 62,
   "metadata": {},
   "outputs": [],
   "source": [
    "#import groundwater and aquifer information in\n",
    "groundwater_1 = ee.FeatureCollection('users/amgadellaboudy/groundwater_info')\n",
    "groundwater_2 = ee.FeatureCollection('users/amgadellaboudy/groundwater_info_2')\n",
    "aquifer = ee.FeatureCollection('users/amgadellaboudy/aquifer_characteristics')\n",
    "\n",
    "def missing_values(image):\n",
    "    mask = image.gte(0)\n",
    "    image_masked = image.updateMask(mask)\n",
    "    return image_masked\n",
    "\n",
    "water_area_img= groundwater_1.reduceToImage(properties = ['waterarea'], reducer = ee.Reducer.first())\n",
    "total_renew_water_img= groundwater_1.reduceToImage(properties = ['totrenewab'], reducer = ee.Reducer.first())\n",
    "arid_land_img= groundwater_1.reduceToImage(properties = ['extofaridl'], reducer = ee.Reducer.first())\n",
    "humid_land_img= groundwater_1.reduceToImage(properties = ['extofhumid'], reducer = ee.Reducer.first())\n",
    "gw_recharge_img= groundwater_2.reduceToImage(properties = ['annualgwre'], reducer = ee.Reducer.first())\n",
    "aquifer_without_img = aquifer.reduceToImage(properties = ['extofareaswithoutsignificantaq'], reducer = ee.Reducer.first())\n",
    "volcanic_aquifer_img = aquifer.reduceToImage(properties = ['extofconsolidatedvolcanicaquif'], reducer = ee.Reducer.first())\n",
    "fissured_aquifer_img = aquifer.reduceToImage(properties = ['extoffissuredaquifers'], reducer = ee.Reducer.first())\n",
    "intergranular_aquifer_img = aquifer.reduceToImage(properties = ['extofintergranularaquifers'], reducer = ee.Reducer.first())\n",
    "metamorphic_aquifer_img = aquifer.reduceToImage(properties = ['extofintrusiveormetamorphicroc'], reducer = ee.Reducer.first())\n",
    "limestone_aquifer_img = aquifer.reduceToImage(properties = ['extoflimestonedolomiteaquifers'], reducer = ee.Reducer.first())\n",
    "sandgravel_aquifer_img = aquifer.reduceToImage(properties = ['extofsandgravelaquifers'], reducer = ee.Reducer.first())\n",
    "sandstone_aquifer_img = aquifer.reduceToImage(properties = ['extofsandstoneaquifers'], reducer = ee.Reducer.first())\n",
    "unconsolidated_volcnanic_aquifer_img = aquifer.reduceToImage(properties = ['extofunconsolidatedvolcanicaqu'], reducer = ee.Reducer.first())\n",
    "kastifiedzones_img = aquifer.reduceToImage(properties = ['occofkarstifiedzonesincarbonat'], reducer = ee.Reducer.first())\n"
   ]
  },
  {
   "cell_type": "code",
   "execution_count": 63,
   "metadata": {},
   "outputs": [],
   "source": [
    "#Import variables in (Slope, Porosity, Runoff, Soil Types, Annual Precipitation, water accumulation)\n",
    "slope_img = ee.Image('users/jamesmcc/merit_slope/merit_terrain_slope')\n",
    "#Scale = 90 m\n",
    "\n",
    "smap_usda_clim = ee.ImageCollection('users/jamesmcc/smap_usda_climatology')\n",
    "avail_porosity = (smap_usda_clim\n",
    "                  .filter(ee.Filter.eq('band', 'avail_porosity_mm')))\n",
    "avail_porosity_img = avail_porosity.sum()\n",
    "\n",
    "runoff_clim = ee.ImageCollection(\"ECMWF/ERA5_LAND/MONTHLY\").select('surface_runoff')\n",
    "runoff_clim_m = mon_stats.bands_avgs(['surface_runoff'], runoff_clim)\n",
    "runoff_img = ee.ImageCollection(runoff_clim_m['avgs'].get('surface_runoff')).sum().multiply(720)\n",
    "\n",
    "precip_clim = ee.Image(\"OpenLandMap/CLM/CLM_PRECIPITATION_SM2RAIN_M/v01\")\n",
    "precip_img = precip_clim.reduce('sum')\n",
    "#https://developers.google.com/earth-engine/datasets/catalog/OpenLandMap_CLM_CLM_PRECIPITATION_SM2RAIN_M_v01#bands\n",
    "#Scale = 1 km\n",
    "\n",
    "soil_types = ee.Image(\"OpenLandMap/SOL/SOL_TEXTURE-CLASS_USDA-TT_M/v02\")\n",
    "\n",
    "top_soils = soil_types.expression('soil_0 + soil_10 + soil_30',\n",
    "                             {'soil_0': soil_types.select('b0'),\n",
    "                             'soil_10': soil_types.select('b10'),\n",
    "                             'soil_30': soil_types.select('b30')})\n",
    "\n",
    "bottom_soils = soil_types.expression('soil_60 + soil_100 + soil_200',\n",
    "                                 {'soil_60': soil_types.select('b60'),\n",
    "                                  'soil_100': soil_types.select('b100'),\n",
    "                                  'soil_200': soil_types.select('b200')})\n",
    "\n",
    "#Scale = 250 m\n",
    "\n",
    "\n",
    "water_img = ee.Image('WWF/HydroSHEDS/15ACC').select('b1')\n",
    "#Measure of water accumulation: https://developers.google.com/earth-engine/datasets/catalog/WWF_HydroSHEDS_15ACC\n",
    "#Scale = 462 m\n",
    "\n",
    "organic_matter = ee.Image(\"OpenLandMap/SOL/SOL_ORGANIC-CARBON_USDA-6A1C_M/v02\").reduce(ee.Reducer.sum())\n",
    "#measure of total organic matter in soil, from 0 to 200 m soil depth\n",
    "#https://developers.google.com/earth-engine/datasets/catalog/OpenLandMap_SOL_SOL_ORGANIC-CARBON_USDA-6A1C_M_v02"
   ]
  },
  {
   "cell_type": "code",
   "execution_count": 64,
   "metadata": {},
   "outputs": [
    {
     "name": "stdout",
     "output_type": "stream",
     "text": [
      "['slope', 'avail_porosity_mm', 'surface_runoff', 'sum', 'b0', 'b60', 'first', 'first_1', 'first_2', 'first_3', 'first_4', 'first_5', 'first_6', 'first_7', 'first_8', 'first_9', 'first_10', 'first_11', 'first_12', 'first_13', 'sum_1', 'first_14', 'b1']\n"
     ]
    }
   ],
   "source": [
    "#Collect images into one image, convert into feature collection that includes location and type of MAR interventions\n",
    "\n",
    "img_1 = slope_img.addBands(avail_porosity_img)\n",
    "img_2 = img_1.addBands(runoff_img)\n",
    "img_3 = img_2.addBands(precip_img)\n",
    "img_4 = img_3.addBands(top_soils)\n",
    "img_5 = img_4.addBands(bottom_soils)\n",
    "img_6 = img_5.addBands(water_area_img)\n",
    "img_7 = img_6.addBands(total_renew_water_img)\n",
    "img_8 = img_7.addBands(arid_land_img)\n",
    "img_9 = img_8.addBands(humid_land_img)\n",
    "img_10 = img_9.addBands(gw_recharge_img)\n",
    "img_11 = img_10.addBands(aquifer_without_img)\n",
    "img_12 = img_11.addBands(volcanic_aquifer_img)\n",
    "img_13 = img_12.addBands(fissured_aquifer_img)\n",
    "img_14 = img_13.addBands(intergranular_aquifer_img)\n",
    "img_15 = img_14.addBands(metamorphic_aquifer_img)\n",
    "img_16 = img_15.addBands(limestone_aquifer_img)\n",
    "img_17 = img_16.addBands(sandgravel_aquifer_img)\n",
    "img_18 = img_17.addBands(sandstone_aquifer_img)\n",
    "img_19 = img_18.addBands(unconsolidated_volcnanic_aquifer_img)\n",
    "img_20 = img_19.addBands(organic_matter)\n",
    "img_21 = img_20.addBands(kastifiedzones_img)\n",
    "training_img = img_21.addBands(water_img)\n",
    "\n",
    "print(training_img.bandNames().getInfo())"
   ]
  },
  {
   "cell_type": "code",
   "execution_count": 65,
   "metadata": {},
   "outputs": [],
   "source": [
    "target = 'Success'\n",
    "bands = ['slope', 'avail_porosity_mm', 'surface_runoff', 'sum', 'b0', 'b60', 'first', 'first_1', 'first_2', 'first_3', 'first_4', 'first_5', 'first_6', 'first_7', 'first_8', 'first_9', 'first_10', 'first_11', 'first_12', 'first_13', 'sum_1', 'first_14', 'b1']\n",
    "\n",
    "training = training_img.sampleRegions(collection= NDVI_data, properties = [target], scale = 60, geometries = True)"
   ]
  },
  {
   "cell_type": "code",
   "execution_count": 66,
   "metadata": {},
   "outputs": [
    {
     "name": "stdout",
     "output_type": "stream",
     "text": [
      "173\n"
     ]
    }
   ],
   "source": [
    "print(training.size().getInfo())"
   ]
  },
  {
   "cell_type": "code",
   "execution_count": 67,
   "metadata": {},
   "outputs": [
    {
     "name": "stdout",
     "output_type": "stream",
     "text": [
      "206\n"
     ]
    }
   ],
   "source": [
    "print(NDVI_data.size().getInfo())"
   ]
  },
  {
   "cell_type": "code",
   "execution_count": 68,
   "metadata": {},
   "outputs": [],
   "source": [
    "#Test/ validation split, fit classifier for training data\n",
    "\n",
    "split = 0.7\n",
    "training = training.randomColumn()\n",
    "\n",
    "training_split = training.filter(ee.Filter.lt('random', split))\n",
    "validation_split = training.filter(ee.Filter.gte('random', split))\n",
    "\n",
    "classifier = ee.Classifier.smileGradientTreeBoost(1000).train(features= training_split, classProperty= target, inputProperties = bands)"
   ]
  },
  {
   "cell_type": "code",
   "execution_count": 69,
   "metadata": {},
   "outputs": [],
   "source": [
    "#Create predicted MAR intervention image and validation data\n",
    "\n",
    "classified = training_split.classify(classifier)\n",
    "validated = validation_split.classify(classifier)"
   ]
  },
  {
   "cell_type": "code",
   "execution_count": 70,
   "metadata": {},
   "outputs": [
    {
     "name": "stdout",
     "output_type": "stream",
     "text": [
      "Resubstitution error matrix:  [[39, 0], [0, 80]]\n",
      "Training overall accuracy:  1\n"
     ]
    }
   ],
   "source": [
    "#Training accuracy\n",
    "\n",
    "trainAccuracy = classified.errorMatrix('Success', 'classification')\n",
    "print('Resubstitution error matrix: ', trainAccuracy.getInfo())\n",
    "print('Training overall accuracy: ', trainAccuracy.accuracy().getInfo())"
   ]
  },
  {
   "cell_type": "code",
   "execution_count": 71,
   "metadata": {},
   "outputs": [
    {
     "name": "stdout",
     "output_type": "stream",
     "text": [
      "Validation error matrix:  [[11, 5], [9, 29]]\n",
      "Validation overall accuracy:  0.7407407407407407\n"
     ]
    }
   ],
   "source": [
    "#Validation accuracy\n",
    "\n",
    "validationAccuracy = validated.errorMatrix('Success', 'classification')\n",
    "print('Validation error matrix: ', validationAccuracy.getInfo())\n",
    "print('Validation overall accuracy: ', validationAccuracy.accuracy().getInfo())"
   ]
  },
  {
   "cell_type": "code",
   "execution_count": 72,
   "metadata": {},
   "outputs": [],
   "source": [
    "classified_img = training_img.classify(classifier)"
   ]
  },
  {
   "cell_type": "code",
   "execution_count": null,
   "metadata": {},
   "outputs": [],
   "source": []
  },
  {
   "cell_type": "code",
   "execution_count": null,
   "metadata": {},
   "outputs": [],
   "source": []
  },
  {
   "cell_type": "code",
   "execution_count": 188,
   "metadata": {},
   "outputs": [],
   "source": [
    "NDVI_image = NDVI_data.filter(ee.Filter.date('2000-01-01', '2000-12-31')).reduce(ee.Reducer.mean()) #Take vegetation index for given year, average values into one image\n",
    "NDVI_diff = (NDVI_2020.subtract(NDVI_image)) #Store NDVI difference into image, set year as property"
   ]
  },
  {
   "cell_type": "code",
   "execution_count": 73,
   "metadata": {},
   "outputs": [
    {
     "data": {
      "text/html": [
       "<div style=\"width:100%;\"><div style=\"position:relative;width:100%;height:0;padding-bottom:60%;\"><span style=\"color:#565656\">Make this Notebook Trusted to load map: File -> Trust Notebook</span><iframe src=\"about:blank\" style=\"position:absolute;width:100%;height:100%;left:0;top:0;border:none !important;\" data-html=%3C%21DOCTYPE%20html%3E%0A%3Chead%3E%20%20%20%20%0A%20%20%20%20%3Cmeta%20http-equiv%3D%22content-type%22%20content%3D%22text/html%3B%20charset%3DUTF-8%22%20/%3E%0A%20%20%20%20%0A%20%20%20%20%20%20%20%20%3Cscript%3E%0A%20%20%20%20%20%20%20%20%20%20%20%20L_NO_TOUCH%20%3D%20false%3B%0A%20%20%20%20%20%20%20%20%20%20%20%20L_DISABLE_3D%20%3D%20false%3B%0A%20%20%20%20%20%20%20%20%3C/script%3E%0A%20%20%20%20%0A%20%20%20%20%3Cstyle%3Ehtml%2C%20body%20%7Bwidth%3A%20100%25%3Bheight%3A%20100%25%3Bmargin%3A%200%3Bpadding%3A%200%3B%7D%3C/style%3E%0A%20%20%20%20%3Cstyle%3E%23map%20%7Bposition%3Aabsolute%3Btop%3A0%3Bbottom%3A0%3Bright%3A0%3Bleft%3A0%3B%7D%3C/style%3E%0A%20%20%20%20%3Cscript%20src%3D%22https%3A//cdn.jsdelivr.net/npm/leaflet%401.6.0/dist/leaflet.js%22%3E%3C/script%3E%0A%20%20%20%20%3Cscript%20src%3D%22https%3A//code.jquery.com/jquery-1.12.4.min.js%22%3E%3C/script%3E%0A%20%20%20%20%3Cscript%20src%3D%22https%3A//maxcdn.bootstrapcdn.com/bootstrap/3.2.0/js/bootstrap.min.js%22%3E%3C/script%3E%0A%20%20%20%20%3Cscript%20src%3D%22https%3A//cdnjs.cloudflare.com/ajax/libs/Leaflet.awesome-markers/2.0.2/leaflet.awesome-markers.js%22%3E%3C/script%3E%0A%20%20%20%20%3Clink%20rel%3D%22stylesheet%22%20href%3D%22https%3A//cdn.jsdelivr.net/npm/leaflet%401.6.0/dist/leaflet.css%22/%3E%0A%20%20%20%20%3Clink%20rel%3D%22stylesheet%22%20href%3D%22https%3A//maxcdn.bootstrapcdn.com/bootstrap/3.2.0/css/bootstrap.min.css%22/%3E%0A%20%20%20%20%3Clink%20rel%3D%22stylesheet%22%20href%3D%22https%3A//maxcdn.bootstrapcdn.com/bootstrap/3.2.0/css/bootstrap-theme.min.css%22/%3E%0A%20%20%20%20%3Clink%20rel%3D%22stylesheet%22%20href%3D%22https%3A//maxcdn.bootstrapcdn.com/font-awesome/4.6.3/css/font-awesome.min.css%22/%3E%0A%20%20%20%20%3Clink%20rel%3D%22stylesheet%22%20href%3D%22https%3A//cdnjs.cloudflare.com/ajax/libs/Leaflet.awesome-markers/2.0.2/leaflet.awesome-markers.css%22/%3E%0A%20%20%20%20%3Clink%20rel%3D%22stylesheet%22%20href%3D%22https%3A//cdn.jsdelivr.net/gh/python-visualization/folium/folium/templates/leaflet.awesome.rotate.min.css%22/%3E%0A%20%20%20%20%0A%20%20%20%20%20%20%20%20%20%20%20%20%3Cmeta%20name%3D%22viewport%22%20content%3D%22width%3Ddevice-width%2C%0A%20%20%20%20%20%20%20%20%20%20%20%20%20%20%20%20initial-scale%3D1.0%2C%20maximum-scale%3D1.0%2C%20user-scalable%3Dno%22%20/%3E%0A%20%20%20%20%20%20%20%20%20%20%20%20%3Cstyle%3E%0A%20%20%20%20%20%20%20%20%20%20%20%20%20%20%20%20%23map_4ee162e6d48c4753b26346ba0f51aee9%20%7B%0A%20%20%20%20%20%20%20%20%20%20%20%20%20%20%20%20%20%20%20%20position%3A%20relative%3B%0A%20%20%20%20%20%20%20%20%20%20%20%20%20%20%20%20%20%20%20%20width%3A%20100.0%25%3B%0A%20%20%20%20%20%20%20%20%20%20%20%20%20%20%20%20%20%20%20%20height%3A%20100.0%25%3B%0A%20%20%20%20%20%20%20%20%20%20%20%20%20%20%20%20%20%20%20%20left%3A%200.0%25%3B%0A%20%20%20%20%20%20%20%20%20%20%20%20%20%20%20%20%20%20%20%20top%3A%200.0%25%3B%0A%20%20%20%20%20%20%20%20%20%20%20%20%20%20%20%20%7D%0A%20%20%20%20%20%20%20%20%20%20%20%20%3C/style%3E%0A%20%20%20%20%20%20%20%20%0A%20%20%20%20%3Cscript%20src%3D%22https%3A//cdnjs.cloudflare.com/ajax/libs/leaflet.fullscreen/1.4.2/Control.FullScreen.min.js%22%3E%3C/script%3E%0A%20%20%20%20%3Clink%20rel%3D%22stylesheet%22%20href%3D%22https%3A//cdnjs.cloudflare.com/ajax/libs/leaflet.fullscreen/1.4.2/Control.FullScreen.min.css%22/%3E%0A%3C/head%3E%0A%3Cbody%3E%20%20%20%20%0A%20%20%20%20%0A%20%20%20%20%20%20%20%20%20%20%20%20%3Cdiv%20class%3D%22folium-map%22%20id%3D%22map_4ee162e6d48c4753b26346ba0f51aee9%22%20%3E%3C/div%3E%0A%20%20%20%20%20%20%20%20%0A%3C/body%3E%0A%3Cscript%3E%20%20%20%20%0A%20%20%20%20%0A%20%20%20%20%20%20%20%20%20%20%20%20var%20map_4ee162e6d48c4753b26346ba0f51aee9%20%3D%20L.map%28%0A%20%20%20%20%20%20%20%20%20%20%20%20%20%20%20%20%22map_4ee162e6d48c4753b26346ba0f51aee9%22%2C%0A%20%20%20%20%20%20%20%20%20%20%20%20%20%20%20%20%7B%0A%20%20%20%20%20%20%20%20%20%20%20%20%20%20%20%20%20%20%20%20center%3A%20%5B40.0%2C%20-100.0%5D%2C%0A%20%20%20%20%20%20%20%20%20%20%20%20%20%20%20%20%20%20%20%20crs%3A%20L.CRS.EPSG3857%2C%0A%20%20%20%20%20%20%20%20%20%20%20%20%20%20%20%20%20%20%20%20zoom%3A%204%2C%0A%20%20%20%20%20%20%20%20%20%20%20%20%20%20%20%20%20%20%20%20zoomControl%3A%20true%2C%0A%20%20%20%20%20%20%20%20%20%20%20%20%20%20%20%20%20%20%20%20preferCanvas%3A%20false%2C%0A%20%20%20%20%20%20%20%20%20%20%20%20%20%20%20%20%20%20%20%20eeInitialize%3A%20true%2C%0A%20%20%20%20%20%20%20%20%20%20%20%20%20%20%20%20%20%20%20%20addGoogleMap%3A%20true%2C%0A%20%20%20%20%20%20%20%20%20%20%20%20%20%20%20%20%20%20%20%20pluginLatlngpopup%3A%20true%2C%0A%20%20%20%20%20%20%20%20%20%20%20%20%20%20%20%20%20%20%20%20pluginFullscreen%3A%20true%2C%0A%20%20%20%20%20%20%20%20%20%20%20%20%20%20%20%20%20%20%20%20pluginDraw%3A%20false%2C%0A%20%20%20%20%20%20%20%20%20%20%20%20%20%20%20%20%20%20%20%20DrawExport%3A%20true%2C%0A%20%20%20%20%20%20%20%20%20%20%20%20%20%20%20%20%20%20%20%20pluginMinimap%3A%20false%2C%0A%20%20%20%20%20%20%20%20%20%20%20%20%20%20%20%20%20%20%20%20pluginLayercontrol%3A%20false%2C%0A%20%20%20%20%20%20%20%20%20%20%20%20%20%20%20%20%7D%0A%20%20%20%20%20%20%20%20%20%20%20%20%29%3B%0A%0A%20%20%20%20%20%20%20%20%20%20%20%20%0A%0A%20%20%20%20%20%20%20%20%0A%20%20%20%20%0A%20%20%20%20%20%20%20%20%20%20%20%20var%20tile_layer_621e945061064b31a6867554bf610599%20%3D%20L.tileLayer%28%0A%20%20%20%20%20%20%20%20%20%20%20%20%20%20%20%20%22https%3A//%7Bs%7D.tile.openstreetmap.org/%7Bz%7D/%7Bx%7D/%7By%7D.png%22%2C%0A%20%20%20%20%20%20%20%20%20%20%20%20%20%20%20%20%7B%22attribution%22%3A%20%22Data%20by%20%5Cu0026copy%3B%20%5Cu003ca%20href%3D%5C%22http%3A//openstreetmap.org%5C%22%5Cu003eOpenStreetMap%5Cu003c/a%5Cu003e%2C%20under%20%5Cu003ca%20href%3D%5C%22http%3A//www.openstreetmap.org/copyright%5C%22%5Cu003eODbL%5Cu003c/a%5Cu003e.%22%2C%20%22detectRetina%22%3A%20false%2C%20%22maxNativeZoom%22%3A%2018%2C%20%22maxZoom%22%3A%2018%2C%20%22minZoom%22%3A%200%2C%20%22noWrap%22%3A%20false%2C%20%22opacity%22%3A%201%2C%20%22subdomains%22%3A%20%22abc%22%2C%20%22tms%22%3A%20false%7D%0A%20%20%20%20%20%20%20%20%20%20%20%20%29.addTo%28map_4ee162e6d48c4753b26346ba0f51aee9%29%3B%0A%20%20%20%20%20%20%20%20%0A%20%20%20%20%0A%20%20%20%20%20%20%20%20%20%20%20%20var%20tile_layer_737c226c67f444249e7330be3949700c%20%3D%20L.tileLayer%28%0A%20%20%20%20%20%20%20%20%20%20%20%20%20%20%20%20%22https%3A//mt1.google.com/vt/lyrs%3Dm%5Cu0026x%3D%7Bx%7D%5Cu0026y%3D%7By%7D%5Cu0026z%3D%7Bz%7D%22%2C%0A%20%20%20%20%20%20%20%20%20%20%20%20%20%20%20%20%7B%22attribution%22%3A%20%22Google%22%2C%20%22detectRetina%22%3A%20false%2C%20%22maxNativeZoom%22%3A%2018%2C%20%22maxZoom%22%3A%2018%2C%20%22minZoom%22%3A%200%2C%20%22noWrap%22%3A%20false%2C%20%22opacity%22%3A%201%2C%20%22subdomains%22%3A%20%22abc%22%2C%20%22tms%22%3A%20false%7D%0A%20%20%20%20%20%20%20%20%20%20%20%20%29.addTo%28map_4ee162e6d48c4753b26346ba0f51aee9%29%3B%0A%20%20%20%20%20%20%20%20%0A%20%20%20%20%0A%20%20%20%20%20%20%20%20%20%20%20%20%20%20%20%20var%20lat_lng_popup_3c6bce8c4b93428ba507b21fa2f32f3d%20%3D%20L.popup%28%29%3B%0A%20%20%20%20%20%20%20%20%20%20%20%20%20%20%20%20function%20latLngPop%28e%29%20%7B%0A%20%20%20%20%20%20%20%20%20%20%20%20%20%20%20%20%20%20%20%20lat_lng_popup_3c6bce8c4b93428ba507b21fa2f32f3d%0A%20%20%20%20%20%20%20%20%20%20%20%20%20%20%20%20%20%20%20%20%20%20%20%20.setLatLng%28e.latlng%29%0A%20%20%20%20%20%20%20%20%20%20%20%20%20%20%20%20%20%20%20%20%20%20%20%20.setContent%28%22Latitude%3A%20%22%20%2B%20e.latlng.lat.toFixed%284%29%20%2B%0A%20%20%20%20%20%20%20%20%20%20%20%20%20%20%20%20%20%20%20%20%20%20%20%20%20%20%20%20%20%20%20%20%20%20%20%20%22%3Cbr%3ELongitude%3A%20%22%20%2B%20e.latlng.lng.toFixed%284%29%29%0A%20%20%20%20%20%20%20%20%20%20%20%20%20%20%20%20%20%20%20%20%20%20%20%20.openOn%28map_4ee162e6d48c4753b26346ba0f51aee9%29%3B%0A%20%20%20%20%20%20%20%20%20%20%20%20%20%20%20%20%20%20%20%20%7D%0A%20%20%20%20%20%20%20%20%20%20%20%20%20%20%20%20map_4ee162e6d48c4753b26346ba0f51aee9.on%28%27click%27%2C%20latLngPop%29%3B%0A%20%20%20%20%20%20%20%20%20%20%20%20%0A%20%20%20%20%0A%20%20%20%20%20%20%20%20%20%20%20%20L.control.fullscreen%28%0A%20%20%20%20%20%20%20%20%20%20%20%20%20%20%20%20%7B%22forceSeparateButton%22%3A%20false%2C%20%22position%22%3A%20%22topleft%22%2C%20%22title%22%3A%20%22Full%20Screen%22%2C%20%22titleCancel%22%3A%20%22Exit%20Full%20Screen%22%7D%0A%20%20%20%20%20%20%20%20%20%20%20%20%29.addTo%28map_4ee162e6d48c4753b26346ba0f51aee9%29%3B%0A%20%20%20%20%20%20%20%20%0A%20%20%20%20%0A%20%20%20%20%20%20%20%20%20%20%20%20map_4ee162e6d48c4753b26346ba0f51aee9.fitBounds%28%0A%20%20%20%20%20%20%20%20%20%20%20%20%20%20%20%20%5B%5B40%2C%20-100%5D%2C%20%5B40%2C%20-100%5D%5D%2C%0A%20%20%20%20%20%20%20%20%20%20%20%20%20%20%20%20%7B%22maxZoom%22%3A%204%7D%0A%20%20%20%20%20%20%20%20%20%20%20%20%29%3B%0A%20%20%20%20%20%20%20%20%0A%20%20%20%20%0A%20%20%20%20%20%20%20%20%20%20%20%20var%20tile_layer_6fbf5be1c95044a9a7386f20b8d4f250%20%3D%20L.tileLayer%28%0A%20%20%20%20%20%20%20%20%20%20%20%20%20%20%20%20%22https%3A//earthengine.googleapis.com/v1alpha/projects/earthengine-legacy/maps/5a4566dfd24650916ca8743f44f63b30-13a2bcf4f1e55a84781dfe68ac64295c/tiles/%7Bz%7D/%7Bx%7D/%7By%7D%22%2C%0A%20%20%20%20%20%20%20%20%20%20%20%20%20%20%20%20%7B%22attribution%22%3A%20%22Google%20Earth%20Engine%22%2C%20%22detectRetina%22%3A%20false%2C%20%22maxNativeZoom%22%3A%2018%2C%20%22maxZoom%22%3A%2018%2C%20%22minZoom%22%3A%200%2C%20%22noWrap%22%3A%20false%2C%20%22opacity%22%3A%201.0%2C%20%22subdomains%22%3A%20%22abc%22%2C%20%22tms%22%3A%20false%7D%0A%20%20%20%20%20%20%20%20%20%20%20%20%29.addTo%28map_4ee162e6d48c4753b26346ba0f51aee9%29%3B%0A%20%20%20%20%20%20%20%20%0A%20%20%20%20%0A%20%20%20%20%20%20%20%20%20%20%20%20var%20tile_layer_debb06a6c1d9470ca01e3db2c880f29b%20%3D%20L.tileLayer%28%0A%20%20%20%20%20%20%20%20%20%20%20%20%20%20%20%20%22https%3A//earthengine.googleapis.com/v1alpha/projects/earthengine-legacy/maps/9f399f11a4e0206dae8a8bd23a28f29a-643b2ab7b470982e9c2d1555c340bf6b/tiles/%7Bz%7D/%7Bx%7D/%7By%7D%22%2C%0A%20%20%20%20%20%20%20%20%20%20%20%20%20%20%20%20%7B%22attribution%22%3A%20%22Google%20Earth%20Engine%22%2C%20%22detectRetina%22%3A%20false%2C%20%22maxNativeZoom%22%3A%2018%2C%20%22maxZoom%22%3A%2018%2C%20%22minZoom%22%3A%200%2C%20%22noWrap%22%3A%20false%2C%20%22opacity%22%3A%201.0%2C%20%22subdomains%22%3A%20%22abc%22%2C%20%22tms%22%3A%20false%7D%0A%20%20%20%20%20%20%20%20%20%20%20%20%29.addTo%28map_4ee162e6d48c4753b26346ba0f51aee9%29%3B%0A%20%20%20%20%20%20%20%20%0A%20%20%20%20%0A%20%20%20%20%20%20%20%20%20%20%20%20var%20layer_control_2c335b200d504afca47cad6df47501b7%20%3D%20%7B%0A%20%20%20%20%20%20%20%20%20%20%20%20%20%20%20%20base_layers%20%3A%20%7B%0A%20%20%20%20%20%20%20%20%20%20%20%20%20%20%20%20%20%20%20%20%22openstreetmap%22%20%3A%20tile_layer_621e945061064b31a6867554bf610599%2C%0A%20%20%20%20%20%20%20%20%20%20%20%20%20%20%20%20%7D%2C%0A%20%20%20%20%20%20%20%20%20%20%20%20%20%20%20%20overlays%20%3A%20%20%7B%0A%20%20%20%20%20%20%20%20%20%20%20%20%20%20%20%20%20%20%20%20%22Google%20Maps%22%20%3A%20tile_layer_737c226c67f444249e7330be3949700c%2C%0A%20%20%20%20%20%20%20%20%20%20%20%20%20%20%20%20%20%20%20%20%22Classification%22%20%3A%20tile_layer_6fbf5be1c95044a9a7386f20b8d4f250%2C%0A%20%20%20%20%20%20%20%20%20%20%20%20%20%20%20%20%20%20%20%20%22MAR%20locations%22%20%3A%20tile_layer_debb06a6c1d9470ca01e3db2c880f29b%2C%0A%20%20%20%20%20%20%20%20%20%20%20%20%20%20%20%20%7D%2C%0A%20%20%20%20%20%20%20%20%20%20%20%20%7D%3B%0A%20%20%20%20%20%20%20%20%20%20%20%20L.control.layers%28%0A%20%20%20%20%20%20%20%20%20%20%20%20%20%20%20%20layer_control_2c335b200d504afca47cad6df47501b7.base_layers%2C%0A%20%20%20%20%20%20%20%20%20%20%20%20%20%20%20%20layer_control_2c335b200d504afca47cad6df47501b7.overlays%2C%0A%20%20%20%20%20%20%20%20%20%20%20%20%20%20%20%20%7B%22autoZIndex%22%3A%20true%2C%20%22collapsed%22%3A%20true%2C%20%22position%22%3A%20%22topright%22%7D%0A%20%20%20%20%20%20%20%20%20%20%20%20%29.addTo%28map_4ee162e6d48c4753b26346ba0f51aee9%29%3B%0A%20%20%20%20%20%20%20%20%0A%3C/script%3E onload=\"this.contentDocument.open();this.contentDocument.write(    decodeURIComponent(this.getAttribute('data-html')));this.contentDocument.close();\" allowfullscreen webkitallowfullscreen mozallowfullscreen></iframe></div></div>"
      ],
      "text/plain": [
       "<geemap.eefolium.Map at 0x7fdc0e55c310>"
      ]
     },
     "metadata": {},
     "output_type": "display_data"
    }
   ],
   "source": [
    "the_map = geemap.Map()\n",
    "\n",
    "Landsat = ee.ImageCollection('LANDSAT/LM03/C01/T1')\n",
    "\n",
    "vis_params = {\n",
    "    'min': 0, 'max': 1, 'dimensions': 512,\n",
    "    'palette': ['Red', 'Blue']}\n",
    "\n",
    "the_map.addLayer(classified_img, vis_params, 'Classification')\n",
    "the_map.addLayer(MAR_1983.draw(color= '006600', pointRadius = 5, strokeWidth= 5), {}, name = 'MAR locations')\n",
    "\n",
    "vis.folium_display(the_map)"
   ]
  },
  {
   "cell_type": "code",
   "execution_count": null,
   "metadata": {},
   "outputs": [],
   "source": []
  }
 ],
 "metadata": {
  "hide_input": false,
  "kernelspec": {
   "display_name": "Python 3",
   "language": "python",
   "name": "python3"
  },
  "language_info": {
   "codemirror_mode": {
    "name": "ipython",
    "version": 3
   },
   "file_extension": ".py",
   "mimetype": "text/x-python",
   "name": "python",
   "nbconvert_exporter": "python",
   "pygments_lexer": "ipython3",
   "version": "3.8.8"
  }
 },
 "nbformat": 4,
 "nbformat_minor": 4
}
