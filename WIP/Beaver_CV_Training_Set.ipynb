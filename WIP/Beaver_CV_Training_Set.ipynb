{
 "cells": [
  {
   "cell_type": "code",
   "execution_count": 2,
   "id": "69b3f184",
   "metadata": {},
   "outputs": [],
   "source": [
    "import requests\n",
    "import ee\n",
    "import numpy as np\n",
    "import pandas as pd\n",
    "from tqdm import tqdm\n",
    "from PIL import Image\n",
    "from io import BytesIO\n",
    "\n",
    "#ee.Authenticate()\n",
    "ee.Initialize()\n"
   ]
  },
  {
   "cell_type": "code",
   "execution_count": 5,
   "id": "195a5bfc",
   "metadata": {},
   "outputs": [
    {
     "name": "stderr",
     "output_type": "stream",
     "text": [
      "100%|██████████| 676/676 [03:17<00:00,  3.42it/s]\n"
     ]
    }
   ],
   "source": [
    "#Import squares that contain beaver dams in, pull in images for those square and make into a list\n",
    "\n",
    "Contains_WY_beaver_dams = ee.FeatureCollection('users/amgadellaboudy/Beaver_Dams_Wy_Contains').getInfo()['features']\n",
    "\n",
    "def get_image(feature):\n",
    "    min_lon = feature['geometry']['coordinates'][0][0][0]\n",
    "    min_lat = feature['geometry']['coordinates'][0][0][1]\n",
    "    max_lon = feature['geometry']['coordinates'][0][1][0]\n",
    "    max_lat = feature['geometry']['coordinates'][0][2][1]\n",
    "    response = requests.get(\n",
    "        url='https://api.mapbox.com/styles/v1/mapbox/satellite-v9/static/[{},{},{},{}]/250x250?access_token=pk.eyJ1IjoicHVpd2FoIiwiYSI6ImNrbHM1djlhdDBiM28yb28xbmExM2d0M20ifQ.uFj_qHx0c3OTNu5o-Njf4g'.format(min_lon, min_lat, max_lon, max_lat),\n",
    "            )\n",
    "    j = Image.open(BytesIO(response.content))\n",
    "    return j\n",
    "\n",
    "image_collection_contains = [get_image(x) for x in tqdm(Contains_WY_beaver_dams)]"
   ]
  },
  {
   "cell_type": "code",
   "execution_count": 4,
   "id": "99210084",
   "metadata": {},
   "outputs": [
    {
     "name": "stderr",
     "output_type": "stream",
     "text": [
      "100%|██████████| 4538/4538 [57:55<00:00,  1.31it/s]  \n"
     ]
    }
   ],
   "source": [
    "#Do the same, but for squares that are missing beaver dams\n",
    "\n",
    "Absent_WY_beaver_dams = ee.FeatureCollection('users/amgadellaboudy/Beaver_Dams_Wy_Not_Contains').getInfo()['features']\n",
    "\n",
    "def get_image(feature):\n",
    "    min_lon = feature['geometry']['coordinates'][0][0][0]\n",
    "    min_lat = feature['geometry']['coordinates'][0][0][1]\n",
    "    max_lon = feature['geometry']['coordinates'][0][1][0]\n",
    "    max_lat = feature['geometry']['coordinates'][0][2][1]\n",
    "    response = requests.get(\n",
    "        url='https://api.mapbox.com/styles/v1/mapbox/satellite-v9/static/[{},{},{},{}]/250x250?access_token=pk.eyJ1IjoicHVpd2FoIiwiYSI6ImNrbHM1djlhdDBiM28yb28xbmExM2d0M20ifQ.uFj_qHx0c3OTNu5o-Njf4g'.format(min_lon, min_lat, max_lon, max_lat),\n",
    "            )\n",
    "    j = Image.open(BytesIO(response.content))\n",
    "    return j\n",
    "\n",
    "image_collection_absent = [get_image(x) for x in tqdm(Absent_WY_beaver_dams)]"
   ]
  },
  {
   "cell_type": "code",
   "execution_count": 7,
   "id": "87924386",
   "metadata": {},
   "outputs": [],
   "source": [
    "#label images as having a beaver dam\n",
    "\n",
    "image_contains_df = pd.DataFrame(image_collection_contains, [1]*len(image_collection_contains))"
   ]
  },
  {
   "cell_type": "code",
   "execution_count": 12,
   "id": "ef886139",
   "metadata": {},
   "outputs": [
    {
     "data": {
      "text/html": [
       "<div>\n",
       "<style scoped>\n",
       "    .dataframe tbody tr th:only-of-type {\n",
       "        vertical-align: middle;\n",
       "    }\n",
       "\n",
       "    .dataframe tbody tr th {\n",
       "        vertical-align: top;\n",
       "    }\n",
       "\n",
       "    .dataframe thead th {\n",
       "        text-align: right;\n",
       "    }\n",
       "</style>\n",
       "<table border=\"1\" class=\"dataframe\">\n",
       "  <thead>\n",
       "    <tr style=\"text-align: right;\">\n",
       "      <th></th>\n",
       "      <th>Present</th>\n",
       "      <th>Image</th>\n",
       "    </tr>\n",
       "  </thead>\n",
       "  <tbody>\n",
       "    <tr>\n",
       "      <th>0</th>\n",
       "      <td>1</td>\n",
       "      <td>&lt;PIL.JpegImagePlugin.JpegImageFile image mode=...</td>\n",
       "    </tr>\n",
       "    <tr>\n",
       "      <th>1</th>\n",
       "      <td>1</td>\n",
       "      <td>&lt;PIL.JpegImagePlugin.JpegImageFile image mode=...</td>\n",
       "    </tr>\n",
       "    <tr>\n",
       "      <th>2</th>\n",
       "      <td>1</td>\n",
       "      <td>&lt;PIL.JpegImagePlugin.JpegImageFile image mode=...</td>\n",
       "    </tr>\n",
       "    <tr>\n",
       "      <th>3</th>\n",
       "      <td>1</td>\n",
       "      <td>&lt;PIL.JpegImagePlugin.JpegImageFile image mode=...</td>\n",
       "    </tr>\n",
       "    <tr>\n",
       "      <th>4</th>\n",
       "      <td>1</td>\n",
       "      <td>&lt;PIL.JpegImagePlugin.JpegImageFile image mode=...</td>\n",
       "    </tr>\n",
       "  </tbody>\n",
       "</table>\n",
       "</div>"
      ],
      "text/plain": [
       "   Present                                              Image\n",
       "0        1  <PIL.JpegImagePlugin.JpegImageFile image mode=...\n",
       "1        1  <PIL.JpegImagePlugin.JpegImageFile image mode=...\n",
       "2        1  <PIL.JpegImagePlugin.JpegImageFile image mode=...\n",
       "3        1  <PIL.JpegImagePlugin.JpegImageFile image mode=...\n",
       "4        1  <PIL.JpegImagePlugin.JpegImageFile image mode=..."
      ]
     },
     "execution_count": 12,
     "metadata": {},
     "output_type": "execute_result"
    }
   ],
   "source": [
    "#reseting index, naming columns\n",
    "\n",
    "image_contains_df.reset_index(inplace = True)\n",
    "image_contains_df.rename(columns = {'index': 'Present', 0: 'Image'}, inplace = True)\n",
    "image_contains_df.head()"
   ]
  },
  {
   "cell_type": "code",
   "execution_count": 9,
   "id": "c63063d8",
   "metadata": {},
   "outputs": [],
   "source": [
    "#same process for images missing beaver dams\n",
    "\n",
    "image_absent_df = pd.DataFrame(image_collection_absent, [0]*len(image_collection_absent))"
   ]
  },
  {
   "cell_type": "code",
   "execution_count": 13,
   "id": "b2db8b2b",
   "metadata": {},
   "outputs": [
    {
     "data": {
      "text/html": [
       "<div>\n",
       "<style scoped>\n",
       "    .dataframe tbody tr th:only-of-type {\n",
       "        vertical-align: middle;\n",
       "    }\n",
       "\n",
       "    .dataframe tbody tr th {\n",
       "        vertical-align: top;\n",
       "    }\n",
       "\n",
       "    .dataframe thead th {\n",
       "        text-align: right;\n",
       "    }\n",
       "</style>\n",
       "<table border=\"1\" class=\"dataframe\">\n",
       "  <thead>\n",
       "    <tr style=\"text-align: right;\">\n",
       "      <th></th>\n",
       "      <th>Present</th>\n",
       "      <th>Image</th>\n",
       "    </tr>\n",
       "  </thead>\n",
       "  <tbody>\n",
       "    <tr>\n",
       "      <th>0</th>\n",
       "      <td>0</td>\n",
       "      <td>&lt;PIL.JpegImagePlugin.JpegImageFile image mode=...</td>\n",
       "    </tr>\n",
       "    <tr>\n",
       "      <th>1</th>\n",
       "      <td>0</td>\n",
       "      <td>&lt;PIL.JpegImagePlugin.JpegImageFile image mode=...</td>\n",
       "    </tr>\n",
       "    <tr>\n",
       "      <th>2</th>\n",
       "      <td>0</td>\n",
       "      <td>&lt;PIL.JpegImagePlugin.JpegImageFile image mode=...</td>\n",
       "    </tr>\n",
       "    <tr>\n",
       "      <th>3</th>\n",
       "      <td>0</td>\n",
       "      <td>&lt;PIL.JpegImagePlugin.JpegImageFile image mode=...</td>\n",
       "    </tr>\n",
       "    <tr>\n",
       "      <th>4</th>\n",
       "      <td>0</td>\n",
       "      <td>&lt;PIL.JpegImagePlugin.JpegImageFile image mode=...</td>\n",
       "    </tr>\n",
       "  </tbody>\n",
       "</table>\n",
       "</div>"
      ],
      "text/plain": [
       "   Present                                              Image\n",
       "0        0  <PIL.JpegImagePlugin.JpegImageFile image mode=...\n",
       "1        0  <PIL.JpegImagePlugin.JpegImageFile image mode=...\n",
       "2        0  <PIL.JpegImagePlugin.JpegImageFile image mode=...\n",
       "3        0  <PIL.JpegImagePlugin.JpegImageFile image mode=...\n",
       "4        0  <PIL.JpegImagePlugin.JpegImageFile image mode=..."
      ]
     },
     "execution_count": 13,
     "metadata": {},
     "output_type": "execute_result"
    }
   ],
   "source": [
    "image_absent_df.reset_index(inplace = True)\n",
    "image_absent_df.rename(columns = {'index': 'Present', 0: 'Image'}, inplace = True)\n",
    "image_absent_df.head()"
   ]
  },
  {
   "cell_type": "code",
   "execution_count": 14,
   "id": "7abe1f7d",
   "metadata": {},
   "outputs": [],
   "source": [
    "#combine into one dataframe\n",
    "\n",
    "image_df = pd.concat([image_contains_df, image_absent_df])"
   ]
  },
  {
   "cell_type": "code",
   "execution_count": 15,
   "id": "02bcc70a",
   "metadata": {},
   "outputs": [
    {
     "data": {
      "text/html": [
       "<div>\n",
       "<style scoped>\n",
       "    .dataframe tbody tr th:only-of-type {\n",
       "        vertical-align: middle;\n",
       "    }\n",
       "\n",
       "    .dataframe tbody tr th {\n",
       "        vertical-align: top;\n",
       "    }\n",
       "\n",
       "    .dataframe thead th {\n",
       "        text-align: right;\n",
       "    }\n",
       "</style>\n",
       "<table border=\"1\" class=\"dataframe\">\n",
       "  <thead>\n",
       "    <tr style=\"text-align: right;\">\n",
       "      <th></th>\n",
       "      <th>Present</th>\n",
       "      <th>Image</th>\n",
       "    </tr>\n",
       "  </thead>\n",
       "  <tbody>\n",
       "    <tr>\n",
       "      <th>0</th>\n",
       "      <td>1</td>\n",
       "      <td>&lt;PIL.JpegImagePlugin.JpegImageFile image mode=...</td>\n",
       "    </tr>\n",
       "    <tr>\n",
       "      <th>1</th>\n",
       "      <td>1</td>\n",
       "      <td>&lt;PIL.JpegImagePlugin.JpegImageFile image mode=...</td>\n",
       "    </tr>\n",
       "    <tr>\n",
       "      <th>2</th>\n",
       "      <td>1</td>\n",
       "      <td>&lt;PIL.JpegImagePlugin.JpegImageFile image mode=...</td>\n",
       "    </tr>\n",
       "    <tr>\n",
       "      <th>3</th>\n",
       "      <td>1</td>\n",
       "      <td>&lt;PIL.JpegImagePlugin.JpegImageFile image mode=...</td>\n",
       "    </tr>\n",
       "    <tr>\n",
       "      <th>4</th>\n",
       "      <td>1</td>\n",
       "      <td>&lt;PIL.JpegImagePlugin.JpegImageFile image mode=...</td>\n",
       "    </tr>\n",
       "  </tbody>\n",
       "</table>\n",
       "</div>"
      ],
      "text/plain": [
       "   Present                                              Image\n",
       "0        1  <PIL.JpegImagePlugin.JpegImageFile image mode=...\n",
       "1        1  <PIL.JpegImagePlugin.JpegImageFile image mode=...\n",
       "2        1  <PIL.JpegImagePlugin.JpegImageFile image mode=...\n",
       "3        1  <PIL.JpegImagePlugin.JpegImageFile image mode=...\n",
       "4        1  <PIL.JpegImagePlugin.JpegImageFile image mode=..."
      ]
     },
     "execution_count": 15,
     "metadata": {},
     "output_type": "execute_result"
    }
   ],
   "source": [
    "image_df.head()"
   ]
  },
  {
   "cell_type": "code",
   "execution_count": 16,
   "id": "1e127530",
   "metadata": {},
   "outputs": [
    {
     "name": "stdout",
     "output_type": "stream",
     "text": [
      "5214\n"
     ]
    }
   ],
   "source": [
    "print(len(image_df))"
   ]
  },
  {
   "cell_type": "code",
   "execution_count": 26,
   "id": "91025949",
   "metadata": {},
   "outputs": [
    {
     "name": "stderr",
     "output_type": "stream",
     "text": [
      "/Users/amgadellaboudy/.local/lib/python3.8/site-packages/pandas/core/generic.py:2605: PerformanceWarning: \n",
      "your performance may suffer as PyTables will pickle object types that it cannot\n",
      "map directly to c-types [inferred_type->mixed,key->block1_values] [items->Index(['Image'], dtype='object')]\n",
      "\n",
      "  pytables.to_hdf(\n"
     ]
    }
   ],
   "source": [
    "image_df.to_hdf('beaver_images.h5', key = 'image_df')"
   ]
  },
  {
   "cell_type": "code",
   "execution_count": null,
   "id": "a1132ad7",
   "metadata": {},
   "outputs": [],
   "source": []
  }
 ],
 "metadata": {
  "kernelspec": {
   "display_name": "Python 3",
   "language": "python",
   "name": "python3"
  },
  "language_info": {
   "codemirror_mode": {
    "name": "ipython",
    "version": 3
   },
   "file_extension": ".py",
   "mimetype": "text/x-python",
   "name": "python",
   "nbconvert_exporter": "python",
   "pygments_lexer": "ipython3",
   "version": "3.8.8"
  }
 },
 "nbformat": 4,
 "nbformat_minor": 5
}
