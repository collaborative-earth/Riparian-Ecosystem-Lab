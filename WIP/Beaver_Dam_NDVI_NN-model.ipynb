{
 "cells": [
  {
   "cell_type": "code",
   "execution_count": 4,
   "id": "ef736cbd",
   "metadata": {},
   "outputs": [],
   "source": [
    "import ee\n",
    "import numpy as np\n",
    "import pandas as pd\n",
    "\n",
    "from earthshot import mon_stats\n",
    "from earthshot import water_viz as vis\n",
    "from earthshot import normalize as norm\n",
    "from earthshot import water_common as common\n",
    "from statistics import mean\n",
    "\n",
    "import geemap.eefolium as geemap\n",
    "import folium\n",
    "from folium import plugins\n",
    "\n",
    "import matplotlib.pyplot as plt\n",
    "%matplotlib inline"
   ]
  },
  {
   "cell_type": "code",
   "execution_count": 5,
   "id": "40a1c714",
   "metadata": {},
   "outputs": [],
   "source": [
    "ee.Initialize()"
   ]
  },
  {
   "cell_type": "code",
   "execution_count": 28,
   "id": "51fc8907",
   "metadata": {},
   "outputs": [],
   "source": [
    "#Join beaver dam tables\n",
    "\n",
    "def set_present(feature):\n",
    "    return feature.set('Beaver Dam', 1)\n",
    "\n",
    "def set_absent(feature):\n",
    "    return feature.set('Beaver Dam', 0)\n",
    "\n",
    "CA_Dam_Data_Present = ee.FeatureCollection('users/amgadellaboudy/Beaver_Dams_A/06_CaliforniaDams_Boxes_yes_BeaverDam')\n",
    "CA_Dam_Data_Absent = ee.FeatureCollection('users/amgadellaboudy/Beaver_Dams_A/06_CaliforniaDams_Boxes_no_BeaverDam')\n",
    "CO_Dam_Data_Present = ee.FeatureCollection('users/amgadellaboudy/Beaver_Dams_A/05_ColoradoDams_Boxes_yes_BeaverDam').merge(ee.FeatureCollection('users/amgadellaboudy/Beaver_Dams_A/05_ColoradoDams_Boxes_allIntersect'))\n",
    "CO_Dam_Data_Absent = ee.FeatureCollection('users/amgadellaboudy/Beaver_Dams_A/05_ColoradoDams_Boxes_no_BeaverDam')\n",
    "ID_Dam_Data_Present = ee.FeatureCollection('users/amgadellaboudy/Beaver_Dams_A/04_IdahoDams_Boxes_yes_BeaverDam').merge(ee.FeatureCollection('users/amgadellaboudy/Beaver_Dams_A/04_IdahoDams_Boxes_allIntersect'))\n",
    "ID_Dam_Data_Absent = ee.FeatureCollection('users/amgadellaboudy/Beaver_Dams_A/04_IdahoDams_Boxes_no_BeaverDam')\n",
    "WY_Dam_Data_Present = (ee.FeatureCollection('users/amgadellaboudy/Beaver_Dams_A/01_WyomingDams_Boxes_yes_BeaverDam')\n",
    "                       .merge(ee.FeatureCollection('users/amgadellaboudy/Beaver_Dams_A/01_WyomingDams_Boxes_allIntersect'))\n",
    "                       .merge(ee.FeatureCollection('users/amgadellaboudy/Beaver_Dams_A/02_WyomingDams_Boxes_yes_BeaverDam'))\n",
    "                       .merge(ee.FeatureCollection('users/amgadellaboudy/Beaver_Dams_A/02_WyomingDams_Boxes_allIntersect')))\n",
    "WY_Dam_Data_Absent = (ee.FeatureCollection('users/amgadellaboudy/Beaver_Dams_A/01_WyomingDams_Boxes_no_BeaverDam')\n",
    "                      .merge(ee.FeatureCollection('users/amgadellaboudy/Beaver_Dams_A/02_WyomingDams_Boxes_yes_BeaverDam')))\n",
    "OR_Dam_Data_Present = (ee.FeatureCollection('users/amgadellaboudy/Beaver_Dams_A/03_OregonDams_Boxes_yes_BeaverDam')\n",
    "                       .merge(ee.FeatureCollection('users/amgadellaboudy/Beaver_Dams_A/03_OregonDams_Boxes_allIntersect')))\n",
    "OR_Dam_Data_Absent = ee.FeatureCollection('users/amgadellaboudy/Beaver_Dams_A/03_OregonDams_Boxes_no_BeaverDam')\n",
    "\n",
    "dam_data_present = (CA_Dam_Data_Present.merge(CO_Dam_Data_Present).merge(ID_Dam_Data_Present).merge(WY_Dam_Data_Present).merge(OR_Dam_Data_Present)).map(set_present)\n",
    "\n",
    "dam_data_absent_pre = CA_Dam_Data_Absent.merge(CO_Dam_Data_Absent).merge(ID_Dam_Data_Absent).merge(WY_Dam_Data_Absent).merge(OR_Dam_Data_Absent).map(set_absent)\n",
    "\n",
    "split = 0.75\n",
    "random = dam_data_absent_pre.randomColumn()\n",
    "dam_data_absent = random.filter(ee.Filter.gte('random', split))\n",
    "\n",
    "dam_data = dam_data_present.merge(dam_data_absent)"
   ]
  },
  {
   "cell_type": "code",
   "execution_count": 7,
   "id": "ca310420",
   "metadata": {},
   "outputs": [],
   "source": [
    "eco_regions = ee.FeatureCollection('users/amgadellaboudy/Eco_Regions')\n",
    "\n",
    "innerJoin = ee.Join.inner()\n",
    "def cleanJoin(feature):\n",
    "    new_feature = ee.Feature(feature.get('primary')).copyProperties(feature.get('secondary'))\n",
    "    return new_feature\n",
    "\n",
    "spatialFilter = ee.Filter.intersects(leftField = '.geo', rightField = '.geo', maxError = 10)\n",
    "eco_dam_data = innerJoin.apply(dam_data, eco_regions, spatialFilter)\n",
    "eco_dam_data_clean = eco_dam_data.map(cleanJoin)\n",
    "dam_feat = eco_dam_data_clean.remap(lookupIn = ['16', '21', '5'], lookupOut = [0, 1, 2], columnName = 'US_L3CODE')\n"
   ]
  },
  {
   "cell_type": "code",
   "execution_count": 8,
   "id": "97331a2c",
   "metadata": {},
   "outputs": [],
   "source": [
    "bbox_conus = ee.Geometry.BBox(-125, 30, -103, 49)\n",
    "bbox_global = ee.Geometry.BBox(-180, -90, 180, 90)\n",
    "\n",
    "#Import variables in (Slope, Porosity, Runoff, Soil Types, Annual Precipitation, water accumulation)\n",
    "slope_img = ee.Image('users/jamesmcc/merit_slope/merit_terrain_slope')\n",
    "#slope_global = ee.Image('users/jamesmcc/merit_slope/merit_terrain_slope')\n",
    "#Scale = 90 m\n",
    "\n",
    "temp_img = ee.ImageCollection(\"ECMWF/ERA5_LAND/MONTHLY\").filterDate('2020-01-01', '2020-12-31').select('temperature_2m').mean().clip(bbox_conus)\n",
    "#temp_global = ee.ImageCollection(\"ECMWF/ERA5_LAND/MONTHLY\").filterDate('2020-01-01', '2020-12-31').select('temperature_2m').mean()\n",
    "\n",
    "runoff_img = ee.ImageCollection(\"ECMWF/ERA5_LAND/MONTHLY\").filterDate('2020-01-01', '2020-12-31').select('surface_runoff').mean().clip(bbox_conus)\n",
    "#runoff_clim_m = mon_stats.bands_avgs(['surface_runoff'], runoff_clim)\n",
    "#runoff_img = ee.ImageCollection(runoff_clim_m['avgs'].get('surface_runoff')).sum().multiply(720)\n",
    "#runoff_max = runoff_clim.max().multiply(720)\n",
    "\n",
    "precip_img = ee.ImageCollection(\"ECMWF/ERA5_LAND/MONTHLY\").filterDate('2020-01-01', '2020-12-31').select('total_precipitation').mean().clip(bbox_conus)\n",
    "\n",
    "#precip_clim = ee.Image(\"OpenLandMap/CLM/CLM_PRECIPITATION_SM2RAIN_M/v01\")\n",
    "#precip_img = precip_clim.reduce('sum')\n",
    "#https://developers.google.com/earth-engine/datasets/catalog/OpenLandMap_CLM_CLM_PRECIPITATION_SM2RAIN_M_v01#bands\n",
    "#Scale = 1 km\n",
    "\n",
    "soil_types = ee.Image(\"OpenLandMap/SOL/SOL_TEXTURE-CLASS_USDA-TT_M/v02\")\n",
    "\n",
    "top_soils = soil_types.expression('soil_0 + soil_10 + soil_30',\n",
    "                             {'soil_0': soil_types.select('b0'),\n",
    "                             'soil_10': soil_types.select('b10'),\n",
    "                             'soil_30': soil_types.select('b30')}).clip(bbox_conus)\n",
    "\n",
    "water_img = ee.Image(\"MERIT/Hydro/v1_0_1\").select('viswth').clip(bbox_conus)\n",
    "#print(norm.img_range(water_img))\n",
    "#https://developers.google.com/earth-engine/datasets/catalog/MERIT_Hydro_v1_0_1#bands\n",
    "#Scale = 90 m\n",
    "\n"
   ]
  },
  {
   "cell_type": "code",
   "execution_count": 9,
   "id": "79c730b0",
   "metadata": {},
   "outputs": [],
   "source": [
    "#function to calculate NDVI\n",
    "\n",
    "def addNDVI(image):\n",
    "    ndvi = image.normalizedDifference(['N', 'R']).rename('NDVI')\n",
    "    return image.addBands(ndvi)"
   ]
  },
  {
   "cell_type": "code",
   "execution_count": null,
   "id": "81e7dcb9",
   "metadata": {},
   "outputs": [],
   "source": []
  },
  {
   "cell_type": "code",
   "execution_count": null,
   "id": "5920c6cf",
   "metadata": {},
   "outputs": [],
   "source": []
  },
  {
   "cell_type": "code",
   "execution_count": null,
   "id": "2f058726",
   "metadata": {},
   "outputs": [],
   "source": []
  },
  {
   "cell_type": "code",
   "execution_count": 10,
   "id": "f3ead0eb",
   "metadata": {},
   "outputs": [],
   "source": [
    "NDVI_pre = (ee.ImageCollection('USDA/NAIP/DOQQ')\n",
    "        .filterDate('2016-01-01', '2018-12-31')\n",
    "        .map(addNDVI)\n",
    "        .select('NDVI')\n",
    "        .mean()\n",
    "        .clip(bbox_conus))\n",
    "\n",
    "mask = NDVI_pre.gte(-0.25)\n",
    "NDVI = NDVI_pre.updateMask(mask)"
   ]
  },
  {
   "cell_type": "code",
   "execution_count": 11,
   "id": "a5190122",
   "metadata": {},
   "outputs": [
    {
     "name": "stdout",
     "output_type": "stream",
     "text": [
      "['slope', 'surface_runoff', 'total_precipitation', 'b0', 'NDVI', 'temperature_2m']\n"
     ]
    }
   ],
   "source": [
    "training_img = slope_img.addBands(runoff_img).addBands(precip_img).addBands(top_soils).addBands(NDVI).addBands(temp_img)\n",
    "print(training_img.bandNames().getInfo())"
   ]
  },
  {
   "cell_type": "code",
   "execution_count": 29,
   "id": "416e4a69",
   "metadata": {},
   "outputs": [],
   "source": [
    "target = 'NDVI'\n",
    "bands = ['slope', 'surface_runoff', 'total_precipitation', 'b0', 'temperature_2m', 'Beaver Dam']\n",
    "not_null = ['NDVI', 'slope', 'surface_runoff', 'total_precipitation', 'b0','temperature_2m', 'Beaver Dam']\n",
    "\n",
    "\n",
    "\n",
    "training = (training_img.reduceRegions(collection = dam_data, reducer = ee.Reducer.mean(), scale = 2, tileScale = 16)).filter(ee.Filter.notNull(not_null))"
   ]
  },
  {
   "cell_type": "code",
   "execution_count": 217,
   "id": "52f638d8",
   "metadata": {},
   "outputs": [
    {
     "data": {
      "text/html": [
       "<div>\n",
       "<style scoped>\n",
       "    .dataframe tbody tr th:only-of-type {\n",
       "        vertical-align: middle;\n",
       "    }\n",
       "\n",
       "    .dataframe tbody tr th {\n",
       "        vertical-align: top;\n",
       "    }\n",
       "\n",
       "    .dataframe thead th {\n",
       "        text-align: right;\n",
       "    }\n",
       "</style>\n",
       "<table border=\"1\" class=\"dataframe\">\n",
       "  <thead>\n",
       "    <tr style=\"text-align: right;\">\n",
       "      <th></th>\n",
       "      <th>Beaver Dam</th>\n",
       "      <th>NDVI</th>\n",
       "      <th>slope</th>\n",
       "      <th>surface_runoff</th>\n",
       "      <th>temperature_2m</th>\n",
       "      <th>total_precipitation</th>\n",
       "      <th>Soil Type</th>\n",
       "    </tr>\n",
       "  </thead>\n",
       "  <tbody>\n",
       "    <tr>\n",
       "      <th>0</th>\n",
       "      <td>1.0</td>\n",
       "      <td>0.253768</td>\n",
       "      <td>2.918741</td>\n",
       "      <td>0.000040</td>\n",
       "      <td>281.962162</td>\n",
       "      <td>0.000697</td>\n",
       "      <td>27.000000</td>\n",
       "    </tr>\n",
       "    <tr>\n",
       "      <th>1</th>\n",
       "      <td>1.0</td>\n",
       "      <td>0.288047</td>\n",
       "      <td>2.667730</td>\n",
       "      <td>0.000043</td>\n",
       "      <td>283.601159</td>\n",
       "      <td>0.000683</td>\n",
       "      <td>27.000000</td>\n",
       "    </tr>\n",
       "    <tr>\n",
       "      <th>2</th>\n",
       "      <td>1.0</td>\n",
       "      <td>0.177025</td>\n",
       "      <td>2.726323</td>\n",
       "      <td>0.000040</td>\n",
       "      <td>281.962162</td>\n",
       "      <td>0.000697</td>\n",
       "      <td>21.354575</td>\n",
       "    </tr>\n",
       "    <tr>\n",
       "      <th>3</th>\n",
       "      <td>1.0</td>\n",
       "      <td>0.211482</td>\n",
       "      <td>3.148325</td>\n",
       "      <td>0.000040</td>\n",
       "      <td>281.962162</td>\n",
       "      <td>0.000697</td>\n",
       "      <td>21.753414</td>\n",
       "    </tr>\n",
       "    <tr>\n",
       "      <th>4</th>\n",
       "      <td>1.0</td>\n",
       "      <td>0.234640</td>\n",
       "      <td>3.701855</td>\n",
       "      <td>0.000040</td>\n",
       "      <td>281.962162</td>\n",
       "      <td>0.000697</td>\n",
       "      <td>26.541020</td>\n",
       "    </tr>\n",
       "  </tbody>\n",
       "</table>\n",
       "</div>"
      ],
      "text/plain": [
       "   Beaver Dam      NDVI     slope  surface_runoff  temperature_2m  \\\n",
       "0         1.0  0.253768  2.918741        0.000040      281.962162   \n",
       "1         1.0  0.288047  2.667730        0.000043      283.601159   \n",
       "2         1.0  0.177025  2.726323        0.000040      281.962162   \n",
       "3         1.0  0.211482  3.148325        0.000040      281.962162   \n",
       "4         1.0  0.234640  3.701855        0.000040      281.962162   \n",
       "\n",
       "   total_precipitation  Soil Type  \n",
       "0             0.000697  27.000000  \n",
       "1             0.000683  27.000000  \n",
       "2             0.000697  21.354575  \n",
       "3             0.000697  21.753414  \n",
       "4             0.000697  26.541020  "
      ]
     },
     "execution_count": 217,
     "metadata": {},
     "output_type": "execute_result"
    }
   ],
   "source": [
    "selectors = ee.List(['Beaver Dam', 'NDVI', 'slope', 'surface_runoff', 'temperature_2m', 'total_precipitation','b0'])\n",
    "\n",
    "training_df = pd.DataFrame(training.reduceColumns(reducer = ee.Reducer.toList().repeat(selectors.size()), selectors = selectors).get('list').getInfo()).transpose()\n",
    "\n",
    "training_df = training_df.rename(columns = {0: 'Beaver Dam', 1: 'NDVI', 2: 'slope', 3: 'surface_runoff', 4: 'temperature_2m', 5: 'total_precipitation', 6: 'Soil Type'})\n",
    "\n",
    "training_df.head()"
   ]
  },
  {
   "cell_type": "code",
   "execution_count": 218,
   "id": "0aa524b4",
   "metadata": {},
   "outputs": [],
   "source": [
    "X = training_df.drop('NDVI', axis =1).values\n",
    "y = training_df['NDVI'].values"
   ]
  },
  {
   "cell_type": "code",
   "execution_count": 219,
   "id": "c766b1c9",
   "metadata": {},
   "outputs": [],
   "source": [
    "from sklearn.model_selection import train_test_split"
   ]
  },
  {
   "cell_type": "code",
   "execution_count": 220,
   "id": "15d0ab68",
   "metadata": {},
   "outputs": [],
   "source": [
    "X_train, X_test, y_train, y_test = train_test_split(X, y, test_size=0.3, random_state=101)"
   ]
  },
  {
   "cell_type": "code",
   "execution_count": 221,
   "id": "bc769736",
   "metadata": {},
   "outputs": [],
   "source": [
    "from sklearn.preprocessing import MinMaxScaler"
   ]
  },
  {
   "cell_type": "code",
   "execution_count": 222,
   "id": "788e94b0",
   "metadata": {},
   "outputs": [],
   "source": [
    "scaler= MinMaxScaler()"
   ]
  },
  {
   "cell_type": "code",
   "execution_count": 223,
   "id": "382c5cd8",
   "metadata": {},
   "outputs": [
    {
     "data": {
      "text/plain": [
       "4445"
      ]
     },
     "execution_count": 223,
     "metadata": {},
     "output_type": "execute_result"
    }
   ],
   "source": [
    "X_train = scaler.fit_transform(X_train)\n",
    "len(X_train)"
   ]
  },
  {
   "cell_type": "code",
   "execution_count": 224,
   "id": "19306f4d",
   "metadata": {},
   "outputs": [],
   "source": [
    "X_test = scaler.transform(X_test)"
   ]
  },
  {
   "cell_type": "code",
   "execution_count": 225,
   "id": "84bb4d8c",
   "metadata": {},
   "outputs": [],
   "source": [
    "import tensorflow.keras as tf\n",
    "\n",
    "from tensorflow.keras.models import Sequential\n",
    "from tensorflow.keras.layers import Dense"
   ]
  },
  {
   "cell_type": "code",
   "execution_count": 236,
   "id": "02438b2b",
   "metadata": {},
   "outputs": [],
   "source": [
    "model = Sequential()\n",
    "\n",
    "model.add(Dense(6, activation='relu'))\n",
    "model.add(Dense(635, activation='relu'))\n",
    "model.add(Dense(1, activation = 'linear'))\n",
    "\n",
    "model.compile(optimizer='adam', loss = 'mse')"
   ]
  },
  {
   "cell_type": "code",
   "execution_count": 237,
   "id": "c1275af4",
   "metadata": {},
   "outputs": [
    {
     "name": "stdout",
     "output_type": "stream",
     "text": [
      "Epoch 1/1000\n",
      "278/278 [==============================] - 1s 3ms/step - loss: 0.0125 - val_loss: 0.0090\n",
      "Epoch 2/1000\n",
      "278/278 [==============================] - 1s 3ms/step - loss: 0.0095 - val_loss: 0.0103\n",
      "Epoch 3/1000\n",
      "278/278 [==============================] - 1s 2ms/step - loss: 0.0094 - val_loss: 0.0087\n",
      "Epoch 4/1000\n",
      "278/278 [==============================] - 1s 2ms/step - loss: 0.0091 - val_loss: 0.0095\n",
      "Epoch 5/1000\n",
      "278/278 [==============================] - 1s 2ms/step - loss: 0.0088 - val_loss: 0.0091\n",
      "Epoch 6/1000\n",
      "278/278 [==============================] - 1s 2ms/step - loss: 0.0088 - val_loss: 0.0085\n",
      "Epoch 7/1000\n",
      "278/278 [==============================] - 1s 2ms/step - loss: 0.0087 - val_loss: 0.0092\n",
      "Epoch 8/1000\n",
      "278/278 [==============================] - 1s 2ms/step - loss: 0.0087 - val_loss: 0.0084\n",
      "Epoch 9/1000\n",
      "278/278 [==============================] - 1s 2ms/step - loss: 0.0087 - val_loss: 0.0083\n",
      "Epoch 10/1000\n",
      "278/278 [==============================] - 1s 2ms/step - loss: 0.0086 - val_loss: 0.0087\n",
      "Epoch 11/1000\n",
      "278/278 [==============================] - 1s 2ms/step - loss: 0.0085 - val_loss: 0.0081\n",
      "Epoch 12/1000\n",
      "278/278 [==============================] - 1s 2ms/step - loss: 0.0087 - val_loss: 0.0083\n",
      "Epoch 13/1000\n",
      "278/278 [==============================] - 1s 2ms/step - loss: 0.0084 - val_loss: 0.0083\n",
      "Epoch 14/1000\n",
      "278/278 [==============================] - 1s 2ms/step - loss: 0.0085 - val_loss: 0.0082\n",
      "Epoch 15/1000\n",
      "278/278 [==============================] - 1s 2ms/step - loss: 0.0085 - val_loss: 0.0082\n",
      "Epoch 16/1000\n",
      "278/278 [==============================] - 1s 2ms/step - loss: 0.0084 - val_loss: 0.0083\n",
      "Epoch 17/1000\n",
      "278/278 [==============================] - 1s 2ms/step - loss: 0.0083 - val_loss: 0.0081\n",
      "Epoch 18/1000\n",
      "278/278 [==============================] - 1s 2ms/step - loss: 0.0083 - val_loss: 0.0081\n",
      "Epoch 19/1000\n",
      "278/278 [==============================] - 1s 2ms/step - loss: 0.0082 - val_loss: 0.0081\n",
      "Epoch 20/1000\n",
      "278/278 [==============================] - 1s 2ms/step - loss: 0.0082 - val_loss: 0.0083\n",
      "Epoch 21/1000\n",
      "278/278 [==============================] - 1s 2ms/step - loss: 0.0082 - val_loss: 0.0085\n",
      "Epoch 22/1000\n",
      "278/278 [==============================] - 1s 2ms/step - loss: 0.0083 - val_loss: 0.0085\n",
      "Epoch 23/1000\n",
      "278/278 [==============================] - 1s 3ms/step - loss: 0.0081 - val_loss: 0.0086\n",
      "Epoch 24/1000\n",
      "278/278 [==============================] - 1s 2ms/step - loss: 0.0082 - val_loss: 0.0081\n",
      "Epoch 25/1000\n",
      "278/278 [==============================] - 1s 2ms/step - loss: 0.0082 - val_loss: 0.0083\n",
      "Epoch 26/1000\n",
      "278/278 [==============================] - 1s 2ms/step - loss: 0.0082 - val_loss: 0.0079\n",
      "Epoch 27/1000\n",
      "278/278 [==============================] - 1s 2ms/step - loss: 0.0081 - val_loss: 0.0081\n",
      "Epoch 28/1000\n",
      "278/278 [==============================] - 1s 2ms/step - loss: 0.0082 - val_loss: 0.0080\n",
      "Epoch 29/1000\n",
      "278/278 [==============================] - 1s 2ms/step - loss: 0.0082 - val_loss: 0.0082\n",
      "Epoch 30/1000\n",
      "278/278 [==============================] - 1s 2ms/step - loss: 0.0081 - val_loss: 0.0081\n",
      "Epoch 31/1000\n",
      "278/278 [==============================] - 1s 2ms/step - loss: 0.0080 - val_loss: 0.0079\n",
      "Epoch 32/1000\n",
      "278/278 [==============================] - 1s 2ms/step - loss: 0.0080 - val_loss: 0.0082\n",
      "Epoch 33/1000\n",
      "278/278 [==============================] - 1s 2ms/step - loss: 0.0080 - val_loss: 0.0083\n",
      "Epoch 34/1000\n",
      "278/278 [==============================] - 1s 2ms/step - loss: 0.0080 - val_loss: 0.0082\n",
      "Epoch 35/1000\n",
      "278/278 [==============================] - 1s 2ms/step - loss: 0.0080 - val_loss: 0.0080\n",
      "Epoch 36/1000\n",
      "278/278 [==============================] - 1s 2ms/step - loss: 0.0080 - val_loss: 0.0079\n",
      "Epoch 37/1000\n",
      "278/278 [==============================] - 1s 2ms/step - loss: 0.0080 - val_loss: 0.0084\n",
      "Epoch 38/1000\n",
      "278/278 [==============================] - 1s 2ms/step - loss: 0.0080 - val_loss: 0.0080\n",
      "Epoch 39/1000\n",
      "278/278 [==============================] - 1s 2ms/step - loss: 0.0080 - val_loss: 0.0080\n",
      "Epoch 40/1000\n",
      "278/278 [==============================] - 1s 2ms/step - loss: 0.0080 - val_loss: 0.0078\n",
      "Epoch 41/1000\n",
      "278/278 [==============================] - 1s 2ms/step - loss: 0.0079 - val_loss: 0.0082\n",
      "Epoch 42/1000\n",
      "278/278 [==============================] - 1s 2ms/step - loss: 0.0079 - val_loss: 0.0079\n",
      "Epoch 43/1000\n",
      "278/278 [==============================] - 1s 2ms/step - loss: 0.0079 - val_loss: 0.0079\n",
      "Epoch 44/1000\n",
      "278/278 [==============================] - 1s 2ms/step - loss: 0.0079 - val_loss: 0.0083\n",
      "Epoch 45/1000\n",
      "278/278 [==============================] - 1s 2ms/step - loss: 0.0080 - val_loss: 0.0080\n",
      "Epoch 46/1000\n",
      "278/278 [==============================] - 1s 2ms/step - loss: 0.0079 - val_loss: 0.0081\n",
      "Epoch 47/1000\n",
      "278/278 [==============================] - 1s 2ms/step - loss: 0.0078 - val_loss: 0.0080\n",
      "Epoch 48/1000\n",
      "278/278 [==============================] - 1s 2ms/step - loss: 0.0080 - val_loss: 0.0080\n",
      "Epoch 49/1000\n",
      "278/278 [==============================] - 1s 2ms/step - loss: 0.0078 - val_loss: 0.0078\n",
      "Epoch 50/1000\n",
      "278/278 [==============================] - 1s 2ms/step - loss: 0.0080 - val_loss: 0.0084\n",
      "Epoch 51/1000\n",
      "278/278 [==============================] - 1s 2ms/step - loss: 0.0079 - val_loss: 0.0083\n",
      "Epoch 52/1000\n",
      "278/278 [==============================] - 1s 2ms/step - loss: 0.0078 - val_loss: 0.0081\n",
      "Epoch 53/1000\n",
      "278/278 [==============================] - 1s 2ms/step - loss: 0.0078 - val_loss: 0.0078\n",
      "Epoch 54/1000\n",
      "278/278 [==============================] - 1s 2ms/step - loss: 0.0078 - val_loss: 0.0078\n",
      "Epoch 55/1000\n",
      "278/278 [==============================] - 1s 2ms/step - loss: 0.0079 - val_loss: 0.0080\n",
      "Epoch 56/1000\n",
      "278/278 [==============================] - 1s 2ms/step - loss: 0.0078 - val_loss: 0.0079\n",
      "Epoch 57/1000\n",
      "278/278 [==============================] - 1s 2ms/step - loss: 0.0078 - val_loss: 0.0078\n",
      "Epoch 58/1000\n",
      "278/278 [==============================] - 1s 2ms/step - loss: 0.0077 - val_loss: 0.0081\n",
      "Epoch 59/1000\n",
      "278/278 [==============================] - 1s 2ms/step - loss: 0.0077 - val_loss: 0.0081\n",
      "Epoch 60/1000\n",
      "278/278 [==============================] - 1s 2ms/step - loss: 0.0077 - val_loss: 0.0077\n",
      "Epoch 61/1000\n",
      "278/278 [==============================] - 1s 2ms/step - loss: 0.0078 - val_loss: 0.0078\n",
      "Epoch 62/1000\n",
      "278/278 [==============================] - 1s 2ms/step - loss: 0.0078 - val_loss: 0.0079\n",
      "Epoch 63/1000\n",
      "278/278 [==============================] - 1s 2ms/step - loss: 0.0077 - val_loss: 0.0079\n",
      "Epoch 64/1000\n",
      "278/278 [==============================] - 1s 2ms/step - loss: 0.0078 - val_loss: 0.0078\n",
      "Epoch 65/1000\n",
      "278/278 [==============================] - 1s 2ms/step - loss: 0.0077 - val_loss: 0.0076\n",
      "Epoch 66/1000\n",
      "278/278 [==============================] - 1s 2ms/step - loss: 0.0077 - val_loss: 0.0081\n",
      "Epoch 67/1000\n",
      "278/278 [==============================] - 1s 2ms/step - loss: 0.0077 - val_loss: 0.0082\n",
      "Epoch 68/1000\n",
      "278/278 [==============================] - 1s 2ms/step - loss: 0.0078 - val_loss: 0.0083\n",
      "Epoch 69/1000\n",
      "278/278 [==============================] - 1s 2ms/step - loss: 0.0078 - val_loss: 0.0079\n",
      "Epoch 70/1000\n",
      "278/278 [==============================] - 1s 2ms/step - loss: 0.0077 - val_loss: 0.0086\n",
      "Epoch 71/1000\n",
      "278/278 [==============================] - 1s 2ms/step - loss: 0.0077 - val_loss: 0.0077\n",
      "Epoch 72/1000\n",
      "278/278 [==============================] - 1s 2ms/step - loss: 0.0077 - val_loss: 0.0079\n",
      "Epoch 73/1000\n",
      "278/278 [==============================] - 1s 2ms/step - loss: 0.0076 - val_loss: 0.0077\n",
      "Epoch 74/1000\n",
      "278/278 [==============================] - 1s 2ms/step - loss: 0.0077 - val_loss: 0.0077\n",
      "Epoch 75/1000\n",
      "278/278 [==============================] - 1s 2ms/step - loss: 0.0077 - val_loss: 0.0078\n",
      "Epoch 76/1000\n",
      "278/278 [==============================] - 1s 2ms/step - loss: 0.0077 - val_loss: 0.0077\n",
      "Epoch 77/1000\n",
      "278/278 [==============================] - 1s 2ms/step - loss: 0.0077 - val_loss: 0.0077\n",
      "Epoch 78/1000\n",
      "278/278 [==============================] - 1s 2ms/step - loss: 0.0077 - val_loss: 0.0076\n",
      "Epoch 79/1000\n",
      "278/278 [==============================] - 1s 2ms/step - loss: 0.0077 - val_loss: 0.0076\n",
      "Epoch 80/1000\n"
     ]
    },
    {
     "name": "stdout",
     "output_type": "stream",
     "text": [
      "278/278 [==============================] - 1s 2ms/step - loss: 0.0077 - val_loss: 0.0078\n",
      "Epoch 81/1000\n",
      "278/278 [==============================] - 1s 2ms/step - loss: 0.0076 - val_loss: 0.0077\n",
      "Epoch 82/1000\n",
      "278/278 [==============================] - 1s 2ms/step - loss: 0.0077 - val_loss: 0.0081\n",
      "Epoch 83/1000\n",
      "278/278 [==============================] - 1s 2ms/step - loss: 0.0076 - val_loss: 0.0078\n",
      "Epoch 84/1000\n",
      "278/278 [==============================] - 1s 2ms/step - loss: 0.0076 - val_loss: 0.0077\n",
      "Epoch 85/1000\n",
      "278/278 [==============================] - 1s 2ms/step - loss: 0.0076 - val_loss: 0.0080\n",
      "Epoch 86/1000\n",
      "278/278 [==============================] - 1s 2ms/step - loss: 0.0076 - val_loss: 0.0079\n",
      "Epoch 87/1000\n",
      "278/278 [==============================] - 1s 2ms/step - loss: 0.0076 - val_loss: 0.0079\n",
      "Epoch 88/1000\n",
      "278/278 [==============================] - 1s 2ms/step - loss: 0.0076 - val_loss: 0.0077\n",
      "Epoch 89/1000\n",
      "278/278 [==============================] - 1s 2ms/step - loss: 0.0076 - val_loss: 0.0077\n",
      "Epoch 90/1000\n",
      "278/278 [==============================] - 1s 2ms/step - loss: 0.0077 - val_loss: 0.0077\n",
      "Epoch 91/1000\n",
      "278/278 [==============================] - 1s 2ms/step - loss: 0.0076 - val_loss: 0.0080\n",
      "Epoch 92/1000\n",
      "278/278 [==============================] - 1s 2ms/step - loss: 0.0077 - val_loss: 0.0076\n",
      "Epoch 93/1000\n",
      "278/278 [==============================] - 1s 2ms/step - loss: 0.0076 - val_loss: 0.0076\n",
      "Epoch 94/1000\n",
      "278/278 [==============================] - 1s 2ms/step - loss: 0.0076 - val_loss: 0.0078\n",
      "Epoch 95/1000\n",
      "278/278 [==============================] - 1s 2ms/step - loss: 0.0076 - val_loss: 0.0075\n",
      "Epoch 96/1000\n",
      "278/278 [==============================] - 1s 2ms/step - loss: 0.0076 - val_loss: 0.0075\n",
      "Epoch 97/1000\n",
      "278/278 [==============================] - 1s 2ms/step - loss: 0.0076 - val_loss: 0.0080\n",
      "Epoch 98/1000\n",
      "278/278 [==============================] - 1s 2ms/step - loss: 0.0077 - val_loss: 0.0076\n",
      "Epoch 99/1000\n",
      "278/278 [==============================] - 1s 2ms/step - loss: 0.0076 - val_loss: 0.0078\n",
      "Epoch 100/1000\n",
      "278/278 [==============================] - 1s 2ms/step - loss: 0.0075 - val_loss: 0.0078\n",
      "Epoch 101/1000\n",
      "278/278 [==============================] - 1s 2ms/step - loss: 0.0076 - val_loss: 0.0080\n",
      "Epoch 102/1000\n",
      "278/278 [==============================] - 1s 2ms/step - loss: 0.0076 - val_loss: 0.0077\n",
      "Epoch 103/1000\n",
      "278/278 [==============================] - 1s 2ms/step - loss: 0.0076 - val_loss: 0.0081\n",
      "Epoch 104/1000\n",
      "278/278 [==============================] - 1s 2ms/step - loss: 0.0075 - val_loss: 0.0080\n",
      "Epoch 105/1000\n",
      "278/278 [==============================] - 1s 2ms/step - loss: 0.0076 - val_loss: 0.0078\n",
      "Epoch 106/1000\n",
      "278/278 [==============================] - 1s 2ms/step - loss: 0.0077 - val_loss: 0.0078\n",
      "Epoch 107/1000\n",
      "278/278 [==============================] - 1s 2ms/step - loss: 0.0075 - val_loss: 0.0076\n",
      "Epoch 108/1000\n",
      "278/278 [==============================] - 1s 2ms/step - loss: 0.0076 - val_loss: 0.0076\n",
      "Epoch 109/1000\n",
      "278/278 [==============================] - 1s 2ms/step - loss: 0.0076 - val_loss: 0.0077\n",
      "Epoch 110/1000\n",
      "278/278 [==============================] - 1s 2ms/step - loss: 0.0075 - val_loss: 0.0079\n",
      "Epoch 111/1000\n",
      "278/278 [==============================] - 1s 2ms/step - loss: 0.0076 - val_loss: 0.0076\n",
      "Epoch 112/1000\n",
      "278/278 [==============================] - 1s 2ms/step - loss: 0.0075 - val_loss: 0.0076\n",
      "Epoch 113/1000\n",
      "278/278 [==============================] - 1s 2ms/step - loss: 0.0075 - val_loss: 0.0078\n",
      "Epoch 114/1000\n",
      "278/278 [==============================] - 1s 2ms/step - loss: 0.0076 - val_loss: 0.0076\n",
      "Epoch 115/1000\n",
      "278/278 [==============================] - 1s 2ms/step - loss: 0.0076 - val_loss: 0.0077\n",
      "Epoch 116/1000\n",
      "278/278 [==============================] - 1s 2ms/step - loss: 0.0075 - val_loss: 0.0076\n",
      "Epoch 117/1000\n",
      "278/278 [==============================] - 1s 2ms/step - loss: 0.0075 - val_loss: 0.0077\n",
      "Epoch 118/1000\n",
      "278/278 [==============================] - 1s 2ms/step - loss: 0.0075 - val_loss: 0.0083\n",
      "Epoch 119/1000\n",
      "278/278 [==============================] - 1s 2ms/step - loss: 0.0076 - val_loss: 0.0076\n",
      "Epoch 120/1000\n",
      "278/278 [==============================] - 1s 2ms/step - loss: 0.0075 - val_loss: 0.0075\n",
      "Epoch 121/1000\n",
      "278/278 [==============================] - 1s 2ms/step - loss: 0.0075 - val_loss: 0.0076\n"
     ]
    },
    {
     "data": {
      "text/plain": [
       "<keras.callbacks.History at 0x7fb12ceac820>"
      ]
     },
     "execution_count": 237,
     "metadata": {},
     "output_type": "execute_result"
    }
   ],
   "source": [
    "callback = tf.callbacks.EarlyStopping(\n",
    "    monitor='val_loss', min_delta=0, patience=25, verbose=0,\n",
    "    mode='auto', baseline=None, restore_best_weights=False\n",
    ")\n",
    "\n",
    "model.fit(x = X_train, y = y_train, callbacks = callback,\n",
    "          validation_data = (X_test,y_test),\n",
    "         batch_size = 16, epochs = 1000)"
   ]
  },
  {
   "cell_type": "code",
   "execution_count": 238,
   "id": "07038893",
   "metadata": {},
   "outputs": [],
   "source": [
    "losses = pd.DataFrame(model.history.history)"
   ]
  },
  {
   "cell_type": "code",
   "execution_count": 239,
   "id": "54feb12a",
   "metadata": {},
   "outputs": [
    {
     "data": {
      "text/plain": [
       "<AxesSubplot:>"
      ]
     },
     "execution_count": 239,
     "metadata": {},
     "output_type": "execute_result"
    },
    {
     "data": {
      "image/png": "[encoded data removed]",
      "text/plain": [
       "<Figure size 432x288 with 1 Axes>"
      ]
     },
     "metadata": {
      "needs_background": "light"
     },
     "output_type": "display_data"
    }
   ],
   "source": [
    "losses.plot()"
   ]
  },
  {
   "cell_type": "code",
   "execution_count": 240,
   "id": "54c85dc9",
   "metadata": {},
   "outputs": [],
   "source": [
    "from sklearn.metrics import mean_squared_error, mean_absolute_error, explained_variance_score"
   ]
  },
  {
   "cell_type": "code",
   "execution_count": 241,
   "id": "fea09ffa",
   "metadata": {},
   "outputs": [],
   "source": [
    "predictions = model.predict(X_test)"
   ]
  },
  {
   "cell_type": "code",
   "execution_count": null,
   "id": "4803fc51",
   "metadata": {},
   "outputs": [],
   "source": []
  },
  {
   "cell_type": "code",
   "execution_count": 242,
   "id": "7079e026",
   "metadata": {},
   "outputs": [
    {
     "data": {
      "text/plain": [
       "0.08725806923707731"
      ]
     },
     "execution_count": 242,
     "metadata": {},
     "output_type": "execute_result"
    }
   ],
   "source": [
    "np.sqrt(mean_squared_error(y_test,predictions))"
   ]
  },
  {
   "cell_type": "code",
   "execution_count": 243,
   "id": "acbaa98d",
   "metadata": {},
   "outputs": [
    {
     "data": {
      "text/plain": [
       "0.5856784873589109"
      ]
     },
     "execution_count": 243,
     "metadata": {},
     "output_type": "execute_result"
    }
   ],
   "source": [
    "explained_variance_score(y_test, predictions)"
   ]
  },
  {
   "cell_type": "code",
   "execution_count": 244,
   "id": "cd1af400",
   "metadata": {},
   "outputs": [
    {
     "data": {
      "text/plain": [
       "[<matplotlib.lines.Line2D at 0x7fb132f56520>]"
      ]
     },
     "execution_count": 244,
     "metadata": {},
     "output_type": "execute_result"
    },
    {
     "data": {
      "image/png": "[encoded data removed]",
      "text/plain": [
       "<Figure size 864x432 with 1 Axes>"
      ]
     },
     "metadata": {
      "needs_background": "light"
     },
     "output_type": "display_data"
    }
   ],
   "source": [
    "plt.figure(figsize = (12,6))\n",
    "plt.scatter(y_test,predictions)\n",
    "plt.plot(y_test, y_test, 'r')"
   ]
  },
  {
   "cell_type": "code",
   "execution_count": null,
   "id": "969a29cd",
   "metadata": {},
   "outputs": [],
   "source": []
  }
 ],
 "metadata": {
  "kernelspec": {
   "display_name": "Python 3",
   "language": "python",
   "name": "python3"
  },
  "language_info": {
   "codemirror_mode": {
    "name": "ipython",
    "version": 3
   },
   "file_extension": ".py",
   "mimetype": "text/x-python",
   "name": "python",
   "nbconvert_exporter": "python",
   "pygments_lexer": "ipython3",
   "version": "3.8.8"
  }
 },
 "nbformat": 4,
 "nbformat_minor": 5
}
