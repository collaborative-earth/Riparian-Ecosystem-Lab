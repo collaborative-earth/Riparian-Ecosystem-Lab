{
 "cells": [
  {
   "cell_type": "markdown",
   "metadata": {},
   "source": [
    "# Global Minimial Viable Products (1)\n",
    "\n",
    "Combine:\n",
    "* Outcrop Permiability\n",
    "* Global Lithology\n",
    "* MERIT terrain slope\n",
    "* ERA5 Runoff\n",
    "* USDA Soil Texture\n",
    "* Land Use\n",
    "\n",
    "into honduras product for water restoration"
   ]
  },
  {
   "cell_type": "code",
   "execution_count": 1,
   "metadata": {},
   "outputs": [
    {
     "data": {
      "text/html": [
       "\n",
       "    <div class=\"bk-root\">\n",
       "        <a href=\"https://bokeh.org\" target=\"_blank\" class=\"bk-logo bk-logo-small bk-logo-notebook\"></a>\n",
       "        <span id=\"1001\">Loading BokehJS ...</span>\n",
       "    </div>"
      ]
     },
     "metadata": {},
     "output_type": "display_data"
    },
    {
     "data": {
      "application/javascript": [
       "\n",
       "(function(root) {\n",
       "  function now() {\n",
       "    return new Date();\n",
       "  }\n",
       "\n",
       "  var force = true;\n",
       "\n",
       "  if (typeof root._bokeh_onload_callbacks === \"undefined\" || force === true) {\n",
       "    root._bokeh_onload_callbacks = [];\n",
       "    root._bokeh_is_loading = undefined;\n",
       "  }\n",
       "\n",
       "  var JS_MIME_TYPE = 'application/javascript';\n",
       "  var HTML_MIME_TYPE = 'text/html';\n",
       "  var EXEC_MIME_TYPE = 'application/vnd.bokehjs_exec.v0+json';\n",
       "  var CLASS_NAME = 'output_bokeh rendered_html';\n",
       "\n",
       "  /**\n",
       "   * Render data to the DOM node\n",
       "   */\n",
       "  function render(props, node) {\n",
       "    var script = document.createElement(\"script\");\n",
       "    node.appendChild(script);\n",
       "  }\n",
       "\n",
       "  /**\n",
       "   * Handle when an output is cleared or removed\n",
       "   */\n",
       "  function handleClearOutput(event, handle) {\n",
       "    var cell = handle.cell;\n",
       "\n",
       "    var id = cell.output_area._bokeh_element_id;\n",
       "    var server_id = cell.output_area._bokeh_server_id;\n",
       "    // Clean up Bokeh references\n",
       "    if (id != null && id in Bokeh.index) {\n",
       "      Bokeh.index[id].model.document.clear();\n",
       "      delete Bokeh.index[id];\n",
       "    }\n",
       "\n",
       "    if (server_id !== undefined) {\n",
       "      // Clean up Bokeh references\n",
       "      var cmd = \"from bokeh.io.state import curstate; print(curstate().uuid_to_server['\" + server_id + \"'].get_sessions()[0].document.roots[0]._id)\";\n",
       "      cell.notebook.kernel.execute(cmd, {\n",
       "        iopub: {\n",
       "          output: function(msg) {\n",
       "            var id = msg.content.text.trim();\n",
       "            if (id in Bokeh.index) {\n",
       "              Bokeh.index[id].model.document.clear();\n",
       "              delete Bokeh.index[id];\n",
       "            }\n",
       "          }\n",
       "        }\n",
       "      });\n",
       "      // Destroy server and session\n",
       "      var cmd = \"import bokeh.io.notebook as ion; ion.destroy_server('\" + server_id + \"')\";\n",
       "      cell.notebook.kernel.execute(cmd);\n",
       "    }\n",
       "  }\n",
       "\n",
       "  /**\n",
       "   * Handle when a new output is added\n",
       "   */\n",
       "  function handleAddOutput(event, handle) {\n",
       "    var output_area = handle.output_area;\n",
       "    var output = handle.output;\n",
       "\n",
       "    // limit handleAddOutput to display_data with EXEC_MIME_TYPE content only\n",
       "    if ((output.output_type != \"display_data\") || (!output.data.hasOwnProperty(EXEC_MIME_TYPE))) {\n",
       "      return\n",
       "    }\n",
       "\n",
       "    var toinsert = output_area.element.find(\".\" + CLASS_NAME.split(' ')[0]);\n",
       "\n",
       "    if (output.metadata[EXEC_MIME_TYPE][\"id\"] !== undefined) {\n",
       "      toinsert[toinsert.length - 1].firstChild.textContent = output.data[JS_MIME_TYPE];\n",
       "      // store reference to embed id on output_area\n",
       "      output_area._bokeh_element_id = output.metadata[EXEC_MIME_TYPE][\"id\"];\n",
       "    }\n",
       "    if (output.metadata[EXEC_MIME_TYPE][\"server_id\"] !== undefined) {\n",
       "      var bk_div = document.createElement(\"div\");\n",
       "      bk_div.innerHTML = output.data[HTML_MIME_TYPE];\n",
       "      var script_attrs = bk_div.children[0].attributes;\n",
       "      for (var i = 0; i < script_attrs.length; i++) {\n",
       "        toinsert[toinsert.length - 1].firstChild.setAttribute(script_attrs[i].name, script_attrs[i].value);\n",
       "        toinsert[toinsert.length - 1].firstChild.textContent = bk_div.children[0].textContent\n",
       "      }\n",
       "      // store reference to server id on output_area\n",
       "      output_area._bokeh_server_id = output.metadata[EXEC_MIME_TYPE][\"server_id\"];\n",
       "    }\n",
       "  }\n",
       "\n",
       "  function register_renderer(events, OutputArea) {\n",
       "\n",
       "    function append_mime(data, metadata, element) {\n",
       "      // create a DOM node to render to\n",
       "      var toinsert = this.create_output_subarea(\n",
       "        metadata,\n",
       "        CLASS_NAME,\n",
       "        EXEC_MIME_TYPE\n",
       "      );\n",
       "      this.keyboard_manager.register_events(toinsert);\n",
       "      // Render to node\n",
       "      var props = {data: data, metadata: metadata[EXEC_MIME_TYPE]};\n",
       "      render(props, toinsert[toinsert.length - 1]);\n",
       "      element.append(toinsert);\n",
       "      return toinsert\n",
       "    }\n",
       "\n",
       "    /* Handle when an output is cleared or removed */\n",
       "    events.on('clear_output.CodeCell', handleClearOutput);\n",
       "    events.on('delete.Cell', handleClearOutput);\n",
       "\n",
       "    /* Handle when a new output is added */\n",
       "    events.on('output_added.OutputArea', handleAddOutput);\n",
       "\n",
       "    /**\n",
       "     * Register the mime type and append_mime function with output_area\n",
       "     */\n",
       "    OutputArea.prototype.register_mime_type(EXEC_MIME_TYPE, append_mime, {\n",
       "      /* Is output safe? */\n",
       "      safe: true,\n",
       "      /* Index of renderer in `output_area.display_order` */\n",
       "      index: 0\n",
       "    });\n",
       "  }\n",
       "\n",
       "  // register the mime type if in Jupyter Notebook environment and previously unregistered\n",
       "  if (root.Jupyter !== undefined) {\n",
       "    var events = require('base/js/events');\n",
       "    var OutputArea = require('notebook/js/outputarea').OutputArea;\n",
       "\n",
       "    if (OutputArea.prototype.mime_types().indexOf(EXEC_MIME_TYPE) == -1) {\n",
       "      register_renderer(events, OutputArea);\n",
       "    }\n",
       "  }\n",
       "\n",
       "  \n",
       "  if (typeof (root._bokeh_timeout) === \"undefined\" || force === true) {\n",
       "    root._bokeh_timeout = Date.now() + 5000;\n",
       "    root._bokeh_failed_load = false;\n",
       "  }\n",
       "\n",
       "  var NB_LOAD_WARNING = {'data': {'text/html':\n",
       "     \"<div style='background-color: #fdd'>\\n\"+\n",
       "     \"<p>\\n\"+\n",
       "     \"BokehJS does not appear to have successfully loaded. If loading BokehJS from CDN, this \\n\"+\n",
       "     \"may be due to a slow or bad network connection. Possible fixes:\\n\"+\n",
       "     \"</p>\\n\"+\n",
       "     \"<ul>\\n\"+\n",
       "     \"<li>re-rerun `output_notebook()` to attempt to load from CDN again, or</li>\\n\"+\n",
       "     \"<li>use INLINE resources instead, as so:</li>\\n\"+\n",
       "     \"</ul>\\n\"+\n",
       "     \"<code>\\n\"+\n",
       "     \"from bokeh.resources import INLINE\\n\"+\n",
       "     \"output_notebook(resources=INLINE)\\n\"+\n",
       "     \"</code>\\n\"+\n",
       "     \"</div>\"}};\n",
       "\n",
       "  function display_loaded() {\n",
       "    var el = document.getElementById(\"1001\");\n",
       "    if (el != null) {\n",
       "      el.textContent = \"BokehJS is loading...\";\n",
       "    }\n",
       "    if (root.Bokeh !== undefined) {\n",
       "      if (el != null) {\n",
       "        el.textContent = \"BokehJS \" + root.Bokeh.version + \" successfully loaded.\";\n",
       "      }\n",
       "    } else if (Date.now() < root._bokeh_timeout) {\n",
       "      setTimeout(display_loaded, 100)\n",
       "    }\n",
       "  }\n",
       "\n",
       "\n",
       "  function run_callbacks() {\n",
       "    try {\n",
       "      root._bokeh_onload_callbacks.forEach(function(callback) {\n",
       "        if (callback != null)\n",
       "          callback();\n",
       "      });\n",
       "    } finally {\n",
       "      delete root._bokeh_onload_callbacks\n",
       "    }\n",
       "    console.debug(\"Bokeh: all callbacks have finished\");\n",
       "  }\n",
       "\n",
       "  function load_libs(css_urls, js_urls, callback) {\n",
       "    if (css_urls == null) css_urls = [];\n",
       "    if (js_urls == null) js_urls = [];\n",
       "\n",
       "    root._bokeh_onload_callbacks.push(callback);\n",
       "    if (root._bokeh_is_loading > 0) {\n",
       "      console.debug(\"Bokeh: BokehJS is being loaded, scheduling callback at\", now());\n",
       "      return null;\n",
       "    }\n",
       "    if (js_urls == null || js_urls.length === 0) {\n",
       "      run_callbacks();\n",
       "      return null;\n",
       "    }\n",
       "    console.debug(\"Bokeh: BokehJS not loaded, scheduling load and callback at\", now());\n",
       "    root._bokeh_is_loading = css_urls.length + js_urls.length;\n",
       "\n",
       "    function on_load() {\n",
       "      root._bokeh_is_loading--;\n",
       "      if (root._bokeh_is_loading === 0) {\n",
       "        console.debug(\"Bokeh: all BokehJS libraries/stylesheets loaded\");\n",
       "        run_callbacks()\n",
       "      }\n",
       "    }\n",
       "\n",
       "    function on_error() {\n",
       "      console.error(\"failed to load \" + url);\n",
       "    }\n",
       "\n",
       "    for (var i = 0; i < css_urls.length; i++) {\n",
       "      var url = css_urls[i];\n",
       "      const element = document.createElement(\"link\");\n",
       "      element.onload = on_load;\n",
       "      element.onerror = on_error;\n",
       "      element.rel = \"stylesheet\";\n",
       "      element.type = \"text/css\";\n",
       "      element.href = url;\n",
       "      console.debug(\"Bokeh: injecting link tag for BokehJS stylesheet: \", url);\n",
       "      document.body.appendChild(element);\n",
       "    }\n",
       "\n",
       "    const hashes = {\"https://cdn.bokeh.org/bokeh/release/bokeh-2.2.3.min.js\": \"T2yuo9Oe71Cz/I4X9Ac5+gpEa5a8PpJCDlqKYO0CfAuEszu1JrXLl8YugMqYe3sM\", \"https://cdn.bokeh.org/bokeh/release/bokeh-widgets-2.2.3.min.js\": \"98GDGJ0kOMCUMUePhksaQ/GYgB3+NH9h996V88sh3aOiUNX3N+fLXAtry6xctSZ6\", \"https://cdn.bokeh.org/bokeh/release/bokeh-tables-2.2.3.min.js\": \"89bArO+nlbP3sgakeHjCo1JYxYR5wufVgA3IbUvDY+K7w4zyxJqssu7wVnfeKCq8\"};\n",
       "\n",
       "    for (var i = 0; i < js_urls.length; i++) {\n",
       "      var url = js_urls[i];\n",
       "      var element = document.createElement('script');\n",
       "      element.onload = on_load;\n",
       "      element.onerror = on_error;\n",
       "      element.async = false;\n",
       "      element.src = url;\n",
       "      if (url in hashes) {\n",
       "        element.crossOrigin = \"anonymous\";\n",
       "        element.integrity = \"sha384-\" + hashes[url];\n",
       "      }\n",
       "      console.debug(\"Bokeh: injecting script tag for BokehJS library: \", url);\n",
       "      document.head.appendChild(element);\n",
       "    }\n",
       "  };\n",
       "\n",
       "  function inject_raw_css(css) {\n",
       "    const element = document.createElement(\"style\");\n",
       "    element.appendChild(document.createTextNode(css));\n",
       "    document.body.appendChild(element);\n",
       "  }\n",
       "\n",
       "  \n",
       "  var js_urls = [\"https://cdn.bokeh.org/bokeh/release/bokeh-2.2.3.min.js\", \"https://cdn.bokeh.org/bokeh/release/bokeh-widgets-2.2.3.min.js\", \"https://cdn.bokeh.org/bokeh/release/bokeh-tables-2.2.3.min.js\"];\n",
       "  var css_urls = [];\n",
       "  \n",
       "\n",
       "  var inline_js = [\n",
       "    function(Bokeh) {\n",
       "      Bokeh.set_log_level(\"info\");\n",
       "    },\n",
       "    function(Bokeh) {\n",
       "    \n",
       "    \n",
       "    }\n",
       "  ];\n",
       "\n",
       "  function run_inline_js() {\n",
       "    \n",
       "    if (root.Bokeh !== undefined || force === true) {\n",
       "      \n",
       "    for (var i = 0; i < inline_js.length; i++) {\n",
       "      inline_js[i].call(root, root.Bokeh);\n",
       "    }\n",
       "    if (force === true) {\n",
       "        display_loaded();\n",
       "      }} else if (Date.now() < root._bokeh_timeout) {\n",
       "      setTimeout(run_inline_js, 100);\n",
       "    } else if (!root._bokeh_failed_load) {\n",
       "      console.log(\"Bokeh: BokehJS failed to load within specified timeout.\");\n",
       "      root._bokeh_failed_load = true;\n",
       "    } else if (force !== true) {\n",
       "      var cell = $(document.getElementById(\"1001\")).parents('.cell').data().cell;\n",
       "      cell.output_area.append_execute_result(NB_LOAD_WARNING)\n",
       "    }\n",
       "\n",
       "  }\n",
       "\n",
       "  if (root._bokeh_is_loading === 0) {\n",
       "    console.debug(\"Bokeh: BokehJS loaded, going straight to plotting\");\n",
       "    run_inline_js();\n",
       "  } else {\n",
       "    load_libs(css_urls, js_urls, function() {\n",
       "      console.debug(\"Bokeh: BokehJS plotting callback run at\", now());\n",
       "      run_inline_js();\n",
       "    });\n",
       "  }\n",
       "}(window));"
      ],
      "application/vnd.bokehjs_load.v0+json": "\n(function(root) {\n  function now() {\n    return new Date();\n  }\n\n  var force = true;\n\n  if (typeof root._bokeh_onload_callbacks === \"undefined\" || force === true) {\n    root._bokeh_onload_callbacks = [];\n    root._bokeh_is_loading = undefined;\n  }\n\n  \n\n  \n  if (typeof (root._bokeh_timeout) === \"undefined\" || force === true) {\n    root._bokeh_timeout = Date.now() + 5000;\n    root._bokeh_failed_load = false;\n  }\n\n  var NB_LOAD_WARNING = {'data': {'text/html':\n     \"<div style='background-color: #fdd'>\\n\"+\n     \"<p>\\n\"+\n     \"BokehJS does not appear to have successfully loaded. If loading BokehJS from CDN, this \\n\"+\n     \"may be due to a slow or bad network connection. Possible fixes:\\n\"+\n     \"</p>\\n\"+\n     \"<ul>\\n\"+\n     \"<li>re-rerun `output_notebook()` to attempt to load from CDN again, or</li>\\n\"+\n     \"<li>use INLINE resources instead, as so:</li>\\n\"+\n     \"</ul>\\n\"+\n     \"<code>\\n\"+\n     \"from bokeh.resources import INLINE\\n\"+\n     \"output_notebook(resources=INLINE)\\n\"+\n     \"</code>\\n\"+\n     \"</div>\"}};\n\n  function display_loaded() {\n    var el = document.getElementById(\"1001\");\n    if (el != null) {\n      el.textContent = \"BokehJS is loading...\";\n    }\n    if (root.Bokeh !== undefined) {\n      if (el != null) {\n        el.textContent = \"BokehJS \" + root.Bokeh.version + \" successfully loaded.\";\n      }\n    } else if (Date.now() < root._bokeh_timeout) {\n      setTimeout(display_loaded, 100)\n    }\n  }\n\n\n  function run_callbacks() {\n    try {\n      root._bokeh_onload_callbacks.forEach(function(callback) {\n        if (callback != null)\n          callback();\n      });\n    } finally {\n      delete root._bokeh_onload_callbacks\n    }\n    console.debug(\"Bokeh: all callbacks have finished\");\n  }\n\n  function load_libs(css_urls, js_urls, callback) {\n    if (css_urls == null) css_urls = [];\n    if (js_urls == null) js_urls = [];\n\n    root._bokeh_onload_callbacks.push(callback);\n    if (root._bokeh_is_loading > 0) {\n      console.debug(\"Bokeh: BokehJS is being loaded, scheduling callback at\", now());\n      return null;\n    }\n    if (js_urls == null || js_urls.length === 0) {\n      run_callbacks();\n      return null;\n    }\n    console.debug(\"Bokeh: BokehJS not loaded, scheduling load and callback at\", now());\n    root._bokeh_is_loading = css_urls.length + js_urls.length;\n\n    function on_load() {\n      root._bokeh_is_loading--;\n      if (root._bokeh_is_loading === 0) {\n        console.debug(\"Bokeh: all BokehJS libraries/stylesheets loaded\");\n        run_callbacks()\n      }\n    }\n\n    function on_error() {\n      console.error(\"failed to load \" + url);\n    }\n\n    for (var i = 0; i < css_urls.length; i++) {\n      var url = css_urls[i];\n      const element = document.createElement(\"link\");\n      element.onload = on_load;\n      element.onerror = on_error;\n      element.rel = \"stylesheet\";\n      element.type = \"text/css\";\n      element.href = url;\n      console.debug(\"Bokeh: injecting link tag for BokehJS stylesheet: \", url);\n      document.body.appendChild(element);\n    }\n\n    const hashes = {\"https://cdn.bokeh.org/bokeh/release/bokeh-2.2.3.min.js\": \"T2yuo9Oe71Cz/I4X9Ac5+gpEa5a8PpJCDlqKYO0CfAuEszu1JrXLl8YugMqYe3sM\", \"https://cdn.bokeh.org/bokeh/release/bokeh-widgets-2.2.3.min.js\": \"98GDGJ0kOMCUMUePhksaQ/GYgB3+NH9h996V88sh3aOiUNX3N+fLXAtry6xctSZ6\", \"https://cdn.bokeh.org/bokeh/release/bokeh-tables-2.2.3.min.js\": \"89bArO+nlbP3sgakeHjCo1JYxYR5wufVgA3IbUvDY+K7w4zyxJqssu7wVnfeKCq8\"};\n\n    for (var i = 0; i < js_urls.length; i++) {\n      var url = js_urls[i];\n      var element = document.createElement('script');\n      element.onload = on_load;\n      element.onerror = on_error;\n      element.async = false;\n      element.src = url;\n      if (url in hashes) {\n        element.crossOrigin = \"anonymous\";\n        element.integrity = \"sha384-\" + hashes[url];\n      }\n      console.debug(\"Bokeh: injecting script tag for BokehJS library: \", url);\n      document.head.appendChild(element);\n    }\n  };\n\n  function inject_raw_css(css) {\n    const element = document.createElement(\"style\");\n    element.appendChild(document.createTextNode(css));\n    document.body.appendChild(element);\n  }\n\n  \n  var js_urls = [\"https://cdn.bokeh.org/bokeh/release/bokeh-2.2.3.min.js\", \"https://cdn.bokeh.org/bokeh/release/bokeh-widgets-2.2.3.min.js\", \"https://cdn.bokeh.org/bokeh/release/bokeh-tables-2.2.3.min.js\"];\n  var css_urls = [];\n  \n\n  var inline_js = [\n    function(Bokeh) {\n      Bokeh.set_log_level(\"info\");\n    },\n    function(Bokeh) {\n    \n    \n    }\n  ];\n\n  function run_inline_js() {\n    \n    if (root.Bokeh !== undefined || force === true) {\n      \n    for (var i = 0; i < inline_js.length; i++) {\n      inline_js[i].call(root, root.Bokeh);\n    }\n    if (force === true) {\n        display_loaded();\n      }} else if (Date.now() < root._bokeh_timeout) {\n      setTimeout(run_inline_js, 100);\n    } else if (!root._bokeh_failed_load) {\n      console.log(\"Bokeh: BokehJS failed to load within specified timeout.\");\n      root._bokeh_failed_load = true;\n    } else if (force !== true) {\n      var cell = $(document.getElementById(\"1001\")).parents('.cell').data().cell;\n      cell.output_area.append_execute_result(NB_LOAD_WARNING)\n    }\n\n  }\n\n  if (root._bokeh_is_loading === 0) {\n    console.debug(\"Bokeh: BokehJS loaded, going straight to plotting\");\n    run_inline_js();\n  } else {\n    load_libs(css_urls, js_urls, function() {\n      console.debug(\"Bokeh: BokehJS plotting callback run at\", now());\n      run_inline_js();\n    });\n  }\n}(window));"
     },
     "metadata": {},
     "output_type": "display_data"
    }
   ],
   "source": [
    "import ee\n",
    "import numpy as np\n",
    "\n",
    "import sys\n",
    "sys.path.insert(1, '../datasets/SMAP-USDA/')  # until we package this\n",
    "from earthshot import water_viz as vis\n",
    "from earthshot import water_common as common\n",
    "from earthshot import normalize as norm\n",
    "from earthshot import mon_stats\n",
    "from statistics import mean\n",
    "import folium\n",
    "from folium import plugins\n",
    "import geemap.eefolium as geemap"
   ]
  },
  {
   "cell_type": "code",
   "execution_count": 2,
   "metadata": {},
   "outputs": [],
   "source": [
    "#ee.Authenticate()\n",
    "ee.Initialize()"
   ]
  },
  {
   "cell_type": "code",
   "execution_count": 3,
   "metadata": {},
   "outputs": [],
   "source": [
    "#define global box\n",
    "bbox_global = ee.Geometry.BBox(-180,-90,180,90)\n",
    "bbox_honduras = ee.Geometry.BBox(-86.43, 13.76, -83.73, 16.06)\n"
   ]
  },
  {
   "cell_type": "markdown",
   "metadata": {},
   "source": [
    "# Outcrop Permiability"
   ]
  },
  {
   "cell_type": "code",
   "execution_count": 4,
   "metadata": {},
   "outputs": [],
   "source": [
    "Permiability_1 = ee.FeatureCollection('users/amgadellaboudy/Permiability_Data')\n",
    "\n",
    "perm_img = Permiability_1.reduceToImage(['logK_Ice_x'], ee.Reducer.mean())\n",
    "perm_scaled = norm.img_scale(perm_img, area_of_interest = bbox_honduras)"
   ]
  },
  {
   "cell_type": "code",
   "execution_count": 5,
   "metadata": {},
   "outputs": [
    {
     "name": "stdout",
     "output_type": "stream",
     "text": [
      "['mean']\n"
     ]
    }
   ],
   "source": [
    "print(perm_scaled.bandNames().getInfo())"
   ]
  },
  {
   "cell_type": "code",
   "execution_count": 6,
   "metadata": {},
   "outputs": [],
   "source": [
    "perm = perm_scaled.expression(\n",
    "        \"(b('mean') > 0.66) ? 3\" +\n",
    "        \": (b('mean') <= 0.66 && b('mean') > 0.33) ? 2\" +\n",
    "        \": (b('mean') <= 0.33 && b('mean') > 0.01) ? 1\"\n",
    "        \": 0\").clip(bbox_honduras).updateMask(perm_scaled.lte(0.95))"
   ]
  },
  {
   "cell_type": "markdown",
   "metadata": {},
   "source": [
    "## Lithology"
   ]
  },
  {
   "cell_type": "code",
   "execution_count": 7,
   "metadata": {},
   "outputs": [],
   "source": [
    "Lithology = ee.Image('users/amgadellaboudy/Honduras_Lithology_2').select(['b1','b2','b3']).clip(bbox_honduras)\n",
    "Lithology_reduced = Lithology.reduce(ee.Reducer.stdDev())\n",
    "\n",
    "litho_mask = Lithology_reduced.lte(5)\n",
    "litho_img = ee.Image('users/amgadellaboudy/Honduras_Lithology_2').select(['b1']).clip(bbox_honduras).updateMask(litho_mask)\n"
   ]
  },
  {
   "cell_type": "code",
   "execution_count": 8,
   "metadata": {},
   "outputs": [],
   "source": [
    "litho = litho_img.expression(\n",
    "        \"(b('b1') > 0 && b('b1') <= 34) ? 0\" +       #Undefined/ glaciers/ ice\n",
    "        \":(b('b1') > 34 && b('b1') <= 51) ? 2\" +      #Metamorphic\n",
    "        \":(b('b1') > 51 && b('b1') <= 102) ? 2\" +     #Intrusive\n",
    "        \":(b('b1') > 102 && b('b1') <= 153) ? 2\" +    #Volcanic\n",
    "        \":(b('b1') > 153 && b('b1') <= 170) ? 0\" +    #Evaporitic\n",
    "        \":(b('b1') > 170 && b('b1') <= 187) ? 2\" +   #Karsitic\n",
    "        \":(b('b1') > 187 && b('b1') <= 204) ? 3\" +   #Detritic\n",
    "        \":(b('b1') > 204 && b('b1') <= 221) ? 2\" +   #Pyroclastic (Volcanic)\n",
    "        \":(b('b1') > 221 && b('b1') <= 238) ? 3\" +   #Detritic\n",
    "        \":(b('b1') > 238 && b('b1') <= 255) ? 3\" +   #Alluvial\n",
    "        \": 0\").clip(bbox_honduras)"
   ]
  },
  {
   "cell_type": "markdown",
   "metadata": {},
   "source": [
    "## ERA5 Runoff"
   ]
  },
  {
   "cell_type": "code",
   "execution_count": 9,
   "metadata": {},
   "outputs": [],
   "source": [
    "# Sum up runoff across the year to include in product score\n",
    "runoff_clim = ee.ImageCollection(\"ECMWF/ERA5_LAND/MONTHLY\").select('surface_runoff')\n",
    "\n",
    "runoff_clim_m = mon_stats.bands_avgs(['surface_runoff'], runoff_clim)\n",
    "\n",
    "runoff_img = ee.ImageCollection(runoff_clim_m['avgs'].get('surface_runoff')).sum().multiply(720)\n",
    "\n",
    "\n",
    "runoff = runoff_img.expression(\n",
    "        \"(b('surface_runoff') > 5.833 ) ? 1\" +\n",
    "        \": (b('surface_runoff') <= 5.833 && b('surface_runoff') > 3.167) ? 2\" +\n",
    "        \": (b('surface_runoff') <= 3.167 && b('surface_runoff') > 0.496) ? 3\" +\n",
    "        \": 0\").clip(bbox_honduras)\n",
    "\n",
    "total_runoff = runoff_img.reduceRegion(reducer = ee.Reducer.sum(), geometry = bbox_honduras, scale = 100)\n",
    "total_runoff_m = total_runoff.getInfo().get('surface_runoff')*0.000081"
   ]
  },
  {
   "cell_type": "code",
   "execution_count": 10,
   "metadata": {},
   "outputs": [
    {
     "name": "stdout",
     "output_type": "stream",
     "text": [
      "74192432744.52104\n",
      "131674432834802.6\n"
     ]
    }
   ],
   "source": [
    "area = bbox_honduras.area(10).getInfo()\n",
    "total_runoff_m3 = total_runoff_m*area\n",
    "print(area)\n",
    "print(total_runoff_m3)"
   ]
  },
  {
   "cell_type": "markdown",
   "metadata": {},
   "source": [
    "## MERIT Terrain Slope"
   ]
  },
  {
   "cell_type": "code",
   "execution_count": 11,
   "metadata": {},
   "outputs": [],
   "source": [
    "#include slope as a factor in scoring product, mask for lower slopes\n",
    "slope_img = ee.Image('users/jamesmcc/merit_slope/merit_terrain_slope').clip(bbox_honduras)\n",
    "\n",
    "slope_mask = slope_img.lte(21.8)\n",
    "\n",
    "slope = slope_img.expression(\n",
    "        \"(b('slope') <= 21.8 && b('slope') > 14.533) ? 1\" +\n",
    "        \": (b('slope') <= 14.533 && b('slope') > 7.266) ? 2\" +\n",
    "        \": (b('slope') <= 7.266 && b('slope') >= 0) ? 3\" +\n",
    "        \": 0\").clip(bbox_honduras)\n",
    "\n"
   ]
  },
  {
   "cell_type": "code",
   "execution_count": 12,
   "metadata": {},
   "outputs": [
    {
     "name": "stdout",
     "output_type": "stream",
     "text": [
      "['slope']\n"
     ]
    }
   ],
   "source": [
    "print(slope_img.bandNames().getInfo())"
   ]
  },
  {
   "cell_type": "markdown",
   "metadata": {},
   "source": [
    "# Soil Types"
   ]
  },
  {
   "cell_type": "code",
   "execution_count": 13,
   "metadata": {},
   "outputs": [],
   "source": [
    "#incorporate soil types as a factor in scoring for PRZ\n",
    "soil_types = ee.Image(\"OpenLandMap/SOL/SOL_TEXTURE-CLASS_USDA-TT_M/v02\")"
   ]
  },
  {
   "cell_type": "code",
   "execution_count": 14,
   "metadata": {},
   "outputs": [],
   "source": [
    "#categorizing soil types and depths based on retaining plant-available water, grouping top soils and bottom soils together\n",
    "soil_0 = soil_types.expression(\n",
    "        \"(b('b0') == 12) ? 3\" +\n",
    "        \": (b('b0') == 11) ? 3\" +\n",
    "        \": (b('b0') == 10) ? 3\" +\n",
    "        \": (b('b0') == 9) ? 3\" +\n",
    "        \": (b('b0') == 8) ? 2\" +\n",
    "        \": (b('b0') == 7) ? 2\" +\n",
    "        \": (b('b0') == 6) ? 2\" +\n",
    "        \": (b('b0') == 5) ? 2\" +\n",
    "        \": (b('b0') == 4) ? 1\" +\n",
    "        \": (b('b0') == 3) ? 1\" +\n",
    "        \": (b('b0') == 2) ? 1\" +\n",
    "        \": (b('b0') == 1) ? 1\" +\n",
    "        \": 0\").clip(bbox_honduras)\n",
    "\n",
    "\n",
    "                  "
   ]
  },
  {
   "cell_type": "markdown",
   "metadata": {},
   "source": [
    "## Land Use"
   ]
  },
  {
   "cell_type": "code",
   "execution_count": 15,
   "metadata": {},
   "outputs": [],
   "source": [
    "#https://developers.google.com/earth-engine/datasets/catalog/COPERNICUS_Landcover_100m_Proba-V-C3_Global#image-properties\n",
    "land_use = ee.Image(\"COPERNICUS/Landcover/100m/Proba-V-C3/Global/2019\").select('discrete_classification')\n",
    "land_use_mask = land_use.neq(50).And(land_use.neq(90)).And(land_use.neq(80))"
   ]
  },
  {
   "cell_type": "code",
   "execution_count": 16,
   "metadata": {},
   "outputs": [],
   "source": [
    "score = (perm.multiply(.215)\n",
    "        .add(litho.multiply(.215))\n",
    "        .add(slope.multiply(.21))\n",
    "        .add(soil_0.multiply(.21))\n",
    "        .add(runoff.multiply(.07)))\n",
    "\n",
    "score_scaled = norm.img_scale(score, area_of_interest= bbox_honduras).updateMask(slope_mask).updateMask(land_use_mask)"
   ]
  },
  {
   "cell_type": "code",
   "execution_count": 17,
   "metadata": {},
   "outputs": [],
   "source": [
    "honduras_land = ee.FeatureCollection('users/tsongkapa/HND-fo2_15')"
   ]
  },
  {
   "cell_type": "code",
   "execution_count": 18,
   "metadata": {},
   "outputs": [
    {
     "data": {
      "text/html": [
       "<div style=\"width:100%;\"><div style=\"position:relative;width:100%;height:0;padding-bottom:60%;\"><span style=\"color:#565656\">Make this Notebook Trusted to load map: File -> Trust Notebook</span><iframe src=\"about:blank\" style=\"position:absolute;width:100%;height:100%;left:0;top:0;border:none !important;\" data-html=%3C%21DOCTYPE%20html%3E%0A%3Chead%3E%20%20%20%20%0A%20%20%20%20%3Cmeta%20http-equiv%3D%22content-type%22%20content%3D%22text/html%3B%20charset%3DUTF-8%22%20/%3E%0A%20%20%20%20%0A%20%20%20%20%20%20%20%20%3Cscript%3E%0A%20%20%20%20%20%20%20%20%20%20%20%20L_NO_TOUCH%20%3D%20false%3B%0A%20%20%20%20%20%20%20%20%20%20%20%20L_DISABLE_3D%20%3D%20false%3B%0A%20%20%20%20%20%20%20%20%3C/script%3E%0A%20%20%20%20%0A%20%20%20%20%3Cstyle%3Ehtml%2C%20body%20%7Bwidth%3A%20100%25%3Bheight%3A%20100%25%3Bmargin%3A%200%3Bpadding%3A%200%3B%7D%3C/style%3E%0A%20%20%20%20%3Cstyle%3E%23map%20%7Bposition%3Aabsolute%3Btop%3A0%3Bbottom%3A0%3Bright%3A0%3Bleft%3A0%3B%7D%3C/style%3E%0A%20%20%20%20%3Cscript%20src%3D%22https%3A//cdn.jsdelivr.net/npm/leaflet%401.6.0/dist/leaflet.js%22%3E%3C/script%3E%0A%20%20%20%20%3Cscript%20src%3D%22https%3A//code.jquery.com/jquery-1.12.4.min.js%22%3E%3C/script%3E%0A%20%20%20%20%3Cscript%20src%3D%22https%3A//maxcdn.bootstrapcdn.com/bootstrap/3.2.0/js/bootstrap.min.js%22%3E%3C/script%3E%0A%20%20%20%20%3Cscript%20src%3D%22https%3A//cdnjs.cloudflare.com/ajax/libs/Leaflet.awesome-markers/2.0.2/leaflet.awesome-markers.js%22%3E%3C/script%3E%0A%20%20%20%20%3Clink%20rel%3D%22stylesheet%22%20href%3D%22https%3A//cdn.jsdelivr.net/npm/leaflet%401.6.0/dist/leaflet.css%22/%3E%0A%20%20%20%20%3Clink%20rel%3D%22stylesheet%22%20href%3D%22https%3A//maxcdn.bootstrapcdn.com/bootstrap/3.2.0/css/bootstrap.min.css%22/%3E%0A%20%20%20%20%3Clink%20rel%3D%22stylesheet%22%20href%3D%22https%3A//maxcdn.bootstrapcdn.com/bootstrap/3.2.0/css/bootstrap-theme.min.css%22/%3E%0A%20%20%20%20%3Clink%20rel%3D%22stylesheet%22%20href%3D%22https%3A//maxcdn.bootstrapcdn.com/font-awesome/4.6.3/css/font-awesome.min.css%22/%3E%0A%20%20%20%20%3Clink%20rel%3D%22stylesheet%22%20href%3D%22https%3A//cdnjs.cloudflare.com/ajax/libs/Leaflet.awesome-markers/2.0.2/leaflet.awesome-markers.css%22/%3E%0A%20%20%20%20%3Clink%20rel%3D%22stylesheet%22%20href%3D%22https%3A//cdn.jsdelivr.net/gh/python-visualization/folium/folium/templates/leaflet.awesome.rotate.min.css%22/%3E%0A%20%20%20%20%0A%20%20%20%20%20%20%20%20%20%20%20%20%3Cmeta%20name%3D%22viewport%22%20content%3D%22width%3Ddevice-width%2C%0A%20%20%20%20%20%20%20%20%20%20%20%20%20%20%20%20initial-scale%3D1.0%2C%20maximum-scale%3D1.0%2C%20user-scalable%3Dno%22%20/%3E%0A%20%20%20%20%20%20%20%20%20%20%20%20%3Cstyle%3E%0A%20%20%20%20%20%20%20%20%20%20%20%20%20%20%20%20%23map_7eba48a4a173460d8d997304e53138b0%20%7B%0A%20%20%20%20%20%20%20%20%20%20%20%20%20%20%20%20%20%20%20%20position%3A%20relative%3B%0A%20%20%20%20%20%20%20%20%20%20%20%20%20%20%20%20%20%20%20%20width%3A%20100.0%25%3B%0A%20%20%20%20%20%20%20%20%20%20%20%20%20%20%20%20%20%20%20%20height%3A%20100.0%25%3B%0A%20%20%20%20%20%20%20%20%20%20%20%20%20%20%20%20%20%20%20%20left%3A%200.0%25%3B%0A%20%20%20%20%20%20%20%20%20%20%20%20%20%20%20%20%20%20%20%20top%3A%200.0%25%3B%0A%20%20%20%20%20%20%20%20%20%20%20%20%20%20%20%20%7D%0A%20%20%20%20%20%20%20%20%20%20%20%20%3C/style%3E%0A%20%20%20%20%20%20%20%20%0A%20%20%20%20%3Cscript%20src%3D%22https%3A//cdnjs.cloudflare.com/ajax/libs/leaflet.fullscreen/1.4.2/Control.FullScreen.min.js%22%3E%3C/script%3E%0A%20%20%20%20%3Clink%20rel%3D%22stylesheet%22%20href%3D%22https%3A//cdnjs.cloudflare.com/ajax/libs/leaflet.fullscreen/1.4.2/Control.FullScreen.min.css%22/%3E%0A%20%20%20%20%3Cscript%20src%3D%22https%3A//cdnjs.cloudflare.com/ajax/libs/d3/3.5.5/d3.min.js%22%3E%3C/script%3E%0A%3C/head%3E%0A%3Cbody%3E%20%20%20%20%0A%20%20%20%20%0A%20%20%20%20%20%20%20%20%20%20%20%20%3Cdiv%20class%3D%22folium-map%22%20id%3D%22map_7eba48a4a173460d8d997304e53138b0%22%20%3E%3C/div%3E%0A%20%20%20%20%20%20%20%20%0A%3C/body%3E%0A%3Cscript%3E%20%20%20%20%0A%20%20%20%20%0A%20%20%20%20%20%20%20%20%20%20%20%20var%20map_7eba48a4a173460d8d997304e53138b0%20%3D%20L.map%28%0A%20%20%20%20%20%20%20%20%20%20%20%20%20%20%20%20%22map_7eba48a4a173460d8d997304e53138b0%22%2C%0A%20%20%20%20%20%20%20%20%20%20%20%20%20%20%20%20%7B%0A%20%20%20%20%20%20%20%20%20%20%20%20%20%20%20%20%20%20%20%20center%3A%20%5B40.0%2C%20-100.0%5D%2C%0A%20%20%20%20%20%20%20%20%20%20%20%20%20%20%20%20%20%20%20%20crs%3A%20L.CRS.EPSG3857%2C%0A%20%20%20%20%20%20%20%20%20%20%20%20%20%20%20%20%20%20%20%20zoom%3A%204%2C%0A%20%20%20%20%20%20%20%20%20%20%20%20%20%20%20%20%20%20%20%20zoomControl%3A%20true%2C%0A%20%20%20%20%20%20%20%20%20%20%20%20%20%20%20%20%20%20%20%20preferCanvas%3A%20false%2C%0A%20%20%20%20%20%20%20%20%20%20%20%20%20%20%20%20%20%20%20%20eeInitialize%3A%20true%2C%0A%20%20%20%20%20%20%20%20%20%20%20%20%20%20%20%20%20%20%20%20addGoogleMap%3A%20true%2C%0A%20%20%20%20%20%20%20%20%20%20%20%20%20%20%20%20%20%20%20%20pluginLatlngpopup%3A%20true%2C%0A%20%20%20%20%20%20%20%20%20%20%20%20%20%20%20%20%20%20%20%20pluginFullscreen%3A%20true%2C%0A%20%20%20%20%20%20%20%20%20%20%20%20%20%20%20%20%20%20%20%20pluginDraw%3A%20false%2C%0A%20%20%20%20%20%20%20%20%20%20%20%20%20%20%20%20%20%20%20%20DrawExport%3A%20true%2C%0A%20%20%20%20%20%20%20%20%20%20%20%20%20%20%20%20%20%20%20%20pluginMinimap%3A%20false%2C%0A%20%20%20%20%20%20%20%20%20%20%20%20%20%20%20%20%20%20%20%20pluginLayercontrol%3A%20false%2C%0A%20%20%20%20%20%20%20%20%20%20%20%20%20%20%20%20%7D%0A%20%20%20%20%20%20%20%20%20%20%20%20%29%3B%0A%0A%20%20%20%20%20%20%20%20%20%20%20%20%0A%0A%20%20%20%20%20%20%20%20%0A%20%20%20%20%0A%20%20%20%20%20%20%20%20%20%20%20%20var%20tile_layer_4f11a73105c844f685e5f81529257526%20%3D%20L.tileLayer%28%0A%20%20%20%20%20%20%20%20%20%20%20%20%20%20%20%20%22https%3A//%7Bs%7D.tile.openstreetmap.org/%7Bz%7D/%7Bx%7D/%7By%7D.png%22%2C%0A%20%20%20%20%20%20%20%20%20%20%20%20%20%20%20%20%7B%22attribution%22%3A%20%22Data%20by%20%5Cu0026copy%3B%20%5Cu003ca%20href%3D%5C%22http%3A//openstreetmap.org%5C%22%5Cu003eOpenStreetMap%5Cu003c/a%5Cu003e%2C%20under%20%5Cu003ca%20href%3D%5C%22http%3A//www.openstreetmap.org/copyright%5C%22%5Cu003eODbL%5Cu003c/a%5Cu003e.%22%2C%20%22detectRetina%22%3A%20false%2C%20%22maxNativeZoom%22%3A%2018%2C%20%22maxZoom%22%3A%2018%2C%20%22minZoom%22%3A%200%2C%20%22noWrap%22%3A%20false%2C%20%22opacity%22%3A%201%2C%20%22subdomains%22%3A%20%22abc%22%2C%20%22tms%22%3A%20false%7D%0A%20%20%20%20%20%20%20%20%20%20%20%20%29.addTo%28map_7eba48a4a173460d8d997304e53138b0%29%3B%0A%20%20%20%20%20%20%20%20%0A%20%20%20%20%0A%20%20%20%20%20%20%20%20%20%20%20%20var%20tile_layer_53e1f4d3276c42cd82af40eea974d8d2%20%3D%20L.tileLayer%28%0A%20%20%20%20%20%20%20%20%20%20%20%20%20%20%20%20%22https%3A//mt1.google.com/vt/lyrs%3Dm%5Cu0026x%3D%7Bx%7D%5Cu0026y%3D%7By%7D%5Cu0026z%3D%7Bz%7D%22%2C%0A%20%20%20%20%20%20%20%20%20%20%20%20%20%20%20%20%7B%22attribution%22%3A%20%22Google%22%2C%20%22detectRetina%22%3A%20false%2C%20%22maxNativeZoom%22%3A%2018%2C%20%22maxZoom%22%3A%2018%2C%20%22minZoom%22%3A%200%2C%20%22noWrap%22%3A%20false%2C%20%22opacity%22%3A%201%2C%20%22subdomains%22%3A%20%22abc%22%2C%20%22tms%22%3A%20false%7D%0A%20%20%20%20%20%20%20%20%20%20%20%20%29.addTo%28map_7eba48a4a173460d8d997304e53138b0%29%3B%0A%20%20%20%20%20%20%20%20%0A%20%20%20%20%0A%20%20%20%20%20%20%20%20%20%20%20%20%20%20%20%20var%20lat_lng_popup_002d70894f5343f0a45f0fe7f6555c77%20%3D%20L.popup%28%29%3B%0A%20%20%20%20%20%20%20%20%20%20%20%20%20%20%20%20function%20latLngPop%28e%29%20%7B%0A%20%20%20%20%20%20%20%20%20%20%20%20%20%20%20%20%20%20%20%20lat_lng_popup_002d70894f5343f0a45f0fe7f6555c77%0A%20%20%20%20%20%20%20%20%20%20%20%20%20%20%20%20%20%20%20%20%20%20%20%20.setLatLng%28e.latlng%29%0A%20%20%20%20%20%20%20%20%20%20%20%20%20%20%20%20%20%20%20%20%20%20%20%20.setContent%28%22Latitude%3A%20%22%20%2B%20e.latlng.lat.toFixed%284%29%20%2B%0A%20%20%20%20%20%20%20%20%20%20%20%20%20%20%20%20%20%20%20%20%20%20%20%20%20%20%20%20%20%20%20%20%20%20%20%20%22%3Cbr%3ELongitude%3A%20%22%20%2B%20e.latlng.lng.toFixed%284%29%29%0A%20%20%20%20%20%20%20%20%20%20%20%20%20%20%20%20%20%20%20%20%20%20%20%20.openOn%28map_7eba48a4a173460d8d997304e53138b0%29%3B%0A%20%20%20%20%20%20%20%20%20%20%20%20%20%20%20%20%20%20%20%20%7D%0A%20%20%20%20%20%20%20%20%20%20%20%20%20%20%20%20map_7eba48a4a173460d8d997304e53138b0.on%28%27click%27%2C%20latLngPop%29%3B%0A%20%20%20%20%20%20%20%20%20%20%20%20%0A%20%20%20%20%0A%20%20%20%20%20%20%20%20%20%20%20%20L.control.fullscreen%28%0A%20%20%20%20%20%20%20%20%20%20%20%20%20%20%20%20%7B%22forceSeparateButton%22%3A%20false%2C%20%22position%22%3A%20%22topleft%22%2C%20%22title%22%3A%20%22Full%20Screen%22%2C%20%22titleCancel%22%3A%20%22Exit%20Full%20Screen%22%7D%0A%20%20%20%20%20%20%20%20%20%20%20%20%29.addTo%28map_7eba48a4a173460d8d997304e53138b0%29%3B%0A%20%20%20%20%20%20%20%20%0A%20%20%20%20%0A%20%20%20%20%20%20%20%20%20%20%20%20map_7eba48a4a173460d8d997304e53138b0.fitBounds%28%0A%20%20%20%20%20%20%20%20%20%20%20%20%20%20%20%20%5B%5B40%2C%20-100%5D%2C%20%5B40%2C%20-100%5D%5D%2C%0A%20%20%20%20%20%20%20%20%20%20%20%20%20%20%20%20%7B%22maxZoom%22%3A%204%7D%0A%20%20%20%20%20%20%20%20%20%20%20%20%29%3B%0A%20%20%20%20%20%20%20%20%0A%20%20%20%20%0A%20%20%20%20var%20color_map_442b09e709fd40988b0cc3fdf4273608%20%3D%20%7B%7D%3B%0A%0A%20%20%20%20%0A%20%20%20%20color_map_442b09e709fd40988b0cc3fdf4273608.color%20%3D%20d3.scale.threshold%28%29%0A%20%20%20%20%20%20%20%20%20%20%20%20%20%20.domain%28%5B0.0%2C%200.002004008016032064%2C%200.004008016032064128%2C%200.006012024048096192%2C%200.008016032064128256%2C%200.01002004008016032%2C%200.012024048096192385%2C%200.014028056112224449%2C%200.01603206412825651%2C%200.018036072144288578%2C%200.02004008016032064%2C%200.022044088176352707%2C%200.02404809619238477%2C%200.026052104208416832%2C%200.028056112224448898%2C%200.03006012024048096%2C%200.03206412825651302%2C%200.03406813627254509%2C%200.036072144288577156%2C%200.03807615230460922%2C%200.04008016032064128%2C%200.04208416833667335%2C%200.04408817635270541%2C%200.04609218436873747%2C%200.04809619238476954%2C%200.050100200400801605%2C%200.052104208416833664%2C%200.05410821643286573%2C%200.056112224448897796%2C%200.05811623246492986%2C%200.06012024048096192%2C%200.06212424849699399%2C%200.06412825651302605%2C%200.06613226452905811%2C%200.06813627254509018%2C%200.07014028056112225%2C%200.07214428857715431%2C%200.07414829659318638%2C%200.07615230460921844%2C%200.0781563126252505%2C%200.08016032064128256%2C%200.08216432865731463%2C%200.0841683366733467%2C%200.08617234468937876%2C%200.08817635270541083%2C%200.09018036072144289%2C%200.09218436873747494%2C%200.09418837675350701%2C%200.09619238476953908%2C%200.09819639278557114%2C%200.10020040080160321%2C%200.10220440881763528%2C%200.10420841683366733%2C%200.1062124248496994%2C%200.10821643286573146%2C%200.11022044088176353%2C%200.11222444889779559%2C%200.11422845691382766%2C%200.11623246492985972%2C%200.11823647294589178%2C%200.12024048096192384%2C%200.12224448897795591%2C%200.12424849699398798%2C%200.12625250501002003%2C%200.1282565130260521%2C%200.13026052104208416%2C%200.13226452905811623%2C%200.1342685370741483%2C%200.13627254509018036%2C%200.13827655310621242%2C%200.1402805611222445%2C%200.14228456913827656%2C%200.14428857715430862%2C%200.1462925851703407%2C%200.14829659318637275%2C%200.15030060120240482%2C%200.1523046092184369%2C%200.15430861723446893%2C%200.156312625250501%2C%200.15831663326653306%2C%200.16032064128256512%2C%200.1623246492985972%2C%200.16432865731462926%2C%200.16633266533066132%2C%200.1683366733466934%2C%200.17034068136272545%2C%200.17234468937875752%2C%200.1743486973947896%2C%200.17635270541082165%2C%200.17835671342685372%2C%200.18036072144288579%2C%200.18236472945891782%2C%200.1843687374749499%2C%200.18637274549098196%2C%200.18837675350701402%2C%200.1903807615230461%2C%200.19238476953907815%2C%200.19438877755511022%2C%200.1963927855711423%2C%200.19839679358717435%2C%200.20040080160320642%2C%200.20240480961923848%2C%200.20440881763527055%2C%200.20641282565130262%2C%200.20841683366733466%2C%200.21042084168336672%2C%200.2124248496993988%2C%200.21442885771543085%2C%200.21643286573146292%2C%200.218436873747495%2C%200.22044088176352705%2C%200.22244488977955912%2C%200.22444889779559118%2C%200.22645290581162325%2C%200.22845691382765532%2C%200.23046092184368738%2C%200.23246492985971945%2C%200.23446893787575152%2C%200.23647294589178355%2C%200.23847695390781562%2C%200.24048096192384769%2C%200.24248496993987975%2C%200.24448897795591182%2C%200.24649298597194388%2C%200.24849699398797595%2C%200.250501002004008%2C%200.25250501002004005%2C%200.2545090180360721%2C%200.2565130260521042%2C%200.25851703406813625%2C%200.2605210420841683%2C%200.2625250501002004%2C%200.26452905811623245%2C%200.2665330661322645%2C%200.2685370741482966%2C%200.27054108216432865%2C%200.2725450901803607%2C%200.2745490981963928%2C%200.27655310621242485%2C%200.2785571142284569%2C%200.280561122244489%2C%200.28256513026052105%2C%200.2845691382765531%2C%200.2865731462925852%2C%200.28857715430861725%2C%200.2905811623246493%2C%200.2925851703406814%2C%200.29458917835671344%2C%200.2965931863727455%2C%200.2985971943887776%2C%200.30060120240480964%2C%200.3026052104208417%2C%200.3046092184368738%2C%200.3066132264529058%2C%200.30861723446893785%2C%200.3106212424849699%2C%200.312625250501002%2C%200.31462925851703405%2C%200.3166332665330661%2C%200.3186372745490982%2C%200.32064128256513025%2C%200.3226452905811623%2C%200.3246492985971944%2C%200.32665330661322645%2C%200.3286573146292585%2C%200.3306613226452906%2C%200.33266533066132264%2C%200.3346693386773547%2C%200.3366733466933868%2C%200.33867735470941884%2C%200.3406813627254509%2C%200.342685370741483%2C%200.34468937875751504%2C%200.3466933867735471%2C%200.3486973947895792%2C%200.35070140280561124%2C%200.3527054108216433%2C%200.35470941883767537%2C%200.35671342685370744%2C%200.3587174348697395%2C%200.36072144288577157%2C%200.3627254509018036%2C%200.36472945891783565%2C%200.3667334669338677%2C%200.3687374749498998%2C%200.37074148296593185%2C%200.3727454909819639%2C%200.374749498997996%2C%200.37675350701402804%2C%200.3787575150300601%2C%200.3807615230460922%2C%200.38276553106212424%2C%200.3847695390781563%2C%200.3867735470941884%2C%200.38877755511022044%2C%200.3907815631262525%2C%200.3927855711422846%2C%200.39478957915831664%2C%200.3967935871743487%2C%200.39879759519038077%2C%200.40080160320641284%2C%200.4028056112224449%2C%200.40480961923847697%2C%200.40681362725450904%2C%200.4088176352705411%2C%200.41082164328657317%2C%200.41282565130260523%2C%200.4148296593186373%2C%200.4168336673346693%2C%200.4188376753507014%2C%200.42084168336673344%2C%200.4228456913827655%2C%200.4248496993987976%2C%200.42685370741482964%2C%200.4288577154308617%2C%200.4308617234468938%2C%200.43286573146292584%2C%200.4348697394789579%2C%200.43687374749499%2C%200.43887775551102204%2C%200.4408817635270541%2C%200.44288577154308617%2C%200.44488977955911824%2C%200.4468937875751503%2C%200.44889779559118237%2C%200.45090180360721444%2C%200.4529058116232465%2C%200.45490981963927857%2C%200.45691382765531063%2C%200.4589178356713427%2C%200.46092184368737477%2C%200.46292585170340683%2C%200.4649298597194389%2C%200.46693386773547096%2C%200.46893787575150303%2C%200.4709418837675351%2C%200.4729458917835671%2C%200.4749498997995992%2C%200.47695390781563124%2C%200.4789579158316633%2C%200.48096192384769537%2C%200.48296593186372744%2C%200.4849699398797595%2C%200.48697394789579157%2C%200.48897795591182364%2C%200.4909819639278557%2C%200.49298597194388777%2C%200.49498997995991983%2C%200.4969939879759519%2C%200.49899799599198397%2C%200.501002004008016%2C%200.503006012024048%2C%200.5050100200400801%2C%200.5070140280561122%2C%200.5090180360721442%2C%200.5110220440881763%2C%200.5130260521042084%2C%200.5150300601202404%2C%200.5170340681362725%2C%200.5190380761523046%2C%200.5210420841683366%2C%200.5230460921843687%2C%200.5250501002004008%2C%200.5270541082164328%2C%200.5290581162324649%2C%200.531062124248497%2C%200.533066132264529%2C%200.5350701402805611%2C%200.5370741482965932%2C%200.5390781563126252%2C%200.5410821643286573%2C%200.5430861723446894%2C%200.5450901803607214%2C%200.5470941883767535%2C%200.5490981963927856%2C%200.5511022044088176%2C%200.5531062124248497%2C%200.5551102204408818%2C%200.5571142284569138%2C%200.5591182364729459%2C%200.561122244488978%2C%200.56312625250501%2C%200.5651302605210421%2C%200.5671342685370742%2C%200.5691382765531062%2C%200.5711422845691383%2C%200.5731462925851704%2C%200.5751503006012024%2C%200.5771543086172345%2C%200.5791583166332666%2C%200.5811623246492986%2C%200.5831663326653307%2C%200.5851703406813628%2C%200.5871743486973948%2C%200.5891783567134269%2C%200.591182364729459%2C%200.593186372745491%2C%200.5951903807615231%2C%200.5971943887775552%2C%200.5991983967935872%2C%200.6012024048096193%2C%200.6032064128256514%2C%200.6052104208416834%2C%200.6072144288577155%2C%200.6092184368737475%2C%200.6112224448897795%2C%200.6132264529058116%2C%200.6152304609218436%2C%200.6172344689378757%2C%200.6192384769539078%2C%200.6212424849699398%2C%200.6232464929859719%2C%200.625250501002004%2C%200.627254509018036%2C%200.6292585170340681%2C%200.6312625250501002%2C%200.6332665330661322%2C%200.6352705410821643%2C%200.6372745490981964%2C%200.6392785571142284%2C%200.6412825651302605%2C%200.6432865731462926%2C%200.6452905811623246%2C%200.6472945891783567%2C%200.6492985971943888%2C%200.6513026052104208%2C%200.6533066132264529%2C%200.655310621242485%2C%200.657314629258517%2C%200.6593186372745491%2C%200.6613226452905812%2C%200.6633266533066132%2C%200.6653306613226453%2C%200.6673346693386774%2C%200.6693386773547094%2C%200.6713426853707415%2C%200.6733466933867736%2C%200.6753507014028056%2C%200.6773547094188377%2C%200.6793587174348698%2C%200.6813627254509018%2C%200.6833667334669339%2C%200.685370741482966%2C%200.687374749498998%2C%200.6893787575150301%2C%200.6913827655310621%2C%200.6933867735470942%2C%200.6953907815631263%2C%200.6973947895791583%2C%200.6993987975951904%2C%200.7014028056112225%2C%200.7034068136272545%2C%200.7054108216432866%2C%200.7074148296593187%2C%200.7094188376753507%2C%200.7114228456913828%2C%200.7134268537074149%2C%200.7154308617234469%2C%200.717434869739479%2C%200.7194388777555111%2C%200.7214428857715431%2C%200.7234468937875751%2C%200.7254509018036072%2C%200.7274549098196392%2C%200.7294589178356713%2C%200.7314629258517034%2C%200.7334669338677354%2C%200.7354709418837675%2C%200.7374749498997996%2C%200.7394789579158316%2C%200.7414829659318637%2C%200.7434869739478958%2C%200.7454909819639278%2C%200.7474949899799599%2C%200.749498997995992%2C%200.751503006012024%2C%200.7535070140280561%2C%200.7555110220440882%2C%200.7575150300601202%2C%200.7595190380761523%2C%200.7615230460921844%2C%200.7635270541082164%2C%200.7655310621242485%2C%200.7675350701402806%2C%200.7695390781563126%2C%200.7715430861723447%2C%200.7735470941883767%2C%200.7755511022044088%2C%200.7775551102204409%2C%200.779559118236473%2C%200.781563126252505%2C%200.7835671342685371%2C%200.7855711422845691%2C%200.7875751503006012%2C%200.7895791583166333%2C%200.7915831663326653%2C%200.7935871743486974%2C%200.7955911823647295%2C%200.7975951903807615%2C%200.7995991983967936%2C%200.8016032064128257%2C%200.8036072144288577%2C%200.8056112224448898%2C%200.8076152304609219%2C%200.8096192384769539%2C%200.811623246492986%2C%200.8136272545090181%2C%200.8156312625250501%2C%200.8176352705410822%2C%200.8196392785571143%2C%200.8216432865731463%2C%200.8236472945891784%2C%200.8256513026052105%2C%200.8276553106212425%2C%200.8296593186372746%2C%200.8316633266533067%2C%200.8336673346693386%2C%200.8356713426853707%2C%200.8376753507014028%2C%200.8396793587174348%2C%200.8416833667334669%2C%200.843687374749499%2C%200.845691382765531%2C%200.8476953907815631%2C%200.8496993987975952%2C%200.8517034068136272%2C%200.8537074148296593%2C%200.8557114228456913%2C%200.8577154308617234%2C%200.8597194388777555%2C%200.8617234468937875%2C%200.8637274549098196%2C%200.8657314629258517%2C%200.8677354709418837%2C%200.8697394789579158%2C%200.8717434869739479%2C%200.87374749498998%2C%200.875751503006012%2C%200.8777555110220441%2C%200.8797595190380761%2C%200.8817635270541082%2C%200.8837675350701403%2C%200.8857715430861723%2C%200.8877755511022044%2C%200.8897795591182365%2C%200.8917835671342685%2C%200.8937875751503006%2C%200.8957915831663327%2C%200.8977955911823647%2C%200.8997995991983968%2C%200.9018036072144289%2C%200.9038076152304609%2C%200.905811623246493%2C%200.9078156312625251%2C%200.9098196392785571%2C%200.9118236472945892%2C%200.9138276553106213%2C%200.9158316633266533%2C%200.9178356713426854%2C%200.9198396793587175%2C%200.9218436873747495%2C%200.9238476953907816%2C%200.9258517034068137%2C%200.9278557114228457%2C%200.9298597194388778%2C%200.9318637274549099%2C%200.9338677354709419%2C%200.935871743486974%2C%200.9378757515030061%2C%200.9398797595190381%2C%200.9418837675350702%2C%200.9438877755511023%2C%200.9458917835671342%2C%200.9478957915831663%2C%200.9498997995991983%2C%200.9519038076152304%2C%200.9539078156312625%2C%200.9559118236472945%2C%200.9579158316633266%2C%200.9599198396793587%2C%200.9619238476953907%2C%200.9639278557114228%2C%200.9659318637274549%2C%200.9679358717434869%2C%200.969939879759519%2C%200.9719438877755511%2C%200.9739478957915831%2C%200.9759519038076152%2C%200.9779559118236473%2C%200.9799599198396793%2C%200.9819639278557114%2C%200.9839679358717435%2C%200.9859719438877755%2C%200.9879759519038076%2C%200.9899799599198397%2C%200.9919839679358717%2C%200.9939879759519038%2C%200.9959919839679359%2C%200.9979959919839679%2C%201.0%5D%29%0A%20%20%20%20%20%20%20%20%20%20%20%20%20%20.range%28%5B%27%23ff0000ff%27%2C%20%27%23ff0000ff%27%2C%20%27%23ff0000ff%27%2C%20%27%23ff0000ff%27%2C%20%27%23ff0000ff%27%2C%20%27%23ff0000ff%27%2C%20%27%23ff0000ff%27%2C%20%27%23ff0000ff%27%2C%20%27%23ff0000ff%27%2C%20%27%23ff0000ff%27%2C%20%27%23ff0000ff%27%2C%20%27%23ff0000ff%27%2C%20%27%23ff0000ff%27%2C%20%27%23ff0000ff%27%2C%20%27%23ff0000ff%27%2C%20%27%23ff0000ff%27%2C%20%27%23ff0000ff%27%2C%20%27%23ff0000ff%27%2C%20%27%23ff0000ff%27%2C%20%27%23ff0000ff%27%2C%20%27%23ff0000ff%27%2C%20%27%23ff0000ff%27%2C%20%27%23ff0000ff%27%2C%20%27%23ff0000ff%27%2C%20%27%23ff0000ff%27%2C%20%27%23ff0000ff%27%2C%20%27%23ff0000ff%27%2C%20%27%23ff0000ff%27%2C%20%27%23ff0000ff%27%2C%20%27%23ff0000ff%27%2C%20%27%23ff0000ff%27%2C%20%27%23ff0000ff%27%2C%20%27%23ff0000ff%27%2C%20%27%23ff0000ff%27%2C%20%27%23ff0000ff%27%2C%20%27%23ff0000ff%27%2C%20%27%23ff0000ff%27%2C%20%27%23ff0000ff%27%2C%20%27%23ff0000ff%27%2C%20%27%23ff0000ff%27%2C%20%27%23ff0000ff%27%2C%20%27%23ff0000ff%27%2C%20%27%23ff0000ff%27%2C%20%27%23ff0000ff%27%2C%20%27%23ff0000ff%27%2C%20%27%23ff0000ff%27%2C%20%27%23ff0000ff%27%2C%20%27%23ff0000ff%27%2C%20%27%23ff0000ff%27%2C%20%27%23ff0000ff%27%2C%20%27%23ff3800ff%27%2C%20%27%23ff3800ff%27%2C%20%27%23ff3800ff%27%2C%20%27%23ff3800ff%27%2C%20%27%23ff3800ff%27%2C%20%27%23ff3800ff%27%2C%20%27%23ff3800ff%27%2C%20%27%23ff3800ff%27%2C%20%27%23ff3800ff%27%2C%20%27%23ff3800ff%27%2C%20%27%23ff3800ff%27%2C%20%27%23ff3800ff%27%2C%20%27%23ff3800ff%27%2C%20%27%23ff3800ff%27%2C%20%27%23ff3800ff%27%2C%20%27%23ff3800ff%27%2C%20%27%23ff3800ff%27%2C%20%27%23ff3800ff%27%2C%20%27%23ff3800ff%27%2C%20%27%23ff3800ff%27%2C%20%27%23ff3800ff%27%2C%20%27%23ff3800ff%27%2C%20%27%23ff3800ff%27%2C%20%27%23ff3800ff%27%2C%20%27%23ff3800ff%27%2C%20%27%23ff3800ff%27%2C%20%27%23ff3800ff%27%2C%20%27%23ff3800ff%27%2C%20%27%23ff3800ff%27%2C%20%27%23ff3800ff%27%2C%20%27%23ff3800ff%27%2C%20%27%23ff3800ff%27%2C%20%27%23ff3800ff%27%2C%20%27%23ff3800ff%27%2C%20%27%23ff3800ff%27%2C%20%27%23ff3800ff%27%2C%20%27%23ff3800ff%27%2C%20%27%23ff3800ff%27%2C%20%27%23ff3800ff%27%2C%20%27%23ff3800ff%27%2C%20%27%23ff3800ff%27%2C%20%27%23ff3800ff%27%2C%20%27%23ff3800ff%27%2C%20%27%23ff3800ff%27%2C%20%27%23ff3800ff%27%2C%20%27%23ff3800ff%27%2C%20%27%23ff3800ff%27%2C%20%27%23ff3800ff%27%2C%20%27%23ff3800ff%27%2C%20%27%23ff3800ff%27%2C%20%27%23ff7100ff%27%2C%20%27%23ff7100ff%27%2C%20%27%23ff7100ff%27%2C%20%27%23ff7100ff%27%2C%20%27%23ff7100ff%27%2C%20%27%23ff7100ff%27%2C%20%27%23ff7100ff%27%2C%20%27%23ff7100ff%27%2C%20%27%23ff7100ff%27%2C%20%27%23ff7100ff%27%2C%20%27%23ff7100ff%27%2C%20%27%23ff7100ff%27%2C%20%27%23ff7100ff%27%2C%20%27%23ff7100ff%27%2C%20%27%23ff7100ff%27%2C%20%27%23ff7100ff%27%2C%20%27%23ff7100ff%27%2C%20%27%23ff7100ff%27%2C%20%27%23ff7100ff%27%2C%20%27%23ff7100ff%27%2C%20%27%23ff7100ff%27%2C%20%27%23ff7100ff%27%2C%20%27%23ff7100ff%27%2C%20%27%23ff7100ff%27%2C%20%27%23ff7100ff%27%2C%20%27%23ff7100ff%27%2C%20%27%23ff7100ff%27%2C%20%27%23ff7100ff%27%2C%20%27%23ff7100ff%27%2C%20%27%23ff7100ff%27%2C%20%27%23ff7100ff%27%2C%20%27%23ff7100ff%27%2C%20%27%23ff7100ff%27%2C%20%27%23ff7100ff%27%2C%20%27%23ff7100ff%27%2C%20%27%23ff7100ff%27%2C%20%27%23ff7100ff%27%2C%20%27%23ff7100ff%27%2C%20%27%23ff7100ff%27%2C%20%27%23ff7100ff%27%2C%20%27%23ff7100ff%27%2C%20%27%23ff7100ff%27%2C%20%27%23ff7100ff%27%2C%20%27%23ff7100ff%27%2C%20%27%23ff7100ff%27%2C%20%27%23ff7100ff%27%2C%20%27%23ff7100ff%27%2C%20%27%23ff7100ff%27%2C%20%27%23ff7100ff%27%2C%20%27%23ff7100ff%27%2C%20%27%23ffaa00ff%27%2C%20%27%23ffaa00ff%27%2C%20%27%23ffaa00ff%27%2C%20%27%23ffaa00ff%27%2C%20%27%23ffaa00ff%27%2C%20%27%23ffaa00ff%27%2C%20%27%23ffaa00ff%27%2C%20%27%23ffaa00ff%27%2C%20%27%23ffaa00ff%27%2C%20%27%23ffaa00ff%27%2C%20%27%23ffaa00ff%27%2C%20%27%23ffaa00ff%27%2C%20%27%23ffaa00ff%27%2C%20%27%23ffaa00ff%27%2C%20%27%23ffaa00ff%27%2C%20%27%23ffaa00ff%27%2C%20%27%23ffaa00ff%27%2C%20%27%23ffaa00ff%27%2C%20%27%23ffaa00ff%27%2C%20%27%23ffaa00ff%27%2C%20%27%23ffaa00ff%27%2C%20%27%23ffaa00ff%27%2C%20%27%23ffaa00ff%27%2C%20%27%23ffaa00ff%27%2C%20%27%23ffaa00ff%27%2C%20%27%23ffaa00ff%27%2C%20%27%23ffaa00ff%27%2C%20%27%23ffaa00ff%27%2C%20%27%23ffaa00ff%27%2C%20%27%23ffaa00ff%27%2C%20%27%23ffaa00ff%27%2C%20%27%23ffaa00ff%27%2C%20%27%23ffaa00ff%27%2C%20%27%23ffaa00ff%27%2C%20%27%23ffaa00ff%27%2C%20%27%23ffaa00ff%27%2C%20%27%23ffaa00ff%27%2C%20%27%23ffaa00ff%27%2C%20%27%23ffaa00ff%27%2C%20%27%23ffaa00ff%27%2C%20%27%23ffaa00ff%27%2C%20%27%23ffaa00ff%27%2C%20%27%23ffaa00ff%27%2C%20%27%23ffaa00ff%27%2C%20%27%23ffaa00ff%27%2C%20%27%23ffaa00ff%27%2C%20%27%23ffaa00ff%27%2C%20%27%23ffaa00ff%27%2C%20%27%23ffaa00ff%27%2C%20%27%23ffaa00ff%27%2C%20%27%23ffe300ff%27%2C%20%27%23ffe300ff%27%2C%20%27%23ffe300ff%27%2C%20%27%23ffe300ff%27%2C%20%27%23ffe300ff%27%2C%20%27%23ffe300ff%27%2C%20%27%23ffe300ff%27%2C%20%27%23ffe300ff%27%2C%20%27%23ffe300ff%27%2C%20%27%23ffe300ff%27%2C%20%27%23ffe300ff%27%2C%20%27%23ffe300ff%27%2C%20%27%23ffe300ff%27%2C%20%27%23ffe300ff%27%2C%20%27%23ffe300ff%27%2C%20%27%23ffe300ff%27%2C%20%27%23ffe300ff%27%2C%20%27%23ffe300ff%27%2C%20%27%23ffe300ff%27%2C%20%27%23ffe300ff%27%2C%20%27%23ffe300ff%27%2C%20%27%23ffe300ff%27%2C%20%27%23ffe300ff%27%2C%20%27%23ffe300ff%27%2C%20%27%23ffe300ff%27%2C%20%27%23ffe300ff%27%2C%20%27%23ffe300ff%27%2C%20%27%23ffe300ff%27%2C%20%27%23ffe300ff%27%2C%20%27%23ffe300ff%27%2C%20%27%23ffe300ff%27%2C%20%27%23ffe300ff%27%2C%20%27%23ffe300ff%27%2C%20%27%23ffe300ff%27%2C%20%27%23ffe300ff%27%2C%20%27%23ffe300ff%27%2C%20%27%23ffe300ff%27%2C%20%27%23ffe300ff%27%2C%20%27%23ffe300ff%27%2C%20%27%23ffe300ff%27%2C%20%27%23ffe300ff%27%2C%20%27%23ffe300ff%27%2C%20%27%23ffe300ff%27%2C%20%27%23ffe300ff%27%2C%20%27%23ffe300ff%27%2C%20%27%23ffe300ff%27%2C%20%27%23ffe300ff%27%2C%20%27%23ffe300ff%27%2C%20%27%23ffe300ff%27%2C%20%27%23ffe300ff%27%2C%20%27%23e3e31cff%27%2C%20%27%23e3e31cff%27%2C%20%27%23e3e31cff%27%2C%20%27%23e3e31cff%27%2C%20%27%23e3e31cff%27%2C%20%27%23e3e31cff%27%2C%20%27%23e3e31cff%27%2C%20%27%23e3e31cff%27%2C%20%27%23e3e31cff%27%2C%20%27%23e3e31cff%27%2C%20%27%23e3e31cff%27%2C%20%27%23e3e31cff%27%2C%20%27%23e3e31cff%27%2C%20%27%23e3e31cff%27%2C%20%27%23e3e31cff%27%2C%20%27%23e3e31cff%27%2C%20%27%23e3e31cff%27%2C%20%27%23e3e31cff%27%2C%20%27%23e3e31cff%27%2C%20%27%23e3e31cff%27%2C%20%27%23e3e31cff%27%2C%20%27%23e3e31cff%27%2C%20%27%23e3e31cff%27%2C%20%27%23e3e31cff%27%2C%20%27%23e3e31cff%27%2C%20%27%23e3e31cff%27%2C%20%27%23e3e31cff%27%2C%20%27%23e3e31cff%27%2C%20%27%23e3e31cff%27%2C%20%27%23e3e31cff%27%2C%20%27%23e3e31cff%27%2C%20%27%23e3e31cff%27%2C%20%27%23e3e31cff%27%2C%20%27%23e3e31cff%27%2C%20%27%23e3e31cff%27%2C%20%27%23e3e31cff%27%2C%20%27%23e3e31cff%27%2C%20%27%23e3e31cff%27%2C%20%27%23e3e31cff%27%2C%20%27%23e3e31cff%27%2C%20%27%23e3e31cff%27%2C%20%27%23e3e31cff%27%2C%20%27%23e3e31cff%27%2C%20%27%23e3e31cff%27%2C%20%27%23e3e31cff%27%2C%20%27%23e3e31cff%27%2C%20%27%23e3e31cff%27%2C%20%27%23e3e31cff%27%2C%20%27%23e3e31cff%27%2C%20%27%23e3e31cff%27%2C%20%27%23aaaa55ff%27%2C%20%27%23aaaa55ff%27%2C%20%27%23aaaa55ff%27%2C%20%27%23aaaa55ff%27%2C%20%27%23aaaa55ff%27%2C%20%27%23aaaa55ff%27%2C%20%27%23aaaa55ff%27%2C%20%27%23aaaa55ff%27%2C%20%27%23aaaa55ff%27%2C%20%27%23aaaa55ff%27%2C%20%27%23aaaa55ff%27%2C%20%27%23aaaa55ff%27%2C%20%27%23aaaa55ff%27%2C%20%27%23aaaa55ff%27%2C%20%27%23aaaa55ff%27%2C%20%27%23aaaa55ff%27%2C%20%27%23aaaa55ff%27%2C%20%27%23aaaa55ff%27%2C%20%27%23aaaa55ff%27%2C%20%27%23aaaa55ff%27%2C%20%27%23aaaa55ff%27%2C%20%27%23aaaa55ff%27%2C%20%27%23aaaa55ff%27%2C%20%27%23aaaa55ff%27%2C%20%27%23aaaa55ff%27%2C%20%27%23aaaa55ff%27%2C%20%27%23aaaa55ff%27%2C%20%27%23aaaa55ff%27%2C%20%27%23aaaa55ff%27%2C%20%27%23aaaa55ff%27%2C%20%27%23aaaa55ff%27%2C%20%27%23aaaa55ff%27%2C%20%27%23aaaa55ff%27%2C%20%27%23aaaa55ff%27%2C%20%27%23aaaa55ff%27%2C%20%27%23aaaa55ff%27%2C%20%27%23aaaa55ff%27%2C%20%27%23aaaa55ff%27%2C%20%27%23aaaa55ff%27%2C%20%27%23aaaa55ff%27%2C%20%27%23aaaa55ff%27%2C%20%27%23aaaa55ff%27%2C%20%27%23aaaa55ff%27%2C%20%27%23aaaa55ff%27%2C%20%27%23aaaa55ff%27%2C%20%27%23aaaa55ff%27%2C%20%27%23aaaa55ff%27%2C%20%27%23aaaa55ff%27%2C%20%27%23aaaa55ff%27%2C%20%27%23aaaa55ff%27%2C%20%27%2371718eff%27%2C%20%27%2371718eff%27%2C%20%27%2371718eff%27%2C%20%27%2371718eff%27%2C%20%27%2371718eff%27%2C%20%27%2371718eff%27%2C%20%27%2371718eff%27%2C%20%27%2371718eff%27%2C%20%27%2371718eff%27%2C%20%27%2371718eff%27%2C%20%27%2371718eff%27%2C%20%27%2371718eff%27%2C%20%27%2371718eff%27%2C%20%27%2371718eff%27%2C%20%27%2371718eff%27%2C%20%27%2371718eff%27%2C%20%27%2371718eff%27%2C%20%27%2371718eff%27%2C%20%27%2371718eff%27%2C%20%27%2371718eff%27%2C%20%27%2371718eff%27%2C%20%27%2371718eff%27%2C%20%27%2371718eff%27%2C%20%27%2371718eff%27%2C%20%27%2371718eff%27%2C%20%27%2371718eff%27%2C%20%27%2371718eff%27%2C%20%27%2371718eff%27%2C%20%27%2371718eff%27%2C%20%27%2371718eff%27%2C%20%27%2371718eff%27%2C%20%27%2371718eff%27%2C%20%27%2371718eff%27%2C%20%27%2371718eff%27%2C%20%27%2371718eff%27%2C%20%27%2371718eff%27%2C%20%27%2371718eff%27%2C%20%27%2371718eff%27%2C%20%27%2371718eff%27%2C%20%27%2371718eff%27%2C%20%27%2371718eff%27%2C%20%27%2371718eff%27%2C%20%27%2371718eff%27%2C%20%27%2371718eff%27%2C%20%27%2371718eff%27%2C%20%27%2371718eff%27%2C%20%27%2371718eff%27%2C%20%27%2371718eff%27%2C%20%27%2371718eff%27%2C%20%27%2371718eff%27%2C%20%27%233838c7ff%27%2C%20%27%233838c7ff%27%2C%20%27%233838c7ff%27%2C%20%27%233838c7ff%27%2C%20%27%233838c7ff%27%2C%20%27%233838c7ff%27%2C%20%27%233838c7ff%27%2C%20%27%233838c7ff%27%2C%20%27%233838c7ff%27%2C%20%27%233838c7ff%27%2C%20%27%233838c7ff%27%2C%20%27%233838c7ff%27%2C%20%27%233838c7ff%27%2C%20%27%233838c7ff%27%2C%20%27%233838c7ff%27%2C%20%27%233838c7ff%27%2C%20%27%233838c7ff%27%2C%20%27%233838c7ff%27%2C%20%27%233838c7ff%27%2C%20%27%233838c7ff%27%2C%20%27%233838c7ff%27%2C%20%27%233838c7ff%27%2C%20%27%233838c7ff%27%2C%20%27%233838c7ff%27%2C%20%27%233838c7ff%27%2C%20%27%233838c7ff%27%2C%20%27%233838c7ff%27%2C%20%27%233838c7ff%27%2C%20%27%233838c7ff%27%2C%20%27%233838c7ff%27%2C%20%27%233838c7ff%27%2C%20%27%233838c7ff%27%2C%20%27%233838c7ff%27%2C%20%27%233838c7ff%27%2C%20%27%233838c7ff%27%2C%20%27%233838c7ff%27%2C%20%27%233838c7ff%27%2C%20%27%233838c7ff%27%2C%20%27%233838c7ff%27%2C%20%27%233838c7ff%27%2C%20%27%233838c7ff%27%2C%20%27%233838c7ff%27%2C%20%27%233838c7ff%27%2C%20%27%233838c7ff%27%2C%20%27%233838c7ff%27%2C%20%27%233838c7ff%27%2C%20%27%233838c7ff%27%2C%20%27%233838c7ff%27%2C%20%27%233838c7ff%27%2C%20%27%233838c7ff%27%2C%20%27%230000ffff%27%2C%20%27%230000ffff%27%2C%20%27%230000ffff%27%2C%20%27%230000ffff%27%2C%20%27%230000ffff%27%2C%20%27%230000ffff%27%2C%20%27%230000ffff%27%2C%20%27%230000ffff%27%2C%20%27%230000ffff%27%2C%20%27%230000ffff%27%2C%20%27%230000ffff%27%2C%20%27%230000ffff%27%2C%20%27%230000ffff%27%2C%20%27%230000ffff%27%2C%20%27%230000ffff%27%2C%20%27%230000ffff%27%2C%20%27%230000ffff%27%2C%20%27%230000ffff%27%2C%20%27%230000ffff%27%2C%20%27%230000ffff%27%2C%20%27%230000ffff%27%2C%20%27%230000ffff%27%2C%20%27%230000ffff%27%2C%20%27%230000ffff%27%2C%20%27%230000ffff%27%2C%20%27%230000ffff%27%2C%20%27%230000ffff%27%2C%20%27%230000ffff%27%2C%20%27%230000ffff%27%2C%20%27%230000ffff%27%2C%20%27%230000ffff%27%2C%20%27%230000ffff%27%2C%20%27%230000ffff%27%2C%20%27%230000ffff%27%2C%20%27%230000ffff%27%2C%20%27%230000ffff%27%2C%20%27%230000ffff%27%2C%20%27%230000ffff%27%2C%20%27%230000ffff%27%2C%20%27%230000ffff%27%2C%20%27%230000ffff%27%2C%20%27%230000ffff%27%2C%20%27%230000ffff%27%2C%20%27%230000ffff%27%2C%20%27%230000ffff%27%2C%20%27%230000ffff%27%2C%20%27%230000ffff%27%2C%20%27%230000ffff%27%2C%20%27%230000ffff%27%2C%20%27%230000ffff%27%5D%29%3B%0A%20%20%20%20%0A%0A%20%20%20%20color_map_442b09e709fd40988b0cc3fdf4273608.x%20%3D%20d3.scale.linear%28%29%0A%20%20%20%20%20%20%20%20%20%20%20%20%20%20.domain%28%5B0.0%2C%201.0%5D%29%0A%20%20%20%20%20%20%20%20%20%20%20%20%20%20.range%28%5B0%2C%20400%5D%29%3B%0A%0A%20%20%20%20color_map_442b09e709fd40988b0cc3fdf4273608.legend%20%3D%20L.control%28%7Bposition%3A%20%27topright%27%7D%29%3B%0A%20%20%20%20color_map_442b09e709fd40988b0cc3fdf4273608.legend.onAdd%20%3D%20function%20%28map%29%20%7Bvar%20div%20%3D%20L.DomUtil.create%28%27div%27%2C%20%27legend%27%29%3B%20return%20div%7D%3B%0A%20%20%20%20color_map_442b09e709fd40988b0cc3fdf4273608.legend.addTo%28map_7eba48a4a173460d8d997304e53138b0%29%3B%0A%0A%20%20%20%20color_map_442b09e709fd40988b0cc3fdf4273608.xAxis%20%3D%20d3.svg.axis%28%29%0A%20%20%20%20%20%20%20%20.scale%28color_map_442b09e709fd40988b0cc3fdf4273608.x%29%0A%20%20%20%20%20%20%20%20.orient%28%22top%22%29%0A%20%20%20%20%20%20%20%20.tickSize%281%29%0A%20%20%20%20%20%20%20%20.tickValues%28%5B0.0%2C%20%27%27%2C%200.2%2C%20%27%27%2C%200.4%2C%20%27%27%2C%200.6%2C%20%27%27%2C%200.8%2C%20%27%27%2C%201.0%2C%20%27%27%5D%29%3B%0A%0A%20%20%20%20color_map_442b09e709fd40988b0cc3fdf4273608.svg%20%3D%20d3.select%28%22.legend.leaflet-control%22%29.append%28%22svg%22%29%0A%20%20%20%20%20%20%20%20.attr%28%22id%22%2C%20%27legend%27%29%0A%20%20%20%20%20%20%20%20.attr%28%22width%22%2C%20450%29%0A%20%20%20%20%20%20%20%20.attr%28%22height%22%2C%2040%29%3B%0A%0A%20%20%20%20color_map_442b09e709fd40988b0cc3fdf4273608.g%20%3D%20color_map_442b09e709fd40988b0cc3fdf4273608.svg.append%28%22g%22%29%0A%20%20%20%20%20%20%20%20.attr%28%22class%22%2C%20%22key%22%29%0A%20%20%20%20%20%20%20%20.attr%28%22transform%22%2C%20%22translate%2825%2C16%29%22%29%3B%0A%0A%20%20%20%20color_map_442b09e709fd40988b0cc3fdf4273608.g.selectAll%28%22rect%22%29%0A%20%20%20%20%20%20%20%20.data%28color_map_442b09e709fd40988b0cc3fdf4273608.color.range%28%29.map%28function%28d%2C%20i%29%20%7B%0A%20%20%20%20%20%20%20%20%20%20return%20%7B%0A%20%20%20%20%20%20%20%20%20%20%20%20x0%3A%20i%20%3F%20color_map_442b09e709fd40988b0cc3fdf4273608.x%28color_map_442b09e709fd40988b0cc3fdf4273608.color.domain%28%29%5Bi%20-%201%5D%29%20%3A%20color_map_442b09e709fd40988b0cc3fdf4273608.x.range%28%29%5B0%5D%2C%0A%20%20%20%20%20%20%20%20%20%20%20%20x1%3A%20i%20%3C%20color_map_442b09e709fd40988b0cc3fdf4273608.color.domain%28%29.length%20%3F%20color_map_442b09e709fd40988b0cc3fdf4273608.x%28color_map_442b09e709fd40988b0cc3fdf4273608.color.domain%28%29%5Bi%5D%29%20%3A%20color_map_442b09e709fd40988b0cc3fdf4273608.x.range%28%29%5B1%5D%2C%0A%20%20%20%20%20%20%20%20%20%20%20%20z%3A%20d%0A%20%20%20%20%20%20%20%20%20%20%7D%3B%0A%20%20%20%20%20%20%20%20%7D%29%29%0A%20%20%20%20%20%20.enter%28%29.append%28%22rect%22%29%0A%20%20%20%20%20%20%20%20.attr%28%22height%22%2C%2010%29%0A%20%20%20%20%20%20%20%20.attr%28%22x%22%2C%20function%28d%29%20%7B%20return%20d.x0%3B%20%7D%29%0A%20%20%20%20%20%20%20%20.attr%28%22width%22%2C%20function%28d%29%20%7B%20return%20d.x1%20-%20d.x0%3B%20%7D%29%0A%20%20%20%20%20%20%20%20.style%28%22fill%22%2C%20function%28d%29%20%7B%20return%20d.z%3B%20%7D%29%3B%0A%0A%20%20%20%20color_map_442b09e709fd40988b0cc3fdf4273608.g.call%28color_map_442b09e709fd40988b0cc3fdf4273608.xAxis%29.append%28%22text%22%29%0A%20%20%20%20%20%20%20%20.attr%28%22class%22%2C%20%22caption%22%29%0A%20%20%20%20%20%20%20%20.attr%28%22y%22%2C%2021%29%0A%20%20%20%20%20%20%20%20.text%28%27Score%27%29%3B%0A%20%20%20%20%0A%20%20%20%20%20%20%20%20%20%20%20%20var%20tile_layer_ec6c16319ff6430dad2f57b9823b5937%20%3D%20L.tileLayer%28%0A%20%20%20%20%20%20%20%20%20%20%20%20%20%20%20%20%22https%3A//earthengine.googleapis.com/v1alpha/projects/earthengine-legacy/maps/e701075f8a06eec2edb8279a35699213-3a08a1a48382d95548ce4474a4c33394/tiles/%7Bz%7D/%7Bx%7D/%7By%7D%22%2C%0A%20%20%20%20%20%20%20%20%20%20%20%20%20%20%20%20%7B%22attribution%22%3A%20%22Google%20Earth%20Engine%22%2C%20%22detectRetina%22%3A%20false%2C%20%22maxNativeZoom%22%3A%2018%2C%20%22maxZoom%22%3A%2018%2C%20%22minZoom%22%3A%200%2C%20%22noWrap%22%3A%20false%2C%20%22opacity%22%3A%201.0%2C%20%22subdomains%22%3A%20%22abc%22%2C%20%22tms%22%3A%20false%7D%0A%20%20%20%20%20%20%20%20%20%20%20%20%29.addTo%28map_7eba48a4a173460d8d997304e53138b0%29%3B%0A%20%20%20%20%20%20%20%20%0A%20%20%20%20%0A%20%20%20%20%20%20%20%20%20%20%20%20var%20tile_layer_6b5966cc0e044b8cbbf890adf94645f0%20%3D%20L.tileLayer%28%0A%20%20%20%20%20%20%20%20%20%20%20%20%20%20%20%20%22https%3A//earthengine.googleapis.com/v1alpha/projects/earthengine-legacy/maps/4c965e9d8310e88959dade5972a7bf0c-247a3b9c16b79c1e3b92170683003e62/tiles/%7Bz%7D/%7Bx%7D/%7By%7D%22%2C%0A%20%20%20%20%20%20%20%20%20%20%20%20%20%20%20%20%7B%22attribution%22%3A%20%22Google%20Earth%20Engine%22%2C%20%22detectRetina%22%3A%20false%2C%20%22maxNativeZoom%22%3A%2018%2C%20%22maxZoom%22%3A%2018%2C%20%22minZoom%22%3A%200%2C%20%22noWrap%22%3A%20false%2C%20%22opacity%22%3A%201.0%2C%20%22subdomains%22%3A%20%22abc%22%2C%20%22tms%22%3A%20false%7D%0A%20%20%20%20%20%20%20%20%20%20%20%20%29.addTo%28map_7eba48a4a173460d8d997304e53138b0%29%3B%0A%20%20%20%20%20%20%20%20%0A%20%20%20%20%0A%20%20%20%20%20%20%20%20%20%20%20%20var%20tile_layer_603b07310fac402a854227a2d5e49348%20%3D%20L.tileLayer%28%0A%20%20%20%20%20%20%20%20%20%20%20%20%20%20%20%20%22https%3A//earthengine.googleapis.com/v1alpha/projects/earthengine-legacy/maps/1fc3e46fd9fc38e6c59e067509da39d3-586957aa24303078e9771f6dd0977628/tiles/%7Bz%7D/%7Bx%7D/%7By%7D%22%2C%0A%20%20%20%20%20%20%20%20%20%20%20%20%20%20%20%20%7B%22attribution%22%3A%20%22Google%20Earth%20Engine%22%2C%20%22detectRetina%22%3A%20false%2C%20%22maxNativeZoom%22%3A%2018%2C%20%22maxZoom%22%3A%2018%2C%20%22minZoom%22%3A%200%2C%20%22noWrap%22%3A%20false%2C%20%22opacity%22%3A%200.5%2C%20%22subdomains%22%3A%20%22abc%22%2C%20%22tms%22%3A%20false%7D%0A%20%20%20%20%20%20%20%20%20%20%20%20%29.addTo%28map_7eba48a4a173460d8d997304e53138b0%29%3B%0A%20%20%20%20%20%20%20%20%0A%20%20%20%20%0A%20%20%20%20%20%20%20%20%20%20%20%20var%20layer_control_a62db3b22e484feca003b6fb28ed722e%20%3D%20%7B%0A%20%20%20%20%20%20%20%20%20%20%20%20%20%20%20%20base_layers%20%3A%20%7B%0A%20%20%20%20%20%20%20%20%20%20%20%20%20%20%20%20%20%20%20%20%22openstreetmap%22%20%3A%20tile_layer_4f11a73105c844f685e5f81529257526%2C%0A%20%20%20%20%20%20%20%20%20%20%20%20%20%20%20%20%7D%2C%0A%20%20%20%20%20%20%20%20%20%20%20%20%20%20%20%20overlays%20%3A%20%20%7B%0A%20%20%20%20%20%20%20%20%20%20%20%20%20%20%20%20%20%20%20%20%22Google%20Maps%22%20%3A%20tile_layer_53e1f4d3276c42cd82af40eea974d8d2%2C%0A%20%20%20%20%20%20%20%20%20%20%20%20%20%20%20%20%20%20%20%20%22Permeability%22%20%3A%20tile_layer_ec6c16319ff6430dad2f57b9823b5937%2C%0A%20%20%20%20%20%20%20%20%20%20%20%20%20%20%20%20%20%20%20%20%22Score%22%20%3A%20tile_layer_6b5966cc0e044b8cbbf890adf94645f0%2C%0A%20%20%20%20%20%20%20%20%20%20%20%20%20%20%20%20%20%20%20%20%22Honduras%20Land%22%20%3A%20tile_layer_603b07310fac402a854227a2d5e49348%2C%0A%20%20%20%20%20%20%20%20%20%20%20%20%20%20%20%20%7D%2C%0A%20%20%20%20%20%20%20%20%20%20%20%20%7D%3B%0A%20%20%20%20%20%20%20%20%20%20%20%20L.control.layers%28%0A%20%20%20%20%20%20%20%20%20%20%20%20%20%20%20%20layer_control_a62db3b22e484feca003b6fb28ed722e.base_layers%2C%0A%20%20%20%20%20%20%20%20%20%20%20%20%20%20%20%20layer_control_a62db3b22e484feca003b6fb28ed722e.overlays%2C%0A%20%20%20%20%20%20%20%20%20%20%20%20%20%20%20%20%7B%22autoZIndex%22%3A%20true%2C%20%22collapsed%22%3A%20true%2C%20%22position%22%3A%20%22topright%22%7D%0A%20%20%20%20%20%20%20%20%20%20%20%20%29.addTo%28map_7eba48a4a173460d8d997304e53138b0%29%3B%0A%20%20%20%20%20%20%20%20%0A%3C/script%3E onload=\"this.contentDocument.open();this.contentDocument.write(    decodeURIComponent(this.getAttribute('data-html')));this.contentDocument.close();\" allowfullscreen webkitallowfullscreen mozallowfullscreen></iframe></div></div>"
      ],
      "text/plain": [
       "<geemap.eefolium.Map at 0x7f996eb70d60>"
      ]
     },
     "metadata": {},
     "output_type": "display_data"
    }
   ],
   "source": [
    "viz_params_litho = {'min': 0, 'max': 3, 'dimensions': 512,\n",
    "  'palette': ['White', 'Red', 'Yellow', 'Blue']}\n",
    "viz_params_perm = {'min': 0, 'max': 3, 'dimensions': 512,\n",
    "  'palette': ['White','Red', 'Yellow', 'Blue']}\n",
    "viz_params_score = {'min': 0, 'max': 1, 'dimensions': 512,\n",
    "  'palette': ['White','Red', 'Yellow', 'Blue']}\n",
    "\n",
    "import branca\n",
    "colormap = branca.colormap.LinearColormap(colors = ['Red', 'Yellow', 'Blue'], vmin = 0, vmax =1)\n",
    "colormap = colormap.to_step(n=10)\n",
    "colormap.caption = 'Score'\n",
    "\n",
    "\n",
    "\n",
    "the_map = geemap.Map()\n",
    "colormap.add_to(the_map)\n",
    "#the_map.addLayer(litho, viz_params_litho, name = 'Litho')\n",
    "the_map.addLayer(perm, viz_params_perm, name = 'Permeability')\n",
    "the_map.addLayer(score_scaled, viz_params_score, name = 'Score')\n",
    "the_map.addLayer(honduras_land.draw('#000000', strokeWidth = 1), {}, name = 'Honduras Land', opacity = 0.5)\n",
    "vis.folium_display(the_map)"
   ]
  },
  {
   "cell_type": "code",
   "execution_count": 21,
   "metadata": {},
   "outputs": [],
   "source": [
    "xx = ee.batch.Export.image.toAsset(score_scaled,\n",
    "                                   assetId= 'users/amgadellaboudy/Honduras_Water_Score',\n",
    "                                   scale = 90,\n",
    "                                   description = 'Image_Task' ).start()"
   ]
  },
  {
   "cell_type": "code",
   "execution_count": null,
   "metadata": {},
   "outputs": [],
   "source": []
  },
  {
   "cell_type": "code",
   "execution_count": null,
   "metadata": {},
   "outputs": [],
   "source": []
  },
  {
   "cell_type": "code",
   "execution_count": null,
   "metadata": {},
   "outputs": [],
   "source": []
  },
  {
   "cell_type": "code",
   "execution_count": null,
   "metadata": {},
   "outputs": [],
   "source": []
  },
  {
   "cell_type": "code",
   "execution_count": null,
   "metadata": {},
   "outputs": [],
   "source": []
  },
  {
   "cell_type": "markdown",
   "metadata": {},
   "source": []
  },
  {
   "cell_type": "code",
   "execution_count": null,
   "metadata": {},
   "outputs": [],
   "source": []
  },
  {
   "cell_type": "code",
   "execution_count": null,
   "metadata": {},
   "outputs": [],
   "source": []
  },
  {
   "cell_type": "markdown",
   "metadata": {},
   "source": []
  },
  {
   "cell_type": "code",
   "execution_count": null,
   "metadata": {},
   "outputs": [],
   "source": []
  },
  {
   "cell_type": "code",
   "execution_count": null,
   "metadata": {},
   "outputs": [],
   "source": []
  },
  {
   "cell_type": "code",
   "execution_count": null,
   "metadata": {
    "scrolled": true
   },
   "outputs": [],
   "source": [
    "\n"
   ]
  },
  {
   "cell_type": "code",
   "execution_count": null,
   "metadata": {},
   "outputs": [],
   "source": []
  },
  {
   "cell_type": "code",
   "execution_count": null,
   "metadata": {},
   "outputs": [],
   "source": []
  },
  {
   "cell_type": "code",
   "execution_count": null,
   "metadata": {},
   "outputs": [],
   "source": []
  },
  {
   "cell_type": "code",
   "execution_count": null,
   "metadata": {},
   "outputs": [],
   "source": []
  },
  {
   "cell_type": "code",
   "execution_count": null,
   "metadata": {},
   "outputs": [],
   "source": []
  },
  {
   "cell_type": "code",
   "execution_count": null,
   "metadata": {},
   "outputs": [],
   "source": []
  }
 ],
 "metadata": {
  "kernelspec": {
   "display_name": "Python 3",
   "language": "python",
   "name": "python3"
  },
  "language_info": {
   "codemirror_mode": {
    "name": "ipython",
    "version": 3
   },
   "file_extension": ".py",
   "mimetype": "text/x-python",
   "name": "python",
   "nbconvert_exporter": "python",
   "pygments_lexer": "ipython3",
   "version": "3.8.8"
  }
 },
 "nbformat": 4,
 "nbformat_minor": 4
}
