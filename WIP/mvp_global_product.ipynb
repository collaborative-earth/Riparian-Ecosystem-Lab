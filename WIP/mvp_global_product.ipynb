{
 "cells": [
  {
   "cell_type": "markdown",
   "metadata": {},
   "source": [
    "# Global Minimial Viable Products (1)\n",
    "\n",
    "Combine:\n",
    "* SMAP available porosity\n",
    "* ERA5 runoff\n",
    "* MERIT terrain slope\n",
    "* USDA soil texture class\n",
    "\n",
    "into global product for PRZ water restoration"
   ]
  },
  {
   "cell_type": "code",
   "execution_count": 203,
   "metadata": {},
   "outputs": [],
   "source": [
    "import ee\n",
    "import numpy as np\n",
    "\n",
    "import sys\n",
    "sys.path.insert(1, '../datasets/SMAP-USDA/')  # until we package this\n",
    "from earthshot import water_viz as vis\n",
    "from earthshot import water_common as common\n",
    "from earthshot import normalize as norm\n",
    "from earthshot import mon_stats\n",
    "from statistics import mean\n",
    "import folium\n",
    "from folium import plugins\n",
    "import geemap.eefolium as geemap"
   ]
  },
  {
   "cell_type": "code",
   "execution_count": 204,
   "metadata": {},
   "outputs": [],
   "source": [
    "#ee.Authenticate()\n",
    "ee.Initialize()"
   ]
  },
  {
   "cell_type": "code",
   "execution_count": 205,
   "metadata": {},
   "outputs": [
    {
     "name": "stdout",
     "output_type": "stream",
     "text": [
      "[0.0008100000559352338, 0.9390730261802673]\n"
     ]
    }
   ],
   "source": [
    "#import MAR swales features, local oregon scores, common parameters\n",
    "bbox_global = ee.Geometry.BBox(-180,-90,180,90)\n",
    "bbox_oregon = ee.Geometry.Polygon([[[-124.1, 43.38], [-124.1, 42.88], [-123.6, 42.88], [-123.6, 43.38]]])\n",
    "\n",
    "MAR_swales = ee.FeatureCollection('users/amgadellaboudy/MAR_swales_collection')\n",
    "oregon_scores = ee.Image('users/amgadellaboudy/oregon_addedScore').select('b1')\n",
    "\n",
    "#print(common.bboxes())\n",
    "print(norm.img_range(oregon_scores, area_of_interest = common.bboxes()['conus']))"
   ]
  },
  {
   "cell_type": "code",
   "execution_count": 206,
   "metadata": {},
   "outputs": [],
   "source": [
    "Permiability_1 = ee.FeatureCollection('users/amgadellaboudy/Permiability_Data')\n",
    "perma = 'Log[arithmetic mean or single values (Used Permiability)'\n",
    "keepProperties = ee.List([perma])\n",
    "\n",
    "def geom(sample):\n",
    "    lat = ee.Number(sample.get('Latitude').getInfo())\n",
    "    lon = ee.Number(sample.get('Longitude').getInfo())\n",
    "    coords = ee.Geometry.Point(ee.List([lon, lat]))\n",
    "    keepProperties = ee.List([perma])\n",
    "    return ee.Feature(coords).copyProperties(sample, keepProperties)\n",
    "    #perm_1 =  ee.Feature(ee.Geometry.Point([lon, lat]), {'perma': perm})\n",
    "    #return perm_1\n",
    "\n",
    "#perm_mapped = Permiability.map(geom)\n",
    "#perm_flattened = perm_mapped.flatten()\n",
    "#perm_img = perm_mapped.reduceToImage(['perma'], ee.Reducer.mean())\n",
    "#img_mean = perm_img.reduceRegion(reducer = ee.Reducer.mean(), geometry = bbox_global, scale = 100)\n",
    "#img_std = perm_img.reduceRegion(reducer = ee.Reducer.stdDev(), geometry = bbox_global, scale = 100)\n",
    "img = Permiability_1.reduceToImage(['logK_Ice_x'], ee.Reducer.mean())"
   ]
  },
  {
   "cell_type": "code",
   "execution_count": 207,
   "metadata": {},
   "outputs": [],
   "source": [
    "#perm_filtered = perm_mapped.filter(ee.Filter.notNull([perma]))\n",
    "#combinedReducer = ee.Reducer.mean().combine(reducer2 = ee.Reducer.stdDev())\n",
    "#mean = perm_mapped.reduceColumns(reducer= ee.Reducer.mean(), selectors= keepProperties)\n",
    "#tdDev = perm_mapped.reduceColumns(reducer= ee.Reducer.stdDev(), selectors= keepProperties)"
   ]
  },
  {
   "cell_type": "code",
   "execution_count": 208,
   "metadata": {},
   "outputs": [],
   "source": [
    "#interpolated =(perm_mapped.inverseDistance(range= 1000, propertyName= perma, mean= mean.get('mean'), \n",
    "  #              stdDev= stdDev.get('stdDev'), gamma = 0.3, reducer= ee.Reducer.mean()))\n",
    "#print(norm.img_range(interpolated, area_of_interest= bbox_global))"
   ]
  },
  {
   "cell_type": "code",
   "execution_count": 209,
   "metadata": {},
   "outputs": [],
   "source": [
    "band_viz = {'min': -1600, 'max': -1400, 'dimensions': 512,\n",
    "  'palette': ['Red', 'Yellow', 'Blue']}"
   ]
  },
  {
   "cell_type": "code",
   "execution_count": 210,
   "metadata": {},
   "outputs": [],
   "source": [
    "bbox_us = common.bboxes()['conus']\n",
    "\n",
    "xx = (ee.batch.Export.image.toAsset(img, description= 'Image Export', \n",
    "                         assetId = 'users/amgadellaboudy/Permiability_Image',\n",
    "                        scale = 1000000,\n",
    "                        maxPixels = 10000000000000,\n",
    "                        region = bbox_global)).start()"
   ]
  },
  {
   "cell_type": "code",
   "execution_count": 211,
   "metadata": {},
   "outputs": [
    {
     "data": {
      "text/html": [
       "<div style=\"width:100%;\"><div style=\"position:relative;width:100%;height:0;padding-bottom:60%;\"><span style=\"color:#565656\">Make this Notebook Trusted to load map: File -> Trust Notebook</span><iframe src=\"about:blank\" style=\"position:absolute;width:100%;height:100%;left:0;top:0;border:none !important;\" data-html=%3C%21DOCTYPE%20html%3E%0A%3Chead%3E%20%20%20%20%0A%20%20%20%20%3Cmeta%20http-equiv%3D%22content-type%22%20content%3D%22text/html%3B%20charset%3DUTF-8%22%20/%3E%0A%20%20%20%20%0A%20%20%20%20%20%20%20%20%3Cscript%3E%0A%20%20%20%20%20%20%20%20%20%20%20%20L_NO_TOUCH%20%3D%20false%3B%0A%20%20%20%20%20%20%20%20%20%20%20%20L_DISABLE_3D%20%3D%20false%3B%0A%20%20%20%20%20%20%20%20%3C/script%3E%0A%20%20%20%20%0A%20%20%20%20%3Cstyle%3Ehtml%2C%20body%20%7Bwidth%3A%20100%25%3Bheight%3A%20100%25%3Bmargin%3A%200%3Bpadding%3A%200%3B%7D%3C/style%3E%0A%20%20%20%20%3Cstyle%3E%23map%20%7Bposition%3Aabsolute%3Btop%3A0%3Bbottom%3A0%3Bright%3A0%3Bleft%3A0%3B%7D%3C/style%3E%0A%20%20%20%20%3Cscript%20src%3D%22https%3A//cdn.jsdelivr.net/npm/leaflet%401.6.0/dist/leaflet.js%22%3E%3C/script%3E%0A%20%20%20%20%3Cscript%20src%3D%22https%3A//code.jquery.com/jquery-1.12.4.min.js%22%3E%3C/script%3E%0A%20%20%20%20%3Cscript%20src%3D%22https%3A//maxcdn.bootstrapcdn.com/bootstrap/3.2.0/js/bootstrap.min.js%22%3E%3C/script%3E%0A%20%20%20%20%3Cscript%20src%3D%22https%3A//cdnjs.cloudflare.com/ajax/libs/Leaflet.awesome-markers/2.0.2/leaflet.awesome-markers.js%22%3E%3C/script%3E%0A%20%20%20%20%3Clink%20rel%3D%22stylesheet%22%20href%3D%22https%3A//cdn.jsdelivr.net/npm/leaflet%401.6.0/dist/leaflet.css%22/%3E%0A%20%20%20%20%3Clink%20rel%3D%22stylesheet%22%20href%3D%22https%3A//maxcdn.bootstrapcdn.com/bootstrap/3.2.0/css/bootstrap.min.css%22/%3E%0A%20%20%20%20%3Clink%20rel%3D%22stylesheet%22%20href%3D%22https%3A//maxcdn.bootstrapcdn.com/bootstrap/3.2.0/css/bootstrap-theme.min.css%22/%3E%0A%20%20%20%20%3Clink%20rel%3D%22stylesheet%22%20href%3D%22https%3A//maxcdn.bootstrapcdn.com/font-awesome/4.6.3/css/font-awesome.min.css%22/%3E%0A%20%20%20%20%3Clink%20rel%3D%22stylesheet%22%20href%3D%22https%3A//cdnjs.cloudflare.com/ajax/libs/Leaflet.awesome-markers/2.0.2/leaflet.awesome-markers.css%22/%3E%0A%20%20%20%20%3Clink%20rel%3D%22stylesheet%22%20href%3D%22https%3A//cdn.jsdelivr.net/gh/python-visualization/folium/folium/templates/leaflet.awesome.rotate.min.css%22/%3E%0A%20%20%20%20%0A%20%20%20%20%20%20%20%20%20%20%20%20%3Cmeta%20name%3D%22viewport%22%20content%3D%22width%3Ddevice-width%2C%0A%20%20%20%20%20%20%20%20%20%20%20%20%20%20%20%20initial-scale%3D1.0%2C%20maximum-scale%3D1.0%2C%20user-scalable%3Dno%22%20/%3E%0A%20%20%20%20%20%20%20%20%20%20%20%20%3Cstyle%3E%0A%20%20%20%20%20%20%20%20%20%20%20%20%20%20%20%20%23map_752ac0bd4a8240fcbaa49dce1ece8271%20%7B%0A%20%20%20%20%20%20%20%20%20%20%20%20%20%20%20%20%20%20%20%20position%3A%20relative%3B%0A%20%20%20%20%20%20%20%20%20%20%20%20%20%20%20%20%20%20%20%20width%3A%20100.0%25%3B%0A%20%20%20%20%20%20%20%20%20%20%20%20%20%20%20%20%20%20%20%20height%3A%20100.0%25%3B%0A%20%20%20%20%20%20%20%20%20%20%20%20%20%20%20%20%20%20%20%20left%3A%200.0%25%3B%0A%20%20%20%20%20%20%20%20%20%20%20%20%20%20%20%20%20%20%20%20top%3A%200.0%25%3B%0A%20%20%20%20%20%20%20%20%20%20%20%20%20%20%20%20%7D%0A%20%20%20%20%20%20%20%20%20%20%20%20%3C/style%3E%0A%20%20%20%20%20%20%20%20%0A%20%20%20%20%3Cscript%20src%3D%22https%3A//cdnjs.cloudflare.com/ajax/libs/leaflet.fullscreen/1.4.2/Control.FullScreen.min.js%22%3E%3C/script%3E%0A%20%20%20%20%3Clink%20rel%3D%22stylesheet%22%20href%3D%22https%3A//cdnjs.cloudflare.com/ajax/libs/leaflet.fullscreen/1.4.2/Control.FullScreen.min.css%22/%3E%0A%3C/head%3E%0A%3Cbody%3E%20%20%20%20%0A%20%20%20%20%0A%20%20%20%20%20%20%20%20%20%20%20%20%3Cdiv%20class%3D%22folium-map%22%20id%3D%22map_752ac0bd4a8240fcbaa49dce1ece8271%22%20%3E%3C/div%3E%0A%20%20%20%20%20%20%20%20%0A%3C/body%3E%0A%3Cscript%3E%20%20%20%20%0A%20%20%20%20%0A%20%20%20%20%20%20%20%20%20%20%20%20var%20map_752ac0bd4a8240fcbaa49dce1ece8271%20%3D%20L.map%28%0A%20%20%20%20%20%20%20%20%20%20%20%20%20%20%20%20%22map_752ac0bd4a8240fcbaa49dce1ece8271%22%2C%0A%20%20%20%20%20%20%20%20%20%20%20%20%20%20%20%20%7B%0A%20%20%20%20%20%20%20%20%20%20%20%20%20%20%20%20%20%20%20%20center%3A%20%5B40.0%2C%20-100.0%5D%2C%0A%20%20%20%20%20%20%20%20%20%20%20%20%20%20%20%20%20%20%20%20crs%3A%20L.CRS.EPSG3857%2C%0A%20%20%20%20%20%20%20%20%20%20%20%20%20%20%20%20%20%20%20%20zoom%3A%204%2C%0A%20%20%20%20%20%20%20%20%20%20%20%20%20%20%20%20%20%20%20%20zoomControl%3A%20true%2C%0A%20%20%20%20%20%20%20%20%20%20%20%20%20%20%20%20%20%20%20%20preferCanvas%3A%20false%2C%0A%20%20%20%20%20%20%20%20%20%20%20%20%20%20%20%20%20%20%20%20eeInitialize%3A%20true%2C%0A%20%20%20%20%20%20%20%20%20%20%20%20%20%20%20%20%20%20%20%20addGoogleMap%3A%20true%2C%0A%20%20%20%20%20%20%20%20%20%20%20%20%20%20%20%20%20%20%20%20pluginLatlngpopup%3A%20true%2C%0A%20%20%20%20%20%20%20%20%20%20%20%20%20%20%20%20%20%20%20%20pluginFullscreen%3A%20true%2C%0A%20%20%20%20%20%20%20%20%20%20%20%20%20%20%20%20%20%20%20%20pluginDraw%3A%20false%2C%0A%20%20%20%20%20%20%20%20%20%20%20%20%20%20%20%20%20%20%20%20DrawExport%3A%20true%2C%0A%20%20%20%20%20%20%20%20%20%20%20%20%20%20%20%20%20%20%20%20pluginMinimap%3A%20false%2C%0A%20%20%20%20%20%20%20%20%20%20%20%20%20%20%20%20%20%20%20%20pluginLayercontrol%3A%20false%2C%0A%20%20%20%20%20%20%20%20%20%20%20%20%20%20%20%20%7D%0A%20%20%20%20%20%20%20%20%20%20%20%20%29%3B%0A%0A%20%20%20%20%20%20%20%20%20%20%20%20%0A%0A%20%20%20%20%20%20%20%20%0A%20%20%20%20%0A%20%20%20%20%20%20%20%20%20%20%20%20var%20tile_layer_3c5ca391031848aea4a1b81653190b3b%20%3D%20L.tileLayer%28%0A%20%20%20%20%20%20%20%20%20%20%20%20%20%20%20%20%22https%3A//%7Bs%7D.tile.openstreetmap.org/%7Bz%7D/%7Bx%7D/%7By%7D.png%22%2C%0A%20%20%20%20%20%20%20%20%20%20%20%20%20%20%20%20%7B%22attribution%22%3A%20%22Data%20by%20%5Cu0026copy%3B%20%5Cu003ca%20href%3D%5C%22http%3A//openstreetmap.org%5C%22%5Cu003eOpenStreetMap%5Cu003c/a%5Cu003e%2C%20under%20%5Cu003ca%20href%3D%5C%22http%3A//www.openstreetmap.org/copyright%5C%22%5Cu003eODbL%5Cu003c/a%5Cu003e.%22%2C%20%22detectRetina%22%3A%20false%2C%20%22maxNativeZoom%22%3A%2018%2C%20%22maxZoom%22%3A%2018%2C%20%22minZoom%22%3A%200%2C%20%22noWrap%22%3A%20false%2C%20%22opacity%22%3A%201%2C%20%22subdomains%22%3A%20%22abc%22%2C%20%22tms%22%3A%20false%7D%0A%20%20%20%20%20%20%20%20%20%20%20%20%29.addTo%28map_752ac0bd4a8240fcbaa49dce1ece8271%29%3B%0A%20%20%20%20%20%20%20%20%0A%20%20%20%20%0A%20%20%20%20%20%20%20%20%20%20%20%20var%20tile_layer_0669c36311b1469cb14d83b813f8f215%20%3D%20L.tileLayer%28%0A%20%20%20%20%20%20%20%20%20%20%20%20%20%20%20%20%22https%3A//mt1.google.com/vt/lyrs%3Dm%5Cu0026x%3D%7Bx%7D%5Cu0026y%3D%7By%7D%5Cu0026z%3D%7Bz%7D%22%2C%0A%20%20%20%20%20%20%20%20%20%20%20%20%20%20%20%20%7B%22attribution%22%3A%20%22Google%22%2C%20%22detectRetina%22%3A%20false%2C%20%22maxNativeZoom%22%3A%2018%2C%20%22maxZoom%22%3A%2018%2C%20%22minZoom%22%3A%200%2C%20%22noWrap%22%3A%20false%2C%20%22opacity%22%3A%201%2C%20%22subdomains%22%3A%20%22abc%22%2C%20%22tms%22%3A%20false%7D%0A%20%20%20%20%20%20%20%20%20%20%20%20%29.addTo%28map_752ac0bd4a8240fcbaa49dce1ece8271%29%3B%0A%20%20%20%20%20%20%20%20%0A%20%20%20%20%0A%20%20%20%20%20%20%20%20%20%20%20%20%20%20%20%20var%20lat_lng_popup_98f58370da9e463f80c67f9b25b3623e%20%3D%20L.popup%28%29%3B%0A%20%20%20%20%20%20%20%20%20%20%20%20%20%20%20%20function%20latLngPop%28e%29%20%7B%0A%20%20%20%20%20%20%20%20%20%20%20%20%20%20%20%20%20%20%20%20lat_lng_popup_98f58370da9e463f80c67f9b25b3623e%0A%20%20%20%20%20%20%20%20%20%20%20%20%20%20%20%20%20%20%20%20%20%20%20%20.setLatLng%28e.latlng%29%0A%20%20%20%20%20%20%20%20%20%20%20%20%20%20%20%20%20%20%20%20%20%20%20%20.setContent%28%22Latitude%3A%20%22%20%2B%20e.latlng.lat.toFixed%284%29%20%2B%0A%20%20%20%20%20%20%20%20%20%20%20%20%20%20%20%20%20%20%20%20%20%20%20%20%20%20%20%20%20%20%20%20%20%20%20%20%22%3Cbr%3ELongitude%3A%20%22%20%2B%20e.latlng.lng.toFixed%284%29%29%0A%20%20%20%20%20%20%20%20%20%20%20%20%20%20%20%20%20%20%20%20%20%20%20%20.openOn%28map_752ac0bd4a8240fcbaa49dce1ece8271%29%3B%0A%20%20%20%20%20%20%20%20%20%20%20%20%20%20%20%20%20%20%20%20%7D%0A%20%20%20%20%20%20%20%20%20%20%20%20%20%20%20%20map_752ac0bd4a8240fcbaa49dce1ece8271.on%28%27click%27%2C%20latLngPop%29%3B%0A%20%20%20%20%20%20%20%20%20%20%20%20%0A%20%20%20%20%0A%20%20%20%20%20%20%20%20%20%20%20%20L.control.fullscreen%28%0A%20%20%20%20%20%20%20%20%20%20%20%20%20%20%20%20%7B%22forceSeparateButton%22%3A%20false%2C%20%22position%22%3A%20%22topleft%22%2C%20%22title%22%3A%20%22Full%20Screen%22%2C%20%22titleCancel%22%3A%20%22Exit%20Full%20Screen%22%7D%0A%20%20%20%20%20%20%20%20%20%20%20%20%29.addTo%28map_752ac0bd4a8240fcbaa49dce1ece8271%29%3B%0A%20%20%20%20%20%20%20%20%0A%20%20%20%20%0A%20%20%20%20%20%20%20%20%20%20%20%20map_752ac0bd4a8240fcbaa49dce1ece8271.fitBounds%28%0A%20%20%20%20%20%20%20%20%20%20%20%20%20%20%20%20%5B%5B40%2C%20-100%5D%2C%20%5B40%2C%20-100%5D%5D%2C%0A%20%20%20%20%20%20%20%20%20%20%20%20%20%20%20%20%7B%22maxZoom%22%3A%204%7D%0A%20%20%20%20%20%20%20%20%20%20%20%20%29%3B%0A%20%20%20%20%20%20%20%20%0A%20%20%20%20%0A%20%20%20%20%20%20%20%20%20%20%20%20var%20tile_layer_67888a4bf2774aab8dd7335b864e43d8%20%3D%20L.tileLayer%28%0A%20%20%20%20%20%20%20%20%20%20%20%20%20%20%20%20%22https%3A//earthengine.googleapis.com/v1alpha/projects/earthengine-legacy/maps/6a479b7450ac01da8349e312db4eebc2-9fcc39cf25d7ecd92acdbcce84689b55/tiles/%7Bz%7D/%7Bx%7D/%7By%7D%22%2C%0A%20%20%20%20%20%20%20%20%20%20%20%20%20%20%20%20%7B%22attribution%22%3A%20%22Google%20Earth%20Engine%22%2C%20%22detectRetina%22%3A%20false%2C%20%22maxNativeZoom%22%3A%2018%2C%20%22maxZoom%22%3A%2018%2C%20%22minZoom%22%3A%200%2C%20%22noWrap%22%3A%20false%2C%20%22opacity%22%3A%201.0%2C%20%22subdomains%22%3A%20%22abc%22%2C%20%22tms%22%3A%20false%7D%0A%20%20%20%20%20%20%20%20%20%20%20%20%29.addTo%28map_752ac0bd4a8240fcbaa49dce1ece8271%29%3B%0A%20%20%20%20%20%20%20%20%0A%20%20%20%20%0A%20%20%20%20%20%20%20%20%20%20%20%20var%20layer_control_542854a30e44412ab5a73ea90fd66d7c%20%3D%20%7B%0A%20%20%20%20%20%20%20%20%20%20%20%20%20%20%20%20base_layers%20%3A%20%7B%0A%20%20%20%20%20%20%20%20%20%20%20%20%20%20%20%20%20%20%20%20%22openstreetmap%22%20%3A%20tile_layer_3c5ca391031848aea4a1b81653190b3b%2C%0A%20%20%20%20%20%20%20%20%20%20%20%20%20%20%20%20%7D%2C%0A%20%20%20%20%20%20%20%20%20%20%20%20%20%20%20%20overlays%20%3A%20%20%7B%0A%20%20%20%20%20%20%20%20%20%20%20%20%20%20%20%20%20%20%20%20%22Google%20Maps%22%20%3A%20tile_layer_0669c36311b1469cb14d83b813f8f215%2C%0A%20%20%20%20%20%20%20%20%20%20%20%20%20%20%20%20%20%20%20%20%22Outcrop%20Permiability%22%20%3A%20tile_layer_67888a4bf2774aab8dd7335b864e43d8%2C%0A%20%20%20%20%20%20%20%20%20%20%20%20%20%20%20%20%7D%2C%0A%20%20%20%20%20%20%20%20%20%20%20%20%7D%3B%0A%20%20%20%20%20%20%20%20%20%20%20%20L.control.layers%28%0A%20%20%20%20%20%20%20%20%20%20%20%20%20%20%20%20layer_control_542854a30e44412ab5a73ea90fd66d7c.base_layers%2C%0A%20%20%20%20%20%20%20%20%20%20%20%20%20%20%20%20layer_control_542854a30e44412ab5a73ea90fd66d7c.overlays%2C%0A%20%20%20%20%20%20%20%20%20%20%20%20%20%20%20%20%7B%22autoZIndex%22%3A%20true%2C%20%22collapsed%22%3A%20true%2C%20%22position%22%3A%20%22topright%22%7D%0A%20%20%20%20%20%20%20%20%20%20%20%20%29.addTo%28map_752ac0bd4a8240fcbaa49dce1ece8271%29%3B%0A%20%20%20%20%20%20%20%20%0A%3C/script%3E onload=\"this.contentDocument.open();this.contentDocument.write(    decodeURIComponent(this.getAttribute('data-html')));this.contentDocument.close();\" allowfullscreen webkitallowfullscreen mozallowfullscreen></iframe></div></div>"
      ],
      "text/plain": [
       "<geemap.eefolium.Map at 0x7f9c79d9b6a0>"
      ]
     },
     "metadata": {},
     "output_type": "display_data"
    }
   ],
   "source": [
    "the_map = geemap.Map()\n",
    "\n",
    "the_map.addLayer(img, band_viz, name = 'Outcrop Permiability')\n",
    "vis.folium_display(the_map)"
   ]
  },
  {
   "cell_type": "code",
   "execution_count": 212,
   "metadata": {},
   "outputs": [],
   "source": [
    "oregon_scores_scaled = (norm.img_scale(\n",
    "    oregon_scores, area_of_interest= bbox_oregon))"
   ]
  },
  {
   "cell_type": "markdown",
   "metadata": {},
   "source": [
    "# SMAP-USDA Available Porosity\n",
    "More available porosity is better."
   ]
  },
  {
   "cell_type": "code",
   "execution_count": 213,
   "metadata": {},
   "outputs": [],
   "source": [
    "# Sum up available porosity in mm across the year\n",
    "smap_usda_clim = ee.ImageCollection('users/jamesmcc/smap_usda_climatology')\n",
    "avail_porosity = (smap_usda_clim\n",
    "                  .filter(ee.Filter.eq('band', 'avail_porosity_mm')))\n",
    "\n",
    "avail_porosity_img = avail_porosity.sum()\n",
    "\n",
    "avail_porosity_img_scaled = (norm.img_scale(\n",
    "    avail_porosity_img, area_of_interest= bbox_global))"
   ]
  },
  {
   "cell_type": "markdown",
   "metadata": {},
   "source": [
    "## ERA5 Runoff"
   ]
  },
  {
   "cell_type": "code",
   "execution_count": 214,
   "metadata": {},
   "outputs": [],
   "source": [
    "# Sum up runoff across the year to include in product score\n",
    "runoff_clim = ee.ImageCollection(\"ECMWF/ERA5_LAND/MONTHLY\").select('surface_runoff')\n",
    "\n",
    "runoff_clim_m = mon_stats.bands_avgs(['surface_runoff'], runoff_clim)\n",
    "\n",
    "runoff_img = ee.ImageCollection(runoff_clim_m['avgs'].get('surface_runoff')).sum().multiply(720)\n",
    "runoff_mask = runoff_img.gte(0.01) #values masked to areas that runoff 50 mm/ year at least\n",
    "runoff_img_masked = runoff_img.updateMask(runoff_mask)\n",
    "\n",
    "runoff_img_scaled = (norm.img_scale(\n",
    "    runoff_img_masked, \n",
    "    area_of_interest= bbox_global))"
   ]
  },
  {
   "cell_type": "markdown",
   "metadata": {},
   "source": [
    "## MERIT Terrain Slope"
   ]
  },
  {
   "cell_type": "code",
   "execution_count": 215,
   "metadata": {},
   "outputs": [],
   "source": [
    "#include slope as a factor in scoring product, mask for lower slopes\n",
    "slope_img = ee.Image('users/jamesmcc/merit_slope/merit_terrain_slope')\n",
    "slope_mask = slope_img.gt(0).And(slope_img.lte(10))\n",
    "slope_img_masked = slope_img.updateMask(slope_mask).pow(-1)\n",
    "slope_img_scaled = norm.img_scale(slope_img_masked, area_of_interest = bbox_global)\n",
    "\n"
   ]
  },
  {
   "cell_type": "markdown",
   "metadata": {},
   "source": [
    "# Soil Types"
   ]
  },
  {
   "cell_type": "code",
   "execution_count": 216,
   "metadata": {},
   "outputs": [],
   "source": [
    "#incorporate soil types as a factor in scoring for PRZ\n",
    "soil_types = ee.Image(\"OpenLandMap/SOL/SOL_TEXTURE-CLASS_USDA-TT_M/v02\")"
   ]
  },
  {
   "cell_type": "code",
   "execution_count": 217,
   "metadata": {},
   "outputs": [],
   "source": [
    "#categorizing soil types and depths based on retaining plant-available water, grouping top soils and bottom soils together\n",
    "top_soils = [5,7,8,10]\n",
    "medium_soils = [2,4,6,9]\n",
    "low_soils = [1,3,11,12]\n",
    "soil_0 = soil_types.expression(\n",
    "        \"(b('b0') == 12) ? 1.0\" +\n",
    "        \": (b('b0') == 11) ? 1.0\" +\n",
    "        \": (b('b0') == 10) ? 1.0\" +\n",
    "        \": (b('b0') == 9) ? 1.0\" +\n",
    "        \": (b('b0') == 8) ? 0.55\" +\n",
    "        \": (b('b0') == 7) ? 0.55\" +\n",
    "        \": (b('b0') == 6) ? 0.55\" +\n",
    "        \": (b('b0') == 5) ? 0.55\" +\n",
    "        \": (b('b0') == 4) ? 0.1\" +\n",
    "        \": (b('b0') == 3) ? 0.1\" +\n",
    "        \": (b('b0') == 2) ? 0.1\" +\n",
    "        \": (b('b0') == 1) ? 0.1\" +\n",
    "        \": 0\")\n",
    "\n",
    "soil_10 = soil_types.expression(\n",
    "        \"(b('b10') == 12) ? 1.0\" +\n",
    "        \": (b('b10') == 11) ? 1.0\" +\n",
    "        \": (b('b10') == 10) ? 1.0\" +\n",
    "        \": (b('b10') == 9) ? 1.0\" +\n",
    "        \": (b('b10') == 8) ? 0.55\" +\n",
    "        \": (b('b10') == 7) ? 0.55\" +\n",
    "        \": (b('b10') == 6) ? 0.55\" +\n",
    "        \": (b('b10') == 5) ? 0.55\" +\n",
    "        \": (b('b10') == 4) ? 0.1\" +\n",
    "        \": (b('b10') == 3) ? 0.1\" +\n",
    "        \": (b('b10') == 2) ? 0.1\" +\n",
    "        \": (b('b10') == 1) ? 0.1\" +\n",
    "        \": 0\")\n",
    "\n",
    "soil_30 = soil_types.expression(\n",
    "        \"(b('b30') == 12) ? 1.0\" +\n",
    "        \": (b('b30') == 11) ? 1.0\" +\n",
    "        \": (b('b30') == 10) ? 1.0\" +\n",
    "        \": (b('b30') == 9) ? 1.0\" +\n",
    "        \": (b('b30') == 8) ? 0.55\" +\n",
    "        \": (b('b30') == 7) ? 0.55\" +\n",
    "        \": (b('b30') == 6) ? 0.55\" +\n",
    "        \": (b('b30') == 5) ? 0.55\" +\n",
    "        \": (b('b30') == 4) ? 0.1\" +\n",
    "        \": (b('b30') == 3) ? 0.1\" +\n",
    "        \": (b('b30') == 2) ? 0.1\" +\n",
    "        \": (b('b30') == 1) ? 0.1\" +\n",
    "        \": 0\")\n",
    "\n",
    "soil_60 = soil_types.expression(\n",
    "        \"(b('b60') == 5) ? 1.0\" +\n",
    "        \": (b('b60') == 7) ? 1.0\" +\n",
    "        \": (b('b60') == 8) ? 1.0\" +\n",
    "        \": (b('b60') == 10) ? 1.0\" +\n",
    "        \": (b('b60') == 2) ? 0.55\" +\n",
    "        \": (b('b60') == 4) ? 0.55\" +\n",
    "        \": (b('b60') == 6) ? 0.55\" +\n",
    "        \": (b('b60') == 9) ? 0.55\" +\n",
    "        \": (b('b60') == 1) ? 0.1\" +\n",
    "        \": (b('b60') == 3) ? 0.1\" +\n",
    "        \": (b('b60') == 11) ? 0.1\" +\n",
    "        \": (b('b60') == 12) ? 0.1\" +\n",
    "        \": 0\")\n",
    "\n",
    "soil_100 = soil_types.expression(\n",
    "        \"(b('b100') == 5) ? 1.0\" +\n",
    "        \": (b('b100') == 7) ? 1.0\" +\n",
    "        \": (b('b100') == 8) ? 1.0\" +\n",
    "        \": (b('b100') == 10) ? 1.0\" +\n",
    "        \": (b('b100') == 2) ? 0.55\" +\n",
    "        \": (b('b100') == 4) ? 0.55\" +\n",
    "        \": (b('b100') == 6) ? 0.55\" +\n",
    "        \": (b('b100') == 9) ? 0.55\" +\n",
    "        \": (b('b100') == 1) ? 0.1\" +\n",
    "        \": (b('b100') == 3) ? 0.1\" +\n",
    "        \": (b('b100') == 11) ? 0.1\" +\n",
    "        \": (b('b100') == 12) ? 0.1\" +\n",
    "        \": 0\")\n",
    "\n",
    "soil_200 = soil_types.expression(\n",
    "        \"(b('b200') == 5) ? 1.0\" +\n",
    "        \": (b('b200') == 7) ? 1.0\" +\n",
    "        \": (b('b200') == 8) ? 1.0\" +\n",
    "        \": (b('b200') == 10) ? 1.0\" +\n",
    "        \": (b('b200') == 2) ? 0.55\" +\n",
    "        \": (b('b200') == 4) ? 0.55\" +\n",
    "        \": (b('b200') == 6) ? 0.55\" +\n",
    "        \": (b('b200') == 9) ? 0.55\" +\n",
    "        \": (b('b200') == 1) ? 0.1\" +\n",
    "        \": (b('b200') == 3) ? 0.1\" +\n",
    "        \": (b('b200') == 11) ? 0.1\" +\n",
    "        \": (b('b200') == 12) ? 0.1\" +\n",
    "        \": 0\")\n",
    "\n",
    "top_soils = soil_0.expression('soil_0 + soil_10 + soil_30',\n",
    "                             {'soil_0': soil_0.select('constant'),\n",
    "                             'soil_10': soil_10.select('constant'),\n",
    "                             'soil_30': soil_30.select('constant')})\n",
    "\n",
    "bottom_soils = soil_60.expression('soil_60 + soil_100 + soil_200',\n",
    "                                 {'soil_60': soil_60.select('constant'),\n",
    "                                  'soil_100': soil_100.select('constant'),\n",
    "                                  'soil_200': soil_200.select('constant')})"
   ]
  },
  {
   "cell_type": "code",
   "execution_count": 218,
   "metadata": {},
   "outputs": [],
   "source": [
    "#scaling top soils and bottom soils\n",
    "top_soils_scaled = norm.img_scale(top_soils, area_of_interest= bbox_global)\n",
    "bottom_soils_scaled = norm.img_scale(bottom_soils, area_of_interest= bbox_global)"
   ]
  },
  {
   "cell_type": "code",
   "execution_count": 219,
   "metadata": {},
   "outputs": [],
   "source": [
    "#incorporate organic matter as a factor in scoring for PRZ\n",
    "organic_matter = ee.Image(\"OpenLandMap/SOL/SOL_ORGANIC-CARBON_USDA-6A1C_M/v02\").reduce(ee.Reducer.sum())\n",
    "organic_matter_scaled = norm.img_scale(organic_matter, area_of_interest= bbox_global)"
   ]
  },
  {
   "cell_type": "code",
   "execution_count": 220,
   "metadata": {},
   "outputs": [
    {
     "name": "stdout",
     "output_type": "stream",
     "text": [
      "[0, 1]\n"
     ]
    }
   ],
   "source": [
    "print(norm.img_range(organic_matter_scaled, area_of_interest = bbox_global))"
   ]
  },
  {
   "cell_type": "markdown",
   "metadata": {},
   "source": [
    "## PRZ Score\n",
    "Simply give higher scores to places that have both high runoff, available porosity, favorable soil type and slope. Masked for lower slopes and higher runoffs."
   ]
  },
  {
   "cell_type": "code",
   "execution_count": 221,
   "metadata": {},
   "outputs": [],
   "source": [
    "score = (runoff_img_scaled.multiply(.2)\n",
    "         .add(avail_porosity_img_scaled.multiply(.2))\n",
    "         .add(slope_img_scaled.multiply(.2))\n",
    "         .add(organic_matter_scaled.multiply(.2))\n",
    "         .add(top_soils_scaled.multiply(.1))\n",
    "        .add(bottom_soils_scaled.multiply(.1)))\n",
    "\n",
    "score_scaled = norm.img_scale(score, area_of_interest= bbox_global)"
   ]
  },
  {
   "cell_type": "code",
   "execution_count": 222,
   "metadata": {},
   "outputs": [],
   "source": [
    "#visualizing PRZ score, other variables\n",
    "import branca\n",
    "\n",
    "score_range = norm.img_range(score_scaled, area_of_interest = bbox_global)\n",
    "palette_name = 'RdYlBu'\n",
    "palette_len = 11\n",
    "palette = vis.brewer[palette_name][palette_len][::-1]\n",
    "\n",
    "colormap = branca.colormap.LinearColormap(colors = ['Red', 'Yellow', 'Blue'], vmin = 0, vmax =1)\n",
    "colormap = colormap.to_step(n=10)\n",
    "colormap.caption = 'PRZ Score'\n",
    "\n",
    "box_corners = bbox_global.toGeoJSON()['coordinates'][0]\n",
    "center_lon = mean([corner[0] for corner in box_corners])\n",
    "center_lat = mean([corner[1] for corner in box_corners])\n",
    "\n",
    "vis_params = {\n",
    "    'min': score_range[0], 'max': score_range[1], 'dimensions': 512,\n",
    "    'palette': ['Red', 'Yellow', 'Blue']}\n"
   ]
  },
  {
   "cell_type": "code",
   "execution_count": 223,
   "metadata": {
    "scrolled": true
   },
   "outputs": [
    {
     "data": {
      "text/html": [
       "<div style=\"width:100%;\"><div style=\"position:relative;width:100%;height:0;padding-bottom:60%;\"><span style=\"color:#565656\">Make this Notebook Trusted to load map: File -> Trust Notebook</span><iframe src=\"about:blank\" style=\"position:absolute;width:100%;height:100%;left:0;top:0;border:none !important;\" data-html=%3C%21DOCTYPE%20html%3E%0A%3Chead%3E%20%20%20%20%0A%20%20%20%20%3Cmeta%20http-equiv%3D%22content-type%22%20content%3D%22text/html%3B%20charset%3DUTF-8%22%20/%3E%0A%20%20%20%20%0A%20%20%20%20%20%20%20%20%3Cscript%3E%0A%20%20%20%20%20%20%20%20%20%20%20%20L_NO_TOUCH%20%3D%20false%3B%0A%20%20%20%20%20%20%20%20%20%20%20%20L_DISABLE_3D%20%3D%20false%3B%0A%20%20%20%20%20%20%20%20%3C/script%3E%0A%20%20%20%20%0A%20%20%20%20%3Cstyle%3Ehtml%2C%20body%20%7Bwidth%3A%20100%25%3Bheight%3A%20100%25%3Bmargin%3A%200%3Bpadding%3A%200%3B%7D%3C/style%3E%0A%20%20%20%20%3Cstyle%3E%23map%20%7Bposition%3Aabsolute%3Btop%3A0%3Bbottom%3A0%3Bright%3A0%3Bleft%3A0%3B%7D%3C/style%3E%0A%20%20%20%20%3Cscript%20src%3D%22https%3A//cdn.jsdelivr.net/npm/leaflet%401.6.0/dist/leaflet.js%22%3E%3C/script%3E%0A%20%20%20%20%3Cscript%20src%3D%22https%3A//code.jquery.com/jquery-1.12.4.min.js%22%3E%3C/script%3E%0A%20%20%20%20%3Cscript%20src%3D%22https%3A//maxcdn.bootstrapcdn.com/bootstrap/3.2.0/js/bootstrap.min.js%22%3E%3C/script%3E%0A%20%20%20%20%3Cscript%20src%3D%22https%3A//cdnjs.cloudflare.com/ajax/libs/Leaflet.awesome-markers/2.0.2/leaflet.awesome-markers.js%22%3E%3C/script%3E%0A%20%20%20%20%3Clink%20rel%3D%22stylesheet%22%20href%3D%22https%3A//cdn.jsdelivr.net/npm/leaflet%401.6.0/dist/leaflet.css%22/%3E%0A%20%20%20%20%3Clink%20rel%3D%22stylesheet%22%20href%3D%22https%3A//maxcdn.bootstrapcdn.com/bootstrap/3.2.0/css/bootstrap.min.css%22/%3E%0A%20%20%20%20%3Clink%20rel%3D%22stylesheet%22%20href%3D%22https%3A//maxcdn.bootstrapcdn.com/bootstrap/3.2.0/css/bootstrap-theme.min.css%22/%3E%0A%20%20%20%20%3Clink%20rel%3D%22stylesheet%22%20href%3D%22https%3A//maxcdn.bootstrapcdn.com/font-awesome/4.6.3/css/font-awesome.min.css%22/%3E%0A%20%20%20%20%3Clink%20rel%3D%22stylesheet%22%20href%3D%22https%3A//cdnjs.cloudflare.com/ajax/libs/Leaflet.awesome-markers/2.0.2/leaflet.awesome-markers.css%22/%3E%0A%20%20%20%20%3Clink%20rel%3D%22stylesheet%22%20href%3D%22https%3A//cdn.jsdelivr.net/gh/python-visualization/folium/folium/templates/leaflet.awesome.rotate.min.css%22/%3E%0A%20%20%20%20%0A%20%20%20%20%20%20%20%20%20%20%20%20%3Cmeta%20name%3D%22viewport%22%20content%3D%22width%3Ddevice-width%2C%0A%20%20%20%20%20%20%20%20%20%20%20%20%20%20%20%20initial-scale%3D1.0%2C%20maximum-scale%3D1.0%2C%20user-scalable%3Dno%22%20/%3E%0A%20%20%20%20%20%20%20%20%20%20%20%20%3Cstyle%3E%0A%20%20%20%20%20%20%20%20%20%20%20%20%20%20%20%20%23map_9dc42913850e47429db37a208ebb3027%20%7B%0A%20%20%20%20%20%20%20%20%20%20%20%20%20%20%20%20%20%20%20%20position%3A%20relative%3B%0A%20%20%20%20%20%20%20%20%20%20%20%20%20%20%20%20%20%20%20%20width%3A%20100.0%25%3B%0A%20%20%20%20%20%20%20%20%20%20%20%20%20%20%20%20%20%20%20%20height%3A%20400.0px%3B%0A%20%20%20%20%20%20%20%20%20%20%20%20%20%20%20%20%20%20%20%20left%3A%200.0%25%3B%0A%20%20%20%20%20%20%20%20%20%20%20%20%20%20%20%20%20%20%20%20top%3A%200.0%25%3B%0A%20%20%20%20%20%20%20%20%20%20%20%20%20%20%20%20%7D%0A%20%20%20%20%20%20%20%20%20%20%20%20%3C/style%3E%0A%20%20%20%20%20%20%20%20%0A%20%20%20%20%3Cscript%20src%3D%22https%3A//cdnjs.cloudflare.com/ajax/libs/d3/3.5.5/d3.min.js%22%3E%3C/script%3E%0A%3C/head%3E%0A%3Cbody%3E%20%20%20%20%0A%20%20%20%20%0A%20%20%20%20%20%20%20%20%20%20%20%20%3Cdiv%20class%3D%22folium-map%22%20id%3D%22map_9dc42913850e47429db37a208ebb3027%22%20%3E%3C/div%3E%0A%20%20%20%20%20%20%20%20%0A%3C/body%3E%0A%3Cscript%3E%20%20%20%20%0A%20%20%20%20%0A%20%20%20%20%20%20%20%20%20%20%20%20var%20map_9dc42913850e47429db37a208ebb3027%20%3D%20L.map%28%0A%20%20%20%20%20%20%20%20%20%20%20%20%20%20%20%20%22map_9dc42913850e47429db37a208ebb3027%22%2C%0A%20%20%20%20%20%20%20%20%20%20%20%20%20%20%20%20%7B%0A%20%20%20%20%20%20%20%20%20%20%20%20%20%20%20%20%20%20%20%20center%3A%20%5B0.0%2C%200.0%5D%2C%0A%20%20%20%20%20%20%20%20%20%20%20%20%20%20%20%20%20%20%20%20crs%3A%20L.CRS.EPSG3857%2C%0A%20%20%20%20%20%20%20%20%20%20%20%20%20%20%20%20%20%20%20%20zoom%3A%201%2C%0A%20%20%20%20%20%20%20%20%20%20%20%20%20%20%20%20%20%20%20%20zoomControl%3A%20true%2C%0A%20%20%20%20%20%20%20%20%20%20%20%20%20%20%20%20%20%20%20%20preferCanvas%3A%20false%2C%0A%20%20%20%20%20%20%20%20%20%20%20%20%20%20%20%20%7D%0A%20%20%20%20%20%20%20%20%20%20%20%20%29%3B%0A%0A%20%20%20%20%20%20%20%20%20%20%20%20%0A%0A%20%20%20%20%20%20%20%20%0A%20%20%20%20%0A%20%20%20%20%20%20%20%20%20%20%20%20var%20tile_layer_790046ed3bb54cbdb019730672d61bea%20%3D%20L.tileLayer%28%0A%20%20%20%20%20%20%20%20%20%20%20%20%20%20%20%20%22https%3A//%7Bs%7D.tile.openstreetmap.org/%7Bz%7D/%7Bx%7D/%7By%7D.png%22%2C%0A%20%20%20%20%20%20%20%20%20%20%20%20%20%20%20%20%7B%22attribution%22%3A%20%22Data%20by%20%5Cu0026copy%3B%20%5Cu003ca%20href%3D%5C%22http%3A//openstreetmap.org%5C%22%5Cu003eOpenStreetMap%5Cu003c/a%5Cu003e%2C%20under%20%5Cu003ca%20href%3D%5C%22http%3A//www.openstreetmap.org/copyright%5C%22%5Cu003eODbL%5Cu003c/a%5Cu003e.%22%2C%20%22detectRetina%22%3A%20false%2C%20%22maxNativeZoom%22%3A%2018%2C%20%22maxZoom%22%3A%2018%2C%20%22minZoom%22%3A%200%2C%20%22noWrap%22%3A%20false%2C%20%22opacity%22%3A%201%2C%20%22subdomains%22%3A%20%22abc%22%2C%20%22tms%22%3A%20false%7D%0A%20%20%20%20%20%20%20%20%20%20%20%20%29.addTo%28map_9dc42913850e47429db37a208ebb3027%29%3B%0A%20%20%20%20%20%20%20%20%0A%20%20%20%20%0A%20%20%20%20%20%20%20%20%20%20%20%20var%20tile_layer_3c78b414503a4db8826ed0f81ef1f1bb%20%3D%20L.tileLayer%28%0A%20%20%20%20%20%20%20%20%20%20%20%20%20%20%20%20%22https%3A//earthengine.googleapis.com/v1alpha/projects/earthengine-legacy/maps/f6197c11f76016eb25b5503de8b1bc24-4372905eb3d2b411b6296a295a79f444/tiles/%7Bz%7D/%7Bx%7D/%7By%7D%22%2C%0A%20%20%20%20%20%20%20%20%20%20%20%20%20%20%20%20%7B%22attribution%22%3A%20%22Map%20Data%20%5Cu0026copy%3B%20%5Cu003ca%20href%3D%5C%22https%3A//earthengine.google.com/%5C%22%5Cu003eGoogle%20Earth%20Engine%5Cu003c/a%5Cu003e%22%2C%20%22detectRetina%22%3A%20false%2C%20%22maxNativeZoom%22%3A%2018%2C%20%22maxZoom%22%3A%2018%2C%20%22minZoom%22%3A%200%2C%20%22noWrap%22%3A%20false%2C%20%22opacity%22%3A%201%2C%20%22subdomains%22%3A%20%22abc%22%2C%20%22tms%22%3A%20false%7D%0A%20%20%20%20%20%20%20%20%20%20%20%20%29.addTo%28map_9dc42913850e47429db37a208ebb3027%29%3B%0A%20%20%20%20%20%20%20%20%0A%20%20%20%20%0A%20%20%20%20var%20color_map_ae51c7f95640440288cf12bd629812cf%20%3D%20%7B%7D%3B%0A%0A%20%20%20%20%0A%20%20%20%20color_map_ae51c7f95640440288cf12bd629812cf.color%20%3D%20d3.scale.threshold%28%29%0A%20%20%20%20%20%20%20%20%20%20%20%20%20%20.domain%28%5B0.0%2C%200.002004008016032064%2C%200.004008016032064128%2C%200.006012024048096192%2C%200.008016032064128256%2C%200.01002004008016032%2C%200.012024048096192385%2C%200.014028056112224449%2C%200.01603206412825651%2C%200.018036072144288578%2C%200.02004008016032064%2C%200.022044088176352707%2C%200.02404809619238477%2C%200.026052104208416832%2C%200.028056112224448898%2C%200.03006012024048096%2C%200.03206412825651302%2C%200.03406813627254509%2C%200.036072144288577156%2C%200.03807615230460922%2C%200.04008016032064128%2C%200.04208416833667335%2C%200.04408817635270541%2C%200.04609218436873747%2C%200.04809619238476954%2C%200.050100200400801605%2C%200.052104208416833664%2C%200.05410821643286573%2C%200.056112224448897796%2C%200.05811623246492986%2C%200.06012024048096192%2C%200.06212424849699399%2C%200.06412825651302605%2C%200.06613226452905811%2C%200.06813627254509018%2C%200.07014028056112225%2C%200.07214428857715431%2C%200.07414829659318638%2C%200.07615230460921844%2C%200.0781563126252505%2C%200.08016032064128256%2C%200.08216432865731463%2C%200.0841683366733467%2C%200.08617234468937876%2C%200.08817635270541083%2C%200.09018036072144289%2C%200.09218436873747494%2C%200.09418837675350701%2C%200.09619238476953908%2C%200.09819639278557114%2C%200.10020040080160321%2C%200.10220440881763528%2C%200.10420841683366733%2C%200.1062124248496994%2C%200.10821643286573146%2C%200.11022044088176353%2C%200.11222444889779559%2C%200.11422845691382766%2C%200.11623246492985972%2C%200.11823647294589178%2C%200.12024048096192384%2C%200.12224448897795591%2C%200.12424849699398798%2C%200.12625250501002003%2C%200.1282565130260521%2C%200.13026052104208416%2C%200.13226452905811623%2C%200.1342685370741483%2C%200.13627254509018036%2C%200.13827655310621242%2C%200.1402805611222445%2C%200.14228456913827656%2C%200.14428857715430862%2C%200.1462925851703407%2C%200.14829659318637275%2C%200.15030060120240482%2C%200.1523046092184369%2C%200.15430861723446893%2C%200.156312625250501%2C%200.15831663326653306%2C%200.16032064128256512%2C%200.1623246492985972%2C%200.16432865731462926%2C%200.16633266533066132%2C%200.1683366733466934%2C%200.17034068136272545%2C%200.17234468937875752%2C%200.1743486973947896%2C%200.17635270541082165%2C%200.17835671342685372%2C%200.18036072144288579%2C%200.18236472945891782%2C%200.1843687374749499%2C%200.18637274549098196%2C%200.18837675350701402%2C%200.1903807615230461%2C%200.19238476953907815%2C%200.19438877755511022%2C%200.1963927855711423%2C%200.19839679358717435%2C%200.20040080160320642%2C%200.20240480961923848%2C%200.20440881763527055%2C%200.20641282565130262%2C%200.20841683366733466%2C%200.21042084168336672%2C%200.2124248496993988%2C%200.21442885771543085%2C%200.21643286573146292%2C%200.218436873747495%2C%200.22044088176352705%2C%200.22244488977955912%2C%200.22444889779559118%2C%200.22645290581162325%2C%200.22845691382765532%2C%200.23046092184368738%2C%200.23246492985971945%2C%200.23446893787575152%2C%200.23647294589178355%2C%200.23847695390781562%2C%200.24048096192384769%2C%200.24248496993987975%2C%200.24448897795591182%2C%200.24649298597194388%2C%200.24849699398797595%2C%200.250501002004008%2C%200.25250501002004005%2C%200.2545090180360721%2C%200.2565130260521042%2C%200.25851703406813625%2C%200.2605210420841683%2C%200.2625250501002004%2C%200.26452905811623245%2C%200.2665330661322645%2C%200.2685370741482966%2C%200.27054108216432865%2C%200.2725450901803607%2C%200.2745490981963928%2C%200.27655310621242485%2C%200.2785571142284569%2C%200.280561122244489%2C%200.28256513026052105%2C%200.2845691382765531%2C%200.2865731462925852%2C%200.28857715430861725%2C%200.2905811623246493%2C%200.2925851703406814%2C%200.29458917835671344%2C%200.2965931863727455%2C%200.2985971943887776%2C%200.30060120240480964%2C%200.3026052104208417%2C%200.3046092184368738%2C%200.3066132264529058%2C%200.30861723446893785%2C%200.3106212424849699%2C%200.312625250501002%2C%200.31462925851703405%2C%200.3166332665330661%2C%200.3186372745490982%2C%200.32064128256513025%2C%200.3226452905811623%2C%200.3246492985971944%2C%200.32665330661322645%2C%200.3286573146292585%2C%200.3306613226452906%2C%200.33266533066132264%2C%200.3346693386773547%2C%200.3366733466933868%2C%200.33867735470941884%2C%200.3406813627254509%2C%200.342685370741483%2C%200.34468937875751504%2C%200.3466933867735471%2C%200.3486973947895792%2C%200.35070140280561124%2C%200.3527054108216433%2C%200.35470941883767537%2C%200.35671342685370744%2C%200.3587174348697395%2C%200.36072144288577157%2C%200.3627254509018036%2C%200.36472945891783565%2C%200.3667334669338677%2C%200.3687374749498998%2C%200.37074148296593185%2C%200.3727454909819639%2C%200.374749498997996%2C%200.37675350701402804%2C%200.3787575150300601%2C%200.3807615230460922%2C%200.38276553106212424%2C%200.3847695390781563%2C%200.3867735470941884%2C%200.38877755511022044%2C%200.3907815631262525%2C%200.3927855711422846%2C%200.39478957915831664%2C%200.3967935871743487%2C%200.39879759519038077%2C%200.40080160320641284%2C%200.4028056112224449%2C%200.40480961923847697%2C%200.40681362725450904%2C%200.4088176352705411%2C%200.41082164328657317%2C%200.41282565130260523%2C%200.4148296593186373%2C%200.4168336673346693%2C%200.4188376753507014%2C%200.42084168336673344%2C%200.4228456913827655%2C%200.4248496993987976%2C%200.42685370741482964%2C%200.4288577154308617%2C%200.4308617234468938%2C%200.43286573146292584%2C%200.4348697394789579%2C%200.43687374749499%2C%200.43887775551102204%2C%200.4408817635270541%2C%200.44288577154308617%2C%200.44488977955911824%2C%200.4468937875751503%2C%200.44889779559118237%2C%200.45090180360721444%2C%200.4529058116232465%2C%200.45490981963927857%2C%200.45691382765531063%2C%200.4589178356713427%2C%200.46092184368737477%2C%200.46292585170340683%2C%200.4649298597194389%2C%200.46693386773547096%2C%200.46893787575150303%2C%200.4709418837675351%2C%200.4729458917835671%2C%200.4749498997995992%2C%200.47695390781563124%2C%200.4789579158316633%2C%200.48096192384769537%2C%200.48296593186372744%2C%200.4849699398797595%2C%200.48697394789579157%2C%200.48897795591182364%2C%200.4909819639278557%2C%200.49298597194388777%2C%200.49498997995991983%2C%200.4969939879759519%2C%200.49899799599198397%2C%200.501002004008016%2C%200.503006012024048%2C%200.5050100200400801%2C%200.5070140280561122%2C%200.5090180360721442%2C%200.5110220440881763%2C%200.5130260521042084%2C%200.5150300601202404%2C%200.5170340681362725%2C%200.5190380761523046%2C%200.5210420841683366%2C%200.5230460921843687%2C%200.5250501002004008%2C%200.5270541082164328%2C%200.5290581162324649%2C%200.531062124248497%2C%200.533066132264529%2C%200.5350701402805611%2C%200.5370741482965932%2C%200.5390781563126252%2C%200.5410821643286573%2C%200.5430861723446894%2C%200.5450901803607214%2C%200.5470941883767535%2C%200.5490981963927856%2C%200.5511022044088176%2C%200.5531062124248497%2C%200.5551102204408818%2C%200.5571142284569138%2C%200.5591182364729459%2C%200.561122244488978%2C%200.56312625250501%2C%200.5651302605210421%2C%200.5671342685370742%2C%200.5691382765531062%2C%200.5711422845691383%2C%200.5731462925851704%2C%200.5751503006012024%2C%200.5771543086172345%2C%200.5791583166332666%2C%200.5811623246492986%2C%200.5831663326653307%2C%200.5851703406813628%2C%200.5871743486973948%2C%200.5891783567134269%2C%200.591182364729459%2C%200.593186372745491%2C%200.5951903807615231%2C%200.5971943887775552%2C%200.5991983967935872%2C%200.6012024048096193%2C%200.6032064128256514%2C%200.6052104208416834%2C%200.6072144288577155%2C%200.6092184368737475%2C%200.6112224448897795%2C%200.6132264529058116%2C%200.6152304609218436%2C%200.6172344689378757%2C%200.6192384769539078%2C%200.6212424849699398%2C%200.6232464929859719%2C%200.625250501002004%2C%200.627254509018036%2C%200.6292585170340681%2C%200.6312625250501002%2C%200.6332665330661322%2C%200.6352705410821643%2C%200.6372745490981964%2C%200.6392785571142284%2C%200.6412825651302605%2C%200.6432865731462926%2C%200.6452905811623246%2C%200.6472945891783567%2C%200.6492985971943888%2C%200.6513026052104208%2C%200.6533066132264529%2C%200.655310621242485%2C%200.657314629258517%2C%200.6593186372745491%2C%200.6613226452905812%2C%200.6633266533066132%2C%200.6653306613226453%2C%200.6673346693386774%2C%200.6693386773547094%2C%200.6713426853707415%2C%200.6733466933867736%2C%200.6753507014028056%2C%200.6773547094188377%2C%200.6793587174348698%2C%200.6813627254509018%2C%200.6833667334669339%2C%200.685370741482966%2C%200.687374749498998%2C%200.6893787575150301%2C%200.6913827655310621%2C%200.6933867735470942%2C%200.6953907815631263%2C%200.6973947895791583%2C%200.6993987975951904%2C%200.7014028056112225%2C%200.7034068136272545%2C%200.7054108216432866%2C%200.7074148296593187%2C%200.7094188376753507%2C%200.7114228456913828%2C%200.7134268537074149%2C%200.7154308617234469%2C%200.717434869739479%2C%200.7194388777555111%2C%200.7214428857715431%2C%200.7234468937875751%2C%200.7254509018036072%2C%200.7274549098196392%2C%200.7294589178356713%2C%200.7314629258517034%2C%200.7334669338677354%2C%200.7354709418837675%2C%200.7374749498997996%2C%200.7394789579158316%2C%200.7414829659318637%2C%200.7434869739478958%2C%200.7454909819639278%2C%200.7474949899799599%2C%200.749498997995992%2C%200.751503006012024%2C%200.7535070140280561%2C%200.7555110220440882%2C%200.7575150300601202%2C%200.7595190380761523%2C%200.7615230460921844%2C%200.7635270541082164%2C%200.7655310621242485%2C%200.7675350701402806%2C%200.7695390781563126%2C%200.7715430861723447%2C%200.7735470941883767%2C%200.7755511022044088%2C%200.7775551102204409%2C%200.779559118236473%2C%200.781563126252505%2C%200.7835671342685371%2C%200.7855711422845691%2C%200.7875751503006012%2C%200.7895791583166333%2C%200.7915831663326653%2C%200.7935871743486974%2C%200.7955911823647295%2C%200.7975951903807615%2C%200.7995991983967936%2C%200.8016032064128257%2C%200.8036072144288577%2C%200.8056112224448898%2C%200.8076152304609219%2C%200.8096192384769539%2C%200.811623246492986%2C%200.8136272545090181%2C%200.8156312625250501%2C%200.8176352705410822%2C%200.8196392785571143%2C%200.8216432865731463%2C%200.8236472945891784%2C%200.8256513026052105%2C%200.8276553106212425%2C%200.8296593186372746%2C%200.8316633266533067%2C%200.8336673346693386%2C%200.8356713426853707%2C%200.8376753507014028%2C%200.8396793587174348%2C%200.8416833667334669%2C%200.843687374749499%2C%200.845691382765531%2C%200.8476953907815631%2C%200.8496993987975952%2C%200.8517034068136272%2C%200.8537074148296593%2C%200.8557114228456913%2C%200.8577154308617234%2C%200.8597194388777555%2C%200.8617234468937875%2C%200.8637274549098196%2C%200.8657314629258517%2C%200.8677354709418837%2C%200.8697394789579158%2C%200.8717434869739479%2C%200.87374749498998%2C%200.875751503006012%2C%200.8777555110220441%2C%200.8797595190380761%2C%200.8817635270541082%2C%200.8837675350701403%2C%200.8857715430861723%2C%200.8877755511022044%2C%200.8897795591182365%2C%200.8917835671342685%2C%200.8937875751503006%2C%200.8957915831663327%2C%200.8977955911823647%2C%200.8997995991983968%2C%200.9018036072144289%2C%200.9038076152304609%2C%200.905811623246493%2C%200.9078156312625251%2C%200.9098196392785571%2C%200.9118236472945892%2C%200.9138276553106213%2C%200.9158316633266533%2C%200.9178356713426854%2C%200.9198396793587175%2C%200.9218436873747495%2C%200.9238476953907816%2C%200.9258517034068137%2C%200.9278557114228457%2C%200.9298597194388778%2C%200.9318637274549099%2C%200.9338677354709419%2C%200.935871743486974%2C%200.9378757515030061%2C%200.9398797595190381%2C%200.9418837675350702%2C%200.9438877755511023%2C%200.9458917835671342%2C%200.9478957915831663%2C%200.9498997995991983%2C%200.9519038076152304%2C%200.9539078156312625%2C%200.9559118236472945%2C%200.9579158316633266%2C%200.9599198396793587%2C%200.9619238476953907%2C%200.9639278557114228%2C%200.9659318637274549%2C%200.9679358717434869%2C%200.969939879759519%2C%200.9719438877755511%2C%200.9739478957915831%2C%200.9759519038076152%2C%200.9779559118236473%2C%200.9799599198396793%2C%200.9819639278557114%2C%200.9839679358717435%2C%200.9859719438877755%2C%200.9879759519038076%2C%200.9899799599198397%2C%200.9919839679358717%2C%200.9939879759519038%2C%200.9959919839679359%2C%200.9979959919839679%2C%201.0%5D%29%0A%20%20%20%20%20%20%20%20%20%20%20%20%20%20.range%28%5B%27%23ff0000ff%27%2C%20%27%23ff0000ff%27%2C%20%27%23ff0000ff%27%2C%20%27%23ff0000ff%27%2C%20%27%23ff0000ff%27%2C%20%27%23ff0000ff%27%2C%20%27%23ff0000ff%27%2C%20%27%23ff0000ff%27%2C%20%27%23ff0000ff%27%2C%20%27%23ff0000ff%27%2C%20%27%23ff0000ff%27%2C%20%27%23ff0000ff%27%2C%20%27%23ff0000ff%27%2C%20%27%23ff0000ff%27%2C%20%27%23ff0000ff%27%2C%20%27%23ff0000ff%27%2C%20%27%23ff0000ff%27%2C%20%27%23ff0000ff%27%2C%20%27%23ff0000ff%27%2C%20%27%23ff0000ff%27%2C%20%27%23ff0000ff%27%2C%20%27%23ff0000ff%27%2C%20%27%23ff0000ff%27%2C%20%27%23ff0000ff%27%2C%20%27%23ff0000ff%27%2C%20%27%23ff0000ff%27%2C%20%27%23ff0000ff%27%2C%20%27%23ff0000ff%27%2C%20%27%23ff0000ff%27%2C%20%27%23ff0000ff%27%2C%20%27%23ff0000ff%27%2C%20%27%23ff0000ff%27%2C%20%27%23ff0000ff%27%2C%20%27%23ff0000ff%27%2C%20%27%23ff0000ff%27%2C%20%27%23ff0000ff%27%2C%20%27%23ff0000ff%27%2C%20%27%23ff0000ff%27%2C%20%27%23ff0000ff%27%2C%20%27%23ff0000ff%27%2C%20%27%23ff0000ff%27%2C%20%27%23ff0000ff%27%2C%20%27%23ff0000ff%27%2C%20%27%23ff0000ff%27%2C%20%27%23ff0000ff%27%2C%20%27%23ff0000ff%27%2C%20%27%23ff0000ff%27%2C%20%27%23ff0000ff%27%2C%20%27%23ff0000ff%27%2C%20%27%23ff0000ff%27%2C%20%27%23ff3800ff%27%2C%20%27%23ff3800ff%27%2C%20%27%23ff3800ff%27%2C%20%27%23ff3800ff%27%2C%20%27%23ff3800ff%27%2C%20%27%23ff3800ff%27%2C%20%27%23ff3800ff%27%2C%20%27%23ff3800ff%27%2C%20%27%23ff3800ff%27%2C%20%27%23ff3800ff%27%2C%20%27%23ff3800ff%27%2C%20%27%23ff3800ff%27%2C%20%27%23ff3800ff%27%2C%20%27%23ff3800ff%27%2C%20%27%23ff3800ff%27%2C%20%27%23ff3800ff%27%2C%20%27%23ff3800ff%27%2C%20%27%23ff3800ff%27%2C%20%27%23ff3800ff%27%2C%20%27%23ff3800ff%27%2C%20%27%23ff3800ff%27%2C%20%27%23ff3800ff%27%2C%20%27%23ff3800ff%27%2C%20%27%23ff3800ff%27%2C%20%27%23ff3800ff%27%2C%20%27%23ff3800ff%27%2C%20%27%23ff3800ff%27%2C%20%27%23ff3800ff%27%2C%20%27%23ff3800ff%27%2C%20%27%23ff3800ff%27%2C%20%27%23ff3800ff%27%2C%20%27%23ff3800ff%27%2C%20%27%23ff3800ff%27%2C%20%27%23ff3800ff%27%2C%20%27%23ff3800ff%27%2C%20%27%23ff3800ff%27%2C%20%27%23ff3800ff%27%2C%20%27%23ff3800ff%27%2C%20%27%23ff3800ff%27%2C%20%27%23ff3800ff%27%2C%20%27%23ff3800ff%27%2C%20%27%23ff3800ff%27%2C%20%27%23ff3800ff%27%2C%20%27%23ff3800ff%27%2C%20%27%23ff3800ff%27%2C%20%27%23ff3800ff%27%2C%20%27%23ff3800ff%27%2C%20%27%23ff3800ff%27%2C%20%27%23ff3800ff%27%2C%20%27%23ff3800ff%27%2C%20%27%23ff7100ff%27%2C%20%27%23ff7100ff%27%2C%20%27%23ff7100ff%27%2C%20%27%23ff7100ff%27%2C%20%27%23ff7100ff%27%2C%20%27%23ff7100ff%27%2C%20%27%23ff7100ff%27%2C%20%27%23ff7100ff%27%2C%20%27%23ff7100ff%27%2C%20%27%23ff7100ff%27%2C%20%27%23ff7100ff%27%2C%20%27%23ff7100ff%27%2C%20%27%23ff7100ff%27%2C%20%27%23ff7100ff%27%2C%20%27%23ff7100ff%27%2C%20%27%23ff7100ff%27%2C%20%27%23ff7100ff%27%2C%20%27%23ff7100ff%27%2C%20%27%23ff7100ff%27%2C%20%27%23ff7100ff%27%2C%20%27%23ff7100ff%27%2C%20%27%23ff7100ff%27%2C%20%27%23ff7100ff%27%2C%20%27%23ff7100ff%27%2C%20%27%23ff7100ff%27%2C%20%27%23ff7100ff%27%2C%20%27%23ff7100ff%27%2C%20%27%23ff7100ff%27%2C%20%27%23ff7100ff%27%2C%20%27%23ff7100ff%27%2C%20%27%23ff7100ff%27%2C%20%27%23ff7100ff%27%2C%20%27%23ff7100ff%27%2C%20%27%23ff7100ff%27%2C%20%27%23ff7100ff%27%2C%20%27%23ff7100ff%27%2C%20%27%23ff7100ff%27%2C%20%27%23ff7100ff%27%2C%20%27%23ff7100ff%27%2C%20%27%23ff7100ff%27%2C%20%27%23ff7100ff%27%2C%20%27%23ff7100ff%27%2C%20%27%23ff7100ff%27%2C%20%27%23ff7100ff%27%2C%20%27%23ff7100ff%27%2C%20%27%23ff7100ff%27%2C%20%27%23ff7100ff%27%2C%20%27%23ff7100ff%27%2C%20%27%23ff7100ff%27%2C%20%27%23ff7100ff%27%2C%20%27%23ffaa00ff%27%2C%20%27%23ffaa00ff%27%2C%20%27%23ffaa00ff%27%2C%20%27%23ffaa00ff%27%2C%20%27%23ffaa00ff%27%2C%20%27%23ffaa00ff%27%2C%20%27%23ffaa00ff%27%2C%20%27%23ffaa00ff%27%2C%20%27%23ffaa00ff%27%2C%20%27%23ffaa00ff%27%2C%20%27%23ffaa00ff%27%2C%20%27%23ffaa00ff%27%2C%20%27%23ffaa00ff%27%2C%20%27%23ffaa00ff%27%2C%20%27%23ffaa00ff%27%2C%20%27%23ffaa00ff%27%2C%20%27%23ffaa00ff%27%2C%20%27%23ffaa00ff%27%2C%20%27%23ffaa00ff%27%2C%20%27%23ffaa00ff%27%2C%20%27%23ffaa00ff%27%2C%20%27%23ffaa00ff%27%2C%20%27%23ffaa00ff%27%2C%20%27%23ffaa00ff%27%2C%20%27%23ffaa00ff%27%2C%20%27%23ffaa00ff%27%2C%20%27%23ffaa00ff%27%2C%20%27%23ffaa00ff%27%2C%20%27%23ffaa00ff%27%2C%20%27%23ffaa00ff%27%2C%20%27%23ffaa00ff%27%2C%20%27%23ffaa00ff%27%2C%20%27%23ffaa00ff%27%2C%20%27%23ffaa00ff%27%2C%20%27%23ffaa00ff%27%2C%20%27%23ffaa00ff%27%2C%20%27%23ffaa00ff%27%2C%20%27%23ffaa00ff%27%2C%20%27%23ffaa00ff%27%2C%20%27%23ffaa00ff%27%2C%20%27%23ffaa00ff%27%2C%20%27%23ffaa00ff%27%2C%20%27%23ffaa00ff%27%2C%20%27%23ffaa00ff%27%2C%20%27%23ffaa00ff%27%2C%20%27%23ffaa00ff%27%2C%20%27%23ffaa00ff%27%2C%20%27%23ffaa00ff%27%2C%20%27%23ffaa00ff%27%2C%20%27%23ffaa00ff%27%2C%20%27%23ffe300ff%27%2C%20%27%23ffe300ff%27%2C%20%27%23ffe300ff%27%2C%20%27%23ffe300ff%27%2C%20%27%23ffe300ff%27%2C%20%27%23ffe300ff%27%2C%20%27%23ffe300ff%27%2C%20%27%23ffe300ff%27%2C%20%27%23ffe300ff%27%2C%20%27%23ffe300ff%27%2C%20%27%23ffe300ff%27%2C%20%27%23ffe300ff%27%2C%20%27%23ffe300ff%27%2C%20%27%23ffe300ff%27%2C%20%27%23ffe300ff%27%2C%20%27%23ffe300ff%27%2C%20%27%23ffe300ff%27%2C%20%27%23ffe300ff%27%2C%20%27%23ffe300ff%27%2C%20%27%23ffe300ff%27%2C%20%27%23ffe300ff%27%2C%20%27%23ffe300ff%27%2C%20%27%23ffe300ff%27%2C%20%27%23ffe300ff%27%2C%20%27%23ffe300ff%27%2C%20%27%23ffe300ff%27%2C%20%27%23ffe300ff%27%2C%20%27%23ffe300ff%27%2C%20%27%23ffe300ff%27%2C%20%27%23ffe300ff%27%2C%20%27%23ffe300ff%27%2C%20%27%23ffe300ff%27%2C%20%27%23ffe300ff%27%2C%20%27%23ffe300ff%27%2C%20%27%23ffe300ff%27%2C%20%27%23ffe300ff%27%2C%20%27%23ffe300ff%27%2C%20%27%23ffe300ff%27%2C%20%27%23ffe300ff%27%2C%20%27%23ffe300ff%27%2C%20%27%23ffe300ff%27%2C%20%27%23ffe300ff%27%2C%20%27%23ffe300ff%27%2C%20%27%23ffe300ff%27%2C%20%27%23ffe300ff%27%2C%20%27%23ffe300ff%27%2C%20%27%23ffe300ff%27%2C%20%27%23ffe300ff%27%2C%20%27%23ffe300ff%27%2C%20%27%23ffe300ff%27%2C%20%27%23e3e31cff%27%2C%20%27%23e3e31cff%27%2C%20%27%23e3e31cff%27%2C%20%27%23e3e31cff%27%2C%20%27%23e3e31cff%27%2C%20%27%23e3e31cff%27%2C%20%27%23e3e31cff%27%2C%20%27%23e3e31cff%27%2C%20%27%23e3e31cff%27%2C%20%27%23e3e31cff%27%2C%20%27%23e3e31cff%27%2C%20%27%23e3e31cff%27%2C%20%27%23e3e31cff%27%2C%20%27%23e3e31cff%27%2C%20%27%23e3e31cff%27%2C%20%27%23e3e31cff%27%2C%20%27%23e3e31cff%27%2C%20%27%23e3e31cff%27%2C%20%27%23e3e31cff%27%2C%20%27%23e3e31cff%27%2C%20%27%23e3e31cff%27%2C%20%27%23e3e31cff%27%2C%20%27%23e3e31cff%27%2C%20%27%23e3e31cff%27%2C%20%27%23e3e31cff%27%2C%20%27%23e3e31cff%27%2C%20%27%23e3e31cff%27%2C%20%27%23e3e31cff%27%2C%20%27%23e3e31cff%27%2C%20%27%23e3e31cff%27%2C%20%27%23e3e31cff%27%2C%20%27%23e3e31cff%27%2C%20%27%23e3e31cff%27%2C%20%27%23e3e31cff%27%2C%20%27%23e3e31cff%27%2C%20%27%23e3e31cff%27%2C%20%27%23e3e31cff%27%2C%20%27%23e3e31cff%27%2C%20%27%23e3e31cff%27%2C%20%27%23e3e31cff%27%2C%20%27%23e3e31cff%27%2C%20%27%23e3e31cff%27%2C%20%27%23e3e31cff%27%2C%20%27%23e3e31cff%27%2C%20%27%23e3e31cff%27%2C%20%27%23e3e31cff%27%2C%20%27%23e3e31cff%27%2C%20%27%23e3e31cff%27%2C%20%27%23e3e31cff%27%2C%20%27%23e3e31cff%27%2C%20%27%23aaaa55ff%27%2C%20%27%23aaaa55ff%27%2C%20%27%23aaaa55ff%27%2C%20%27%23aaaa55ff%27%2C%20%27%23aaaa55ff%27%2C%20%27%23aaaa55ff%27%2C%20%27%23aaaa55ff%27%2C%20%27%23aaaa55ff%27%2C%20%27%23aaaa55ff%27%2C%20%27%23aaaa55ff%27%2C%20%27%23aaaa55ff%27%2C%20%27%23aaaa55ff%27%2C%20%27%23aaaa55ff%27%2C%20%27%23aaaa55ff%27%2C%20%27%23aaaa55ff%27%2C%20%27%23aaaa55ff%27%2C%20%27%23aaaa55ff%27%2C%20%27%23aaaa55ff%27%2C%20%27%23aaaa55ff%27%2C%20%27%23aaaa55ff%27%2C%20%27%23aaaa55ff%27%2C%20%27%23aaaa55ff%27%2C%20%27%23aaaa55ff%27%2C%20%27%23aaaa55ff%27%2C%20%27%23aaaa55ff%27%2C%20%27%23aaaa55ff%27%2C%20%27%23aaaa55ff%27%2C%20%27%23aaaa55ff%27%2C%20%27%23aaaa55ff%27%2C%20%27%23aaaa55ff%27%2C%20%27%23aaaa55ff%27%2C%20%27%23aaaa55ff%27%2C%20%27%23aaaa55ff%27%2C%20%27%23aaaa55ff%27%2C%20%27%23aaaa55ff%27%2C%20%27%23aaaa55ff%27%2C%20%27%23aaaa55ff%27%2C%20%27%23aaaa55ff%27%2C%20%27%23aaaa55ff%27%2C%20%27%23aaaa55ff%27%2C%20%27%23aaaa55ff%27%2C%20%27%23aaaa55ff%27%2C%20%27%23aaaa55ff%27%2C%20%27%23aaaa55ff%27%2C%20%27%23aaaa55ff%27%2C%20%27%23aaaa55ff%27%2C%20%27%23aaaa55ff%27%2C%20%27%23aaaa55ff%27%2C%20%27%23aaaa55ff%27%2C%20%27%23aaaa55ff%27%2C%20%27%2371718eff%27%2C%20%27%2371718eff%27%2C%20%27%2371718eff%27%2C%20%27%2371718eff%27%2C%20%27%2371718eff%27%2C%20%27%2371718eff%27%2C%20%27%2371718eff%27%2C%20%27%2371718eff%27%2C%20%27%2371718eff%27%2C%20%27%2371718eff%27%2C%20%27%2371718eff%27%2C%20%27%2371718eff%27%2C%20%27%2371718eff%27%2C%20%27%2371718eff%27%2C%20%27%2371718eff%27%2C%20%27%2371718eff%27%2C%20%27%2371718eff%27%2C%20%27%2371718eff%27%2C%20%27%2371718eff%27%2C%20%27%2371718eff%27%2C%20%27%2371718eff%27%2C%20%27%2371718eff%27%2C%20%27%2371718eff%27%2C%20%27%2371718eff%27%2C%20%27%2371718eff%27%2C%20%27%2371718eff%27%2C%20%27%2371718eff%27%2C%20%27%2371718eff%27%2C%20%27%2371718eff%27%2C%20%27%2371718eff%27%2C%20%27%2371718eff%27%2C%20%27%2371718eff%27%2C%20%27%2371718eff%27%2C%20%27%2371718eff%27%2C%20%27%2371718eff%27%2C%20%27%2371718eff%27%2C%20%27%2371718eff%27%2C%20%27%2371718eff%27%2C%20%27%2371718eff%27%2C%20%27%2371718eff%27%2C%20%27%2371718eff%27%2C%20%27%2371718eff%27%2C%20%27%2371718eff%27%2C%20%27%2371718eff%27%2C%20%27%2371718eff%27%2C%20%27%2371718eff%27%2C%20%27%2371718eff%27%2C%20%27%2371718eff%27%2C%20%27%2371718eff%27%2C%20%27%2371718eff%27%2C%20%27%233838c7ff%27%2C%20%27%233838c7ff%27%2C%20%27%233838c7ff%27%2C%20%27%233838c7ff%27%2C%20%27%233838c7ff%27%2C%20%27%233838c7ff%27%2C%20%27%233838c7ff%27%2C%20%27%233838c7ff%27%2C%20%27%233838c7ff%27%2C%20%27%233838c7ff%27%2C%20%27%233838c7ff%27%2C%20%27%233838c7ff%27%2C%20%27%233838c7ff%27%2C%20%27%233838c7ff%27%2C%20%27%233838c7ff%27%2C%20%27%233838c7ff%27%2C%20%27%233838c7ff%27%2C%20%27%233838c7ff%27%2C%20%27%233838c7ff%27%2C%20%27%233838c7ff%27%2C%20%27%233838c7ff%27%2C%20%27%233838c7ff%27%2C%20%27%233838c7ff%27%2C%20%27%233838c7ff%27%2C%20%27%233838c7ff%27%2C%20%27%233838c7ff%27%2C%20%27%233838c7ff%27%2C%20%27%233838c7ff%27%2C%20%27%233838c7ff%27%2C%20%27%233838c7ff%27%2C%20%27%233838c7ff%27%2C%20%27%233838c7ff%27%2C%20%27%233838c7ff%27%2C%20%27%233838c7ff%27%2C%20%27%233838c7ff%27%2C%20%27%233838c7ff%27%2C%20%27%233838c7ff%27%2C%20%27%233838c7ff%27%2C%20%27%233838c7ff%27%2C%20%27%233838c7ff%27%2C%20%27%233838c7ff%27%2C%20%27%233838c7ff%27%2C%20%27%233838c7ff%27%2C%20%27%233838c7ff%27%2C%20%27%233838c7ff%27%2C%20%27%233838c7ff%27%2C%20%27%233838c7ff%27%2C%20%27%233838c7ff%27%2C%20%27%233838c7ff%27%2C%20%27%233838c7ff%27%2C%20%27%230000ffff%27%2C%20%27%230000ffff%27%2C%20%27%230000ffff%27%2C%20%27%230000ffff%27%2C%20%27%230000ffff%27%2C%20%27%230000ffff%27%2C%20%27%230000ffff%27%2C%20%27%230000ffff%27%2C%20%27%230000ffff%27%2C%20%27%230000ffff%27%2C%20%27%230000ffff%27%2C%20%27%230000ffff%27%2C%20%27%230000ffff%27%2C%20%27%230000ffff%27%2C%20%27%230000ffff%27%2C%20%27%230000ffff%27%2C%20%27%230000ffff%27%2C%20%27%230000ffff%27%2C%20%27%230000ffff%27%2C%20%27%230000ffff%27%2C%20%27%230000ffff%27%2C%20%27%230000ffff%27%2C%20%27%230000ffff%27%2C%20%27%230000ffff%27%2C%20%27%230000ffff%27%2C%20%27%230000ffff%27%2C%20%27%230000ffff%27%2C%20%27%230000ffff%27%2C%20%27%230000ffff%27%2C%20%27%230000ffff%27%2C%20%27%230000ffff%27%2C%20%27%230000ffff%27%2C%20%27%230000ffff%27%2C%20%27%230000ffff%27%2C%20%27%230000ffff%27%2C%20%27%230000ffff%27%2C%20%27%230000ffff%27%2C%20%27%230000ffff%27%2C%20%27%230000ffff%27%2C%20%27%230000ffff%27%2C%20%27%230000ffff%27%2C%20%27%230000ffff%27%2C%20%27%230000ffff%27%2C%20%27%230000ffff%27%2C%20%27%230000ffff%27%2C%20%27%230000ffff%27%2C%20%27%230000ffff%27%2C%20%27%230000ffff%27%2C%20%27%230000ffff%27%2C%20%27%230000ffff%27%5D%29%3B%0A%20%20%20%20%0A%0A%20%20%20%20color_map_ae51c7f95640440288cf12bd629812cf.x%20%3D%20d3.scale.linear%28%29%0A%20%20%20%20%20%20%20%20%20%20%20%20%20%20.domain%28%5B0.0%2C%201.0%5D%29%0A%20%20%20%20%20%20%20%20%20%20%20%20%20%20.range%28%5B0%2C%20400%5D%29%3B%0A%0A%20%20%20%20color_map_ae51c7f95640440288cf12bd629812cf.legend%20%3D%20L.control%28%7Bposition%3A%20%27topright%27%7D%29%3B%0A%20%20%20%20color_map_ae51c7f95640440288cf12bd629812cf.legend.onAdd%20%3D%20function%20%28map%29%20%7Bvar%20div%20%3D%20L.DomUtil.create%28%27div%27%2C%20%27legend%27%29%3B%20return%20div%7D%3B%0A%20%20%20%20color_map_ae51c7f95640440288cf12bd629812cf.legend.addTo%28map_9dc42913850e47429db37a208ebb3027%29%3B%0A%0A%20%20%20%20color_map_ae51c7f95640440288cf12bd629812cf.xAxis%20%3D%20d3.svg.axis%28%29%0A%20%20%20%20%20%20%20%20.scale%28color_map_ae51c7f95640440288cf12bd629812cf.x%29%0A%20%20%20%20%20%20%20%20.orient%28%22top%22%29%0A%20%20%20%20%20%20%20%20.tickSize%281%29%0A%20%20%20%20%20%20%20%20.tickValues%28%5B0.0%2C%20%27%27%2C%200.2%2C%20%27%27%2C%200.4%2C%20%27%27%2C%200.6%2C%20%27%27%2C%200.8%2C%20%27%27%2C%201.0%2C%20%27%27%5D%29%3B%0A%0A%20%20%20%20color_map_ae51c7f95640440288cf12bd629812cf.svg%20%3D%20d3.select%28%22.legend.leaflet-control%22%29.append%28%22svg%22%29%0A%20%20%20%20%20%20%20%20.attr%28%22id%22%2C%20%27legend%27%29%0A%20%20%20%20%20%20%20%20.attr%28%22width%22%2C%20450%29%0A%20%20%20%20%20%20%20%20.attr%28%22height%22%2C%2040%29%3B%0A%0A%20%20%20%20color_map_ae51c7f95640440288cf12bd629812cf.g%20%3D%20color_map_ae51c7f95640440288cf12bd629812cf.svg.append%28%22g%22%29%0A%20%20%20%20%20%20%20%20.attr%28%22class%22%2C%20%22key%22%29%0A%20%20%20%20%20%20%20%20.attr%28%22transform%22%2C%20%22translate%2825%2C16%29%22%29%3B%0A%0A%20%20%20%20color_map_ae51c7f95640440288cf12bd629812cf.g.selectAll%28%22rect%22%29%0A%20%20%20%20%20%20%20%20.data%28color_map_ae51c7f95640440288cf12bd629812cf.color.range%28%29.map%28function%28d%2C%20i%29%20%7B%0A%20%20%20%20%20%20%20%20%20%20return%20%7B%0A%20%20%20%20%20%20%20%20%20%20%20%20x0%3A%20i%20%3F%20color_map_ae51c7f95640440288cf12bd629812cf.x%28color_map_ae51c7f95640440288cf12bd629812cf.color.domain%28%29%5Bi%20-%201%5D%29%20%3A%20color_map_ae51c7f95640440288cf12bd629812cf.x.range%28%29%5B0%5D%2C%0A%20%20%20%20%20%20%20%20%20%20%20%20x1%3A%20i%20%3C%20color_map_ae51c7f95640440288cf12bd629812cf.color.domain%28%29.length%20%3F%20color_map_ae51c7f95640440288cf12bd629812cf.x%28color_map_ae51c7f95640440288cf12bd629812cf.color.domain%28%29%5Bi%5D%29%20%3A%20color_map_ae51c7f95640440288cf12bd629812cf.x.range%28%29%5B1%5D%2C%0A%20%20%20%20%20%20%20%20%20%20%20%20z%3A%20d%0A%20%20%20%20%20%20%20%20%20%20%7D%3B%0A%20%20%20%20%20%20%20%20%7D%29%29%0A%20%20%20%20%20%20.enter%28%29.append%28%22rect%22%29%0A%20%20%20%20%20%20%20%20.attr%28%22height%22%2C%2010%29%0A%20%20%20%20%20%20%20%20.attr%28%22x%22%2C%20function%28d%29%20%7B%20return%20d.x0%3B%20%7D%29%0A%20%20%20%20%20%20%20%20.attr%28%22width%22%2C%20function%28d%29%20%7B%20return%20d.x1%20-%20d.x0%3B%20%7D%29%0A%20%20%20%20%20%20%20%20.style%28%22fill%22%2C%20function%28d%29%20%7B%20return%20d.z%3B%20%7D%29%3B%0A%0A%20%20%20%20color_map_ae51c7f95640440288cf12bd629812cf.g.call%28color_map_ae51c7f95640440288cf12bd629812cf.xAxis%29.append%28%22text%22%29%0A%20%20%20%20%20%20%20%20.attr%28%22class%22%2C%20%22caption%22%29%0A%20%20%20%20%20%20%20%20.attr%28%22y%22%2C%2021%29%0A%20%20%20%20%20%20%20%20.text%28%27PRZ%20Score%27%29%3B%0A%20%20%20%20%0A%20%20%20%20%20%20%20%20%20%20%20%20var%20layer_control_1a709665d0464099bebd8426fe9a63eb%20%3D%20%7B%0A%20%20%20%20%20%20%20%20%20%20%20%20%20%20%20%20base_layers%20%3A%20%7B%0A%20%20%20%20%20%20%20%20%20%20%20%20%20%20%20%20%20%20%20%20%22openstreetmap%22%20%3A%20tile_layer_790046ed3bb54cbdb019730672d61bea%2C%0A%20%20%20%20%20%20%20%20%20%20%20%20%20%20%20%20%7D%2C%0A%20%20%20%20%20%20%20%20%20%20%20%20%20%20%20%20overlays%20%3A%20%20%7B%0A%20%20%20%20%20%20%20%20%20%20%20%20%20%20%20%20%20%20%20%20%22PRZ%20Score%22%20%3A%20tile_layer_3c78b414503a4db8826ed0f81ef1f1bb%2C%0A%20%20%20%20%20%20%20%20%20%20%20%20%20%20%20%20%7D%2C%0A%20%20%20%20%20%20%20%20%20%20%20%20%7D%3B%0A%20%20%20%20%20%20%20%20%20%20%20%20L.control.layers%28%0A%20%20%20%20%20%20%20%20%20%20%20%20%20%20%20%20layer_control_1a709665d0464099bebd8426fe9a63eb.base_layers%2C%0A%20%20%20%20%20%20%20%20%20%20%20%20%20%20%20%20layer_control_1a709665d0464099bebd8426fe9a63eb.overlays%2C%0A%20%20%20%20%20%20%20%20%20%20%20%20%20%20%20%20%7B%22autoZIndex%22%3A%20true%2C%20%22collapsed%22%3A%20true%2C%20%22position%22%3A%20%22topright%22%7D%0A%20%20%20%20%20%20%20%20%20%20%20%20%29.addTo%28map_9dc42913850e47429db37a208ebb3027%29%3B%0A%20%20%20%20%20%20%20%20%0A%3C/script%3E onload=\"this.contentDocument.open();this.contentDocument.write(    decodeURIComponent(this.getAttribute('data-html')));this.contentDocument.close();\" allowfullscreen webkitallowfullscreen mozallowfullscreen></iframe></div></div>"
      ],
      "text/plain": [
       "<folium.folium.Map at 0x7f9c79ce2340>"
      ]
     },
     "metadata": {},
     "output_type": "display_data"
    }
   ],
   "source": [
    "#creating the map, visualizing score\n",
    "\n",
    "\n",
    "the_map = vis.folium_map(location=[center_lat, center_lon], zoom_start=1, height=400)\n",
    "\n",
    "\n",
    "the_map.add_ee_layer(score_scaled, vis_params, name = 'PRZ Score')\n",
    "#the_map.add_ee_layer(MAR_swales.draw(color= '006600', pointRadius = 5, strokeWidth= 5), {}, name = 'MAR Swale locations')\n",
    "colormap.add_to(the_map)\n",
    "\n",
    "\n",
    "#the_map.add_ee_layer(oregon_scores, vis_params, name = 'Oregon Scores')\n",
    "#avail_porosity_masked = avail_porosity_img.updateMask(runoff_mask).updateMask(slope_mask)\n",
    "#the_map.add_ee_layer(score_2, vis_params, name = 'PRZ Score-2')\n",
    "#the_map.add_ee_layer(top_soils_scaled, vis_params, name = 'Top Soils')\n",
    "#the_map.add_ee_layer(avail_porosity_masked, vis_params_poros, name = 'Available Porosity')\n",
    "#the_map.add_ee_layer(runoff_img_masked, vis_params_runoff, name = 'Runoff')\n",
    "#the_map.add_ee_layer(slope_img_masked, vis_params_slope, name = 'Slope')\n",
    "#the_map.add_ee_layer(slope_img_scaled, vis_params, name = 'Slope')\n",
    "#the_map.add_ee_layer(top_soils_scaled, vis_params, name = 'Top Soils')\n",
    "\n",
    "vis.folium_display(the_map)\n",
    "\n"
   ]
  },
  {
   "cell_type": "code",
   "execution_count": null,
   "metadata": {},
   "outputs": [],
   "source": []
  },
  {
   "cell_type": "code",
   "execution_count": 224,
   "metadata": {},
   "outputs": [],
   "source": [
    "#Export map to GEE\n",
    "\n",
    "#collection_name = (\n",
    "#    'users/amgadellaboudy/Global_PRZ_Score')\n",
    "#score_asset = ee.data.createAsset({'type': 'ImageCollection'}, collection_name)\n",
    "\n",
    "#xx = ee.batch.Export.image.toAsset(\n",
    " #   score, \n",
    " #   assetId = score_asset['id'] + '_collection', \n",
    " #   region = bbox_global,\n",
    "  #  maxPixels = 100000000000).start()"
   ]
  },
  {
   "cell_type": "code",
   "execution_count": 225,
   "metadata": {},
   "outputs": [],
   "source": [
    "#xx1 = ee.batch.Export.image.toDrive(\n",
    "  # runoff_img_scaled, \n",
    "  #  folder = 'Desktop/',\n",
    "   # region = common.bboxes()['conus'],\n",
    "   # maxPixels = 100000000000).start()"
   ]
  },
  {
   "cell_type": "code",
   "execution_count": 226,
   "metadata": {},
   "outputs": [],
   "source": [
    "#xx2= ee.batch.Export.image.toDrive(\n",
    "  #  slope_mask, \n",
    "   # description = 'slope',\n",
    "   # region = common.bboxes()['conus'],\n",
    "   # maxPixels = 100000000000).start()"
   ]
  },
  {
   "cell_type": "code",
   "execution_count": 227,
   "metadata": {},
   "outputs": [],
   "source": [
    "#xx3= ee.batch.Export.image.toDrive(\n",
    "  #  top_soils_scaled, \n",
    "  #  description = 'top soils',\n",
    "  #  region = common.bboxes()['conus'],\n",
    "  #  maxPixels = 100000000000).start()\n",
    "\n",
    "#xx4= ee.batch.Export.image.toDrive(\n",
    "  #  bottom_soils_scaled, \n",
    "  #  description = 'bottom soils',\n",
    "   # region = common.bboxes()['conus'],\n",
    "   # maxPixels = 100000000000).start()"
   ]
  },
  {
   "cell_type": "code",
   "execution_count": null,
   "metadata": {},
   "outputs": [],
   "source": []
  }
 ],
 "metadata": {
  "kernelspec": {
   "display_name": "Python 3",
   "language": "python",
   "name": "python3"
  },
  "language_info": {
   "codemirror_mode": {
    "name": "ipython",
    "version": 3
   },
   "file_extension": ".py",
   "mimetype": "text/x-python",
   "name": "python",
   "nbconvert_exporter": "python",
   "pygments_lexer": "ipython3",
   "version": "3.8.5"
  }
 },
 "nbformat": 4,
 "nbformat_minor": 4
}
