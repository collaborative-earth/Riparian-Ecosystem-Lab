{
 "cells": [
  {
   "cell_type": "code",
   "execution_count": 260,
   "metadata": {},
   "outputs": [],
   "source": [
    "import ee\n",
    "import numpy as np\n",
    "import pandas as pd\n",
    "\n",
    "from earthshot import mon_stats\n",
    "from earthshot import water_viz as vis\n",
    "from earthshot import normalize as norm\n",
    "from earthshot import water_common as common\n",
    "from statistics import mean\n",
    "\n",
    "import geemap.eefolium as geemap\n",
    "import folium\n",
    "from folium import plugins\n",
    "\n",
    "import matplotlib.pyplot as plt\n",
    "%matplotlib inline"
   ]
  },
  {
   "cell_type": "code",
   "execution_count": 261,
   "metadata": {},
   "outputs": [],
   "source": [
    "ee.Initialize()"
   ]
  },
  {
   "cell_type": "code",
   "execution_count": 262,
   "metadata": {},
   "outputs": [],
   "source": [
    "def NDWI_func(image):\n",
    "    date_img = image.get('system:time_start')\n",
    "    NDWI = ((image.select('B4')).subtract(image.select('B6')).subtract(image.select('B7'))).divide((image.select('B4')).add(image.select('B6')).add(image.select('B7')))\n",
    "    NDWI = NDWI.set({'system:time_start': date_img}).rename('NDWI')\n",
    "    return NDWI"
   ]
  },
  {
   "cell_type": "code",
   "execution_count": 263,
   "metadata": {},
   "outputs": [],
   "source": [
    "Landsat_1 = ee.ImageCollection('LANDSAT/LM01/C01/T1').filterDate('1972-07-23', '1975-01-21').map(NDWI_func)\n",
    "Landsat_2 = ee.ImageCollection('LANDSAT/LM02/C01/T1').filterDate('1975-01-22', '1978-03-04').map(NDWI_func)\n",
    "Landsat_3 = ee.ImageCollection('LANDSAT/LM03/C01/T1').filterDate('1978-03-05', '1982-07-15').map(NDWI_func)\n",
    "Landsat_4 = ee.ImageCollection(\"LANDSAT/LT04/C01/T1_8DAY_NDWI\").filterDate('1982-07-16', '1984-02-29').select('NDWI')\n",
    "Landsat_5 = ee.ImageCollection('LANDSAT/LT05/C01/T1_8DAY_NDWI').filterDate('1984-03-01', '1998-12-31').select('NDWI')\n",
    "Landsat_7 = ee.ImageCollection('LANDSAT/LE07/C01/T1_8DAY_NDWI').filterDate('1999-01-01', '2013-03-31').select('NDWI')\n",
    "Landsat_8 = ee.ImageCollection('LANDSAT/LC08/C01/T1_8DAY_NDWI').filterDate('2013-04-01', '2021-05-31').select('NDWI')\n"
   ]
  },
  {
   "cell_type": "code",
   "execution_count": 264,
   "metadata": {},
   "outputs": [],
   "source": [
    "NDWI_data = Landsat_1.merge(Landsat_2).merge(Landsat_3).merge(Landsat_4).merge(Landsat_5).merge(Landsat_7).merge(Landsat_8)"
   ]
  },
  {
   "cell_type": "code",
   "execution_count": 265,
   "metadata": {},
   "outputs": [],
   "source": [
    "#NDWI_mean = NDWI_data.mean()"
   ]
  },
  {
   "cell_type": "code",
   "execution_count": 349,
   "metadata": {},
   "outputs": [
    {
     "name": "stdout",
     "output_type": "stream",
     "text": [
      "2646\n"
     ]
    }
   ],
   "source": [
    "dam_projects = ee.FeatureCollection('users/amgadellaboudy/GRanD_dam_data')\n",
    "\n",
    "#MAR_projects = ee.FeatureCollection('users/amgadellaboudy/dam_data').filter(ee.Filter.lte('DAM_ID', 1005000))\n",
    "#MAR_feat = NDVI.sampleRegions(collection = dam_projects, scale = 100, tileScale = 16, geometries = True)\n",
    "#MAR_feat = NDVI.reduceRegions(collection = dam_projects, reducer = ee.Reducer.mean(), scale = 100, tileScale = 10)\n",
    "MAR_filtered = dam_projects.filter('YEAR > 1972').filter('YEAR < 2021')\n",
    "\n",
    "print(MAR_filtered.size().getInfo())"
   ]
  },
  {
   "cell_type": "code",
   "execution_count": 350,
   "metadata": {},
   "outputs": [],
   "source": [
    "NDWI_years = ee.ImageCollection('users/amgadellaboudy/EVI_year')\n",
    "NDWI_2020 = (NDWI_data.filter(ee.Filter.date('2020-01-01', '2020-12-31')).reduce(ee.Reducer.mean()))\n",
    "\n",
    "for i in range(1973,2020):\n",
    "    NDWI_image = NDWI_data.filter(ee.Filter.date(('{}-01-01'.format(i)), ('{}-12-31'.format(i)))).reduce(ee.Reducer.mean()) #Take moisture index for given year, average values into one image\n",
    "    NDWI_diff = (NDWI_2020.subtract(NDWI_image)).set({'YEAR': i}) #Store NDWI difference into image, set year as property\n",
    "    NDWI_years = NDWI_years.merge(NDWI_diff) #Collect into image collection"
   ]
  },
  {
   "cell_type": "code",
   "execution_count": null,
   "metadata": {},
   "outputs": [],
   "source": []
  },
  {
   "cell_type": "code",
   "execution_count": 351,
   "metadata": {},
   "outputs": [],
   "source": [
    "MAR_1973 = MAR_filtered.filter(ee.Filter.eq('YEAR', 1973))  #Initialize MAR Feature Collection for year 1973\n",
    "NDWI_1973 = NDWI_years.filter(ee.Filter.eq('YEAR', 1973)).first() #Take image for NDVI diff for 1973\n",
    "NDWI_1973_feat = NDWI_1973.sampleRegions(collection = MAR_1973, properties = ['YEAR'], scale = 100, tileScale = 16, geometries = True) #Initiate image collection for EVI diff at MAR locations\n",
    "\n",
    "for i in range(1974,2020):\n",
    "    MAR_year = MAR_filtered.filter(ee.Filter.eq('YEAR', i))\n",
    "    NDWI_set = NDWI_years.filter(ee.Filter.eq('YEAR', i)).first()\n",
    "    NDWI_feat = NDWI_set.sampleRegions(collection = MAR_year, properties = ['YEAR'], scale = 100, tileScale = 16, geometries = True)\n",
    "    NDWI_1973_feat = NDWI_1973_feat.merge(NDWI_feat)"
   ]
  },
  {
   "cell_type": "code",
   "execution_count": 353,
   "metadata": {},
   "outputs": [],
   "source": [
    "def success(feature):\n",
    "    success_feat = feature.set({'Success': 1})\n",
    "    return success_feat\n",
    "\n",
    "def fail(feature):\n",
    "    fail_feat = feature.set({'Success': 0})\n",
    "    return fail_feat\n",
    "\n",
    "NDWI_success = NDWI_1973_feat.filter(ee.Filter.gt('NDWI_mean', 0)).map(success)\n",
    "NDWI_fail = NDWI_1973_feat.filter(ee.Filter.lte('NDWI_mean', 0)).map(fail)\n",
    "NDWI_data_feat = NDWI_success.merge(NDWI_fail)"
   ]
  },
  {
   "cell_type": "markdown",
   "metadata": {},
   "source": [
    "def success(feature):\n",
    "    success_feat = feature.set({'Success': 1})\n",
    "    return success_feat\n",
    "\n",
    "def fail(feature):\n",
    "    fail_feat = feature.set({'Success': 0})\n",
    "    return fail_feat\n",
    "\n",
    "dam_success = MAR_feat.filter(ee.Filter.gt('ndvi', 0.5)).map(success)\n",
    "dam_fail = MAR_feat.filter(ee.Filter.lte('ndvi', 0.5)).map(fail)\n",
    "dam_feat = dam_success.merge(dam_fail)\n",
    "\n",
    "#print(NDWI_success.size().getInfo())"
   ]
  },
  {
   "cell_type": "code",
   "execution_count": 1,
   "metadata": {},
   "outputs": [
    {
     "ename": "NameError",
     "evalue": "name 'ee' is not defined",
     "output_type": "error",
     "traceback": [
      "\u001b[0;31m---------------------------------------------------------------------------\u001b[0m",
      "\u001b[0;31mNameError\u001b[0m                                 Traceback (most recent call last)",
      "\u001b[0;32m<ipython-input-1-86ebb5c3a83e>\u001b[0m in \u001b[0;36m<module>\u001b[0;34m\u001b[0m\n\u001b[1;32m      1\u001b[0m \u001b[0;31m#Import variables in (Slope, Porosity, Runoff, Soil Types, Annual Precipitation, water accumulation)\u001b[0m\u001b[0;34m\u001b[0m\u001b[0;34m\u001b[0m\u001b[0;34m\u001b[0m\u001b[0m\n\u001b[0;32m----> 2\u001b[0;31m \u001b[0mslope_img\u001b[0m \u001b[0;34m=\u001b[0m \u001b[0mee\u001b[0m\u001b[0;34m.\u001b[0m\u001b[0mImage\u001b[0m\u001b[0;34m(\u001b[0m\u001b[0;34m'users/jamesmcc/merit_slope/merit_terrain_slope'\u001b[0m\u001b[0;34m)\u001b[0m\u001b[0;34m\u001b[0m\u001b[0;34m\u001b[0m\u001b[0m\n\u001b[0m\u001b[1;32m      3\u001b[0m \u001b[0;31m#Scale = 90 m\u001b[0m\u001b[0;34m\u001b[0m\u001b[0;34m\u001b[0m\u001b[0;34m\u001b[0m\u001b[0m\n\u001b[1;32m      4\u001b[0m \u001b[0;34m\u001b[0m\u001b[0m\n\u001b[1;32m      5\u001b[0m \u001b[0msmap_usda_clim\u001b[0m \u001b[0;34m=\u001b[0m \u001b[0mee\u001b[0m\u001b[0;34m.\u001b[0m\u001b[0mImageCollection\u001b[0m\u001b[0;34m(\u001b[0m\u001b[0;34m'users/jamesmcc/smap_usda_climatology'\u001b[0m\u001b[0;34m)\u001b[0m\u001b[0;34m\u001b[0m\u001b[0;34m\u001b[0m\u001b[0m\n",
      "\u001b[0;31mNameError\u001b[0m: name 'ee' is not defined"
     ]
    }
   ],
   "source": [
    "#Import variables in (Slope, Porosity, Runoff, Soil Types, Annual Precipitation, water accumulation)\n",
    "slope_img = ee.Image('users/jamesmcc/merit_slope/merit_terrain_slope')\n",
    "#Scale = 90 m\n",
    "\n",
    "smap_usda_clim = ee.ImageCollection('users/jamesmcc/smap_usda_climatology')\n",
    "avail_porosity = (smap_usda_clim\n",
    "                  .filter(ee.Filter.eq('band', 'avail_porosity_mm')))\n",
    "avail_porosity_img = avail_porosity.sum()\n",
    "\n",
    "runoff_clim = ee.ImageCollection(\"ECMWF/ERA5_LAND/MONTHLY\").select('surface_runoff')\n",
    "runoff_clim_m = mon_stats.bands_avgs(['surface_runoff'], runoff_clim)\n",
    "runoff_img = ee.ImageCollection(runoff_clim_m['avgs'].get('surface_runoff')).sum().multiply(720)\n",
    "\n",
    "precip_clim = ee.Image(\"OpenLandMap/CLM/CLM_PRECIPITATION_SM2RAIN_M/v01\")\n",
    "precip_img = precip_clim.reduce('sum')\n",
    "#https://developers.google.com/earth-engine/datasets/catalog/OpenLandMap_CLM_CLM_PRECIPITATION_SM2RAIN_M_v01#bands\n",
    "#Scale = 1 km\n",
    "\n",
    "soil_types = ee.Image(\"OpenLandMap/SOL/SOL_TEXTURE-CLASS_USDA-TT_M/v02\")\n",
    "\n",
    "top_soils = soil_types.expression('soil_0 + soil_10 + soil_30',\n",
    "                             {'soil_0': soil_types.select('b0'),\n",
    "                             'soil_10': soil_types.select('b10'),\n",
    "                             'soil_30': soil_types.select('b30')})\n",
    "\n",
    "bottom_soils = soil_types.expression('soil_60 + soil_100 + soil_200',\n",
    "                                 {'soil_60': soil_types.select('b60'),\n",
    "                                  'soil_100': soil_types.select('b100'),\n",
    "                                  'soil_200': soil_types.select('b200')})\n",
    "\n",
    "\n",
    "\n",
    "water_img = ee.Image(\"MERIT/Hydro/v1_0_1\").select('upa')\n",
    "#https://developers.google.com/earth-engine/datasets/catalog/MERIT_Hydro_v1_0_1#bands\n",
    "#Scale = 90 m\n",
    "\n",
    "#Measure of water accumulation: https://developers.google.com/earth-engine/datasets/catalog/WWF_HydroSHEDS_15ACC\n",
    "#Scale = 462 m\n",
    "\n"
   ]
  },
  {
   "cell_type": "code",
   "execution_count": 355,
   "metadata": {},
   "outputs": [
    {
     "name": "stdout",
     "output_type": "stream",
     "text": [
      "['slope', 'upa', 'surface_runoff', 'b0', 'discrete_classification', 'b60']\n"
     ]
    }
   ],
   "source": [
    "#Collect images into one image, convert into feature collection that includes location and type of MAR interventions\n",
    "\n",
    "img_1 = slope_img.addBands(water_img)\n",
    "img_2 = img_1.addBands(runoff_img)\n",
    "img_3 = img_2.addBands(top_soils)\n",
    "img_4 = img_3.addBands(land_use)\n",
    "training_img = img_4.addBands(bottom_soils)\n",
    "\n",
    "print(training_img.bandNames().getInfo())"
   ]
  },
  {
   "cell_type": "code",
   "execution_count": 433,
   "metadata": {},
   "outputs": [],
   "source": [
    "target = 'Success'\n",
    "bands = ['slope', 'upa', 'surface_runoff', 'b0', 'discrete_classification', 'b60']\n",
    "\n",
    "#training = training_img.sampleRegions(collection= NDWI_data_feat, properties = [target], scale = 500, geometries = True)\n",
    "training = training_img.sampleRegions(collection= NDWI_data_feat, scale = 100, tileScale = 16, geometries = True)"
   ]
  },
  {
   "cell_type": "markdown",
   "metadata": {},
   "source": [
    "xx = ee.batch.Export.table.toAsset(training,\n",
    "                                   assetId= 'users/amgadellaboudy/Training_table_GrAND',\n",
    "                                   description = 'Table_Task' ).start()"
   ]
  },
  {
   "cell_type": "code",
   "execution_count": 434,
   "metadata": {},
   "outputs": [],
   "source": [
    "training = ee.FeatureCollection('users/amgadellaboudy/Training_table_GrAND')"
   ]
  },
  {
   "cell_type": "code",
   "execution_count": 435,
   "metadata": {},
   "outputs": [],
   "source": [
    "#Test/ validation split, fit classifier for training data\n",
    "\n",
    "split = 0.7\n",
    "training = training.randomColumn()\n",
    "\n",
    "training_split = training.filter(ee.Filter.lt('random', split))\n",
    "validation_split = training.filter(ee.Filter.gte('random', split))\n",
    "\n",
    "classifier = ee.Classifier.smileGradientTreeBoost(2000).train(features= training_split, classProperty= target, inputProperties = bands)"
   ]
  },
  {
   "cell_type": "code",
   "execution_count": 436,
   "metadata": {},
   "outputs": [],
   "source": [
    "#Create predicted MAR intervention image and validation data\n",
    "\n",
    "classified = training_split.classify(classifier)\n",
    "validated = validation_split.classify(classifier)"
   ]
  },
  {
   "cell_type": "code",
   "execution_count": 437,
   "metadata": {},
   "outputs": [
    {
     "name": "stdout",
     "output_type": "stream",
     "text": [
      "Resubstitution error matrix:  [[134, 0], [0, 338]]\n",
      "Training overall accuracy:  1\n"
     ]
    }
   ],
   "source": [
    "#Training accuracy\n",
    "\n",
    "trainAccuracy = classified.errorMatrix('Success', 'classification')\n",
    "print('Resubstitution error matrix: ', trainAccuracy.getInfo())\n",
    "print('Training overall accuracy: ', trainAccuracy.accuracy().getInfo())"
   ]
  },
  {
   "cell_type": "code",
   "execution_count": 438,
   "metadata": {},
   "outputs": [
    {
     "name": "stdout",
     "output_type": "stream",
     "text": [
      "Validation error matrix:  [[11, 41], [21, 122]]\n",
      "Validation overall accuracy:  0.6820512820512821\n"
     ]
    }
   ],
   "source": [
    "#Validation accuracy\n",
    "\n",
    "validationAccuracy = validated.errorMatrix('Success', 'classification')\n",
    "print('Validation error matrix: ', validationAccuracy.getInfo())\n",
    "print('Validation overall accuracy: ', validationAccuracy.accuracy().getInfo())"
   ]
  },
  {
   "cell_type": "code",
   "execution_count": 439,
   "metadata": {},
   "outputs": [],
   "source": [
    "classified_img = training_img.classify(classifier)"
   ]
  },
  {
   "cell_type": "code",
   "execution_count": null,
   "metadata": {},
   "outputs": [],
   "source": []
  },
  {
   "cell_type": "code",
   "execution_count": null,
   "metadata": {},
   "outputs": [],
   "source": []
  },
  {
   "cell_type": "code",
   "execution_count": 440,
   "metadata": {},
   "outputs": [],
   "source": [
    "#NDVI_image = NDVI_data.filter(ee.Filter.date('2000-01-01', '2000-12-31')).reduce(ee.Reducer.mean()) #Take vegetation index for given year, average values into one image\n",
    "#NDVI_diff = (NDVI_2020.subtract(NDVI_image)) #Store NDVI difference into image, set year as property"
   ]
  },
  {
   "cell_type": "code",
   "execution_count": 441,
   "metadata": {},
   "outputs": [
    {
     "data": {
      "text/html": [
       "<div style=\"width:100%;\"><div style=\"position:relative;width:100%;height:0;padding-bottom:60%;\"><span style=\"color:#565656\">Make this Notebook Trusted to load map: File -> Trust Notebook</span><iframe src=\"about:blank\" style=\"position:absolute;width:100%;height:100%;left:0;top:0;border:none !important;\" data-html=%3C%21DOCTYPE%20html%3E%0A%3Chead%3E%20%20%20%20%0A%20%20%20%20%3Cmeta%20http-equiv%3D%22content-type%22%20content%3D%22text/html%3B%20charset%3DUTF-8%22%20/%3E%0A%20%20%20%20%0A%20%20%20%20%20%20%20%20%3Cscript%3E%0A%20%20%20%20%20%20%20%20%20%20%20%20L_NO_TOUCH%20%3D%20false%3B%0A%20%20%20%20%20%20%20%20%20%20%20%20L_DISABLE_3D%20%3D%20false%3B%0A%20%20%20%20%20%20%20%20%3C/script%3E%0A%20%20%20%20%0A%20%20%20%20%3Cstyle%3Ehtml%2C%20body%20%7Bwidth%3A%20100%25%3Bheight%3A%20100%25%3Bmargin%3A%200%3Bpadding%3A%200%3B%7D%3C/style%3E%0A%20%20%20%20%3Cstyle%3E%23map%20%7Bposition%3Aabsolute%3Btop%3A0%3Bbottom%3A0%3Bright%3A0%3Bleft%3A0%3B%7D%3C/style%3E%0A%20%20%20%20%3Cscript%20src%3D%22https%3A//cdn.jsdelivr.net/npm/leaflet%401.6.0/dist/leaflet.js%22%3E%3C/script%3E%0A%20%20%20%20%3Cscript%20src%3D%22https%3A//code.jquery.com/jquery-1.12.4.min.js%22%3E%3C/script%3E%0A%20%20%20%20%3Cscript%20src%3D%22https%3A//maxcdn.bootstrapcdn.com/bootstrap/3.2.0/js/bootstrap.min.js%22%3E%3C/script%3E%0A%20%20%20%20%3Cscript%20src%3D%22https%3A//cdnjs.cloudflare.com/ajax/libs/Leaflet.awesome-markers/2.0.2/leaflet.awesome-markers.js%22%3E%3C/script%3E%0A%20%20%20%20%3Clink%20rel%3D%22stylesheet%22%20href%3D%22https%3A//cdn.jsdelivr.net/npm/leaflet%401.6.0/dist/leaflet.css%22/%3E%0A%20%20%20%20%3Clink%20rel%3D%22stylesheet%22%20href%3D%22https%3A//maxcdn.bootstrapcdn.com/bootstrap/3.2.0/css/bootstrap.min.css%22/%3E%0A%20%20%20%20%3Clink%20rel%3D%22stylesheet%22%20href%3D%22https%3A//maxcdn.bootstrapcdn.com/bootstrap/3.2.0/css/bootstrap-theme.min.css%22/%3E%0A%20%20%20%20%3Clink%20rel%3D%22stylesheet%22%20href%3D%22https%3A//maxcdn.bootstrapcdn.com/font-awesome/4.6.3/css/font-awesome.min.css%22/%3E%0A%20%20%20%20%3Clink%20rel%3D%22stylesheet%22%20href%3D%22https%3A//cdnjs.cloudflare.com/ajax/libs/Leaflet.awesome-markers/2.0.2/leaflet.awesome-markers.css%22/%3E%0A%20%20%20%20%3Clink%20rel%3D%22stylesheet%22%20href%3D%22https%3A//cdn.jsdelivr.net/gh/python-visualization/folium/folium/templates/leaflet.awesome.rotate.min.css%22/%3E%0A%20%20%20%20%0A%20%20%20%20%20%20%20%20%20%20%20%20%3Cmeta%20name%3D%22viewport%22%20content%3D%22width%3Ddevice-width%2C%0A%20%20%20%20%20%20%20%20%20%20%20%20%20%20%20%20initial-scale%3D1.0%2C%20maximum-scale%3D1.0%2C%20user-scalable%3Dno%22%20/%3E%0A%20%20%20%20%20%20%20%20%20%20%20%20%3Cstyle%3E%0A%20%20%20%20%20%20%20%20%20%20%20%20%20%20%20%20%23map_a9e7afd9c6ca4ce7bccc19a9ea76fd5c%20%7B%0A%20%20%20%20%20%20%20%20%20%20%20%20%20%20%20%20%20%20%20%20position%3A%20relative%3B%0A%20%20%20%20%20%20%20%20%20%20%20%20%20%20%20%20%20%20%20%20width%3A%20100.0%25%3B%0A%20%20%20%20%20%20%20%20%20%20%20%20%20%20%20%20%20%20%20%20height%3A%20100.0%25%3B%0A%20%20%20%20%20%20%20%20%20%20%20%20%20%20%20%20%20%20%20%20left%3A%200.0%25%3B%0A%20%20%20%20%20%20%20%20%20%20%20%20%20%20%20%20%20%20%20%20top%3A%200.0%25%3B%0A%20%20%20%20%20%20%20%20%20%20%20%20%20%20%20%20%7D%0A%20%20%20%20%20%20%20%20%20%20%20%20%3C/style%3E%0A%20%20%20%20%20%20%20%20%0A%20%20%20%20%3Cscript%20src%3D%22https%3A//cdnjs.cloudflare.com/ajax/libs/leaflet.fullscreen/1.4.2/Control.FullScreen.min.js%22%3E%3C/script%3E%0A%20%20%20%20%3Clink%20rel%3D%22stylesheet%22%20href%3D%22https%3A//cdnjs.cloudflare.com/ajax/libs/leaflet.fullscreen/1.4.2/Control.FullScreen.min.css%22/%3E%0A%3C/head%3E%0A%3Cbody%3E%20%20%20%20%0A%20%20%20%20%0A%20%20%20%20%20%20%20%20%20%20%20%20%3Cdiv%20class%3D%22folium-map%22%20id%3D%22map_a9e7afd9c6ca4ce7bccc19a9ea76fd5c%22%20%3E%3C/div%3E%0A%20%20%20%20%20%20%20%20%0A%3C/body%3E%0A%3Cscript%3E%20%20%20%20%0A%20%20%20%20%0A%20%20%20%20%20%20%20%20%20%20%20%20var%20map_a9e7afd9c6ca4ce7bccc19a9ea76fd5c%20%3D%20L.map%28%0A%20%20%20%20%20%20%20%20%20%20%20%20%20%20%20%20%22map_a9e7afd9c6ca4ce7bccc19a9ea76fd5c%22%2C%0A%20%20%20%20%20%20%20%20%20%20%20%20%20%20%20%20%7B%0A%20%20%20%20%20%20%20%20%20%20%20%20%20%20%20%20%20%20%20%20center%3A%20%5B40.0%2C%20-100.0%5D%2C%0A%20%20%20%20%20%20%20%20%20%20%20%20%20%20%20%20%20%20%20%20crs%3A%20L.CRS.EPSG3857%2C%0A%20%20%20%20%20%20%20%20%20%20%20%20%20%20%20%20%20%20%20%20zoom%3A%204%2C%0A%20%20%20%20%20%20%20%20%20%20%20%20%20%20%20%20%20%20%20%20zoomControl%3A%20true%2C%0A%20%20%20%20%20%20%20%20%20%20%20%20%20%20%20%20%20%20%20%20preferCanvas%3A%20false%2C%0A%20%20%20%20%20%20%20%20%20%20%20%20%20%20%20%20%20%20%20%20eeInitialize%3A%20true%2C%0A%20%20%20%20%20%20%20%20%20%20%20%20%20%20%20%20%20%20%20%20addGoogleMap%3A%20true%2C%0A%20%20%20%20%20%20%20%20%20%20%20%20%20%20%20%20%20%20%20%20pluginLatlngpopup%3A%20true%2C%0A%20%20%20%20%20%20%20%20%20%20%20%20%20%20%20%20%20%20%20%20pluginFullscreen%3A%20true%2C%0A%20%20%20%20%20%20%20%20%20%20%20%20%20%20%20%20%20%20%20%20pluginDraw%3A%20false%2C%0A%20%20%20%20%20%20%20%20%20%20%20%20%20%20%20%20%20%20%20%20DrawExport%3A%20true%2C%0A%20%20%20%20%20%20%20%20%20%20%20%20%20%20%20%20%20%20%20%20pluginMinimap%3A%20false%2C%0A%20%20%20%20%20%20%20%20%20%20%20%20%20%20%20%20%20%20%20%20pluginLayercontrol%3A%20false%2C%0A%20%20%20%20%20%20%20%20%20%20%20%20%20%20%20%20%7D%0A%20%20%20%20%20%20%20%20%20%20%20%20%29%3B%0A%0A%20%20%20%20%20%20%20%20%20%20%20%20%0A%0A%20%20%20%20%20%20%20%20%0A%20%20%20%20%0A%20%20%20%20%20%20%20%20%20%20%20%20var%20tile_layer_2eb6d053357b4b6f88997b24c9cc6170%20%3D%20L.tileLayer%28%0A%20%20%20%20%20%20%20%20%20%20%20%20%20%20%20%20%22https%3A//%7Bs%7D.tile.openstreetmap.org/%7Bz%7D/%7Bx%7D/%7By%7D.png%22%2C%0A%20%20%20%20%20%20%20%20%20%20%20%20%20%20%20%20%7B%22attribution%22%3A%20%22Data%20by%20%5Cu0026copy%3B%20%5Cu003ca%20href%3D%5C%22http%3A//openstreetmap.org%5C%22%5Cu003eOpenStreetMap%5Cu003c/a%5Cu003e%2C%20under%20%5Cu003ca%20href%3D%5C%22http%3A//www.openstreetmap.org/copyright%5C%22%5Cu003eODbL%5Cu003c/a%5Cu003e.%22%2C%20%22detectRetina%22%3A%20false%2C%20%22maxNativeZoom%22%3A%2018%2C%20%22maxZoom%22%3A%2018%2C%20%22minZoom%22%3A%200%2C%20%22noWrap%22%3A%20false%2C%20%22opacity%22%3A%201%2C%20%22subdomains%22%3A%20%22abc%22%2C%20%22tms%22%3A%20false%7D%0A%20%20%20%20%20%20%20%20%20%20%20%20%29.addTo%28map_a9e7afd9c6ca4ce7bccc19a9ea76fd5c%29%3B%0A%20%20%20%20%20%20%20%20%0A%20%20%20%20%0A%20%20%20%20%20%20%20%20%20%20%20%20var%20tile_layer_235c2ace99cb4bce8e3510c2b9a1d47d%20%3D%20L.tileLayer%28%0A%20%20%20%20%20%20%20%20%20%20%20%20%20%20%20%20%22https%3A//mt1.google.com/vt/lyrs%3Dm%5Cu0026x%3D%7Bx%7D%5Cu0026y%3D%7By%7D%5Cu0026z%3D%7Bz%7D%22%2C%0A%20%20%20%20%20%20%20%20%20%20%20%20%20%20%20%20%7B%22attribution%22%3A%20%22Google%22%2C%20%22detectRetina%22%3A%20false%2C%20%22maxNativeZoom%22%3A%2018%2C%20%22maxZoom%22%3A%2018%2C%20%22minZoom%22%3A%200%2C%20%22noWrap%22%3A%20false%2C%20%22opacity%22%3A%201%2C%20%22subdomains%22%3A%20%22abc%22%2C%20%22tms%22%3A%20false%7D%0A%20%20%20%20%20%20%20%20%20%20%20%20%29.addTo%28map_a9e7afd9c6ca4ce7bccc19a9ea76fd5c%29%3B%0A%20%20%20%20%20%20%20%20%0A%20%20%20%20%0A%20%20%20%20%20%20%20%20%20%20%20%20%20%20%20%20var%20lat_lng_popup_113caee48fe44689a6ee63b01f2bfafd%20%3D%20L.popup%28%29%3B%0A%20%20%20%20%20%20%20%20%20%20%20%20%20%20%20%20function%20latLngPop%28e%29%20%7B%0A%20%20%20%20%20%20%20%20%20%20%20%20%20%20%20%20%20%20%20%20lat_lng_popup_113caee48fe44689a6ee63b01f2bfafd%0A%20%20%20%20%20%20%20%20%20%20%20%20%20%20%20%20%20%20%20%20%20%20%20%20.setLatLng%28e.latlng%29%0A%20%20%20%20%20%20%20%20%20%20%20%20%20%20%20%20%20%20%20%20%20%20%20%20.setContent%28%22Latitude%3A%20%22%20%2B%20e.latlng.lat.toFixed%284%29%20%2B%0A%20%20%20%20%20%20%20%20%20%20%20%20%20%20%20%20%20%20%20%20%20%20%20%20%20%20%20%20%20%20%20%20%20%20%20%20%22%3Cbr%3ELongitude%3A%20%22%20%2B%20e.latlng.lng.toFixed%284%29%29%0A%20%20%20%20%20%20%20%20%20%20%20%20%20%20%20%20%20%20%20%20%20%20%20%20.openOn%28map_a9e7afd9c6ca4ce7bccc19a9ea76fd5c%29%3B%0A%20%20%20%20%20%20%20%20%20%20%20%20%20%20%20%20%20%20%20%20%7D%0A%20%20%20%20%20%20%20%20%20%20%20%20%20%20%20%20map_a9e7afd9c6ca4ce7bccc19a9ea76fd5c.on%28%27click%27%2C%20latLngPop%29%3B%0A%20%20%20%20%20%20%20%20%20%20%20%20%0A%20%20%20%20%0A%20%20%20%20%20%20%20%20%20%20%20%20L.control.fullscreen%28%0A%20%20%20%20%20%20%20%20%20%20%20%20%20%20%20%20%7B%22forceSeparateButton%22%3A%20false%2C%20%22position%22%3A%20%22topleft%22%2C%20%22title%22%3A%20%22Full%20Screen%22%2C%20%22titleCancel%22%3A%20%22Exit%20Full%20Screen%22%7D%0A%20%20%20%20%20%20%20%20%20%20%20%20%29.addTo%28map_a9e7afd9c6ca4ce7bccc19a9ea76fd5c%29%3B%0A%20%20%20%20%20%20%20%20%0A%20%20%20%20%0A%20%20%20%20%20%20%20%20%20%20%20%20map_a9e7afd9c6ca4ce7bccc19a9ea76fd5c.fitBounds%28%0A%20%20%20%20%20%20%20%20%20%20%20%20%20%20%20%20%5B%5B40%2C%20-100%5D%2C%20%5B40%2C%20-100%5D%5D%2C%0A%20%20%20%20%20%20%20%20%20%20%20%20%20%20%20%20%7B%22maxZoom%22%3A%204%7D%0A%20%20%20%20%20%20%20%20%20%20%20%20%29%3B%0A%20%20%20%20%20%20%20%20%0A%20%20%20%20%0A%20%20%20%20%20%20%20%20%20%20%20%20var%20tile_layer_593ec923df1a42c9bb3380df9943aa8a%20%3D%20L.tileLayer%28%0A%20%20%20%20%20%20%20%20%20%20%20%20%20%20%20%20%22https%3A//earthengine.googleapis.com/v1alpha/projects/earthengine-legacy/maps/b3ebc30f7cddbfd3d25c2effbb39d94a-6ea177ac28d4e6bbbf521351b058f69c/tiles/%7Bz%7D/%7Bx%7D/%7By%7D%22%2C%0A%20%20%20%20%20%20%20%20%20%20%20%20%20%20%20%20%7B%22attribution%22%3A%20%22Google%20Earth%20Engine%22%2C%20%22detectRetina%22%3A%20false%2C%20%22maxNativeZoom%22%3A%2018%2C%20%22maxZoom%22%3A%2018%2C%20%22minZoom%22%3A%200%2C%20%22noWrap%22%3A%20false%2C%20%22opacity%22%3A%201.0%2C%20%22subdomains%22%3A%20%22abc%22%2C%20%22tms%22%3A%20false%7D%0A%20%20%20%20%20%20%20%20%20%20%20%20%29.addTo%28map_a9e7afd9c6ca4ce7bccc19a9ea76fd5c%29%3B%0A%20%20%20%20%20%20%20%20%0A%20%20%20%20%0A%20%20%20%20%20%20%20%20%20%20%20%20var%20tile_layer_41c5bfb8d6d34136b1855aae75de42e9%20%3D%20L.tileLayer%28%0A%20%20%20%20%20%20%20%20%20%20%20%20%20%20%20%20%22https%3A//earthengine.googleapis.com/v1alpha/projects/earthengine-legacy/maps/5253140dada49e2eea0583588a0eb2de-a27fe56c92e83d48dd69c1cbad70df3e/tiles/%7Bz%7D/%7Bx%7D/%7By%7D%22%2C%0A%20%20%20%20%20%20%20%20%20%20%20%20%20%20%20%20%7B%22attribution%22%3A%20%22Google%20Earth%20Engine%22%2C%20%22detectRetina%22%3A%20false%2C%20%22maxNativeZoom%22%3A%2018%2C%20%22maxZoom%22%3A%2018%2C%20%22minZoom%22%3A%200%2C%20%22noWrap%22%3A%20false%2C%20%22opacity%22%3A%201.0%2C%20%22subdomains%22%3A%20%22abc%22%2C%20%22tms%22%3A%20false%7D%0A%20%20%20%20%20%20%20%20%20%20%20%20%29.addTo%28map_a9e7afd9c6ca4ce7bccc19a9ea76fd5c%29%3B%0A%20%20%20%20%20%20%20%20%0A%20%20%20%20%0A%20%20%20%20%20%20%20%20%20%20%20%20var%20tile_layer_f015a60b8cab4879a0957dc07587446e%20%3D%20L.tileLayer%28%0A%20%20%20%20%20%20%20%20%20%20%20%20%20%20%20%20%22https%3A//earthengine.googleapis.com/v1alpha/projects/earthengine-legacy/maps/882f3b7ac997eb802b775ff8e77b7583-9e35f593d35f9466d2200ecd1f9d15a6/tiles/%7Bz%7D/%7Bx%7D/%7By%7D%22%2C%0A%20%20%20%20%20%20%20%20%20%20%20%20%20%20%20%20%7B%22attribution%22%3A%20%22Google%20Earth%20Engine%22%2C%20%22detectRetina%22%3A%20false%2C%20%22maxNativeZoom%22%3A%2018%2C%20%22maxZoom%22%3A%2018%2C%20%22minZoom%22%3A%200%2C%20%22noWrap%22%3A%20false%2C%20%22opacity%22%3A%201.0%2C%20%22subdomains%22%3A%20%22abc%22%2C%20%22tms%22%3A%20false%7D%0A%20%20%20%20%20%20%20%20%20%20%20%20%29.addTo%28map_a9e7afd9c6ca4ce7bccc19a9ea76fd5c%29%3B%0A%20%20%20%20%20%20%20%20%0A%20%20%20%20%0A%20%20%20%20%20%20%20%20%20%20%20%20var%20layer_control_f38d8f5ea7eb44868177788deb12fb6a%20%3D%20%7B%0A%20%20%20%20%20%20%20%20%20%20%20%20%20%20%20%20base_layers%20%3A%20%7B%0A%20%20%20%20%20%20%20%20%20%20%20%20%20%20%20%20%20%20%20%20%22openstreetmap%22%20%3A%20tile_layer_2eb6d053357b4b6f88997b24c9cc6170%2C%0A%20%20%20%20%20%20%20%20%20%20%20%20%20%20%20%20%7D%2C%0A%20%20%20%20%20%20%20%20%20%20%20%20%20%20%20%20overlays%20%3A%20%20%7B%0A%20%20%20%20%20%20%20%20%20%20%20%20%20%20%20%20%20%20%20%20%22Google%20Maps%22%20%3A%20tile_layer_235c2ace99cb4bce8e3510c2b9a1d47d%2C%0A%20%20%20%20%20%20%20%20%20%20%20%20%20%20%20%20%20%20%20%20%22Classification%22%20%3A%20tile_layer_593ec923df1a42c9bb3380df9943aa8a%2C%0A%20%20%20%20%20%20%20%20%20%20%20%20%20%20%20%20%20%20%20%20%22Water%22%20%3A%20tile_layer_41c5bfb8d6d34136b1855aae75de42e9%2C%0A%20%20%20%20%20%20%20%20%20%20%20%20%20%20%20%20%20%20%20%20%22MAR%20locations%22%20%3A%20tile_layer_f015a60b8cab4879a0957dc07587446e%2C%0A%20%20%20%20%20%20%20%20%20%20%20%20%20%20%20%20%7D%2C%0A%20%20%20%20%20%20%20%20%20%20%20%20%7D%3B%0A%20%20%20%20%20%20%20%20%20%20%20%20L.control.layers%28%0A%20%20%20%20%20%20%20%20%20%20%20%20%20%20%20%20layer_control_f38d8f5ea7eb44868177788deb12fb6a.base_layers%2C%0A%20%20%20%20%20%20%20%20%20%20%20%20%20%20%20%20layer_control_f38d8f5ea7eb44868177788deb12fb6a.overlays%2C%0A%20%20%20%20%20%20%20%20%20%20%20%20%20%20%20%20%7B%22autoZIndex%22%3A%20true%2C%20%22collapsed%22%3A%20true%2C%20%22position%22%3A%20%22topright%22%7D%0A%20%20%20%20%20%20%20%20%20%20%20%20%29.addTo%28map_a9e7afd9c6ca4ce7bccc19a9ea76fd5c%29%3B%0A%20%20%20%20%20%20%20%20%0A%3C/script%3E onload=\"this.contentDocument.open();this.contentDocument.write(    decodeURIComponent(this.getAttribute('data-html')));this.contentDocument.close();\" allowfullscreen webkitallowfullscreen mozallowfullscreen></iframe></div></div>"
      ],
      "text/plain": [
       "<geemap.eefolium.Map at 0x7ff10e2b4d90>"
      ]
     },
     "metadata": {},
     "output_type": "display_data"
    }
   ],
   "source": [
    "the_map = geemap.Map()\n",
    "\n",
    "Landsat = ee.ImageCollection('LANDSAT/LM03/C01/T1')\n",
    "\n",
    "vis_params = {\n",
    "    'min': 0, 'max': 1, 'dimensions': 512,\n",
    "    'palette': ['Red', 'Blue']}\n",
    "\n",
    "flowAccumulationVis = {\n",
    "  'min': 0.0,\n",
    "  'max': 500.0,\n",
    "  'palette': [\n",
    "    '000000', '023858', '006837', '1a9850', '66bd63', 'a6d96a', 'd9ef8b',\n",
    "    'ffffbf', 'fee08b', 'fdae61', 'f46d43', 'd73027'\n",
    "  ]}\n",
    "\n",
    "the_map.addLayer(classified_img, vis_params, 'Classification')\n",
    "the_map.addLayer(water_img, flowAccumulationVis, 'Water')\n",
    "the_map.addLayer(training.draw(color= '006600', pointRadius = 5, strokeWidth= 5), {}, name = 'MAR locations')\n",
    "\n",
    "vis.folium_display(the_map)"
   ]
  },
  {
   "cell_type": "code",
   "execution_count": 442,
   "metadata": {},
   "outputs": [],
   "source": [
    "import requests\n",
    "from IPython.display import Image, display"
   ]
  },
  {
   "cell_type": "code",
   "execution_count": 443,
   "metadata": {},
   "outputs": [],
   "source": [
    "response = requests.get(url = 'http://taginfo.openstreetmap.org/api/4/key/distribution/nodes?key=waterway')"
   ]
  },
  {
   "cell_type": "code",
   "execution_count": 444,
   "metadata": {},
   "outputs": [],
   "source": [
    "response.raise_for_status()"
   ]
  },
  {
   "cell_type": "code",
   "execution_count": 445,
   "metadata": {},
   "outputs": [
    {
     "data": {
      "image/png": "[encoded data removed]",
      "text/plain": [
       "<IPython.core.display.Image object>"
      ]
     },
     "metadata": {},
     "output_type": "display_data"
    }
   ],
   "source": [
    "display(Image(response.content))"
   ]
  },
  {
   "cell_type": "code",
   "execution_count": null,
   "metadata": {},
   "outputs": [],
   "source": []
  }
 ],
 "metadata": {
  "kernelspec": {
   "display_name": "Python 3",
   "language": "python",
   "name": "python3"
  },
  "language_info": {
   "codemirror_mode": {
    "name": "ipython",
    "version": 3
   },
   "file_extension": ".py",
   "mimetype": "text/x-python",
   "name": "python",
   "nbconvert_exporter": "python",
   "pygments_lexer": "ipython3",
   "version": "3.8.8"
  }
 },
 "nbformat": 4,
 "nbformat_minor": 4
}
