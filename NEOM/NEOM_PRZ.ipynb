{
 "cells": [
  {
   "cell_type": "markdown",
   "metadata": {},
   "source": [
    "# NEOM Potential Recharge Zones (region swale potential)\n",
    "\n",
    "_Amgad Ellaboudy, James McCreight, Josh Daniel_  \n",
    "_Eartshot Labs_\n",
    "\n",
    "Mapping NEOM region for suitability of building features (such as swales) to capture surface/ sub-surface water, mainly to build up plant-available water in the soil.\n",
    "\n",
    "Predictors:\n",
    "1. Slope : Restricted to [0-10 degrees], gradual slopes are more desirable\n",
    "2. Top Soil Types: Medium texture (loam/ silt) score highest, second is fine clays, and last is coarse sands for retaining plant-avaialble water\n",
    "3. Runoff: Higher runoff is better, masked to values only above 1E-3 mm per grid box\n",
    "\n",
    "## Preliminaries"
   ]
  },
  {
   "cell_type": "code",
   "execution_count": 1,
   "metadata": {},
   "outputs": [
    {
     "data": {
      "text/html": [
       "\n",
       "    <div class=\"bk-root\">\n",
       "        <a href=\"https://bokeh.org\" target=\"_blank\" class=\"bk-logo bk-logo-small bk-logo-notebook\"></a>\n",
       "        <span id=\"1001\">Loading BokehJS ...</span>\n",
       "    </div>"
      ]
     },
     "metadata": {},
     "output_type": "display_data"
    },
    {
     "data": {
      "application/javascript": [
       "\n",
       "(function(root) {\n",
       "  function now() {\n",
       "    return new Date();\n",
       "  }\n",
       "\n",
       "  var force = true;\n",
       "\n",
       "  if (typeof root._bokeh_onload_callbacks === \"undefined\" || force === true) {\n",
       "    root._bokeh_onload_callbacks = [];\n",
       "    root._bokeh_is_loading = undefined;\n",
       "  }\n",
       "\n",
       "  var JS_MIME_TYPE = 'application/javascript';\n",
       "  var HTML_MIME_TYPE = 'text/html';\n",
       "  var EXEC_MIME_TYPE = 'application/vnd.bokehjs_exec.v0+json';\n",
       "  var CLASS_NAME = 'output_bokeh rendered_html';\n",
       "\n",
       "  /**\n",
       "   * Render data to the DOM node\n",
       "   */\n",
       "  function render(props, node) {\n",
       "    var script = document.createElement(\"script\");\n",
       "    node.appendChild(script);\n",
       "  }\n",
       "\n",
       "  /**\n",
       "   * Handle when an output is cleared or removed\n",
       "   */\n",
       "  function handleClearOutput(event, handle) {\n",
       "    var cell = handle.cell;\n",
       "\n",
       "    var id = cell.output_area._bokeh_element_id;\n",
       "    var server_id = cell.output_area._bokeh_server_id;\n",
       "    // Clean up Bokeh references\n",
       "    if (id != null && id in Bokeh.index) {\n",
       "      Bokeh.index[id].model.document.clear();\n",
       "      delete Bokeh.index[id];\n",
       "    }\n",
       "\n",
       "    if (server_id !== undefined) {\n",
       "      // Clean up Bokeh references\n",
       "      var cmd = \"from bokeh.io.state import curstate; print(curstate().uuid_to_server['\" + server_id + \"'].get_sessions()[0].document.roots[0]._id)\";\n",
       "      cell.notebook.kernel.execute(cmd, {\n",
       "        iopub: {\n",
       "          output: function(msg) {\n",
       "            var id = msg.content.text.trim();\n",
       "            if (id in Bokeh.index) {\n",
       "              Bokeh.index[id].model.document.clear();\n",
       "              delete Bokeh.index[id];\n",
       "            }\n",
       "          }\n",
       "        }\n",
       "      });\n",
       "      // Destroy server and session\n",
       "      var cmd = \"import bokeh.io.notebook as ion; ion.destroy_server('\" + server_id + \"')\";\n",
       "      cell.notebook.kernel.execute(cmd);\n",
       "    }\n",
       "  }\n",
       "\n",
       "  /**\n",
       "   * Handle when a new output is added\n",
       "   */\n",
       "  function handleAddOutput(event, handle) {\n",
       "    var output_area = handle.output_area;\n",
       "    var output = handle.output;\n",
       "\n",
       "    // limit handleAddOutput to display_data with EXEC_MIME_TYPE content only\n",
       "    if ((output.output_type != \"display_data\") || (!output.data.hasOwnProperty(EXEC_MIME_TYPE))) {\n",
       "      return\n",
       "    }\n",
       "\n",
       "    var toinsert = output_area.element.find(\".\" + CLASS_NAME.split(' ')[0]);\n",
       "\n",
       "    if (output.metadata[EXEC_MIME_TYPE][\"id\"] !== undefined) {\n",
       "      toinsert[toinsert.length - 1].firstChild.textContent = output.data[JS_MIME_TYPE];\n",
       "      // store reference to embed id on output_area\n",
       "      output_area._bokeh_element_id = output.metadata[EXEC_MIME_TYPE][\"id\"];\n",
       "    }\n",
       "    if (output.metadata[EXEC_MIME_TYPE][\"server_id\"] !== undefined) {\n",
       "      var bk_div = document.createElement(\"div\");\n",
       "      bk_div.innerHTML = output.data[HTML_MIME_TYPE];\n",
       "      var script_attrs = bk_div.children[0].attributes;\n",
       "      for (var i = 0; i < script_attrs.length; i++) {\n",
       "        toinsert[toinsert.length - 1].firstChild.setAttribute(script_attrs[i].name, script_attrs[i].value);\n",
       "        toinsert[toinsert.length - 1].firstChild.textContent = bk_div.children[0].textContent\n",
       "      }\n",
       "      // store reference to server id on output_area\n",
       "      output_area._bokeh_server_id = output.metadata[EXEC_MIME_TYPE][\"server_id\"];\n",
       "    }\n",
       "  }\n",
       "\n",
       "  function register_renderer(events, OutputArea) {\n",
       "\n",
       "    function append_mime(data, metadata, element) {\n",
       "      // create a DOM node to render to\n",
       "      var toinsert = this.create_output_subarea(\n",
       "        metadata,\n",
       "        CLASS_NAME,\n",
       "        EXEC_MIME_TYPE\n",
       "      );\n",
       "      this.keyboard_manager.register_events(toinsert);\n",
       "      // Render to node\n",
       "      var props = {data: data, metadata: metadata[EXEC_MIME_TYPE]};\n",
       "      render(props, toinsert[toinsert.length - 1]);\n",
       "      element.append(toinsert);\n",
       "      return toinsert\n",
       "    }\n",
       "\n",
       "    /* Handle when an output is cleared or removed */\n",
       "    events.on('clear_output.CodeCell', handleClearOutput);\n",
       "    events.on('delete.Cell', handleClearOutput);\n",
       "\n",
       "    /* Handle when a new output is added */\n",
       "    events.on('output_added.OutputArea', handleAddOutput);\n",
       "\n",
       "    /**\n",
       "     * Register the mime type and append_mime function with output_area\n",
       "     */\n",
       "    OutputArea.prototype.register_mime_type(EXEC_MIME_TYPE, append_mime, {\n",
       "      /* Is output safe? */\n",
       "      safe: true,\n",
       "      /* Index of renderer in `output_area.display_order` */\n",
       "      index: 0\n",
       "    });\n",
       "  }\n",
       "\n",
       "  // register the mime type if in Jupyter Notebook environment and previously unregistered\n",
       "  if (root.Jupyter !== undefined) {\n",
       "    var events = require('base/js/events');\n",
       "    var OutputArea = require('notebook/js/outputarea').OutputArea;\n",
       "\n",
       "    if (OutputArea.prototype.mime_types().indexOf(EXEC_MIME_TYPE) == -1) {\n",
       "      register_renderer(events, OutputArea);\n",
       "    }\n",
       "  }\n",
       "\n",
       "  \n",
       "  if (typeof (root._bokeh_timeout) === \"undefined\" || force === true) {\n",
       "    root._bokeh_timeout = Date.now() + 5000;\n",
       "    root._bokeh_failed_load = false;\n",
       "  }\n",
       "\n",
       "  var NB_LOAD_WARNING = {'data': {'text/html':\n",
       "     \"<div style='background-color: #fdd'>\\n\"+\n",
       "     \"<p>\\n\"+\n",
       "     \"BokehJS does not appear to have successfully loaded. If loading BokehJS from CDN, this \\n\"+\n",
       "     \"may be due to a slow or bad network connection. Possible fixes:\\n\"+\n",
       "     \"</p>\\n\"+\n",
       "     \"<ul>\\n\"+\n",
       "     \"<li>re-rerun `output_notebook()` to attempt to load from CDN again, or</li>\\n\"+\n",
       "     \"<li>use INLINE resources instead, as so:</li>\\n\"+\n",
       "     \"</ul>\\n\"+\n",
       "     \"<code>\\n\"+\n",
       "     \"from bokeh.resources import INLINE\\n\"+\n",
       "     \"output_notebook(resources=INLINE)\\n\"+\n",
       "     \"</code>\\n\"+\n",
       "     \"</div>\"}};\n",
       "\n",
       "  function display_loaded() {\n",
       "    var el = document.getElementById(\"1001\");\n",
       "    if (el != null) {\n",
       "      el.textContent = \"BokehJS is loading...\";\n",
       "    }\n",
       "    if (root.Bokeh !== undefined) {\n",
       "      if (el != null) {\n",
       "        el.textContent = \"BokehJS \" + root.Bokeh.version + \" successfully loaded.\";\n",
       "      }\n",
       "    } else if (Date.now() < root._bokeh_timeout) {\n",
       "      setTimeout(display_loaded, 100)\n",
       "    }\n",
       "  }\n",
       "\n",
       "\n",
       "  function run_callbacks() {\n",
       "    try {\n",
       "      root._bokeh_onload_callbacks.forEach(function(callback) {\n",
       "        if (callback != null)\n",
       "          callback();\n",
       "      });\n",
       "    } finally {\n",
       "      delete root._bokeh_onload_callbacks\n",
       "    }\n",
       "    console.debug(\"Bokeh: all callbacks have finished\");\n",
       "  }\n",
       "\n",
       "  function load_libs(css_urls, js_urls, callback) {\n",
       "    if (css_urls == null) css_urls = [];\n",
       "    if (js_urls == null) js_urls = [];\n",
       "\n",
       "    root._bokeh_onload_callbacks.push(callback);\n",
       "    if (root._bokeh_is_loading > 0) {\n",
       "      console.debug(\"Bokeh: BokehJS is being loaded, scheduling callback at\", now());\n",
       "      return null;\n",
       "    }\n",
       "    if (js_urls == null || js_urls.length === 0) {\n",
       "      run_callbacks();\n",
       "      return null;\n",
       "    }\n",
       "    console.debug(\"Bokeh: BokehJS not loaded, scheduling load and callback at\", now());\n",
       "    root._bokeh_is_loading = css_urls.length + js_urls.length;\n",
       "\n",
       "    function on_load() {\n",
       "      root._bokeh_is_loading--;\n",
       "      if (root._bokeh_is_loading === 0) {\n",
       "        console.debug(\"Bokeh: all BokehJS libraries/stylesheets loaded\");\n",
       "        run_callbacks()\n",
       "      }\n",
       "    }\n",
       "\n",
       "    function on_error() {\n",
       "      console.error(\"failed to load \" + url);\n",
       "    }\n",
       "\n",
       "    for (var i = 0; i < css_urls.length; i++) {\n",
       "      var url = css_urls[i];\n",
       "      const element = document.createElement(\"link\");\n",
       "      element.onload = on_load;\n",
       "      element.onerror = on_error;\n",
       "      element.rel = \"stylesheet\";\n",
       "      element.type = \"text/css\";\n",
       "      element.href = url;\n",
       "      console.debug(\"Bokeh: injecting link tag for BokehJS stylesheet: \", url);\n",
       "      document.body.appendChild(element);\n",
       "    }\n",
       "\n",
       "    const hashes = {\"https://cdn.bokeh.org/bokeh/release/bokeh-2.2.3.min.js\": \"T2yuo9Oe71Cz/I4X9Ac5+gpEa5a8PpJCDlqKYO0CfAuEszu1JrXLl8YugMqYe3sM\", \"https://cdn.bokeh.org/bokeh/release/bokeh-widgets-2.2.3.min.js\": \"98GDGJ0kOMCUMUePhksaQ/GYgB3+NH9h996V88sh3aOiUNX3N+fLXAtry6xctSZ6\", \"https://cdn.bokeh.org/bokeh/release/bokeh-tables-2.2.3.min.js\": \"89bArO+nlbP3sgakeHjCo1JYxYR5wufVgA3IbUvDY+K7w4zyxJqssu7wVnfeKCq8\"};\n",
       "\n",
       "    for (var i = 0; i < js_urls.length; i++) {\n",
       "      var url = js_urls[i];\n",
       "      var element = document.createElement('script');\n",
       "      element.onload = on_load;\n",
       "      element.onerror = on_error;\n",
       "      element.async = false;\n",
       "      element.src = url;\n",
       "      if (url in hashes) {\n",
       "        element.crossOrigin = \"anonymous\";\n",
       "        element.integrity = \"sha384-\" + hashes[url];\n",
       "      }\n",
       "      console.debug(\"Bokeh: injecting script tag for BokehJS library: \", url);\n",
       "      document.head.appendChild(element);\n",
       "    }\n",
       "  };\n",
       "\n",
       "  function inject_raw_css(css) {\n",
       "    const element = document.createElement(\"style\");\n",
       "    element.appendChild(document.createTextNode(css));\n",
       "    document.body.appendChild(element);\n",
       "  }\n",
       "\n",
       "  \n",
       "  var js_urls = [\"https://cdn.bokeh.org/bokeh/release/bokeh-2.2.3.min.js\", \"https://cdn.bokeh.org/bokeh/release/bokeh-widgets-2.2.3.min.js\", \"https://cdn.bokeh.org/bokeh/release/bokeh-tables-2.2.3.min.js\"];\n",
       "  var css_urls = [];\n",
       "  \n",
       "\n",
       "  var inline_js = [\n",
       "    function(Bokeh) {\n",
       "      Bokeh.set_log_level(\"info\");\n",
       "    },\n",
       "    function(Bokeh) {\n",
       "    \n",
       "    \n",
       "    }\n",
       "  ];\n",
       "\n",
       "  function run_inline_js() {\n",
       "    \n",
       "    if (root.Bokeh !== undefined || force === true) {\n",
       "      \n",
       "    for (var i = 0; i < inline_js.length; i++) {\n",
       "      inline_js[i].call(root, root.Bokeh);\n",
       "    }\n",
       "    if (force === true) {\n",
       "        display_loaded();\n",
       "      }} else if (Date.now() < root._bokeh_timeout) {\n",
       "      setTimeout(run_inline_js, 100);\n",
       "    } else if (!root._bokeh_failed_load) {\n",
       "      console.log(\"Bokeh: BokehJS failed to load within specified timeout.\");\n",
       "      root._bokeh_failed_load = true;\n",
       "    } else if (force !== true) {\n",
       "      var cell = $(document.getElementById(\"1001\")).parents('.cell').data().cell;\n",
       "      cell.output_area.append_execute_result(NB_LOAD_WARNING)\n",
       "    }\n",
       "\n",
       "  }\n",
       "\n",
       "  if (root._bokeh_is_loading === 0) {\n",
       "    console.debug(\"Bokeh: BokehJS loaded, going straight to plotting\");\n",
       "    run_inline_js();\n",
       "  } else {\n",
       "    load_libs(css_urls, js_urls, function() {\n",
       "      console.debug(\"Bokeh: BokehJS plotting callback run at\", now());\n",
       "      run_inline_js();\n",
       "    });\n",
       "  }\n",
       "}(window));"
      ],
      "application/vnd.bokehjs_load.v0+json": "\n(function(root) {\n  function now() {\n    return new Date();\n  }\n\n  var force = true;\n\n  if (typeof root._bokeh_onload_callbacks === \"undefined\" || force === true) {\n    root._bokeh_onload_callbacks = [];\n    root._bokeh_is_loading = undefined;\n  }\n\n  \n\n  \n  if (typeof (root._bokeh_timeout) === \"undefined\" || force === true) {\n    root._bokeh_timeout = Date.now() + 5000;\n    root._bokeh_failed_load = false;\n  }\n\n  var NB_LOAD_WARNING = {'data': {'text/html':\n     \"<div style='background-color: #fdd'>\\n\"+\n     \"<p>\\n\"+\n     \"BokehJS does not appear to have successfully loaded. If loading BokehJS from CDN, this \\n\"+\n     \"may be due to a slow or bad network connection. Possible fixes:\\n\"+\n     \"</p>\\n\"+\n     \"<ul>\\n\"+\n     \"<li>re-rerun `output_notebook()` to attempt to load from CDN again, or</li>\\n\"+\n     \"<li>use INLINE resources instead, as so:</li>\\n\"+\n     \"</ul>\\n\"+\n     \"<code>\\n\"+\n     \"from bokeh.resources import INLINE\\n\"+\n     \"output_notebook(resources=INLINE)\\n\"+\n     \"</code>\\n\"+\n     \"</div>\"}};\n\n  function display_loaded() {\n    var el = document.getElementById(\"1001\");\n    if (el != null) {\n      el.textContent = \"BokehJS is loading...\";\n    }\n    if (root.Bokeh !== undefined) {\n      if (el != null) {\n        el.textContent = \"BokehJS \" + root.Bokeh.version + \" successfully loaded.\";\n      }\n    } else if (Date.now() < root._bokeh_timeout) {\n      setTimeout(display_loaded, 100)\n    }\n  }\n\n\n  function run_callbacks() {\n    try {\n      root._bokeh_onload_callbacks.forEach(function(callback) {\n        if (callback != null)\n          callback();\n      });\n    } finally {\n      delete root._bokeh_onload_callbacks\n    }\n    console.debug(\"Bokeh: all callbacks have finished\");\n  }\n\n  function load_libs(css_urls, js_urls, callback) {\n    if (css_urls == null) css_urls = [];\n    if (js_urls == null) js_urls = [];\n\n    root._bokeh_onload_callbacks.push(callback);\n    if (root._bokeh_is_loading > 0) {\n      console.debug(\"Bokeh: BokehJS is being loaded, scheduling callback at\", now());\n      return null;\n    }\n    if (js_urls == null || js_urls.length === 0) {\n      run_callbacks();\n      return null;\n    }\n    console.debug(\"Bokeh: BokehJS not loaded, scheduling load and callback at\", now());\n    root._bokeh_is_loading = css_urls.length + js_urls.length;\n\n    function on_load() {\n      root._bokeh_is_loading--;\n      if (root._bokeh_is_loading === 0) {\n        console.debug(\"Bokeh: all BokehJS libraries/stylesheets loaded\");\n        run_callbacks()\n      }\n    }\n\n    function on_error() {\n      console.error(\"failed to load \" + url);\n    }\n\n    for (var i = 0; i < css_urls.length; i++) {\n      var url = css_urls[i];\n      const element = document.createElement(\"link\");\n      element.onload = on_load;\n      element.onerror = on_error;\n      element.rel = \"stylesheet\";\n      element.type = \"text/css\";\n      element.href = url;\n      console.debug(\"Bokeh: injecting link tag for BokehJS stylesheet: \", url);\n      document.body.appendChild(element);\n    }\n\n    const hashes = {\"https://cdn.bokeh.org/bokeh/release/bokeh-2.2.3.min.js\": \"T2yuo9Oe71Cz/I4X9Ac5+gpEa5a8PpJCDlqKYO0CfAuEszu1JrXLl8YugMqYe3sM\", \"https://cdn.bokeh.org/bokeh/release/bokeh-widgets-2.2.3.min.js\": \"98GDGJ0kOMCUMUePhksaQ/GYgB3+NH9h996V88sh3aOiUNX3N+fLXAtry6xctSZ6\", \"https://cdn.bokeh.org/bokeh/release/bokeh-tables-2.2.3.min.js\": \"89bArO+nlbP3sgakeHjCo1JYxYR5wufVgA3IbUvDY+K7w4zyxJqssu7wVnfeKCq8\"};\n\n    for (var i = 0; i < js_urls.length; i++) {\n      var url = js_urls[i];\n      var element = document.createElement('script');\n      element.onload = on_load;\n      element.onerror = on_error;\n      element.async = false;\n      element.src = url;\n      if (url in hashes) {\n        element.crossOrigin = \"anonymous\";\n        element.integrity = \"sha384-\" + hashes[url];\n      }\n      console.debug(\"Bokeh: injecting script tag for BokehJS library: \", url);\n      document.head.appendChild(element);\n    }\n  };\n\n  function inject_raw_css(css) {\n    const element = document.createElement(\"style\");\n    element.appendChild(document.createTextNode(css));\n    document.body.appendChild(element);\n  }\n\n  \n  var js_urls = [\"https://cdn.bokeh.org/bokeh/release/bokeh-2.2.3.min.js\", \"https://cdn.bokeh.org/bokeh/release/bokeh-widgets-2.2.3.min.js\", \"https://cdn.bokeh.org/bokeh/release/bokeh-tables-2.2.3.min.js\"];\n  var css_urls = [];\n  \n\n  var inline_js = [\n    function(Bokeh) {\n      Bokeh.set_log_level(\"info\");\n    },\n    function(Bokeh) {\n    \n    \n    }\n  ];\n\n  function run_inline_js() {\n    \n    if (root.Bokeh !== undefined || force === true) {\n      \n    for (var i = 0; i < inline_js.length; i++) {\n      inline_js[i].call(root, root.Bokeh);\n    }\n    if (force === true) {\n        display_loaded();\n      }} else if (Date.now() < root._bokeh_timeout) {\n      setTimeout(run_inline_js, 100);\n    } else if (!root._bokeh_failed_load) {\n      console.log(\"Bokeh: BokehJS failed to load within specified timeout.\");\n      root._bokeh_failed_load = true;\n    } else if (force !== true) {\n      var cell = $(document.getElementById(\"1001\")).parents('.cell').data().cell;\n      cell.output_area.append_execute_result(NB_LOAD_WARNING)\n    }\n\n  }\n\n  if (root._bokeh_is_loading === 0) {\n    console.debug(\"Bokeh: BokehJS loaded, going straight to plotting\");\n    run_inline_js();\n  } else {\n    load_libs(css_urls, js_urls, function() {\n      console.debug(\"Bokeh: BokehJS plotting callback run at\", now());\n      run_inline_js();\n    });\n  }\n}(window));"
     },
     "metadata": {},
     "output_type": "display_data"
    }
   ],
   "source": [
    "import ee\n",
    "import numpy as np\n",
    "\n",
    "from earthshot import water_viz as vis\n",
    "from earthshot import water_common as common\n",
    "from earthshot import normalize as norm\n",
    "\n",
    "from statistics import mean\n",
    "import folium\n",
    "from folium import plugins\n",
    "from bokeh.plotting import figure, output_file, show\n",
    "from bokeh.models import Range1d\n"
   ]
  },
  {
   "cell_type": "code",
   "execution_count": 2,
   "metadata": {},
   "outputs": [],
   "source": [
    "ee.Initialize()\n",
    "\n",
    "bbox = ee.Geometry.BBox(34.52778, 27.72417, 35.96528, 29.14139)\n",
    "\n",
    "bbox_name = 'neom'\n",
    "#bbox = common.bboxes()[bbox_name]"
   ]
  },
  {
   "cell_type": "markdown",
   "metadata": {},
   "source": [
    "## Predictors \n",
    "**Terrain Slope** from [Merit Hydro](https://developers.google.com/earth-engine/datasets/catalog/MERIT_Hydro_v1_0_1#description)"
   ]
  },
  {
   "cell_type": "code",
   "execution_count": 3,
   "metadata": {},
   "outputs": [
    {
     "data": {
      "text/plain": [
       "[0, 1]"
      ]
     },
     "execution_count": 3,
     "metadata": {},
     "output_type": "execute_result"
    }
   ],
   "source": [
    "slope_img = ee.Image('users/jamesmcc/merit_slope/merit_terrain_slope').clip(bbox)\n",
    "slope_mask = slope_img.lte(10).And(slope_img.gt(0))\n",
    "slope_img_inv = slope_img.updateMask(slope_mask).pow(-1) \n",
    "slope_img_scaled = norm.img_scale(slope_img_inv, area_of_interest=bbox) \n",
    "norm.img_range(slope_img_scaled, area_of_interest=bbox)"
   ]
  },
  {
   "cell_type": "markdown",
   "metadata": {},
   "source": [
    "**Soil Types** qualitative ranking."
   ]
  },
  {
   "cell_type": "code",
   "execution_count": 4,
   "metadata": {},
   "outputs": [],
   "source": [
    "soil_types = ee.Image(\"OpenLandMap/SOL/SOL_TEXTURE-CLASS_USDA-TT_M/v02\").clip(bbox)\n",
    "\n",
    "#categorizing soil types at 0, 10, and 30 cm depths based on retaining plant-available water ability\n",
    "top_soils = [5,7,8,10]\n",
    "medium_soils = [2,4,6,9]\n",
    "low_soils = [1,3,11,12]\n",
    "soil_0 = soil_types.expression(\n",
    "        \"(b('b0') == 5) ? 1.0\" +\n",
    "        \": (b('b0') == 7) ? 1.0\" +\n",
    "        \": (b('b0') == 8) ? 1.0\" +\n",
    "        \": (b('b0') == 10) ? 1.0\" +\n",
    "        \": (b('b0') == 2) ? 0.7\" +\n",
    "        \": (b('b0') == 4) ? 0.7\" +\n",
    "        \": (b('b0') == 6) ? 0.7\" +\n",
    "        \": (b('b0') == 9) ? 0.7\" +\n",
    "        \": (b('b0') == 1) ? 0.4\" +\n",
    "        \": (b('b0') == 3) ? 0.4\" +\n",
    "        \": (b('b0') == 11) ? 0.4\" +\n",
    "        \": (b('b0') == 12) ? 0.4\" +\n",
    "        \": 0\")\n",
    "\n",
    "soil_10 = soil_types.expression(\n",
    "        \"(b('b10') == 5) ? 1.0\" +\n",
    "        \": (b('b10') == 7) ? 1.0\" +\n",
    "        \": (b('b10') == 8) ? 1.0\" +\n",
    "        \": (b('b10') == 10) ? 1.0\" +\n",
    "        \": (b('b10') == 2) ? 0.7\" +\n",
    "        \": (b('b10') == 4) ? 0.7\" +\n",
    "        \": (b('b10') == 6) ? 0.7\" +\n",
    "        \": (b('b10') == 9) ? 0.7\" +\n",
    "        \": (b('b10') == 1) ? 0.4\" +\n",
    "        \": (b('b10') == 3) ? 0.4\" +\n",
    "        \": (b('b10') == 11) ? 0.4\" +\n",
    "        \": (b('b10') == 12) ? 0.4\" +\n",
    "        \": 0\")\n",
    "\n",
    "soil_30 = soil_types.expression(\n",
    "        \"(b('b30') == 5) ? 1.0\" +\n",
    "        \": (b('b30') == 7) ? 1.0\" +\n",
    "        \": (b('b30') == 8) ? 1.0\" +\n",
    "        \": (b('b30') == 10) ? 1.0\" +\n",
    "        \": (b('b30') == 2) ? 0.7\" +\n",
    "        \": (b('b30') == 4) ? 0.7\" +\n",
    "        \": (b('b30') == 6) ? 0.7\" +\n",
    "        \": (b('b30') == 9) ? 0.7\" +\n",
    "        \": (b('b30') == 1) ? 0.4\" +\n",
    "        \": (b('b30') == 3) ? 0.4\" +\n",
    "        \": (b('b30') == 11) ? 0.4\" +\n",
    "        \": (b('b30') == 12) ? 0.4\" +\n",
    "        \": 0\")\n",
    "\n",
    "top_soils = soil_0.expression('top_soil + soil_10 + soil_30',\n",
    "                             {'top_soil': soil_0.select('constant'),\n",
    "                             'soil_10': soil_10.select('constant'),\n",
    "                             'soil_30': soil_30.select('constant')})"
   ]
  },
  {
   "cell_type": "code",
   "execution_count": 5,
   "metadata": {},
   "outputs": [
    {
     "data": {
      "text/plain": [
       "[0, 1]"
      ]
     },
     "execution_count": 5,
     "metadata": {},
     "output_type": "execute_result"
    }
   ],
   "source": [
    "top_soils_scaled = norm.img_scale(top_soils, area_of_interest=bbox)\n",
    "norm.img_range(top_soils_scaled, area_of_interest=bbox)"
   ]
  },
  {
   "cell_type": "markdown",
   "metadata": {},
   "source": [
    "**Runoff from [ERA5](https://code.earthengine.google.com/?asset=users/jamesmcc/era5_merit_potential_sfc_runoff_neom_climatology)**"
   ]
  },
  {
   "cell_type": "code",
   "execution_count": 6,
   "metadata": {},
   "outputs": [],
   "source": [
    "runoff_clim = ee.ImageCollection('users/jamesmcc/era5_sfc_runoff_neom_climatology')\n",
    "# convert from monthly m/hr to total mm/year for whole year\n",
    "runoff_mm = runoff_clim.sum().clip(bbox).multiply(1000).multiply(365*24)\n",
    "\n",
    "#convert from monthly m/hr to total mm/ season for each season\n",
    "runoff_wint= (runoff_clim\n",
    "           .filter(ee.Filter.inList('month', ee.List([12,1,2]))))\n",
    "runoff_mm_wint= runoff_wint.sum().clip(bbox).multiply(1000).multiply(365*24)\n",
    "\n",
    "runoff_spr= (runoff_clim\n",
    "           .filter(ee.Filter.inList('month', ee.List([3,4,5]))))\n",
    "runoff_mm_spr= runoff_spr.sum().clip(bbox).multiply(1000).multiply(365*24)\n",
    "\n",
    "runoff_summer= (runoff_clim\n",
    "               .filter(ee.Filter.inList('month', ee.List([6,7,8]))))\n",
    "runoff_mm_summer= runoff_summer.sum().clip(bbox).multiply(1000).multiply(365*24)\n",
    "\n",
    "runoff_fall= (runoff_clim\n",
    "            .filter(ee.Filter.inList('month', ee.List([9,10,11]))))\n",
    "runoff_mm_fall= runoff_fall.sum().clip(bbox).multiply(1000).multiply(365*24)"
   ]
  },
  {
   "cell_type": "code",
   "execution_count": 7,
   "metadata": {},
   "outputs": [
    {
     "data": {
      "text/html": [
       "\n",
       "\n",
       "\n",
       "\n",
       "\n",
       "\n",
       "  <div class=\"bk-root\" id=\"2bc9b5c7-84fd-4451-a83b-ce3c91c6c822\" data-root-id=\"1002\"></div>\n"
      ]
     },
     "metadata": {},
     "output_type": "display_data"
    },
    {
     "data": {
      "application/javascript": [
       "(function(root) {\n",
       "  function embed_document(root) {\n",
       "    \n",
       "  var docs_json = {\"f6e059b1-36e4-4eeb-b797-dcf255c28e26\":{\"roots\":{\"references\":[{\"attributes\":{\"background_fill_color\":\"white\",\"below\":[{\"id\":\"1013\"}],\"center\":[{\"id\":\"1016\"},{\"id\":\"1020\"}],\"left\":[{\"id\":\"1017\"}],\"plot_height\":300,\"renderers\":[{\"id\":\"1038\"}],\"title\":{\"id\":\"1003\"},\"toolbar\":{\"id\":\"1028\"},\"x_range\":{\"id\":\"1005\"},\"x_scale\":{\"id\":\"1009\"},\"y_range\":{\"id\":\"1007\"},\"y_scale\":{\"id\":\"1011\"}},\"id\":\"1002\",\"subtype\":\"Figure\",\"type\":\"Plot\"},{\"attributes\":{\"axis\":{\"id\":\"1017\"},\"dimension\":1,\"ticker\":null},\"id\":\"1020\",\"type\":\"Grid\"},{\"attributes\":{\"data\":{\"left\":[10,12,14,16,18,20,22,24,26,28,30,32,34,36,38,40,42,44,46,48,50,52,54,56,58,60,62,64,66,68,70,72,74,76,78,80,82,84,86,88,90,92,94,96,98,100,102,104,106,108,110,112,114,116,118,120,122,124,126,128,130,132,134,136,138,140,142,144,146,148,150,152,154,156,158,160,162,164,166,168,170,172,174,176,178,180,182,184,186,188,190,192,194,196,198,200,202,204,206,208,210,212,214,216,218,220,222,224,226,228,230,232,234,236,238,240,242,244,246,248,250,252,254,256,258,260,262,264,266,268,270,272,274,276,278,280,282,284,286,288,290,292,294,296,298,300,302,304,306,308,310,312,314,316,318,320,322,324,326,328,330,332,334,336,338,340,342,344,346,348,350,352,354,356,358,360,362,364,366,368,370,372,374,376,378,380,382,384,386,388,390,392,394,396,398,400,402,404,406,408,410,412,414,416,418,420,422,424,426,428,430,432,434,436,438,440,442,444,446,448,450,452,454,456,458,460,462,464,466,468,470,472,474,476,478,480,482,484],\"right\":[12,14,16,18,20,22,24,26,28,30,32,34,36,38,40,42,44,46,48,50,52,54,56,58,60,62,64,66,68,70,72,74,76,78,80,82,84,86,88,90,92,94,96,98,100,102,104,106,108,110,112,114,116,118,120,122,124,126,128,130,132,134,136,138,140,142,144,146,148,150,152,154,156,158,160,162,164,166,168,170,172,174,176,178,180,182,184,186,188,190,192,194,196,198,200,202,204,206,208,210,212,214,216,218,220,222,224,226,228,230,232,234,236,238,240,242,244,246,248,250,252,254,256,258,260,262,264,266,268,270,272,274,276,278,280,282,284,286,288,290,292,294,296,298,300,302,304,306,308,310,312,314,316,318,320,322,324,326,328,330,332,334,336,338,340,342,344,346,348,350,352,354,356,358,360,362,364,366,368,370,372,374,376,378,380,382,384,386,388,390,392,394,396,398,400,402,404,406,408,410,412,414,416,418,420,422,424,426,428,430,432,434,436,438,440,442,444,446,448,450,452,454,456,458,460,462,464,466,468,470,472,474,476,478,480,482,484,486],\"top\":{\"__ndarray__\":\"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\",\"dtype\":\"float64\",\"order\":\"little\",\"shape\":[238]}},\"selected\":{\"id\":\"1046\"},\"selection_policy\":{\"id\":\"1045\"}},\"id\":\"1035\",\"type\":\"ColumnDataSource\"},{\"attributes\":{\"axis\":{\"id\":\"1013\"},\"ticker\":null},\"id\":\"1016\",\"type\":\"Grid\"},{\"attributes\":{\"source\":{\"id\":\"1035\"}},\"id\":\"1039\",\"type\":\"CDSView\"},{\"attributes\":{},\"id\":\"1024\",\"type\":\"SaveTool\"},{\"attributes\":{\"data_source\":{\"id\":\"1035\"},\"glyph\":{\"id\":\"1036\"},\"hover_glyph\":null,\"muted_glyph\":null,\"nonselection_glyph\":{\"id\":\"1037\"},\"selection_glyph\":null,\"view\":{\"id\":\"1039\"}},\"id\":\"1038\",\"type\":\"GlyphRenderer\"},{\"attributes\":{},\"id\":\"1005\",\"type\":\"DataRange1d\"},{\"attributes\":{\"bottom_units\":\"screen\",\"fill_alpha\":0.5,\"fill_color\":\"lightgrey\",\"left_units\":\"screen\",\"level\":\"overlay\",\"line_alpha\":1.0,\"line_color\":\"black\",\"line_dash\":[4,4],\"line_width\":2,\"right_units\":\"screen\",\"top_units\":\"screen\"},\"id\":\"1027\",\"type\":\"BoxAnnotation\"},{\"attributes\":{},\"id\":\"1009\",\"type\":\"LinearScale\"},{\"attributes\":{},\"id\":\"1014\",\"type\":\"BasicTicker\"},{\"attributes\":{},\"id\":\"1026\",\"type\":\"HelpTool\"},{\"attributes\":{\"text\":\"NEOM Total Annual Runoff (mm)\"},\"id\":\"1003\",\"type\":\"Title\"},{\"attributes\":{\"active_drag\":\"auto\",\"active_inspect\":\"auto\",\"active_multi\":null,\"active_scroll\":\"auto\",\"active_tap\":\"auto\",\"tools\":[{\"id\":\"1021\"},{\"id\":\"1022\"},{\"id\":\"1023\"},{\"id\":\"1024\"},{\"id\":\"1025\"},{\"id\":\"1026\"}]},\"id\":\"1028\",\"type\":\"Toolbar\"},{\"attributes\":{},\"id\":\"1025\",\"type\":\"ResetTool\"},{\"attributes\":{},\"id\":\"1018\",\"type\":\"BasicTicker\"},{\"attributes\":{},\"id\":\"1043\",\"type\":\"BasicTickFormatter\"},{\"attributes\":{\"formatter\":{\"id\":\"1041\"},\"ticker\":{\"id\":\"1018\"}},\"id\":\"1017\",\"type\":\"LinearAxis\"},{\"attributes\":{},\"id\":\"1041\",\"type\":\"BasicTickFormatter\"},{\"attributes\":{\"bottom\":{\"value\":0},\"fill_color\":{\"value\":\"navy\"},\"left\":{\"field\":\"left\"},\"line_color\":{\"value\":\"navy\"},\"right\":{\"field\":\"right\"},\"top\":{\"field\":\"top\"}},\"id\":\"1036\",\"type\":\"Quad\"},{\"attributes\":{},\"id\":\"1011\",\"type\":\"LinearScale\"},{\"attributes\":{\"bottom\":{\"value\":0},\"fill_alpha\":{\"value\":0.1},\"fill_color\":{\"value\":\"navy\"},\"left\":{\"field\":\"left\"},\"line_alpha\":{\"value\":0.1},\"line_color\":{\"value\":\"navy\"},\"right\":{\"field\":\"right\"},\"top\":{\"field\":\"top\"}},\"id\":\"1037\",\"type\":\"Quad\"},{\"attributes\":{\"overlay\":{\"id\":\"1027\"}},\"id\":\"1023\",\"type\":\"BoxZoomTool\"},{\"attributes\":{},\"id\":\"1045\",\"type\":\"UnionRenderers\"},{\"attributes\":{},\"id\":\"1007\",\"type\":\"DataRange1d\"},{\"attributes\":{\"formatter\":{\"id\":\"1043\"},\"ticker\":{\"id\":\"1014\"}},\"id\":\"1013\",\"type\":\"LinearAxis\"},{\"attributes\":{},\"id\":\"1022\",\"type\":\"WheelZoomTool\"},{\"attributes\":{},\"id\":\"1046\",\"type\":\"Selection\"},{\"attributes\":{},\"id\":\"1021\",\"type\":\"PanTool\"}],\"root_ids\":[\"1002\"]},\"title\":\"Bokeh Application\",\"version\":\"2.2.3\"}};\n",
       "  var render_items = [{\"docid\":\"f6e059b1-36e4-4eeb-b797-dcf255c28e26\",\"root_ids\":[\"1002\"],\"roots\":{\"1002\":\"2bc9b5c7-84fd-4451-a83b-ce3c91c6c822\"}}];\n",
       "  root.Bokeh.embed.embed_items_notebook(docs_json, render_items);\n",
       "\n",
       "  }\n",
       "  if (root.Bokeh !== undefined) {\n",
       "    embed_document(root);\n",
       "  } else {\n",
       "    var attempts = 0;\n",
       "    var timer = setInterval(function(root) {\n",
       "      if (root.Bokeh !== undefined) {\n",
       "        clearInterval(timer);\n",
       "        embed_document(root);\n",
       "      } else {\n",
       "        attempts++;\n",
       "        if (attempts > 100) {\n",
       "          clearInterval(timer);\n",
       "          console.log(\"Bokeh: ERROR: Unable to run BokehJS code because BokehJS library is missing\");\n",
       "        }\n",
       "      }\n",
       "    }, 10, root)\n",
       "  }\n",
       "})(window);"
      ],
      "application/vnd.bokehjs_exec.v0+json": ""
     },
     "metadata": {
      "application/vnd.bokehjs_exec.v0+json": {
       "id": "1002"
      }
     },
     "output_type": "display_data"
    }
   ],
   "source": [
    "# Plot a histogram of the annual total runoff\n",
    "runoff_hist = ee.Dictionary(\n",
    "    runoff_mm\n",
    "    .reduceRegion(\n",
    "        ee.Reducer.histogram(), scale=100, bestEffort = True).get('surface_runoff'))\n",
    "\n",
    "hist = np.array(runoff_hist.get('histogram').getInfo())\n",
    "edges = (\n",
    "    (np.array(list(range(len(hist) + 1))) * \n",
    "     np.array(runoff_hist.get('bucketWidth').getInfo())) + \n",
    "    np.array(runoff_hist.get('bucketMin').getInfo()) )\n",
    "\n",
    "p = figure(\n",
    "    title='NEOM Total Annual Runoff (mm)', \n",
    "    background_fill_color=\"white\", height = 300)\n",
    "_ = p.quad(\n",
    "    top=hist,\n",
    "    bottom=0,\n",
    "    left=edges[:-1],\n",
    "    right=edges[1:],\n",
    "    fill_color=\"navy\",\n",
    "    line_color=\"navy\",\n",
    "    alpha=1.)\n",
    "show(p)"
   ]
  },
  {
   "cell_type": "code",
   "execution_count": 8,
   "metadata": {},
   "outputs": [
    {
     "data": {
      "text/plain": [
       "[0, 0.28459507230621983]"
      ]
     },
     "execution_count": 8,
     "metadata": {},
     "output_type": "execute_result"
    }
   ],
   "source": [
    "#putting in threshold to mask annual runoff\n",
    "runoff_threshold_mm = 20\n",
    "runoff_mask = runoff_mm.gte(runoff_threshold_mm)\n",
    "runoff_update = runoff_mm.updateMask(runoff_mask)\n",
    "runoff_scaled = norm.img_scale(runoff_update, area_of_interest=bbox)\n",
    "\n",
    "#putting a threshold and scaling seasonal runoff scores, 304.01 is maximum seasonal runoff (mm/season) in winter\n",
    "\n",
    "runoff_threshold_mm_seas = 5\n",
    "runoff_mask_wint = runoff_mm_wint.gte(runoff_threshold_mm_seas)\n",
    "runoff_update_wint = runoff_mm_wint.updateMask(runoff_mask_wint)\n",
    "runoff_scaled_wint = norm.img_scale(runoff_update_wint, max = 304.01, area_of_interest=bbox)\n",
    "norm.img_range(runoff_scaled_wint, area_of_interest=bbox)\n",
    "\n",
    "runoff_mask_spr = runoff_mm_spr.gte(runoff_threshold_mm_seas)\n",
    "runoff_update_spr = runoff_mm_spr.updateMask(runoff_mask_spr)\n",
    "runoff_scaled_spr = norm.img_scale(runoff_update_spr, max = 304.01, area_of_interest=bbox)\n",
    "norm.img_range(runoff_scaled_spr, area_of_interest=bbox)\n",
    "\n",
    "runoff_mask_summer = runoff_mm_summer.gte(runoff_threshold_mm_seas)\n",
    "runoff_update_summer = runoff_mm_summer.updateMask(runoff_mask_summer)\n",
    "runoff_scaled_summer = norm.img_scale(runoff_update_summer, max = 304.01, area_of_interest=bbox)\n",
    "norm.img_range(runoff_scaled_summer, area_of_interest=bbox)\n",
    "\n",
    "runoff_mask_fall = runoff_mm_fall.gte(runoff_threshold_mm_seas)\n",
    "runoff_update_fall = runoff_mm_fall.updateMask(runoff_mask_fall)\n",
    "runoff_scaled_fall = norm.img_scale(runoff_update_fall, max = 304.01, area_of_interest=bbox)\n",
    "norm.img_range(runoff_scaled_fall, area_of_interest=bbox)"
   ]
  },
  {
   "cell_type": "markdown",
   "metadata": {},
   "source": [
    "## Calculate the PRZ score"
   ]
  },
  {
   "cell_type": "code",
   "execution_count": 9,
   "metadata": {},
   "outputs": [],
   "source": [
    "score = (runoff_scaled.multiply(.5)\n",
    "         .add(top_soils_scaled.multiply(.25))\n",
    "         .add(slope_img_scaled.multiply(.25)))\n",
    "score = norm.img_scale(score, area_of_interest=bbox).rename('score')\n",
    "norm.img_range(score, area_of_interest=bbox)\n",
    "\n",
    "#calculate seasonal scores as well, 0.711 is maximum winter PRZ score\n",
    "score_wint = (runoff_scaled_wint.multiply(.5)\n",
    "         .add(top_soils_scaled.multiply(.25))\n",
    "         .add(slope_img_scaled.multiply(.25)))\n",
    "score_wint = norm.img_scale(score_wint, area_of_interest=bbox).rename('score_wint')\n",
    "\n",
    "score_spr = (runoff_scaled_spr.multiply(.5)\n",
    "         .add(top_soils_scaled.multiply(.25))\n",
    "         .add(slope_img_scaled.multiply(.25)))\n",
    "score_spr = norm.img_scale(score_spr, max = 0.711, area_of_interest=bbox).rename('score_spr')\n",
    "\n",
    "score_summer = (runoff_scaled_summer.multiply(.5)\n",
    "         .add(top_soils_scaled.multiply(.25))\n",
    "         .add(slope_img_scaled.multiply(.25)))\n",
    "score_summer = norm.img_scale(score_summer, max = 0.711, area_of_interest=bbox).rename('score_summer')\n",
    "\n",
    "score_fall = (runoff_scaled_fall.multiply(.5)\n",
    "         .add(top_soils_scaled.multiply(.25))\n",
    "         .add(slope_img_scaled.multiply(.25)))\n",
    "score_fall = norm.img_scale(score_fall, max = 0.711, area_of_interest=bbox).rename('score_fall')"
   ]
  },
  {
   "cell_type": "code",
   "execution_count": 10,
   "metadata": {},
   "outputs": [
    {
     "data": {
      "text/html": [
       "\n",
       "\n",
       "\n",
       "\n",
       "\n",
       "\n",
       "  <div class=\"bk-root\" id=\"aab9e547-31c2-4d11-8f89-8c5cee7acb73\" data-root-id=\"1088\"></div>\n"
      ]
     },
     "metadata": {},
     "output_type": "display_data"
    },
    {
     "data": {
      "application/javascript": [
       "(function(root) {\n",
       "  function embed_document(root) {\n",
       "    \n",
       "  var docs_json = {\"c817658b-1400-4892-842f-c8583d4130c9\":{\"roots\":{\"references\":[{\"attributes\":{\"background_fill_color\":\"white\",\"below\":[{\"id\":\"1099\"}],\"center\":[{\"id\":\"1102\"},{\"id\":\"1106\"}],\"left\":[{\"id\":\"1103\"}],\"plot_height\":300,\"renderers\":[{\"id\":\"1124\"}],\"title\":{\"id\":\"1089\"},\"toolbar\":{\"id\":\"1114\"},\"x_range\":{\"id\":\"1091\"},\"x_scale\":{\"id\":\"1095\"},\"y_range\":{\"id\":\"1093\"},\"y_scale\":{\"id\":\"1097\"}},\"id\":\"1088\",\"subtype\":\"Figure\",\"type\":\"Plot\"},{\"attributes\":{\"source\":{\"id\":\"1121\"}},\"id\":\"1125\",\"type\":\"CDSView\"},{\"attributes\":{\"formatter\":{\"id\":\"1137\"},\"ticker\":{\"id\":\"1100\"}},\"id\":\"1099\",\"type\":\"LinearAxis\"},{\"attributes\":{},\"id\":\"1093\",\"type\":\"DataRange1d\"},{\"attributes\":{},\"id\":\"1104\",\"type\":\"BasicTicker\"},{\"attributes\":{},\"id\":\"1139\",\"type\":\"UnionRenderers\"},{\"attributes\":{},\"id\":\"1095\",\"type\":\"LinearScale\"},{\"attributes\":{},\"id\":\"1100\",\"type\":\"BasicTicker\"},{\"attributes\":{\"data_source\":{\"id\":\"1121\"},\"glyph\":{\"id\":\"1122\"},\"hover_glyph\":null,\"muted_glyph\":null,\"nonselection_glyph\":{\"id\":\"1123\"},\"selection_glyph\":null,\"view\":{\"id\":\"1125\"}},\"id\":\"1124\",\"type\":\"GlyphRenderer\"},{\"attributes\":{\"bottom\":{\"value\":0},\"fill_color\":{\"value\":\"navy\"},\"left\":{\"field\":\"left\"},\"line_color\":{\"value\":\"navy\"},\"right\":{\"field\":\"right\"},\"top\":{\"field\":\"top\"}},\"id\":\"1122\",\"type\":\"Quad\"},{\"attributes\":{\"bottom\":{\"value\":0},\"fill_alpha\":{\"value\":0.1},\"fill_color\":{\"value\":\"navy\"},\"left\":{\"field\":\"left\"},\"line_alpha\":{\"value\":0.1},\"line_color\":{\"value\":\"navy\"},\"right\":{\"field\":\"right\"},\"top\":{\"field\":\"top\"}},\"id\":\"1123\",\"type\":\"Quad\"},{\"attributes\":{},\"id\":\"1091\",\"type\":\"DataRange1d\"},{\"attributes\":{\"overlay\":{\"id\":\"1113\"}},\"id\":\"1109\",\"type\":\"BoxZoomTool\"},{\"attributes\":{\"axis\":{\"id\":\"1099\"},\"ticker\":null},\"id\":\"1102\",\"type\":\"Grid\"},{\"attributes\":{\"data\":{\"left\":{\"__ndarray__\":\"AAAAAAAAAAAAAAAAAACAPwAAAAAAAJA/AAAAAAAAmD8AAAAAAACgPwAAAAAAAKQ/AAAAAAAAqD8AAAAAAACsPwAAAAAAALA/AAAAAAAAsj8AAAAAAAC0PwAAAAAAALY/AAAAAAAAuD8AAAAAAAC6PwAAAAAAALw/AAAAAAAAvj8AAAAAAADAPwAAAAAAAME/AAAAAAAAwj8AAAAAAADDPwAAAAAAAMQ/AAAAAAAAxT8AAAAAAADGPwAAAAAAAMc/AAAAAAAAyD8AAAAAAADJPwAAAAAAAMo/AAAAAAAAyz8AAAAAAADMPwAAAAAAAM0/AAAAAAAAzj8AAAAAAADPPwAAAAAAANA/AAAAAACA0D8AAAAAAADRPwAAAAAAgNE/AAAAAAAA0j8AAAAAAIDSPwAAAAAAANM/AAAAAACA0z8AAAAAAADUPwAAAAAAgNQ/AAAAAAAA1T8AAAAAAIDVPwAAAAAAANY/AAAAAACA1j8AAAAAAADXPwAAAAAAgNc/AAAAAAAA2D8AAAAAAIDYPwAAAAAAANk/AAAAAACA2T8AAAAAAADaPwAAAAAAgNo/AAAAAAAA2z8AAAAAAIDbPwAAAAAAANw/AAAAAACA3D8AAAAAAADdPwAAAAAAgN0/AAAAAAAA3j8AAAAAAIDePwAAAAAAAN8/AAAAAACA3z8AAAAAAADgPwAAAAAAQOA/AAAAAACA4D8AAAAAAMDgPwAAAAAAAOE/AAAAAABA4T8AAAAAAIDhPwAAAAAAwOE/AAAAAAAA4j8AAAAAAEDiPwAAAAAAgOI/AAAAAADA4j8AAAAAAADjPwAAAAAAQOM/AAAAAACA4z8AAAAAAMDjPwAAAAAAAOQ/AAAAAABA5D8AAAAAAIDkPwAAAAAAwOQ/AAAAAAAA5T8AAAAAAEDlPwAAAAAAgOU/AAAAAADA5T8AAAAAAADmPwAAAAAAQOY/AAAAAACA5j8AAAAAAMDmPwAAAAAAAOc/AAAAAABA5z8AAAAAAIDnPwAAAAAAwOc/AAAAAAAA6D8AAAAAAEDoPwAAAAAAgOg/AAAAAADA6D8AAAAAAADpPwAAAAAAQOk/AAAAAACA6T8AAAAAAMDpPwAAAAAAAOo/AAAAAABA6j8AAAAAAIDqPwAAAAAAwOo/AAAAAAAA6z8AAAAAAEDrPwAAAAAAgOs/AAAAAADA6z8AAAAAAADsPwAAAAAAQOw/AAAAAACA7D8AAAAAAMDsPwAAAAAAAO0/AAAAAABA7T8AAAAAAIDtPwAAAAAAwO0/AAAAAAAA7j8AAAAAAEDuPwAAAAAAgO4/AAAAAADA7j8AAAAAAADvPwAAAAAAQO8/AAAAAACA7z8AAAAAAMDvPwAAAAAAAPA/\",\"dtype\":\"float64\",\"order\":\"little\",\"shape\":[129]},\"right\":{\"__ndarray__\":\"AAAAAAAAgD8AAAAAAACQPwAAAAAAAJg/AAAAAAAAoD8AAAAAAACkPwAAAAAAAKg/AAAAAAAArD8AAAAAAACwPwAAAAAAALI/AAAAAAAAtD8AAAAAAAC2PwAAAAAAALg/AAAAAAAAuj8AAAAAAAC8PwAAAAAAAL4/AAAAAAAAwD8AAAAAAADBPwAAAAAAAMI/AAAAAAAAwz8AAAAAAADEPwAAAAAAAMU/AAAAAAAAxj8AAAAAAADHPwAAAAAAAMg/AAAAAAAAyT8AAAAAAADKPwAAAAAAAMs/AAAAAAAAzD8AAAAAAADNPwAAAAAAAM4/AAAAAAAAzz8AAAAAAADQPwAAAAAAgNA/AAAAAAAA0T8AAAAAAIDRPwAAAAAAANI/AAAAAACA0j8AAAAAAADTPwAAAAAAgNM/AAAAAAAA1D8AAAAAAIDUPwAAAAAAANU/AAAAAACA1T8AAAAAAADWPwAAAAAAgNY/AAAAAAAA1z8AAAAAAIDXPwAAAAAAANg/AAAAAACA2D8AAAAAAADZPwAAAAAAgNk/AAAAAAAA2j8AAAAAAIDaPwAAAAAAANs/AAAAAACA2z8AAAAAAADcPwAAAAAAgNw/AAAAAAAA3T8AAAAAAIDdPwAAAAAAAN4/AAAAAACA3j8AAAAAAADfPwAAAAAAgN8/AAAAAAAA4D8AAAAAAEDgPwAAAAAAgOA/AAAAAADA4D8AAAAAAADhPwAAAAAAQOE/AAAAAACA4T8AAAAAAMDhPwAAAAAAAOI/AAAAAABA4j8AAAAAAIDiPwAAAAAAwOI/AAAAAAAA4z8AAAAAAEDjPwAAAAAAgOM/AAAAAADA4z8AAAAAAADkPwAAAAAAQOQ/AAAAAACA5D8AAAAAAMDkPwAAAAAAAOU/AAAAAABA5T8AAAAAAIDlPwAAAAAAwOU/AAAAAAAA5j8AAAAAAEDmPwAAAAAAgOY/AAAAAADA5j8AAAAAAADnPwAAAAAAQOc/AAAAAACA5z8AAAAAAMDnPwAAAAAAAOg/AAAAAABA6D8AAAAAAIDoPwAAAAAAwOg/AAAAAAAA6T8AAAAAAEDpPwAAAAAAgOk/AAAAAADA6T8AAAAAAADqPwAAAAAAQOo/AAAAAACA6j8AAAAAAMDqPwAAAAAAAOs/AAAAAABA6z8AAAAAAIDrPwAAAAAAwOs/AAAAAAAA7D8AAAAAAEDsPwAAAAAAgOw/AAAAAADA7D8AAAAAAADtPwAAAAAAQO0/AAAAAACA7T8AAAAAAMDtPwAAAAAAAO4/AAAAAABA7j8AAAAAAIDuPwAAAAAAwO4/AAAAAAAA7z8AAAAAAEDvPwAAAAAAgO8/AAAAAADA7z8AAAAAAADwPwAAAAAAIPA/\",\"dtype\":\"float64\",\"order\":\"little\",\"shape\":[129]},\"top\":{\"__ndarray__\":\"AAAAAABgYUAAAAAAAAAwQAAAAAAAQFJAEBAQEBCQTUAAAAAAAAAoQAAAAAAAAPA/AAAAAAAAGEAAAAAAAAAxQAAAAAAAAD1AAAAAAAAAAAAAAAAAAAAAAAAAAAAAAAAAAAAAAAAAAAAAAAAAAAAAAAAAAAAAADRAAAAAAAAAAAAAAAAAAADwPwAAAAAAqKhAEA8PD48WxkD29PT01GDhQMTDw8NDh+tAeXl5edkz6EDq6OjoKAfXQLe3t7f35NVANTU1NbV11UCnpqampk/QQMDBwcHBWdRAZmZmZmbdykAVFRUVVf3RQJuampoaOMZA6unp6em9wkCko6OjA2vjQLKurq7u6+JAZGBgYBDr+0DT0tLS4sn2QCAgICDANPdAWllZWTkW8kD8+/v7ix7yQNnZ2dm5T+1AiomJicmK6ECgn5+fnyzmQAcHBwcH7NpAamlpaekH20BGRUVFRRrAQAUFBQUFTbRAgoGBgYG1sUC+vr6+voDFQEJBQUFB4LhADAwMDAxEkEBfXl5eXqaGQNbV1dXV8rhArKurq6sVpkAAAAAAANDCQFdXV1dXi5JAAAAAAACgrUAAAAAAAMalQM7Nzc3NVaVA9vX19fVFckAyMjIyMmijQJ2cnJyccq5A8O/v7+/VtEDe3d3d3Ya9QGBfX19fkbtAf4WFhYXtpEAeHh4eHhqzQIyPj4+Pe55AAAAAAAAioEBAQEBAQOaoQBgjIyMjZ51ATk5OTk5uuEC7urq6usqHQAAAAAAAMJdA+vn5+flTp0C6ubm5uXl9QAAAAAAAgFNAAAAAAABAlUDi4eHh4ZulQGppaWlpd65APDw8PDxWpEBfX19fXxSxQAAAAAAAJrhA2NfX19fndkDEw8PDw5OFQOLh4eHhkXpAAAAAAADgdUAAAAAAAMBrQAAAAAAAQFRAAAAAAABAWUAAAAAAAAB7QAAAAAAAAEhAAAAAAAAAJkAAAAAAAEBtQAAAAAAA9JlAAAAAAAC4oEAAAAAAAKBgQAAAAAAAOIFAAAAAAADYgkAAAAAAAAAsQAAAAAAAAABAAAAAAAAAEEAAAAAAAADwPwAAAAAAAAhAAAAAAAAAAEAAAAAAAAAAAAAAAAAAAABAAAAAAAAAAAAAAAAAAAAAAAAAAAAAsH9AAAAAAAC4kEAAAAAAACBgQAAAAAAAADdAAAAAAAAAJkAAAAAAAIBeQAAAAAAAADpAAAAAAAAAIEAAAAAAAADwPwAAAAAAgEdAAAAAAACAUUAAAAAAAAAQQAAAAAAAAAhAAAAAAAAA8D8AAAAAAKSZQAAAAAAAYG9AAAAAAAAAPUAAAAAAAAAiQAAAAAAAABBAAAAAAAAAAEAAAAAAAAAAAAAAAAAAAPA/\",\"dtype\":\"float64\",\"order\":\"little\",\"shape\":[129]}},\"selected\":{\"id\":\"1140\"},\"selection_policy\":{\"id\":\"1139\"}},\"id\":\"1121\",\"type\":\"ColumnDataSource\"},{\"attributes\":{},\"id\":\"1112\",\"type\":\"HelpTool\"},{\"attributes\":{\"formatter\":{\"id\":\"1135\"},\"ticker\":{\"id\":\"1104\"}},\"id\":\"1103\",\"type\":\"LinearAxis\"},{\"attributes\":{},\"id\":\"1140\",\"type\":\"Selection\"},{\"attributes\":{},\"id\":\"1137\",\"type\":\"BasicTickFormatter\"},{\"attributes\":{},\"id\":\"1107\",\"type\":\"PanTool\"},{\"attributes\":{},\"id\":\"1111\",\"type\":\"ResetTool\"},{\"attributes\":{\"text\":\"NEOM PRZ Score\"},\"id\":\"1089\",\"type\":\"Title\"},{\"attributes\":{},\"id\":\"1135\",\"type\":\"BasicTickFormatter\"},{\"attributes\":{\"axis\":{\"id\":\"1103\"},\"dimension\":1,\"ticker\":null},\"id\":\"1106\",\"type\":\"Grid\"},{\"attributes\":{\"active_drag\":\"auto\",\"active_inspect\":\"auto\",\"active_multi\":null,\"active_scroll\":\"auto\",\"active_tap\":\"auto\",\"tools\":[{\"id\":\"1107\"},{\"id\":\"1108\"},{\"id\":\"1109\"},{\"id\":\"1110\"},{\"id\":\"1111\"},{\"id\":\"1112\"}]},\"id\":\"1114\",\"type\":\"Toolbar\"},{\"attributes\":{},\"id\":\"1110\",\"type\":\"SaveTool\"},{\"attributes\":{},\"id\":\"1108\",\"type\":\"WheelZoomTool\"},{\"attributes\":{\"bottom_units\":\"screen\",\"fill_alpha\":0.5,\"fill_color\":\"lightgrey\",\"left_units\":\"screen\",\"level\":\"overlay\",\"line_alpha\":1.0,\"line_color\":\"black\",\"line_dash\":[4,4],\"line_width\":2,\"right_units\":\"screen\",\"top_units\":\"screen\"},\"id\":\"1113\",\"type\":\"BoxAnnotation\"},{\"attributes\":{},\"id\":\"1097\",\"type\":\"LinearScale\"}],\"root_ids\":[\"1088\"]},\"title\":\"Bokeh Application\",\"version\":\"2.2.3\"}};\n",
       "  var render_items = [{\"docid\":\"c817658b-1400-4892-842f-c8583d4130c9\",\"root_ids\":[\"1088\"],\"roots\":{\"1088\":\"aab9e547-31c2-4d11-8f89-8c5cee7acb73\"}}];\n",
       "  root.Bokeh.embed.embed_items_notebook(docs_json, render_items);\n",
       "\n",
       "  }\n",
       "  if (root.Bokeh !== undefined) {\n",
       "    embed_document(root);\n",
       "  } else {\n",
       "    var attempts = 0;\n",
       "    var timer = setInterval(function(root) {\n",
       "      if (root.Bokeh !== undefined) {\n",
       "        clearInterval(timer);\n",
       "        embed_document(root);\n",
       "      } else {\n",
       "        attempts++;\n",
       "        if (attempts > 100) {\n",
       "          clearInterval(timer);\n",
       "          console.log(\"Bokeh: ERROR: Unable to run BokehJS code because BokehJS library is missing\");\n",
       "        }\n",
       "      }\n",
       "    }, 10, root)\n",
       "  }\n",
       "})(window);"
      ],
      "application/vnd.bokehjs_exec.v0+json": ""
     },
     "metadata": {
      "application/vnd.bokehjs_exec.v0+json": {
       "id": "1088"
      }
     },
     "output_type": "display_data"
    }
   ],
   "source": [
    "# Plot a histogram of the scores\n",
    "score_hist = ee.Dictionary(\n",
    "    score.clip(bbox)\n",
    "    .reduceRegion(\n",
    "        ee.Reducer.histogram()).get('score'))\n",
    "\n",
    "hist = np.array(score_hist.get('histogram').getInfo())\n",
    "edges = (\n",
    "    (np.array(list(range(len(hist) + 1))) * \n",
    "     np.array(score_hist.get('bucketWidth').getInfo())) + \n",
    "    np.array(score_hist.get('bucketMin').getInfo()) )\n",
    "\n",
    "p = figure(\n",
    "    title='NEOM PRZ Score', \n",
    "    background_fill_color=\"white\", height = 300)\n",
    "_ = p.quad(\n",
    "    top=hist,\n",
    "    bottom=0,\n",
    "    left=edges[:-1],\n",
    "    right=edges[1:],\n",
    "    fill_color=\"navy\",\n",
    "    line_color=\"navy\",\n",
    "    alpha=1.)\n",
    "show(p)"
   ]
  },
  {
   "cell_type": "code",
   "execution_count": 11,
   "metadata": {},
   "outputs": [
    {
     "data": {
      "text/html": [
       "\n",
       "\n",
       "\n",
       "\n",
       "\n",
       "\n",
       "  <div class=\"bk-root\" id=\"58e1f6e5-6e4a-4074-ae60-e2e1308565bc\" data-root-id=\"1182\"></div>\n"
      ]
     },
     "metadata": {},
     "output_type": "display_data"
    },
    {
     "data": {
      "application/javascript": [
       "(function(root) {\n",
       "  function embed_document(root) {\n",
       "    \n",
       "  var docs_json = {\"ce4b0371-709a-41d5-abb1-0b059b437327\":{\"roots\":{\"references\":[{\"attributes\":{\"below\":[{\"id\":\"1193\"}],\"center\":[{\"id\":\"1196\"},{\"id\":\"1200\"}],\"left\":[{\"id\":\"1197\"}],\"plot_height\":75,\"plot_width\":500,\"renderers\":[{\"id\":\"1218\"}],\"title\":{\"id\":\"1183\"},\"toolbar\":{\"id\":\"1208\"},\"x_range\":{\"id\":\"1185\"},\"x_scale\":{\"id\":\"1189\"},\"y_range\":{\"id\":\"1187\"},\"y_scale\":{\"id\":\"1191\"}},\"id\":\"1182\",\"subtype\":\"Figure\",\"type\":\"Plot\"},{\"attributes\":{},\"id\":\"1198\",\"type\":\"BasicTicker\"},{\"attributes\":{},\"id\":\"1205\",\"type\":\"ResetTool\"},{\"attributes\":{\"bottom\":{\"field\":\"bottom\"},\"fill_alpha\":{\"value\":0.1},\"fill_color\":{\"field\":\"fill_color\"},\"line_alpha\":{\"value\":0.1},\"line_color\":{\"field\":\"line_color\"},\"top\":{\"field\":\"top\"},\"width\":{\"value\":0.2},\"x\":{\"field\":\"x\"}},\"id\":\"1217\",\"type\":\"VBar\"},{\"attributes\":{\"axis\":{\"id\":\"1197\"},\"dimension\":1,\"ticker\":null},\"id\":\"1200\",\"type\":\"Grid\"},{\"attributes\":{},\"id\":\"1194\",\"type\":\"BasicTicker\"},{\"attributes\":{},\"id\":\"1204\",\"type\":\"SaveTool\"},{\"attributes\":{},\"id\":\"1187\",\"type\":\"DataRange1d\"},{\"attributes\":{\"active_drag\":\"auto\",\"active_inspect\":\"auto\",\"active_multi\":null,\"active_scroll\":\"auto\",\"active_tap\":\"auto\",\"tools\":[{\"id\":\"1201\"},{\"id\":\"1202\"},{\"id\":\"1203\"},{\"id\":\"1204\"},{\"id\":\"1205\"},{\"id\":\"1206\"}]},\"id\":\"1208\",\"type\":\"Toolbar\"},{\"attributes\":{},\"id\":\"1242\",\"type\":\"Selection\"},{\"attributes\":{\"source\":{\"id\":\"1215\"}},\"id\":\"1219\",\"type\":\"CDSView\"},{\"attributes\":{\"text\":\"NEOM PRZ Score\"},\"id\":\"1183\",\"type\":\"Title\"},{\"attributes\":{},\"id\":\"1237\",\"type\":\"BasicTickFormatter\"},{\"attributes\":{},\"id\":\"1239\",\"type\":\"BasicTickFormatter\"},{\"attributes\":{},\"id\":\"1202\",\"type\":\"WheelZoomTool\"},{\"attributes\":{\"data_source\":{\"id\":\"1215\"},\"glyph\":{\"id\":\"1216\"},\"hover_glyph\":null,\"muted_glyph\":null,\"nonselection_glyph\":{\"id\":\"1217\"},\"selection_glyph\":null,\"view\":{\"id\":\"1219\"}},\"id\":\"1218\",\"type\":\"GlyphRenderer\"},{\"attributes\":{\"overlay\":{\"id\":\"1207\"}},\"id\":\"1203\",\"type\":\"BoxZoomTool\"},{\"attributes\":{\"data\":{\"bottom\":[1,1,1,1,1],\"fill_color\":[\"#eff3ff\",\"#bdd7e7\",\"#6baed6\",\"#3182bd\",\"#08519c\"],\"line_color\":[\"#eff3ff\",\"#bdd7e7\",\"#6baed6\",\"#3182bd\",\"#08519c\"],\"top\":[0,0,0,0,0],\"x\":[0.1,0.30000000000000004,0.5,0.7000000000000001,0.9]},\"selected\":{\"id\":\"1242\"},\"selection_policy\":{\"id\":\"1241\"}},\"id\":\"1215\",\"type\":\"ColumnDataSource\"},{\"attributes\":{},\"id\":\"1201\",\"type\":\"PanTool\"},{\"attributes\":{\"formatter\":{\"id\":\"1239\"},\"ticker\":{\"id\":\"1194\"}},\"id\":\"1193\",\"type\":\"LinearAxis\"},{\"attributes\":{\"bottom_units\":\"screen\",\"fill_alpha\":0.5,\"fill_color\":\"lightgrey\",\"left_units\":\"screen\",\"level\":\"overlay\",\"line_alpha\":1.0,\"line_color\":\"black\",\"line_dash\":[4,4],\"line_width\":2,\"right_units\":\"screen\",\"top_units\":\"screen\"},\"id\":\"1207\",\"type\":\"BoxAnnotation\"},{\"attributes\":{\"bottom\":{\"field\":\"bottom\"},\"fill_color\":{\"field\":\"fill_color\"},\"line_color\":{\"field\":\"line_color\"},\"top\":{\"field\":\"top\"},\"width\":{\"value\":0.2},\"x\":{\"field\":\"x\"}},\"id\":\"1216\",\"type\":\"VBar\"},{\"attributes\":{},\"id\":\"1241\",\"type\":\"UnionRenderers\"},{\"attributes\":{\"formatter\":{\"id\":\"1237\"},\"ticker\":{\"id\":\"1198\"}},\"id\":\"1197\",\"type\":\"LinearAxis\"},{\"attributes\":{},\"id\":\"1189\",\"type\":\"LinearScale\"},{\"attributes\":{\"axis\":{\"id\":\"1193\"},\"ticker\":null},\"id\":\"1196\",\"type\":\"Grid\"},{\"attributes\":{},\"id\":\"1206\",\"type\":\"HelpTool\"},{\"attributes\":{},\"id\":\"1185\",\"type\":\"DataRange1d\"},{\"attributes\":{},\"id\":\"1191\",\"type\":\"LinearScale\"}],\"root_ids\":[\"1182\"]},\"title\":\"Bokeh Application\",\"version\":\"2.2.3\"}};\n",
       "  var render_items = [{\"docid\":\"ce4b0371-709a-41d5-abb1-0b059b437327\",\"root_ids\":[\"1182\"],\"roots\":{\"1182\":\"58e1f6e5-6e4a-4074-ae60-e2e1308565bc\"}}];\n",
       "  root.Bokeh.embed.embed_items_notebook(docs_json, render_items);\n",
       "\n",
       "  }\n",
       "  if (root.Bokeh !== undefined) {\n",
       "    embed_document(root);\n",
       "  } else {\n",
       "    var attempts = 0;\n",
       "    var timer = setInterval(function(root) {\n",
       "      if (root.Bokeh !== undefined) {\n",
       "        clearInterval(timer);\n",
       "        embed_document(root);\n",
       "      } else {\n",
       "        attempts++;\n",
       "        if (attempts > 100) {\n",
       "          clearInterval(timer);\n",
       "          console.log(\"Bokeh: ERROR: Unable to run BokehJS code because BokehJS library is missing\");\n",
       "        }\n",
       "      }\n",
       "    }, 10, root)\n",
       "  }\n",
       "})(window);"
      ],
      "application/vnd.bokehjs_exec.v0+json": ""
     },
     "metadata": {
      "application/vnd.bokehjs_exec.v0+json": {
       "id": "1182"
      }
     },
     "output_type": "display_data"
    }
   ],
   "source": [
    "# Map parameters\n",
    "box_corners = bbox.toGeoJSON()['coordinates'][0]\n",
    "center_lon = mean([corner[0] for corner in box_corners])\n",
    "center_lat = mean([corner[1] for corner in box_corners])\n",
    "\n",
    "palette_name = 'Blues'\n",
    "palette_len = 5\n",
    "\n",
    "vis_min = 0\n",
    "vis_max = 1\n",
    "\n",
    "palette = vis.brewer[palette_name][palette_len][::-1]\n",
    "vis.legend(\n",
    "    palette=palette, minimum=vis_min, maximum=vis_max, title='NEOM PRZ Score')\n",
    "\n",
    "vis_params = {\n",
    "    'min': vis_min, 'max': vis_max, 'dimensions': 512,\n",
    "    'palette': palette}"
   ]
  },
  {
   "cell_type": "code",
   "execution_count": 12,
   "metadata": {},
   "outputs": [
    {
     "data": {
      "text/html": [
       "<div style=\"width:100%;\"><div style=\"position:relative;width:100%;height:0;padding-bottom:60%;\"><span style=\"color:#565656\">Make this Notebook Trusted to load map: File -> Trust Notebook</span><iframe src=\"about:blank\" style=\"position:absolute;width:100%;height:100%;left:0;top:0;border:none !important;\" data-html=%3C%21DOCTYPE%20html%3E%0A%3Chead%3E%20%20%20%20%0A%20%20%20%20%3Cmeta%20http-equiv%3D%22content-type%22%20content%3D%22text/html%3B%20charset%3DUTF-8%22%20/%3E%0A%20%20%20%20%0A%20%20%20%20%20%20%20%20%3Cscript%3E%0A%20%20%20%20%20%20%20%20%20%20%20%20L_NO_TOUCH%20%3D%20false%3B%0A%20%20%20%20%20%20%20%20%20%20%20%20L_DISABLE_3D%20%3D%20false%3B%0A%20%20%20%20%20%20%20%20%3C/script%3E%0A%20%20%20%20%0A%20%20%20%20%3Cstyle%3Ehtml%2C%20body%20%7Bwidth%3A%20100%25%3Bheight%3A%20100%25%3Bmargin%3A%200%3Bpadding%3A%200%3B%7D%3C/style%3E%0A%20%20%20%20%3Cstyle%3E%23map%20%7Bposition%3Aabsolute%3Btop%3A0%3Bbottom%3A0%3Bright%3A0%3Bleft%3A0%3B%7D%3C/style%3E%0A%20%20%20%20%3Cscript%20src%3D%22https%3A//cdn.jsdelivr.net/npm/leaflet%401.6.0/dist/leaflet.js%22%3E%3C/script%3E%0A%20%20%20%20%3Cscript%20src%3D%22https%3A//code.jquery.com/jquery-1.12.4.min.js%22%3E%3C/script%3E%0A%20%20%20%20%3Cscript%20src%3D%22https%3A//maxcdn.bootstrapcdn.com/bootstrap/3.2.0/js/bootstrap.min.js%22%3E%3C/script%3E%0A%20%20%20%20%3Cscript%20src%3D%22https%3A//cdnjs.cloudflare.com/ajax/libs/Leaflet.awesome-markers/2.0.2/leaflet.awesome-markers.js%22%3E%3C/script%3E%0A%20%20%20%20%3Clink%20rel%3D%22stylesheet%22%20href%3D%22https%3A//cdn.jsdelivr.net/npm/leaflet%401.6.0/dist/leaflet.css%22/%3E%0A%20%20%20%20%3Clink%20rel%3D%22stylesheet%22%20href%3D%22https%3A//maxcdn.bootstrapcdn.com/bootstrap/3.2.0/css/bootstrap.min.css%22/%3E%0A%20%20%20%20%3Clink%20rel%3D%22stylesheet%22%20href%3D%22https%3A//maxcdn.bootstrapcdn.com/bootstrap/3.2.0/css/bootstrap-theme.min.css%22/%3E%0A%20%20%20%20%3Clink%20rel%3D%22stylesheet%22%20href%3D%22https%3A//maxcdn.bootstrapcdn.com/font-awesome/4.6.3/css/font-awesome.min.css%22/%3E%0A%20%20%20%20%3Clink%20rel%3D%22stylesheet%22%20href%3D%22https%3A//cdnjs.cloudflare.com/ajax/libs/Leaflet.awesome-markers/2.0.2/leaflet.awesome-markers.css%22/%3E%0A%20%20%20%20%3Clink%20rel%3D%22stylesheet%22%20href%3D%22https%3A//cdn.jsdelivr.net/gh/python-visualization/folium/folium/templates/leaflet.awesome.rotate.min.css%22/%3E%0A%20%20%20%20%0A%20%20%20%20%20%20%20%20%20%20%20%20%3Cmeta%20name%3D%22viewport%22%20content%3D%22width%3Ddevice-width%2C%0A%20%20%20%20%20%20%20%20%20%20%20%20%20%20%20%20initial-scale%3D1.0%2C%20maximum-scale%3D1.0%2C%20user-scalable%3Dno%22%20/%3E%0A%20%20%20%20%20%20%20%20%20%20%20%20%3Cstyle%3E%0A%20%20%20%20%20%20%20%20%20%20%20%20%20%20%20%20%23map_eaaa246c7513495b99e8045cac3e2750%20%7B%0A%20%20%20%20%20%20%20%20%20%20%20%20%20%20%20%20%20%20%20%20position%3A%20relative%3B%0A%20%20%20%20%20%20%20%20%20%20%20%20%20%20%20%20%20%20%20%20width%3A%20100.0%25%3B%0A%20%20%20%20%20%20%20%20%20%20%20%20%20%20%20%20%20%20%20%20height%3A%201500.0px%3B%0A%20%20%20%20%20%20%20%20%20%20%20%20%20%20%20%20%20%20%20%20left%3A%200.0%25%3B%0A%20%20%20%20%20%20%20%20%20%20%20%20%20%20%20%20%20%20%20%20top%3A%200.0%25%3B%0A%20%20%20%20%20%20%20%20%20%20%20%20%20%20%20%20%7D%0A%20%20%20%20%20%20%20%20%20%20%20%20%3C/style%3E%0A%20%20%20%20%20%20%20%20%0A%3C/head%3E%0A%3Cbody%3E%20%20%20%20%0A%20%20%20%20%0A%20%20%20%20%20%20%20%20%20%20%20%20%3Cdiv%20class%3D%22folium-map%22%20id%3D%22map_eaaa246c7513495b99e8045cac3e2750%22%20%3E%3C/div%3E%0A%20%20%20%20%20%20%20%20%0A%3C/body%3E%0A%3Cscript%3E%20%20%20%20%0A%20%20%20%20%0A%20%20%20%20%20%20%20%20%20%20%20%20var%20map_eaaa246c7513495b99e8045cac3e2750%20%3D%20L.map%28%0A%20%20%20%20%20%20%20%20%20%20%20%20%20%20%20%20%22map_eaaa246c7513495b99e8045cac3e2750%22%2C%0A%20%20%20%20%20%20%20%20%20%20%20%20%20%20%20%20%7B%0A%20%20%20%20%20%20%20%20%20%20%20%20%20%20%20%20%20%20%20%20center%3A%20%5B25.93278%2C%2035.24653%5D%2C%0A%20%20%20%20%20%20%20%20%20%20%20%20%20%20%20%20%20%20%20%20crs%3A%20L.CRS.EPSG3857%2C%0A%20%20%20%20%20%20%20%20%20%20%20%20%20%20%20%20%20%20%20%20zoom%3A%208%2C%0A%20%20%20%20%20%20%20%20%20%20%20%20%20%20%20%20%20%20%20%20zoomControl%3A%20true%2C%0A%20%20%20%20%20%20%20%20%20%20%20%20%20%20%20%20%20%20%20%20preferCanvas%3A%20false%2C%0A%20%20%20%20%20%20%20%20%20%20%20%20%20%20%20%20%7D%0A%20%20%20%20%20%20%20%20%20%20%20%20%29%3B%0A%0A%20%20%20%20%20%20%20%20%20%20%20%20%0A%0A%20%20%20%20%20%20%20%20%0A%20%20%20%20%0A%20%20%20%20%20%20%20%20%20%20%20%20var%20tile_layer_6453fe488eb84dfd8c94c0f6ac8088ba%20%3D%20L.tileLayer%28%0A%20%20%20%20%20%20%20%20%20%20%20%20%20%20%20%20%22https%3A//%7Bs%7D.tile.openstreetmap.org/%7Bz%7D/%7Bx%7D/%7By%7D.png%22%2C%0A%20%20%20%20%20%20%20%20%20%20%20%20%20%20%20%20%7B%22attribution%22%3A%20%22Data%20by%20%5Cu0026copy%3B%20%5Cu003ca%20href%3D%5C%22http%3A//openstreetmap.org%5C%22%5Cu003eOpenStreetMap%5Cu003c/a%5Cu003e%2C%20under%20%5Cu003ca%20href%3D%5C%22http%3A//www.openstreetmap.org/copyright%5C%22%5Cu003eODbL%5Cu003c/a%5Cu003e.%22%2C%20%22detectRetina%22%3A%20false%2C%20%22maxNativeZoom%22%3A%2018%2C%20%22maxZoom%22%3A%2018%2C%20%22minZoom%22%3A%200%2C%20%22noWrap%22%3A%20false%2C%20%22opacity%22%3A%201%2C%20%22subdomains%22%3A%20%22abc%22%2C%20%22tms%22%3A%20false%7D%0A%20%20%20%20%20%20%20%20%20%20%20%20%29.addTo%28map_eaaa246c7513495b99e8045cac3e2750%29%3B%0A%20%20%20%20%20%20%20%20%0A%20%20%20%20%0A%20%20%20%20%20%20%20%20%20%20%20%20var%20tile_layer_f6c1bd1d638448f19a8add4e90cf989c%20%3D%20L.tileLayer%28%0A%20%20%20%20%20%20%20%20%20%20%20%20%20%20%20%20%22https%3A//earthengine.googleapis.com/v1alpha/projects/earthengine-legacy/maps/f05db9435030a2f9eefa4c9316b8b6be-8a309bdf2fa1a18cbbba2ab67ba5ff67/tiles/%7Bz%7D/%7Bx%7D/%7By%7D%22%2C%0A%20%20%20%20%20%20%20%20%20%20%20%20%20%20%20%20%7B%22attribution%22%3A%20%22Map%20Data%20%5Cu0026copy%3B%20%5Cu003ca%20href%3D%5C%22https%3A//earthengine.google.com/%5C%22%5Cu003eGoogle%20Earth%20Engine%5Cu003c/a%5Cu003e%22%2C%20%22detectRetina%22%3A%20false%2C%20%22maxNativeZoom%22%3A%2018%2C%20%22maxZoom%22%3A%2018%2C%20%22minZoom%22%3A%200%2C%20%22noWrap%22%3A%20false%2C%20%22opacity%22%3A%201%2C%20%22subdomains%22%3A%20%22abc%22%2C%20%22tms%22%3A%20false%7D%0A%20%20%20%20%20%20%20%20%20%20%20%20%29.addTo%28map_eaaa246c7513495b99e8045cac3e2750%29%3B%0A%20%20%20%20%20%20%20%20%0A%20%20%20%20%0A%20%20%20%20%20%20%20%20%20%20%20%20var%20tile_layer_9d18475359af4cceb3cacec254e36fb5%20%3D%20L.tileLayer%28%0A%20%20%20%20%20%20%20%20%20%20%20%20%20%20%20%20%22https%3A//earthengine.googleapis.com/v1alpha/projects/earthengine-legacy/maps/f21fe017789e6e0ed8c9940fcd36c1d6-fee725b9cec62cec89eb7707c8145d3d/tiles/%7Bz%7D/%7Bx%7D/%7By%7D%22%2C%0A%20%20%20%20%20%20%20%20%20%20%20%20%20%20%20%20%7B%22attribution%22%3A%20%22Map%20Data%20%5Cu0026copy%3B%20%5Cu003ca%20href%3D%5C%22https%3A//earthengine.google.com/%5C%22%5Cu003eGoogle%20Earth%20Engine%5Cu003c/a%5Cu003e%22%2C%20%22detectRetina%22%3A%20false%2C%20%22maxNativeZoom%22%3A%2018%2C%20%22maxZoom%22%3A%2018%2C%20%22minZoom%22%3A%200%2C%20%22noWrap%22%3A%20false%2C%20%22opacity%22%3A%201%2C%20%22subdomains%22%3A%20%22abc%22%2C%20%22tms%22%3A%20false%7D%0A%20%20%20%20%20%20%20%20%20%20%20%20%29.addTo%28map_eaaa246c7513495b99e8045cac3e2750%29%3B%0A%20%20%20%20%20%20%20%20%0A%20%20%20%20%0A%20%20%20%20%20%20%20%20%20%20%20%20var%20tile_layer_d90254be8b5649f1a5c11609ee081185%20%3D%20L.tileLayer%28%0A%20%20%20%20%20%20%20%20%20%20%20%20%20%20%20%20%22https%3A//earthengine.googleapis.com/v1alpha/projects/earthengine-legacy/maps/fc2a9efed6848cfb2ffe13686c707a0a-0c3767a143ff097e2b204f302ac2a1ab/tiles/%7Bz%7D/%7Bx%7D/%7By%7D%22%2C%0A%20%20%20%20%20%20%20%20%20%20%20%20%20%20%20%20%7B%22attribution%22%3A%20%22Map%20Data%20%5Cu0026copy%3B%20%5Cu003ca%20href%3D%5C%22https%3A//earthengine.google.com/%5C%22%5Cu003eGoogle%20Earth%20Engine%5Cu003c/a%5Cu003e%22%2C%20%22detectRetina%22%3A%20false%2C%20%22maxNativeZoom%22%3A%2018%2C%20%22maxZoom%22%3A%2018%2C%20%22minZoom%22%3A%200%2C%20%22noWrap%22%3A%20false%2C%20%22opacity%22%3A%201%2C%20%22subdomains%22%3A%20%22abc%22%2C%20%22tms%22%3A%20false%7D%0A%20%20%20%20%20%20%20%20%20%20%20%20%29.addTo%28map_eaaa246c7513495b99e8045cac3e2750%29%3B%0A%20%20%20%20%20%20%20%20%0A%20%20%20%20%0A%20%20%20%20%20%20%20%20%20%20%20%20var%20tile_layer_25bf38dfda6040c0a9602175a446cdc2%20%3D%20L.tileLayer%28%0A%20%20%20%20%20%20%20%20%20%20%20%20%20%20%20%20%22https%3A//earthengine.googleapis.com/v1alpha/projects/earthengine-legacy/maps/5fbfd77075f76dc3b7aabe3e1ae8b8d8-397f39b6bdf434faa583411ba0ad76df/tiles/%7Bz%7D/%7Bx%7D/%7By%7D%22%2C%0A%20%20%20%20%20%20%20%20%20%20%20%20%20%20%20%20%7B%22attribution%22%3A%20%22Map%20Data%20%5Cu0026copy%3B%20%5Cu003ca%20href%3D%5C%22https%3A//earthengine.google.com/%5C%22%5Cu003eGoogle%20Earth%20Engine%5Cu003c/a%5Cu003e%22%2C%20%22detectRetina%22%3A%20false%2C%20%22maxNativeZoom%22%3A%2018%2C%20%22maxZoom%22%3A%2018%2C%20%22minZoom%22%3A%200%2C%20%22noWrap%22%3A%20false%2C%20%22opacity%22%3A%201%2C%20%22subdomains%22%3A%20%22abc%22%2C%20%22tms%22%3A%20false%7D%0A%20%20%20%20%20%20%20%20%20%20%20%20%29.addTo%28map_eaaa246c7513495b99e8045cac3e2750%29%3B%0A%20%20%20%20%20%20%20%20%0A%20%20%20%20%0A%20%20%20%20%20%20%20%20%20%20%20%20var%20tile_layer_3ba889cab97c4b108180c7f33f3643dc%20%3D%20L.tileLayer%28%0A%20%20%20%20%20%20%20%20%20%20%20%20%20%20%20%20%22https%3A//earthengine.googleapis.com/v1alpha/projects/earthengine-legacy/maps/67ccfd3ed4758096d8235807777befa3-3b9e05747f7d3d32b4e2747530613c52/tiles/%7Bz%7D/%7Bx%7D/%7By%7D%22%2C%0A%20%20%20%20%20%20%20%20%20%20%20%20%20%20%20%20%7B%22attribution%22%3A%20%22Map%20Data%20%5Cu0026copy%3B%20%5Cu003ca%20href%3D%5C%22https%3A//earthengine.google.com/%5C%22%5Cu003eGoogle%20Earth%20Engine%5Cu003c/a%5Cu003e%22%2C%20%22detectRetina%22%3A%20false%2C%20%22maxNativeZoom%22%3A%2018%2C%20%22maxZoom%22%3A%2018%2C%20%22minZoom%22%3A%200%2C%20%22noWrap%22%3A%20false%2C%20%22opacity%22%3A%201%2C%20%22subdomains%22%3A%20%22abc%22%2C%20%22tms%22%3A%20false%7D%0A%20%20%20%20%20%20%20%20%20%20%20%20%29.addTo%28map_eaaa246c7513495b99e8045cac3e2750%29%3B%0A%20%20%20%20%20%20%20%20%0A%20%20%20%20%0A%20%20%20%20%20%20%20%20%20%20%20%20var%20tile_layer_a8ea7ade1c3242258b5c0b2a0c5f693d%20%3D%20L.tileLayer%28%0A%20%20%20%20%20%20%20%20%20%20%20%20%20%20%20%20%22https%3A//earthengine.googleapis.com/v1alpha/projects/earthengine-legacy/maps/fd39e592c765840854b7937d7b6054b6-08e025e4e4314bafb2e94354c0894983/tiles/%7Bz%7D/%7Bx%7D/%7By%7D%22%2C%0A%20%20%20%20%20%20%20%20%20%20%20%20%20%20%20%20%7B%22attribution%22%3A%20%22Map%20Data%20%5Cu0026copy%3B%20%5Cu003ca%20href%3D%5C%22https%3A//earthengine.google.com/%5C%22%5Cu003eGoogle%20Earth%20Engine%5Cu003c/a%5Cu003e%22%2C%20%22detectRetina%22%3A%20false%2C%20%22maxNativeZoom%22%3A%2018%2C%20%22maxZoom%22%3A%2018%2C%20%22minZoom%22%3A%200%2C%20%22noWrap%22%3A%20false%2C%20%22opacity%22%3A%201%2C%20%22subdomains%22%3A%20%22abc%22%2C%20%22tms%22%3A%20false%7D%0A%20%20%20%20%20%20%20%20%20%20%20%20%29.addTo%28map_eaaa246c7513495b99e8045cac3e2750%29%3B%0A%20%20%20%20%20%20%20%20%0A%20%20%20%20%0A%20%20%20%20%20%20%20%20%20%20%20%20var%20layer_control_cd6bdbe4c3734dd78d43b9d657b49d4e%20%3D%20%7B%0A%20%20%20%20%20%20%20%20%20%20%20%20%20%20%20%20base_layers%20%3A%20%7B%0A%20%20%20%20%20%20%20%20%20%20%20%20%20%20%20%20%20%20%20%20%22openstreetmap%22%20%3A%20tile_layer_6453fe488eb84dfd8c94c0f6ac8088ba%2C%0A%20%20%20%20%20%20%20%20%20%20%20%20%20%20%20%20%7D%2C%0A%20%20%20%20%20%20%20%20%20%20%20%20%20%20%20%20overlays%20%3A%20%20%7B%0A%20%20%20%20%20%20%20%20%20%20%20%20%20%20%20%20%20%20%20%20%22NEOM%20PRZ%20Score%22%20%3A%20tile_layer_f6c1bd1d638448f19a8add4e90cf989c%2C%0A%20%20%20%20%20%20%20%20%20%20%20%20%20%20%20%20%20%20%20%20%22NEOM%20PRZ%20winter%20Score%22%20%3A%20tile_layer_9d18475359af4cceb3cacec254e36fb5%2C%0A%20%20%20%20%20%20%20%20%20%20%20%20%20%20%20%20%20%20%20%20%22NEOM%20PRZ%20spring%20Score%22%20%3A%20tile_layer_d90254be8b5649f1a5c11609ee081185%2C%0A%20%20%20%20%20%20%20%20%20%20%20%20%20%20%20%20%20%20%20%20%22NEOM%20PRZ%20summer%20Score%22%20%3A%20tile_layer_25bf38dfda6040c0a9602175a446cdc2%2C%0A%20%20%20%20%20%20%20%20%20%20%20%20%20%20%20%20%20%20%20%20%22NEOM%20PRZ%20fall%20Score%22%20%3A%20tile_layer_3ba889cab97c4b108180c7f33f3643dc%2C%0A%20%20%20%20%20%20%20%20%20%20%20%20%20%20%20%20%20%20%20%20%22Runoff%22%20%3A%20tile_layer_a8ea7ade1c3242258b5c0b2a0c5f693d%2C%0A%20%20%20%20%20%20%20%20%20%20%20%20%20%20%20%20%7D%2C%0A%20%20%20%20%20%20%20%20%20%20%20%20%7D%3B%0A%20%20%20%20%20%20%20%20%20%20%20%20L.control.layers%28%0A%20%20%20%20%20%20%20%20%20%20%20%20%20%20%20%20layer_control_cd6bdbe4c3734dd78d43b9d657b49d4e.base_layers%2C%0A%20%20%20%20%20%20%20%20%20%20%20%20%20%20%20%20layer_control_cd6bdbe4c3734dd78d43b9d657b49d4e.overlays%2C%0A%20%20%20%20%20%20%20%20%20%20%20%20%20%20%20%20%7B%22autoZIndex%22%3A%20true%2C%20%22collapsed%22%3A%20true%2C%20%22position%22%3A%20%22topright%22%7D%0A%20%20%20%20%20%20%20%20%20%20%20%20%29.addTo%28map_eaaa246c7513495b99e8045cac3e2750%29%3B%0A%20%20%20%20%20%20%20%20%0A%3C/script%3E onload=\"this.contentDocument.open();this.contentDocument.write(    decodeURIComponent(this.getAttribute('data-html')));this.contentDocument.close();\" allowfullscreen webkitallowfullscreen mozallowfullscreen></iframe></div></div>"
      ],
      "text/plain": [
       "<folium.folium.Map at 0x7f7f677dd5d0>"
      ]
     },
     "metadata": {},
     "output_type": "display_data"
    }
   ],
   "source": [
    "# plotting score for NEOM region\n",
    "the_map = vis.folium_map(location=[center_lat-2.5, center_lon], zoom_start=8, height=1500)\n",
    "the_map.add_ee_layer(score, vis_params, name = 'NEOM PRZ Score')\n",
    "the_map.add_ee_layer(score_wint, vis_params, name = 'NEOM PRZ winter Score')\n",
    "the_map.add_ee_layer(score_spr, vis_params, name = 'NEOM PRZ spring Score')\n",
    "the_map.add_ee_layer(score_summer, vis_params, name = 'NEOM PRZ summer Score')\n",
    "the_map.add_ee_layer(score_fall, vis_params, name = 'NEOM PRZ fall Score')\n",
    "the_map.add_ee_layer(runoff_scaled, vis_params, name = 'Runoff')\n",
    "vis.folium_display(the_map)"
   ]
  },
  {
   "cell_type": "markdown",
   "metadata": {},
   "source": [
    "## Export map"
   ]
  },
  {
   "cell_type": "code",
   "execution_count": 13,
   "metadata": {},
   "outputs": [],
   "source": [
    "collection_name = ('users/jamesmcc/NEOM')\n",
    "max_pixels = 100000000000  #For global is quite large\n",
    "description = \"NEOM PRZ Score\""
   ]
  },
  {
   "cell_type": "code",
   "execution_count": 14,
   "metadata": {},
   "outputs": [],
   "source": [
    "# neom_asset = ee.data.createAsset(\n",
    "#     {'type': 'ImageCollection'}, collection_name)\n",
    "# _ = ee.batch.Export.image.toAsset(\n",
    "#         score,\n",
    "#         description=description, \n",
    "#         assetId=neom_asset['id'] + '/' + 'NEOM_PRZ_Score',\n",
    "#         region=bbox, \n",
    "#         scale=100,\n",
    "#         maxPixels=max_pixels).start()"
   ]
  },
  {
   "cell_type": "markdown",
   "metadata": {},
   "source": [
    "## Potential increases in recharge"
   ]
  },
  {
   "cell_type": "code",
   "execution_count": 15,
   "metadata": {},
   "outputs": [],
   "source": [
    "#calculate sum of potential water storage from neom area over a year\n",
    "def sum_runoff(runoff_img, geometry, scale):\n",
    "    return (\n",
    "        runoff_img\n",
    "        .reduceRegion(reducer= ee.Reducer.sum(), geometry=geometry, scale=100)\n",
    "        .getInfo()['surface_runoff']*(scale*scale))\n",
    "\n",
    "def sum_runoff_score_thresh(runoff_img, score, thresh, geometry, scale):\n",
    "  thresh_mask = score.gte(thresh)\n",
    "  return sum_runoff(runoff_img.updateMask(thresh_mask), geometry, scale)"
   ]
  },
  {
   "cell_type": "code",
   "execution_count": 16,
   "metadata": {},
   "outputs": [],
   "source": [
    "# cubic m / year\n",
    "potential_recharge = sum_runoff(runoff_mm.divide(1000), bbox, 100)\n",
    "thresh_recharge = [\n",
    "    sum_runoff_score_thresh(runoff_mm.divide(1000), score, thresh, bbox, 100) \n",
    "    for thresh in [0, .2, .4, .6, .8]]"
   ]
  },
  {
   "cell_type": "code",
   "execution_count": 17,
   "metadata": {},
   "outputs": [],
   "source": [
    "recharge_indiv = np.diff(thresh_recharge[::-1]).tolist()[::-1] + [thresh_recharge[-1]]"
   ]
  },
  {
   "cell_type": "code",
   "execution_count": 18,
   "metadata": {},
   "outputs": [],
   "source": [
    "names = ['all runoff', 'all PRZ zones', '0.0 - 0.2', '0.2 - 0.4', '0.4 - 0.6', '0.6 - 0.8', '0.8 - 1.0']\n",
    "values = [potential_recharge] + [sum(recharge_indiv)] + recharge_indiv"
   ]
  },
  {
   "cell_type": "code",
   "execution_count": 19,
   "metadata": {},
   "outputs": [
    {
     "data": {
      "text/html": [
       "\n",
       "\n",
       "\n",
       "\n",
       "\n",
       "\n",
       "  <div class=\"bk-root\" id=\"e8423033-4a40-48d0-b62d-628bb7ce9207\" data-root-id=\"1284\"></div>\n"
      ]
     },
     "metadata": {},
     "output_type": "display_data"
    },
    {
     "data": {
      "application/javascript": [
       "(function(root) {\n",
       "  function embed_document(root) {\n",
       "    \n",
       "  var docs_json = {\"2d0e6743-f631-40f6-ace3-85c3da615a42\":{\"roots\":{\"references\":[{\"attributes\":{\"below\":[{\"id\":\"1295\"}],\"center\":[{\"id\":\"1297\"},{\"id\":\"1301\"}],\"left\":[{\"id\":\"1298\"}],\"plot_height\":250,\"renderers\":[{\"id\":\"1306\"}],\"title\":{\"id\":\"1285\"},\"toolbar\":{\"id\":\"1302\"},\"toolbar_location\":null,\"x_range\":{\"id\":\"1287\"},\"x_scale\":{\"id\":\"1291\"},\"y_range\":{\"id\":\"1289\"},\"y_scale\":{\"id\":\"1293\"}},\"id\":\"1284\",\"subtype\":\"Figure\",\"type\":\"Plot\"},{\"attributes\":{},\"id\":\"1293\",\"type\":\"LinearScale\"},{\"attributes\":{\"source\":{\"id\":\"1303\"}},\"id\":\"1307\",\"type\":\"CDSView\"},{\"attributes\":{\"fill_color\":{\"value\":\"#1f77b4\"},\"line_color\":{\"value\":\"#1f77b4\"},\"top\":{\"field\":\"top\"},\"width\":{\"value\":0.9},\"x\":{\"field\":\"x\"}},\"id\":\"1304\",\"type\":\"VBar\"},{\"attributes\":{\"text\":\"NEOM Potential PRZ Recharge By Score Range (mm^3/yr)\"},\"id\":\"1285\",\"type\":\"Title\"},{\"attributes\":{},\"id\":\"1333\",\"type\":\"BasicTickFormatter\"},{\"attributes\":{\"axis\":{\"id\":\"1298\"},\"dimension\":1,\"ticker\":null},\"id\":\"1301\",\"type\":\"Grid\"},{\"attributes\":{\"active_drag\":\"auto\",\"active_inspect\":\"auto\",\"active_multi\":null,\"active_scroll\":\"auto\",\"active_tap\":\"auto\"},\"id\":\"1302\",\"type\":\"Toolbar\"},{\"attributes\":{},\"id\":\"1338\",\"type\":\"Selection\"},{\"attributes\":{\"start\":1},\"id\":\"1289\",\"type\":\"DataRange1d\"},{\"attributes\":{\"data_source\":{\"id\":\"1303\"},\"glyph\":{\"id\":\"1304\"},\"hover_glyph\":null,\"muted_glyph\":null,\"nonselection_glyph\":{\"id\":\"1305\"},\"selection_glyph\":null,\"view\":{\"id\":\"1307\"}},\"id\":\"1306\",\"type\":\"GlyphRenderer\"},{\"attributes\":{},\"id\":\"1335\",\"type\":\"CategoricalTickFormatter\"},{\"attributes\":{},\"id\":\"1296\",\"type\":\"CategoricalTicker\"},{\"attributes\":{\"formatter\":{\"id\":\"1335\"},\"ticker\":{\"id\":\"1296\"}},\"id\":\"1295\",\"type\":\"CategoricalAxis\"},{\"attributes\":{\"fill_alpha\":{\"value\":0.1},\"fill_color\":{\"value\":\"#1f77b4\"},\"line_alpha\":{\"value\":0.1},\"line_color\":{\"value\":\"#1f77b4\"},\"top\":{\"field\":\"top\"},\"width\":{\"value\":0.9},\"x\":{\"field\":\"x\"}},\"id\":\"1305\",\"type\":\"VBar\"},{\"attributes\":{},\"id\":\"1291\",\"type\":\"CategoricalScale\"},{\"attributes\":{\"factors\":[\"all runoff\",\"all PRZ zones\",\"0.0 - 0.2\",\"0.2 - 0.4\",\"0.4 - 0.6\",\"0.6 - 0.8\",\"0.8 - 1.0\"]},\"id\":\"1287\",\"type\":\"FactorRange\"},{\"attributes\":{\"data\":{\"top\":[1369967383.7837138,659243350.6486007,70487362.0159173,377370240.37642473,130032802.08285552,64755598.913163595,16597347.260239549],\"x\":[\"all runoff\",\"all PRZ zones\",\"0.0 - 0.2\",\"0.2 - 0.4\",\"0.4 - 0.6\",\"0.6 - 0.8\",\"0.8 - 1.0\"]},\"selected\":{\"id\":\"1338\"},\"selection_policy\":{\"id\":\"1337\"}},\"id\":\"1303\",\"type\":\"ColumnDataSource\"},{\"attributes\":{},\"id\":\"1337\",\"type\":\"UnionRenderers\"},{\"attributes\":{\"formatter\":{\"id\":\"1333\"},\"ticker\":{\"id\":\"1299\"}},\"id\":\"1298\",\"type\":\"LinearAxis\"},{\"attributes\":{},\"id\":\"1299\",\"type\":\"BasicTicker\"},{\"attributes\":{\"axis\":{\"id\":\"1295\"},\"grid_line_color\":null,\"ticker\":null},\"id\":\"1297\",\"type\":\"Grid\"}],\"root_ids\":[\"1284\"]},\"title\":\"Bokeh Application\",\"version\":\"2.2.3\"}};\n",
       "  var render_items = [{\"docid\":\"2d0e6743-f631-40f6-ace3-85c3da615a42\",\"root_ids\":[\"1284\"],\"roots\":{\"1284\":\"e8423033-4a40-48d0-b62d-628bb7ce9207\"}}];\n",
       "  root.Bokeh.embed.embed_items_notebook(docs_json, render_items);\n",
       "\n",
       "  }\n",
       "  if (root.Bokeh !== undefined) {\n",
       "    embed_document(root);\n",
       "  } else {\n",
       "    var attempts = 0;\n",
       "    var timer = setInterval(function(root) {\n",
       "      if (root.Bokeh !== undefined) {\n",
       "        clearInterval(timer);\n",
       "        embed_document(root);\n",
       "      } else {\n",
       "        attempts++;\n",
       "        if (attempts > 100) {\n",
       "          clearInterval(timer);\n",
       "          console.log(\"Bokeh: ERROR: Unable to run BokehJS code because BokehJS library is missing\");\n",
       "        }\n",
       "      }\n",
       "    }, 10, root)\n",
       "  }\n",
       "})(window);"
      ],
      "application/vnd.bokehjs_exec.v0+json": ""
     },
     "metadata": {
      "application/vnd.bokehjs_exec.v0+json": {
       "id": "1284"
      }
     },
     "output_type": "display_data"
    }
   ],
   "source": [
    "from bokeh.io import output_file, show\n",
    "from bokeh.plotting import figure\n",
    "p = figure(x_range=names, plot_height=250, \n",
    "           title=\"NEOM Potential PRZ Recharge By Score Range (mm^3/yr)\",\n",
    "           toolbar_location=None, tools=\"\")\n",
    "p.vbar(x=names, top=values, width=0.9)\n",
    "p.xgrid.grid_line_color = None\n",
    "p.y_range.start = 1\n",
    "show(p)"
   ]
  },
  {
   "cell_type": "markdown",
   "metadata": {},
   "source": [
    "This makes sense given the histogram of the score, where most of the points/density is in [0.2, 0.4]. If we stratify by percentiles, we get a better sense of how much recharge potential resides in groups of scores (by percentiles).  "
   ]
  },
  {
   "cell_type": "code",
   "execution_count": 20,
   "metadata": {},
   "outputs": [],
   "source": [
    "# do it by percentiles\n",
    "score_percentiles = ee.Dictionary(\n",
    "    score.clip(bbox)\n",
    "    .reduceRegion(\n",
    "        ee.Reducer.percentile([0, 20, 40, 60, 80])))"
   ]
  },
  {
   "cell_type": "code",
   "execution_count": 21,
   "metadata": {},
   "outputs": [],
   "source": [
    "percentiles = sorted(score_percentiles.values().getInfo())"
   ]
  },
  {
   "cell_type": "code",
   "execution_count": 22,
   "metadata": {},
   "outputs": [],
   "source": [
    "percentile_recharge = [\n",
    "    sum_runoff_score_thresh(runoff_mm.divide(1000), score, thresh, bbox, 100) \n",
    "    for thresh in percentiles]"
   ]
  },
  {
   "cell_type": "code",
   "execution_count": 23,
   "metadata": {},
   "outputs": [],
   "source": [
    "pct_recharge_indiv = np.diff(percentile_recharge[::-1]).tolist()[::-1] + [percentile_recharge[-1]]"
   ]
  },
  {
   "cell_type": "code",
   "execution_count": 24,
   "metadata": {},
   "outputs": [],
   "source": [
    "names = ['all runoff', 'all swale zones', '0.0 - 0.2', '0.2 - 0.4', '0.4 - 0.6', '0.6 - 0.8', '0.8 - 1.0']\n",
    "values = [potential_recharge] + [sum(recharge_indiv)] + pct_recharge_indiv"
   ]
  },
  {
   "cell_type": "code",
   "execution_count": 25,
   "metadata": {},
   "outputs": [
    {
     "data": {
      "text/html": [
       "\n",
       "\n",
       "\n",
       "\n",
       "\n",
       "\n",
       "  <div class=\"bk-root\" id=\"0e859a4b-aaf9-4dbf-b941-bd48ea097500\" data-root-id=\"1374\"></div>\n"
      ]
     },
     "metadata": {},
     "output_type": "display_data"
    },
    {
     "data": {
      "application/javascript": [
       "(function(root) {\n",
       "  function embed_document(root) {\n",
       "    \n",
       "  var docs_json = {\"259b2002-70f8-4b02-9e3a-164db43bb4a2\":{\"roots\":{\"references\":[{\"attributes\":{\"below\":[{\"id\":\"1385\"}],\"center\":[{\"id\":\"1387\"},{\"id\":\"1391\"}],\"left\":[{\"id\":\"1388\"}],\"plot_height\":250,\"renderers\":[{\"id\":\"1396\"}],\"title\":{\"id\":\"1375\"},\"toolbar\":{\"id\":\"1392\"},\"toolbar_location\":null,\"x_range\":{\"id\":\"1377\"},\"x_scale\":{\"id\":\"1381\"},\"y_range\":{\"id\":\"1379\"},\"y_scale\":{\"id\":\"1383\"}},\"id\":\"1374\",\"subtype\":\"Figure\",\"type\":\"Plot\"},{\"attributes\":{\"text\":\"NEOM Potential Swale Recharge By Percentile Range (m^3/yr)\"},\"id\":\"1375\",\"type\":\"Title\"},{\"attributes\":{},\"id\":\"1386\",\"type\":\"CategoricalTicker\"},{\"attributes\":{\"formatter\":{\"id\":\"1432\"},\"ticker\":{\"id\":\"1386\"}},\"id\":\"1385\",\"type\":\"CategoricalAxis\"},{\"attributes\":{\"formatter\":{\"id\":\"1430\"},\"ticker\":{\"id\":\"1389\"}},\"id\":\"1388\",\"type\":\"LinearAxis\"},{\"attributes\":{\"data_source\":{\"id\":\"1393\"},\"glyph\":{\"id\":\"1394\"},\"hover_glyph\":null,\"muted_glyph\":null,\"nonselection_glyph\":{\"id\":\"1395\"},\"selection_glyph\":null,\"view\":{\"id\":\"1397\"}},\"id\":\"1396\",\"type\":\"GlyphRenderer\"},{\"attributes\":{\"factors\":[\"all runoff\",\"all swale zones\",\"0.0 - 0.2\",\"0.2 - 0.4\",\"0.4 - 0.6\",\"0.6 - 0.8\",\"0.8 - 1.0\"]},\"id\":\"1377\",\"type\":\"FactorRange\"},{\"attributes\":{},\"id\":\"1381\",\"type\":\"CategoricalScale\"},{\"attributes\":{\"fill_alpha\":{\"value\":0.1},\"fill_color\":{\"value\":\"#1f77b4\"},\"line_alpha\":{\"value\":0.1},\"line_color\":{\"value\":\"#1f77b4\"},\"top\":{\"field\":\"top\"},\"width\":{\"value\":0.9},\"x\":{\"field\":\"x\"}},\"id\":\"1395\",\"type\":\"VBar\"},{\"attributes\":{},\"id\":\"1389\",\"type\":\"BasicTicker\"},{\"attributes\":{\"fill_color\":{\"value\":\"#1f77b4\"},\"line_color\":{\"value\":\"#1f77b4\"},\"top\":{\"field\":\"top\"},\"width\":{\"value\":0.9},\"x\":{\"field\":\"x\"}},\"id\":\"1394\",\"type\":\"VBar\"},{\"attributes\":{},\"id\":\"1434\",\"type\":\"UnionRenderers\"},{\"attributes\":{},\"id\":\"1383\",\"type\":\"LinearScale\"},{\"attributes\":{\"axis\":{\"id\":\"1388\"},\"dimension\":1,\"ticker\":null},\"id\":\"1391\",\"type\":\"Grid\"},{\"attributes\":{\"start\":1},\"id\":\"1379\",\"type\":\"DataRange1d\"},{\"attributes\":{\"active_drag\":\"auto\",\"active_inspect\":\"auto\",\"active_multi\":null,\"active_scroll\":\"auto\",\"active_tap\":\"auto\"},\"id\":\"1392\",\"type\":\"Toolbar\"},{\"attributes\":{\"source\":{\"id\":\"1393\"}},\"id\":\"1397\",\"type\":\"CDSView\"},{\"attributes\":{},\"id\":\"1430\",\"type\":\"BasicTickFormatter\"},{\"attributes\":{},\"id\":\"1432\",\"type\":\"CategoricalTickFormatter\"},{\"attributes\":{\"axis\":{\"id\":\"1385\"},\"grid_line_color\":null,\"ticker\":null},\"id\":\"1387\",\"type\":\"Grid\"},{\"attributes\":{},\"id\":\"1435\",\"type\":\"Selection\"},{\"attributes\":{\"data\":{\"top\":[1369967383.7837138,659243350.6486007,77438010.28743815,76746987.1244868,93466112.7482484,112770722.97469288,298812174.3008889],\"x\":[\"all runoff\",\"all swale zones\",\"0.0 - 0.2\",\"0.2 - 0.4\",\"0.4 - 0.6\",\"0.6 - 0.8\",\"0.8 - 1.0\"]},\"selected\":{\"id\":\"1435\"},\"selection_policy\":{\"id\":\"1434\"}},\"id\":\"1393\",\"type\":\"ColumnDataSource\"}],\"root_ids\":[\"1374\"]},\"title\":\"Bokeh Application\",\"version\":\"2.2.3\"}};\n",
       "  var render_items = [{\"docid\":\"259b2002-70f8-4b02-9e3a-164db43bb4a2\",\"root_ids\":[\"1374\"],\"roots\":{\"1374\":\"0e859a4b-aaf9-4dbf-b941-bd48ea097500\"}}];\n",
       "  root.Bokeh.embed.embed_items_notebook(docs_json, render_items);\n",
       "\n",
       "  }\n",
       "  if (root.Bokeh !== undefined) {\n",
       "    embed_document(root);\n",
       "  } else {\n",
       "    var attempts = 0;\n",
       "    var timer = setInterval(function(root) {\n",
       "      if (root.Bokeh !== undefined) {\n",
       "        clearInterval(timer);\n",
       "        embed_document(root);\n",
       "      } else {\n",
       "        attempts++;\n",
       "        if (attempts > 100) {\n",
       "          clearInterval(timer);\n",
       "          console.log(\"Bokeh: ERROR: Unable to run BokehJS code because BokehJS library is missing\");\n",
       "        }\n",
       "      }\n",
       "    }, 10, root)\n",
       "  }\n",
       "})(window);"
      ],
      "application/vnd.bokehjs_exec.v0+json": ""
     },
     "metadata": {
      "application/vnd.bokehjs_exec.v0+json": {
       "id": "1374"
      }
     },
     "output_type": "display_data"
    }
   ],
   "source": [
    "from bokeh.io import output_file, show\n",
    "from bokeh.plotting import figure\n",
    "p = figure(x_range=names, plot_height=250, \n",
    "           title=\"NEOM Potential Swale Recharge By Percentile Range (m^3/yr)\",\n",
    "           toolbar_location=None, tools=\"\")\n",
    "p.vbar(x=names, top=values, width=0.9)\n",
    "p.xgrid.grid_line_color = None\n",
    "p.y_range.start = 1\n",
    "show(p)"
   ]
  },
  {
   "cell_type": "markdown",
   "metadata": {},
   "source": [
    "Because the score preferentially weights runoff availability, this score makes sense that the higher range of percentiles, the higher the recharge. "
   ]
  },
  {
   "cell_type": "code",
   "execution_count": 26,
   "metadata": {},
   "outputs": [],
   "source": [
    "## Can mask out streams as a further step."
   ]
  }
 ],
 "metadata": {
  "kernelspec": {
   "display_name": "Python 3",
   "language": "python",
   "name": "python3"
  },
  "language_info": {
   "codemirror_mode": {
    "name": "ipython",
    "version": 3
   },
   "file_extension": ".py",
   "mimetype": "text/x-python",
   "name": "python",
   "nbconvert_exporter": "python",
   "pygments_lexer": "ipython3",
   "version": "3.7.6"
  }
 },
 "nbformat": 4,
 "nbformat_minor": 4
}
