{
 "cells": [
  {
   "cell_type": "markdown",
   "metadata": {},
   "source": [
    "# NEOM Managed Aquifer Recharge (Injection Wells)\n",
    "\n",
    "*James McCreight, Amgad Ellaboudy, Josh Daniel*\n",
    "\n",
    "We focus on suitability mapping for locations of injection wells using large-scale datasets. It seems that injection wells are a preferable strategy over check dams in the NEOM region because they would reduce large evaporative losses on the surface and in the unconfined aquifer/soil. Though, there could be certain situations where a check dam might make more sense. The check dam approach would extend the injection well suitability mapping approach here, because we a re not incorporating geological/aquifer datasets. For check dams soil infiltration and water retention scores would additional layers for suitability mapping. \n",
    "\n",
    "Injection Wells Layers/Predictors:\n",
    "1. Constraint: Slope in [1,9] degrees\n",
    "1. Constraint: Potential runoff contributing areas smalle than typical convective scales (<= 460km2)\n",
    "1. Constraint: Potential runoff in [.02, 2] cms\n",
    "1. Suitability: Potential runoff: more is better.\n",
    "\n",
    "1. HAND?\n",
    "\n",
    "Additional Predictors for Check Dam suitability\n",
    "1. Check dam suitability: Upper soil type is favorable for water transmission\n",
    "1. Check dam suitability: Lower soil type is favorable for water retention\n",
    "\n",
    "## Preliminaries"
   ]
  },
  {
   "cell_type": "code",
   "execution_count": 1,
   "metadata": {},
   "outputs": [
    {
     "data": {
      "text/html": [
       "\n",
       "    <div class=\"bk-root\">\n",
       "        <a href=\"https://bokeh.org\" target=\"_blank\" class=\"bk-logo bk-logo-small bk-logo-notebook\"></a>\n",
       "        <span id=\"1001\">Loading BokehJS ...</span>\n",
       "    </div>"
      ]
     },
     "metadata": {},
     "output_type": "display_data"
    },
    {
     "data": {
      "application/javascript": [
       "\n",
       "(function(root) {\n",
       "  function now() {\n",
       "    return new Date();\n",
       "  }\n",
       "\n",
       "  var force = true;\n",
       "\n",
       "  if (typeof root._bokeh_onload_callbacks === \"undefined\" || force === true) {\n",
       "    root._bokeh_onload_callbacks = [];\n",
       "    root._bokeh_is_loading = undefined;\n",
       "  }\n",
       "\n",
       "  var JS_MIME_TYPE = 'application/javascript';\n",
       "  var HTML_MIME_TYPE = 'text/html';\n",
       "  var EXEC_MIME_TYPE = 'application/vnd.bokehjs_exec.v0+json';\n",
       "  var CLASS_NAME = 'output_bokeh rendered_html';\n",
       "\n",
       "  /**\n",
       "   * Render data to the DOM node\n",
       "   */\n",
       "  function render(props, node) {\n",
       "    var script = document.createElement(\"script\");\n",
       "    node.appendChild(script);\n",
       "  }\n",
       "\n",
       "  /**\n",
       "   * Handle when an output is cleared or removed\n",
       "   */\n",
       "  function handleClearOutput(event, handle) {\n",
       "    var cell = handle.cell;\n",
       "\n",
       "    var id = cell.output_area._bokeh_element_id;\n",
       "    var server_id = cell.output_area._bokeh_server_id;\n",
       "    // Clean up Bokeh references\n",
       "    if (id != null && id in Bokeh.index) {\n",
       "      Bokeh.index[id].model.document.clear();\n",
       "      delete Bokeh.index[id];\n",
       "    }\n",
       "\n",
       "    if (server_id !== undefined) {\n",
       "      // Clean up Bokeh references\n",
       "      var cmd = \"from bokeh.io.state import curstate; print(curstate().uuid_to_server['\" + server_id + \"'].get_sessions()[0].document.roots[0]._id)\";\n",
       "      cell.notebook.kernel.execute(cmd, {\n",
       "        iopub: {\n",
       "          output: function(msg) {\n",
       "            var id = msg.content.text.trim();\n",
       "            if (id in Bokeh.index) {\n",
       "              Bokeh.index[id].model.document.clear();\n",
       "              delete Bokeh.index[id];\n",
       "            }\n",
       "          }\n",
       "        }\n",
       "      });\n",
       "      // Destroy server and session\n",
       "      var cmd = \"import bokeh.io.notebook as ion; ion.destroy_server('\" + server_id + \"')\";\n",
       "      cell.notebook.kernel.execute(cmd);\n",
       "    }\n",
       "  }\n",
       "\n",
       "  /**\n",
       "   * Handle when a new output is added\n",
       "   */\n",
       "  function handleAddOutput(event, handle) {\n",
       "    var output_area = handle.output_area;\n",
       "    var output = handle.output;\n",
       "\n",
       "    // limit handleAddOutput to display_data with EXEC_MIME_TYPE content only\n",
       "    if ((output.output_type != \"display_data\") || (!output.data.hasOwnProperty(EXEC_MIME_TYPE))) {\n",
       "      return\n",
       "    }\n",
       "\n",
       "    var toinsert = output_area.element.find(\".\" + CLASS_NAME.split(' ')[0]);\n",
       "\n",
       "    if (output.metadata[EXEC_MIME_TYPE][\"id\"] !== undefined) {\n",
       "      toinsert[toinsert.length - 1].firstChild.textContent = output.data[JS_MIME_TYPE];\n",
       "      // store reference to embed id on output_area\n",
       "      output_area._bokeh_element_id = output.metadata[EXEC_MIME_TYPE][\"id\"];\n",
       "    }\n",
       "    if (output.metadata[EXEC_MIME_TYPE][\"server_id\"] !== undefined) {\n",
       "      var bk_div = document.createElement(\"div\");\n",
       "      bk_div.innerHTML = output.data[HTML_MIME_TYPE];\n",
       "      var script_attrs = bk_div.children[0].attributes;\n",
       "      for (var i = 0; i < script_attrs.length; i++) {\n",
       "        toinsert[toinsert.length - 1].firstChild.setAttribute(script_attrs[i].name, script_attrs[i].value);\n",
       "        toinsert[toinsert.length - 1].firstChild.textContent = bk_div.children[0].textContent\n",
       "      }\n",
       "      // store reference to server id on output_area\n",
       "      output_area._bokeh_server_id = output.metadata[EXEC_MIME_TYPE][\"server_id\"];\n",
       "    }\n",
       "  }\n",
       "\n",
       "  function register_renderer(events, OutputArea) {\n",
       "\n",
       "    function append_mime(data, metadata, element) {\n",
       "      // create a DOM node to render to\n",
       "      var toinsert = this.create_output_subarea(\n",
       "        metadata,\n",
       "        CLASS_NAME,\n",
       "        EXEC_MIME_TYPE\n",
       "      );\n",
       "      this.keyboard_manager.register_events(toinsert);\n",
       "      // Render to node\n",
       "      var props = {data: data, metadata: metadata[EXEC_MIME_TYPE]};\n",
       "      render(props, toinsert[toinsert.length - 1]);\n",
       "      element.append(toinsert);\n",
       "      return toinsert\n",
       "    }\n",
       "\n",
       "    /* Handle when an output is cleared or removed */\n",
       "    events.on('clear_output.CodeCell', handleClearOutput);\n",
       "    events.on('delete.Cell', handleClearOutput);\n",
       "\n",
       "    /* Handle when a new output is added */\n",
       "    events.on('output_added.OutputArea', handleAddOutput);\n",
       "\n",
       "    /**\n",
       "     * Register the mime type and append_mime function with output_area\n",
       "     */\n",
       "    OutputArea.prototype.register_mime_type(EXEC_MIME_TYPE, append_mime, {\n",
       "      /* Is output safe? */\n",
       "      safe: true,\n",
       "      /* Index of renderer in `output_area.display_order` */\n",
       "      index: 0\n",
       "    });\n",
       "  }\n",
       "\n",
       "  // register the mime type if in Jupyter Notebook environment and previously unregistered\n",
       "  if (root.Jupyter !== undefined) {\n",
       "    var events = require('base/js/events');\n",
       "    var OutputArea = require('notebook/js/outputarea').OutputArea;\n",
       "\n",
       "    if (OutputArea.prototype.mime_types().indexOf(EXEC_MIME_TYPE) == -1) {\n",
       "      register_renderer(events, OutputArea);\n",
       "    }\n",
       "  }\n",
       "\n",
       "  \n",
       "  if (typeof (root._bokeh_timeout) === \"undefined\" || force === true) {\n",
       "    root._bokeh_timeout = Date.now() + 5000;\n",
       "    root._bokeh_failed_load = false;\n",
       "  }\n",
       "\n",
       "  var NB_LOAD_WARNING = {'data': {'text/html':\n",
       "     \"<div style='background-color: #fdd'>\\n\"+\n",
       "     \"<p>\\n\"+\n",
       "     \"BokehJS does not appear to have successfully loaded. If loading BokehJS from CDN, this \\n\"+\n",
       "     \"may be due to a slow or bad network connection. Possible fixes:\\n\"+\n",
       "     \"</p>\\n\"+\n",
       "     \"<ul>\\n\"+\n",
       "     \"<li>re-rerun `output_notebook()` to attempt to load from CDN again, or</li>\\n\"+\n",
       "     \"<li>use INLINE resources instead, as so:</li>\\n\"+\n",
       "     \"</ul>\\n\"+\n",
       "     \"<code>\\n\"+\n",
       "     \"from bokeh.resources import INLINE\\n\"+\n",
       "     \"output_notebook(resources=INLINE)\\n\"+\n",
       "     \"</code>\\n\"+\n",
       "     \"</div>\"}};\n",
       "\n",
       "  function display_loaded() {\n",
       "    var el = document.getElementById(\"1001\");\n",
       "    if (el != null) {\n",
       "      el.textContent = \"BokehJS is loading...\";\n",
       "    }\n",
       "    if (root.Bokeh !== undefined) {\n",
       "      if (el != null) {\n",
       "        el.textContent = \"BokehJS \" + root.Bokeh.version + \" successfully loaded.\";\n",
       "      }\n",
       "    } else if (Date.now() < root._bokeh_timeout) {\n",
       "      setTimeout(display_loaded, 100)\n",
       "    }\n",
       "  }\n",
       "\n",
       "\n",
       "  function run_callbacks() {\n",
       "    try {\n",
       "      root._bokeh_onload_callbacks.forEach(function(callback) {\n",
       "        if (callback != null)\n",
       "          callback();\n",
       "      });\n",
       "    } finally {\n",
       "      delete root._bokeh_onload_callbacks\n",
       "    }\n",
       "    console.debug(\"Bokeh: all callbacks have finished\");\n",
       "  }\n",
       "\n",
       "  function load_libs(css_urls, js_urls, callback) {\n",
       "    if (css_urls == null) css_urls = [];\n",
       "    if (js_urls == null) js_urls = [];\n",
       "\n",
       "    root._bokeh_onload_callbacks.push(callback);\n",
       "    if (root._bokeh_is_loading > 0) {\n",
       "      console.debug(\"Bokeh: BokehJS is being loaded, scheduling callback at\", now());\n",
       "      return null;\n",
       "    }\n",
       "    if (js_urls == null || js_urls.length === 0) {\n",
       "      run_callbacks();\n",
       "      return null;\n",
       "    }\n",
       "    console.debug(\"Bokeh: BokehJS not loaded, scheduling load and callback at\", now());\n",
       "    root._bokeh_is_loading = css_urls.length + js_urls.length;\n",
       "\n",
       "    function on_load() {\n",
       "      root._bokeh_is_loading--;\n",
       "      if (root._bokeh_is_loading === 0) {\n",
       "        console.debug(\"Bokeh: all BokehJS libraries/stylesheets loaded\");\n",
       "        run_callbacks()\n",
       "      }\n",
       "    }\n",
       "\n",
       "    function on_error() {\n",
       "      console.error(\"failed to load \" + url);\n",
       "    }\n",
       "\n",
       "    for (var i = 0; i < css_urls.length; i++) {\n",
       "      var url = css_urls[i];\n",
       "      const element = document.createElement(\"link\");\n",
       "      element.onload = on_load;\n",
       "      element.onerror = on_error;\n",
       "      element.rel = \"stylesheet\";\n",
       "      element.type = \"text/css\";\n",
       "      element.href = url;\n",
       "      console.debug(\"Bokeh: injecting link tag for BokehJS stylesheet: \", url);\n",
       "      document.body.appendChild(element);\n",
       "    }\n",
       "\n",
       "    const hashes = {\"https://cdn.bokeh.org/bokeh/release/bokeh-2.2.3.min.js\": \"T2yuo9Oe71Cz/I4X9Ac5+gpEa5a8PpJCDlqKYO0CfAuEszu1JrXLl8YugMqYe3sM\", \"https://cdn.bokeh.org/bokeh/release/bokeh-widgets-2.2.3.min.js\": \"98GDGJ0kOMCUMUePhksaQ/GYgB3+NH9h996V88sh3aOiUNX3N+fLXAtry6xctSZ6\", \"https://cdn.bokeh.org/bokeh/release/bokeh-tables-2.2.3.min.js\": \"89bArO+nlbP3sgakeHjCo1JYxYR5wufVgA3IbUvDY+K7w4zyxJqssu7wVnfeKCq8\"};\n",
       "\n",
       "    for (var i = 0; i < js_urls.length; i++) {\n",
       "      var url = js_urls[i];\n",
       "      var element = document.createElement('script');\n",
       "      element.onload = on_load;\n",
       "      element.onerror = on_error;\n",
       "      element.async = false;\n",
       "      element.src = url;\n",
       "      if (url in hashes) {\n",
       "        element.crossOrigin = \"anonymous\";\n",
       "        element.integrity = \"sha384-\" + hashes[url];\n",
       "      }\n",
       "      console.debug(\"Bokeh: injecting script tag for BokehJS library: \", url);\n",
       "      document.head.appendChild(element);\n",
       "    }\n",
       "  };\n",
       "\n",
       "  function inject_raw_css(css) {\n",
       "    const element = document.createElement(\"style\");\n",
       "    element.appendChild(document.createTextNode(css));\n",
       "    document.body.appendChild(element);\n",
       "  }\n",
       "\n",
       "  \n",
       "  var js_urls = [\"https://cdn.bokeh.org/bokeh/release/bokeh-2.2.3.min.js\", \"https://cdn.bokeh.org/bokeh/release/bokeh-widgets-2.2.3.min.js\", \"https://cdn.bokeh.org/bokeh/release/bokeh-tables-2.2.3.min.js\"];\n",
       "  var css_urls = [];\n",
       "  \n",
       "\n",
       "  var inline_js = [\n",
       "    function(Bokeh) {\n",
       "      Bokeh.set_log_level(\"info\");\n",
       "    },\n",
       "    function(Bokeh) {\n",
       "    \n",
       "    \n",
       "    }\n",
       "  ];\n",
       "\n",
       "  function run_inline_js() {\n",
       "    \n",
       "    if (root.Bokeh !== undefined || force === true) {\n",
       "      \n",
       "    for (var i = 0; i < inline_js.length; i++) {\n",
       "      inline_js[i].call(root, root.Bokeh);\n",
       "    }\n",
       "    if (force === true) {\n",
       "        display_loaded();\n",
       "      }} else if (Date.now() < root._bokeh_timeout) {\n",
       "      setTimeout(run_inline_js, 100);\n",
       "    } else if (!root._bokeh_failed_load) {\n",
       "      console.log(\"Bokeh: BokehJS failed to load within specified timeout.\");\n",
       "      root._bokeh_failed_load = true;\n",
       "    } else if (force !== true) {\n",
       "      var cell = $(document.getElementById(\"1001\")).parents('.cell').data().cell;\n",
       "      cell.output_area.append_execute_result(NB_LOAD_WARNING)\n",
       "    }\n",
       "\n",
       "  }\n",
       "\n",
       "  if (root._bokeh_is_loading === 0) {\n",
       "    console.debug(\"Bokeh: BokehJS loaded, going straight to plotting\");\n",
       "    run_inline_js();\n",
       "  } else {\n",
       "    load_libs(css_urls, js_urls, function() {\n",
       "      console.debug(\"Bokeh: BokehJS plotting callback run at\", now());\n",
       "      run_inline_js();\n",
       "    });\n",
       "  }\n",
       "}(window));"
      ],
      "application/vnd.bokehjs_load.v0+json": "\n(function(root) {\n  function now() {\n    return new Date();\n  }\n\n  var force = true;\n\n  if (typeof root._bokeh_onload_callbacks === \"undefined\" || force === true) {\n    root._bokeh_onload_callbacks = [];\n    root._bokeh_is_loading = undefined;\n  }\n\n  \n\n  \n  if (typeof (root._bokeh_timeout) === \"undefined\" || force === true) {\n    root._bokeh_timeout = Date.now() + 5000;\n    root._bokeh_failed_load = false;\n  }\n\n  var NB_LOAD_WARNING = {'data': {'text/html':\n     \"<div style='background-color: #fdd'>\\n\"+\n     \"<p>\\n\"+\n     \"BokehJS does not appear to have successfully loaded. If loading BokehJS from CDN, this \\n\"+\n     \"may be due to a slow or bad network connection. Possible fixes:\\n\"+\n     \"</p>\\n\"+\n     \"<ul>\\n\"+\n     \"<li>re-rerun `output_notebook()` to attempt to load from CDN again, or</li>\\n\"+\n     \"<li>use INLINE resources instead, as so:</li>\\n\"+\n     \"</ul>\\n\"+\n     \"<code>\\n\"+\n     \"from bokeh.resources import INLINE\\n\"+\n     \"output_notebook(resources=INLINE)\\n\"+\n     \"</code>\\n\"+\n     \"</div>\"}};\n\n  function display_loaded() {\n    var el = document.getElementById(\"1001\");\n    if (el != null) {\n      el.textContent = \"BokehJS is loading...\";\n    }\n    if (root.Bokeh !== undefined) {\n      if (el != null) {\n        el.textContent = \"BokehJS \" + root.Bokeh.version + \" successfully loaded.\";\n      }\n    } else if (Date.now() < root._bokeh_timeout) {\n      setTimeout(display_loaded, 100)\n    }\n  }\n\n\n  function run_callbacks() {\n    try {\n      root._bokeh_onload_callbacks.forEach(function(callback) {\n        if (callback != null)\n          callback();\n      });\n    } finally {\n      delete root._bokeh_onload_callbacks\n    }\n    console.debug(\"Bokeh: all callbacks have finished\");\n  }\n\n  function load_libs(css_urls, js_urls, callback) {\n    if (css_urls == null) css_urls = [];\n    if (js_urls == null) js_urls = [];\n\n    root._bokeh_onload_callbacks.push(callback);\n    if (root._bokeh_is_loading > 0) {\n      console.debug(\"Bokeh: BokehJS is being loaded, scheduling callback at\", now());\n      return null;\n    }\n    if (js_urls == null || js_urls.length === 0) {\n      run_callbacks();\n      return null;\n    }\n    console.debug(\"Bokeh: BokehJS not loaded, scheduling load and callback at\", now());\n    root._bokeh_is_loading = css_urls.length + js_urls.length;\n\n    function on_load() {\n      root._bokeh_is_loading--;\n      if (root._bokeh_is_loading === 0) {\n        console.debug(\"Bokeh: all BokehJS libraries/stylesheets loaded\");\n        run_callbacks()\n      }\n    }\n\n    function on_error() {\n      console.error(\"failed to load \" + url);\n    }\n\n    for (var i = 0; i < css_urls.length; i++) {\n      var url = css_urls[i];\n      const element = document.createElement(\"link\");\n      element.onload = on_load;\n      element.onerror = on_error;\n      element.rel = \"stylesheet\";\n      element.type = \"text/css\";\n      element.href = url;\n      console.debug(\"Bokeh: injecting link tag for BokehJS stylesheet: \", url);\n      document.body.appendChild(element);\n    }\n\n    const hashes = {\"https://cdn.bokeh.org/bokeh/release/bokeh-2.2.3.min.js\": \"T2yuo9Oe71Cz/I4X9Ac5+gpEa5a8PpJCDlqKYO0CfAuEszu1JrXLl8YugMqYe3sM\", \"https://cdn.bokeh.org/bokeh/release/bokeh-widgets-2.2.3.min.js\": \"98GDGJ0kOMCUMUePhksaQ/GYgB3+NH9h996V88sh3aOiUNX3N+fLXAtry6xctSZ6\", \"https://cdn.bokeh.org/bokeh/release/bokeh-tables-2.2.3.min.js\": \"89bArO+nlbP3sgakeHjCo1JYxYR5wufVgA3IbUvDY+K7w4zyxJqssu7wVnfeKCq8\"};\n\n    for (var i = 0; i < js_urls.length; i++) {\n      var url = js_urls[i];\n      var element = document.createElement('script');\n      element.onload = on_load;\n      element.onerror = on_error;\n      element.async = false;\n      element.src = url;\n      if (url in hashes) {\n        element.crossOrigin = \"anonymous\";\n        element.integrity = \"sha384-\" + hashes[url];\n      }\n      console.debug(\"Bokeh: injecting script tag for BokehJS library: \", url);\n      document.head.appendChild(element);\n    }\n  };\n\n  function inject_raw_css(css) {\n    const element = document.createElement(\"style\");\n    element.appendChild(document.createTextNode(css));\n    document.body.appendChild(element);\n  }\n\n  \n  var js_urls = [\"https://cdn.bokeh.org/bokeh/release/bokeh-2.2.3.min.js\", \"https://cdn.bokeh.org/bokeh/release/bokeh-widgets-2.2.3.min.js\", \"https://cdn.bokeh.org/bokeh/release/bokeh-tables-2.2.3.min.js\"];\n  var css_urls = [];\n  \n\n  var inline_js = [\n    function(Bokeh) {\n      Bokeh.set_log_level(\"info\");\n    },\n    function(Bokeh) {\n    \n    \n    }\n  ];\n\n  function run_inline_js() {\n    \n    if (root.Bokeh !== undefined || force === true) {\n      \n    for (var i = 0; i < inline_js.length; i++) {\n      inline_js[i].call(root, root.Bokeh);\n    }\n    if (force === true) {\n        display_loaded();\n      }} else if (Date.now() < root._bokeh_timeout) {\n      setTimeout(run_inline_js, 100);\n    } else if (!root._bokeh_failed_load) {\n      console.log(\"Bokeh: BokehJS failed to load within specified timeout.\");\n      root._bokeh_failed_load = true;\n    } else if (force !== true) {\n      var cell = $(document.getElementById(\"1001\")).parents('.cell').data().cell;\n      cell.output_area.append_execute_result(NB_LOAD_WARNING)\n    }\n\n  }\n\n  if (root._bokeh_is_loading === 0) {\n    console.debug(\"Bokeh: BokehJS loaded, going straight to plotting\");\n    run_inline_js();\n  } else {\n    load_libs(css_urls, js_urls, function() {\n      console.debug(\"Bokeh: BokehJS plotting callback run at\", now());\n      run_inline_js();\n    });\n  }\n}(window));"
     },
     "metadata": {},
     "output_type": "display_data"
    }
   ],
   "source": [
    "import ee\n",
    "import numpy as np\n",
    "from statistics import mean\n",
    "from earthshot import water_viz as vis\n",
    "from earthshot import water_common as common\n",
    "from earthshot import normalize as norm\n",
    "\n",
    "from bokeh.layouts import gridplot\n",
    "from bokeh.plotting import figure, output_file, show\n",
    "from bokeh.models import Range1d"
   ]
  },
  {
   "cell_type": "code",
   "execution_count": 2,
   "metadata": {},
   "outputs": [],
   "source": [
    "#ee.Authenticate()\n",
    "ee.Initialize()"
   ]
  },
  {
   "cell_type": "code",
   "execution_count": 3,
   "metadata": {},
   "outputs": [],
   "source": [
    "# Some common parameters\n",
    "month_names = [\n",
    "    'Jan', 'Feb', 'Mar', 'Apr', 'May', 'Jun', \n",
    "    'Jul', 'Aug', 'Sep', 'Oct', 'Nov', 'Dec']\n",
    "days_per_month = [\n",
    "    31, 28, 31, 30, 31, 30,\n",
    "    31, 31, 30, 31, 30, 31] \n",
    "seconds_per_month = [ dd* 24*60*60 for dd in days_per_month ]\n",
    "\n",
    "bbox_name = 'neom'\n",
    "bbox = common.bboxes()[bbox_name]"
   ]
  },
  {
   "cell_type": "markdown",
   "metadata": {},
   "source": [
    "## Predictors\n",
    "**Terrain slope** derived from [MERIT Hydro](https://developers.google.com/earth-engine/datasets/catalog/MERIT_Hydro_v1_0_1#description)"
   ]
  },
  {
   "cell_type": "code",
   "execution_count": 4,
   "metadata": {},
   "outputs": [
    {
     "data": {
      "text/plain": [
       "[0, 0.9999999999999999]"
      ]
     },
     "execution_count": 4,
     "metadata": {},
     "output_type": "execute_result"
    }
   ],
   "source": [
    "slope_min = 1\n",
    "slope_max = 9\n",
    "slope_deg = ee.Image('users/jamesmcc/merit_slope/merit_terrain_slope')\n",
    "slope_mask = slope_deg.lte(slope_max).And(slope_deg.gte(slope_min))\n",
    "slope_inv = slope_deg.updateMask(slope_mask).pow(-1) \n",
    "slope_inv_scaled = norm.img_scale(slope_inv, area_of_interest=bbox) \n",
    "norm.img_range(slope_inv_scaled, area_of_interest=bbox)"
   ]
  },
  {
   "cell_type": "markdown",
   "metadata": {},
   "source": [
    "**Contributing area** from MERIT Hydro. Potential runoff calculation assumes that rainfall is uniform across the contributing area. If rainfall in NEOM region is dominated by convective/thunder storms, then potential runoff is only valid for contributing areas of this scale. Use a standard radius of such storms (7.5miles = 12km) as the maximum contributing area (177mi2 = 460km2) for which potential runoff is valid."
   ]
  },
  {
   "cell_type": "code",
   "execution_count": 5,
   "metadata": {},
   "outputs": [],
   "source": [
    "max_contrib_area_km2 = 460\n",
    "merit_drain_area_km2 = ee.Image(\"MERIT/Hydro/v1_0_1\").select('upa')\n",
    "drain_area_mask = merit_drain_area_km2.lte(max_contrib_area_km2)"
   ]
  },
  {
   "cell_type": "markdown",
   "metadata": {},
   "source": [
    "**Potential runoff** monthly cilmatologies [from ERA5 and Merit Hydro](https://code.earthengine.google.com/?asset=users/jamesmcc/era5_merit_potential_sfc_runoff_neom_climatology)"
   ]
  },
  {
   "cell_type": "code",
   "execution_count": 6,
   "metadata": {},
   "outputs": [],
   "source": [
    "pot_runoff_clim = ee.ImageCollection(\n",
    "    'users/jamesmcc/era5_merit_potential_sfc_runoff_neom_climatology')"
   ]
  },
  {
   "cell_type": "markdown",
   "metadata": {},
   "source": [
    "Inspect the monthly potential runoff to understand how to reduce it."
   ]
  },
  {
   "cell_type": "code",
   "execution_count": 7,
   "metadata": {},
   "outputs": [],
   "source": [
    "pot_runoff_min_cms = .001 ## have to set this low to get histograms in some months\n",
    "pot_runoff_max_cms = 2\n",
    "plots = []\n",
    "for month0 in range(12):\n",
    "    month = month0 + 1\n",
    "    month_name = month_names[month - 1]\n",
    "\n",
    "    pot_runoff_cms = (\n",
    "        pot_runoff_clim\n",
    "        .filter(ee.Filter.eq('month', month))\n",
    "        .filter(ee.Filter.eq('variable', 'potential_sfc_runoff_mon_clim_cms'))\n",
    "        .first())\n",
    "    \n",
    "    # Apply all the constraints\n",
    "    pot_runoff_cms_mask = (\n",
    "        pot_runoff_cms.gte(pot_runoff_min_cms).And(\n",
    "            pot_runoff_cms.lte(pot_runoff_max_cms))\n",
    "        .updateMask(drain_area_mask)\n",
    "        .updateMask(slope_mask))\n",
    "\n",
    "    pot_runoff_hist = ee.Dictionary(\n",
    "        pot_runoff_cms\n",
    "        .updateMask(pot_runoff_cms_mask)\n",
    "        .reduceRegion(\n",
    "            ee.Reducer.histogram()).get('potential_sfc_runoff_mon_clim_cms'))\n",
    "    hist = np.array(pot_runoff_hist.get('histogram').getInfo())\n",
    "    edges = (\n",
    "        (np.array(list(range(len(hist) + 1))) * \n",
    "         np.array(pot_runoff_hist.get('bucketWidth').getInfo())) + \n",
    "        np.array(pot_runoff_hist.get('bucketMin').getInfo()) )\n",
    "\n",
    "    p = figure(\n",
    "        title='NEOM Potential Runoff (cms): ' + month_name, tools=\"\", \n",
    "        y_axis_type=\"log\", \n",
    "        # x_axis_type=\"log\",\n",
    "        y_range=Range1d(1, 45000),\n",
    "        x_range=Range1d(pot_runoff_min_cms, pot_runoff_max_cms),\n",
    "        background_fill_color=\"white\")\n",
    "    _ = p.quad(\n",
    "        top=hist,\n",
    "        bottom=1,\n",
    "        left=edges[:-1],\n",
    "        right=edges[1:],\n",
    "        fill_color=\"navy\",\n",
    "        line_color=\"navy\",\n",
    "        alpha=1.)\n",
    "    plots = plots + [p]"
   ]
  },
  {
   "cell_type": "code",
   "execution_count": 8,
   "metadata": {},
   "outputs": [
    {
     "data": {
      "text/html": [
       "\n",
       "\n",
       "\n",
       "\n",
       "\n",
       "\n",
       "  <div class=\"bk-root\" id=\"424bc036-e17a-4b5b-b24a-e6a0f3bb3978\" data-root-id=\"1401\"></div>\n"
      ]
     },
     "metadata": {},
     "output_type": "display_data"
    },
    {
     "data": {
      "application/javascript": [
       "(function(root) {\n",
       "  function embed_document(root) {\n",
       "    \n",
       "  var docs_json = {\"98593c9b-6422-4139-8c39-9b92cd2e9183\":{\"roots\":{\"references\":[{\"attributes\":{\"children\":[{\"id\":\"1400\"},{\"id\":\"1398\"}]},\"id\":\"1401\",\"type\":\"Column\"},{\"attributes\":{\"end\":2,\"start\":0.001},\"id\":\"1253\",\"type\":\"Range1d\"},{\"attributes\":{},\"id\":\"1061\",\"type\":\"LogScale\"},{\"attributes\":{\"background_fill_color\":\"white\",\"below\":[{\"id\":\"1213\"}],\"center\":[{\"id\":\"1216\"},{\"id\":\"1220\"}],\"left\":[{\"id\":\"1217\"}],\"plot_height\":250,\"plot_width\":250,\"renderers\":[{\"id\":\"1225\"}],\"title\":{\"id\":\"1205\"},\"toolbar\":{\"id\":\"1221\"},\"toolbar_location\":null,\"x_range\":{\"id\":\"1203\"},\"x_scale\":{\"id\":\"1209\"},\"y_range\":{\"id\":\"1202\"},\"y_scale\":{\"id\":\"1211\"}},\"id\":\"1204\",\"subtype\":\"Figure\",\"type\":\"Plot\"},{\"attributes\":{\"axis\":{\"id\":\"1067\"},\"dimension\":1,\"ticker\":null},\"id\":\"1070\",\"type\":\"Grid\"},{\"attributes\":{},\"id\":\"1320\",\"type\":\"BasicTickFormatter\"},{\"attributes\":{\"bottom\":{\"value\":1},\"fill_color\":{\"value\":\"navy\"},\"left\":{\"field\":\"left\"},\"line_color\":{\"value\":\"navy\"},\"right\":{\"field\":\"right\"},\"top\":{\"field\":\"top\"}},\"id\":\"1073\",\"type\":\"Quad\"},{\"attributes\":{\"bottom\":{\"value\":1},\"fill_color\":{\"value\":\"navy\"},\"left\":{\"field\":\"left\"},\"line_color\":{\"value\":\"navy\"},\"right\":{\"field\":\"right\"},\"top\":{\"field\":\"top\"}},\"id\":\"1098\",\"type\":\"Quad\"},{\"attributes\":{\"end\":45000,\"start\":1},\"id\":\"1252\",\"type\":\"Range1d\"},{\"attributes\":{\"data_source\":{\"id\":\"1047\"},\"glyph\":{\"id\":\"1048\"},\"hover_glyph\":null,\"muted_glyph\":null,\"nonselection_glyph\":{\"id\":\"1049\"},\"selection_glyph\":null,\"view\":{\"id\":\"1051\"}},\"id\":\"1050\",\"type\":\"GlyphRenderer\"},{\"attributes\":{},\"id\":\"1336\",\"type\":\"BasicTickFormatter\"},{\"attributes\":{\"bottom\":{\"value\":1},\"fill_alpha\":{\"value\":0.1},\"fill_color\":{\"value\":\"navy\"},\"left\":{\"field\":\"left\"},\"line_alpha\":{\"value\":0.1},\"line_color\":{\"value\":\"navy\"},\"right\":{\"field\":\"right\"},\"top\":{\"field\":\"top\"}},\"id\":\"1074\",\"type\":\"Quad\"},{\"attributes\":{\"background_fill_color\":\"white\",\"below\":[{\"id\":\"1138\"}],\"center\":[{\"id\":\"1141\"},{\"id\":\"1145\"}],\"left\":[{\"id\":\"1142\"}],\"plot_height\":250,\"plot_width\":250,\"renderers\":[{\"id\":\"1150\"}],\"title\":{\"id\":\"1130\"},\"toolbar\":{\"id\":\"1146\"},\"toolbar_location\":null,\"x_range\":{\"id\":\"1128\"},\"x_scale\":{\"id\":\"1134\"},\"y_range\":{\"id\":\"1127\"},\"y_scale\":{\"id\":\"1136\"}},\"id\":\"1129\",\"subtype\":\"Figure\",\"type\":\"Plot\"},{\"attributes\":{\"end\":2,\"start\":0.001},\"id\":\"1203\",\"type\":\"Range1d\"},{\"attributes\":{},\"id\":\"1307\",\"type\":\"Selection\"},{\"attributes\":{\"end\":45000,\"start\":1},\"id\":\"1177\",\"type\":\"Range1d\"},{\"attributes\":{\"source\":{\"id\":\"1047\"}},\"id\":\"1051\",\"type\":\"CDSView\"},{\"attributes\":{\"bottom\":{\"value\":1},\"fill_color\":{\"value\":\"navy\"},\"left\":{\"field\":\"left\"},\"line_color\":{\"value\":\"navy\"},\"right\":{\"field\":\"right\"},\"top\":{\"field\":\"top\"}},\"id\":\"1223\",\"type\":\"Quad\"},{\"attributes\":{\"active_drag\":\"auto\",\"active_inspect\":\"auto\",\"active_multi\":null,\"active_scroll\":\"auto\",\"active_tap\":\"auto\"},\"id\":\"1071\",\"type\":\"Toolbar\"},{\"attributes\":{\"num_minor_ticks\":10},\"id\":\"1068\",\"type\":\"LogTicker\"},{\"attributes\":{\"ticker\":null},\"id\":\"1346\",\"type\":\"LogTickFormatter\"},{\"attributes\":{\"data_source\":{\"id\":\"1197\"},\"glyph\":{\"id\":\"1198\"},\"hover_glyph\":null,\"muted_glyph\":null,\"nonselection_glyph\":{\"id\":\"1199\"},\"selection_glyph\":null,\"view\":{\"id\":\"1201\"}},\"id\":\"1200\",\"type\":\"GlyphRenderer\"},{\"attributes\":{\"end\":45000,\"start\":1},\"id\":\"1202\",\"type\":\"Range1d\"},{\"attributes\":{},\"id\":\"1304\",\"type\":\"BasicTickFormatter\"},{\"attributes\":{\"ticker\":null},\"id\":\"1306\",\"type\":\"LogTickFormatter\"},{\"attributes\":{},\"id\":\"1347\",\"type\":\"Selection\"},{\"attributes\":{\"formatter\":{\"id\":\"1344\"},\"ticker\":{\"id\":\"1064\"}},\"id\":\"1063\",\"type\":\"LinearAxis\"},{\"attributes\":{\"data_source\":{\"id\":\"1097\"},\"glyph\":{\"id\":\"1098\"},\"hover_glyph\":null,\"muted_glyph\":null,\"nonselection_glyph\":{\"id\":\"1099\"},\"selection_glyph\":null,\"view\":{\"id\":\"1101\"}},\"id\":\"1100\",\"type\":\"GlyphRenderer\"},{\"attributes\":{},\"id\":\"1348\",\"type\":\"UnionRenderers\"},{\"attributes\":{\"source\":{\"id\":\"1097\"}},\"id\":\"1101\",\"type\":\"CDSView\"},{\"attributes\":{},\"id\":\"1308\",\"type\":\"UnionRenderers\"},{\"attributes\":{\"data_source\":{\"id\":\"1072\"},\"glyph\":{\"id\":\"1073\"},\"hover_glyph\":null,\"muted_glyph\":null,\"nonselection_glyph\":{\"id\":\"1074\"},\"selection_glyph\":null,\"view\":{\"id\":\"1076\"}},\"id\":\"1075\",\"type\":\"GlyphRenderer\"},{\"attributes\":{},\"id\":\"1360\",\"type\":\"BasicTickFormatter\"},{\"attributes\":{\"axis\":{\"id\":\"1063\"},\"ticker\":null},\"id\":\"1066\",\"type\":\"Grid\"},{\"attributes\":{\"source\":{\"id\":\"1197\"}},\"id\":\"1201\",\"type\":\"CDSView\"},{\"attributes\":{\"background_fill_color\":\"white\",\"below\":[{\"id\":\"1113\"}],\"center\":[{\"id\":\"1116\"},{\"id\":\"1120\"}],\"left\":[{\"id\":\"1117\"}],\"plot_height\":250,\"plot_width\":250,\"renderers\":[{\"id\":\"1125\"}],\"title\":{\"id\":\"1105\"},\"toolbar\":{\"id\":\"1121\"},\"toolbar_location\":null,\"x_range\":{\"id\":\"1103\"},\"x_scale\":{\"id\":\"1109\"},\"y_range\":{\"id\":\"1102\"},\"y_scale\":{\"id\":\"1111\"}},\"id\":\"1104\",\"subtype\":\"Figure\",\"type\":\"Plot\"},{\"attributes\":{\"end\":2,\"start\":0.001},\"id\":\"1003\",\"type\":\"Range1d\"},{\"attributes\":{},\"id\":\"1059\",\"type\":\"LinearScale\"},{\"attributes\":{\"end\":45000,\"start\":1},\"id\":\"1227\",\"type\":\"Range1d\"},{\"attributes\":{\"end\":45000,\"start\":1},\"id\":\"1002\",\"type\":\"Range1d\"},{\"attributes\":{\"background_fill_color\":\"white\",\"below\":[{\"id\":\"1013\"}],\"center\":[{\"id\":\"1016\"},{\"id\":\"1020\"}],\"left\":[{\"id\":\"1017\"}],\"plot_height\":250,\"plot_width\":250,\"renderers\":[{\"id\":\"1025\"}],\"title\":{\"id\":\"1005\"},\"toolbar\":{\"id\":\"1021\"},\"toolbar_location\":null,\"x_range\":{\"id\":\"1003\"},\"x_scale\":{\"id\":\"1009\"},\"y_range\":{\"id\":\"1002\"},\"y_scale\":{\"id\":\"1011\"}},\"id\":\"1004\",\"subtype\":\"Figure\",\"type\":\"Plot\"},{\"attributes\":{\"bottom\":{\"value\":1},\"fill_alpha\":{\"value\":0.1},\"fill_color\":{\"value\":\"navy\"},\"left\":{\"field\":\"left\"},\"line_alpha\":{\"value\":0.1},\"line_color\":{\"value\":\"navy\"},\"right\":{\"field\":\"right\"},\"top\":{\"field\":\"top\"}},\"id\":\"1199\",\"type\":\"Quad\"},{\"attributes\":{\"bottom\":{\"value\":1},\"fill_color\":{\"value\":\"navy\"},\"left\":{\"field\":\"left\"},\"line_color\":{\"value\":\"navy\"},\"right\":{\"field\":\"right\"},\"top\":{\"field\":\"top\"}},\"id\":\"1023\",\"type\":\"Quad\"},{\"attributes\":{},\"id\":\"1011\",\"type\":\"LogScale\"},{\"attributes\":{},\"id\":\"1286\",\"type\":\"LogScale\"},{\"attributes\":{\"ticker\":null},\"id\":\"1362\",\"type\":\"LogTickFormatter\"},{\"attributes\":{},\"id\":\"1344\",\"type\":\"BasicTickFormatter\"},{\"attributes\":{},\"id\":\"1324\",\"type\":\"UnionRenderers\"},{\"attributes\":{\"end\":45000,\"start\":1},\"id\":\"1277\",\"type\":\"Range1d\"},{\"attributes\":{\"text\":\"NEOM Potential Runoff (cms): Dec\"},\"id\":\"1280\",\"type\":\"Title\"},{\"attributes\":{},\"id\":\"1363\",\"type\":\"Selection\"},{\"attributes\":{},\"id\":\"1364\",\"type\":\"UnionRenderers\"},{\"attributes\":{},\"id\":\"1339\",\"type\":\"Selection\"},{\"attributes\":{},\"id\":\"1064\",\"type\":\"BasicTicker\"},{\"attributes\":{},\"id\":\"1316\",\"type\":\"UnionRenderers\"},{\"attributes\":{},\"id\":\"1284\",\"type\":\"LinearScale\"},{\"attributes\":{\"end\":45000,\"start\":1},\"id\":\"1027\",\"type\":\"Range1d\"},{\"attributes\":{},\"id\":\"1312\",\"type\":\"BasicTickFormatter\"},{\"attributes\":{\"data\":{\"left\":{\"__ndarray__\":\"AAAAAAAAAAAAAAAAAACAPwAAAAAAAJA/AAAAAAAAmD8AAAAAAACgPwAAAAAAAKQ/AAAAAAAAqD8AAAAAAACsPwAAAAAAALA/AAAAAAAAsj8AAAAAAAC0PwAAAAAAALY/AAAAAAAAuD8AAAAAAAC6PwAAAAAAALw/AAAAAAAAvj8AAAAAAADAPwAAAAAAAME/AAAAAAAAwj8AAAAAAADDPwAAAAAAAMQ/AAAAAAAAxT8AAAAAAADGPwAAAAAAAMc/AAAAAAAAyD8AAAAAAADJPwAAAAAAAMo/AAAAAAAAyz8AAAAAAADMPwAAAAAAAM0/AAAAAAAAzj8AAAAAAADPPwAAAAAAANA/AAAAAACA0D8AAAAAAADRPwAAAAAAgNE/AAAAAAAA0j8AAAAAAIDSPwAAAAAAANM/AAAAAACA0z8AAAAAAADUPwAAAAAAgNQ/AAAAAAAA1T8AAAAAAIDVPwAAAAAAANY/AAAAAACA1j8AAAAAAADXPwAAAAAAgNc/AAAAAAAA2D8AAAAAAIDYPwAAAAAAANk/AAAAAACA2T8AAAAAAADaPwAAAAAAgNo/AAAAAAAA2z8AAAAAAIDbPwAAAAAAANw/AAAAAACA3D8AAAAAAADdPwAAAAAAgN0/AAAAAAAA3j8AAAAAAIDePwAAAAAAAN8/AAAAAACA3z8AAAAAAADgPwAAAAAAQOA/AAAAAACA4D8AAAAAAMDgPwAAAAAAAOE/AAAAAABA4T8AAAAAAIDhPwAAAAAAwOE/AAAAAAAA4j8AAAAAAEDiPwAAAAAAgOI/AAAAAADA4j8AAAAAAADjPwAAAAAAQOM/AAAAAACA4z8AAAAAAMDjPwAAAAAAAOQ/AAAAAABA5D8AAAAAAIDkPwAAAAAAwOQ/AAAAAAAA5T8AAAAAAEDlPwAAAAAAgOU/AAAAAADA5T8AAAAAAADmPwAAAAAAQOY/AAAAAACA5j8AAAAAAMDmPwAAAAAAAOc/AAAAAABA5z8AAAAAAIDnPwAAAAAAwOc/AAAAAAAA6D8AAAAAAEDoPwAAAAAAgOg/AAAAAADA6D8AAAAAAADpPwAAAAAAQOk/AAAAAACA6T8AAAAAAMDpPwAAAAAAAOo/AAAAAABA6j8AAAAAAIDqPwAAAAAAwOo/AAAAAAAA6z8AAAAAAEDrPwAAAAAAgOs/AAAAAADA6z8AAAAAAADsPwAAAAAAQOw/AAAAAACA7D8AAAAAAMDsPwAAAAAAAO0/AAAAAABA7T8AAAAAAIDtPwAAAAAAwO0/AAAAAAAA7j8AAAAAAEDuPwAAAAAAgO4/AAAAAADA7j8AAAAAAADvPwAAAAAAQO8/AAAAAACA7z8AAAAAAMDvPwAAAAAAAPA/AAAAAAAg8D8AAAAAAEDwPwAAAAAAYPA/AAAAAACA8D8AAAAAAKDwPwAAAAAAwPA/AAAAAADg8D8AAAAAAADxPwAAAAAAIPE/AAAAAABA8T8AAAAAAGDxPwAAAAAAgPE/AAAAAACg8T8AAAAAAMDxPwAAAAAA4PE/AAAAAAAA8j8AAAAAACDyPwAAAAAAQPI/AAAAAABg8j8AAAAAAIDyPwAAAAAAoPI/AAAAAADA8j8AAAAAAODyPwAAAAAAAPM/AAAAAAAg8z8AAAAAAEDzPwAAAAAAYPM/AAAAAACA8z8AAAAAAKDzPwAAAAAAwPM/AAAAAADg8z8AAAAAAAD0PwAAAAAAIPQ/AAAAAABA9D8AAAAAAGD0PwAAAAAAgPQ/AAAAAACg9D8AAAAAAMD0PwAAAAAA4PQ/AAAAAAAA9T8AAAAAACD1PwAAAAAAQPU/AAAAAABg9T8AAAAAAID1PwAAAAAAoPU/AAAAAADA9T8AAAAAAOD1Pw==\",\"dtype\":\"float64\",\"order\":\"little\",\"shape\":[176]},\"right\":{\"__ndarray__\":\"AAAAAAAAgD8AAAAAAACQPwAAAAAAAJg/AAAAAAAAoD8AAAAAAACkPwAAAAAAAKg/AAAAAAAArD8AAAAAAACwPwAAAAAAALI/AAAAAAAAtD8AAAAAAAC2PwAAAAAAALg/AAAAAAAAuj8AAAAAAAC8PwAAAAAAAL4/AAAAAAAAwD8AAAAAAADBPwAAAAAAAMI/AAAAAAAAwz8AAAAAAADEPwAAAAAAAMU/AAAAAAAAxj8AAAAAAADHPwAAAAAAAMg/AAAAAAAAyT8AAAAAAADKPwAAAAAAAMs/AAAAAAAAzD8AAAAAAADNPwAAAAAAAM4/AAAAAAAAzz8AAAAAAADQPwAAAAAAgNA/AAAAAAAA0T8AAAAAAIDRPwAAAAAAANI/AAAAAACA0j8AAAAAAADTPwAAAAAAgNM/AAAAAAAA1D8AAAAAAIDUPwAAAAAAANU/AAAAAACA1T8AAAAAAADWPwAAAAAAgNY/AAAAAAAA1z8AAAAAAIDXPwAAAAAAANg/AAAAAACA2D8AAAAAAADZPwAAAAAAgNk/AAAAAAAA2j8AAAAAAIDaPwAAAAAAANs/AAAAAACA2z8AAAAAAADcPwAAAAAAgNw/AAAAAAAA3T8AAAAAAIDdPwAAAAAAAN4/AAAAAACA3j8AAAAAAADfPwAAAAAAgN8/AAAAAAAA4D8AAAAAAEDgPwAAAAAAgOA/AAAAAADA4D8AAAAAAADhPwAAAAAAQOE/AAAAAACA4T8AAAAAAMDhPwAAAAAAAOI/AAAAAABA4j8AAAAAAIDiPwAAAAAAwOI/AAAAAAAA4z8AAAAAAEDjPwAAAAAAgOM/AAAAAADA4z8AAAAAAADkPwAAAAAAQOQ/AAAAAACA5D8AAAAAAMDkPwAAAAAAAOU/AAAAAABA5T8AAAAAAIDlPwAAAAAAwOU/AAAAAAAA5j8AAAAAAEDmPwAAAAAAgOY/AAAAAADA5j8AAAAAAADnPwAAAAAAQOc/AAAAAACA5z8AAAAAAMDnPwAAAAAAAOg/AAAAAABA6D8AAAAAAIDoPwAAAAAAwOg/AAAAAAAA6T8AAAAAAEDpPwAAAAAAgOk/AAAAAADA6T8AAAAAAADqPwAAAAAAQOo/AAAAAACA6j8AAAAAAMDqPwAAAAAAAOs/AAAAAABA6z8AAAAAAIDrPwAAAAAAwOs/AAAAAAAA7D8AAAAAAEDsPwAAAAAAgOw/AAAAAADA7D8AAAAAAADtPwAAAAAAQO0/AAAAAACA7T8AAAAAAMDtPwAAAAAAAO4/AAAAAABA7j8AAAAAAIDuPwAAAAAAwO4/AAAAAAAA7z8AAAAAAEDvPwAAAAAAgO8/AAAAAADA7z8AAAAAAADwPwAAAAAAIPA/AAAAAABA8D8AAAAAAGDwPwAAAAAAgPA/AAAAAACg8D8AAAAAAMDwPwAAAAAA4PA/AAAAAAAA8T8AAAAAACDxPwAAAAAAQPE/AAAAAABg8T8AAAAAAIDxPwAAAAAAoPE/AAAAAADA8T8AAAAAAODxPwAAAAAAAPI/AAAAAAAg8j8AAAAAAEDyPwAAAAAAYPI/AAAAAACA8j8AAAAAAKDyPwAAAAAAwPI/AAAAAADg8j8AAAAAAADzPwAAAAAAIPM/AAAAAABA8z8AAAAAAGDzPwAAAAAAgPM/AAAAAACg8z8AAAAAAMDzPwAAAAAA4PM/AAAAAAAA9D8AAAAAACD0PwAAAAAAQPQ/AAAAAABg9D8AAAAAAID0PwAAAAAAoPQ/AAAAAADA9D8AAAAAAOD0PwAAAAAAAPU/AAAAAAAg9T8AAAAAAED1PwAAAAAAYPU/AAAAAACA9T8AAAAAAKD1PwAAAAAAwPU/AAAAAADg9T8AAAAAAAD2Pw==\",\"dtype\":\"float64\",\"order\":\"little\",\"shape\":[176]},\"top\":[32331,5524,2982,1255,793,543,564,285,212,177,255,70,82,50,77,20,46,72,29,60,30,4,22,49,9,15,6,9,33,12,8,1,0,0,11,21,4,3,9,6,7,21,1,5,11,0,0,0,0,0,7,0,2,9,3,6,10,7,5,4,13,2,0,0,0,0,0,0,0,0,0,0,0,0,0,0,0,7,4,5,0,0,0,0,0,0,0,0,0,0,0,5,0,0,0,3,0,0,0,0,0,0,0,0,0,0,0,0,0,0,0,0,0,0,0,0,0,0,0,0,0,0,0,0,0,0,0,0,0,0,0,0,0,0,0,0,0,0,0,0,9,2,7,0,0,0,0,0,0,0,0,0,0,0,0,0,0,0,0,0,0,0,0,0,0,2,3,0,0,0,0,0,0,1,13,1]},\"selected\":{\"id\":\"1323\"},\"selection_policy\":{\"id\":\"1324\"}},\"id\":\"1297\",\"type\":\"ColumnDataSource\"},{\"attributes\":{\"end\":2,\"start\":0.001},\"id\":\"1028\",\"type\":\"Range1d\"},{\"attributes\":{},\"id\":\"1323\",\"type\":\"Selection\"},{\"attributes\":{\"toolbars\":[{\"id\":\"1246\"},{\"id\":\"1271\"},{\"id\":\"1296\"},{\"id\":\"1021\"},{\"id\":\"1046\"},{\"id\":\"1071\"},{\"id\":\"1096\"},{\"id\":\"1121\"},{\"id\":\"1146\"},{\"id\":\"1171\"},{\"id\":\"1196\"},{\"id\":\"1221\"}]},\"id\":\"1399\",\"type\":\"ProxyToolbar\"},{\"attributes\":{},\"id\":\"1289\",\"type\":\"BasicTicker\"},{\"attributes\":{\"formatter\":{\"id\":\"1320\"},\"ticker\":{\"id\":\"1289\"}},\"id\":\"1288\",\"type\":\"LinearAxis\"},{\"attributes\":{},\"id\":\"1315\",\"type\":\"Selection\"},{\"attributes\":{},\"id\":\"1340\",\"type\":\"UnionRenderers\"},{\"attributes\":{\"data_source\":{\"id\":\"1272\"},\"glyph\":{\"id\":\"1273\"},\"hover_glyph\":null,\"muted_glyph\":null,\"nonselection_glyph\":{\"id\":\"1274\"},\"selection_glyph\":null,\"view\":{\"id\":\"1276\"}},\"id\":\"1275\",\"type\":\"GlyphRenderer\"},{\"attributes\":{\"toolbar\":{\"id\":\"1399\"},\"toolbar_location\":\"above\"},\"id\":\"1400\",\"type\":\"ToolbarBox\"},{\"attributes\":{\"background_fill_color\":\"white\",\"below\":[{\"id\":\"1263\"}],\"center\":[{\"id\":\"1266\"},{\"id\":\"1270\"}],\"left\":[{\"id\":\"1267\"}],\"plot_height\":250,\"plot_width\":250,\"renderers\":[{\"id\":\"1275\"}],\"title\":{\"id\":\"1255\"},\"toolbar\":{\"id\":\"1271\"},\"toolbar_location\":null,\"x_range\":{\"id\":\"1253\"},\"x_scale\":{\"id\":\"1259\"},\"y_range\":{\"id\":\"1252\"},\"y_scale\":{\"id\":\"1261\"}},\"id\":\"1254\",\"subtype\":\"Figure\",\"type\":\"Plot\"},{\"attributes\":{\"end\":2,\"start\":0.001},\"id\":\"1053\",\"type\":\"Range1d\"},{\"attributes\":{\"text\":\"NEOM Potential Runoff (cms): Mar\"},\"id\":\"1055\",\"type\":\"Title\"},{\"attributes\":{\"end\":45000,\"start\":1},\"id\":\"1052\",\"type\":\"Range1d\"},{\"attributes\":{\"ticker\":null},\"id\":\"1354\",\"type\":\"LogTickFormatter\"},{\"attributes\":{\"bottom\":{\"value\":1},\"fill_color\":{\"value\":\"navy\"},\"left\":{\"field\":\"left\"},\"line_color\":{\"value\":\"navy\"},\"right\":{\"field\":\"right\"},\"top\":{\"field\":\"top\"}},\"id\":\"1273\",\"type\":\"Quad\"},{\"attributes\":{\"bottom\":{\"value\":1},\"fill_color\":{\"value\":\"navy\"},\"left\":{\"field\":\"left\"},\"line_color\":{\"value\":\"navy\"},\"right\":{\"field\":\"right\"},\"top\":{\"field\":\"top\"}},\"id\":\"1248\",\"type\":\"Quad\"},{\"attributes\":{},\"id\":\"1352\",\"type\":\"BasicTickFormatter\"},{\"attributes\":{\"background_fill_color\":\"white\",\"below\":[{\"id\":\"1063\"}],\"center\":[{\"id\":\"1066\"},{\"id\":\"1070\"}],\"left\":[{\"id\":\"1067\"}],\"plot_height\":250,\"plot_width\":250,\"renderers\":[{\"id\":\"1075\"}],\"title\":{\"id\":\"1055\"},\"toolbar\":{\"id\":\"1071\"},\"toolbar_location\":null,\"x_range\":{\"id\":\"1053\"},\"x_scale\":{\"id\":\"1059\"},\"y_range\":{\"id\":\"1052\"},\"y_scale\":{\"id\":\"1061\"}},\"id\":\"1054\",\"subtype\":\"Figure\",\"type\":\"Plot\"},{\"attributes\":{\"formatter\":{\"id\":\"1346\"},\"ticker\":{\"id\":\"1068\"}},\"id\":\"1067\",\"type\":\"LogAxis\"},{\"attributes\":{},\"id\":\"1355\",\"type\":\"Selection\"},{\"attributes\":{\"ticker\":null},\"id\":\"1338\",\"type\":\"LogTickFormatter\"},{\"attributes\":{},\"id\":\"1356\",\"type\":\"UnionRenderers\"},{\"attributes\":{\"background_fill_color\":\"white\",\"below\":[{\"id\":\"1088\"}],\"center\":[{\"id\":\"1091\"},{\"id\":\"1095\"}],\"left\":[{\"id\":\"1092\"}],\"plot_height\":250,\"plot_width\":250,\"renderers\":[{\"id\":\"1100\"}],\"title\":{\"id\":\"1080\"},\"toolbar\":{\"id\":\"1096\"},\"toolbar_location\":null,\"x_range\":{\"id\":\"1078\"},\"x_scale\":{\"id\":\"1084\"},\"y_range\":{\"id\":\"1077\"},\"y_scale\":{\"id\":\"1086\"}},\"id\":\"1079\",\"subtype\":\"Figure\",\"type\":\"Plot\"},{\"attributes\":{\"background_fill_color\":\"white\",\"below\":[{\"id\":\"1038\"}],\"center\":[{\"id\":\"1041\"},{\"id\":\"1045\"}],\"left\":[{\"id\":\"1042\"}],\"plot_height\":250,\"plot_width\":250,\"renderers\":[{\"id\":\"1050\"}],\"title\":{\"id\":\"1030\"},\"toolbar\":{\"id\":\"1046\"},\"toolbar_location\":null,\"x_range\":{\"id\":\"1028\"},\"x_scale\":{\"id\":\"1034\"},\"y_range\":{\"id\":\"1027\"},\"y_scale\":{\"id\":\"1036\"}},\"id\":\"1029\",\"subtype\":\"Figure\",\"type\":\"Plot\"},{\"attributes\":{\"end\":2,\"start\":0.001},\"id\":\"1228\",\"type\":\"Range1d\"},{\"attributes\":{\"end\":2,\"start\":0.001},\"id\":\"1078\",\"type\":\"Range1d\"},{\"attributes\":{\"data\":{\"left\":{\"__ndarray__\":\"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\",\"dtype\":\"float64\",\"order\":\"little\",\"shape\":[233]},\"right\":{\"__ndarray__\":\"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\",\"dtype\":\"float64\",\"order\":\"little\",\"shape\":[233]},\"top\":[36175,6170,2970,2055,1382,716,515,504,306,236,158,163,262,161,98,78,58,32,24,36,14,71,24,29,27,9,6,11,28,22,8,7,11,6,6,11,26,16,8,6,8,1,0,7,14,0,3,3,12,0,0,0,0,0,8,5,0,4,0,7,17,5,2,10,0,11,0,0,0,0,2,7,4,5,10,7,0,4,5,7,6,2,0,0,0,0,0,0,0,0,0,0,0,0,0,0,0,0,0,0,0,0,7,1,4,4,0,0,0,0,0,0,0,0,5,0,0,0,3,0,0,0,0,0,0,0,0,0,0,0,0,0,0,0,0,0,0,0,0,0,0,0,0,0,0,0,0,0,0,0,0,0,0,0,0,0,0,0,0,0,0,0,0,0,0,0,0,0,0,0,0,0,0,0,0,0,0,0,0,0,0,0,0,0,0,0,9,0,3,6,0,0,0,0,0,0,0,0,0,0,0,0,0,0,0,0,0,0,0,0,0,0,0,0,0,0,0,0,0,2,2,1,0,0,0,0,0,0,0,0,9,5,1]},\"selected\":{\"id\":\"1331\"},\"selection_policy\":{\"id\":\"1332\"}},\"id\":\"1022\",\"type\":\"ColumnDataSource\"},{\"attributes\":{\"bottom\":{\"value\":1},\"fill_alpha\":{\"value\":0.1},\"fill_color\":{\"value\":\"navy\"},\"left\":{\"field\":\"left\"},\"line_alpha\":{\"value\":0.1},\"line_color\":{\"value\":\"navy\"},\"right\":{\"field\":\"right\"},\"top\":{\"field\":\"top\"}},\"id\":\"1149\",\"type\":\"Quad\"},{\"attributes\":{\"end\":2,\"start\":0.001},\"id\":\"1278\",\"type\":\"Range1d\"},{\"attributes\":{\"source\":{\"id\":\"1072\"}},\"id\":\"1076\",\"type\":\"CDSView\"},{\"attributes\":{\"text\":\"NEOM Potential Runoff (cms): Oct\"},\"id\":\"1230\",\"type\":\"Title\"},{\"attributes\":{\"ticker\":null},\"id\":\"1314\",\"type\":\"LogTickFormatter\"},{\"attributes\":{\"ticker\":null},\"id\":\"1322\",\"type\":\"LogTickFormatter\"},{\"attributes\":{\"background_fill_color\":\"white\",\"below\":[{\"id\":\"1238\"}],\"center\":[{\"id\":\"1241\"},{\"id\":\"1245\"}],\"left\":[{\"id\":\"1242\"}],\"plot_height\":250,\"plot_width\":250,\"renderers\":[{\"id\":\"1250\"}],\"title\":{\"id\":\"1230\"},\"toolbar\":{\"id\":\"1246\"},\"toolbar_location\":null,\"x_range\":{\"id\":\"1228\"},\"x_scale\":{\"id\":\"1234\"},\"y_range\":{\"id\":\"1227\"},\"y_scale\":{\"id\":\"1236\"}},\"id\":\"1229\",\"subtype\":\"Figure\",\"type\":\"Plot\"},{\"attributes\":{\"end\":45000,\"start\":1},\"id\":\"1077\",\"type\":\"Range1d\"},{\"attributes\":{\"data_source\":{\"id\":\"1147\"},\"glyph\":{\"id\":\"1148\"},\"hover_glyph\":null,\"muted_glyph\":null,\"nonselection_glyph\":{\"id\":\"1149\"},\"selection_glyph\":null,\"view\":{\"id\":\"1151\"}},\"id\":\"1150\",\"type\":\"GlyphRenderer\"},{\"attributes\":{\"num_minor_ticks\":10},\"id\":\"1093\",\"type\":\"LogTicker\"},{\"attributes\":{\"source\":{\"id\":\"1272\"}},\"id\":\"1276\",\"type\":\"CDSView\"},{\"attributes\":{\"data\":{\"left\":{\"__ndarray__\":\"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\",\"dtype\":\"float64\",\"order\":\"little\",\"shape\":[225]},\"right\":{\"__ndarray__\":\"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\",\"dtype\":\"float64\",\"order\":\"little\",\"shape\":[225]},\"top\":[23392,7162,2951,2012,1808,1171,921,482,421,225,300,327,114,139,152,170,215,94,122,51,68,52,68,32,20,68,52,4,9,24,15,44,14,1,0,13,36,17,8,5,4,14,17,5,14,5,1,0,0,0,0,2,11,0,3,8,6,0,0,0,0,0,7,14,0,0,3,0,12,9,11,6,9,3,4,5,6,7,2,0,2,0,0,0,0,0,0,7,14,7,8,0,3,4,0,6,3,0,5,3,3,5,0,0,0,0,0,0,0,0,0,0,0,0,0,0,0,0,0,0,0,0,0,0,0,0,0,0,0,0,0,0,0,0,0,0,0,0,0,0,0,0,0,0,0,0,0,0,0,0,0,0,0,0,0,0,0,0,0,0,0,0,0,3,2,0,0,0,0,0,3,0,0,0,0,0,0,0,0,9,0,3,6,0,0,0,0,0,0,0,0,0,0,0,0,0,0,0,0,0,0,0,0,0,0,0,0,0,0,0,0,2,3,0,0,0,0,0,0,0,0,1,11,2,1]},\"selected\":{\"id\":\"1347\"},\"selection_policy\":{\"id\":\"1348\"}},\"id\":\"1072\",\"type\":\"ColumnDataSource\"},{\"attributes\":{},\"id\":\"1368\",\"type\":\"BasicTickFormatter\"},{\"attributes\":{\"data_source\":{\"id\":\"1297\"},\"glyph\":{\"id\":\"1298\"},\"hover_glyph\":null,\"muted_glyph\":null,\"nonselection_glyph\":{\"id\":\"1299\"},\"selection_glyph\":null,\"view\":{\"id\":\"1301\"}},\"id\":\"1300\",\"type\":\"GlyphRenderer\"},{\"attributes\":{\"background_fill_color\":\"white\",\"below\":[{\"id\":\"1288\"}],\"center\":[{\"id\":\"1291\"},{\"id\":\"1295\"}],\"left\":[{\"id\":\"1292\"}],\"plot_height\":250,\"plot_width\":250,\"renderers\":[{\"id\":\"1300\"}],\"title\":{\"id\":\"1280\"},\"toolbar\":{\"id\":\"1296\"},\"toolbar_location\":null,\"x_range\":{\"id\":\"1278\"},\"x_scale\":{\"id\":\"1284\"},\"y_range\":{\"id\":\"1277\"},\"y_scale\":{\"id\":\"1286\"}},\"id\":\"1279\",\"subtype\":\"Figure\",\"type\":\"Plot\"},{\"attributes\":{\"source\":{\"id\":\"1297\"}},\"id\":\"1301\",\"type\":\"CDSView\"},{\"attributes\":{\"bottom\":{\"value\":1},\"fill_color\":{\"value\":\"navy\"},\"left\":{\"field\":\"left\"},\"line_color\":{\"value\":\"navy\"},\"right\":{\"field\":\"right\"},\"top\":{\"field\":\"top\"}},\"id\":\"1048\",\"type\":\"Quad\"},{\"attributes\":{\"axis\":{\"id\":\"1242\"},\"dimension\":1,\"ticker\":null},\"id\":\"1245\",\"type\":\"Grid\"},{\"attributes\":{\"axis\":{\"id\":\"1213\"},\"ticker\":null},\"id\":\"1216\",\"type\":\"Grid\"},{\"attributes\":{\"axis\":{\"id\":\"1013\"},\"ticker\":null},\"id\":\"1016\",\"type\":\"Grid\"},{\"attributes\":{\"formatter\":{\"id\":\"1306\"},\"ticker\":{\"id\":\"1243\"}},\"id\":\"1242\",\"type\":\"LogAxis\"},{\"attributes\":{\"formatter\":{\"id\":\"1394\"},\"ticker\":{\"id\":\"1218\"}},\"id\":\"1217\",\"type\":\"LogAxis\"},{\"attributes\":{},\"id\":\"1392\",\"type\":\"BasicTickFormatter\"},{\"attributes\":{\"formatter\":{\"id\":\"1330\"},\"ticker\":{\"id\":\"1018\"}},\"id\":\"1017\",\"type\":\"LogAxis\"},{\"attributes\":{\"axis\":{\"id\":\"1113\"},\"ticker\":null},\"id\":\"1116\",\"type\":\"Grid\"},{\"attributes\":{},\"id\":\"1159\",\"type\":\"LinearScale\"},{\"attributes\":{\"num_minor_ticks\":10},\"id\":\"1268\",\"type\":\"LogTicker\"},{\"attributes\":{},\"id\":\"1261\",\"type\":\"LogScale\"},{\"attributes\":{\"text\":\"NEOM Potential Runoff (cms): May\"},\"id\":\"1105\",\"type\":\"Title\"},{\"attributes\":{\"bottom\":{\"value\":1},\"fill_alpha\":{\"value\":0.1},\"fill_color\":{\"value\":\"navy\"},\"left\":{\"field\":\"left\"},\"line_alpha\":{\"value\":0.1},\"line_color\":{\"value\":\"navy\"},\"right\":{\"field\":\"right\"},\"top\":{\"field\":\"top\"}},\"id\":\"1024\",\"type\":\"Quad\"},{\"attributes\":{\"formatter\":{\"id\":\"1362\"},\"ticker\":{\"id\":\"1118\"}},\"id\":\"1117\",\"type\":\"LogAxis\"},{\"attributes\":{\"bottom\":{\"value\":1},\"fill_color\":{\"value\":\"navy\"},\"left\":{\"field\":\"left\"},\"line_color\":{\"value\":\"navy\"},\"right\":{\"field\":\"right\"},\"top\":{\"field\":\"top\"}},\"id\":\"1173\",\"type\":\"Quad\"},{\"attributes\":{\"num_minor_ticks\":10},\"id\":\"1218\",\"type\":\"LogTicker\"},{\"attributes\":{\"active_drag\":\"auto\",\"active_inspect\":\"auto\",\"active_multi\":null,\"active_scroll\":\"auto\",\"active_tap\":\"auto\"},\"id\":\"1021\",\"type\":\"Toolbar\"},{\"attributes\":{\"end\":45000,\"start\":1},\"id\":\"1127\",\"type\":\"Range1d\"},{\"attributes\":{\"text\":\"NEOM Potential Runoff (cms): Sep\"},\"id\":\"1205\",\"type\":\"Title\"},{\"attributes\":{},\"id\":\"1184\",\"type\":\"LinearScale\"},{\"attributes\":{\"bottom\":{\"value\":1},\"fill_alpha\":{\"value\":0.1},\"fill_color\":{\"value\":\"navy\"},\"left\":{\"field\":\"left\"},\"line_alpha\":{\"value\":0.1},\"line_color\":{\"value\":\"navy\"},\"right\":{\"field\":\"right\"},\"top\":{\"field\":\"top\"}},\"id\":\"1274\",\"type\":\"Quad\"},{\"attributes\":{\"axis\":{\"id\":\"1017\"},\"dimension\":1,\"ticker\":null},\"id\":\"1020\",\"type\":\"Grid\"},{\"attributes\":{},\"id\":\"1211\",\"type\":\"LogScale\"},{\"attributes\":{\"background_fill_color\":\"white\",\"below\":[{\"id\":\"1188\"}],\"center\":[{\"id\":\"1191\"},{\"id\":\"1195\"}],\"left\":[{\"id\":\"1192\"}],\"plot_height\":250,\"plot_width\":250,\"renderers\":[{\"id\":\"1200\"}],\"title\":{\"id\":\"1180\"},\"toolbar\":{\"id\":\"1196\"},\"toolbar_location\":null,\"x_range\":{\"id\":\"1178\"},\"x_scale\":{\"id\":\"1184\"},\"y_range\":{\"id\":\"1177\"},\"y_scale\":{\"id\":\"1186\"}},\"id\":\"1179\",\"subtype\":\"Figure\",\"type\":\"Plot\"},{\"attributes\":{\"bottom\":{\"value\":1},\"fill_alpha\":{\"value\":0.1},\"fill_color\":{\"value\":\"navy\"},\"left\":{\"field\":\"left\"},\"line_alpha\":{\"value\":0.1},\"line_color\":{\"value\":\"navy\"},\"right\":{\"field\":\"right\"},\"top\":{\"field\":\"top\"}},\"id\":\"1249\",\"type\":\"Quad\"},{\"attributes\":{\"num_minor_ticks\":10},\"id\":\"1018\",\"type\":\"LogTicker\"},{\"attributes\":{\"formatter\":{\"id\":\"1384\"},\"ticker\":{\"id\":\"1189\"}},\"id\":\"1188\",\"type\":\"LinearAxis\"},{\"attributes\":{\"source\":{\"id\":\"1122\"}},\"id\":\"1126\",\"type\":\"CDSView\"},{\"attributes\":{\"ticker\":null},\"id\":\"1370\",\"type\":\"LogTickFormatter\"},{\"attributes\":{\"formatter\":{\"id\":\"1328\"},\"ticker\":{\"id\":\"1014\"}},\"id\":\"1013\",\"type\":\"LinearAxis\"},{\"attributes\":{\"axis\":{\"id\":\"1192\"},\"dimension\":1,\"ticker\":null},\"id\":\"1195\",\"type\":\"Grid\"},{\"attributes\":{\"active_drag\":\"auto\",\"active_inspect\":\"auto\",\"active_multi\":null,\"active_scroll\":\"auto\",\"active_tap\":\"auto\"},\"id\":\"1196\",\"type\":\"Toolbar\"},{\"attributes\":{},\"id\":\"1014\",\"type\":\"BasicTicker\"},{\"attributes\":{\"data_source\":{\"id\":\"1122\"},\"glyph\":{\"id\":\"1123\"},\"hover_glyph\":null,\"muted_glyph\":null,\"nonselection_glyph\":{\"id\":\"1124\"},\"selection_glyph\":null,\"view\":{\"id\":\"1126\"}},\"id\":\"1125\",\"type\":\"GlyphRenderer\"},{\"attributes\":{},\"id\":\"1136\",\"type\":\"LogScale\"},{\"attributes\":{\"num_minor_ticks\":10},\"id\":\"1168\",\"type\":\"LogTicker\"},{\"attributes\":{\"formatter\":{\"id\":\"1312\"},\"ticker\":{\"id\":\"1264\"}},\"id\":\"1263\",\"type\":\"LinearAxis\"},{\"attributes\":{\"axis\":{\"id\":\"1188\"},\"ticker\":null},\"id\":\"1191\",\"type\":\"Grid\"},{\"attributes\":{\"ticker\":null},\"id\":\"1394\",\"type\":\"LogTickFormatter\"},{\"attributes\":{\"end\":2,\"start\":0.001},\"id\":\"1103\",\"type\":\"Range1d\"},{\"attributes\":{},\"id\":\"1371\",\"type\":\"Selection\"},{\"attributes\":{},\"id\":\"1372\",\"type\":\"UnionRenderers\"},{\"attributes\":{\"active_drag\":\"auto\",\"active_inspect\":\"auto\",\"active_multi\":null,\"active_scroll\":\"auto\",\"active_tap\":\"auto\"},\"id\":\"1271\",\"type\":\"Toolbar\"},{\"attributes\":{},\"id\":\"1209\",\"type\":\"LinearScale\"},{\"attributes\":{\"active_drag\":\"auto\",\"active_inspect\":\"auto\",\"active_multi\":null,\"active_scroll\":\"auto\",\"active_tap\":\"auto\"},\"id\":\"1146\",\"type\":\"Toolbar\"},{\"attributes\":{\"num_minor_ticks\":10},\"id\":\"1193\",\"type\":\"LogTicker\"},{\"attributes\":{},\"id\":\"1239\",\"type\":\"BasicTicker\"},{\"attributes\":{\"data\":{\"left\":{\"__ndarray__\":\"AAAAAAAAUD8AAAAAAABUPwAAAAAAAFg/AAAAAAAAXD8AAAAAAABgPwAAAAAAAGI/AAAAAAAAZD8AAAAAAABmPwAAAAAAAGg/AAAAAAAAaj8AAAAAAABsPwAAAAAAAG4/AAAAAAAAcD8AAAAAAABxPwAAAAAAAHI/AAAAAAAAcz8AAAAAAAB0PwAAAAAAAHU/AAAAAAAAdj8AAAAAAAB3PwAAAAAAAHg/AAAAAAAAeT8AAAAAAAB6PwAAAAAAAHs/AAAAAAAAfD8AAAAAAAB9PwAAAAAAAH4/AAAAAAAAfz8AAAAAAACAPwAAAAAAgIA/AAAAAAAAgT8AAAAAAICBPwAAAAAAAII/AAAAAACAgj8AAAAAAACDPwAAAAAAgIM/AAAAAAAAhD8AAAAAAICEPwAAAAAAAIU/AAAAAACAhT8AAAAAAACGPwAAAAAAgIY/AAAAAAAAhz8AAAAAAICHPwAAAAAAAIg/AAAAAACAiD8AAAAAAACJPwAAAAAAgIk/AAAAAAAAij8AAAAAAICKPwAAAAAAAIs/AAAAAACAiz8AAAAAAACMPwAAAAAAgIw/AAAAAAAAjT8AAAAAAICNPwAAAAAAAI4/AAAAAACAjj8AAAAAAACPPwAAAAAAgI8/AAAAAAAAkD8AAAAAAECQPwAAAAAAgJA/AAAAAADAkD8AAAAAAACRPwAAAAAAQJE/AAAAAACAkT8AAAAAAMCRPwAAAAAAAJI/AAAAAABAkj8AAAAAAICSPwAAAAAAwJI/AAAAAAAAkz8AAAAAAECTPwAAAAAAgJM/AAAAAADAkz8AAAAAAACUPwAAAAAAQJQ/AAAAAACAlD8AAAAAAMCUPwAAAAAAAJU/AAAAAABAlT8AAAAAAICVPwAAAAAAwJU/AAAAAAAAlj8AAAAAAECWPwAAAAAAgJY/AAAAAADAlj8AAAAAAACXPwAAAAAAQJc/AAAAAACAlz8AAAAAAMCXPwAAAAAAAJg/AAAAAABAmD8AAAAAAICYPwAAAAAAwJg/AAAAAAAAmT8AAAAAAECZPwAAAAAAgJk/AAAAAADAmT8AAAAAAACaPwAAAAAAQJo/AAAAAACAmj8AAAAAAMCaPwAAAAAAAJs/AAAAAABAmz8AAAAAAICbPwAAAAAAwJs/AAAAAAAAnD8AAAAAAECcPwAAAAAAgJw/AAAAAADAnD8AAAAAAACdPwAAAAAAQJ0/AAAAAACAnT8AAAAAAMCdPwAAAAAAAJ4/AAAAAABAnj8AAAAAAICePwAAAAAAwJ4/AAAAAAAAnz8AAAAAAECfPwAAAAAAgJ8/AAAAAADAnz8AAAAAAACgPwAAAAAAIKA/AAAAAABAoD8AAAAAAGCgPwAAAAAAgKA/AAAAAACgoD8AAAAAAMCgPwAAAAAA4KA/AAAAAAAAoT8AAAAAACChPwAAAAAAQKE/AAAAAABgoT8AAAAAAIChPwAAAAAAoKE/AAAAAADAoT8AAAAAAOChPwAAAAAAAKI/AAAAAAAgoj8AAAAAAECiPwAAAAAAYKI/AAAAAACAoj8AAAAAAKCiPwAAAAAAwKI/AAAAAADgoj8AAAAAAACjPwAAAAAAIKM/AAAAAABAoz8AAAAAAGCjPwAAAAAAgKM/AAAAAACgoz8AAAAAAMCjPwAAAAAA4KM/AAAAAAAApD8AAAAAACCkPwAAAAAAQKQ/AAAAAABgpD8AAAAAAICkPwAAAAAAoKQ/AAAAAADApD8AAAAAAOCkPwAAAAAAAKU/AAAAAAAgpT8AAAAAAEClPwAAAAAAYKU/AAAAAACApT8AAAAAAKClPwAAAAAAwKU/AAAAAADgpT8AAAAAAACmPwAAAAAAIKY/AAAAAABApj8AAAAAAGCmPwAAAAAAgKY/AAAAAACgpj8AAAAAAMCmPwAAAAAA4KY/AAAAAAAApz8=\",\"dtype\":\"float64\",\"order\":\"little\",\"shape\":[181]},\"right\":{\"__ndarray__\":\"AAAAAAAAVD8AAAAAAABYPwAAAAAAAFw/AAAAAAAAYD8AAAAAAABiPwAAAAAAAGQ/AAAAAAAAZj8AAAAAAABoPwAAAAAAAGo/AAAAAAAAbD8AAAAAAABuPwAAAAAAAHA/AAAAAAAAcT8AAAAAAAByPwAAAAAAAHM/AAAAAAAAdD8AAAAAAAB1PwAAAAAAAHY/AAAAAAAAdz8AAAAAAAB4PwAAAAAAAHk/AAAAAAAAej8AAAAAAAB7PwAAAAAAAHw/AAAAAAAAfT8AAAAAAAB+PwAAAAAAAH8/AAAAAAAAgD8AAAAAAICAPwAAAAAAAIE/AAAAAACAgT8AAAAAAACCPwAAAAAAgII/AAAAAAAAgz8AAAAAAICDPwAAAAAAAIQ/AAAAAACAhD8AAAAAAACFPwAAAAAAgIU/AAAAAAAAhj8AAAAAAICGPwAAAAAAAIc/AAAAAACAhz8AAAAAAACIPwAAAAAAgIg/AAAAAAAAiT8AAAAAAICJPwAAAAAAAIo/AAAAAACAij8AAAAAAACLPwAAAAAAgIs/AAAAAAAAjD8AAAAAAICMPwAAAAAAAI0/AAAAAACAjT8AAAAAAACOPwAAAAAAgI4/AAAAAAAAjz8AAAAAAICPPwAAAAAAAJA/AAAAAABAkD8AAAAAAICQPwAAAAAAwJA/AAAAAAAAkT8AAAAAAECRPwAAAAAAgJE/AAAAAADAkT8AAAAAAACSPwAAAAAAQJI/AAAAAACAkj8AAAAAAMCSPwAAAAAAAJM/AAAAAABAkz8AAAAAAICTPwAAAAAAwJM/AAAAAAAAlD8AAAAAAECUPwAAAAAAgJQ/AAAAAADAlD8AAAAAAACVPwAAAAAAQJU/AAAAAACAlT8AAAAAAMCVPwAAAAAAAJY/AAAAAABAlj8AAAAAAICWPwAAAAAAwJY/AAAAAAAAlz8AAAAAAECXPwAAAAAAgJc/AAAAAADAlz8AAAAAAACYPwAAAAAAQJg/AAAAAACAmD8AAAAAAMCYPwAAAAAAAJk/AAAAAABAmT8AAAAAAICZPwAAAAAAwJk/AAAAAAAAmj8AAAAAAECaPwAAAAAAgJo/AAAAAADAmj8AAAAAAACbPwAAAAAAQJs/AAAAAACAmz8AAAAAAMCbPwAAAAAAAJw/AAAAAABAnD8AAAAAAICcPwAAAAAAwJw/AAAAAAAAnT8AAAAAAECdPwAAAAAAgJ0/AAAAAADAnT8AAAAAAACePwAAAAAAQJ4/AAAAAACAnj8AAAAAAMCePwAAAAAAAJ8/AAAAAABAnz8AAAAAAICfPwAAAAAAwJ8/AAAAAAAAoD8AAAAAACCgPwAAAAAAQKA/AAAAAABgoD8AAAAAAICgPwAAAAAAoKA/AAAAAADAoD8AAAAAAOCgPwAAAAAAAKE/AAAAAAAgoT8AAAAAAEChPwAAAAAAYKE/AAAAAACAoT8AAAAAAKChPwAAAAAAwKE/AAAAAADgoT8AAAAAAACiPwAAAAAAIKI/AAAAAABAoj8AAAAAAGCiPwAAAAAAgKI/AAAAAACgoj8AAAAAAMCiPwAAAAAA4KI/AAAAAAAAoz8AAAAAACCjPwAAAAAAQKM/AAAAAABgoz8AAAAAAICjPwAAAAAAoKM/AAAAAADAoz8AAAAAAOCjPwAAAAAAAKQ/AAAAAAAgpD8AAAAAAECkPwAAAAAAYKQ/AAAAAACApD8AAAAAAKCkPwAAAAAAwKQ/AAAAAADgpD8AAAAAAAClPwAAAAAAIKU/AAAAAABApT8AAAAAAGClPwAAAAAAgKU/AAAAAACgpT8AAAAAAMClPwAAAAAA4KU/AAAAAAAApj8AAAAAACCmPwAAAAAAQKY/AAAAAABgpj8AAAAAAICmPwAAAAAAoKY/AAAAAADApj8AAAAAAOCmPwAAAAAAAKc/AAAAAAAgpz8=\",\"dtype\":\"float64\",\"order\":\"little\",\"shape\":[181]},\"top\":[721,480,410,268,187,129,181,134,36,76,48,15,33,69,72,32,42,26,14,20,22,53,19,6,11,18,13,35,15,0,0,0,6,47,11,8,6,18,0,7,0,6,11,0,2,0,0,0,0,1,6,2,9,4,5,10,7,4,5,10,5,0,0,0,0,0,0,0,0,0,0,0,0,0,0,0,0,7,2,7,0,0,0,0,0,0,0,0,0,0,0,0,0,3,2,0,0,3,0,0,0,0,0,0,0,0,0,0,0,0,0,0,0,0,0,0,0,0,0,0,0,0,0,0,0,0,0,0,0,0,0,0,0,0,0,0,0,0,0,0,0,0,0,3,6,3,6,0,0,0,0,0,0,0,0,0,0,0,0,0,0,0,0,0,0,0,0,0,0,0,3,2,0,0,0,0,0,0,0,13,2]},\"selected\":{\"id\":\"1379\"},\"selection_policy\":{\"id\":\"1380\"}},\"id\":\"1172\",\"type\":\"ColumnDataSource\"},{\"attributes\":{\"end\":2,\"start\":0.001},\"id\":\"1153\",\"type\":\"Range1d\"},{\"attributes\":{\"num_minor_ticks\":10},\"id\":\"1243\",\"type\":\"LogTicker\"},{\"attributes\":{},\"id\":\"1395\",\"type\":\"Selection\"},{\"attributes\":{},\"id\":\"1134\",\"type\":\"LinearScale\"},{\"attributes\":{},\"id\":\"1161\",\"type\":\"LogScale\"},{\"attributes\":{},\"id\":\"1396\",\"type\":\"UnionRenderers\"},{\"attributes\":{\"formatter\":{\"id\":\"1386\"},\"ticker\":{\"id\":\"1193\"}},\"id\":\"1192\",\"type\":\"LogAxis\"},{\"attributes\":{\"num_minor_ticks\":10},\"id\":\"1143\",\"type\":\"LogTicker\"},{\"attributes\":{\"formatter\":{\"id\":\"1368\"},\"ticker\":{\"id\":\"1139\"}},\"id\":\"1138\",\"type\":\"LinearAxis\"},{\"attributes\":{},\"id\":\"1186\",\"type\":\"LogScale\"},{\"attributes\":{\"data_source\":{\"id\":\"1022\"},\"glyph\":{\"id\":\"1023\"},\"hover_glyph\":null,\"muted_glyph\":null,\"nonselection_glyph\":{\"id\":\"1024\"},\"selection_glyph\":null,\"view\":{\"id\":\"1026\"}},\"id\":\"1025\",\"type\":\"GlyphRenderer\"},{\"attributes\":{},\"id\":\"1189\",\"type\":\"BasicTicker\"},{\"attributes\":{\"source\":{\"id\":\"1222\"}},\"id\":\"1226\",\"type\":\"CDSView\"},{\"attributes\":{\"axis\":{\"id\":\"1142\"},\"dimension\":1,\"ticker\":null},\"id\":\"1145\",\"type\":\"Grid\"},{\"attributes\":{\"text\":\"NEOM Potential Runoff (cms): Jul\"},\"id\":\"1155\",\"type\":\"Title\"},{\"attributes\":{},\"id\":\"1384\",\"type\":\"BasicTickFormatter\"},{\"attributes\":{\"active_drag\":\"auto\",\"active_inspect\":\"auto\",\"active_multi\":null,\"active_scroll\":\"auto\",\"active_tap\":\"auto\"},\"id\":\"1171\",\"type\":\"Toolbar\"},{\"attributes\":{\"data\":{\"left\":{\"__ndarray__\":\"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\",\"dtype\":\"float64\",\"order\":\"little\",\"shape\":[234]},\"right\":{\"__ndarray__\":\"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\",\"dtype\":\"float64\",\"order\":\"little\",\"shape\":[234]},\"top\":[7487,3446,2043,1217,966,723,666,495,641,605,471,332,174,129,174,188,69,108,66,34,48,118,55,42,43,48,22,35,30,31,56,32,12,11,15,22,17,20,12,25,27,43,5,0,19,7,9,19,14,28,14,10,17,8,0,0,0,15,13,18,13,18,12,0,0,3,0,4,11,0,8,2,5,4,9,7,4,5,0,16,15,0,0,0,0,0,0,0,1,6,0,0,2,0,1,6,0,0,3,4,7,3,7,1,8,0,0,0,0,0,0,0,0,0,0,0,0,0,0,0,0,0,0,0,0,0,0,0,0,0,0,0,0,0,0,0,0,0,0,0,0,0,0,0,0,0,0,0,0,0,0,0,0,0,0,0,0,0,0,0,0,0,5,0,0,0,0,0,3,0,0,0,0,0,0,0,0,0,0,0,0,0,0,0,0,0,5,4,2,7,0,0,0,0,0,0,0,0,0,0,0,0,0,0,0,0,0,0,0,0,0,0,0,0,0,0,0,0,0,0,3,2,0,0,0,0,0,0,0,0,0,10,4,1]},\"selected\":{\"id\":\"1363\"},\"selection_policy\":{\"id\":\"1364\"}},\"id\":\"1122\",\"type\":\"ColumnDataSource\"},{\"attributes\":{\"bottom\":{\"value\":1},\"fill_alpha\":{\"value\":0.1},\"fill_color\":{\"value\":\"navy\"},\"left\":{\"field\":\"left\"},\"line_alpha\":{\"value\":0.1},\"line_color\":{\"value\":\"navy\"},\"right\":{\"field\":\"right\"},\"top\":{\"field\":\"top\"}},\"id\":\"1224\",\"type\":\"Quad\"},{\"attributes\":{\"active_drag\":\"auto\",\"active_inspect\":\"auto\",\"active_multi\":null,\"active_scroll\":\"auto\",\"active_tap\":\"auto\"},\"id\":\"1096\",\"type\":\"Toolbar\"},{\"attributes\":{\"text\":\"NEOM Potential Runoff (cms): Jun\"},\"id\":\"1130\",\"type\":\"Title\"},{\"attributes\":{},\"id\":\"1214\",\"type\":\"BasicTicker\"},{\"attributes\":{\"source\":{\"id\":\"1022\"}},\"id\":\"1026\",\"type\":\"CDSView\"},{\"attributes\":{\"bottom\":{\"value\":1},\"fill_color\":{\"value\":\"navy\"},\"left\":{\"field\":\"left\"},\"line_color\":{\"value\":\"navy\"},\"right\":{\"field\":\"right\"},\"top\":{\"field\":\"top\"}},\"id\":\"1298\",\"type\":\"Quad\"},{\"attributes\":{\"bottom\":{\"value\":1},\"fill_alpha\":{\"value\":0.1},\"fill_color\":{\"value\":\"navy\"},\"left\":{\"field\":\"left\"},\"line_alpha\":{\"value\":0.1},\"line_color\":{\"value\":\"navy\"},\"right\":{\"field\":\"right\"},\"top\":{\"field\":\"top\"}},\"id\":\"1174\",\"type\":\"Quad\"},{\"attributes\":{\"data_source\":{\"id\":\"1222\"},\"glyph\":{\"id\":\"1223\"},\"hover_glyph\":null,\"muted_glyph\":null,\"nonselection_glyph\":{\"id\":\"1224\"},\"selection_glyph\":null,\"view\":{\"id\":\"1226\"}},\"id\":\"1225\",\"type\":\"GlyphRenderer\"},{\"attributes\":{\"active_drag\":\"auto\",\"active_inspect\":\"auto\",\"active_multi\":null,\"active_scroll\":\"auto\",\"active_tap\":\"auto\"},\"id\":\"1221\",\"type\":\"Toolbar\"},{\"attributes\":{\"background_fill_color\":\"white\",\"below\":[{\"id\":\"1163\"}],\"center\":[{\"id\":\"1166\"},{\"id\":\"1170\"}],\"left\":[{\"id\":\"1167\"}],\"plot_height\":250,\"plot_width\":250,\"renderers\":[{\"id\":\"1175\"}],\"title\":{\"id\":\"1155\"},\"toolbar\":{\"id\":\"1171\"},\"toolbar_location\":null,\"x_range\":{\"id\":\"1153\"},\"x_scale\":{\"id\":\"1159\"},\"y_range\":{\"id\":\"1152\"},\"y_scale\":{\"id\":\"1161\"}},\"id\":\"1154\",\"subtype\":\"Figure\",\"type\":\"Plot\"},{\"attributes\":{\"text\":\"NEOM Potential Runoff (cms): Nov\"},\"id\":\"1255\",\"type\":\"Title\"},{\"attributes\":{\"axis\":{\"id\":\"1163\"},\"ticker\":null},\"id\":\"1166\",\"type\":\"Grid\"},{\"attributes\":{\"children\":[[{\"id\":\"1229\"},0,0],[{\"id\":\"1254\"},0,1],[{\"id\":\"1279\"},0,2],[{\"id\":\"1004\"},1,0],[{\"id\":\"1029\"},1,1],[{\"id\":\"1054\"},1,2],[{\"id\":\"1079\"},2,0],[{\"id\":\"1104\"},2,1],[{\"id\":\"1129\"},2,2],[{\"id\":\"1154\"},3,0],[{\"id\":\"1179\"},3,1],[{\"id\":\"1204\"},3,2]]},\"id\":\"1398\",\"type\":\"GridBox\"},{\"attributes\":{\"data\":{\"left\":{\"__ndarray__\":\"AAAAAAAAAAAAAAAAAABwPwAAAAAAAIA/AAAAAAAAiD8AAAAAAACQPwAAAAAAAJQ/AAAAAAAAmD8AAAAAAACcPwAAAAAAAKA/AAAAAAAAoj8AAAAAAACkPwAAAAAAAKY/AAAAAAAAqD8AAAAAAACqPwAAAAAAAKw/AAAAAAAArj8AAAAAAACwPwAAAAAAALE/AAAAAAAAsj8AAAAAAACzPwAAAAAAALQ/AAAAAAAAtT8AAAAAAAC2PwAAAAAAALc/AAAAAAAAuD8AAAAAAAC5PwAAAAAAALo/AAAAAAAAuz8AAAAAAAC8PwAAAAAAAL0/AAAAAAAAvj8AAAAAAAC/PwAAAAAAAMA/AAAAAACAwD8AAAAAAADBPwAAAAAAgME/AAAAAAAAwj8AAAAAAIDCPwAAAAAAAMM/AAAAAACAwz8AAAAAAADEPwAAAAAAgMQ/AAAAAAAAxT8AAAAAAIDFPwAAAAAAAMY/AAAAAACAxj8AAAAAAADHPwAAAAAAgMc/AAAAAAAAyD8AAAAAAIDIPwAAAAAAAMk/AAAAAACAyT8AAAAAAADKPwAAAAAAgMo/AAAAAAAAyz8AAAAAAIDLPwAAAAAAAMw/AAAAAACAzD8AAAAAAADNPwAAAAAAgM0/AAAAAAAAzj8AAAAAAIDOPwAAAAAAAM8/AAAAAACAzz8AAAAAAADQPwAAAAAAQNA/AAAAAACA0D8AAAAAAMDQPwAAAAAAANE/AAAAAABA0T8AAAAAAIDRPwAAAAAAwNE/AAAAAAAA0j8AAAAAAEDSPwAAAAAAgNI/AAAAAADA0j8AAAAAAADTPwAAAAAAQNM/AAAAAACA0z8AAAAAAMDTPwAAAAAAANQ/AAAAAABA1D8AAAAAAIDUPwAAAAAAwNQ/AAAAAAAA1T8AAAAAAEDVPwAAAAAAgNU/AAAAAADA1T8AAAAAAADWPwAAAAAAQNY/AAAAAACA1j8AAAAAAMDWPwAAAAAAANc/AAAAAABA1z8AAAAAAIDXPwAAAAAAwNc/AAAAAAAA2D8AAAAAAEDYPwAAAAAAgNg/AAAAAADA2D8AAAAAAADZPwAAAAAAQNk/AAAAAACA2T8AAAAAAMDZPwAAAAAAANo/AAAAAABA2j8AAAAAAIDaPwAAAAAAwNo/AAAAAAAA2z8AAAAAAEDbPwAAAAAAgNs/AAAAAADA2z8AAAAAAADcPwAAAAAAQNw/AAAAAACA3D8AAAAAAMDcPwAAAAAAAN0/AAAAAABA3T8AAAAAAIDdPwAAAAAAwN0/AAAAAAAA3j8AAAAAAEDePwAAAAAAgN4/AAAAAADA3j8AAAAAAADfPwAAAAAAQN8/AAAAAACA3z8AAAAAAMDfPwAAAAAAAOA/AAAAAAAg4D8AAAAAAEDgPwAAAAAAYOA/AAAAAACA4D8AAAAAAKDgPwAAAAAAwOA/AAAAAADg4D8AAAAAAADhPwAAAAAAIOE/AAAAAABA4T8AAAAAAGDhPwAAAAAAgOE/AAAAAACg4T8AAAAAAMDhPwAAAAAA4OE/AAAAAAAA4j8AAAAAACDiPwAAAAAAQOI/AAAAAABg4j8AAAAAAIDiPwAAAAAAoOI/AAAAAADA4j8AAAAAAODiPwAAAAAAAOM/AAAAAAAg4z8=\",\"dtype\":\"float64\",\"order\":\"little\",\"shape\":[154]},\"right\":{\"__ndarray__\":\"AAAAAAAAcD8AAAAAAACAPwAAAAAAAIg/AAAAAAAAkD8AAAAAAACUPwAAAAAAAJg/AAAAAAAAnD8AAAAAAACgPwAAAAAAAKI/AAAAAAAApD8AAAAAAACmPwAAAAAAAKg/AAAAAAAAqj8AAAAAAACsPwAAAAAAAK4/AAAAAAAAsD8AAAAAAACxPwAAAAAAALI/AAAAAAAAsz8AAAAAAAC0PwAAAAAAALU/AAAAAAAAtj8AAAAAAAC3PwAAAAAAALg/AAAAAAAAuT8AAAAAAAC6PwAAAAAAALs/AAAAAAAAvD8AAAAAAAC9PwAAAAAAAL4/AAAAAAAAvz8AAAAAAADAPwAAAAAAgMA/AAAAAAAAwT8AAAAAAIDBPwAAAAAAAMI/AAAAAACAwj8AAAAAAADDPwAAAAAAgMM/AAAAAAAAxD8AAAAAAIDEPwAAAAAAAMU/AAAAAACAxT8AAAAAAADGPwAAAAAAgMY/AAAAAAAAxz8AAAAAAIDHPwAAAAAAAMg/AAAAAACAyD8AAAAAAADJPwAAAAAAgMk/AAAAAAAAyj8AAAAAAIDKPwAAAAAAAMs/AAAAAACAyz8AAAAAAADMPwAAAAAAgMw/AAAAAAAAzT8AAAAAAIDNPwAAAAAAAM4/AAAAAACAzj8AAAAAAADPPwAAAAAAgM8/AAAAAAAA0D8AAAAAAEDQPwAAAAAAgNA/AAAAAADA0D8AAAAAAADRPwAAAAAAQNE/AAAAAACA0T8AAAAAAMDRPwAAAAAAANI/AAAAAABA0j8AAAAAAIDSPwAAAAAAwNI/AAAAAAAA0z8AAAAAAEDTPwAAAAAAgNM/AAAAAADA0z8AAAAAAADUPwAAAAAAQNQ/AAAAAACA1D8AAAAAAMDUPwAAAAAAANU/AAAAAABA1T8AAAAAAIDVPwAAAAAAwNU/AAAAAAAA1j8AAAAAAEDWPwAAAAAAgNY/AAAAAADA1j8AAAAAAADXPwAAAAAAQNc/AAAAAACA1z8AAAAAAMDXPwAAAAAAANg/AAAAAABA2D8AAAAAAIDYPwAAAAAAwNg/AAAAAAAA2T8AAAAAAEDZPwAAAAAAgNk/AAAAAADA2T8AAAAAAADaPwAAAAAAQNo/AAAAAACA2j8AAAAAAMDaPwAAAAAAANs/AAAAAABA2z8AAAAAAIDbPwAAAAAAwNs/AAAAAAAA3D8AAAAAAEDcPwAAAAAAgNw/AAAAAADA3D8AAAAAAADdPwAAAAAAQN0/AAAAAACA3T8AAAAAAMDdPwAAAAAAAN4/AAAAAABA3j8AAAAAAIDePwAAAAAAwN4/AAAAAAAA3z8AAAAAAEDfPwAAAAAAgN8/AAAAAADA3z8AAAAAAADgPwAAAAAAIOA/AAAAAABA4D8AAAAAAGDgPwAAAAAAgOA/AAAAAACg4D8AAAAAAMDgPwAAAAAA4OA/AAAAAAAA4T8AAAAAACDhPwAAAAAAQOE/AAAAAABg4T8AAAAAAIDhPwAAAAAAoOE/AAAAAADA4T8AAAAAAODhPwAAAAAAAOI/AAAAAAAg4j8AAAAAAEDiPwAAAAAAYOI/AAAAAACA4j8AAAAAAKDiPwAAAAAAwOI/AAAAAADg4j8AAAAAAADjPwAAAAAAIOM/AAAAAABA4z8=\",\"dtype\":\"float64\",\"order\":\"little\",\"shape\":[154]},\"top\":[18340,5286,2957,1554,893,574,430,305,321,255,100,106,52,72,83,55,34,57,13,47,13,8,18,5,34,24,10,7,0,7,14,18,0,21,0,3,9,6,0,0,0,0,9,22,0,5,17,6,12,18,4,5,10,5,0,0,0,0,0,0,0,0,0,0,0,0,0,7,4,5,0,0,0,0,0,0,0,0,0,0,0,0,0,0,0,0,3,2,0,0,3,0,0,0,0,0,0,0,0,0,0,0,0,0,0,0,0,0,0,0,0,0,0,0,0,0,0,0,0,0,0,0,9,2,7,0,0,0,0,0,0,0,0,0,0,0,0,0,0,0,0,0,0,0,3,2,0,0,0,0,0,9,5,1]},\"selected\":{\"id\":\"1315\"},\"selection_policy\":{\"id\":\"1316\"}},\"id\":\"1272\",\"type\":\"ColumnDataSource\"},{\"attributes\":{\"end\":45000,\"start\":1},\"id\":\"1102\",\"type\":\"Range1d\"},{\"attributes\":{},\"id\":\"1164\",\"type\":\"BasicTicker\"},{\"attributes\":{\"axis\":{\"id\":\"1288\"},\"ticker\":null},\"id\":\"1291\",\"type\":\"Grid\"},{\"attributes\":{\"active_drag\":\"auto\",\"active_inspect\":\"auto\",\"active_multi\":null,\"active_scroll\":\"auto\",\"active_tap\":\"auto\"},\"id\":\"1046\",\"type\":\"Toolbar\"},{\"attributes\":{\"axis\":{\"id\":\"1263\"},\"ticker\":null},\"id\":\"1266\",\"type\":\"Grid\"},{\"attributes\":{},\"id\":\"1331\",\"type\":\"Selection\"},{\"attributes\":{\"source\":{\"id\":\"1147\"}},\"id\":\"1151\",\"type\":\"CDSView\"},{\"attributes\":{},\"id\":\"1114\",\"type\":\"BasicTicker\"},{\"attributes\":{\"end\":2,\"start\":0.001},\"id\":\"1178\",\"type\":\"Range1d\"},{\"attributes\":{},\"id\":\"1139\",\"type\":\"BasicTicker\"},{\"attributes\":{\"ticker\":null},\"id\":\"1386\",\"type\":\"LogTickFormatter\"},{\"attributes\":{\"formatter\":{\"id\":\"1304\"},\"ticker\":{\"id\":\"1239\"}},\"id\":\"1238\",\"type\":\"LinearAxis\"},{\"attributes\":{\"data\":{\"left\":{\"__ndarray__\":\"AAAAAAAAUD8AAAAAAABUPwAAAAAAAFg/AAAAAAAAXD8AAAAAAABgPwAAAAAAAGI/AAAAAAAAZD8AAAAAAABmPwAAAAAAAGg/AAAAAAAAaj8AAAAAAABsPwAAAAAAAG4/AAAAAAAAcD8AAAAAAABxPwAAAAAAAHI/AAAAAAAAcz8AAAAAAAB0PwAAAAAAAHU/AAAAAAAAdj8AAAAAAAB3PwAAAAAAAHg/AAAAAAAAeT8AAAAAAAB6PwAAAAAAAHs/AAAAAAAAfD8AAAAAAAB9PwAAAAAAAH4/AAAAAAAAfz8AAAAAAACAPwAAAAAAgIA/AAAAAAAAgT8AAAAAAICBPwAAAAAAAII/AAAAAACAgj8AAAAAAACDPwAAAAAAgIM/AAAAAAAAhD8AAAAAAICEPwAAAAAAAIU/AAAAAACAhT8AAAAAAACGPwAAAAAAgIY/AAAAAAAAhz8AAAAAAICHPwAAAAAAAIg/AAAAAACAiD8AAAAAAACJPwAAAAAAgIk/AAAAAAAAij8AAAAAAICKPwAAAAAAAIs/AAAAAACAiz8AAAAAAACMPwAAAAAAgIw/AAAAAAAAjT8AAAAAAICNPwAAAAAAAI4/AAAAAACAjj8AAAAAAACPPwAAAAAAgI8/AAAAAAAAkD8AAAAAAECQPwAAAAAAgJA/AAAAAADAkD8AAAAAAACRPwAAAAAAQJE/AAAAAACAkT8AAAAAAMCRPwAAAAAAAJI/AAAAAABAkj8AAAAAAICSPwAAAAAAwJI/AAAAAAAAkz8AAAAAAECTPwAAAAAAgJM/AAAAAADAkz8AAAAAAACUPwAAAAAAQJQ/AAAAAACAlD8AAAAAAMCUPwAAAAAAAJU/AAAAAABAlT8AAAAAAICVPwAAAAAAwJU/AAAAAAAAlj8AAAAAAECWPwAAAAAAgJY/AAAAAADAlj8AAAAAAACXPwAAAAAAQJc/AAAAAACAlz8AAAAAAMCXPwAAAAAAAJg/AAAAAABAmD8AAAAAAICYPwAAAAAAwJg/AAAAAAAAmT8AAAAAAECZPwAAAAAAgJk/AAAAAADAmT8AAAAAAACaPwAAAAAAQJo/AAAAAACAmj8AAAAAAMCaPwAAAAAAAJs/AAAAAABAmz8AAAAAAICbPwAAAAAAwJs/AAAAAAAAnD8AAAAAAECcPwAAAAAAgJw/AAAAAADAnD8AAAAAAACdPwAAAAAAQJ0/AAAAAACAnT8AAAAAAMCdPwAAAAAAAJ4/AAAAAABAnj8AAAAAAICePwAAAAAAwJ4/AAAAAAAAnz8AAAAAAECfPwAAAAAAgJ8/AAAAAADAnz8AAAAAAACgPwAAAAAAIKA/AAAAAABAoD8AAAAAAGCgPwAAAAAAgKA/AAAAAACgoD8AAAAAAMCgPwAAAAAA4KA/AAAAAAAAoT8AAAAAACChPwAAAAAAQKE/AAAAAABgoT8AAAAAAIChPwAAAAAAoKE/AAAAAADAoT8AAAAAAOChPwAAAAAAAKI/AAAAAAAgoj8AAAAAAECiPwAAAAAAYKI/AAAAAACAoj8AAAAAAKCiPwAAAAAAwKI/AAAAAADgoj8AAAAAAACjPwAAAAAAIKM/AAAAAABAoz8AAAAAAGCjPwAAAAAAgKM/AAAAAACgoz8AAAAAAMCjPwAAAAAA4KM/AAAAAAAApD8AAAAAACCkPwAAAAAAQKQ/AAAAAABgpD8AAAAAAICkPwAAAAAAoKQ/AAAAAADApD8AAAAAAOCkPwAAAAAAAKU/AAAAAAAgpT8AAAAAAEClPwAAAAAAYKU/AAAAAACApT8AAAAAAKClPwAAAAAAwKU/AAAAAADgpT8AAAAAAACmPwAAAAAAIKY/AAAAAABApj8AAAAAAGCmPwAAAAAAgKY/AAAAAACgpj8AAAAAAMCmPwAAAAAA4KY/AAAAAAAApz8AAAAAACCnPwAAAAAAQKc/AAAAAABgpz8AAAAAAICnPwAAAAAAoKc/AAAAAADApz8AAAAAAOCnPwAAAAAAAKg/AAAAAAAgqD8AAAAAAECoPwAAAAAAYKg/AAAAAACAqD8AAAAAAKCoPwAAAAAAwKg/AAAAAADgqD8AAAAAAACpPwAAAAAAIKk/AAAAAABAqT8AAAAAAGCpPwAAAAAAgKk/AAAAAACgqT8AAAAAAMCpPwAAAAAA4Kk/AAAAAAAAqj8AAAAAACCqPw==\",\"dtype\":\"float64\",\"order\":\"little\",\"shape\":[206]},\"right\":{\"__ndarray__\":\"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\",\"dtype\":\"float64\",\"order\":\"little\",\"shape\":[206]},\"top\":[758,665,611,448,248,173,145,140,116,116,41,44,85,39,39,96,59,20,13,18,41,11,27,63,54,29,22,0,2,21,16,14,11,1,3,25,37,10,15,17,7,13,9,0,0,21,2,12,2,0,0,0,0,0,7,0,6,3,1,8,17,5,4,10,7,4,5,5,8,2,0,0,0,0,0,0,0,0,0,0,0,0,0,0,0,0,0,0,7,2,7,0,0,0,0,0,0,0,0,0,0,2,3,0,0,0,3,0,0,0,0,0,0,0,0,0,0,0,0,0,0,0,0,0,0,0,0,0,0,0,0,0,0,0,0,0,0,0,0,0,0,0,0,0,0,0,0,0,0,0,0,0,0,0,0,0,0,0,0,0,0,0,0,3,6,2,7,0,0,0,0,0,0,0,0,0,0,0,0,0,0,0,0,0,0,0,0,0,0,0,0,0,0,2,2,1,0,0,0,0,0,0,0,6,8,1]},\"selected\":{\"id\":\"1387\"},\"selection_policy\":{\"id\":\"1388\"}},\"id\":\"1197\",\"type\":\"ColumnDataSource\"},{\"attributes\":{},\"id\":\"1086\",\"type\":\"LogScale\"},{\"attributes\":{\"formatter\":{\"id\":\"1360\"},\"ticker\":{\"id\":\"1114\"}},\"id\":\"1113\",\"type\":\"LinearAxis\"},{\"attributes\":{\"active_drag\":\"auto\",\"active_inspect\":\"auto\",\"active_multi\":null,\"active_scroll\":\"auto\",\"active_tap\":\"auto\"},\"id\":\"1246\",\"type\":\"Toolbar\"},{\"attributes\":{\"formatter\":{\"id\":\"1378\"},\"ticker\":{\"id\":\"1168\"}},\"id\":\"1167\",\"type\":\"LogAxis\"},{\"attributes\":{},\"id\":\"1236\",\"type\":\"LogScale\"},{\"attributes\":{\"axis\":{\"id\":\"1167\"},\"dimension\":1,\"ticker\":null},\"id\":\"1170\",\"type\":\"Grid\"},{\"attributes\":{},\"id\":\"1387\",\"type\":\"Selection\"},{\"attributes\":{},\"id\":\"1034\",\"type\":\"LinearScale\"},{\"attributes\":{\"num_minor_ticks\":10},\"id\":\"1118\",\"type\":\"LogTicker\"},{\"attributes\":{},\"id\":\"1388\",\"type\":\"UnionRenderers\"},{\"attributes\":{\"data\":{\"left\":{\"__ndarray__\":\"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\",\"dtype\":\"float64\",\"order\":\"little\",\"shape\":[219]},\"right\":{\"__ndarray__\":\"AAAAAAAAYD8AAAAAAABoPwAAAAAAAHA/AAAAAAAAdD8AAAAAAAB4PwAAAAAAAHw/AAAAAAAAgD8AAAAAAACCPwAAAAAAAIQ/AAAAAAAAhj8AAAAAAACIPwAAAAAAAIo/AAAAAAAAjD8AAAAAAACOPwAAAAAAAJA/AAAAAAAAkT8AAAAAAACSPwAAAAAAAJM/AAAAAAAAlD8AAAAAAACVPwAAAAAAAJY/AAAAAAAAlz8AAAAAAACYPwAAAAAAAJk/AAAAAAAAmj8AAAAAAACbPwAAAAAAAJw/AAAAAAAAnT8AAAAAAACePwAAAAAAAJ8/AAAAAAAAoD8AAAAAAICgPwAAAAAAAKE/AAAAAACAoT8AAAAAAACiPwAAAAAAgKI/AAAAAAAAoz8AAAAAAICjPwAAAAAAAKQ/AAAAAACApD8AAAAAAAClPwAAAAAAgKU/AAAAAAAApj8AAAAAAICmPwAAAAAAAKc/AAAAAACApz8AAAAAAACoPwAAAAAAgKg/AAAAAAAAqT8AAAAAAICpPwAAAAAAAKo/AAAAAACAqj8AAAAAAACrPwAAAAAAgKs/AAAAAAAArD8AAAAAAICsPwAAAAAAAK0/AAAAAACArT8AAAAAAACuPwAAAAAAgK4/AAAAAAAArz8AAAAAAICvPwAAAAAAALA/AAAAAABAsD8AAAAAAICwPwAAAAAAwLA/AAAAAAAAsT8AAAAAAECxPwAAAAAAgLE/AAAAAADAsT8AAAAAAACyPwAAAAAAQLI/AAAAAACAsj8AAAAAAMCyPwAAAAAAALM/AAAAAABAsz8AAAAAAICzPwAAAAAAwLM/AAAAAAAAtD8AAAAAAEC0PwAAAAAAgLQ/AAAAAADAtD8AAAAAAAC1PwAAAAAAQLU/AAAAAACAtT8AAAAAAMC1PwAAAAAAALY/AAAAAABAtj8AAAAAAIC2PwAAAAAAwLY/AAAAAAAAtz8AAAAAAEC3PwAAAAAAgLc/AAAAAADAtz8AAAAAAAC4PwAAAAAAQLg/AAAAAACAuD8AAAAAAMC4PwAAAAAAALk/AAAAAABAuT8AAAAAAIC5PwAAAAAAwLk/AAAAAAAAuj8AAAAAAEC6PwAAAAAAgLo/AAAAAADAuj8AAAAAAAC7PwAAAAAAQLs/AAAAAACAuz8AAAAAAMC7PwAAAAAAALw/AAAAAABAvD8AAAAAAIC8PwAAAAAAwLw/AAAAAAAAvT8AAAAAAEC9PwAAAAAAgL0/AAAAAADAvT8AAAAAAAC+PwAAAAAAQL4/AAAAAACAvj8AAAAAAMC+PwAAAAAAAL8/AAAAAABAvz8AAAAAAIC/PwAAAAAAwL8/AAAAAAAAwD8AAAAAACDAPwAAAAAAQMA/AAAAAABgwD8AAAAAAIDAPwAAAAAAoMA/AAAAAADAwD8AAAAAAODAPwAAAAAAAME/AAAAAAAgwT8AAAAAAEDBPwAAAAAAYME/AAAAAACAwT8AAAAAAKDBPwAAAAAAwME/AAAAAADgwT8AAAAAAADCPwAAAAAAIMI/AAAAAABAwj8AAAAAAGDCPwAAAAAAgMI/AAAAAACgwj8AAAAAAMDCPwAAAAAA4MI/AAAAAAAAwz8AAAAAACDDPwAAAAAAQMM/AAAAAABgwz8AAAAAAIDDPwAAAAAAoMM/AAAAAADAwz8AAAAAAODDPwAAAAAAAMQ/AAAAAAAgxD8AAAAAAEDEPwAAAAAAYMQ/AAAAAACAxD8AAAAAAKDEPwAAAAAAwMQ/AAAAAADgxD8AAAAAAADFPwAAAAAAIMU/AAAAAABAxT8AAAAAAGDFPwAAAAAAgMU/AAAAAACgxT8AAAAAAMDFPwAAAAAA4MU/AAAAAAAAxj8AAAAAACDGPwAAAAAAQMY/AAAAAABgxj8AAAAAAIDGPwAAAAAAoMY/AAAAAADAxj8AAAAAAODGPwAAAAAAAMc/AAAAAAAgxz8AAAAAAEDHPwAAAAAAYMc/AAAAAACAxz8AAAAAAKDHPwAAAAAAwMc/AAAAAADgxz8AAAAAAADIPwAAAAAAIMg/AAAAAABAyD8AAAAAAGDIPwAAAAAAgMg/AAAAAACgyD8AAAAAAMDIPwAAAAAA4Mg/AAAAAAAAyT8AAAAAACDJPwAAAAAAQMk/AAAAAABgyT8AAAAAAIDJPwAAAAAAoMk/AAAAAADAyT8AAAAAAODJPwAAAAAAAMo/AAAAAAAgyj8AAAAAAEDKPwAAAAAAYMo/AAAAAACAyj8AAAAAAKDKPwAAAAAAwMo/AAAAAADgyj8AAAAAAADLPwAAAAAAIMs/AAAAAABAyz8AAAAAAGDLPwAAAAAAgMs/\",\"dtype\":\"float64\",\"order\":\"little\",\"shape\":[219]},\"top\":[8696,3758,2366,1754,1262,768,584,559,440,408,441,608,456,398,174,248,200,189,123,157,94,80,90,61,45,47,75,57,60,46,47,37,42,29,40,33,17,31,23,2,21,37,25,33,11,9,15,8,6,10,17,29,16,17,0,5,4,7,12,18,7,0,3,19,8,8,21,12,4,14,17,20,17,25,12,0,0,0,1,7,12,2,0,0,0,3,0,4,5,6,1,6,4,5,0,0,0,0,0,0,6,5,5,0,0,0,0,0,0,0,0,0,0,0,0,4,3,0,0,3,6,0,0,0,3,1,3,9,1,0,0,0,0,0,0,0,0,0,0,0,0,0,0,0,0,0,0,0,0,0,0,0,0,0,0,0,0,0,0,0,0,0,0,0,0,0,9,2,4,3,0,0,0,0,0,0,0,0,0,0,0,0,0,0,0,0,0,0,0,0,0,0,0,0,0,0,3,2,0,0,0,0,0,0,0,0,10,4,1,1,4,0,0,0,0,0,0,0,3]},\"selected\":{\"id\":\"1355\"},\"selection_policy\":{\"id\":\"1356\"}},\"id\":\"1097\",\"type\":\"ColumnDataSource\"},{\"attributes\":{\"data\":{\"left\":{\"__ndarray__\":\"AAAAAAAAUD8AAAAAAABUPwAAAAAAAFg/AAAAAAAAXD8AAAAAAABgPwAAAAAAAGI/AAAAAAAAZD8AAAAAAABmPwAAAAAAAGg/AAAAAAAAaj8AAAAAAABsPwAAAAAAAG4/AAAAAAAAcD8AAAAAAABxPwAAAAAAAHI/AAAAAAAAcz8AAAAAAAB0PwAAAAAAAHU/AAAAAAAAdj8AAAAAAAB3PwAAAAAAAHg/AAAAAAAAeT8AAAAAAAB6PwAAAAAAAHs/AAAAAAAAfD8AAAAAAAB9PwAAAAAAAH4/AAAAAAAAfz8AAAAAAACAPwAAAAAAgIA/AAAAAAAAgT8AAAAAAICBPwAAAAAAAII/AAAAAACAgj8AAAAAAACDPwAAAAAAgIM/AAAAAAAAhD8AAAAAAICEPwAAAAAAAIU/AAAAAACAhT8AAAAAAACGPwAAAAAAgIY/AAAAAAAAhz8AAAAAAICHPwAAAAAAAIg/AAAAAACAiD8AAAAAAACJPwAAAAAAgIk/AAAAAAAAij8AAAAAAICKPwAAAAAAAIs/AAAAAACAiz8AAAAAAACMPwAAAAAAgIw/AAAAAAAAjT8AAAAAAICNPwAAAAAAAI4/AAAAAACAjj8AAAAAAACPPwAAAAAAgI8/AAAAAAAAkD8AAAAAAECQPwAAAAAAgJA/AAAAAADAkD8AAAAAAACRPwAAAAAAQJE/AAAAAACAkT8AAAAAAMCRPwAAAAAAAJI/AAAAAABAkj8AAAAAAICSPwAAAAAAwJI/AAAAAAAAkz8AAAAAAECTPwAAAAAAgJM/AAAAAADAkz8AAAAAAACUPwAAAAAAQJQ/AAAAAACAlD8AAAAAAMCUPwAAAAAAAJU/AAAAAABAlT8AAAAAAICVPwAAAAAAwJU/AAAAAAAAlj8AAAAAAECWPwAAAAAAgJY/AAAAAADAlj8AAAAAAACXPwAAAAAAQJc/AAAAAACAlz8AAAAAAMCXPwAAAAAAAJg/AAAAAABAmD8AAAAAAICYPwAAAAAAwJg/AAAAAAAAmT8AAAAAAECZPwAAAAAAgJk/AAAAAADAmT8AAAAAAACaPwAAAAAAQJo/AAAAAACAmj8AAAAAAMCaPwAAAAAAAJs/AAAAAABAmz8AAAAAAICbPwAAAAAAwJs/AAAAAAAAnD8AAAAAAECcPwAAAAAAgJw/AAAAAADAnD8AAAAAAACdPwAAAAAAQJ0/AAAAAACAnT8AAAAAAMCdPwAAAAAAAJ4/AAAAAABAnj8AAAAAAICePwAAAAAAwJ4/AAAAAAAAnz8AAAAAAECfPwAAAAAAgJ8/AAAAAADAnz8AAAAAAACgPwAAAAAAIKA/AAAAAABAoD8AAAAAAGCgPwAAAAAAgKA/AAAAAACgoD8AAAAAAMCgPwAAAAAA4KA/AAAAAAAAoT8AAAAAACChPwAAAAAAQKE/AAAAAABgoT8AAAAAAIChPwAAAAAAoKE/AAAAAADAoT8AAAAAAOChPwAAAAAAAKI/AAAAAAAgoj8AAAAAAECiPwAAAAAAYKI/AAAAAACAoj8AAAAAAKCiPwAAAAAAwKI/AAAAAADgoj8AAAAAAACjPwAAAAAAIKM/AAAAAABAoz8AAAAAAGCjPwAAAAAAgKM/AAAAAACgoz8AAAAAAMCjPwAAAAAA4KM/AAAAAAAApD8AAAAAACCkPwAAAAAAQKQ/AAAAAABgpD8AAAAAAICkPwAAAAAAoKQ/AAAAAADApD8AAAAAAOCkPwAAAAAAAKU/AAAAAAAgpT8AAAAAAEClPwAAAAAAYKU/AAAAAACApT8AAAAAAKClPwAAAAAAwKU/AAAAAADgpT8AAAAAAACmPwAAAAAAIKY/AAAAAABApj8AAAAAAGCmPwAAAAAAgKY/AAAAAACgpj8AAAAAAMCmPwAAAAAA4KY/AAAAAAAApz8AAAAAACCnPwAAAAAAQKc/AAAAAABgpz8AAAAAAICnPwAAAAAAoKc/AAAAAADApz8AAAAAAOCnPwAAAAAAAKg/AAAAAAAgqD8AAAAAAECoPwAAAAAAYKg/AAAAAACAqD8AAAAAAKCoPw==\",\"dtype\":\"float64\",\"order\":\"little\",\"shape\":[194]},\"right\":{\"__ndarray__\":\"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\",\"dtype\":\"float64\",\"order\":\"little\",\"shape\":[194]},\"top\":[1025,551,656,545,395,277,241,110,135,103,135,92,83,60,55,124,36,74,49,18,20,29,20,40,11,16,16,47,19,6,32,24,8,12,7,4,2,16,18,3,2,11,6,0,0,21,25,6,8,0,0,6,15,0,21,3,9,16,15,13,11,14,5,8,7,0,0,2,0,0,0,0,0,0,0,0,2,5,0,2,0,0,3,5,4,4,0,0,0,0,0,0,0,0,0,0,0,0,0,0,0,0,0,0,0,0,0,0,0,0,0,0,0,0,0,0,0,0,0,0,0,0,0,0,0,0,0,0,0,0,0,0,0,0,0,0,0,0,0,0,0,0,5,0,0,0,0,0,3,0,0,0,0,3,6,3,6,0,0,0,0,0,0,0,0,0,0,0,0,0,0,0,0,0,0,0,0,0,0,0,0,0,3,2,0,0,0,0,0,0,0,9,5,1]},\"selected\":{\"id\":\"1395\"},\"selection_policy\":{\"id\":\"1396\"}},\"id\":\"1222\",\"type\":\"ColumnDataSource\"},{\"attributes\":{},\"id\":\"1234\",\"type\":\"LinearScale\"},{\"attributes\":{\"formatter\":{\"id\":\"1322\"},\"ticker\":{\"id\":\"1293\"}},\"id\":\"1292\",\"type\":\"LogAxis\"},{\"attributes\":{\"bottom\":{\"value\":1},\"fill_color\":{\"value\":\"navy\"},\"left\":{\"field\":\"left\"},\"line_color\":{\"value\":\"navy\"},\"right\":{\"field\":\"right\"},\"top\":{\"field\":\"top\"}},\"id\":\"1198\",\"type\":\"Quad\"},{\"attributes\":{\"formatter\":{\"id\":\"1314\"},\"ticker\":{\"id\":\"1268\"}},\"id\":\"1267\",\"type\":\"LogAxis\"},{\"attributes\":{\"data\":{\"left\":{\"__ndarray__\":\"AAAAAAAAAAAAAAAAAABgPwAAAAAAAHA/AAAAAAAAeD8AAAAAAACAPwAAAAAAAIQ/AAAAAAAAiD8AAAAAAACMPwAAAAAAAJA/AAAAAAAAkj8AAAAAAACUPwAAAAAAAJY/AAAAAAAAmD8AAAAAAACaPwAAAAAAAJw/AAAAAAAAnj8AAAAAAACgPwAAAAAAAKE/AAAAAAAAoj8AAAAAAACjPwAAAAAAAKQ/AAAAAAAApT8AAAAAAACmPwAAAAAAAKc/AAAAAAAAqD8AAAAAAACpPwAAAAAAAKo/AAAAAAAAqz8AAAAAAACsPwAAAAAAAK0/AAAAAAAArj8AAAAAAACvPwAAAAAAALA/AAAAAACAsD8AAAAAAACxPwAAAAAAgLE/AAAAAAAAsj8AAAAAAICyPwAAAAAAALM/AAAAAACAsz8AAAAAAAC0PwAAAAAAgLQ/AAAAAAAAtT8AAAAAAIC1PwAAAAAAALY/AAAAAACAtj8AAAAAAAC3PwAAAAAAgLc/AAAAAAAAuD8AAAAAAIC4PwAAAAAAALk/AAAAAACAuT8AAAAAAAC6PwAAAAAAgLo/AAAAAAAAuz8AAAAAAIC7PwAAAAAAALw/AAAAAACAvD8AAAAAAAC9PwAAAAAAgL0/AAAAAAAAvj8AAAAAAIC+PwAAAAAAAL8/AAAAAACAvz8AAAAAAADAPwAAAAAAQMA/AAAAAACAwD8AAAAAAMDAPwAAAAAAAME/AAAAAABAwT8AAAAAAIDBPwAAAAAAwME/AAAAAAAAwj8AAAAAAEDCPwAAAAAAgMI/AAAAAADAwj8AAAAAAADDPwAAAAAAQMM/AAAAAACAwz8AAAAAAMDDPwAAAAAAAMQ/AAAAAABAxD8AAAAAAIDEPwAAAAAAwMQ/AAAAAAAAxT8AAAAAAEDFPwAAAAAAgMU/AAAAAADAxT8AAAAAAADGPwAAAAAAQMY/AAAAAACAxj8AAAAAAMDGPwAAAAAAAMc/AAAAAABAxz8AAAAAAIDHPwAAAAAAwMc/AAAAAAAAyD8AAAAAAEDIPwAAAAAAgMg/AAAAAADAyD8AAAAAAADJPwAAAAAAQMk/AAAAAACAyT8AAAAAAMDJPwAAAAAAAMo/AAAAAABAyj8AAAAAAIDKPwAAAAAAwMo/AAAAAAAAyz8AAAAAAEDLPwAAAAAAgMs/AAAAAADAyz8AAAAAAADMPwAAAAAAQMw/AAAAAACAzD8AAAAAAMDMPwAAAAAAAM0/AAAAAABAzT8AAAAAAIDNPwAAAAAAwM0/AAAAAAAAzj8AAAAAAEDOPwAAAAAAgM4/AAAAAADAzj8AAAAAAADPPwAAAAAAQM8/AAAAAACAzz8AAAAAAMDPPwAAAAAAANA/AAAAAAAg0D8AAAAAAEDQPwAAAAAAYNA/AAAAAACA0D8AAAAAAKDQPwAAAAAAwNA/AAAAAADg0D8AAAAAAADRPwAAAAAAINE/AAAAAABA0T8AAAAAAGDRPwAAAAAAgNE/AAAAAACg0T8AAAAAAMDRPwAAAAAA4NE/AAAAAAAA0j8AAAAAACDSPwAAAAAAQNI/AAAAAABg0j8AAAAAAIDSPwAAAAAAoNI/AAAAAADA0j8AAAAAAODSPwAAAAAAANM/AAAAAAAg0z8AAAAAAEDTPwAAAAAAYNM/AAAAAACA0z8AAAAAAKDTPwAAAAAAwNM/AAAAAADg0z8AAAAAAADUPwAAAAAAINQ/AAAAAABA1D8AAAAAAGDUPwAAAAAAgNQ/AAAAAACg1D8=\",\"dtype\":\"float64\",\"order\":\"little\",\"shape\":[166]},\"right\":{\"__ndarray__\":\"AAAAAAAAYD8AAAAAAABwPwAAAAAAAHg/AAAAAAAAgD8AAAAAAACEPwAAAAAAAIg/AAAAAAAAjD8AAAAAAACQPwAAAAAAAJI/AAAAAAAAlD8AAAAAAACWPwAAAAAAAJg/AAAAAAAAmj8AAAAAAACcPwAAAAAAAJ4/AAAAAAAAoD8AAAAAAAChPwAAAAAAAKI/AAAAAAAAoz8AAAAAAACkPwAAAAAAAKU/AAAAAAAApj8AAAAAAACnPwAAAAAAAKg/AAAAAAAAqT8AAAAAAACqPwAAAAAAAKs/AAAAAAAArD8AAAAAAACtPwAAAAAAAK4/AAAAAAAArz8AAAAAAACwPwAAAAAAgLA/AAAAAAAAsT8AAAAAAICxPwAAAAAAALI/AAAAAACAsj8AAAAAAACzPwAAAAAAgLM/AAAAAAAAtD8AAAAAAIC0PwAAAAAAALU/AAAAAACAtT8AAAAAAAC2PwAAAAAAgLY/AAAAAAAAtz8AAAAAAIC3PwAAAAAAALg/AAAAAACAuD8AAAAAAAC5PwAAAAAAgLk/AAAAAAAAuj8AAAAAAIC6PwAAAAAAALs/AAAAAACAuz8AAAAAAAC8PwAAAAAAgLw/AAAAAAAAvT8AAAAAAIC9PwAAAAAAAL4/AAAAAACAvj8AAAAAAAC/PwAAAAAAgL8/AAAAAAAAwD8AAAAAAEDAPwAAAAAAgMA/AAAAAADAwD8AAAAAAADBPwAAAAAAQME/AAAAAACAwT8AAAAAAMDBPwAAAAAAAMI/AAAAAABAwj8AAAAAAIDCPwAAAAAAwMI/AAAAAAAAwz8AAAAAAEDDPwAAAAAAgMM/AAAAAADAwz8AAAAAAADEPwAAAAAAQMQ/AAAAAACAxD8AAAAAAMDEPwAAAAAAAMU/AAAAAABAxT8AAAAAAIDFPwAAAAAAwMU/AAAAAAAAxj8AAAAAAEDGPwAAAAAAgMY/AAAAAADAxj8AAAAAAADHPwAAAAAAQMc/AAAAAACAxz8AAAAAAMDHPwAAAAAAAMg/AAAAAABAyD8AAAAAAIDIPwAAAAAAwMg/AAAAAAAAyT8AAAAAAEDJPwAAAAAAgMk/AAAAAADAyT8AAAAAAADKPwAAAAAAQMo/AAAAAACAyj8AAAAAAMDKPwAAAAAAAMs/AAAAAABAyz8AAAAAAIDLPwAAAAAAwMs/AAAAAAAAzD8AAAAAAEDMPwAAAAAAgMw/AAAAAADAzD8AAAAAAADNPwAAAAAAQM0/AAAAAACAzT8AAAAAAMDNPwAAAAAAAM4/AAAAAABAzj8AAAAAAIDOPwAAAAAAwM4/AAAAAAAAzz8AAAAAAEDPPwAAAAAAgM8/AAAAAADAzz8AAAAAAADQPwAAAAAAINA/AAAAAABA0D8AAAAAAGDQPwAAAAAAgNA/AAAAAACg0D8AAAAAAMDQPwAAAAAA4NA/AAAAAAAA0T8AAAAAACDRPwAAAAAAQNE/AAAAAABg0T8AAAAAAIDRPwAAAAAAoNE/AAAAAADA0T8AAAAAAODRPwAAAAAAANI/AAAAAAAg0j8AAAAAAEDSPwAAAAAAYNI/AAAAAACA0j8AAAAAAKDSPwAAAAAAwNI/AAAAAADg0j8AAAAAAADTPwAAAAAAINM/AAAAAABA0z8AAAAAAGDTPwAAAAAAgNM/AAAAAACg0z8AAAAAAMDTPwAAAAAA4NM/AAAAAAAA1D8AAAAAACDUPwAAAAAAQNQ/AAAAAABg1D8AAAAAAIDUPwAAAAAAoNQ/AAAAAADA1D8=\",\"dtype\":\"float64\",\"order\":\"little\",\"shape\":[166]},\"top\":[12318,9354,4303,2531,1889,1285,991,963,765,540,508,438,319,240,312,279,219,110,194,177,178,117,77,109,73,122,104,67,85,58,62,67,74,72,52,55,72,49,39,28,62,62,60,71,40,58,39,71,30,34,52,12,36,52,37,36,30,21,24,29,34,24,13,21,17,0,28,35,15,5,0,26,20,18,16,0,0,0,0,7,4,4,0,0,0,0,5,6,0,0,0,0,0,0,6,0,9,5,16,0,3,0,13,10,3,0,0,10,2,0,0,0,1,7,3,8,2,4,5,12,5,3,0,0,1,8,2,22,8,0,6,16,21,17,8,8,9,0,2,6,4,6,7,0,2,5,7,3,0,0,0,0,0,0,0,0,4,1,0,2,3,0,3,5,13,8]},\"selected\":{\"id\":\"1307\"},\"selection_policy\":{\"id\":\"1308\"}},\"id\":\"1247\",\"type\":\"ColumnDataSource\"},{\"attributes\":{},\"id\":\"1376\",\"type\":\"BasicTickFormatter\"},{\"attributes\":{},\"id\":\"1084\",\"type\":\"LinearScale\"},{\"attributes\":{\"axis\":{\"id\":\"1217\"},\"dimension\":1,\"ticker\":null},\"id\":\"1220\",\"type\":\"Grid\"},{\"attributes\":{\"formatter\":{\"id\":\"1370\"},\"ticker\":{\"id\":\"1143\"}},\"id\":\"1142\",\"type\":\"LogAxis\"},{\"attributes\":{\"axis\":{\"id\":\"1117\"},\"dimension\":1,\"ticker\":null},\"id\":\"1120\",\"type\":\"Grid\"},{\"attributes\":{\"axis\":{\"id\":\"1138\"},\"ticker\":null},\"id\":\"1141\",\"type\":\"Grid\"},{\"attributes\":{\"axis\":{\"id\":\"1088\"},\"ticker\":null},\"id\":\"1091\",\"type\":\"Grid\"},{\"attributes\":{},\"id\":\"1328\",\"type\":\"BasicTickFormatter\"},{\"attributes\":{\"text\":\"NEOM Potential Runoff (cms): Apr\"},\"id\":\"1080\",\"type\":\"Title\"},{\"attributes\":{},\"id\":\"1264\",\"type\":\"BasicTicker\"},{\"attributes\":{\"bottom\":{\"value\":1},\"fill_alpha\":{\"value\":0.1},\"fill_color\":{\"value\":\"navy\"},\"left\":{\"field\":\"left\"},\"line_alpha\":{\"value\":0.1},\"line_color\":{\"value\":\"navy\"},\"right\":{\"field\":\"right\"},\"top\":{\"field\":\"top\"}},\"id\":\"1299\",\"type\":\"Quad\"},{\"attributes\":{\"data\":{\"left\":{\"__ndarray__\":\"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\",\"dtype\":\"float64\",\"order\":\"little\",\"shape\":[214]},\"right\":{\"__ndarray__\":\"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\",\"dtype\":\"float64\",\"order\":\"little\",\"shape\":[214]},\"top\":[21683,6406,3002,1861,1499,1025,694,483,334,403,201,130,141,238,147,118,56,36,66,57,92,84,38,48,12,12,33,9,6,10,4,0,43,37,22,20,11,8,1,21,5,1,7,4,13,0,0,3,2,24,19,5,6,2,18,6,0,0,0,0,0,0,0,2,0,9,4,5,10,7,5,18,4,12,5,4,0,0,0,0,0,0,0,0,0,0,0,0,0,0,0,0,0,2,5,3,6,0,0,0,0,0,0,0,0,0,0,0,0,0,0,0,0,0,0,0,0,0,0,0,0,0,0,0,0,0,0,0,4,1,0,0,0,3,0,0,0,0,0,0,0,0,0,0,0,0,0,0,0,0,0,0,0,0,0,0,0,0,0,0,0,0,0,0,0,0,0,0,0,0,3,6,2,7,0,0,0,0,0,0,0,0,0,0,0,0,0,0,0,0,0,0,0,0,0,0,0,0,0,0,0,2,3,0,0,0,0,0,0,0,0,9,5,1]},\"selected\":{\"id\":\"1339\"},\"selection_policy\":{\"id\":\"1340\"}},\"id\":\"1047\",\"type\":\"ColumnDataSource\"},{\"attributes\":{},\"id\":\"1259\",\"type\":\"LinearScale\"},{\"attributes\":{},\"id\":\"1109\",\"type\":\"LinearScale\"},{\"attributes\":{\"formatter\":{\"id\":\"1338\"},\"ticker\":{\"id\":\"1043\"}},\"id\":\"1042\",\"type\":\"LogAxis\"},{\"attributes\":{},\"id\":\"1111\",\"type\":\"LogScale\"},{\"attributes\":{\"source\":{\"id\":\"1247\"}},\"id\":\"1251\",\"type\":\"CDSView\"},{\"attributes\":{\"axis\":{\"id\":\"1292\"},\"dimension\":1,\"ticker\":null},\"id\":\"1295\",\"type\":\"Grid\"},{\"attributes\":{\"bottom\":{\"value\":1},\"fill_alpha\":{\"value\":0.1},\"fill_color\":{\"value\":\"navy\"},\"left\":{\"field\":\"left\"},\"line_alpha\":{\"value\":0.1},\"line_color\":{\"value\":\"navy\"},\"right\":{\"field\":\"right\"},\"top\":{\"field\":\"top\"}},\"id\":\"1049\",\"type\":\"Quad\"},{\"attributes\":{\"bottom\":{\"value\":1},\"fill_alpha\":{\"value\":0.1},\"fill_color\":{\"value\":\"navy\"},\"left\":{\"field\":\"left\"},\"line_alpha\":{\"value\":0.1},\"line_color\":{\"value\":\"navy\"},\"right\":{\"field\":\"right\"},\"top\":{\"field\":\"top\"}},\"id\":\"1124\",\"type\":\"Quad\"},{\"attributes\":{\"data_source\":{\"id\":\"1172\"},\"glyph\":{\"id\":\"1173\"},\"hover_glyph\":null,\"muted_glyph\":null,\"nonselection_glyph\":{\"id\":\"1174\"},\"selection_glyph\":null,\"view\":{\"id\":\"1176\"}},\"id\":\"1175\",\"type\":\"GlyphRenderer\"},{\"attributes\":{},\"id\":\"1039\",\"type\":\"BasicTicker\"},{\"attributes\":{\"active_drag\":\"auto\",\"active_inspect\":\"auto\",\"active_multi\":null,\"active_scroll\":\"auto\",\"active_tap\":\"auto\"},\"id\":\"1121\",\"type\":\"Toolbar\"},{\"attributes\":{},\"id\":\"1036\",\"type\":\"LogScale\"},{\"attributes\":{\"end\":45000,\"start\":1},\"id\":\"1152\",\"type\":\"Range1d\"},{\"attributes\":{\"end\":2,\"start\":0.001},\"id\":\"1128\",\"type\":\"Range1d\"},{\"attributes\":{},\"id\":\"1089\",\"type\":\"BasicTicker\"},{\"attributes\":{\"data\":{\"left\":{\"__ndarray__\":\"AAAAAAAAUD8AAAAAAABRPwAAAAAAAFI/AAAAAAAAUz8AAAAAAABUPwAAAAAAAFU/AAAAAAAAVj8AAAAAAABXPwAAAAAAAFg/AAAAAAAAWT8AAAAAAABaPwAAAAAAAFs/AAAAAAAAXD8AAAAAAABdPwAAAAAAAF4/AAAAAAAAXz8AAAAAAABgPwAAAAAAgGA/AAAAAAAAYT8AAAAAAIBhPwAAAAAAAGI/AAAAAACAYj8AAAAAAABjPwAAAAAAgGM/AAAAAAAAZD8AAAAAAIBkPwAAAAAAAGU/AAAAAACAZT8AAAAAAABmPwAAAAAAgGY/AAAAAAAAZz8AAAAAAIBnPwAAAAAAAGg/AAAAAACAaD8AAAAAAABpPwAAAAAAgGk/AAAAAAAAaj8AAAAAAIBqPwAAAAAAAGs/AAAAAACAaz8AAAAAAABsPwAAAAAAgGw/AAAAAAAAbT8AAAAAAIBtPwAAAAAAAG4/AAAAAACAbj8AAAAAAABvPwAAAAAAgG8/AAAAAAAAcD8AAAAAAEBwPwAAAAAAgHA/AAAAAADAcD8AAAAAAABxPwAAAAAAQHE/AAAAAACAcT8AAAAAAMBxPwAAAAAAAHI/AAAAAABAcj8AAAAAAIByPwAAAAAAwHI/AAAAAAAAcz8AAAAAAEBzPwAAAAAAgHM/AAAAAADAcz8AAAAAAAB0PwAAAAAAQHQ/AAAAAACAdD8AAAAAAMB0PwAAAAAAAHU/AAAAAABAdT8AAAAAAIB1PwAAAAAAwHU/AAAAAAAAdj8AAAAAAEB2PwAAAAAAgHY/AAAAAADAdj8AAAAAAAB3PwAAAAAAQHc/AAAAAACAdz8AAAAAAMB3PwAAAAAAAHg/AAAAAABAeD8AAAAAAIB4PwAAAAAAwHg/AAAAAAAAeT8AAAAAAEB5PwAAAAAAgHk/AAAAAADAeT8AAAAAAAB6PwAAAAAAQHo/AAAAAACAej8AAAAAAMB6PwAAAAAAAHs/AAAAAABAez8AAAAAAIB7PwAAAAAAwHs/AAAAAAAAfD8AAAAAAEB8PwAAAAAAgHw/AAAAAADAfD8AAAAAAAB9PwAAAAAAQH0/AAAAAACAfT8AAAAAAMB9PwAAAAAAAH4/AAAAAABAfj8AAAAAAIB+PwAAAAAAwH4/AAAAAAAAfz8AAAAAAEB/PwAAAAAAgH8/AAAAAADAfz8AAAAAAACAPwAAAAAAIIA/AAAAAABAgD8AAAAAAGCAPwAAAAAAgIA/AAAAAACggD8AAAAAAMCAPwAAAAAA4IA/AAAAAAAAgT8AAAAAACCBPwAAAAAAQIE/AAAAAABggT8AAAAAAICBPwAAAAAAoIE/AAAAAADAgT8AAAAAAOCBPwAAAAAAAII/AAAAAAAggj8AAAAAAECCPwAAAAAAYII/AAAAAACAgj8AAAAAAKCCPwAAAAAAwII/AAAAAADggj8AAAAAAACDPw==\",\"dtype\":\"float64\",\"order\":\"little\",\"shape\":[137]},\"right\":{\"__ndarray__\":\"AAAAAAAAUT8AAAAAAABSPwAAAAAAAFM/AAAAAAAAVD8AAAAAAABVPwAAAAAAAFY/AAAAAAAAVz8AAAAAAABYPwAAAAAAAFk/AAAAAAAAWj8AAAAAAABbPwAAAAAAAFw/AAAAAAAAXT8AAAAAAABePwAAAAAAAF8/AAAAAAAAYD8AAAAAAIBgPwAAAAAAAGE/AAAAAACAYT8AAAAAAABiPwAAAAAAgGI/AAAAAAAAYz8AAAAAAIBjPwAAAAAAAGQ/AAAAAACAZD8AAAAAAABlPwAAAAAAgGU/AAAAAAAAZj8AAAAAAIBmPwAAAAAAAGc/AAAAAACAZz8AAAAAAABoPwAAAAAAgGg/AAAAAAAAaT8AAAAAAIBpPwAAAAAAAGo/AAAAAACAaj8AAAAAAABrPwAAAAAAgGs/AAAAAAAAbD8AAAAAAIBsPwAAAAAAAG0/AAAAAACAbT8AAAAAAABuPwAAAAAAgG4/AAAAAAAAbz8AAAAAAIBvPwAAAAAAAHA/AAAAAABAcD8AAAAAAIBwPwAAAAAAwHA/AAAAAAAAcT8AAAAAAEBxPwAAAAAAgHE/AAAAAADAcT8AAAAAAAByPwAAAAAAQHI/AAAAAACAcj8AAAAAAMByPwAAAAAAAHM/AAAAAABAcz8AAAAAAIBzPwAAAAAAwHM/AAAAAAAAdD8AAAAAAEB0PwAAAAAAgHQ/AAAAAADAdD8AAAAAAAB1PwAAAAAAQHU/AAAAAACAdT8AAAAAAMB1PwAAAAAAAHY/AAAAAABAdj8AAAAAAIB2PwAAAAAAwHY/AAAAAAAAdz8AAAAAAEB3PwAAAAAAgHc/AAAAAADAdz8AAAAAAAB4PwAAAAAAQHg/AAAAAACAeD8AAAAAAMB4PwAAAAAAAHk/AAAAAABAeT8AAAAAAIB5PwAAAAAAwHk/AAAAAAAAej8AAAAAAEB6PwAAAAAAgHo/AAAAAADAej8AAAAAAAB7PwAAAAAAQHs/AAAAAACAez8AAAAAAMB7PwAAAAAAAHw/AAAAAABAfD8AAAAAAIB8PwAAAAAAwHw/AAAAAAAAfT8AAAAAAEB9PwAAAAAAgH0/AAAAAADAfT8AAAAAAAB+PwAAAAAAQH4/AAAAAACAfj8AAAAAAMB+PwAAAAAAAH8/AAAAAABAfz8AAAAAAIB/PwAAAAAAwH8/AAAAAAAAgD8AAAAAACCAPwAAAAAAQIA/AAAAAABggD8AAAAAAICAPwAAAAAAoIA/AAAAAADAgD8AAAAAAOCAPwAAAAAAAIE/AAAAAAAggT8AAAAAAECBPwAAAAAAYIE/AAAAAACAgT8AAAAAAKCBPwAAAAAAwIE/AAAAAADggT8AAAAAAACCPwAAAAAAIII/AAAAAABAgj8AAAAAAGCCPwAAAAAAgII/AAAAAACggj8AAAAAAMCCPwAAAAAA4II/AAAAAAAAgz8AAAAAACCDPw==\",\"dtype\":\"float64\",\"order\":\"little\",\"shape\":[137]},\"top\":[55,79,38,11,11,31,23,39,98,57,23,19,26,29,5,5,15,9,0,8,4,38,28,31,0,3,4,11,0,0,9,4,6,18,6,5,12,3,20,13,20,0,2,0,0,20,7,8,0,0,0,7,6,3,0,0,0,0,7,0,0,3,4,10,0,0,0,0,0,0,0,0,0,0,0,0,0,0,0,0,0,0,0,0,0,5,0,0,0,3,0,0,0,0,0,0,0,0,0,0,0,0,0,0,0,0,9,3,6,0,0,0,0,0,0,0,0,0,0,0,0,0,0,0,0,0,0,0,4,1,0,0,0,0,0,10,5]},\"selected\":{\"id\":\"1371\"},\"selection_policy\":{\"id\":\"1372\"}},\"id\":\"1147\",\"type\":\"ColumnDataSource\"},{\"attributes\":{},\"id\":\"1009\",\"type\":\"LinearScale\"},{\"attributes\":{\"ticker\":null},\"id\":\"1378\",\"type\":\"LogTickFormatter\"},{\"attributes\":{\"axis\":{\"id\":\"1042\"},\"dimension\":1,\"ticker\":null},\"id\":\"1045\",\"type\":\"Grid\"},{\"attributes\":{\"active_drag\":\"auto\",\"active_inspect\":\"auto\",\"active_multi\":null,\"active_scroll\":\"auto\",\"active_tap\":\"auto\"},\"id\":\"1296\",\"type\":\"Toolbar\"},{\"attributes\":{\"bottom\":{\"value\":1},\"fill_alpha\":{\"value\":0.1},\"fill_color\":{\"value\":\"navy\"},\"left\":{\"field\":\"left\"},\"line_alpha\":{\"value\":0.1},\"line_color\":{\"value\":\"navy\"},\"right\":{\"field\":\"right\"},\"top\":{\"field\":\"top\"}},\"id\":\"1099\",\"type\":\"Quad\"},{\"attributes\":{\"source\":{\"id\":\"1172\"}},\"id\":\"1176\",\"type\":\"CDSView\"},{\"attributes\":{\"data_source\":{\"id\":\"1247\"},\"glyph\":{\"id\":\"1248\"},\"hover_glyph\":null,\"muted_glyph\":null,\"nonselection_glyph\":{\"id\":\"1249\"},\"selection_glyph\":null,\"view\":{\"id\":\"1251\"}},\"id\":\"1250\",\"type\":\"GlyphRenderer\"},{\"attributes\":{\"num_minor_ticks\":10},\"id\":\"1043\",\"type\":\"LogTicker\"},{\"attributes\":{\"ticker\":null},\"id\":\"1330\",\"type\":\"LogTickFormatter\"},{\"attributes\":{\"bottom\":{\"value\":1},\"fill_color\":{\"value\":\"navy\"},\"left\":{\"field\":\"left\"},\"line_color\":{\"value\":\"navy\"},\"right\":{\"field\":\"right\"},\"top\":{\"field\":\"top\"}},\"id\":\"1148\",\"type\":\"Quad\"},{\"attributes\":{\"formatter\":{\"id\":\"1352\"},\"ticker\":{\"id\":\"1089\"}},\"id\":\"1088\",\"type\":\"LinearAxis\"},{\"attributes\":{},\"id\":\"1332\",\"type\":\"UnionRenderers\"},{\"attributes\":{},\"id\":\"1379\",\"type\":\"Selection\"},{\"attributes\":{\"text\":\"NEOM Potential Runoff (cms): Feb\"},\"id\":\"1030\",\"type\":\"Title\"},{\"attributes\":{\"bottom\":{\"value\":1},\"fill_color\":{\"value\":\"navy\"},\"left\":{\"field\":\"left\"},\"line_color\":{\"value\":\"navy\"},\"right\":{\"field\":\"right\"},\"top\":{\"field\":\"top\"}},\"id\":\"1123\",\"type\":\"Quad\"},{\"attributes\":{},\"id\":\"1380\",\"type\":\"UnionRenderers\"},{\"attributes\":{\"formatter\":{\"id\":\"1336\"},\"ticker\":{\"id\":\"1039\"}},\"id\":\"1038\",\"type\":\"LinearAxis\"},{\"attributes\":{\"formatter\":{\"id\":\"1392\"},\"ticker\":{\"id\":\"1214\"}},\"id\":\"1213\",\"type\":\"LinearAxis\"},{\"attributes\":{\"num_minor_ticks\":10},\"id\":\"1293\",\"type\":\"LogTicker\"},{\"attributes\":{\"axis\":{\"id\":\"1238\"},\"ticker\":null},\"id\":\"1241\",\"type\":\"Grid\"},{\"attributes\":{\"axis\":{\"id\":\"1267\"},\"dimension\":1,\"ticker\":null},\"id\":\"1270\",\"type\":\"Grid\"},{\"attributes\":{\"axis\":{\"id\":\"1038\"},\"ticker\":null},\"id\":\"1041\",\"type\":\"Grid\"},{\"attributes\":{\"text\":\"NEOM Potential Runoff (cms): Aug\"},\"id\":\"1180\",\"type\":\"Title\"},{\"attributes\":{\"formatter\":{\"id\":\"1354\"},\"ticker\":{\"id\":\"1093\"}},\"id\":\"1092\",\"type\":\"LogAxis\"},{\"attributes\":{\"axis\":{\"id\":\"1092\"},\"dimension\":1,\"ticker\":null},\"id\":\"1095\",\"type\":\"Grid\"},{\"attributes\":{\"formatter\":{\"id\":\"1376\"},\"ticker\":{\"id\":\"1164\"}},\"id\":\"1163\",\"type\":\"LinearAxis\"},{\"attributes\":{\"text\":\"NEOM Potential Runoff (cms): Jan\"},\"id\":\"1005\",\"type\":\"Title\"}],\"root_ids\":[\"1401\"]},\"title\":\"Bokeh Application\",\"version\":\"2.2.3\"}};\n",
       "  var render_items = [{\"docid\":\"98593c9b-6422-4139-8c39-9b92cd2e9183\",\"root_ids\":[\"1401\"],\"roots\":{\"1401\":\"424bc036-e17a-4b5b-b24a-e6a0f3bb3978\"}}];\n",
       "  root.Bokeh.embed.embed_items_notebook(docs_json, render_items);\n",
       "\n",
       "  }\n",
       "  if (root.Bokeh !== undefined) {\n",
       "    embed_document(root);\n",
       "  } else {\n",
       "    var attempts = 0;\n",
       "    var timer = setInterval(function(root) {\n",
       "      if (root.Bokeh !== undefined) {\n",
       "        clearInterval(timer);\n",
       "        embed_document(root);\n",
       "      } else {\n",
       "        attempts++;\n",
       "        if (attempts > 100) {\n",
       "          clearInterval(timer);\n",
       "          console.log(\"Bokeh: ERROR: Unable to run BokehJS code because BokehJS library is missing\");\n",
       "        }\n",
       "      }\n",
       "    }, 10, root)\n",
       "  }\n",
       "})(window);"
      ],
      "application/vnd.bokehjs_exec.v0+json": ""
     },
     "metadata": {
      "application/vnd.bokehjs_exec.v0+json": {
       "id": "1401"
      }
     },
     "output_type": "display_data"
    }
   ],
   "source": [
    "show(gridplot([plots[9:12], plots[0:3], plots[3:6], plots[6:9]], plot_width=250, plot_height=250))"
   ]
  },
  {
   "cell_type": "markdown",
   "metadata": {},
   "source": [
    "Reduce the annual cycle by taking the maximum of the potential runoff over the months (image collection)."
   ]
  },
  {
   "cell_type": "code",
   "execution_count": 9,
   "metadata": {},
   "outputs": [],
   "source": [
    "pot_runoff_min_cms = .1 ## setting this to the range we actually want\n",
    "pot_runoff_max_cms = 2\n",
    "\n",
    "pot_runoff_clim_max_cms = ee.Image(pot_runoff_clim.max())\n",
    "\n",
    "# Apply all the constraints\n",
    "pot_runoff_clim_max_cms_mask = (\n",
    "    pot_runoff_clim_max_cms.gte(pot_runoff_min_cms).And(\n",
    "        pot_runoff_cms.lte(pot_runoff_max_cms))\n",
    "    .updateMask(drain_area_mask)\n",
    "    .updateMask(slope_mask))\n",
    "\n",
    "pot_runoff_final_cms = pot_runoff_clim_max_cms.updateMask(pot_runoff_clim_max_cms_mask)\n",
    "\n",
    "pot_runoff_hist = ee.Dictionary(\n",
    "    pot_runoff_final_cms\n",
    "    .reduceRegion(\n",
    "        ee.Reducer.histogram(), scale=90).get('potential_sfc_runoff_mon_clim_cms'))\n",
    "\n",
    "hist = np.array(pot_runoff_hist.get('histogram').getInfo())\n",
    "edges = (\n",
    "    (np.array(list(range(len(hist) + 1))) * \n",
    "     np.array(pot_runoff_hist.get('bucketWidth').getInfo())) + \n",
    "    np.array(pot_runoff_hist.get('bucketMin').getInfo()) )\n",
    "\n",
    "p = figure(\n",
    "    title='NEOM Potential Runoff Climatological Max (cms): ', \n",
    "    y_axis_type=\"log\", \n",
    "    # x_axis_type=\"log\",\n",
    "    y_range=Range1d(1, 300),\n",
    "    x_range=Range1d(pot_runoff_min_cms, pot_runoff_max_cms),\n",
    "    background_fill_color=\"white\")\n",
    "_ = p.quad(\n",
    "    top=hist,\n",
    "    bottom=1,\n",
    "    left=edges[:-1],\n",
    "    right=edges[1:],\n",
    "    fill_color=\"navy\",\n",
    "    line_color=\"navy\",\n",
    "    alpha=1.)"
   ]
  },
  {
   "cell_type": "code",
   "execution_count": 10,
   "metadata": {},
   "outputs": [
    {
     "data": {
      "text/html": [
       "\n",
       "\n",
       "\n",
       "\n",
       "\n",
       "\n",
       "  <div class=\"bk-root\" id=\"b4636731-6b0d-4ede-9c2a-f9ba38fcef93\" data-root-id=\"1908\"></div>\n"
      ]
     },
     "metadata": {},
     "output_type": "display_data"
    },
    {
     "data": {
      "application/javascript": [
       "(function(root) {\n",
       "  function embed_document(root) {\n",
       "    \n",
       "  var docs_json = {\"cdf60cad-28c6-404b-b5e2-4a3967d2f8b8\":{\"roots\":{\"references\":[{\"attributes\":{\"background_fill_color\":\"white\",\"below\":[{\"id\":\"1917\"}],\"center\":[{\"id\":\"1920\"},{\"id\":\"1924\"}],\"left\":[{\"id\":\"1921\"}],\"renderers\":[{\"id\":\"1942\"}],\"title\":{\"id\":\"1909\"},\"toolbar\":{\"id\":\"1932\"},\"x_range\":{\"id\":\"1907\"},\"x_scale\":{\"id\":\"1913\"},\"y_range\":{\"id\":\"1906\"},\"y_scale\":{\"id\":\"1915\"}},\"id\":\"1908\",\"subtype\":\"Figure\",\"type\":\"Plot\"},{\"attributes\":{\"overlay\":{\"id\":\"1931\"}},\"id\":\"1927\",\"type\":\"BoxZoomTool\"},{\"attributes\":{\"axis\":{\"id\":\"1921\"},\"dimension\":1,\"ticker\":null},\"id\":\"1924\",\"type\":\"Grid\"},{\"attributes\":{},\"id\":\"1913\",\"type\":\"LinearScale\"},{\"attributes\":{\"bottom\":{\"value\":1},\"fill_alpha\":{\"value\":0.1},\"fill_color\":{\"value\":\"navy\"},\"left\":{\"field\":\"left\"},\"line_alpha\":{\"value\":0.1},\"line_color\":{\"value\":\"navy\"},\"right\":{\"field\":\"right\"},\"top\":{\"field\":\"top\"}},\"id\":\"1941\",\"type\":\"Quad\"},{\"attributes\":{},\"id\":\"1929\",\"type\":\"ResetTool\"},{\"attributes\":{\"source\":{\"id\":\"1939\"}},\"id\":\"1943\",\"type\":\"CDSView\"},{\"attributes\":{\"end\":2,\"start\":0.1},\"id\":\"1907\",\"type\":\"Range1d\"},{\"attributes\":{},\"id\":\"2034\",\"type\":\"Selection\"},{\"attributes\":{},\"id\":\"2035\",\"type\":\"UnionRenderers\"},{\"attributes\":{},\"id\":\"1926\",\"type\":\"WheelZoomTool\"},{\"attributes\":{},\"id\":\"2030\",\"type\":\"BasicTickFormatter\"},{\"attributes\":{\"bottom_units\":\"screen\",\"fill_alpha\":0.5,\"fill_color\":\"lightgrey\",\"left_units\":\"screen\",\"level\":\"overlay\",\"line_alpha\":1.0,\"line_color\":\"black\",\"line_dash\":[4,4],\"line_width\":2,\"right_units\":\"screen\",\"top_units\":\"screen\"},\"id\":\"1931\",\"type\":\"BoxAnnotation\"},{\"attributes\":{\"text\":\"NEOM Potential Runoff Climatological Max (cms): \"},\"id\":\"1909\",\"type\":\"Title\"},{\"attributes\":{\"formatter\":{\"id\":\"2030\"},\"ticker\":{\"id\":\"1918\"}},\"id\":\"1917\",\"type\":\"LinearAxis\"},{\"attributes\":{\"ticker\":null},\"id\":\"2032\",\"type\":\"LogTickFormatter\"},{\"attributes\":{\"data\":{\"left\":{\"__ndarray__\":\"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\",\"dtype\":\"float64\",\"order\":\"little\",\"shape\":[221]},\"right\":{\"__ndarray__\":\"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\",\"dtype\":\"float64\",\"order\":\"little\",\"shape\":[221]},\"top\":[14,227,210,181,123,123,75,82,42,86,25,36,62,42,19,15,70,51,19,43,37,40,23,33,43,18,8,8,17,9,0,7,16,0,3,3,17,0,0,0,0,0,8,5,0,4,0,7,18,5,2,11,0,11,0,0,0,0,2,7,5,5,10,7,0,4,5,7,7,2,0,0,0,0,0,0,0,0,0,0,0,0,0,0,0,0,0,0,0,0,7,1,4,4,0,0,0,0,0,0,0,0,6,0,0,0,4,0,0,0,0,0,0,0,0,0,0,0,0,0,0,0,0,0,0,0,0,0,0,0,0,0,0,0,0,0,0,0,0,0,0,0,0,0,0,0,0,0,0,0,0,0,0,0,0,0,0,0,0,0,0,0,0,0,0,0,0,0,0,0,0,0,0,0,10,0,3,6,0,0,0,0,0,0,0,0,0,0,0,0,0,0,0,0,0,0,0,0,0,0,0,0,0,0,0,0,0,2,2,1,0,0,0,0,0,0,0,0,10,5,1]},\"selected\":{\"id\":\"2034\"},\"selection_policy\":{\"id\":\"2035\"}},\"id\":\"1939\",\"type\":\"ColumnDataSource\"},{\"attributes\":{\"bottom\":{\"value\":1},\"fill_color\":{\"value\":\"navy\"},\"left\":{\"field\":\"left\"},\"line_color\":{\"value\":\"navy\"},\"right\":{\"field\":\"right\"},\"top\":{\"field\":\"top\"}},\"id\":\"1940\",\"type\":\"Quad\"},{\"attributes\":{},\"id\":\"1918\",\"type\":\"BasicTicker\"},{\"attributes\":{\"num_minor_ticks\":10},\"id\":\"1922\",\"type\":\"LogTicker\"},{\"attributes\":{},\"id\":\"1930\",\"type\":\"HelpTool\"},{\"attributes\":{\"data_source\":{\"id\":\"1939\"},\"glyph\":{\"id\":\"1940\"},\"hover_glyph\":null,\"muted_glyph\":null,\"nonselection_glyph\":{\"id\":\"1941\"},\"selection_glyph\":null,\"view\":{\"id\":\"1943\"}},\"id\":\"1942\",\"type\":\"GlyphRenderer\"},{\"attributes\":{\"formatter\":{\"id\":\"2032\"},\"ticker\":{\"id\":\"1922\"}},\"id\":\"1921\",\"type\":\"LogAxis\"},{\"attributes\":{},\"id\":\"1928\",\"type\":\"SaveTool\"},{\"attributes\":{},\"id\":\"1925\",\"type\":\"PanTool\"},{\"attributes\":{\"end\":300,\"start\":1},\"id\":\"1906\",\"type\":\"Range1d\"},{\"attributes\":{},\"id\":\"1915\",\"type\":\"LogScale\"},{\"attributes\":{\"active_drag\":\"auto\",\"active_inspect\":\"auto\",\"active_multi\":null,\"active_scroll\":\"auto\",\"active_tap\":\"auto\",\"tools\":[{\"id\":\"1925\"},{\"id\":\"1926\"},{\"id\":\"1927\"},{\"id\":\"1928\"},{\"id\":\"1929\"},{\"id\":\"1930\"}]},\"id\":\"1932\",\"type\":\"Toolbar\"},{\"attributes\":{\"axis\":{\"id\":\"1917\"},\"ticker\":null},\"id\":\"1920\",\"type\":\"Grid\"}],\"root_ids\":[\"1908\"]},\"title\":\"Bokeh Application\",\"version\":\"2.2.3\"}};\n",
       "  var render_items = [{\"docid\":\"cdf60cad-28c6-404b-b5e2-4a3967d2f8b8\",\"root_ids\":[\"1908\"],\"roots\":{\"1908\":\"b4636731-6b0d-4ede-9c2a-f9ba38fcef93\"}}];\n",
       "  root.Bokeh.embed.embed_items_notebook(docs_json, render_items);\n",
       "\n",
       "  }\n",
       "  if (root.Bokeh !== undefined) {\n",
       "    embed_document(root);\n",
       "  } else {\n",
       "    var attempts = 0;\n",
       "    var timer = setInterval(function(root) {\n",
       "      if (root.Bokeh !== undefined) {\n",
       "        clearInterval(timer);\n",
       "        embed_document(root);\n",
       "      } else {\n",
       "        attempts++;\n",
       "        if (attempts > 100) {\n",
       "          clearInterval(timer);\n",
       "          console.log(\"Bokeh: ERROR: Unable to run BokehJS code because BokehJS library is missing\");\n",
       "        }\n",
       "      }\n",
       "    }, 10, root)\n",
       "  }\n",
       "})(window);"
      ],
      "application/vnd.bokehjs_exec.v0+json": ""
     },
     "metadata": {
      "application/vnd.bokehjs_exec.v0+json": {
       "id": "1908"
      }
     },
     "output_type": "display_data"
    }
   ],
   "source": [
    "show(p)"
   ]
  },
  {
   "cell_type": "code",
   "execution_count": 11,
   "metadata": {},
   "outputs": [],
   "source": [
    "pot_runoff_range = norm.img_col_range(ee.ImageCollection(pot_runoff_final_cms), area_of_interest=bbox)\n",
    "pot_runoff_scaled = pot_runoff_final_cms.subtract(pot_runoff_range[0]).divide(pot_runoff_range[1]-pot_runoff_range[0])\n",
    "vis_range_scale = norm.img_range(pot_runoff_scaled, area_of_interest=bbox)"
   ]
  },
  {
   "cell_type": "code",
   "execution_count": 12,
   "metadata": {},
   "outputs": [],
   "source": [
    "box_corners = common.bboxes()['neom'].toGeoJSON()['coordinates'][0]\n",
    "center_lon = mean([corner[0] for corner in box_corners])\n",
    "center_lat = mean([corner[1] for corner in box_corners])"
   ]
  },
  {
   "cell_type": "code",
   "execution_count": 13,
   "metadata": {},
   "outputs": [
    {
     "data": {
      "text/html": [
       "\n",
       "\n",
       "\n",
       "\n",
       "\n",
       "\n",
       "  <div class=\"bk-root\" id=\"5aea04c3-fc87-4fc5-9055-fe22f4e9ae8f\" data-root-id=\"2076\"></div>\n"
      ]
     },
     "metadata": {},
     "output_type": "display_data"
    },
    {
     "data": {
      "application/javascript": [
       "(function(root) {\n",
       "  function embed_document(root) {\n",
       "    \n",
       "  var docs_json = {\"fd530574-6b73-4aa1-a3a8-02f501e1a62f\":{\"roots\":{\"references\":[{\"attributes\":{\"below\":[{\"id\":\"2087\"}],\"center\":[{\"id\":\"2090\"},{\"id\":\"2094\"}],\"left\":[{\"id\":\"2091\"}],\"plot_height\":75,\"plot_width\":500,\"renderers\":[{\"id\":\"2112\"}],\"title\":{\"id\":\"2077\"},\"toolbar\":{\"id\":\"2102\"},\"x_range\":{\"id\":\"2079\"},\"x_scale\":{\"id\":\"2083\"},\"y_range\":{\"id\":\"2081\"},\"y_scale\":{\"id\":\"2085\"}},\"id\":\"2076\",\"subtype\":\"Figure\",\"type\":\"Plot\"},{\"attributes\":{\"axis\":{\"id\":\"2087\"},\"ticker\":null},\"id\":\"2090\",\"type\":\"Grid\"},{\"attributes\":{\"active_drag\":\"auto\",\"active_inspect\":\"auto\",\"active_multi\":null,\"active_scroll\":\"auto\",\"active_tap\":\"auto\",\"tools\":[{\"id\":\"2095\"},{\"id\":\"2096\"},{\"id\":\"2097\"},{\"id\":\"2098\"},{\"id\":\"2099\"},{\"id\":\"2100\"}]},\"id\":\"2102\",\"type\":\"Toolbar\"},{\"attributes\":{},\"id\":\"2079\",\"type\":\"DataRange1d\"},{\"attributes\":{},\"id\":\"2092\",\"type\":\"BasicTicker\"},{\"attributes\":{},\"id\":\"2213\",\"type\":\"UnionRenderers\"},{\"attributes\":{},\"id\":\"2085\",\"type\":\"LinearScale\"},{\"attributes\":{\"bottom\":{\"field\":\"bottom\"},\"fill_alpha\":{\"value\":0.1},\"fill_color\":{\"field\":\"fill_color\"},\"line_alpha\":{\"value\":0.1},\"line_color\":{\"field\":\"line_color\"},\"top\":{\"field\":\"top\"},\"width\":{\"value\":0.25},\"x\":{\"field\":\"x\"}},\"id\":\"2111\",\"type\":\"VBar\"},{\"attributes\":{},\"id\":\"2088\",\"type\":\"BasicTicker\"},{\"attributes\":{},\"id\":\"2095\",\"type\":\"PanTool\"},{\"attributes\":{},\"id\":\"2208\",\"type\":\"BasicTickFormatter\"},{\"attributes\":{\"formatter\":{\"id\":\"2208\"},\"ticker\":{\"id\":\"2088\"}},\"id\":\"2087\",\"type\":\"LinearAxis\"},{\"attributes\":{},\"id\":\"2210\",\"type\":\"BasicTickFormatter\"},{\"attributes\":{\"formatter\":{\"id\":\"2210\"},\"ticker\":{\"id\":\"2092\"}},\"id\":\"2091\",\"type\":\"LinearAxis\"},{\"attributes\":{},\"id\":\"2096\",\"type\":\"WheelZoomTool\"},{\"attributes\":{},\"id\":\"2099\",\"type\":\"ResetTool\"},{\"attributes\":{},\"id\":\"2083\",\"type\":\"LinearScale\"},{\"attributes\":{\"bottom\":{\"field\":\"bottom\"},\"fill_color\":{\"field\":\"fill_color\"},\"line_color\":{\"field\":\"line_color\"},\"top\":{\"field\":\"top\"},\"width\":{\"value\":0.25},\"x\":{\"field\":\"x\"}},\"id\":\"2110\",\"type\":\"VBar\"},{\"attributes\":{\"bottom_units\":\"screen\",\"fill_alpha\":0.5,\"fill_color\":\"lightgrey\",\"left_units\":\"screen\",\"level\":\"overlay\",\"line_alpha\":1.0,\"line_color\":\"black\",\"line_dash\":[4,4],\"line_width\":2,\"right_units\":\"screen\",\"top_units\":\"screen\"},\"id\":\"2101\",\"type\":\"BoxAnnotation\"},{\"attributes\":{},\"id\":\"2081\",\"type\":\"DataRange1d\"},{\"attributes\":{\"overlay\":{\"id\":\"2101\"}},\"id\":\"2097\",\"type\":\"BoxZoomTool\"},{\"attributes\":{\"data_source\":{\"id\":\"2109\"},\"glyph\":{\"id\":\"2110\"},\"hover_glyph\":null,\"muted_glyph\":null,\"nonselection_glyph\":{\"id\":\"2111\"},\"selection_glyph\":null,\"view\":{\"id\":\"2113\"}},\"id\":\"2112\",\"type\":\"GlyphRenderer\"},{\"attributes\":{\"data\":{\"bottom\":[1,1,1,1],\"fill_color\":[\"#1b9e77\",\"#d95f02\",\"#7570b3\",\"#e7298a\"],\"line_color\":[\"#1b9e77\",\"#d95f02\",\"#7570b3\",\"#e7298a\"],\"top\":[0,0,0,0],\"x\":[0.125,0.375,0.625,0.875]},\"selected\":{\"id\":\"2212\"},\"selection_policy\":{\"id\":\"2213\"}},\"id\":\"2109\",\"type\":\"ColumnDataSource\"},{\"attributes\":{\"text\":\"NEOM Potenital Runoff Score\"},\"id\":\"2077\",\"type\":\"Title\"},{\"attributes\":{\"axis\":{\"id\":\"2091\"},\"dimension\":1,\"ticker\":null},\"id\":\"2094\",\"type\":\"Grid\"},{\"attributes\":{},\"id\":\"2100\",\"type\":\"HelpTool\"},{\"attributes\":{\"source\":{\"id\":\"2109\"}},\"id\":\"2113\",\"type\":\"CDSView\"},{\"attributes\":{},\"id\":\"2212\",\"type\":\"Selection\"},{\"attributes\":{},\"id\":\"2098\",\"type\":\"SaveTool\"}],\"root_ids\":[\"2076\"]},\"title\":\"Bokeh Application\",\"version\":\"2.2.3\"}};\n",
       "  var render_items = [{\"docid\":\"fd530574-6b73-4aa1-a3a8-02f501e1a62f\",\"root_ids\":[\"2076\"],\"roots\":{\"2076\":\"5aea04c3-fc87-4fc5-9055-fe22f4e9ae8f\"}}];\n",
       "  root.Bokeh.embed.embed_items_notebook(docs_json, render_items);\n",
       "\n",
       "  }\n",
       "  if (root.Bokeh !== undefined) {\n",
       "    embed_document(root);\n",
       "  } else {\n",
       "    var attempts = 0;\n",
       "    var timer = setInterval(function(root) {\n",
       "      if (root.Bokeh !== undefined) {\n",
       "        clearInterval(timer);\n",
       "        embed_document(root);\n",
       "      } else {\n",
       "        attempts++;\n",
       "        if (attempts > 100) {\n",
       "          clearInterval(timer);\n",
       "          console.log(\"Bokeh: ERROR: Unable to run BokehJS code because BokehJS library is missing\");\n",
       "        }\n",
       "      }\n",
       "    }, 10, root)\n",
       "  }\n",
       "})(window);"
      ],
      "application/vnd.bokehjs_exec.v0+json": ""
     },
     "metadata": {
      "application/vnd.bokehjs_exec.v0+json": {
       "id": "2076"
      }
     },
     "output_type": "display_data"
    }
   ],
   "source": [
    "vis_range = vis_range_scale\n",
    "vis_image = pot_runoff_scaled\n",
    "palette_name = 'Dark2'\n",
    "palette_len = 4\n",
    "palette = vis.brewer[palette_name][palette_len][::]\n",
    "vis.legend(\n",
    "    palette=palette, minimum=vis_range[0], maximum=vis_range[1], title='NEOM Potenital Runoff Score')\n",
    "\n",
    "vis_params = {\n",
    "    'min': vis_range[0], 'max': vis_range[1], \n",
    "    'dimensions': 512,\n",
    "    'palette': palette}"
   ]
  },
  {
   "cell_type": "code",
   "execution_count": 14,
   "metadata": {},
   "outputs": [
    {
     "data": {
      "text/html": [
       "<div style=\"width:100%;\"><div style=\"position:relative;width:100%;height:0;padding-bottom:60%;\"><span style=\"color:#565656\">Make this Notebook Trusted to load map: File -> Trust Notebook</span><iframe src=\"about:blank\" style=\"position:absolute;width:100%;height:100%;left:0;top:0;border:none !important;\" data-html=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 onload=\"this.contentDocument.open();this.contentDocument.write(atob(this.getAttribute('data-html')));this.contentDocument.close();\" allowfullscreen webkitallowfullscreen mozallowfullscreen></iframe></div></div>"
      ],
      "text/plain": [
       "<folium.folium.Map at 0x7fa048a3bd00>"
      ]
     },
     "metadata": {},
     "output_type": "display_data"
    }
   ],
   "source": [
    "the_map = vis.folium_map(location=[center_lat, center_lon], zoom_start=8, height=700)\n",
    "the_map.add_ee_layer(pot_runoff_final_cms, vis_params, 'NEOM Potential Runoff Score')\n",
    "vis.folium_display(the_map)"
   ]
  },
  {
   "cell_type": "code",
   "execution_count": 15,
   "metadata": {},
   "outputs": [],
   "source": [
    "# display(vis.Image(url = vis_image.getThumbURL(vis_params)))"
   ]
  },
  {
   "cell_type": "markdown",
   "metadata": {},
   "source": [
    "## Calculate the MAR Score"
   ]
  },
  {
   "cell_type": "code",
   "execution_count": 16,
   "metadata": {},
   "outputs": [
    {
     "data": {
      "text/plain": [
       "[0, 1]"
      ]
     },
     "execution_count": 16,
     "metadata": {},
     "output_type": "execute_result"
    }
   ],
   "source": [
    "score = (\n",
    "    slope_inv_scaled.multiply(.333)\n",
    "    .add(pot_runoff_scaled.multiply(.666)))\n",
    "score = norm.img_scale(score, area_of_interest=bbox).rename('score')\n",
    "norm.img_range(score, area_of_interest=bbox)"
   ]
  },
  {
   "cell_type": "code",
   "execution_count": 17,
   "metadata": {},
   "outputs": [
    {
     "data": {
      "text/html": [
       "\n",
       "\n",
       "\n",
       "\n",
       "\n",
       "\n",
       "  <div class=\"bk-root\" id=\"73ac8390-2dc6-498c-9654-0c7ea116ac64\" data-root-id=\"2254\"></div>\n"
      ]
     },
     "metadata": {},
     "output_type": "display_data"
    },
    {
     "data": {
      "application/javascript": [
       "(function(root) {\n",
       "  function embed_document(root) {\n",
       "    \n",
       "  var docs_json = {\"8b54309c-eb41-4ef9-ac02-0c3ee483b055\":{\"roots\":{\"references\":[{\"attributes\":{\"background_fill_color\":\"white\",\"below\":[{\"id\":\"2265\"}],\"center\":[{\"id\":\"2268\"},{\"id\":\"2272\"}],\"left\":[{\"id\":\"2269\"}],\"plot_height\":300,\"renderers\":[{\"id\":\"2290\"}],\"title\":{\"id\":\"2255\"},\"toolbar\":{\"id\":\"2280\"},\"x_range\":{\"id\":\"2257\"},\"x_scale\":{\"id\":\"2261\"},\"y_range\":{\"id\":\"2259\"},\"y_scale\":{\"id\":\"2263\"}},\"id\":\"2254\",\"subtype\":\"Figure\",\"type\":\"Plot\"},{\"attributes\":{},\"id\":\"2274\",\"type\":\"WheelZoomTool\"},{\"attributes\":{\"formatter\":{\"id\":\"2396\"},\"ticker\":{\"id\":\"2270\"}},\"id\":\"2269\",\"type\":\"LinearAxis\"},{\"attributes\":{},\"id\":\"2276\",\"type\":\"SaveTool\"},{\"attributes\":{},\"id\":\"2273\",\"type\":\"PanTool\"},{\"attributes\":{},\"id\":\"2277\",\"type\":\"ResetTool\"},{\"attributes\":{\"source\":{\"id\":\"2287\"}},\"id\":\"2291\",\"type\":\"CDSView\"},{\"attributes\":{},\"id\":\"2259\",\"type\":\"DataRange1d\"},{\"attributes\":{\"overlay\":{\"id\":\"2279\"}},\"id\":\"2275\",\"type\":\"BoxZoomTool\"},{\"attributes\":{\"data\":{\"left\":{\"__ndarray__\":\"AAAAAAAAAAAAAAAAAACAPwAAAAAAAJA/AAAAAAAAmD8AAAAAAACgPwAAAAAAAKQ/AAAAAAAAqD8AAAAAAACsPwAAAAAAALA/AAAAAAAAsj8AAAAAAAC0PwAAAAAAALY/AAAAAAAAuD8AAAAAAAC6PwAAAAAAALw/AAAAAAAAvj8AAAAAAADAPwAAAAAAAME/AAAAAAAAwj8AAAAAAADDPwAAAAAAAMQ/AAAAAAAAxT8AAAAAAADGPwAAAAAAAMc/AAAAAAAAyD8AAAAAAADJPwAAAAAAAMo/AAAAAAAAyz8AAAAAAADMPwAAAAAAAM0/AAAAAAAAzj8AAAAAAADPPwAAAAAAANA/AAAAAACA0D8AAAAAAADRPwAAAAAAgNE/AAAAAAAA0j8AAAAAAIDSPwAAAAAAANM/AAAAAACA0z8AAAAAAADUPwAAAAAAgNQ/AAAAAAAA1T8AAAAAAIDVPwAAAAAAANY/AAAAAACA1j8AAAAAAADXPwAAAAAAgNc/AAAAAAAA2D8AAAAAAIDYPwAAAAAAANk/AAAAAACA2T8AAAAAAADaPwAAAAAAgNo/AAAAAAAA2z8AAAAAAIDbPwAAAAAAANw/AAAAAACA3D8AAAAAAADdPwAAAAAAgN0/AAAAAAAA3j8AAAAAAIDePwAAAAAAAN8/AAAAAACA3z8AAAAAAADgPwAAAAAAQOA/AAAAAACA4D8AAAAAAMDgPwAAAAAAAOE/AAAAAABA4T8AAAAAAIDhPwAAAAAAwOE/AAAAAAAA4j8AAAAAAEDiPwAAAAAAgOI/AAAAAADA4j8AAAAAAADjPwAAAAAAQOM/AAAAAACA4z8AAAAAAMDjPwAAAAAAAOQ/AAAAAABA5D8AAAAAAIDkPwAAAAAAwOQ/AAAAAAAA5T8AAAAAAEDlPwAAAAAAgOU/AAAAAADA5T8AAAAAAADmPwAAAAAAQOY/AAAAAACA5j8AAAAAAMDmPwAAAAAAAOc/AAAAAABA5z8AAAAAAIDnPwAAAAAAwOc/AAAAAAAA6D8AAAAAAEDoPwAAAAAAgOg/AAAAAADA6D8AAAAAAADpPwAAAAAAQOk/AAAAAACA6T8AAAAAAMDpPwAAAAAAAOo/AAAAAABA6j8AAAAAAIDqPwAAAAAAwOo/AAAAAAAA6z8AAAAAAEDrPwAAAAAAgOs/AAAAAADA6z8AAAAAAADsPwAAAAAAQOw/AAAAAACA7D8AAAAAAMDsPwAAAAAAAO0/AAAAAABA7T8AAAAAAIDtPwAAAAAAwO0/AAAAAAAA7j8AAAAAAEDuPwAAAAAAgO4/AAAAAADA7j8AAAAAAADvPwAAAAAAQO8/AAAAAACA7z8AAAAAAMDvPwAAAAAAAPA/\",\"dtype\":\"float64\",\"order\":\"little\",\"shape\":[129]},\"right\":{\"__ndarray__\":\"AAAAAAAAgD8AAAAAAACQPwAAAAAAAJg/AAAAAAAAoD8AAAAAAACkPwAAAAAAAKg/AAAAAAAArD8AAAAAAACwPwAAAAAAALI/AAAAAAAAtD8AAAAAAAC2PwAAAAAAALg/AAAAAAAAuj8AAAAAAAC8PwAAAAAAAL4/AAAAAAAAwD8AAAAAAADBPwAAAAAAAMI/AAAAAAAAwz8AAAAAAADEPwAAAAAAAMU/AAAAAAAAxj8AAAAAAADHPwAAAAAAAMg/AAAAAAAAyT8AAAAAAADKPwAAAAAAAMs/AAAAAAAAzD8AAAAAAADNPwAAAAAAAM4/AAAAAAAAzz8AAAAAAADQPwAAAAAAgNA/AAAAAAAA0T8AAAAAAIDRPwAAAAAAANI/AAAAAACA0j8AAAAAAADTPwAAAAAAgNM/AAAAAAAA1D8AAAAAAIDUPwAAAAAAANU/AAAAAACA1T8AAAAAAADWPwAAAAAAgNY/AAAAAAAA1z8AAAAAAIDXPwAAAAAAANg/AAAAAACA2D8AAAAAAADZPwAAAAAAgNk/AAAAAAAA2j8AAAAAAIDaPwAAAAAAANs/AAAAAACA2z8AAAAAAADcPwAAAAAAgNw/AAAAAAAA3T8AAAAAAIDdPwAAAAAAAN4/AAAAAACA3j8AAAAAAADfPwAAAAAAgN8/AAAAAAAA4D8AAAAAAEDgPwAAAAAAgOA/AAAAAADA4D8AAAAAAADhPwAAAAAAQOE/AAAAAACA4T8AAAAAAMDhPwAAAAAAAOI/AAAAAABA4j8AAAAAAIDiPwAAAAAAwOI/AAAAAAAA4z8AAAAAAEDjPwAAAAAAgOM/AAAAAADA4z8AAAAAAADkPwAAAAAAQOQ/AAAAAACA5D8AAAAAAMDkPwAAAAAAAOU/AAAAAABA5T8AAAAAAIDlPwAAAAAAwOU/AAAAAAAA5j8AAAAAAEDmPwAAAAAAgOY/AAAAAADA5j8AAAAAAADnPwAAAAAAQOc/AAAAAACA5z8AAAAAAMDnPwAAAAAAAOg/AAAAAABA6D8AAAAAAIDoPwAAAAAAwOg/AAAAAAAA6T8AAAAAAEDpPwAAAAAAgOk/AAAAAADA6T8AAAAAAADqPwAAAAAAQOo/AAAAAACA6j8AAAAAAMDqPwAAAAAAAOs/AAAAAABA6z8AAAAAAIDrPwAAAAAAwOs/AAAAAAAA7D8AAAAAAEDsPwAAAAAAgOw/AAAAAADA7D8AAAAAAADtPwAAAAAAQO0/AAAAAACA7T8AAAAAAMDtPwAAAAAAAO4/AAAAAABA7j8AAAAAAIDuPwAAAAAAwO4/AAAAAAAA7z8AAAAAAEDvPwAAAAAAgO8/AAAAAADA7z8AAAAAAADwPwAAAAAAIPA/\",\"dtype\":\"float64\",\"order\":\"little\",\"shape\":[129]},\"top\":{\"__ndarray__\":\"AAAAAAAALkAAAAAAAAA5QAAAAAAAAD5AAAAAAAAAOEAAAAAAAIBBQAAAAAAAgEJAAAAAAAAAPkAAAAAAAIBCQAAAAAAAgEFAsK+vr68vREAAAAAAAIBEQAAAAAAAAERAAAAAAAAAQEAAAAAAAIBEQAAAAAAAgENAAAAAAACAS0AAAAAAAIBEQAAAAAAAAEtAAAAAAACARkAAAAAAAIBIQAAAAAAAgEVAsK+vr68vRkCWlZWVlRVFQLCvr6+vL0NAAAAAAACARkAAAAAAAIBFQAAAAAAAAEhAAAAAAACARkAAAAAAAIBFQAAAAAAAAENAAAAAAACASECwr6+vry9EQLCvr6+vL0RAsK+vr6+vQ0Cwr6+vry9DQAAAAAAAAENAAAAAAACAQ0AAAAAAAIBCQAAAAAAAgENAAAAAAAAAPUAAAAAAAIBEQAAAAAAAAD9AAAAAAAAAPUAAAAAAAAAyQAAAAAAAAEBAAAAAAAAALkAAAAAAAAAsQAAAAAAAACpAAAAAAAAAMEAAAAAAAAAkQAAAAAAAACBAAAAAAAAAMUAAAAAAAAAUQAAAAAAAABxAAAAAAAAAIEAAAAAAAAAQQAAAAAAAABxAAAAAAAAAFEAAAAAAAAAQQAAAAAAAAAhAAAAAAAAAEEAAAAAAAAAQQAAAAAAAAPA/AAAAAAAA8D8AAAAAAAAAQAAAAAAAAAhAAAAAAAAA8D8AAAAAAADwPwAAAAAAAPA/AAAAAAAAAAAAAAAAAAAAAAAAAAAAAAAAAAAAAAAA8D8AAAAAAAAAAAAAAAAAAABAAAAAAAAA8D8AAAAAAAAAAAAAAAAAAAAAAAAAAAAAAEAAAAAAAAAAQAAAAAAAAAAAAAAAAAAAAAAAAAAAAAAAAAAAAAAAAAAAAAAAAAAAAAAAAAAAAADwPwAAAAAAAAAAAAAAAAAAAAAAAAAAAADwPwAAAAAAAAAAAAAAAAAA8D8AAAAAAAAAAAAAAAAAAAAAAAAAAAAAAEAAAAAAAADwPwAAAAAAAPA/AAAAAAAAAAAAAAAAAADwPwAAAAAAAAhAAAAAAAAAAAAAAAAAAAAIQAAAAAAAAABAAAAAAAAAEEAAAAAAAADwPwAAAAAAAPA/AAAAAAAA8D8AAAAAAAAAAAAAAAAAAPA/AAAAAAAA8D8AAAAAAAAAQAAAAAAAAAAAAAAAAAAAAEAAAAAAAAAIQAAAAAAAAAAAAAAAAAAA8D8AAAAAAAAAQAAAAAAAAAAAAAAAAAAA8D8AAAAAAAAAAAAAAAAAAAAAAAAAAAAAAAAAAAAAAAAAAAAAAAAAAAAAAAAAAAAAAAAAAAAAAAAAAAAAAAAAAAAAAAAAAAAAAAAAAAAAAAAAAAAAAAAAAPA/\",\"dtype\":\"float64\",\"order\":\"little\",\"shape\":[129]}},\"selected\":{\"id\":\"2398\"},\"selection_policy\":{\"id\":\"2399\"}},\"id\":\"2287\",\"type\":\"ColumnDataSource\"},{\"attributes\":{\"bottom\":{\"value\":0},\"fill_color\":{\"value\":\"navy\"},\"left\":{\"field\":\"left\"},\"line_color\":{\"value\":\"navy\"},\"right\":{\"field\":\"right\"},\"top\":{\"field\":\"top\"}},\"id\":\"2288\",\"type\":\"Quad\"},{\"attributes\":{},\"id\":\"2399\",\"type\":\"UnionRenderers\"},{\"attributes\":{},\"id\":\"2394\",\"type\":\"BasicTickFormatter\"},{\"attributes\":{\"bottom\":{\"value\":0},\"fill_alpha\":{\"value\":0.1},\"fill_color\":{\"value\":\"navy\"},\"left\":{\"field\":\"left\"},\"line_alpha\":{\"value\":0.1},\"line_color\":{\"value\":\"navy\"},\"right\":{\"field\":\"right\"},\"top\":{\"field\":\"top\"}},\"id\":\"2289\",\"type\":\"Quad\"},{\"attributes\":{\"text\":\"NEOM MAR Score\"},\"id\":\"2255\",\"type\":\"Title\"},{\"attributes\":{\"formatter\":{\"id\":\"2394\"},\"ticker\":{\"id\":\"2266\"}},\"id\":\"2265\",\"type\":\"LinearAxis\"},{\"attributes\":{},\"id\":\"2257\",\"type\":\"DataRange1d\"},{\"attributes\":{},\"id\":\"2278\",\"type\":\"HelpTool\"},{\"attributes\":{},\"id\":\"2266\",\"type\":\"BasicTicker\"},{\"attributes\":{\"active_drag\":\"auto\",\"active_inspect\":\"auto\",\"active_multi\":null,\"active_scroll\":\"auto\",\"active_tap\":\"auto\",\"tools\":[{\"id\":\"2273\"},{\"id\":\"2274\"},{\"id\":\"2275\"},{\"id\":\"2276\"},{\"id\":\"2277\"},{\"id\":\"2278\"}]},\"id\":\"2280\",\"type\":\"Toolbar\"},{\"attributes\":{},\"id\":\"2261\",\"type\":\"LinearScale\"},{\"attributes\":{\"bottom_units\":\"screen\",\"fill_alpha\":0.5,\"fill_color\":\"lightgrey\",\"left_units\":\"screen\",\"level\":\"overlay\",\"line_alpha\":1.0,\"line_color\":\"black\",\"line_dash\":[4,4],\"line_width\":2,\"right_units\":\"screen\",\"top_units\":\"screen\"},\"id\":\"2279\",\"type\":\"BoxAnnotation\"},{\"attributes\":{\"axis\":{\"id\":\"2265\"},\"ticker\":null},\"id\":\"2268\",\"type\":\"Grid\"},{\"attributes\":{},\"id\":\"2263\",\"type\":\"LinearScale\"},{\"attributes\":{},\"id\":\"2396\",\"type\":\"BasicTickFormatter\"},{\"attributes\":{\"data_source\":{\"id\":\"2287\"},\"glyph\":{\"id\":\"2288\"},\"hover_glyph\":null,\"muted_glyph\":null,\"nonselection_glyph\":{\"id\":\"2289\"},\"selection_glyph\":null,\"view\":{\"id\":\"2291\"}},\"id\":\"2290\",\"type\":\"GlyphRenderer\"},{\"attributes\":{},\"id\":\"2398\",\"type\":\"Selection\"},{\"attributes\":{\"axis\":{\"id\":\"2269\"},\"dimension\":1,\"ticker\":null},\"id\":\"2272\",\"type\":\"Grid\"},{\"attributes\":{},\"id\":\"2270\",\"type\":\"BasicTicker\"}],\"root_ids\":[\"2254\"]},\"title\":\"Bokeh Application\",\"version\":\"2.2.3\"}};\n",
       "  var render_items = [{\"docid\":\"8b54309c-eb41-4ef9-ac02-0c3ee483b055\",\"root_ids\":[\"2254\"],\"roots\":{\"2254\":\"73ac8390-2dc6-498c-9654-0c7ea116ac64\"}}];\n",
       "  root.Bokeh.embed.embed_items_notebook(docs_json, render_items);\n",
       "\n",
       "  }\n",
       "  if (root.Bokeh !== undefined) {\n",
       "    embed_document(root);\n",
       "  } else {\n",
       "    var attempts = 0;\n",
       "    var timer = setInterval(function(root) {\n",
       "      if (root.Bokeh !== undefined) {\n",
       "        clearInterval(timer);\n",
       "        embed_document(root);\n",
       "      } else {\n",
       "        attempts++;\n",
       "        if (attempts > 100) {\n",
       "          clearInterval(timer);\n",
       "          console.log(\"Bokeh: ERROR: Unable to run BokehJS code because BokehJS library is missing\");\n",
       "        }\n",
       "      }\n",
       "    }, 10, root)\n",
       "  }\n",
       "})(window);"
      ],
      "application/vnd.bokehjs_exec.v0+json": ""
     },
     "metadata": {
      "application/vnd.bokehjs_exec.v0+json": {
       "id": "2254"
      }
     },
     "output_type": "display_data"
    }
   ],
   "source": [
    "# Plot a histogram of the scores\n",
    "score_hist = ee.Dictionary(\n",
    "    score.clip(bbox)\n",
    "    .reduceRegion(\n",
    "        ee.Reducer.histogram()).get('score'))\n",
    "\n",
    "hist = np.array(score_hist.get('histogram').getInfo())\n",
    "edges = (\n",
    "    (np.array(list(range(len(hist) + 1))) * \n",
    "     np.array(score_hist.get('bucketWidth').getInfo())) + \n",
    "    np.array(score_hist.get('bucketMin').getInfo()) )\n",
    "\n",
    "p = figure(\n",
    "    title='NEOM MAR Score', \n",
    "    background_fill_color=\"white\", height = 300)\n",
    "_ = p.quad(\n",
    "    top=hist,\n",
    "    bottom=0,\n",
    "    left=edges[:-1],\n",
    "    right=edges[1:],\n",
    "    fill_color=\"navy\",\n",
    "    line_color=\"navy\",\n",
    "    alpha=1.)\n",
    "show(p)"
   ]
  },
  {
   "cell_type": "code",
   "execution_count": 18,
   "metadata": {},
   "outputs": [
    {
     "data": {
      "text/html": [
       "\n",
       "\n",
       "\n",
       "\n",
       "\n",
       "\n",
       "  <div class=\"bk-root\" id=\"2e203a01-d2b0-4a85-90cd-bbd160195d93\" data-root-id=\"2440\"></div>\n"
      ]
     },
     "metadata": {},
     "output_type": "display_data"
    },
    {
     "data": {
      "application/javascript": [
       "(function(root) {\n",
       "  function embed_document(root) {\n",
       "    \n",
       "  var docs_json = {\"d8cd30a8-443b-494c-aea7-56892a92ba50\":{\"roots\":{\"references\":[{\"attributes\":{\"below\":[{\"id\":\"2451\"}],\"center\":[{\"id\":\"2454\"},{\"id\":\"2458\"}],\"left\":[{\"id\":\"2455\"}],\"plot_height\":75,\"plot_width\":500,\"renderers\":[{\"id\":\"2476\"}],\"title\":{\"id\":\"2441\"},\"toolbar\":{\"id\":\"2466\"},\"x_range\":{\"id\":\"2443\"},\"x_scale\":{\"id\":\"2447\"},\"y_range\":{\"id\":\"2445\"},\"y_scale\":{\"id\":\"2449\"}},\"id\":\"2440\",\"subtype\":\"Figure\",\"type\":\"Plot\"},{\"attributes\":{\"source\":{\"id\":\"2473\"}},\"id\":\"2477\",\"type\":\"CDSView\"},{\"attributes\":{},\"id\":\"2592\",\"type\":\"Selection\"},{\"attributes\":{\"data\":{\"bottom\":[1,1,1,1],\"fill_color\":[\"#1b9e77\",\"#d95f02\",\"#7570b3\",\"#e7298a\"],\"line_color\":[\"#1b9e77\",\"#d95f02\",\"#7570b3\",\"#e7298a\"],\"top\":[0,0,0,0],\"x\":[0.125,0.375,0.625,0.875]},\"selected\":{\"id\":\"2592\"},\"selection_policy\":{\"id\":\"2593\"}},\"id\":\"2473\",\"type\":\"ColumnDataSource\"},{\"attributes\":{\"formatter\":{\"id\":\"2590\"},\"ticker\":{\"id\":\"2456\"}},\"id\":\"2455\",\"type\":\"LinearAxis\"},{\"attributes\":{},\"id\":\"2593\",\"type\":\"UnionRenderers\"},{\"attributes\":{},\"id\":\"2443\",\"type\":\"DataRange1d\"},{\"attributes\":{\"bottom_units\":\"screen\",\"fill_alpha\":0.5,\"fill_color\":\"lightgrey\",\"left_units\":\"screen\",\"level\":\"overlay\",\"line_alpha\":1.0,\"line_color\":\"black\",\"line_dash\":[4,4],\"line_width\":2,\"right_units\":\"screen\",\"top_units\":\"screen\"},\"id\":\"2465\",\"type\":\"BoxAnnotation\"},{\"attributes\":{},\"id\":\"2452\",\"type\":\"BasicTicker\"},{\"attributes\":{},\"id\":\"2464\",\"type\":\"HelpTool\"},{\"attributes\":{\"formatter\":{\"id\":\"2588\"},\"ticker\":{\"id\":\"2452\"}},\"id\":\"2451\",\"type\":\"LinearAxis\"},{\"attributes\":{},\"id\":\"2449\",\"type\":\"LinearScale\"},{\"attributes\":{\"bottom\":{\"field\":\"bottom\"},\"fill_color\":{\"field\":\"fill_color\"},\"line_color\":{\"field\":\"line_color\"},\"top\":{\"field\":\"top\"},\"width\":{\"value\":0.25},\"x\":{\"field\":\"x\"}},\"id\":\"2474\",\"type\":\"VBar\"},{\"attributes\":{},\"id\":\"2445\",\"type\":\"DataRange1d\"},{\"attributes\":{\"bottom\":{\"field\":\"bottom\"},\"fill_alpha\":{\"value\":0.1},\"fill_color\":{\"field\":\"fill_color\"},\"line_alpha\":{\"value\":0.1},\"line_color\":{\"field\":\"line_color\"},\"top\":{\"field\":\"top\"},\"width\":{\"value\":0.25},\"x\":{\"field\":\"x\"}},\"id\":\"2475\",\"type\":\"VBar\"},{\"attributes\":{},\"id\":\"2447\",\"type\":\"LinearScale\"},{\"attributes\":{\"text\":\"NEOM MAR Score\"},\"id\":\"2441\",\"type\":\"Title\"},{\"attributes\":{\"axis\":{\"id\":\"2451\"},\"ticker\":null},\"id\":\"2454\",\"type\":\"Grid\"},{\"attributes\":{\"axis\":{\"id\":\"2455\"},\"dimension\":1,\"ticker\":null},\"id\":\"2458\",\"type\":\"Grid\"},{\"attributes\":{},\"id\":\"2588\",\"type\":\"BasicTickFormatter\"},{\"attributes\":{},\"id\":\"2456\",\"type\":\"BasicTicker\"},{\"attributes\":{\"active_drag\":\"auto\",\"active_inspect\":\"auto\",\"active_multi\":null,\"active_scroll\":\"auto\",\"active_tap\":\"auto\",\"tools\":[{\"id\":\"2459\"},{\"id\":\"2460\"},{\"id\":\"2461\"},{\"id\":\"2462\"},{\"id\":\"2463\"},{\"id\":\"2464\"}]},\"id\":\"2466\",\"type\":\"Toolbar\"},{\"attributes\":{},\"id\":\"2459\",\"type\":\"PanTool\"},{\"attributes\":{},\"id\":\"2462\",\"type\":\"SaveTool\"},{\"attributes\":{\"overlay\":{\"id\":\"2465\"}},\"id\":\"2461\",\"type\":\"BoxZoomTool\"},{\"attributes\":{},\"id\":\"2460\",\"type\":\"WheelZoomTool\"},{\"attributes\":{},\"id\":\"2463\",\"type\":\"ResetTool\"},{\"attributes\":{\"data_source\":{\"id\":\"2473\"},\"glyph\":{\"id\":\"2474\"},\"hover_glyph\":null,\"muted_glyph\":null,\"nonselection_glyph\":{\"id\":\"2475\"},\"selection_glyph\":null,\"view\":{\"id\":\"2477\"}},\"id\":\"2476\",\"type\":\"GlyphRenderer\"},{\"attributes\":{},\"id\":\"2590\",\"type\":\"BasicTickFormatter\"}],\"root_ids\":[\"2440\"]},\"title\":\"Bokeh Application\",\"version\":\"2.2.3\"}};\n",
       "  var render_items = [{\"docid\":\"d8cd30a8-443b-494c-aea7-56892a92ba50\",\"root_ids\":[\"2440\"],\"roots\":{\"2440\":\"2e203a01-d2b0-4a85-90cd-bbd160195d93\"}}];\n",
       "  root.Bokeh.embed.embed_items_notebook(docs_json, render_items);\n",
       "\n",
       "  }\n",
       "  if (root.Bokeh !== undefined) {\n",
       "    embed_document(root);\n",
       "  } else {\n",
       "    var attempts = 0;\n",
       "    var timer = setInterval(function(root) {\n",
       "      if (root.Bokeh !== undefined) {\n",
       "        clearInterval(timer);\n",
       "        embed_document(root);\n",
       "      } else {\n",
       "        attempts++;\n",
       "        if (attempts > 100) {\n",
       "          clearInterval(timer);\n",
       "          console.log(\"Bokeh: ERROR: Unable to run BokehJS code because BokehJS library is missing\");\n",
       "        }\n",
       "      }\n",
       "    }, 10, root)\n",
       "  }\n",
       "})(window);"
      ],
      "application/vnd.bokehjs_exec.v0+json": ""
     },
     "metadata": {
      "application/vnd.bokehjs_exec.v0+json": {
       "id": "2440"
      }
     },
     "output_type": "display_data"
    }
   ],
   "source": [
    "vis_range = [0,1]\n",
    "vis_image = score\n",
    "palette_name = 'Dark2'\n",
    "palette_len = 4\n",
    "palette = vis.brewer[palette_name][palette_len][::]\n",
    "vis.legend(\n",
    "    palette=palette, minimum=vis_range[0], maximum=vis_range[1], title='NEOM MAR Score')\n",
    "\n",
    "vis_params = {\n",
    "    'min': vis_range[0], 'max': vis_range[1], \n",
    "    'dimensions': 512,\n",
    "    'palette': palette}"
   ]
  },
  {
   "cell_type": "code",
   "execution_count": 19,
   "metadata": {},
   "outputs": [
    {
     "data": {
      "text/html": [
       "<div style=\"width:100%;\"><div style=\"position:relative;width:100%;height:0;padding-bottom:60%;\"><span style=\"color:#565656\">Make this Notebook Trusted to load map: File -> Trust Notebook</span><iframe src=\"about:blank\" style=\"position:absolute;width:100%;height:100%;left:0;top:0;border:none !important;\" data-html=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 onload=\"this.contentDocument.open();this.contentDocument.write(atob(this.getAttribute('data-html')));this.contentDocument.close();\" allowfullscreen webkitallowfullscreen mozallowfullscreen></iframe></div></div>"
      ],
      "text/plain": [
       "<folium.folium.Map at 0x7fa038846d60>"
      ]
     },
     "metadata": {},
     "output_type": "display_data"
    }
   ],
   "source": [
    "the_map = vis.folium_map(location=[center_lat, center_lon], zoom_start=8, height=700)\n",
    "the_map.add_ee_layer(score, vis_params, 'NEOM MAR Score')\n",
    "vis.folium_display(the_map)"
   ]
  },
  {
   "cell_type": "markdown",
   "metadata": {},
   "source": [
    "## Export map"
   ]
  },
  {
   "cell_type": "code",
   "execution_count": 20,
   "metadata": {},
   "outputs": [],
   "source": [
    "collection_name = 'users/jamesmcc/NEOM'\n",
    "max_pixels = 100000000000  #For global is quite large\n",
    "description = \"NEOM MAR Score\""
   ]
  },
  {
   "cell_type": "code",
   "execution_count": 21,
   "metadata": {},
   "outputs": [],
   "source": [
    "#_ = ee.batch.Export.image.toAsset(\n",
    "#        score,\n",
    "#        description=description, \n",
    "#        assetId=collection_name + '/' + 'NEOM_MAR_Score',\n",
    "#        region=bbox, \n",
    "#        scale=100,\n",
    "#        maxPixels=max_pixels).start()"
   ]
  },
  {
   "cell_type": "markdown",
   "metadata": {},
   "source": [
    "## Notes"
   ]
  },
  {
   "cell_type": "markdown",
   "metadata": {},
   "source": [
    "We can not calculate/sum the potential runoff score as it's highly spatially correlated. Need a proper hydrologic processing system to do that. \n",
    "\n",
    "The potential runoff and the score also reflect the ad hoc nature of the potential runoff calculation (again, a proper hydrologic system / model would fix this). Potential runoff should be strictly increasing in the downstream direction along the stream channel network but does not appear this way as runoff can vary abruptly with ERA5 model grid cell. The ad hoc calculation of potential runoff assumes that the runoff at a point is homogeneous/representative of its upstream area. This is not a good assumption in dry regions or seasons with convective precipitation and is why the total contributing area constraint is applied. "
   ]
  }
 ],
 "metadata": {
  "kernelspec": {
   "display_name": "Python 3",
   "language": "python",
   "name": "python3"
  },
  "language_info": {
   "codemirror_mode": {
    "name": "ipython",
    "version": 3
   },
   "file_extension": ".py",
   "mimetype": "text/x-python",
   "name": "python",
   "nbconvert_exporter": "python",
   "pygments_lexer": "ipython3",
   "version": "3.7.6"
  }
 },
 "nbformat": 4,
 "nbformat_minor": 4
}
